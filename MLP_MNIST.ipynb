{
  "cells": [
    {
      "cell_type": "markdown",
      "metadata": {
        "id": "view-in-github",
        "colab_type": "text"
      },
      "source": [
        "<a href=\"https://colab.research.google.com/github/ereinha/SineKAN/blob/main/MLP_MNIST.ipynb\" target=\"_parent\"><img src=\"https://colab.research.google.com/assets/colab-badge.svg\" alt=\"Open In Colab\"/></a>"
      ]
    },
    {
      "cell_type": "code",
      "execution_count": 2,
      "metadata": {
        "id": "pb5N8Ayea-QZ"
      },
      "outputs": [],
      "source": [
        "import numpy as np\n",
        "import torch\n",
        "import torch.nn as nn\n",
        "import torch.optim as optim\n",
        "import torchvision\n",
        "import torchvision.transforms as transforms\n",
        "from torch.utils.data import DataLoader\n",
        "from tqdm import tqdm\n",
        "from sklearn.metrics import precision_score, recall_score, f1_score"
      ]
    },
    {
      "cell_type": "code",
      "execution_count": 3,
      "metadata": {
        "id": "upP2CJLyM0sT"
      },
      "outputs": [],
      "source": [
        "class MLP(nn.Module):\n",
        "    def __init__(self, layers_hidden):\n",
        "        super(MLP, self).__init__()\n",
        "        self.layers = nn.ModuleList()\n",
        "        for i in range(len(layers_hidden) - 1):\n",
        "            self.layers.append(nn.Linear(layers_hidden[i], layers_hidden[i + 1]))\n",
        "            if i < len(layers_hidden) - 2:\n",
        "                self.layers.append(nn.ReLU())\n",
        "\n",
        "    def forward(self, x):\n",
        "        for layer in self.layers:\n",
        "            x = layer(x)\n",
        "        return x"
      ]
    },
    {
      "cell_type": "code",
      "execution_count": 4,
      "metadata": {
        "id": "_OYd8RAu5fSf"
      },
      "outputs": [],
      "source": [
        "# Load MNIST\n",
        "transform = transforms.Compose(\n",
        "    [transforms.ToTensor(), transforms.Normalize((0.5,), (0.5,))]\n",
        ")\n",
        "trainset = torchvision.datasets.MNIST(\n",
        "    root=\"./data\", train=True, download=True, transform=transform\n",
        ")\n",
        "valset = torchvision.datasets.MNIST(\n",
        "    root=\"./data\", train=False, download=True, transform=transform\n",
        ")\n",
        "train_loader = DataLoader(trainset, batch_size=64, num_workers=2, shuffle=True)\n",
        "val_loader = DataLoader(valset, batch_size=64, num_workers=2, shuffle=False)"
      ]
    },
    {
      "cell_type": "code",
      "execution_count": null,
      "metadata": {
        "colab": {
          "base_uri": "https://localhost:8080/"
        },
        "id": "7z9Q5gv73Ngn",
        "outputId": "bc932e78-8ddc-4f68-ea5a-5c63a1bc6247"
      },
      "outputs": [
        {
          "name": "stderr",
          "output_type": "stream",
          "text": [
            "100%|██████████| 938/938 [00:40<00:00, 23.17it/s, accuracy=0.938, loss=0.246, lr=0.0008]\n"
          ]
        },
        {
          "name": "stdout",
          "output_type": "stream",
          "text": [
            "Epoch 1, Val Loss: 0.2780421424099499, Val Accuracy: 0.9196855095541401\n"
          ]
        },
        {
          "name": "stderr",
          "output_type": "stream",
          "text": [
            "100%|██████████| 938/938 [00:39<00:00, 23.65it/s, accuracy=0.906, loss=0.282, lr=0.00064]\n"
          ]
        },
        {
          "name": "stdout",
          "output_type": "stream",
          "text": [
            "Epoch 2, Val Loss: 0.24632722592562628, Val Accuracy: 0.9284434713375797\n"
          ]
        },
        {
          "name": "stderr",
          "output_type": "stream",
          "text": [
            "100%|██████████| 938/938 [00:39<00:00, 23.71it/s, accuracy=0.938, loss=0.14, lr=0.000512]\n"
          ]
        },
        {
          "name": "stdout",
          "output_type": "stream",
          "text": [
            "Epoch 3, Val Loss: 0.2081846356344451, Val Accuracy: 0.9404856687898089\n"
          ]
        },
        {
          "name": "stderr",
          "output_type": "stream",
          "text": [
            "100%|██████████| 938/938 [00:38<00:00, 24.45it/s, accuracy=0.938, loss=0.414, lr=0.00041]\n"
          ]
        },
        {
          "name": "stdout",
          "output_type": "stream",
          "text": [
            "Epoch 4, Val Loss: 0.18635592342407745, Val Accuracy: 0.9448646496815286\n"
          ]
        },
        {
          "name": "stderr",
          "output_type": "stream",
          "text": [
            "100%|██████████| 938/938 [00:36<00:00, 25.76it/s, accuracy=0.969, loss=0.0964, lr=0.000328]\n"
          ]
        },
        {
          "name": "stdout",
          "output_type": "stream",
          "text": [
            "Epoch 5, Val Loss: 0.1706394723936868, Val Accuracy: 0.951234076433121\n"
          ]
        },
        {
          "name": "stderr",
          "output_type": "stream",
          "text": [
            "100%|██████████| 938/938 [00:37<00:00, 24.89it/s, accuracy=0.969, loss=0.0552, lr=0.000262]\n"
          ]
        },
        {
          "name": "stdout",
          "output_type": "stream",
          "text": [
            "Epoch 6, Val Loss: 0.16100944915881296, Val Accuracy: 0.9544187898089171\n"
          ]
        },
        {
          "name": "stderr",
          "output_type": "stream",
          "text": [
            "100%|██████████| 938/938 [00:38<00:00, 24.13it/s, accuracy=0.969, loss=0.0776, lr=0.00021]\n"
          ]
        },
        {
          "name": "stdout",
          "output_type": "stream",
          "text": [
            "Epoch 7, Val Loss: 0.15838242003361985, Val Accuracy: 0.9523288216560509\n"
          ]
        },
        {
          "name": "stderr",
          "output_type": "stream",
          "text": [
            "100%|██████████| 938/938 [00:38<00:00, 24.38it/s, accuracy=0.969, loss=0.149, lr=0.000168]\n"
          ]
        },
        {
          "name": "stdout",
          "output_type": "stream",
          "text": [
            "Epoch 8, Val Loss: 0.15344572143190227, Val Accuracy: 0.9548168789808917\n"
          ]
        },
        {
          "name": "stderr",
          "output_type": "stream",
          "text": [
            "100%|██████████| 938/938 [00:37<00:00, 25.25it/s, accuracy=0.969, loss=0.165, lr=0.000134]\n"
          ]
        },
        {
          "name": "stdout",
          "output_type": "stream",
          "text": [
            "Epoch 9, Val Loss: 0.14904665913148102, Val Accuracy: 0.9567078025477707\n"
          ]
        },
        {
          "name": "stderr",
          "output_type": "stream",
          "text": [
            "100%|██████████| 938/938 [00:38<00:00, 24.65it/s, accuracy=0.969, loss=0.151, lr=0.000107]\n"
          ]
        },
        {
          "name": "stdout",
          "output_type": "stream",
          "text": [
            "Epoch 10, Val Loss: 0.14470780730710192, Val Accuracy: 0.9566082802547771\n"
          ]
        },
        {
          "name": "stderr",
          "output_type": "stream",
          "text": [
            "100%|██████████| 938/938 [00:37<00:00, 24.84it/s, accuracy=0.938, loss=0.308, lr=8.59e-5]\n"
          ]
        },
        {
          "name": "stdout",
          "output_type": "stream",
          "text": [
            "Epoch 11, Val Loss: 0.14290713463393842, Val Accuracy: 0.9580015923566879\n"
          ]
        },
        {
          "name": "stderr",
          "output_type": "stream",
          "text": [
            "100%|██████████| 938/938 [00:39<00:00, 23.95it/s, accuracy=1, loss=0.0215, lr=6.87e-5]\n"
          ]
        },
        {
          "name": "stdout",
          "output_type": "stream",
          "text": [
            "Epoch 12, Val Loss: 0.14146223520729573, Val Accuracy: 0.9593949044585988\n"
          ]
        },
        {
          "name": "stderr",
          "output_type": "stream",
          "text": [
            "100%|██████████| 938/938 [00:39<00:00, 23.46it/s, accuracy=0.969, loss=0.0693, lr=5.5e-5]\n"
          ]
        },
        {
          "name": "stdout",
          "output_type": "stream",
          "text": [
            "Epoch 13, Val Loss: 0.14065905940677426, Val Accuracy: 0.9581011146496815\n"
          ]
        },
        {
          "name": "stderr",
          "output_type": "stream",
          "text": [
            "100%|██████████| 938/938 [00:38<00:00, 24.61it/s, accuracy=0.938, loss=0.164, lr=4.4e-5]\n"
          ]
        },
        {
          "name": "stdout",
          "output_type": "stream",
          "text": [
            "Epoch 14, Val Loss: 0.1402598691801689, Val Accuracy: 0.9593949044585988\n"
          ]
        },
        {
          "name": "stderr",
          "output_type": "stream",
          "text": [
            "100%|██████████| 938/938 [00:37<00:00, 24.86it/s, accuracy=1, loss=0.0749, lr=3.52e-5]\n"
          ]
        },
        {
          "name": "stdout",
          "output_type": "stream",
          "text": [
            "Epoch 15, Val Loss: 0.13860533824101517, Val Accuracy: 0.959593949044586\n"
          ]
        },
        {
          "name": "stderr",
          "output_type": "stream",
          "text": [
            "100%|██████████| 938/938 [00:36<00:00, 25.45it/s, accuracy=0.969, loss=0.0765, lr=2.81e-5]\n"
          ]
        },
        {
          "name": "stdout",
          "output_type": "stream",
          "text": [
            "Epoch 16, Val Loss: 0.1385141352449609, Val Accuracy: 0.9596934713375797\n"
          ]
        },
        {
          "name": "stderr",
          "output_type": "stream",
          "text": [
            "100%|██████████| 938/938 [00:38<00:00, 24.52it/s, accuracy=0.969, loss=0.24, lr=2.25e-5]\n"
          ]
        },
        {
          "name": "stdout",
          "output_type": "stream",
          "text": [
            "Epoch 17, Val Loss: 0.13745439119761585, Val Accuracy: 0.959593949044586\n"
          ]
        },
        {
          "name": "stderr",
          "output_type": "stream",
          "text": [
            "100%|██████████| 938/938 [00:39<00:00, 23.68it/s, accuracy=0.781, loss=0.622, lr=1.8e-5]\n"
          ]
        },
        {
          "name": "stdout",
          "output_type": "stream",
          "text": [
            "Epoch 18, Val Loss: 0.13734608806912924, Val Accuracy: 0.9594944267515924\n"
          ]
        },
        {
          "name": "stderr",
          "output_type": "stream",
          "text": [
            "100%|██████████| 938/938 [00:38<00:00, 24.29it/s, accuracy=0.906, loss=0.329, lr=1.44e-5]\n"
          ]
        },
        {
          "name": "stdout",
          "output_type": "stream",
          "text": [
            "Epoch 19, Val Loss: 0.13722002643285094, Val Accuracy: 0.959593949044586\n"
          ]
        },
        {
          "name": "stderr",
          "output_type": "stream",
          "text": [
            "100%|██████████| 938/938 [00:37<00:00, 24.81it/s, accuracy=0.938, loss=0.212, lr=1.15e-5]\n"
          ]
        },
        {
          "name": "stdout",
          "output_type": "stream",
          "text": [
            "Epoch 20, Val Loss: 0.13726993290571032, Val Accuracy: 0.9592953821656051\n"
          ]
        },
        {
          "name": "stderr",
          "output_type": "stream",
          "text": [
            "100%|██████████| 938/938 [00:37<00:00, 25.05it/s, accuracy=1, loss=0.045, lr=9.22e-6]\n"
          ]
        },
        {
          "name": "stdout",
          "output_type": "stream",
          "text": [
            "Epoch 21, Val Loss: 0.1368128484631088, Val Accuracy: 0.9600915605095541\n"
          ]
        },
        {
          "name": "stderr",
          "output_type": "stream",
          "text": [
            "100%|██████████| 938/938 [00:39<00:00, 23.79it/s, accuracy=1, loss=0.0402, lr=7.38e-6]\n"
          ]
        },
        {
          "name": "stdout",
          "output_type": "stream",
          "text": [
            "Epoch 22, Val Loss: 0.13654410824399132, Val Accuracy: 0.9597929936305732\n"
          ]
        },
        {
          "name": "stderr",
          "output_type": "stream",
          "text": [
            "100%|██████████| 938/938 [00:39<00:00, 23.90it/s, accuracy=0.906, loss=0.291, lr=5.9e-6]\n"
          ]
        },
        {
          "name": "stdout",
          "output_type": "stream",
          "text": [
            "Epoch 23, Val Loss: 0.13639142900663814, Val Accuracy: 0.9597929936305732\n"
          ]
        },
        {
          "name": "stderr",
          "output_type": "stream",
          "text": [
            "100%|██████████| 938/938 [00:38<00:00, 24.35it/s, accuracy=0.938, loss=0.285, lr=4.72e-6]\n"
          ]
        },
        {
          "name": "stdout",
          "output_type": "stream",
          "text": [
            "Epoch 24, Val Loss: 0.13634858949993778, Val Accuracy: 0.9598925159235668\n"
          ]
        },
        {
          "name": "stderr",
          "output_type": "stream",
          "text": [
            "100%|██████████| 938/938 [00:37<00:00, 24.73it/s, accuracy=0.938, loss=0.308, lr=3.78e-6]\n"
          ]
        },
        {
          "name": "stdout",
          "output_type": "stream",
          "text": [
            "Epoch 25, Val Loss: 0.1364185376297445, Val Accuracy: 0.9602906050955414\n"
          ]
        },
        {
          "name": "stderr",
          "output_type": "stream",
          "text": [
            "100%|██████████| 938/938 [00:38<00:00, 24.23it/s, accuracy=0.938, loss=0.136, lr=3.02e-6]\n"
          ]
        },
        {
          "name": "stdout",
          "output_type": "stream",
          "text": [
            "Epoch 26, Val Loss: 0.13634197318119703, Val Accuracy: 0.9602906050955414\n"
          ]
        },
        {
          "name": "stderr",
          "output_type": "stream",
          "text": [
            "100%|██████████| 938/938 [00:39<00:00, 24.03it/s, accuracy=0.938, loss=0.195, lr=2.42e-6]\n"
          ]
        },
        {
          "name": "stdout",
          "output_type": "stream",
          "text": [
            "Epoch 27, Val Loss: 0.1361751557286283, Val Accuracy: 0.9600915605095541\n"
          ]
        },
        {
          "name": "stderr",
          "output_type": "stream",
          "text": [
            "100%|██████████| 938/938 [00:39<00:00, 23.74it/s, accuracy=0.969, loss=0.0444, lr=1.93e-6]\n"
          ]
        },
        {
          "name": "stdout",
          "output_type": "stream",
          "text": [
            "Epoch 28, Val Loss: 0.13614801586469172, Val Accuracy: 0.9600915605095541\n"
          ]
        },
        {
          "name": "stderr",
          "output_type": "stream",
          "text": [
            "100%|██████████| 938/938 [00:39<00:00, 23.91it/s, accuracy=0.938, loss=0.0966, lr=1.55e-6]\n"
          ]
        },
        {
          "name": "stdout",
          "output_type": "stream",
          "text": [
            "Epoch 29, Val Loss: 0.13617117926003827, Val Accuracy: 0.9601910828025477\n"
          ]
        },
        {
          "name": "stderr",
          "output_type": "stream",
          "text": [
            "100%|██████████| 938/938 [00:39<00:00, 23.75it/s, accuracy=0.969, loss=0.0949, lr=1.24e-6]\n"
          ]
        },
        {
          "name": "stdout",
          "output_type": "stream",
          "text": [
            "Epoch 30, Val Loss: 0.1360867362347829, Val Accuracy: 0.9601910828025477\n",
            "LR: 0.0008 Gamma: 0.8 Hdim: 64 Best Accuracy: 0.9602906050955414\n"
          ]
        },
        {
          "name": "stderr",
          "output_type": "stream",
          "text": [
            "100%|██████████| 938/938 [00:37<00:00, 25.04it/s, accuracy=0.938, loss=0.134, lr=0.0008]\n"
          ]
        },
        {
          "name": "stdout",
          "output_type": "stream",
          "text": [
            "Epoch 1, Val Loss: 0.24920118076928482, Val Accuracy: 0.9260549363057324\n"
          ]
        },
        {
          "name": "stderr",
          "output_type": "stream",
          "text": [
            "100%|██████████| 938/938 [00:38<00:00, 24.13it/s, accuracy=0.938, loss=0.156, lr=0.00064]\n"
          ]
        },
        {
          "name": "stdout",
          "output_type": "stream",
          "text": [
            "Epoch 2, Val Loss: 0.17392844761051474, Val Accuracy: 0.950437898089172\n"
          ]
        },
        {
          "name": "stderr",
          "output_type": "stream",
          "text": [
            "100%|██████████| 938/938 [00:39<00:00, 23.90it/s, accuracy=0.969, loss=0.0728, lr=0.000512]\n"
          ]
        },
        {
          "name": "stdout",
          "output_type": "stream",
          "text": [
            "Epoch 3, Val Loss: 0.14380557364102003, Val Accuracy: 0.955812101910828\n"
          ]
        },
        {
          "name": "stderr",
          "output_type": "stream",
          "text": [
            "100%|██████████| 938/938 [00:41<00:00, 22.84it/s, accuracy=1, loss=0.0372, lr=0.00041]\n"
          ]
        },
        {
          "name": "stdout",
          "output_type": "stream",
          "text": [
            "Epoch 4, Val Loss: 0.12020689398450718, Val Accuracy: 0.9643710191082803\n"
          ]
        },
        {
          "name": "stderr",
          "output_type": "stream",
          "text": [
            "100%|██████████| 938/938 [00:39<00:00, 23.58it/s, accuracy=0.969, loss=0.161, lr=0.000328]\n"
          ]
        },
        {
          "name": "stdout",
          "output_type": "stream",
          "text": [
            "Epoch 5, Val Loss: 0.10983021677750501, Val Accuracy: 0.9679538216560509\n"
          ]
        },
        {
          "name": "stderr",
          "output_type": "stream",
          "text": [
            "100%|██████████| 938/938 [00:38<00:00, 24.25it/s, accuracy=0.969, loss=0.0829, lr=0.000262]\n"
          ]
        },
        {
          "name": "stdout",
          "output_type": "stream",
          "text": [
            "Epoch 6, Val Loss: 0.10667456925259369, Val Accuracy: 0.9685509554140127\n"
          ]
        },
        {
          "name": "stderr",
          "output_type": "stream",
          "text": [
            "100%|██████████| 938/938 [00:38<00:00, 24.24it/s, accuracy=1, loss=0.0328, lr=0.00021]\n"
          ]
        },
        {
          "name": "stdout",
          "output_type": "stream",
          "text": [
            "Epoch 7, Val Loss: 0.10030387382091255, Val Accuracy: 0.970640923566879\n"
          ]
        },
        {
          "name": "stderr",
          "output_type": "stream",
          "text": [
            "100%|██████████| 938/938 [00:37<00:00, 24.69it/s, accuracy=0.969, loss=0.0771, lr=0.000168]\n"
          ]
        },
        {
          "name": "stdout",
          "output_type": "stream",
          "text": [
            "Epoch 8, Val Loss: 0.09344586809566185, Val Accuracy: 0.9727308917197452\n"
          ]
        },
        {
          "name": "stderr",
          "output_type": "stream",
          "text": [
            "100%|██████████| 938/938 [00:38<00:00, 24.35it/s, accuracy=1, loss=0.0249, lr=0.000134]\n"
          ]
        },
        {
          "name": "stdout",
          "output_type": "stream",
          "text": [
            "Epoch 9, Val Loss: 0.08956983248602338, Val Accuracy: 0.9730294585987261\n"
          ]
        },
        {
          "name": "stderr",
          "output_type": "stream",
          "text": [
            "100%|██████████| 938/938 [00:40<00:00, 23.45it/s, accuracy=1, loss=0.061, lr=0.000107]\n"
          ]
        },
        {
          "name": "stdout",
          "output_type": "stream",
          "text": [
            "Epoch 10, Val Loss: 0.09317423323329514, Val Accuracy: 0.9729299363057324\n"
          ]
        },
        {
          "name": "stderr",
          "output_type": "stream",
          "text": [
            "100%|██████████| 938/938 [00:39<00:00, 23.59it/s, accuracy=0.969, loss=0.0589, lr=8.59e-5]\n"
          ]
        },
        {
          "name": "stdout",
          "output_type": "stream",
          "text": [
            "Epoch 11, Val Loss: 0.08776877084183418, Val Accuracy: 0.9749203821656051\n"
          ]
        },
        {
          "name": "stderr",
          "output_type": "stream",
          "text": [
            "100%|██████████| 938/938 [00:38<00:00, 24.07it/s, accuracy=1, loss=0.0239, lr=6.87e-5]\n"
          ]
        },
        {
          "name": "stdout",
          "output_type": "stream",
          "text": [
            "Epoch 12, Val Loss: 0.08762890734831405, Val Accuracy: 0.9756170382165605\n"
          ]
        },
        {
          "name": "stderr",
          "output_type": "stream",
          "text": [
            "100%|██████████| 938/938 [00:37<00:00, 24.75it/s, accuracy=1, loss=0.0225, lr=5.5e-5]\n"
          ]
        },
        {
          "name": "stdout",
          "output_type": "stream",
          "text": [
            "Epoch 13, Val Loss: 0.08431791739536829, Val Accuracy: 0.9759156050955414\n"
          ]
        },
        {
          "name": "stderr",
          "output_type": "stream",
          "text": [
            "100%|██████████| 938/938 [00:38<00:00, 24.53it/s, accuracy=1, loss=0.0254, lr=4.4e-5]\n"
          ]
        },
        {
          "name": "stdout",
          "output_type": "stream",
          "text": [
            "Epoch 14, Val Loss: 0.08611996847525191, Val Accuracy: 0.975218949044586\n"
          ]
        },
        {
          "name": "stderr",
          "output_type": "stream",
          "text": [
            "100%|██████████| 938/938 [00:37<00:00, 24.79it/s, accuracy=1, loss=0.0305, lr=3.52e-5]\n"
          ]
        },
        {
          "name": "stdout",
          "output_type": "stream",
          "text": [
            "Epoch 15, Val Loss: 0.08543169340096521, Val Accuracy: 0.9756170382165605\n"
          ]
        },
        {
          "name": "stderr",
          "output_type": "stream",
          "text": [
            "100%|██████████| 938/938 [00:40<00:00, 23.42it/s, accuracy=1, loss=0.0387, lr=2.81e-5]\n"
          ]
        },
        {
          "name": "stdout",
          "output_type": "stream",
          "text": [
            "Epoch 16, Val Loss: 0.08465598426999489, Val Accuracy: 0.9765127388535032\n"
          ]
        },
        {
          "name": "stderr",
          "output_type": "stream",
          "text": [
            "100%|██████████| 938/938 [00:39<00:00, 23.80it/s, accuracy=1, loss=0.0411, lr=2.25e-5]\n"
          ]
        },
        {
          "name": "stdout",
          "output_type": "stream",
          "text": [
            "Epoch 17, Val Loss: 0.08440606822118839, Val Accuracy: 0.9751194267515924\n"
          ]
        },
        {
          "name": "stderr",
          "output_type": "stream",
          "text": [
            "100%|██████████| 938/938 [00:40<00:00, 23.27it/s, accuracy=1, loss=0.0103, lr=1.8e-5]\n"
          ]
        },
        {
          "name": "stdout",
          "output_type": "stream",
          "text": [
            "Epoch 18, Val Loss: 0.08448792364601057, Val Accuracy: 0.9757165605095541\n"
          ]
        },
        {
          "name": "stderr",
          "output_type": "stream",
          "text": [
            "100%|██████████| 938/938 [00:41<00:00, 22.74it/s, accuracy=1, loss=0.0049, lr=1.44e-5]\n"
          ]
        },
        {
          "name": "stdout",
          "output_type": "stream",
          "text": [
            "Epoch 19, Val Loss: 0.08371931902921884, Val Accuracy: 0.9754179936305732\n"
          ]
        },
        {
          "name": "stderr",
          "output_type": "stream",
          "text": [
            "100%|██████████| 938/938 [00:39<00:00, 23.60it/s, accuracy=1, loss=0.0132, lr=1.15e-5]\n"
          ]
        },
        {
          "name": "stdout",
          "output_type": "stream",
          "text": [
            "Epoch 20, Val Loss: 0.08379678853867564, Val Accuracy: 0.9754179936305732\n"
          ]
        },
        {
          "name": "stderr",
          "output_type": "stream",
          "text": [
            "100%|██████████| 938/938 [00:39<00:00, 23.74it/s, accuracy=0.938, loss=0.185, lr=9.22e-6]\n"
          ]
        },
        {
          "name": "stdout",
          "output_type": "stream",
          "text": [
            "Epoch 21, Val Loss: 0.08354939557730583, Val Accuracy: 0.9756170382165605\n"
          ]
        },
        {
          "name": "stderr",
          "output_type": "stream",
          "text": [
            "100%|██████████| 938/938 [00:41<00:00, 22.55it/s, accuracy=1, loss=0.0205, lr=7.38e-6]\n"
          ]
        },
        {
          "name": "stdout",
          "output_type": "stream",
          "text": [
            "Epoch 22, Val Loss: 0.0834506944564889, Val Accuracy: 0.9756170382165605\n"
          ]
        },
        {
          "name": "stderr",
          "output_type": "stream",
          "text": [
            "100%|██████████| 938/938 [00:40<00:00, 23.00it/s, accuracy=1, loss=0.0345, lr=5.9e-6]\n"
          ]
        },
        {
          "name": "stdout",
          "output_type": "stream",
          "text": [
            "Epoch 23, Val Loss: 0.08334190851955373, Val Accuracy: 0.9759156050955414\n"
          ]
        },
        {
          "name": "stderr",
          "output_type": "stream",
          "text": [
            "100%|██████████| 938/938 [00:40<00:00, 23.37it/s, accuracy=0.969, loss=0.0738, lr=4.72e-6]\n"
          ]
        },
        {
          "name": "stdout",
          "output_type": "stream",
          "text": [
            "Epoch 24, Val Loss: 0.0832140905093728, Val Accuracy: 0.9758160828025477\n"
          ]
        },
        {
          "name": "stderr",
          "output_type": "stream",
          "text": [
            "100%|██████████| 938/938 [00:38<00:00, 24.12it/s, accuracy=0.938, loss=0.136, lr=3.78e-6]\n"
          ]
        },
        {
          "name": "stdout",
          "output_type": "stream",
          "text": [
            "Epoch 25, Val Loss: 0.0833077848033244, Val Accuracy: 0.9759156050955414\n"
          ]
        },
        {
          "name": "stderr",
          "output_type": "stream",
          "text": [
            "100%|██████████| 938/938 [00:37<00:00, 24.69it/s, accuracy=0.969, loss=0.121, lr=3.02e-6]\n"
          ]
        },
        {
          "name": "stdout",
          "output_type": "stream",
          "text": [
            "Epoch 26, Val Loss: 0.08324620505953563, Val Accuracy: 0.9759156050955414\n"
          ]
        },
        {
          "name": "stderr",
          "output_type": "stream",
          "text": [
            "100%|██████████| 938/938 [00:38<00:00, 24.24it/s, accuracy=1, loss=0.039, lr=2.42e-6]\n"
          ]
        },
        {
          "name": "stdout",
          "output_type": "stream",
          "text": [
            "Epoch 27, Val Loss: 0.08310176601676436, Val Accuracy: 0.9757165605095541\n"
          ]
        },
        {
          "name": "stderr",
          "output_type": "stream",
          "text": [
            "100%|██████████| 938/938 [00:39<00:00, 23.68it/s, accuracy=1, loss=0.0323, lr=1.93e-6]\n"
          ]
        },
        {
          "name": "stdout",
          "output_type": "stream",
          "text": [
            "Epoch 28, Val Loss: 0.08312461907444463, Val Accuracy: 0.9758160828025477\n"
          ]
        },
        {
          "name": "stderr",
          "output_type": "stream",
          "text": [
            "100%|██████████| 938/938 [00:39<00:00, 23.47it/s, accuracy=1, loss=0.0192, lr=1.55e-6]\n"
          ]
        },
        {
          "name": "stdout",
          "output_type": "stream",
          "text": [
            "Epoch 29, Val Loss: 0.08305029823128905, Val Accuracy: 0.9757165605095541\n"
          ]
        },
        {
          "name": "stderr",
          "output_type": "stream",
          "text": [
            "100%|██████████| 938/938 [00:37<00:00, 24.74it/s, accuracy=1, loss=0.0284, lr=1.24e-6]\n"
          ]
        },
        {
          "name": "stdout",
          "output_type": "stream",
          "text": [
            "Epoch 30, Val Loss: 0.08309523047690998, Val Accuracy: 0.9757165605095541\n",
            "LR: 0.0008 Gamma: 0.8 Hdim: 128 Best Accuracy: 0.9765127388535032\n"
          ]
        },
        {
          "name": "stderr",
          "output_type": "stream",
          "text": [
            "100%|██████████| 938/938 [00:39<00:00, 23.92it/s, accuracy=0.938, loss=0.22, lr=0.0008]\n"
          ]
        },
        {
          "name": "stdout",
          "output_type": "stream",
          "text": [
            "Epoch 1, Val Loss: 0.1956070644401346, Val Accuracy: 0.9424761146496815\n"
          ]
        },
        {
          "name": "stderr",
          "output_type": "stream",
          "text": [
            "100%|██████████| 938/938 [00:39<00:00, 23.60it/s, accuracy=0.938, loss=0.152, lr=0.00064]\n"
          ]
        },
        {
          "name": "stdout",
          "output_type": "stream",
          "text": [
            "Epoch 2, Val Loss: 0.13586596714830987, Val Accuracy: 0.9606886942675159\n"
          ]
        },
        {
          "name": "stderr",
          "output_type": "stream",
          "text": [
            "100%|██████████| 938/938 [00:38<00:00, 24.29it/s, accuracy=0.938, loss=0.26, lr=0.000512]\n"
          ]
        },
        {
          "name": "stdout",
          "output_type": "stream",
          "text": [
            "Epoch 3, Val Loss: 0.11036530136765474, Val Accuracy: 0.9680533439490446\n"
          ]
        },
        {
          "name": "stderr",
          "output_type": "stream",
          "text": [
            "100%|██████████| 938/938 [00:39<00:00, 23.92it/s, accuracy=0.969, loss=0.137, lr=0.00041]\n"
          ]
        },
        {
          "name": "stdout",
          "output_type": "stream",
          "text": [
            "Epoch 4, Val Loss: 0.10434308772755395, Val Accuracy: 0.9692476114649682\n"
          ]
        },
        {
          "name": "stderr",
          "output_type": "stream",
          "text": [
            "100%|██████████| 938/938 [00:40<00:00, 23.42it/s, accuracy=0.969, loss=0.0954, lr=0.000328]\n"
          ]
        },
        {
          "name": "stdout",
          "output_type": "stream",
          "text": [
            "Epoch 5, Val Loss: 0.08971387329793114, Val Accuracy: 0.9735270700636943\n"
          ]
        },
        {
          "name": "stderr",
          "output_type": "stream",
          "text": [
            "100%|██████████| 938/938 [00:40<00:00, 22.91it/s, accuracy=1, loss=0.0221, lr=0.000262]\n"
          ]
        },
        {
          "name": "stdout",
          "output_type": "stream",
          "text": [
            "Epoch 6, Val Loss: 0.08290818406589281, Val Accuracy: 0.9755175159235668\n"
          ]
        },
        {
          "name": "stderr",
          "output_type": "stream",
          "text": [
            "100%|██████████| 938/938 [00:39<00:00, 23.66it/s, accuracy=1, loss=0.0158, lr=0.00021]\n"
          ]
        },
        {
          "name": "stdout",
          "output_type": "stream",
          "text": [
            "Epoch 7, Val Loss: 0.07761532611993681, Val Accuracy: 0.9755175159235668\n"
          ]
        },
        {
          "name": "stderr",
          "output_type": "stream",
          "text": [
            "100%|██████████| 938/938 [00:39<00:00, 23.92it/s, accuracy=0.938, loss=0.0902, lr=0.000168]\n"
          ]
        },
        {
          "name": "stdout",
          "output_type": "stream",
          "text": [
            "Epoch 8, Val Loss: 0.0761064516249184, Val Accuracy: 0.9767117834394905\n"
          ]
        },
        {
          "name": "stderr",
          "output_type": "stream",
          "text": [
            "100%|██████████| 938/938 [00:38<00:00, 24.56it/s, accuracy=0.969, loss=0.0717, lr=0.000134]\n"
          ]
        },
        {
          "name": "stdout",
          "output_type": "stream",
          "text": [
            "Epoch 9, Val Loss: 0.07512549146847461, Val Accuracy: 0.9776074840764332\n"
          ]
        },
        {
          "name": "stderr",
          "output_type": "stream",
          "text": [
            "100%|██████████| 938/938 [00:38<00:00, 24.30it/s, accuracy=1, loss=0.0149, lr=0.000107]\n"
          ]
        },
        {
          "name": "stdout",
          "output_type": "stream",
          "text": [
            "Epoch 10, Val Loss: 0.07322169160548224, Val Accuracy: 0.9775079617834395\n"
          ]
        },
        {
          "name": "stderr",
          "output_type": "stream",
          "text": [
            "100%|██████████| 938/938 [00:39<00:00, 23.66it/s, accuracy=1, loss=0.0106, lr=8.59e-5]\n"
          ]
        },
        {
          "name": "stdout",
          "output_type": "stream",
          "text": [
            "Epoch 11, Val Loss: 0.07002518395856201, Val Accuracy: 0.9789012738853503\n"
          ]
        },
        {
          "name": "stderr",
          "output_type": "stream",
          "text": [
            "100%|██████████| 938/938 [00:40<00:00, 22.94it/s, accuracy=0.969, loss=0.056, lr=6.87e-5]\n"
          ]
        },
        {
          "name": "stdout",
          "output_type": "stream",
          "text": [
            "Epoch 12, Val Loss: 0.06975021000278989, Val Accuracy: 0.9791998407643312\n"
          ]
        },
        {
          "name": "stderr",
          "output_type": "stream",
          "text": [
            "100%|██████████| 938/938 [00:40<00:00, 23.24it/s, accuracy=0.969, loss=0.0467, lr=5.5e-5]\n"
          ]
        },
        {
          "name": "stdout",
          "output_type": "stream",
          "text": [
            "Epoch 13, Val Loss: 0.06838014649870883, Val Accuracy: 0.9791998407643312\n"
          ]
        },
        {
          "name": "stderr",
          "output_type": "stream",
          "text": [
            "100%|██████████| 938/938 [00:39<00:00, 23.60it/s, accuracy=1, loss=0.0166, lr=4.4e-5]\n"
          ]
        },
        {
          "name": "stdout",
          "output_type": "stream",
          "text": [
            "Epoch 14, Val Loss: 0.06788694854176182, Val Accuracy: 0.9794984076433121\n"
          ]
        },
        {
          "name": "stderr",
          "output_type": "stream",
          "text": [
            "100%|██████████| 938/938 [00:38<00:00, 24.33it/s, accuracy=1, loss=0.0263, lr=3.52e-5]\n"
          ]
        },
        {
          "name": "stdout",
          "output_type": "stream",
          "text": [
            "Epoch 15, Val Loss: 0.06804175645922708, Val Accuracy: 0.9792993630573248\n"
          ]
        },
        {
          "name": "stderr",
          "output_type": "stream",
          "text": [
            "100%|██████████| 938/938 [00:39<00:00, 24.02it/s, accuracy=1, loss=0.0323, lr=2.81e-5]\n"
          ]
        },
        {
          "name": "stdout",
          "output_type": "stream",
          "text": [
            "Epoch 16, Val Loss: 0.06845667478676654, Val Accuracy: 0.978702229299363\n"
          ]
        },
        {
          "name": "stderr",
          "output_type": "stream",
          "text": [
            "100%|██████████| 938/938 [00:37<00:00, 25.02it/s, accuracy=1, loss=0.0111, lr=2.25e-5]\n"
          ]
        },
        {
          "name": "stdout",
          "output_type": "stream",
          "text": [
            "Epoch 17, Val Loss: 0.06781460110681684, Val Accuracy: 0.9791003184713376\n"
          ]
        },
        {
          "name": "stderr",
          "output_type": "stream",
          "text": [
            "100%|██████████| 938/938 [00:40<00:00, 23.23it/s, accuracy=1, loss=0.00116, lr=1.8e-5]\n"
          ]
        },
        {
          "name": "stdout",
          "output_type": "stream",
          "text": [
            "Epoch 18, Val Loss: 0.06629219776535537, Val Accuracy: 0.9795979299363057\n"
          ]
        },
        {
          "name": "stderr",
          "output_type": "stream",
          "text": [
            "100%|██████████| 938/938 [00:40<00:00, 22.89it/s, accuracy=1, loss=0.0385, lr=1.44e-5]\n"
          ]
        },
        {
          "name": "stdout",
          "output_type": "stream",
          "text": [
            "Epoch 19, Val Loss: 0.06690324561809083, Val Accuracy: 0.9793988853503185\n"
          ]
        },
        {
          "name": "stderr",
          "output_type": "stream",
          "text": [
            "100%|██████████| 938/938 [00:40<00:00, 23.31it/s, accuracy=0.969, loss=0.161, lr=1.15e-5]\n"
          ]
        },
        {
          "name": "stdout",
          "output_type": "stream",
          "text": [
            "Epoch 20, Val Loss: 0.06703049842613767, Val Accuracy: 0.979796974522293\n"
          ]
        },
        {
          "name": "stderr",
          "output_type": "stream",
          "text": [
            "100%|██████████| 938/938 [00:37<00:00, 24.74it/s, accuracy=1, loss=0.0177, lr=9.22e-6]\n"
          ]
        },
        {
          "name": "stdout",
          "output_type": "stream",
          "text": [
            "Epoch 21, Val Loss: 0.06638837016705175, Val Accuracy: 0.9793988853503185\n"
          ]
        },
        {
          "name": "stderr",
          "output_type": "stream",
          "text": [
            "100%|██████████| 938/938 [00:38<00:00, 24.20it/s, accuracy=1, loss=0.0161, lr=7.38e-6]\n"
          ]
        },
        {
          "name": "stdout",
          "output_type": "stream",
          "text": [
            "Epoch 22, Val Loss: 0.06656958217006681, Val Accuracy: 0.9796974522292994\n"
          ]
        },
        {
          "name": "stderr",
          "output_type": "stream",
          "text": [
            "100%|██████████| 938/938 [00:39<00:00, 23.63it/s, accuracy=0.969, loss=0.0746, lr=5.9e-6]\n"
          ]
        },
        {
          "name": "stdout",
          "output_type": "stream",
          "text": [
            "Epoch 23, Val Loss: 0.06634087298694956, Val Accuracy: 0.9794984076433121\n"
          ]
        },
        {
          "name": "stderr",
          "output_type": "stream",
          "text": [
            "100%|██████████| 938/938 [00:39<00:00, 23.76it/s, accuracy=0.969, loss=0.09, lr=4.72e-6]\n"
          ]
        },
        {
          "name": "stdout",
          "output_type": "stream",
          "text": [
            "Epoch 24, Val Loss: 0.06629475972401631, Val Accuracy: 0.9795979299363057\n"
          ]
        },
        {
          "name": "stderr",
          "output_type": "stream",
          "text": [
            "100%|██████████| 938/938 [00:39<00:00, 23.47it/s, accuracy=1, loss=0.00185, lr=3.78e-6]\n"
          ]
        },
        {
          "name": "stdout",
          "output_type": "stream",
          "text": [
            "Epoch 25, Val Loss: 0.06642750781509583, Val Accuracy: 0.9792993630573248\n"
          ]
        },
        {
          "name": "stderr",
          "output_type": "stream",
          "text": [
            "100%|██████████| 938/938 [00:38<00:00, 24.55it/s, accuracy=1, loss=0.0091, lr=3.02e-6]\n"
          ]
        },
        {
          "name": "stdout",
          "output_type": "stream",
          "text": [
            "Epoch 26, Val Loss: 0.066294848047839, Val Accuracy: 0.9794984076433121\n"
          ]
        },
        {
          "name": "stderr",
          "output_type": "stream",
          "text": [
            "100%|██████████| 938/938 [00:37<00:00, 24.95it/s, accuracy=1, loss=0.0171, lr=2.42e-6]\n"
          ]
        },
        {
          "name": "stdout",
          "output_type": "stream",
          "text": [
            "Epoch 27, Val Loss: 0.06633213982223325, Val Accuracy: 0.9793988853503185\n"
          ]
        },
        {
          "name": "stderr",
          "output_type": "stream",
          "text": [
            "100%|██████████| 938/938 [00:39<00:00, 23.60it/s, accuracy=1, loss=0.00532, lr=1.93e-6]\n"
          ]
        },
        {
          "name": "stdout",
          "output_type": "stream",
          "text": [
            "Epoch 28, Val Loss: 0.06625081443933735, Val Accuracy: 0.9793988853503185\n"
          ]
        },
        {
          "name": "stderr",
          "output_type": "stream",
          "text": [
            "100%|██████████| 938/938 [00:39<00:00, 23.73it/s, accuracy=1, loss=0.0344, lr=1.55e-6]\n"
          ]
        },
        {
          "name": "stdout",
          "output_type": "stream",
          "text": [
            "Epoch 29, Val Loss: 0.06627752673055881, Val Accuracy: 0.9794984076433121\n"
          ]
        },
        {
          "name": "stderr",
          "output_type": "stream",
          "text": [
            "100%|██████████| 938/938 [00:38<00:00, 24.30it/s, accuracy=1, loss=0.00559, lr=1.24e-6]\n"
          ]
        },
        {
          "name": "stdout",
          "output_type": "stream",
          "text": [
            "Epoch 30, Val Loss: 0.06630303267783272, Val Accuracy: 0.9795979299363057\n",
            "LR: 0.0008 Gamma: 0.8 Hdim: 256 Best Accuracy: 0.979796974522293\n"
          ]
        },
        {
          "name": "stderr",
          "output_type": "stream",
          "text": [
            "100%|██████████| 938/938 [00:38<00:00, 24.36it/s, accuracy=0.938, loss=0.246, lr=0.0008]\n"
          ]
        },
        {
          "name": "stdout",
          "output_type": "stream",
          "text": [
            "Epoch 1, Val Loss: 0.2780421424099499, Val Accuracy: 0.9196855095541401\n"
          ]
        },
        {
          "name": "stderr",
          "output_type": "stream",
          "text": [
            "100%|██████████| 938/938 [00:40<00:00, 23.40it/s, accuracy=0.906, loss=0.279, lr=0.00072]\n"
          ]
        },
        {
          "name": "stdout",
          "output_type": "stream",
          "text": [
            "Epoch 2, Val Loss: 0.24340963400425805, Val Accuracy: 0.9297372611464968\n"
          ]
        },
        {
          "name": "stderr",
          "output_type": "stream",
          "text": [
            "100%|██████████| 938/938 [00:42<00:00, 22.22it/s, accuracy=0.938, loss=0.129, lr=0.000648]\n"
          ]
        },
        {
          "name": "stdout",
          "output_type": "stream",
          "text": [
            "Epoch 3, Val Loss: 0.20423553213121215, Val Accuracy: 0.9404856687898089\n"
          ]
        },
        {
          "name": "stderr",
          "output_type": "stream",
          "text": [
            "100%|██████████| 938/938 [00:39<00:00, 23.97it/s, accuracy=0.906, loss=0.375, lr=0.000583]\n"
          ]
        },
        {
          "name": "stdout",
          "output_type": "stream",
          "text": [
            "Epoch 4, Val Loss: 0.17724350957010107, Val Accuracy: 0.9473527070063694\n"
          ]
        },
        {
          "name": "stderr",
          "output_type": "stream",
          "text": [
            "100%|██████████| 938/938 [00:39<00:00, 23.98it/s, accuracy=0.969, loss=0.0939, lr=0.000525]\n"
          ]
        },
        {
          "name": "stdout",
          "output_type": "stream",
          "text": [
            "Epoch 5, Val Loss: 0.16425165099056235, Val Accuracy: 0.9527269108280255\n"
          ]
        },
        {
          "name": "stderr",
          "output_type": "stream",
          "text": [
            "100%|██████████| 938/938 [00:38<00:00, 24.22it/s, accuracy=1, loss=0.0415, lr=0.000472]\n"
          ]
        },
        {
          "name": "stdout",
          "output_type": "stream",
          "text": [
            "Epoch 6, Val Loss: 0.1498387364187177, Val Accuracy: 0.9570063694267515\n"
          ]
        },
        {
          "name": "stderr",
          "output_type": "stream",
          "text": [
            "100%|██████████| 938/938 [00:40<00:00, 23.41it/s, accuracy=0.969, loss=0.0902, lr=0.000425]\n"
          ]
        },
        {
          "name": "stdout",
          "output_type": "stream",
          "text": [
            "Epoch 7, Val Loss: 0.14245120951443152, Val Accuracy: 0.9551154458598726\n"
          ]
        },
        {
          "name": "stderr",
          "output_type": "stream",
          "text": [
            "100%|██████████| 938/938 [00:40<00:00, 23.35it/s, accuracy=0.938, loss=0.128, lr=0.000383]\n"
          ]
        },
        {
          "name": "stdout",
          "output_type": "stream",
          "text": [
            "Epoch 8, Val Loss: 0.1441121340705568, Val Accuracy: 0.9566082802547771\n"
          ]
        },
        {
          "name": "stderr",
          "output_type": "stream",
          "text": [
            "100%|██████████| 938/938 [00:38<00:00, 24.46it/s, accuracy=0.969, loss=0.145, lr=0.000344]\n"
          ]
        },
        {
          "name": "stdout",
          "output_type": "stream",
          "text": [
            "Epoch 9, Val Loss: 0.13227690191595418, Val Accuracy: 0.960390127388535\n"
          ]
        },
        {
          "name": "stderr",
          "output_type": "stream",
          "text": [
            "100%|██████████| 938/938 [00:40<00:00, 23.06it/s, accuracy=0.969, loss=0.119, lr=0.00031]\n"
          ]
        },
        {
          "name": "stdout",
          "output_type": "stream",
          "text": [
            "Epoch 10, Val Loss: 0.12626796121750572, Val Accuracy: 0.9610867834394905\n"
          ]
        },
        {
          "name": "stderr",
          "output_type": "stream",
          "text": [
            "100%|██████████| 938/938 [00:41<00:00, 22.49it/s, accuracy=0.938, loss=0.276, lr=0.000279]\n"
          ]
        },
        {
          "name": "stdout",
          "output_type": "stream",
          "text": [
            "Epoch 11, Val Loss: 0.12471823410759829, Val Accuracy: 0.9617834394904459\n"
          ]
        },
        {
          "name": "stderr",
          "output_type": "stream",
          "text": [
            "100%|██████████| 938/938 [00:39<00:00, 23.55it/s, accuracy=1, loss=0.019, lr=0.000251]\n"
          ]
        },
        {
          "name": "stdout",
          "output_type": "stream",
          "text": [
            "Epoch 12, Val Loss: 0.11887757113250862, Val Accuracy: 0.9631767515923567\n"
          ]
        },
        {
          "name": "stderr",
          "output_type": "stream",
          "text": [
            "100%|██████████| 938/938 [00:39<00:00, 23.84it/s, accuracy=0.938, loss=0.0796, lr=0.000226]\n"
          ]
        },
        {
          "name": "stdout",
          "output_type": "stream",
          "text": [
            "Epoch 13, Val Loss: 0.11815295813258168, Val Accuracy: 0.9642714968152867\n"
          ]
        },
        {
          "name": "stderr",
          "output_type": "stream",
          "text": [
            "100%|██████████| 938/938 [00:39<00:00, 23.49it/s, accuracy=0.969, loss=0.1, lr=0.000203]\n"
          ]
        },
        {
          "name": "stdout",
          "output_type": "stream",
          "text": [
            "Epoch 14, Val Loss: 0.11794852162118123, Val Accuracy: 0.9642714968152867\n"
          ]
        },
        {
          "name": "stderr",
          "output_type": "stream",
          "text": [
            "100%|██████████| 938/938 [00:40<00:00, 23.06it/s, accuracy=1, loss=0.0341, lr=0.000183]\n"
          ]
        },
        {
          "name": "stdout",
          "output_type": "stream",
          "text": [
            "Epoch 15, Val Loss: 0.11169307341926678, Val Accuracy: 0.9651671974522293\n"
          ]
        },
        {
          "name": "stderr",
          "output_type": "stream",
          "text": [
            "100%|██████████| 938/938 [00:39<00:00, 23.97it/s, accuracy=0.969, loss=0.0614, lr=0.000165]\n"
          ]
        },
        {
          "name": "stdout",
          "output_type": "stream",
          "text": [
            "Epoch 16, Val Loss: 0.11349707051657829, Val Accuracy: 0.9654657643312102\n"
          ]
        },
        {
          "name": "stderr",
          "output_type": "stream",
          "text": [
            "100%|██████████| 938/938 [00:39<00:00, 23.66it/s, accuracy=0.938, loss=0.152, lr=0.000148]\n"
          ]
        },
        {
          "name": "stdout",
          "output_type": "stream",
          "text": [
            "Epoch 17, Val Loss: 0.11106416930527586, Val Accuracy: 0.9652667197452229\n"
          ]
        },
        {
          "name": "stderr",
          "output_type": "stream",
          "text": [
            "100%|██████████| 938/938 [00:39<00:00, 23.59it/s, accuracy=0.781, loss=0.582, lr=0.000133]\n"
          ]
        },
        {
          "name": "stdout",
          "output_type": "stream",
          "text": [
            "Epoch 18, Val Loss: 0.11194335603582299, Val Accuracy: 0.9666600318471338\n"
          ]
        },
        {
          "name": "stderr",
          "output_type": "stream",
          "text": [
            "100%|██████████| 938/938 [00:39<00:00, 23.53it/s, accuracy=0.906, loss=0.219, lr=0.00012]\n"
          ]
        },
        {
          "name": "stdout",
          "output_type": "stream",
          "text": [
            "Epoch 19, Val Loss: 0.11100435234638892, Val Accuracy: 0.9659633757961783\n"
          ]
        },
        {
          "name": "stderr",
          "output_type": "stream",
          "text": [
            "100%|██████████| 938/938 [00:39<00:00, 23.95it/s, accuracy=0.938, loss=0.207, lr=0.000108]\n"
          ]
        },
        {
          "name": "stdout",
          "output_type": "stream",
          "text": [
            "Epoch 20, Val Loss: 0.10931590258790429, Val Accuracy: 0.9665605095541401\n"
          ]
        },
        {
          "name": "stderr",
          "output_type": "stream",
          "text": [
            "100%|██████████| 938/938 [00:38<00:00, 24.25it/s, accuracy=1, loss=0.0333, lr=9.73e-5]\n"
          ]
        },
        {
          "name": "stdout",
          "output_type": "stream",
          "text": [
            "Epoch 21, Val Loss: 0.10744334260709168, Val Accuracy: 0.9672571656050956\n"
          ]
        },
        {
          "name": "stderr",
          "output_type": "stream",
          "text": [
            "100%|██████████| 938/938 [00:40<00:00, 23.04it/s, accuracy=1, loss=0.0243, lr=8.75e-5]\n"
          ]
        },
        {
          "name": "stdout",
          "output_type": "stream",
          "text": [
            "Epoch 22, Val Loss: 0.10721284062764756, Val Accuracy: 0.9678542993630573\n"
          ]
        },
        {
          "name": "stderr",
          "output_type": "stream",
          "text": [
            "100%|██████████| 938/938 [00:40<00:00, 23.36it/s, accuracy=0.938, loss=0.217, lr=7.88e-5]\n"
          ]
        },
        {
          "name": "stdout",
          "output_type": "stream",
          "text": [
            "Epoch 23, Val Loss: 0.10687815864528914, Val Accuracy: 0.966859076433121\n"
          ]
        },
        {
          "name": "stderr",
          "output_type": "stream",
          "text": [
            "100%|██████████| 938/938 [00:38<00:00, 24.15it/s, accuracy=0.938, loss=0.295, lr=7.09e-5]\n"
          ]
        },
        {
          "name": "stdout",
          "output_type": "stream",
          "text": [
            "Epoch 24, Val Loss: 0.10453861590643906, Val Accuracy: 0.9674562101910829\n"
          ]
        },
        {
          "name": "stderr",
          "output_type": "stream",
          "text": [
            "100%|██████████| 938/938 [00:39<00:00, 23.59it/s, accuracy=0.938, loss=0.151, lr=6.38e-5]\n"
          ]
        },
        {
          "name": "stdout",
          "output_type": "stream",
          "text": [
            "Epoch 25, Val Loss: 0.10550399072939874, Val Accuracy: 0.96765525477707\n"
          ]
        },
        {
          "name": "stderr",
          "output_type": "stream",
          "text": [
            "100%|██████████| 938/938 [00:41<00:00, 22.50it/s, accuracy=0.938, loss=0.144, lr=5.74e-5]\n"
          ]
        },
        {
          "name": "stdout",
          "output_type": "stream",
          "text": [
            "Epoch 26, Val Loss: 0.1039679851242086, Val Accuracy: 0.96765525477707\n"
          ]
        },
        {
          "name": "stderr",
          "output_type": "stream",
          "text": [
            "100%|██████████| 938/938 [00:44<00:00, 21.16it/s, accuracy=0.938, loss=0.143, lr=5.17e-5]\n"
          ]
        },
        {
          "name": "stdout",
          "output_type": "stream",
          "text": [
            "Epoch 27, Val Loss: 0.10475360923135285, Val Accuracy: 0.9671576433121019\n"
          ]
        },
        {
          "name": "stderr",
          "output_type": "stream",
          "text": [
            "100%|██████████| 938/938 [00:41<00:00, 22.51it/s, accuracy=1, loss=0.0319, lr=4.65e-5]\n"
          ]
        },
        {
          "name": "stdout",
          "output_type": "stream",
          "text": [
            "Epoch 28, Val Loss: 0.1044557371623903, Val Accuracy: 0.9681528662420382\n"
          ]
        },
        {
          "name": "stderr",
          "output_type": "stream",
          "text": [
            "100%|██████████| 938/938 [00:42<00:00, 22.18it/s, accuracy=0.969, loss=0.059, lr=4.19e-5]\n"
          ]
        },
        {
          "name": "stdout",
          "output_type": "stream",
          "text": [
            "Epoch 29, Val Loss: 0.10258682076685771, Val Accuracy: 0.9680533439490446\n"
          ]
        },
        {
          "name": "stderr",
          "output_type": "stream",
          "text": [
            "100%|██████████| 938/938 [00:42<00:00, 21.86it/s, accuracy=0.969, loss=0.0695, lr=3.77e-5]\n"
          ]
        },
        {
          "name": "stdout",
          "output_type": "stream",
          "text": [
            "Epoch 30, Val Loss: 0.10309279020015553, Val Accuracy: 0.9683519108280255\n",
            "LR: 0.0008 Gamma: 0.9 Hdim: 64 Best Accuracy: 0.9683519108280255\n"
          ]
        },
        {
          "name": "stderr",
          "output_type": "stream",
          "text": [
            "100%|██████████| 938/938 [00:42<00:00, 22.14it/s, accuracy=0.938, loss=0.134, lr=0.0008]\n"
          ]
        },
        {
          "name": "stdout",
          "output_type": "stream",
          "text": [
            "Epoch 1, Val Loss: 0.24920118076928482, Val Accuracy: 0.9260549363057324\n"
          ]
        },
        {
          "name": "stderr",
          "output_type": "stream",
          "text": [
            "100%|██████████| 938/938 [00:39<00:00, 23.71it/s, accuracy=0.969, loss=0.145, lr=0.00072]\n"
          ]
        },
        {
          "name": "stdout",
          "output_type": "stream",
          "text": [
            "Epoch 2, Val Loss: 0.16810530201964982, Val Accuracy: 0.9517316878980892\n"
          ]
        },
        {
          "name": "stderr",
          "output_type": "stream",
          "text": [
            "100%|██████████| 938/938 [00:39<00:00, 23.93it/s, accuracy=0.969, loss=0.066, lr=0.000648]\n"
          ]
        },
        {
          "name": "stdout",
          "output_type": "stream",
          "text": [
            "Epoch 3, Val Loss: 0.13700286220687968, Val Accuracy: 0.9580015923566879\n"
          ]
        },
        {
          "name": "stderr",
          "output_type": "stream",
          "text": [
            "100%|██████████| 938/938 [00:40<00:00, 22.97it/s, accuracy=1, loss=0.023, lr=0.000583]\n"
          ]
        },
        {
          "name": "stdout",
          "output_type": "stream",
          "text": [
            "Epoch 4, Val Loss: 0.10907958559602926, Val Accuracy: 0.9674562101910829\n"
          ]
        },
        {
          "name": "stderr",
          "output_type": "stream",
          "text": [
            "100%|██████████| 938/938 [00:41<00:00, 22.40it/s, accuracy=0.969, loss=0.127, lr=0.000525]\n"
          ]
        },
        {
          "name": "stdout",
          "output_type": "stream",
          "text": [
            "Epoch 5, Val Loss: 0.10268732064528166, Val Accuracy: 0.9701433121019108\n"
          ]
        },
        {
          "name": "stderr",
          "output_type": "stream",
          "text": [
            "100%|██████████| 938/938 [00:39<00:00, 23.74it/s, accuracy=0.969, loss=0.0696, lr=0.000472]\n"
          ]
        },
        {
          "name": "stdout",
          "output_type": "stream",
          "text": [
            "Epoch 6, Val Loss: 0.10539797630574803, Val Accuracy: 0.96875\n"
          ]
        },
        {
          "name": "stderr",
          "output_type": "stream",
          "text": [
            "100%|██████████| 938/938 [00:40<00:00, 23.06it/s, accuracy=1, loss=0.0326, lr=0.000425]\n"
          ]
        },
        {
          "name": "stdout",
          "output_type": "stream",
          "text": [
            "Epoch 7, Val Loss: 0.09830762099275947, Val Accuracy: 0.9719347133757962\n"
          ]
        },
        {
          "name": "stderr",
          "output_type": "stream",
          "text": [
            "100%|██████████| 938/938 [00:42<00:00, 22.31it/s, accuracy=0.969, loss=0.0812, lr=0.000383]\n"
          ]
        },
        {
          "name": "stdout",
          "output_type": "stream",
          "text": [
            "Epoch 8, Val Loss: 0.095372120647359, Val Accuracy: 0.9719347133757962\n"
          ]
        },
        {
          "name": "stderr",
          "output_type": "stream",
          "text": [
            "100%|██████████| 938/938 [00:42<00:00, 22.18it/s, accuracy=1, loss=0.018, lr=0.000344]\n"
          ]
        },
        {
          "name": "stdout",
          "output_type": "stream",
          "text": [
            "Epoch 9, Val Loss: 0.0836472680516375, Val Accuracy: 0.9750199044585988\n"
          ]
        },
        {
          "name": "stderr",
          "output_type": "stream",
          "text": [
            "100%|██████████| 938/938 [00:41<00:00, 22.43it/s, accuracy=1, loss=0.0285, lr=0.00031]\n"
          ]
        },
        {
          "name": "stdout",
          "output_type": "stream",
          "text": [
            "Epoch 10, Val Loss: 0.0909287500340539, Val Accuracy: 0.9731289808917197\n"
          ]
        },
        {
          "name": "stderr",
          "output_type": "stream",
          "text": [
            "100%|██████████| 938/938 [00:40<00:00, 23.36it/s, accuracy=0.969, loss=0.0479, lr=0.000279]\n"
          ]
        },
        {
          "name": "stdout",
          "output_type": "stream",
          "text": [
            "Epoch 11, Val Loss: 0.0812791859648401, Val Accuracy: 0.9767117834394905\n"
          ]
        },
        {
          "name": "stderr",
          "output_type": "stream",
          "text": [
            "100%|██████████| 938/938 [00:40<00:00, 23.11it/s, accuracy=1, loss=0.0295, lr=0.000251]\n"
          ]
        },
        {
          "name": "stdout",
          "output_type": "stream",
          "text": [
            "Epoch 12, Val Loss: 0.08118352720997397, Val Accuracy: 0.976015127388535\n"
          ]
        },
        {
          "name": "stderr",
          "output_type": "stream",
          "text": [
            "100%|██████████| 938/938 [00:39<00:00, 23.64it/s, accuracy=1, loss=0.0131, lr=0.000226]\n"
          ]
        },
        {
          "name": "stdout",
          "output_type": "stream",
          "text": [
            "Epoch 13, Val Loss: 0.07634554133594042, Val Accuracy: 0.977906050955414\n"
          ]
        },
        {
          "name": "stderr",
          "output_type": "stream",
          "text": [
            "100%|██████████| 938/938 [00:42<00:00, 22.10it/s, accuracy=1, loss=0.0175, lr=0.000203]\n"
          ]
        },
        {
          "name": "stdout",
          "output_type": "stream",
          "text": [
            "Epoch 14, Val Loss: 0.07671430696782235, Val Accuracy: 0.9785031847133758\n"
          ]
        },
        {
          "name": "stderr",
          "output_type": "stream",
          "text": [
            "100%|██████████| 938/938 [00:41<00:00, 22.77it/s, accuracy=1, loss=0.017, lr=0.000183]\n"
          ]
        },
        {
          "name": "stdout",
          "output_type": "stream",
          "text": [
            "Epoch 15, Val Loss: 0.07641422508968854, Val Accuracy: 0.977109872611465\n"
          ]
        },
        {
          "name": "stderr",
          "output_type": "stream",
          "text": [
            "100%|██████████| 938/938 [00:40<00:00, 23.26it/s, accuracy=1, loss=0.0139, lr=0.000165]\n"
          ]
        },
        {
          "name": "stdout",
          "output_type": "stream",
          "text": [
            "Epoch 16, Val Loss: 0.0739622916640702, Val Accuracy: 0.9783041401273885\n"
          ]
        },
        {
          "name": "stderr",
          "output_type": "stream",
          "text": [
            "100%|██████████| 938/938 [00:40<00:00, 22.95it/s, accuracy=1, loss=0.0188, lr=0.000148]\n"
          ]
        },
        {
          "name": "stdout",
          "output_type": "stream",
          "text": [
            "Epoch 17, Val Loss: 0.07579193356729433, Val Accuracy: 0.9786027070063694\n"
          ]
        },
        {
          "name": "stderr",
          "output_type": "stream",
          "text": [
            "100%|██████████| 938/938 [00:41<00:00, 22.78it/s, accuracy=1, loss=0.00392, lr=0.000133]\n"
          ]
        },
        {
          "name": "stdout",
          "output_type": "stream",
          "text": [
            "Epoch 18, Val Loss: 0.0744350605479673, Val Accuracy: 0.9791998407643312\n"
          ]
        },
        {
          "name": "stderr",
          "output_type": "stream",
          "text": [
            "100%|██████████| 938/938 [00:41<00:00, 22.51it/s, accuracy=1, loss=0.00316, lr=0.00012]\n"
          ]
        },
        {
          "name": "stdout",
          "output_type": "stream",
          "text": [
            "Epoch 19, Val Loss: 0.07660041038880487, Val Accuracy: 0.977906050955414\n"
          ]
        },
        {
          "name": "stderr",
          "output_type": "stream",
          "text": [
            "100%|██████████| 938/938 [00:41<00:00, 22.35it/s, accuracy=1, loss=0.00473, lr=0.000108]\n"
          ]
        },
        {
          "name": "stdout",
          "output_type": "stream",
          "text": [
            "Epoch 20, Val Loss: 0.07459215624821461, Val Accuracy: 0.9783041401273885\n"
          ]
        },
        {
          "name": "stderr",
          "output_type": "stream",
          "text": [
            "100%|██████████| 938/938 [00:40<00:00, 23.41it/s, accuracy=0.969, loss=0.137, lr=9.73e-5]\n"
          ]
        },
        {
          "name": "stdout",
          "output_type": "stream",
          "text": [
            "Epoch 21, Val Loss: 0.07386729360647443, Val Accuracy: 0.9789012738853503\n"
          ]
        },
        {
          "name": "stderr",
          "output_type": "stream",
          "text": [
            "100%|██████████| 938/938 [00:40<00:00, 23.43it/s, accuracy=1, loss=0.0109, lr=8.75e-5]\n"
          ]
        },
        {
          "name": "stdout",
          "output_type": "stream",
          "text": [
            "Epoch 22, Val Loss: 0.0735025028708342, Val Accuracy: 0.9790007961783439\n"
          ]
        },
        {
          "name": "stderr",
          "output_type": "stream",
          "text": [
            "100%|██████████| 938/938 [00:41<00:00, 22.40it/s, accuracy=1, loss=0.0167, lr=7.88e-5]\n"
          ]
        },
        {
          "name": "stdout",
          "output_type": "stream",
          "text": [
            "Epoch 23, Val Loss: 0.07383070860868528, Val Accuracy: 0.978702229299363\n"
          ]
        },
        {
          "name": "stderr",
          "output_type": "stream",
          "text": [
            "100%|██████████| 938/938 [00:42<00:00, 22.14it/s, accuracy=1, loss=0.0296, lr=7.09e-5]\n"
          ]
        },
        {
          "name": "stdout",
          "output_type": "stream",
          "text": [
            "Epoch 24, Val Loss: 0.07289144864204268, Val Accuracy: 0.9793988853503185\n"
          ]
        },
        {
          "name": "stderr",
          "output_type": "stream",
          "text": [
            "100%|██████████| 938/938 [00:40<00:00, 22.88it/s, accuracy=0.938, loss=0.0697, lr=6.38e-5]\n"
          ]
        },
        {
          "name": "stdout",
          "output_type": "stream",
          "text": [
            "Epoch 25, Val Loss: 0.07344083234385637, Val Accuracy: 0.9780055732484076\n"
          ]
        },
        {
          "name": "stderr",
          "output_type": "stream",
          "text": [
            "100%|██████████| 938/938 [00:39<00:00, 23.63it/s, accuracy=1, loss=0.0305, lr=5.74e-5]\n"
          ]
        },
        {
          "name": "stdout",
          "output_type": "stream",
          "text": [
            "Epoch 26, Val Loss: 0.07317595247386519, Val Accuracy: 0.978702229299363\n"
          ]
        },
        {
          "name": "stderr",
          "output_type": "stream",
          "text": [
            "100%|██████████| 938/938 [00:39<00:00, 23.51it/s, accuracy=1, loss=0.012, lr=5.17e-5]\n"
          ]
        },
        {
          "name": "stdout",
          "output_type": "stream",
          "text": [
            "Epoch 27, Val Loss: 0.07214447566551664, Val Accuracy: 0.9790007961783439\n"
          ]
        },
        {
          "name": "stderr",
          "output_type": "stream",
          "text": [
            "100%|██████████| 938/938 [00:40<00:00, 23.16it/s, accuracy=1, loss=0.00888, lr=4.65e-5]\n"
          ]
        },
        {
          "name": "stdout",
          "output_type": "stream",
          "text": [
            "Epoch 28, Val Loss: 0.07189574083487599, Val Accuracy: 0.9792993630573248\n"
          ]
        },
        {
          "name": "stderr",
          "output_type": "stream",
          "text": [
            "100%|██████████| 938/938 [00:41<00:00, 22.76it/s, accuracy=1, loss=0.00883, lr=4.19e-5]\n"
          ]
        },
        {
          "name": "stdout",
          "output_type": "stream",
          "text": [
            "Epoch 29, Val Loss: 0.07259673101602829, Val Accuracy: 0.979796974522293\n"
          ]
        },
        {
          "name": "stderr",
          "output_type": "stream",
          "text": [
            "100%|██████████| 938/938 [00:39<00:00, 23.79it/s, accuracy=1, loss=0.00877, lr=3.77e-5]\n"
          ]
        },
        {
          "name": "stdout",
          "output_type": "stream",
          "text": [
            "Epoch 30, Val Loss: 0.07311152088882959, Val Accuracy: 0.9792993630573248\n",
            "LR: 0.0008 Gamma: 0.9 Hdim: 128 Best Accuracy: 0.979796974522293\n"
          ]
        },
        {
          "name": "stderr",
          "output_type": "stream",
          "text": [
            "100%|██████████| 938/938 [00:40<00:00, 23.18it/s, accuracy=0.938, loss=0.22, lr=0.0008]\n"
          ]
        },
        {
          "name": "stdout",
          "output_type": "stream",
          "text": [
            "Epoch 1, Val Loss: 0.1956070644401346, Val Accuracy: 0.9424761146496815\n"
          ]
        },
        {
          "name": "stderr",
          "output_type": "stream",
          "text": [
            "100%|██████████| 938/938 [00:41<00:00, 22.62it/s, accuracy=0.938, loss=0.136, lr=0.00072]\n"
          ]
        },
        {
          "name": "stdout",
          "output_type": "stream",
          "text": [
            "Epoch 2, Val Loss: 0.1331768139639193, Val Accuracy: 0.9617834394904459\n"
          ]
        },
        {
          "name": "stderr",
          "output_type": "stream",
          "text": [
            "100%|██████████| 938/938 [00:41<00:00, 22.57it/s, accuracy=0.938, loss=0.279, lr=0.000648]\n"
          ]
        },
        {
          "name": "stdout",
          "output_type": "stream",
          "text": [
            "Epoch 3, Val Loss: 0.10440338327501943, Val Accuracy: 0.9682523885350318\n"
          ]
        },
        {
          "name": "stderr",
          "output_type": "stream",
          "text": [
            "100%|██████████| 938/938 [00:40<00:00, 22.98it/s, accuracy=0.969, loss=0.14, lr=0.000583]\n"
          ]
        },
        {
          "name": "stdout",
          "output_type": "stream",
          "text": [
            "Epoch 4, Val Loss: 0.10517182121806701, Val Accuracy: 0.9670581210191083\n"
          ]
        },
        {
          "name": "stderr",
          "output_type": "stream",
          "text": [
            "100%|██████████| 938/938 [00:40<00:00, 23.04it/s, accuracy=0.969, loss=0.104, lr=0.000525]\n"
          ]
        },
        {
          "name": "stdout",
          "output_type": "stream",
          "text": [
            "Epoch 5, Val Loss: 0.08821864614847479, Val Accuracy: 0.9715366242038217\n"
          ]
        },
        {
          "name": "stderr",
          "output_type": "stream",
          "text": [
            "100%|██████████| 938/938 [00:39<00:00, 23.46it/s, accuracy=1, loss=0.0233, lr=0.000472]\n"
          ]
        },
        {
          "name": "stdout",
          "output_type": "stream",
          "text": [
            "Epoch 6, Val Loss: 0.08590159476730991, Val Accuracy: 0.9742237261146497\n"
          ]
        },
        {
          "name": "stderr",
          "output_type": "stream",
          "text": [
            "100%|██████████| 938/938 [00:40<00:00, 22.88it/s, accuracy=1, loss=0.0188, lr=0.000425]\n"
          ]
        },
        {
          "name": "stdout",
          "output_type": "stream",
          "text": [
            "Epoch 7, Val Loss: 0.0718588110587447, Val Accuracy: 0.9781050955414012\n"
          ]
        },
        {
          "name": "stderr",
          "output_type": "stream",
          "text": [
            "100%|██████████| 938/938 [00:39<00:00, 23.92it/s, accuracy=0.969, loss=0.0743, lr=0.000383]\n"
          ]
        },
        {
          "name": "stdout",
          "output_type": "stream",
          "text": [
            "Epoch 8, Val Loss: 0.07427869798136566, Val Accuracy: 0.9765127388535032\n"
          ]
        },
        {
          "name": "stderr",
          "output_type": "stream",
          "text": [
            "100%|██████████| 938/938 [00:39<00:00, 23.95it/s, accuracy=0.969, loss=0.0729, lr=0.000344]\n"
          ]
        },
        {
          "name": "stdout",
          "output_type": "stream",
          "text": [
            "Epoch 9, Val Loss: 0.07707106050059043, Val Accuracy: 0.975218949044586\n"
          ]
        },
        {
          "name": "stderr",
          "output_type": "stream",
          "text": [
            "100%|██████████| 938/938 [00:40<00:00, 23.03it/s, accuracy=1, loss=0.0248, lr=0.00031]\n"
          ]
        },
        {
          "name": "stdout",
          "output_type": "stream",
          "text": [
            "Epoch 10, Val Loss: 0.06879514525496182, Val Accuracy: 0.978702229299363\n"
          ]
        },
        {
          "name": "stderr",
          "output_type": "stream",
          "text": [
            "100%|██████████| 938/938 [00:41<00:00, 22.73it/s, accuracy=1, loss=0.0105, lr=0.000279]\n"
          ]
        },
        {
          "name": "stdout",
          "output_type": "stream",
          "text": [
            "Epoch 11, Val Loss: 0.06566697381719336, Val Accuracy: 0.9793988853503185\n"
          ]
        },
        {
          "name": "stderr",
          "output_type": "stream",
          "text": [
            "100%|██████████| 938/938 [00:42<00:00, 22.02it/s, accuracy=0.969, loss=0.0692, lr=0.000251]\n"
          ]
        },
        {
          "name": "stdout",
          "output_type": "stream",
          "text": [
            "Epoch 12, Val Loss: 0.0694076365588832, Val Accuracy: 0.9791003184713376\n"
          ]
        },
        {
          "name": "stderr",
          "output_type": "stream",
          "text": [
            "100%|██████████| 938/938 [00:42<00:00, 22.29it/s, accuracy=1, loss=0.00769, lr=0.000226]\n"
          ]
        },
        {
          "name": "stdout",
          "output_type": "stream",
          "text": [
            "Epoch 13, Val Loss: 0.06478962631461249, Val Accuracy: 0.9808917197452229\n"
          ]
        },
        {
          "name": "stderr",
          "output_type": "stream",
          "text": [
            "100%|██████████| 938/938 [00:44<00:00, 21.11it/s, accuracy=1, loss=0.0135, lr=0.000203]\n"
          ]
        },
        {
          "name": "stdout",
          "output_type": "stream",
          "text": [
            "Epoch 14, Val Loss: 0.06394946301048884, Val Accuracy: 0.9796974522292994\n"
          ]
        },
        {
          "name": "stderr",
          "output_type": "stream",
          "text": [
            "100%|██████████| 938/938 [00:43<00:00, 21.73it/s, accuracy=1, loss=0.0234, lr=0.000183]\n"
          ]
        },
        {
          "name": "stdout",
          "output_type": "stream",
          "text": [
            "Epoch 15, Val Loss: 0.06532956314987613, Val Accuracy: 0.9794984076433121\n"
          ]
        },
        {
          "name": "stderr",
          "output_type": "stream",
          "text": [
            "100%|██████████| 938/938 [00:43<00:00, 21.52it/s, accuracy=1, loss=0.0201, lr=0.000165]\n"
          ]
        },
        {
          "name": "stdout",
          "output_type": "stream",
          "text": [
            "Epoch 16, Val Loss: 0.07065431801385356, Val Accuracy: 0.9783041401273885\n"
          ]
        },
        {
          "name": "stderr",
          "output_type": "stream",
          "text": [
            "100%|██████████| 938/938 [00:44<00:00, 21.17it/s, accuracy=1, loss=0.00802, lr=0.000148]\n"
          ]
        },
        {
          "name": "stdout",
          "output_type": "stream",
          "text": [
            "Epoch 17, Val Loss: 0.06430312513195276, Val Accuracy: 0.9795979299363057\n"
          ]
        },
        {
          "name": "stderr",
          "output_type": "stream",
          "text": [
            "100%|██████████| 938/938 [00:43<00:00, 21.54it/s, accuracy=1, loss=0.000143, lr=0.000133]\n"
          ]
        },
        {
          "name": "stdout",
          "output_type": "stream",
          "text": [
            "Epoch 18, Val Loss: 0.06144837318438737, Val Accuracy: 0.9812898089171974\n"
          ]
        },
        {
          "name": "stderr",
          "output_type": "stream",
          "text": [
            "100%|██████████| 938/938 [00:43<00:00, 21.81it/s, accuracy=1, loss=0.00929, lr=0.00012]\n"
          ]
        },
        {
          "name": "stdout",
          "output_type": "stream",
          "text": [
            "Epoch 19, Val Loss: 0.06683102467038578, Val Accuracy: 0.9804936305732485\n"
          ]
        },
        {
          "name": "stderr",
          "output_type": "stream",
          "text": [
            "100%|██████████| 938/938 [00:42<00:00, 22.14it/s, accuracy=0.969, loss=0.116, lr=0.000108]\n"
          ]
        },
        {
          "name": "stdout",
          "output_type": "stream",
          "text": [
            "Epoch 20, Val Loss: 0.06291062351726633, Val Accuracy: 0.9813893312101911\n"
          ]
        },
        {
          "name": "stderr",
          "output_type": "stream",
          "text": [
            "100%|██████████| 938/938 [00:42<00:00, 22.23it/s, accuracy=1, loss=0.00744, lr=9.73e-5]\n"
          ]
        },
        {
          "name": "stdout",
          "output_type": "stream",
          "text": [
            "Epoch 21, Val Loss: 0.06410047028114194, Val Accuracy: 0.9809912420382165\n"
          ]
        },
        {
          "name": "stderr",
          "output_type": "stream",
          "text": [
            "100%|██████████| 938/938 [00:43<00:00, 21.37it/s, accuracy=1, loss=0.00402, lr=8.75e-5]\n"
          ]
        },
        {
          "name": "stdout",
          "output_type": "stream",
          "text": [
            "Epoch 22, Val Loss: 0.06274494032906984, Val Accuracy: 0.9812898089171974\n"
          ]
        },
        {
          "name": "stderr",
          "output_type": "stream",
          "text": [
            "100%|██████████| 938/938 [00:43<00:00, 21.33it/s, accuracy=1, loss=0.0063, lr=7.88e-5]\n"
          ]
        },
        {
          "name": "stdout",
          "output_type": "stream",
          "text": [
            "Epoch 23, Val Loss: 0.06277673465458274, Val Accuracy: 0.9809912420382165\n"
          ]
        },
        {
          "name": "stderr",
          "output_type": "stream",
          "text": [
            "100%|██████████| 938/938 [00:43<00:00, 21.69it/s, accuracy=1, loss=0.0191, lr=7.09e-5]\n"
          ]
        },
        {
          "name": "stdout",
          "output_type": "stream",
          "text": [
            "Epoch 24, Val Loss: 0.0623454020454345, Val Accuracy: 0.9817874203821656\n"
          ]
        },
        {
          "name": "stderr",
          "output_type": "stream",
          "text": [
            "100%|██████████| 938/938 [00:42<00:00, 22.11it/s, accuracy=1, loss=0.000292, lr=6.38e-5]\n"
          ]
        },
        {
          "name": "stdout",
          "output_type": "stream",
          "text": [
            "Epoch 25, Val Loss: 0.06200908105492304, Val Accuracy: 0.9822850318471338\n"
          ]
        },
        {
          "name": "stderr",
          "output_type": "stream",
          "text": [
            "100%|██████████| 938/938 [00:42<00:00, 21.82it/s, accuracy=1, loss=0.00439, lr=5.74e-5]\n"
          ]
        },
        {
          "name": "stdout",
          "output_type": "stream",
          "text": [
            "Epoch 26, Val Loss: 0.06325142555364738, Val Accuracy: 0.9818869426751592\n"
          ]
        },
        {
          "name": "stderr",
          "output_type": "stream",
          "text": [
            "100%|██████████| 938/938 [00:43<00:00, 21.78it/s, accuracy=1, loss=0.00509, lr=5.17e-5]\n"
          ]
        },
        {
          "name": "stdout",
          "output_type": "stream",
          "text": [
            "Epoch 27, Val Loss: 0.06295931525297871, Val Accuracy: 0.9815883757961783\n"
          ]
        },
        {
          "name": "stderr",
          "output_type": "stream",
          "text": [
            "100%|██████████| 938/938 [00:43<00:00, 21.48it/s, accuracy=1, loss=0.00177, lr=4.65e-5]\n"
          ]
        },
        {
          "name": "stdout",
          "output_type": "stream",
          "text": [
            "Epoch 28, Val Loss: 0.062421801866021615, Val Accuracy: 0.9820859872611465\n"
          ]
        },
        {
          "name": "stderr",
          "output_type": "stream",
          "text": [
            "100%|██████████| 938/938 [00:43<00:00, 21.70it/s, accuracy=1, loss=0.00649, lr=4.19e-5]\n"
          ]
        },
        {
          "name": "stdout",
          "output_type": "stream",
          "text": [
            "Epoch 29, Val Loss: 0.0617336609866586, Val Accuracy: 0.9818869426751592\n"
          ]
        },
        {
          "name": "stderr",
          "output_type": "stream",
          "text": [
            "100%|██████████| 938/938 [00:42<00:00, 22.00it/s, accuracy=1, loss=0.00208, lr=3.77e-5]\n"
          ]
        },
        {
          "name": "stdout",
          "output_type": "stream",
          "text": [
            "Epoch 30, Val Loss: 0.06267413608091686, Val Accuracy: 0.9821855095541401\n",
            "LR: 0.0008 Gamma: 0.9 Hdim: 256 Best Accuracy: 0.9822850318471338\n"
          ]
        },
        {
          "name": "stderr",
          "output_type": "stream",
          "text": [
            "100%|██████████| 938/938 [00:45<00:00, 20.83it/s, accuracy=0.938, loss=0.203, lr=0.0012]\n"
          ]
        },
        {
          "name": "stdout",
          "output_type": "stream",
          "text": [
            "Epoch 1, Val Loss: 0.2526764049414237, Val Accuracy: 0.9259554140127388\n"
          ]
        },
        {
          "name": "stderr",
          "output_type": "stream",
          "text": [
            "100%|██████████| 938/938 [00:43<00:00, 21.75it/s, accuracy=0.906, loss=0.233, lr=0.00096]\n"
          ]
        },
        {
          "name": "stdout",
          "output_type": "stream",
          "text": [
            "Epoch 2, Val Loss: 0.2214069603022876, Val Accuracy: 0.9380971337579618\n"
          ]
        },
        {
          "name": "stderr",
          "output_type": "stream",
          "text": [
            "100%|██████████| 938/938 [00:42<00:00, 22.10it/s, accuracy=0.969, loss=0.0882, lr=0.000768]\n"
          ]
        },
        {
          "name": "stdout",
          "output_type": "stream",
          "text": [
            "Epoch 3, Val Loss: 0.18272665915654818, Val Accuracy: 0.9489450636942676\n"
          ]
        },
        {
          "name": "stderr",
          "output_type": "stream",
          "text": [
            "100%|██████████| 938/938 [00:43<00:00, 21.55it/s, accuracy=0.938, loss=0.341, lr=0.000614]\n"
          ]
        },
        {
          "name": "stdout",
          "output_type": "stream",
          "text": [
            "Epoch 4, Val Loss: 0.1599872793770947, Val Accuracy: 0.9510350318471338\n"
          ]
        },
        {
          "name": "stderr",
          "output_type": "stream",
          "text": [
            "100%|██████████| 938/938 [00:46<00:00, 20.36it/s, accuracy=1, loss=0.0728, lr=0.000492]\n"
          ]
        },
        {
          "name": "stdout",
          "output_type": "stream",
          "text": [
            "Epoch 5, Val Loss: 0.14735944709847354, Val Accuracy: 0.956906847133758\n"
          ]
        },
        {
          "name": "stderr",
          "output_type": "stream",
          "text": [
            "100%|██████████| 938/938 [00:42<00:00, 22.12it/s, accuracy=1, loss=0.0395, lr=0.000393]\n"
          ]
        },
        {
          "name": "stdout",
          "output_type": "stream",
          "text": [
            "Epoch 6, Val Loss: 0.13993382577007268, Val Accuracy: 0.9588972929936306\n"
          ]
        },
        {
          "name": "stderr",
          "output_type": "stream",
          "text": [
            "100%|██████████| 938/938 [00:43<00:00, 21.48it/s, accuracy=1, loss=0.0504, lr=0.000315]\n"
          ]
        },
        {
          "name": "stdout",
          "output_type": "stream",
          "text": [
            "Epoch 7, Val Loss: 0.1369563297451634, Val Accuracy: 0.9589968152866242\n"
          ]
        },
        {
          "name": "stderr",
          "output_type": "stream",
          "text": [
            "100%|██████████| 938/938 [00:44<00:00, 21.08it/s, accuracy=0.969, loss=0.0936, lr=0.000252]\n"
          ]
        },
        {
          "name": "stdout",
          "output_type": "stream",
          "text": [
            "Epoch 8, Val Loss: 0.1317989627406547, Val Accuracy: 0.962281050955414\n"
          ]
        },
        {
          "name": "stderr",
          "output_type": "stream",
          "text": [
            "100%|██████████| 938/938 [00:44<00:00, 21.30it/s, accuracy=1, loss=0.0749, lr=0.000201]\n"
          ]
        },
        {
          "name": "stdout",
          "output_type": "stream",
          "text": [
            "Epoch 9, Val Loss: 0.12722324632452267, Val Accuracy: 0.9608877388535032\n"
          ]
        },
        {
          "name": "stderr",
          "output_type": "stream",
          "text": [
            "100%|██████████| 938/938 [00:43<00:00, 21.79it/s, accuracy=0.969, loss=0.0934, lr=0.000161]\n"
          ]
        },
        {
          "name": "stdout",
          "output_type": "stream",
          "text": [
            "Epoch 10, Val Loss: 0.12329836430733988, Val Accuracy: 0.9621815286624203\n"
          ]
        },
        {
          "name": "stderr",
          "output_type": "stream",
          "text": [
            "100%|██████████| 938/938 [00:43<00:00, 21.76it/s, accuracy=0.938, loss=0.221, lr=0.000129]\n"
          ]
        },
        {
          "name": "stdout",
          "output_type": "stream",
          "text": [
            "Epoch 11, Val Loss: 0.12275062409039753, Val Accuracy: 0.9639729299363057\n"
          ]
        },
        {
          "name": "stderr",
          "output_type": "stream",
          "text": [
            "100%|██████████| 938/938 [00:44<00:00, 21.03it/s, accuracy=1, loss=0.0107, lr=0.000103]\n"
          ]
        },
        {
          "name": "stdout",
          "output_type": "stream",
          "text": [
            "Epoch 12, Val Loss: 0.12103098659749457, Val Accuracy: 0.9632762738853503\n"
          ]
        },
        {
          "name": "stderr",
          "output_type": "stream",
          "text": [
            "100%|██████████| 938/938 [00:45<00:00, 20.47it/s, accuracy=0.969, loss=0.0969, lr=8.25e-5]\n"
          ]
        },
        {
          "name": "stdout",
          "output_type": "stream",
          "text": [
            "Epoch 13, Val Loss: 0.12090897981587584, Val Accuracy: 0.9637738853503185\n"
          ]
        },
        {
          "name": "stderr",
          "output_type": "stream",
          "text": [
            "100%|██████████| 938/938 [00:45<00:00, 20.73it/s, accuracy=0.969, loss=0.102, lr=6.6e-5]\n"
          ]
        },
        {
          "name": "stdout",
          "output_type": "stream",
          "text": [
            "Epoch 14, Val Loss: 0.12003356715957901, Val Accuracy: 0.9643710191082803\n"
          ]
        },
        {
          "name": "stderr",
          "output_type": "stream",
          "text": [
            "100%|██████████| 938/938 [00:45<00:00, 20.40it/s, accuracy=1, loss=0.0512, lr=5.28e-5]\n"
          ]
        },
        {
          "name": "stdout",
          "output_type": "stream",
          "text": [
            "Epoch 15, Val Loss: 0.11885195689655509, Val Accuracy: 0.9642714968152867\n"
          ]
        },
        {
          "name": "stderr",
          "output_type": "stream",
          "text": [
            "100%|██████████| 938/938 [00:45<00:00, 20.74it/s, accuracy=1, loss=0.039, lr=4.22e-5]\n"
          ]
        },
        {
          "name": "stdout",
          "output_type": "stream",
          "text": [
            "Epoch 16, Val Loss: 0.11854872260180414, Val Accuracy: 0.9638734076433121\n"
          ]
        },
        {
          "name": "stderr",
          "output_type": "stream",
          "text": [
            "100%|██████████| 938/938 [00:45<00:00, 20.68it/s, accuracy=0.938, loss=0.161, lr=3.38e-5]\n"
          ]
        },
        {
          "name": "stdout",
          "output_type": "stream",
          "text": [
            "Epoch 17, Val Loss: 0.11733661163346189, Val Accuracy: 0.964968152866242\n"
          ]
        },
        {
          "name": "stderr",
          "output_type": "stream",
          "text": [
            "100%|██████████| 938/938 [00:44<00:00, 20.94it/s, accuracy=0.844, loss=0.448, lr=2.7e-5]\n"
          ]
        },
        {
          "name": "stdout",
          "output_type": "stream",
          "text": [
            "Epoch 18, Val Loss: 0.11752963528203167, Val Accuracy: 0.964968152866242\n"
          ]
        },
        {
          "name": "stderr",
          "output_type": "stream",
          "text": [
            "100%|██████████| 938/938 [00:46<00:00, 19.99it/s, accuracy=0.906, loss=0.222, lr=2.16e-5]\n"
          ]
        },
        {
          "name": "stdout",
          "output_type": "stream",
          "text": [
            "Epoch 19, Val Loss: 0.1176265829263528, Val Accuracy: 0.9647691082802548\n"
          ]
        },
        {
          "name": "stderr",
          "output_type": "stream",
          "text": [
            "100%|██████████| 938/938 [00:44<00:00, 21.03it/s, accuracy=0.938, loss=0.181, lr=1.73e-5]\n"
          ]
        },
        {
          "name": "stdout",
          "output_type": "stream",
          "text": [
            "Epoch 20, Val Loss: 0.1172692277476156, Val Accuracy: 0.9654657643312102\n"
          ]
        },
        {
          "name": "stderr",
          "output_type": "stream",
          "text": [
            "100%|██████████| 938/938 [00:43<00:00, 21.64it/s, accuracy=1, loss=0.0283, lr=1.38e-5]\n"
          ]
        },
        {
          "name": "stdout",
          "output_type": "stream",
          "text": [
            "Epoch 21, Val Loss: 0.11707475283598397, Val Accuracy: 0.9648686305732485\n"
          ]
        },
        {
          "name": "stderr",
          "output_type": "stream",
          "text": [
            "100%|██████████| 938/938 [00:45<00:00, 20.62it/s, accuracy=1, loss=0.0249, lr=1.11e-5]\n"
          ]
        },
        {
          "name": "stdout",
          "output_type": "stream",
          "text": [
            "Epoch 22, Val Loss: 0.11677534870097449, Val Accuracy: 0.9648686305732485\n"
          ]
        },
        {
          "name": "stderr",
          "output_type": "stream",
          "text": [
            "100%|██████████| 938/938 [00:45<00:00, 20.77it/s, accuracy=0.906, loss=0.177, lr=8.85e-6]\n"
          ]
        },
        {
          "name": "stdout",
          "output_type": "stream",
          "text": [
            "Epoch 23, Val Loss: 0.11668358422566656, Val Accuracy: 0.9650676751592356\n"
          ]
        },
        {
          "name": "stderr",
          "output_type": "stream",
          "text": [
            "100%|██████████| 938/938 [00:45<00:00, 20.57it/s, accuracy=0.938, loss=0.283, lr=7.08e-6]\n"
          ]
        },
        {
          "name": "stdout",
          "output_type": "stream",
          "text": [
            "Epoch 24, Val Loss: 0.11657059742553029, Val Accuracy: 0.9650676751592356\n"
          ]
        },
        {
          "name": "stderr",
          "output_type": "stream",
          "text": [
            "100%|██████████| 938/938 [00:44<00:00, 21.20it/s, accuracy=0.938, loss=0.276, lr=5.67e-6]\n"
          ]
        },
        {
          "name": "stdout",
          "output_type": "stream",
          "text": [
            "Epoch 25, Val Loss: 0.11675649817816462, Val Accuracy: 0.9650676751592356\n"
          ]
        },
        {
          "name": "stderr",
          "output_type": "stream",
          "text": [
            "100%|██████████| 938/938 [00:45<00:00, 20.74it/s, accuracy=0.969, loss=0.116, lr=4.53e-6]\n"
          ]
        },
        {
          "name": "stdout",
          "output_type": "stream",
          "text": [
            "Epoch 26, Val Loss: 0.11660573577247323, Val Accuracy: 0.964968152866242\n"
          ]
        },
        {
          "name": "stderr",
          "output_type": "stream",
          "text": [
            "100%|██████████| 938/938 [00:45<00:00, 20.78it/s, accuracy=0.969, loss=0.151, lr=3.63e-6]\n"
          ]
        },
        {
          "name": "stdout",
          "output_type": "stream",
          "text": [
            "Epoch 27, Val Loss: 0.11644910527897441, Val Accuracy: 0.9647691082802548\n"
          ]
        },
        {
          "name": "stderr",
          "output_type": "stream",
          "text": [
            "100%|██████████| 938/938 [00:45<00:00, 20.74it/s, accuracy=1, loss=0.0329, lr=2.9e-6]\n"
          ]
        },
        {
          "name": "stdout",
          "output_type": "stream",
          "text": [
            "Epoch 28, Val Loss: 0.1164206293319607, Val Accuracy: 0.9651671974522293\n"
          ]
        },
        {
          "name": "stderr",
          "output_type": "stream",
          "text": [
            "100%|██████████| 938/938 [00:44<00:00, 20.87it/s, accuracy=0.969, loss=0.0865, lr=2.32e-6]\n"
          ]
        },
        {
          "name": "stdout",
          "output_type": "stream",
          "text": [
            "Epoch 29, Val Loss: 0.11646212373376723, Val Accuracy: 0.9651671974522293\n"
          ]
        },
        {
          "name": "stderr",
          "output_type": "stream",
          "text": [
            "100%|██████████| 938/938 [00:44<00:00, 20.89it/s, accuracy=0.969, loss=0.0494, lr=1.86e-6]\n"
          ]
        },
        {
          "name": "stdout",
          "output_type": "stream",
          "text": [
            "Epoch 30, Val Loss: 0.11640277005224874, Val Accuracy: 0.9650676751592356\n",
            "LR: 0.0012 Gamma: 0.8 Hdim: 64 Best Accuracy: 0.9654657643312102\n"
          ]
        },
        {
          "name": "stderr",
          "output_type": "stream",
          "text": [
            "100%|██████████| 938/938 [00:45<00:00, 20.55it/s, accuracy=0.969, loss=0.093, lr=0.0012]\n"
          ]
        },
        {
          "name": "stdout",
          "output_type": "stream",
          "text": [
            "Epoch 1, Val Loss: 0.2169121134682161, Val Accuracy: 0.9340167197452229\n"
          ]
        },
        {
          "name": "stderr",
          "output_type": "stream",
          "text": [
            "100%|██████████| 938/938 [00:44<00:00, 20.87it/s, accuracy=1, loss=0.111, lr=0.00096]\n"
          ]
        },
        {
          "name": "stdout",
          "output_type": "stream",
          "text": [
            "Epoch 2, Val Loss: 0.14477188200363592, Val Accuracy: 0.9576035031847133\n"
          ]
        },
        {
          "name": "stderr",
          "output_type": "stream",
          "text": [
            "100%|██████████| 938/938 [00:45<00:00, 20.52it/s, accuracy=0.969, loss=0.0497, lr=0.000768]\n"
          ]
        },
        {
          "name": "stdout",
          "output_type": "stream",
          "text": [
            "Epoch 3, Val Loss: 0.12560200267382393, Val Accuracy: 0.9611863057324841\n"
          ]
        },
        {
          "name": "stderr",
          "output_type": "stream",
          "text": [
            "100%|██████████| 938/938 [00:43<00:00, 21.64it/s, accuracy=1, loss=0.0287, lr=0.000614]\n"
          ]
        },
        {
          "name": "stdout",
          "output_type": "stream",
          "text": [
            "Epoch 4, Val Loss: 0.09966620149692983, Val Accuracy: 0.96875\n"
          ]
        },
        {
          "name": "stderr",
          "output_type": "stream",
          "text": [
            "100%|██████████| 938/938 [00:44<00:00, 20.85it/s, accuracy=0.969, loss=0.108, lr=0.000492]\n"
          ]
        },
        {
          "name": "stdout",
          "output_type": "stream",
          "text": [
            "Epoch 5, Val Loss: 0.09979043342655074, Val Accuracy: 0.9710390127388535\n"
          ]
        },
        {
          "name": "stderr",
          "output_type": "stream",
          "text": [
            "100%|██████████| 938/938 [00:43<00:00, 21.36it/s, accuracy=0.969, loss=0.0501, lr=0.000393]\n"
          ]
        },
        {
          "name": "stdout",
          "output_type": "stream",
          "text": [
            "Epoch 6, Val Loss: 0.09532225311208802, Val Accuracy: 0.9713375796178344\n"
          ]
        },
        {
          "name": "stderr",
          "output_type": "stream",
          "text": [
            "100%|██████████| 938/938 [00:45<00:00, 20.62it/s, accuracy=1, loss=0.023, lr=0.000315]\n"
          ]
        },
        {
          "name": "stdout",
          "output_type": "stream",
          "text": [
            "Epoch 7, Val Loss: 0.08994833542335079, Val Accuracy: 0.9720342356687898\n"
          ]
        },
        {
          "name": "stderr",
          "output_type": "stream",
          "text": [
            "100%|██████████| 938/938 [00:45<00:00, 20.76it/s, accuracy=1, loss=0.0397, lr=0.000252]\n"
          ]
        },
        {
          "name": "stdout",
          "output_type": "stream",
          "text": [
            "Epoch 8, Val Loss: 0.08441331827639346, Val Accuracy: 0.9749203821656051\n"
          ]
        },
        {
          "name": "stderr",
          "output_type": "stream",
          "text": [
            "100%|██████████| 938/938 [00:45<00:00, 20.41it/s, accuracy=1, loss=0.0111, lr=0.000201]\n"
          ]
        },
        {
          "name": "stdout",
          "output_type": "stream",
          "text": [
            "Epoch 9, Val Loss: 0.07777583181756477, Val Accuracy: 0.9749203821656051\n"
          ]
        },
        {
          "name": "stderr",
          "output_type": "stream",
          "text": [
            "100%|██████████| 938/938 [00:44<00:00, 21.01it/s, accuracy=1, loss=0.0461, lr=0.000161]\n"
          ]
        },
        {
          "name": "stdout",
          "output_type": "stream",
          "text": [
            "Epoch 10, Val Loss: 0.08317207177888875, Val Accuracy: 0.9742237261146497\n"
          ]
        },
        {
          "name": "stderr",
          "output_type": "stream",
          "text": [
            "100%|██████████| 938/938 [00:43<00:00, 21.71it/s, accuracy=1, loss=0.0366, lr=0.000129]\n"
          ]
        },
        {
          "name": "stdout",
          "output_type": "stream",
          "text": [
            "Epoch 11, Val Loss: 0.07649262054196031, Val Accuracy: 0.9767117834394905\n"
          ]
        },
        {
          "name": "stderr",
          "output_type": "stream",
          "text": [
            "100%|██████████| 938/938 [00:45<00:00, 20.44it/s, accuracy=1, loss=0.0158, lr=0.000103]\n"
          ]
        },
        {
          "name": "stdout",
          "output_type": "stream",
          "text": [
            "Epoch 12, Val Loss: 0.0772784097180598, Val Accuracy: 0.9757165605095541\n"
          ]
        },
        {
          "name": "stderr",
          "output_type": "stream",
          "text": [
            "100%|██████████| 938/938 [00:46<00:00, 20.17it/s, accuracy=1, loss=0.0159, lr=8.25e-5]\n"
          ]
        },
        {
          "name": "stdout",
          "output_type": "stream",
          "text": [
            "Epoch 13, Val Loss: 0.07310178682799777, Val Accuracy: 0.9765127388535032\n"
          ]
        },
        {
          "name": "stderr",
          "output_type": "stream",
          "text": [
            "100%|██████████| 938/938 [00:43<00:00, 21.40it/s, accuracy=1, loss=0.0151, lr=6.6e-5]\n"
          ]
        },
        {
          "name": "stdout",
          "output_type": "stream",
          "text": [
            "Epoch 14, Val Loss: 0.07477625670036817, Val Accuracy: 0.9774084394904459\n"
          ]
        },
        {
          "name": "stderr",
          "output_type": "stream",
          "text": [
            "100%|██████████| 938/938 [00:42<00:00, 22.02it/s, accuracy=1, loss=0.0198, lr=5.28e-5]\n"
          ]
        },
        {
          "name": "stdout",
          "output_type": "stream",
          "text": [
            "Epoch 15, Val Loss: 0.07407324275952486, Val Accuracy: 0.9769108280254777\n"
          ]
        },
        {
          "name": "stderr",
          "output_type": "stream",
          "text": [
            "100%|██████████| 938/938 [00:44<00:00, 20.94it/s, accuracy=1, loss=0.018, lr=4.22e-5]\n"
          ]
        },
        {
          "name": "stdout",
          "output_type": "stream",
          "text": [
            "Epoch 16, Val Loss: 0.07367096611025749, Val Accuracy: 0.9774084394904459\n"
          ]
        },
        {
          "name": "stderr",
          "output_type": "stream",
          "text": [
            "100%|██████████| 938/938 [00:45<00:00, 20.75it/s, accuracy=1, loss=0.0274, lr=3.38e-5]\n"
          ]
        },
        {
          "name": "stdout",
          "output_type": "stream",
          "text": [
            "Epoch 17, Val Loss: 0.07322509305838608, Val Accuracy: 0.9765127388535032\n"
          ]
        },
        {
          "name": "stderr",
          "output_type": "stream",
          "text": [
            "100%|██████████| 938/938 [00:45<00:00, 20.40it/s, accuracy=1, loss=0.00783, lr=2.7e-5]\n"
          ]
        },
        {
          "name": "stdout",
          "output_type": "stream",
          "text": [
            "Epoch 18, Val Loss: 0.07317595537525756, Val Accuracy: 0.9769108280254777\n"
          ]
        },
        {
          "name": "stderr",
          "output_type": "stream",
          "text": [
            "100%|██████████| 938/938 [00:45<00:00, 20.59it/s, accuracy=1, loss=0.00386, lr=2.16e-5]\n"
          ]
        },
        {
          "name": "stdout",
          "output_type": "stream",
          "text": [
            "Epoch 19, Val Loss: 0.07290840852793579, Val Accuracy: 0.9764132165605095\n"
          ]
        },
        {
          "name": "stderr",
          "output_type": "stream",
          "text": [
            "100%|██████████| 938/938 [00:44<00:00, 21.07it/s, accuracy=1, loss=0.00835, lr=1.73e-5]\n"
          ]
        },
        {
          "name": "stdout",
          "output_type": "stream",
          "text": [
            "Epoch 20, Val Loss: 0.07318578995200717, Val Accuracy: 0.9765127388535032\n"
          ]
        },
        {
          "name": "stderr",
          "output_type": "stream",
          "text": [
            "100%|██████████| 938/938 [00:44<00:00, 21.07it/s, accuracy=0.969, loss=0.149, lr=1.38e-5]\n"
          ]
        },
        {
          "name": "stdout",
          "output_type": "stream",
          "text": [
            "Epoch 21, Val Loss: 0.07246410414119767, Val Accuracy: 0.9768113057324841\n"
          ]
        },
        {
          "name": "stderr",
          "output_type": "stream",
          "text": [
            "100%|██████████| 938/938 [00:44<00:00, 21.21it/s, accuracy=1, loss=0.00983, lr=1.11e-5]\n"
          ]
        },
        {
          "name": "stdout",
          "output_type": "stream",
          "text": [
            "Epoch 22, Val Loss: 0.07220375984968323, Val Accuracy: 0.977109872611465\n"
          ]
        },
        {
          "name": "stderr",
          "output_type": "stream",
          "text": [
            "100%|██████████| 938/938 [00:45<00:00, 20.42it/s, accuracy=1, loss=0.0275, lr=8.85e-6]\n"
          ]
        },
        {
          "name": "stdout",
          "output_type": "stream",
          "text": [
            "Epoch 23, Val Loss: 0.07231974211355721, Val Accuracy: 0.9767117834394905\n"
          ]
        },
        {
          "name": "stderr",
          "output_type": "stream",
          "text": [
            "100%|██████████| 938/938 [00:43<00:00, 21.37it/s, accuracy=0.969, loss=0.0712, lr=7.08e-6]\n"
          ]
        },
        {
          "name": "stdout",
          "output_type": "stream",
          "text": [
            "Epoch 24, Val Loss: 0.07232599486103786, Val Accuracy: 0.977109872611465\n"
          ]
        },
        {
          "name": "stderr",
          "output_type": "stream",
          "text": [
            "100%|██████████| 938/938 [00:44<00:00, 21.21it/s, accuracy=0.938, loss=0.112, lr=5.67e-6]\n"
          ]
        },
        {
          "name": "stdout",
          "output_type": "stream",
          "text": [
            "Epoch 25, Val Loss: 0.07227980970450644, Val Accuracy: 0.9769108280254777\n"
          ]
        },
        {
          "name": "stderr",
          "output_type": "stream",
          "text": [
            "100%|██████████| 938/938 [00:45<00:00, 20.84it/s, accuracy=0.969, loss=0.0707, lr=4.53e-6]\n"
          ]
        },
        {
          "name": "stdout",
          "output_type": "stream",
          "text": [
            "Epoch 26, Val Loss: 0.07222053660222576, Val Accuracy: 0.9768113057324841\n"
          ]
        },
        {
          "name": "stderr",
          "output_type": "stream",
          "text": [
            "100%|██████████| 938/938 [00:45<00:00, 20.40it/s, accuracy=1, loss=0.0147, lr=3.63e-6]\n"
          ]
        },
        {
          "name": "stdout",
          "output_type": "stream",
          "text": [
            "Epoch 27, Val Loss: 0.07215206799678324, Val Accuracy: 0.9769108280254777\n"
          ]
        },
        {
          "name": "stderr",
          "output_type": "stream",
          "text": [
            "100%|██████████| 938/938 [00:44<00:00, 20.99it/s, accuracy=1, loss=0.0209, lr=2.9e-6]\n"
          ]
        },
        {
          "name": "stdout",
          "output_type": "stream",
          "text": [
            "Epoch 28, Val Loss: 0.07211422323468764, Val Accuracy: 0.9770103503184714\n"
          ]
        },
        {
          "name": "stderr",
          "output_type": "stream",
          "text": [
            "100%|██████████| 938/938 [00:44<00:00, 21.26it/s, accuracy=1, loss=0.0164, lr=2.32e-6]\n"
          ]
        },
        {
          "name": "stdout",
          "output_type": "stream",
          "text": [
            "Epoch 29, Val Loss: 0.07204577191951567, Val Accuracy: 0.9772093949044586\n"
          ]
        },
        {
          "name": "stderr",
          "output_type": "stream",
          "text": [
            "100%|██████████| 938/938 [00:43<00:00, 21.32it/s, accuracy=1, loss=0.0255, lr=1.86e-6]\n"
          ]
        },
        {
          "name": "stdout",
          "output_type": "stream",
          "text": [
            "Epoch 30, Val Loss: 0.0721150154466066, Val Accuracy: 0.977109872611465\n",
            "LR: 0.0012 Gamma: 0.8 Hdim: 128 Best Accuracy: 0.9774084394904459\n"
          ]
        },
        {
          "name": "stderr",
          "output_type": "stream",
          "text": [
            "100%|██████████| 938/938 [00:46<00:00, 20.14it/s, accuracy=0.906, loss=0.202, lr=0.0012]\n"
          ]
        },
        {
          "name": "stdout",
          "output_type": "stream",
          "text": [
            "Epoch 1, Val Loss: 0.17010356742698865, Val Accuracy: 0.9495421974522293\n"
          ]
        },
        {
          "name": "stderr",
          "output_type": "stream",
          "text": [
            "100%|██████████| 938/938 [00:45<00:00, 20.74it/s, accuracy=0.969, loss=0.103, lr=0.00096]\n"
          ]
        },
        {
          "name": "stdout",
          "output_type": "stream",
          "text": [
            "Epoch 2, Val Loss: 0.1251661516755677, Val Accuracy: 0.9623805732484076\n"
          ]
        },
        {
          "name": "stderr",
          "output_type": "stream",
          "text": [
            "100%|██████████| 938/938 [00:46<00:00, 20.18it/s, accuracy=0.938, loss=0.257, lr=0.000768]\n"
          ]
        },
        {
          "name": "stdout",
          "output_type": "stream",
          "text": [
            "Epoch 3, Val Loss: 0.10405659396201372, Val Accuracy: 0.9681528662420382\n"
          ]
        },
        {
          "name": "stderr",
          "output_type": "stream",
          "text": [
            "100%|██████████| 938/938 [00:45<00:00, 20.82it/s, accuracy=0.969, loss=0.146, lr=0.000614]\n"
          ]
        },
        {
          "name": "stdout",
          "output_type": "stream",
          "text": [
            "Epoch 4, Val Loss: 0.09665924075851513, Val Accuracy: 0.9711385350318471\n"
          ]
        },
        {
          "name": "stderr",
          "output_type": "stream",
          "text": [
            "100%|██████████| 938/938 [00:46<00:00, 20.17it/s, accuracy=0.969, loss=0.091, lr=0.000492]\n"
          ]
        },
        {
          "name": "stdout",
          "output_type": "stream",
          "text": [
            "Epoch 5, Val Loss: 0.08364112773920546, Val Accuracy: 0.9736265923566879\n"
          ]
        },
        {
          "name": "stderr",
          "output_type": "stream",
          "text": [
            "100%|██████████| 938/938 [00:44<00:00, 21.23it/s, accuracy=1, loss=0.0276, lr=0.000393]\n"
          ]
        },
        {
          "name": "stdout",
          "output_type": "stream",
          "text": [
            "Epoch 6, Val Loss: 0.07801089670203602, Val Accuracy: 0.9762141719745223\n"
          ]
        },
        {
          "name": "stderr",
          "output_type": "stream",
          "text": [
            "100%|██████████| 938/938 [00:44<00:00, 21.07it/s, accuracy=1, loss=0.0173, lr=0.000315]\n"
          ]
        },
        {
          "name": "stdout",
          "output_type": "stream",
          "text": [
            "Epoch 7, Val Loss: 0.0718826121097478, Val Accuracy: 0.9770103503184714\n"
          ]
        },
        {
          "name": "stderr",
          "output_type": "stream",
          "text": [
            "100%|██████████| 938/938 [00:45<00:00, 20.44it/s, accuracy=0.969, loss=0.0697, lr=0.000252]\n"
          ]
        },
        {
          "name": "stdout",
          "output_type": "stream",
          "text": [
            "Epoch 8, Val Loss: 0.06902201262237445, Val Accuracy: 0.9788017515923567\n"
          ]
        },
        {
          "name": "stderr",
          "output_type": "stream",
          "text": [
            "100%|██████████| 938/938 [00:45<00:00, 20.46it/s, accuracy=0.969, loss=0.0862, lr=0.000201]\n"
          ]
        },
        {
          "name": "stdout",
          "output_type": "stream",
          "text": [
            "Epoch 9, Val Loss: 0.06941146268338784, Val Accuracy: 0.9788017515923567\n"
          ]
        },
        {
          "name": "stderr",
          "output_type": "stream",
          "text": [
            "100%|██████████| 938/938 [00:44<00:00, 21.12it/s, accuracy=1, loss=0.011, lr=0.000161]\n"
          ]
        },
        {
          "name": "stdout",
          "output_type": "stream",
          "text": [
            "Epoch 10, Val Loss: 0.0682919922556912, Val Accuracy: 0.9777070063694268\n"
          ]
        },
        {
          "name": "stderr",
          "output_type": "stream",
          "text": [
            "100%|██████████| 938/938 [00:44<00:00, 21.00it/s, accuracy=1, loss=0.00749, lr=0.000129]\n"
          ]
        },
        {
          "name": "stdout",
          "output_type": "stream",
          "text": [
            "Epoch 11, Val Loss: 0.06447844587703559, Val Accuracy: 0.9801950636942676\n"
          ]
        },
        {
          "name": "stderr",
          "output_type": "stream",
          "text": [
            "100%|██████████| 938/938 [00:45<00:00, 20.65it/s, accuracy=1, loss=0.0264, lr=0.000103]\n"
          ]
        },
        {
          "name": "stdout",
          "output_type": "stream",
          "text": [
            "Epoch 12, Val Loss: 0.06476158001817908, Val Accuracy: 0.9790007961783439\n"
          ]
        },
        {
          "name": "stderr",
          "output_type": "stream",
          "text": [
            "100%|██████████| 938/938 [00:45<00:00, 20.63it/s, accuracy=0.969, loss=0.0435, lr=8.25e-5]\n"
          ]
        },
        {
          "name": "stdout",
          "output_type": "stream",
          "text": [
            "Epoch 13, Val Loss: 0.06410520231617454, Val Accuracy: 0.9791998407643312\n"
          ]
        },
        {
          "name": "stderr",
          "output_type": "stream",
          "text": [
            "100%|██████████| 938/938 [00:46<00:00, 20.28it/s, accuracy=1, loss=0.0078, lr=6.6e-5]\n"
          ]
        },
        {
          "name": "stdout",
          "output_type": "stream",
          "text": [
            "Epoch 14, Val Loss: 0.06227450876411089, Val Accuracy: 0.9811902866242038\n"
          ]
        },
        {
          "name": "stderr",
          "output_type": "stream",
          "text": [
            "100%|██████████| 938/938 [00:44<00:00, 20.94it/s, accuracy=1, loss=0.0151, lr=5.28e-5]\n"
          ]
        },
        {
          "name": "stdout",
          "output_type": "stream",
          "text": [
            "Epoch 15, Val Loss: 0.06279077604309223, Val Accuracy: 0.9803941082802548\n"
          ]
        },
        {
          "name": "stderr",
          "output_type": "stream",
          "text": [
            "100%|██████████| 938/938 [00:45<00:00, 20.53it/s, accuracy=1, loss=0.0253, lr=4.22e-5]\n"
          ]
        },
        {
          "name": "stdout",
          "output_type": "stream",
          "text": [
            "Epoch 16, Val Loss: 0.06401647236018373, Val Accuracy: 0.9800955414012739\n"
          ]
        },
        {
          "name": "stderr",
          "output_type": "stream",
          "text": [
            "100%|██████████| 938/938 [00:46<00:00, 20.00it/s, accuracy=1, loss=0.01, lr=3.38e-5]\n"
          ]
        },
        {
          "name": "stdout",
          "output_type": "stream",
          "text": [
            "Epoch 17, Val Loss: 0.06314198800828308, Val Accuracy: 0.9806926751592356\n"
          ]
        },
        {
          "name": "stderr",
          "output_type": "stream",
          "text": [
            "100%|██████████| 938/938 [00:45<00:00, 20.82it/s, accuracy=1, loss=0.000462, lr=2.7e-5]\n"
          ]
        },
        {
          "name": "stdout",
          "output_type": "stream",
          "text": [
            "Epoch 18, Val Loss: 0.06124133255010527, Val Accuracy: 0.9811902866242038\n"
          ]
        },
        {
          "name": "stderr",
          "output_type": "stream",
          "text": [
            "100%|██████████| 938/938 [00:47<00:00, 19.89it/s, accuracy=1, loss=0.0285, lr=2.16e-5]\n"
          ]
        },
        {
          "name": "stdout",
          "output_type": "stream",
          "text": [
            "Epoch 19, Val Loss: 0.06196125231851574, Val Accuracy: 0.9806926751592356\n"
          ]
        },
        {
          "name": "stderr",
          "output_type": "stream",
          "text": [
            "100%|██████████| 938/938 [00:47<00:00, 19.72it/s, accuracy=0.969, loss=0.188, lr=1.73e-5]\n"
          ]
        },
        {
          "name": "stdout",
          "output_type": "stream",
          "text": [
            "Epoch 20, Val Loss: 0.06231155656943629, Val Accuracy: 0.9802945859872612\n"
          ]
        },
        {
          "name": "stderr",
          "output_type": "stream",
          "text": [
            "100%|██████████| 938/938 [00:47<00:00, 19.92it/s, accuracy=1, loss=0.0124, lr=1.38e-5]\n"
          ]
        },
        {
          "name": "stdout",
          "output_type": "stream",
          "text": [
            "Epoch 21, Val Loss: 0.061961560316104294, Val Accuracy: 0.9809912420382165\n"
          ]
        },
        {
          "name": "stderr",
          "output_type": "stream",
          "text": [
            "100%|██████████| 938/938 [00:46<00:00, 20.17it/s, accuracy=1, loss=0.00846, lr=1.11e-5]\n"
          ]
        },
        {
          "name": "stdout",
          "output_type": "stream",
          "text": [
            "Epoch 22, Val Loss: 0.06192558762323776, Val Accuracy: 0.9803941082802548\n"
          ]
        },
        {
          "name": "stderr",
          "output_type": "stream",
          "text": [
            "100%|██████████| 938/938 [00:45<00:00, 20.62it/s, accuracy=1, loss=0.0329, lr=8.85e-6]\n"
          ]
        },
        {
          "name": "stdout",
          "output_type": "stream",
          "text": [
            "Epoch 23, Val Loss: 0.061757174332661015, Val Accuracy: 0.9814888535031847\n"
          ]
        },
        {
          "name": "stderr",
          "output_type": "stream",
          "text": [
            "100%|██████████| 938/938 [00:47<00:00, 19.82it/s, accuracy=0.969, loss=0.0696, lr=7.08e-6]\n"
          ]
        },
        {
          "name": "stdout",
          "output_type": "stream",
          "text": [
            "Epoch 24, Val Loss: 0.06172317294085066, Val Accuracy: 0.9811902866242038\n"
          ]
        },
        {
          "name": "stderr",
          "output_type": "stream",
          "text": [
            "100%|██████████| 938/938 [00:46<00:00, 20.33it/s, accuracy=1, loss=0.00092, lr=5.67e-6]\n"
          ]
        },
        {
          "name": "stdout",
          "output_type": "stream",
          "text": [
            "Epoch 25, Val Loss: 0.06180337533845261, Val Accuracy: 0.9811902866242038\n"
          ]
        },
        {
          "name": "stderr",
          "output_type": "stream",
          "text": [
            "100%|██████████| 938/938 [00:45<00:00, 20.83it/s, accuracy=1, loss=0.00648, lr=4.53e-6]\n"
          ]
        },
        {
          "name": "stdout",
          "output_type": "stream",
          "text": [
            "Epoch 26, Val Loss: 0.061741498122559, Val Accuracy: 0.9811902866242038\n"
          ]
        },
        {
          "name": "stderr",
          "output_type": "stream",
          "text": [
            "100%|██████████| 938/938 [00:47<00:00, 19.69it/s, accuracy=1, loss=0.0147, lr=3.63e-6]\n"
          ]
        },
        {
          "name": "stdout",
          "output_type": "stream",
          "text": [
            "Epoch 27, Val Loss: 0.0618308184220371, Val Accuracy: 0.9811902866242038\n"
          ]
        },
        {
          "name": "stderr",
          "output_type": "stream",
          "text": [
            "100%|██████████| 938/938 [00:46<00:00, 20.23it/s, accuracy=1, loss=0.00265, lr=2.9e-6]\n"
          ]
        },
        {
          "name": "stdout",
          "output_type": "stream",
          "text": [
            "Epoch 28, Val Loss: 0.06169933928929382, Val Accuracy: 0.9812898089171974\n"
          ]
        },
        {
          "name": "stderr",
          "output_type": "stream",
          "text": [
            "100%|██████████| 938/938 [00:46<00:00, 20.15it/s, accuracy=1, loss=0.0168, lr=2.32e-6]\n"
          ]
        },
        {
          "name": "stdout",
          "output_type": "stream",
          "text": [
            "Epoch 29, Val Loss: 0.06175676703808613, Val Accuracy: 0.9814888535031847\n"
          ]
        },
        {
          "name": "stderr",
          "output_type": "stream",
          "text": [
            "100%|██████████| 938/938 [00:47<00:00, 19.92it/s, accuracy=1, loss=0.00347, lr=1.86e-6]\n"
          ]
        },
        {
          "name": "stdout",
          "output_type": "stream",
          "text": [
            "Epoch 30, Val Loss: 0.06173644142229463, Val Accuracy: 0.9812898089171974\n",
            "LR: 0.0012 Gamma: 0.8 Hdim: 256 Best Accuracy: 0.9814888535031847\n"
          ]
        },
        {
          "name": "stderr",
          "output_type": "stream",
          "text": [
            "100%|██████████| 938/938 [00:46<00:00, 20.31it/s, accuracy=0.938, loss=0.203, lr=0.0012]\n"
          ]
        },
        {
          "name": "stdout",
          "output_type": "stream",
          "text": [
            "Epoch 1, Val Loss: 0.2526764049414237, Val Accuracy: 0.9259554140127388\n"
          ]
        },
        {
          "name": "stderr",
          "output_type": "stream",
          "text": [
            "100%|██████████| 938/938 [00:45<00:00, 20.61it/s, accuracy=0.906, loss=0.234, lr=0.00108]\n"
          ]
        },
        {
          "name": "stdout",
          "output_type": "stream",
          "text": [
            "Epoch 2, Val Loss: 0.22004533912630597, Val Accuracy: 0.9384952229299363\n"
          ]
        },
        {
          "name": "stderr",
          "output_type": "stream",
          "text": [
            "100%|██████████| 938/938 [00:46<00:00, 20.29it/s, accuracy=0.969, loss=0.0762, lr=0.000972]\n"
          ]
        },
        {
          "name": "stdout",
          "output_type": "stream",
          "text": [
            "Epoch 3, Val Loss: 0.1821659859418157, Val Accuracy: 0.9481488853503185\n"
          ]
        },
        {
          "name": "stderr",
          "output_type": "stream",
          "text": [
            "100%|██████████| 938/938 [00:48<00:00, 19.44it/s, accuracy=0.938, loss=0.319, lr=0.000875]\n"
          ]
        },
        {
          "name": "stdout",
          "output_type": "stream",
          "text": [
            "Epoch 4, Val Loss: 0.15722294061913328, Val Accuracy: 0.9514331210191083\n"
          ]
        },
        {
          "name": "stderr",
          "output_type": "stream",
          "text": [
            "100%|██████████| 938/938 [00:45<00:00, 20.59it/s, accuracy=1, loss=0.0641, lr=0.000787]\n"
          ]
        },
        {
          "name": "stdout",
          "output_type": "stream",
          "text": [
            "Epoch 5, Val Loss: 0.1429429581480777, Val Accuracy: 0.9581011146496815\n"
          ]
        },
        {
          "name": "stderr",
          "output_type": "stream",
          "text": [
            "100%|██████████| 938/938 [00:47<00:00, 19.80it/s, accuracy=1, loss=0.0292, lr=0.000709]\n"
          ]
        },
        {
          "name": "stdout",
          "output_type": "stream",
          "text": [
            "Epoch 6, Val Loss: 0.13861195215359212, Val Accuracy: 0.9589968152866242\n"
          ]
        },
        {
          "name": "stderr",
          "output_type": "stream",
          "text": [
            "100%|██████████| 938/938 [00:47<00:00, 19.66it/s, accuracy=1, loss=0.0391, lr=0.000638]\n"
          ]
        },
        {
          "name": "stdout",
          "output_type": "stream",
          "text": [
            "Epoch 7, Val Loss: 0.13010653455083251, Val Accuracy: 0.9612858280254777\n"
          ]
        },
        {
          "name": "stderr",
          "output_type": "stream",
          "text": [
            "100%|██████████| 938/938 [00:46<00:00, 20.03it/s, accuracy=0.969, loss=0.0812, lr=0.000574]\n"
          ]
        },
        {
          "name": "stdout",
          "output_type": "stream",
          "text": [
            "Epoch 8, Val Loss: 0.12836660212499035, Val Accuracy: 0.9602906050955414\n"
          ]
        },
        {
          "name": "stderr",
          "output_type": "stream",
          "text": [
            "100%|██████████| 938/938 [00:47<00:00, 19.74it/s, accuracy=1, loss=0.0603, lr=0.000517]\n"
          ]
        },
        {
          "name": "stdout",
          "output_type": "stream",
          "text": [
            "Epoch 9, Val Loss: 0.1209033462374655, Val Accuracy: 0.963077229299363\n"
          ]
        },
        {
          "name": "stderr",
          "output_type": "stream",
          "text": [
            "100%|██████████| 938/938 [00:48<00:00, 19.21it/s, accuracy=0.969, loss=0.0885, lr=0.000465]\n"
          ]
        },
        {
          "name": "stdout",
          "output_type": "stream",
          "text": [
            "Epoch 10, Val Loss: 0.11683441269149185, Val Accuracy: 0.9644705414012739\n"
          ]
        },
        {
          "name": "stderr",
          "output_type": "stream",
          "text": [
            "100%|██████████| 938/938 [00:48<00:00, 19.54it/s, accuracy=0.938, loss=0.245, lr=0.000418]\n"
          ]
        },
        {
          "name": "stdout",
          "output_type": "stream",
          "text": [
            "Epoch 11, Val Loss: 0.11537734517800936, Val Accuracy: 0.9655652866242038\n"
          ]
        },
        {
          "name": "stderr",
          "output_type": "stream",
          "text": [
            "100%|██████████| 938/938 [00:48<00:00, 19.38it/s, accuracy=1, loss=0.00669, lr=0.000377]\n"
          ]
        },
        {
          "name": "stdout",
          "output_type": "stream",
          "text": [
            "Epoch 12, Val Loss: 0.1073660351488751, Val Accuracy: 0.9672571656050956\n"
          ]
        },
        {
          "name": "stderr",
          "output_type": "stream",
          "text": [
            "100%|██████████| 938/938 [00:48<00:00, 19.19it/s, accuracy=1, loss=0.075, lr=0.000339]\n"
          ]
        },
        {
          "name": "stdout",
          "output_type": "stream",
          "text": [
            "Epoch 13, Val Loss: 0.1124494925503186, Val Accuracy: 0.9657643312101911\n"
          ]
        },
        {
          "name": "stderr",
          "output_type": "stream",
          "text": [
            "100%|██████████| 938/938 [00:47<00:00, 19.84it/s, accuracy=0.969, loss=0.0717, lr=0.000305]\n"
          ]
        },
        {
          "name": "stdout",
          "output_type": "stream",
          "text": [
            "Epoch 14, Val Loss: 0.11081654562430966, Val Accuracy: 0.9669585987261147\n"
          ]
        },
        {
          "name": "stderr",
          "output_type": "stream",
          "text": [
            "100%|██████████| 938/938 [00:48<00:00, 19.49it/s, accuracy=1, loss=0.0306, lr=0.000275]\n"
          ]
        },
        {
          "name": "stdout",
          "output_type": "stream",
          "text": [
            "Epoch 15, Val Loss: 0.10456821756440386, Val Accuracy: 0.9681528662420382\n"
          ]
        },
        {
          "name": "stderr",
          "output_type": "stream",
          "text": [
            "100%|██████████| 938/938 [00:46<00:00, 19.98it/s, accuracy=1, loss=0.0419, lr=0.000247]\n"
          ]
        },
        {
          "name": "stdout",
          "output_type": "stream",
          "text": [
            "Epoch 16, Val Loss: 0.10397345288271073, Val Accuracy: 0.9689490445859873\n"
          ]
        },
        {
          "name": "stderr",
          "output_type": "stream",
          "text": [
            "100%|██████████| 938/938 [00:47<00:00, 19.90it/s, accuracy=0.938, loss=0.133, lr=0.000222]\n"
          ]
        },
        {
          "name": "stdout",
          "output_type": "stream",
          "text": [
            "Epoch 17, Val Loss: 0.10436623966006954, Val Accuracy: 0.9684514331210191\n"
          ]
        },
        {
          "name": "stderr",
          "output_type": "stream",
          "text": [
            "100%|██████████| 938/938 [00:46<00:00, 20.20it/s, accuracy=0.875, loss=0.331, lr=0.0002]\n"
          ]
        },
        {
          "name": "stdout",
          "output_type": "stream",
          "text": [
            "Epoch 18, Val Loss: 0.10558541145533099, Val Accuracy: 0.9677547770700637\n"
          ]
        },
        {
          "name": "stderr",
          "output_type": "stream",
          "text": [
            "100%|██████████| 938/938 [00:46<00:00, 20.15it/s, accuracy=0.906, loss=0.202, lr=0.00018]\n"
          ]
        },
        {
          "name": "stdout",
          "output_type": "stream",
          "text": [
            "Epoch 19, Val Loss: 0.10505290542637254, Val Accuracy: 0.9686504777070064\n"
          ]
        },
        {
          "name": "stderr",
          "output_type": "stream",
          "text": [
            "100%|██████████| 938/938 [00:46<00:00, 20.26it/s, accuracy=0.969, loss=0.146, lr=0.000162]\n"
          ]
        },
        {
          "name": "stdout",
          "output_type": "stream",
          "text": [
            "Epoch 20, Val Loss: 0.10278630981208448, Val Accuracy: 0.9690485668789809\n"
          ]
        },
        {
          "name": "stderr",
          "output_type": "stream",
          "text": [
            "100%|██████████| 938/938 [00:47<00:00, 19.94it/s, accuracy=1, loss=0.0108, lr=0.000146]\n"
          ]
        },
        {
          "name": "stdout",
          "output_type": "stream",
          "text": [
            "Epoch 21, Val Loss: 0.10135490426335449, Val Accuracy: 0.9692476114649682\n"
          ]
        },
        {
          "name": "stderr",
          "output_type": "stream",
          "text": [
            "100%|██████████| 938/938 [00:49<00:00, 18.95it/s, accuracy=1, loss=0.0127, lr=0.000131]\n"
          ]
        },
        {
          "name": "stdout",
          "output_type": "stream",
          "text": [
            "Epoch 22, Val Loss: 0.10231814735085602, Val Accuracy: 0.9689490445859873\n"
          ]
        },
        {
          "name": "stderr",
          "output_type": "stream",
          "text": [
            "100%|██████████| 938/938 [00:47<00:00, 19.65it/s, accuracy=0.969, loss=0.152, lr=0.000118]\n"
          ]
        },
        {
          "name": "stdout",
          "output_type": "stream",
          "text": [
            "Epoch 23, Val Loss: 0.10051423304078057, Val Accuracy: 0.9703423566878981\n"
          ]
        },
        {
          "name": "stderr",
          "output_type": "stream",
          "text": [
            "100%|██████████| 938/938 [00:45<00:00, 20.42it/s, accuracy=0.938, loss=0.285, lr=0.000106]\n"
          ]
        },
        {
          "name": "stdout",
          "output_type": "stream",
          "text": [
            "Epoch 24, Val Loss: 0.0990348707937938, Val Accuracy: 0.9695461783439491\n"
          ]
        },
        {
          "name": "stderr",
          "output_type": "stream",
          "text": [
            "100%|██████████| 938/938 [00:45<00:00, 20.64it/s, accuracy=0.938, loss=0.182, lr=9.57e-5]\n"
          ]
        },
        {
          "name": "stdout",
          "output_type": "stream",
          "text": [
            "Epoch 25, Val Loss: 0.09905243737424374, Val Accuracy: 0.96984474522293\n"
          ]
        },
        {
          "name": "stderr",
          "output_type": "stream",
          "text": [
            "100%|██████████| 938/938 [00:45<00:00, 20.48it/s, accuracy=0.969, loss=0.12, lr=8.61e-5]\n"
          ]
        },
        {
          "name": "stdout",
          "output_type": "stream",
          "text": [
            "Epoch 26, Val Loss: 0.09913291947309603, Val Accuracy: 0.9700437898089171\n"
          ]
        },
        {
          "name": "stderr",
          "output_type": "stream",
          "text": [
            "100%|██████████| 938/938 [00:46<00:00, 20.25it/s, accuracy=0.969, loss=0.0709, lr=7.75e-5]\n"
          ]
        },
        {
          "name": "stdout",
          "output_type": "stream",
          "text": [
            "Epoch 27, Val Loss: 0.10021048270211894, Val Accuracy: 0.9707404458598726\n"
          ]
        },
        {
          "name": "stderr",
          "output_type": "stream",
          "text": [
            "100%|██████████| 938/938 [00:47<00:00, 19.85it/s, accuracy=1, loss=0.0191, lr=6.98e-5]\n"
          ]
        },
        {
          "name": "stdout",
          "output_type": "stream",
          "text": [
            "Epoch 28, Val Loss: 0.09899645180635712, Val Accuracy: 0.9707404458598726\n"
          ]
        },
        {
          "name": "stderr",
          "output_type": "stream",
          "text": [
            "100%|██████████| 938/938 [00:46<00:00, 20.29it/s, accuracy=0.969, loss=0.0561, lr=6.28e-5]\n"
          ]
        },
        {
          "name": "stdout",
          "output_type": "stream",
          "text": [
            "Epoch 29, Val Loss: 0.09769252530420733, Val Accuracy: 0.9707404458598726\n"
          ]
        },
        {
          "name": "stderr",
          "output_type": "stream",
          "text": [
            "100%|██████████| 938/938 [00:46<00:00, 20.06it/s, accuracy=0.969, loss=0.062, lr=5.65e-5]\n"
          ]
        },
        {
          "name": "stdout",
          "output_type": "stream",
          "text": [
            "Epoch 30, Val Loss: 0.09848700707317122, Val Accuracy: 0.9712380573248408\n",
            "LR: 0.0012 Gamma: 0.9 Hdim: 64 Best Accuracy: 0.9712380573248408\n"
          ]
        },
        {
          "name": "stderr",
          "output_type": "stream",
          "text": [
            "100%|██████████| 938/938 [00:46<00:00, 20.16it/s, accuracy=0.969, loss=0.093, lr=0.0012]\n"
          ]
        },
        {
          "name": "stdout",
          "output_type": "stream",
          "text": [
            "Epoch 1, Val Loss: 0.2169121134682161, Val Accuracy: 0.9340167197452229\n"
          ]
        },
        {
          "name": "stderr",
          "output_type": "stream",
          "text": [
            "100%|██████████| 938/938 [00:47<00:00, 19.77it/s, accuracy=0.969, loss=0.121, lr=0.00108]\n"
          ]
        },
        {
          "name": "stdout",
          "output_type": "stream",
          "text": [
            "Epoch 2, Val Loss: 0.1388914935486569, Val Accuracy: 0.9602906050955414\n"
          ]
        },
        {
          "name": "stderr",
          "output_type": "stream",
          "text": [
            "100%|██████████| 938/938 [00:45<00:00, 20.41it/s, accuracy=0.969, loss=0.0473, lr=0.000972]\n"
          ]
        },
        {
          "name": "stdout",
          "output_type": "stream",
          "text": [
            "Epoch 3, Val Loss: 0.11875858179673221, Val Accuracy: 0.9628781847133758\n"
          ]
        },
        {
          "name": "stderr",
          "output_type": "stream",
          "text": [
            "100%|██████████| 938/938 [00:45<00:00, 20.71it/s, accuracy=1, loss=0.0166, lr=0.000875]\n"
          ]
        },
        {
          "name": "stdout",
          "output_type": "stream",
          "text": [
            "Epoch 4, Val Loss: 0.09516211624174219, Val Accuracy: 0.9707404458598726\n"
          ]
        },
        {
          "name": "stderr",
          "output_type": "stream",
          "text": [
            "100%|██████████| 938/938 [00:46<00:00, 20.32it/s, accuracy=0.969, loss=0.0707, lr=0.000787]\n"
          ]
        },
        {
          "name": "stdout",
          "output_type": "stream",
          "text": [
            "Epoch 5, Val Loss: 0.09899222799487839, Val Accuracy: 0.9707404458598726\n"
          ]
        },
        {
          "name": "stderr",
          "output_type": "stream",
          "text": [
            "100%|██████████| 938/938 [00:46<00:00, 19.97it/s, accuracy=1, loss=0.0403, lr=0.000709]\n"
          ]
        },
        {
          "name": "stdout",
          "output_type": "stream",
          "text": [
            "Epoch 6, Val Loss: 0.09691139605714921, Val Accuracy: 0.9696457006369427\n"
          ]
        },
        {
          "name": "stderr",
          "output_type": "stream",
          "text": [
            "100%|██████████| 938/938 [00:46<00:00, 20.28it/s, accuracy=1, loss=0.0247, lr=0.000638]\n"
          ]
        },
        {
          "name": "stdout",
          "output_type": "stream",
          "text": [
            "Epoch 7, Val Loss: 0.09445529024818894, Val Accuracy: 0.9723328025477707\n"
          ]
        },
        {
          "name": "stderr",
          "output_type": "stream",
          "text": [
            "100%|██████████| 938/938 [00:48<00:00, 19.19it/s, accuracy=0.969, loss=0.056, lr=0.000574]\n"
          ]
        },
        {
          "name": "stdout",
          "output_type": "stream",
          "text": [
            "Epoch 8, Val Loss: 0.08797975019648209, Val Accuracy: 0.9737261146496815\n"
          ]
        },
        {
          "name": "stderr",
          "output_type": "stream",
          "text": [
            "100%|██████████| 938/938 [00:48<00:00, 19.47it/s, accuracy=1, loss=0.00827, lr=0.000517]\n"
          ]
        },
        {
          "name": "stdout",
          "output_type": "stream",
          "text": [
            "Epoch 9, Val Loss: 0.08051889091225899, Val Accuracy: 0.9765127388535032\n"
          ]
        },
        {
          "name": "stderr",
          "output_type": "stream",
          "text": [
            "100%|██████████| 938/938 [00:49<00:00, 18.98it/s, accuracy=1, loss=0.02, lr=0.000465]\n"
          ]
        },
        {
          "name": "stdout",
          "output_type": "stream",
          "text": [
            "Epoch 10, Val Loss: 0.08304823785137895, Val Accuracy: 0.9743232484076433\n"
          ]
        },
        {
          "name": "stderr",
          "output_type": "stream",
          "text": [
            "100%|██████████| 938/938 [00:47<00:00, 19.74it/s, accuracy=0.969, loss=0.0462, lr=0.000418]\n"
          ]
        },
        {
          "name": "stdout",
          "output_type": "stream",
          "text": [
            "Epoch 11, Val Loss: 0.07369622704489558, Val Accuracy: 0.9773089171974523\n"
          ]
        },
        {
          "name": "stderr",
          "output_type": "stream",
          "text": [
            "100%|██████████| 938/938 [00:48<00:00, 19.27it/s, accuracy=1, loss=0.0123, lr=0.000377]\n"
          ]
        },
        {
          "name": "stdout",
          "output_type": "stream",
          "text": [
            "Epoch 12, Val Loss: 0.07564072528174429, Val Accuracy: 0.9767117834394905\n"
          ]
        },
        {
          "name": "stderr",
          "output_type": "stream",
          "text": [
            "100%|██████████| 938/938 [00:47<00:00, 19.73it/s, accuracy=1, loss=0.0133, lr=0.000339]\n"
          ]
        },
        {
          "name": "stdout",
          "output_type": "stream",
          "text": [
            "Epoch 13, Val Loss: 0.07086203260201543, Val Accuracy: 0.9781050955414012\n"
          ]
        },
        {
          "name": "stderr",
          "output_type": "stream",
          "text": [
            "100%|██████████| 938/938 [00:47<00:00, 19.94it/s, accuracy=1, loss=0.0159, lr=0.000305]\n"
          ]
        },
        {
          "name": "stdout",
          "output_type": "stream",
          "text": [
            "Epoch 14, Val Loss: 0.07225343706833338, Val Accuracy: 0.9781050955414012\n"
          ]
        },
        {
          "name": "stderr",
          "output_type": "stream",
          "text": [
            "100%|██████████| 938/938 [00:49<00:00, 19.00it/s, accuracy=1, loss=0.0102, lr=0.000275]\n"
          ]
        },
        {
          "name": "stdout",
          "output_type": "stream",
          "text": [
            "Epoch 15, Val Loss: 0.07043516839514997, Val Accuracy: 0.9781050955414012\n"
          ]
        },
        {
          "name": "stderr",
          "output_type": "stream",
          "text": [
            "100%|██████████| 938/938 [00:48<00:00, 19.53it/s, accuracy=1, loss=0.00935, lr=0.000247]\n"
          ]
        },
        {
          "name": "stdout",
          "output_type": "stream",
          "text": [
            "Epoch 16, Val Loss: 0.06763682636238819, Val Accuracy: 0.9784036624203821\n"
          ]
        },
        {
          "name": "stderr",
          "output_type": "stream",
          "text": [
            "100%|██████████| 938/938 [00:49<00:00, 18.98it/s, accuracy=1, loss=0.0133, lr=0.000222]\n"
          ]
        },
        {
          "name": "stdout",
          "output_type": "stream",
          "text": [
            "Epoch 17, Val Loss: 0.06857941041941158, Val Accuracy: 0.9793988853503185\n"
          ]
        },
        {
          "name": "stderr",
          "output_type": "stream",
          "text": [
            "100%|██████████| 938/938 [00:48<00:00, 19.22it/s, accuracy=1, loss=0.00214, lr=0.0002]\n"
          ]
        },
        {
          "name": "stdout",
          "output_type": "stream",
          "text": [
            "Epoch 18, Val Loss: 0.06912759298473155, Val Accuracy: 0.9781050955414012\n"
          ]
        },
        {
          "name": "stderr",
          "output_type": "stream",
          "text": [
            "100%|██████████| 938/938 [00:47<00:00, 19.94it/s, accuracy=1, loss=0.00111, lr=0.00018]\n"
          ]
        },
        {
          "name": "stdout",
          "output_type": "stream",
          "text": [
            "Epoch 19, Val Loss: 0.07048469965169496, Val Accuracy: 0.9781050955414012\n"
          ]
        },
        {
          "name": "stderr",
          "output_type": "stream",
          "text": [
            "100%|██████████| 938/938 [00:47<00:00, 19.85it/s, accuracy=1, loss=0.00239, lr=0.000162]\n"
          ]
        },
        {
          "name": "stdout",
          "output_type": "stream",
          "text": [
            "Epoch 20, Val Loss: 0.06844244541552705, Val Accuracy: 0.9785031847133758\n"
          ]
        },
        {
          "name": "stderr",
          "output_type": "stream",
          "text": [
            "100%|██████████| 938/938 [00:46<00:00, 20.17it/s, accuracy=1, loss=0.043, lr=0.000146]\n"
          ]
        },
        {
          "name": "stdout",
          "output_type": "stream",
          "text": [
            "Epoch 21, Val Loss: 0.06880226765937619, Val Accuracy: 0.9782046178343949\n"
          ]
        },
        {
          "name": "stderr",
          "output_type": "stream",
          "text": [
            "100%|██████████| 938/938 [00:47<00:00, 19.71it/s, accuracy=1, loss=0.00692, lr=0.000131]\n"
          ]
        },
        {
          "name": "stdout",
          "output_type": "stream",
          "text": [
            "Epoch 22, Val Loss: 0.06916502207637376, Val Accuracy: 0.9776074840764332\n"
          ]
        },
        {
          "name": "stderr",
          "output_type": "stream",
          "text": [
            "100%|██████████| 938/938 [00:48<00:00, 19.15it/s, accuracy=1, loss=0.00837, lr=0.000118]\n"
          ]
        },
        {
          "name": "stdout",
          "output_type": "stream",
          "text": [
            "Epoch 23, Val Loss: 0.06995539001417554, Val Accuracy: 0.9788017515923567\n"
          ]
        },
        {
          "name": "stderr",
          "output_type": "stream",
          "text": [
            "100%|██████████| 938/938 [00:49<00:00, 19.14it/s, accuracy=1, loss=0.0107, lr=0.000106]\n"
          ]
        },
        {
          "name": "stdout",
          "output_type": "stream",
          "text": [
            "Epoch 24, Val Loss: 0.06948693995148976, Val Accuracy: 0.9783041401273885\n"
          ]
        },
        {
          "name": "stderr",
          "output_type": "stream",
          "text": [
            "100%|██████████| 938/938 [00:47<00:00, 19.75it/s, accuracy=0.969, loss=0.0535, lr=9.57e-5]\n"
          ]
        },
        {
          "name": "stdout",
          "output_type": "stream",
          "text": [
            "Epoch 25, Val Loss: 0.06934695973986138, Val Accuracy: 0.9782046178343949\n"
          ]
        },
        {
          "name": "stderr",
          "output_type": "stream",
          "text": [
            "100%|██████████| 938/938 [00:47<00:00, 19.83it/s, accuracy=1, loss=0.00668, lr=8.61e-5]\n"
          ]
        },
        {
          "name": "stdout",
          "output_type": "stream",
          "text": [
            "Epoch 26, Val Loss: 0.06876598110586642, Val Accuracy: 0.9790007961783439\n"
          ]
        },
        {
          "name": "stderr",
          "output_type": "stream",
          "text": [
            "100%|██████████| 938/938 [00:47<00:00, 19.76it/s, accuracy=1, loss=0.0018, lr=7.75e-5]\n"
          ]
        },
        {
          "name": "stdout",
          "output_type": "stream",
          "text": [
            "Epoch 27, Val Loss: 0.06863202178220681, Val Accuracy: 0.9791998407643312\n"
          ]
        },
        {
          "name": "stderr",
          "output_type": "stream",
          "text": [
            "100%|██████████| 938/938 [00:49<00:00, 19.00it/s, accuracy=1, loss=0.00588, lr=6.98e-5]\n"
          ]
        },
        {
          "name": "stdout",
          "output_type": "stream",
          "text": [
            "Epoch 28, Val Loss: 0.06748009154917509, Val Accuracy: 0.9795979299363057\n"
          ]
        },
        {
          "name": "stderr",
          "output_type": "stream",
          "text": [
            "100%|██████████| 938/938 [00:47<00:00, 19.57it/s, accuracy=1, loss=0.00388, lr=6.28e-5]\n"
          ]
        },
        {
          "name": "stdout",
          "output_type": "stream",
          "text": [
            "Epoch 29, Val Loss: 0.06917228003237669, Val Accuracy: 0.9791003184713376\n"
          ]
        },
        {
          "name": "stderr",
          "output_type": "stream",
          "text": [
            "100%|██████████| 938/938 [00:47<00:00, 19.77it/s, accuracy=1, loss=0.00561, lr=5.65e-5]\n"
          ]
        },
        {
          "name": "stdout",
          "output_type": "stream",
          "text": [
            "Epoch 30, Val Loss: 0.06890083936074226, Val Accuracy: 0.9788017515923567\n",
            "LR: 0.0012 Gamma: 0.9 Hdim: 128 Best Accuracy: 0.9795979299363057\n"
          ]
        },
        {
          "name": "stderr",
          "output_type": "stream",
          "text": [
            "100%|██████████| 938/938 [00:48<00:00, 19.49it/s, accuracy=0.906, loss=0.202, lr=0.0012]\n"
          ]
        },
        {
          "name": "stdout",
          "output_type": "stream",
          "text": [
            "Epoch 1, Val Loss: 0.17010356742698865, Val Accuracy: 0.9495421974522293\n"
          ]
        },
        {
          "name": "stderr",
          "output_type": "stream",
          "text": [
            "100%|██████████| 938/938 [00:48<00:00, 19.53it/s, accuracy=0.969, loss=0.11, lr=0.00108]\n"
          ]
        },
        {
          "name": "stdout",
          "output_type": "stream",
          "text": [
            "Epoch 2, Val Loss: 0.12789463904348147, Val Accuracy: 0.9617834394904459\n"
          ]
        },
        {
          "name": "stderr",
          "output_type": "stream",
          "text": [
            "100%|██████████| 938/938 [00:47<00:00, 19.67it/s, accuracy=0.938, loss=0.268, lr=0.000972]\n"
          ]
        },
        {
          "name": "stdout",
          "output_type": "stream",
          "text": [
            "Epoch 3, Val Loss: 0.1036098967224751, Val Accuracy: 0.9695461783439491\n"
          ]
        },
        {
          "name": "stderr",
          "output_type": "stream",
          "text": [
            "100%|██████████| 938/938 [00:48<00:00, 19.37it/s, accuracy=0.969, loss=0.109, lr=0.000875]\n"
          ]
        },
        {
          "name": "stdout",
          "output_type": "stream",
          "text": [
            "Epoch 4, Val Loss: 0.09609700825323415, Val Accuracy: 0.9702428343949044\n"
          ]
        },
        {
          "name": "stderr",
          "output_type": "stream",
          "text": [
            "100%|██████████| 938/938 [00:49<00:00, 18.95it/s, accuracy=0.969, loss=0.185, lr=0.000787]\n"
          ]
        },
        {
          "name": "stdout",
          "output_type": "stream",
          "text": [
            "Epoch 5, Val Loss: 0.09128244437431549, Val Accuracy: 0.9711385350318471\n"
          ]
        },
        {
          "name": "stderr",
          "output_type": "stream",
          "text": [
            "100%|██████████| 938/938 [00:47<00:00, 19.59it/s, accuracy=1, loss=0.0223, lr=0.000709]\n"
          ]
        },
        {
          "name": "stdout",
          "output_type": "stream",
          "text": [
            "Epoch 6, Val Loss: 0.08502358666440965, Val Accuracy: 0.9742237261146497\n"
          ]
        },
        {
          "name": "stderr",
          "output_type": "stream",
          "text": [
            "100%|██████████| 938/938 [00:46<00:00, 20.00it/s, accuracy=1, loss=0.0303, lr=0.000638]\n"
          ]
        },
        {
          "name": "stdout",
          "output_type": "stream",
          "text": [
            "Epoch 7, Val Loss: 0.07541282991995474, Val Accuracy: 0.9757165605095541\n"
          ]
        },
        {
          "name": "stderr",
          "output_type": "stream",
          "text": [
            "100%|██████████| 938/938 [00:48<00:00, 19.19it/s, accuracy=0.969, loss=0.0793, lr=0.000574]\n"
          ]
        },
        {
          "name": "stdout",
          "output_type": "stream",
          "text": [
            "Epoch 8, Val Loss: 0.0728712726876015, Val Accuracy: 0.9774084394904459\n"
          ]
        },
        {
          "name": "stderr",
          "output_type": "stream",
          "text": [
            "100%|██████████| 938/938 [00:46<00:00, 20.04it/s, accuracy=0.969, loss=0.086, lr=0.000517]\n"
          ]
        },
        {
          "name": "stdout",
          "output_type": "stream",
          "text": [
            "Epoch 9, Val Loss: 0.08270769745299991, Val Accuracy: 0.9732285031847133\n"
          ]
        },
        {
          "name": "stderr",
          "output_type": "stream",
          "text": [
            "100%|██████████| 938/938 [00:47<00:00, 19.86it/s, accuracy=1, loss=0.0133, lr=0.000465]\n"
          ]
        },
        {
          "name": "stdout",
          "output_type": "stream",
          "text": [
            "Epoch 10, Val Loss: 0.06671857805268255, Val Accuracy: 0.978702229299363\n"
          ]
        },
        {
          "name": "stderr",
          "output_type": "stream",
          "text": [
            "100%|██████████| 938/938 [00:47<00:00, 19.63it/s, accuracy=1, loss=0.00493, lr=0.000418]\n"
          ]
        },
        {
          "name": "stdout",
          "output_type": "stream",
          "text": [
            "Epoch 11, Val Loss: 0.06699454221058085, Val Accuracy: 0.9801950636942676\n"
          ]
        },
        {
          "name": "stderr",
          "output_type": "stream",
          "text": [
            "100%|██████████| 938/938 [00:49<00:00, 19.09it/s, accuracy=1, loss=0.00989, lr=0.000377]\n"
          ]
        },
        {
          "name": "stdout",
          "output_type": "stream",
          "text": [
            "Epoch 12, Val Loss: 0.06522185730544522, Val Accuracy: 0.980593152866242\n"
          ]
        },
        {
          "name": "stderr",
          "output_type": "stream",
          "text": [
            "100%|██████████| 938/938 [00:47<00:00, 19.56it/s, accuracy=1, loss=0.00825, lr=0.000339]\n"
          ]
        },
        {
          "name": "stdout",
          "output_type": "stream",
          "text": [
            "Epoch 13, Val Loss: 0.066302731044807, Val Accuracy: 0.9802945859872612\n"
          ]
        },
        {
          "name": "stderr",
          "output_type": "stream",
          "text": [
            "100%|██████████| 938/938 [00:47<00:00, 19.73it/s, accuracy=1, loss=0.00414, lr=0.000305]\n"
          ]
        },
        {
          "name": "stdout",
          "output_type": "stream",
          "text": [
            "Epoch 14, Val Loss: 0.06395551619893604, Val Accuracy: 0.9796974522292994\n"
          ]
        },
        {
          "name": "stderr",
          "output_type": "stream",
          "text": [
            "100%|██████████| 938/938 [00:46<00:00, 20.03it/s, accuracy=1, loss=0.00628, lr=0.000275]\n"
          ]
        },
        {
          "name": "stdout",
          "output_type": "stream",
          "text": [
            "Epoch 15, Val Loss: 0.0664816928144035, Val Accuracy: 0.9808917197452229\n"
          ]
        },
        {
          "name": "stderr",
          "output_type": "stream",
          "text": [
            "100%|██████████| 938/938 [00:48<00:00, 19.45it/s, accuracy=1, loss=0.00518, lr=0.000247]\n"
          ]
        },
        {
          "name": "stdout",
          "output_type": "stream",
          "text": [
            "Epoch 16, Val Loss: 0.07506854589282855, Val Accuracy: 0.9778065286624203\n"
          ]
        },
        {
          "name": "stderr",
          "output_type": "stream",
          "text": [
            "100%|██████████| 938/938 [00:47<00:00, 19.62it/s, accuracy=1, loss=0.00635, lr=0.000222]\n"
          ]
        },
        {
          "name": "stdout",
          "output_type": "stream",
          "text": [
            "Epoch 17, Val Loss: 0.06800923624324953, Val Accuracy: 0.9795979299363057\n"
          ]
        },
        {
          "name": "stderr",
          "output_type": "stream",
          "text": [
            "100%|██████████| 938/938 [00:47<00:00, 19.78it/s, accuracy=1, loss=7.02e-5, lr=0.0002]\n"
          ]
        },
        {
          "name": "stdout",
          "output_type": "stream",
          "text": [
            "Epoch 18, Val Loss: 0.06387057772950056, Val Accuracy: 0.9811902866242038\n"
          ]
        },
        {
          "name": "stderr",
          "output_type": "stream",
          "text": [
            "100%|██████████| 938/938 [00:48<00:00, 19.54it/s, accuracy=1, loss=0.00495, lr=0.00018]\n"
          ]
        },
        {
          "name": "stdout",
          "output_type": "stream",
          "text": [
            "Epoch 19, Val Loss: 0.06881141771335568, Val Accuracy: 0.9809912420382165\n"
          ]
        },
        {
          "name": "stderr",
          "output_type": "stream",
          "text": [
            "100%|██████████| 938/938 [00:47<00:00, 19.55it/s, accuracy=0.969, loss=0.0983, lr=0.000162]\n"
          ]
        },
        {
          "name": "stdout",
          "output_type": "stream",
          "text": [
            "Epoch 20, Val Loss: 0.06582439323803764, Val Accuracy: 0.9809912420382165\n"
          ]
        },
        {
          "name": "stderr",
          "output_type": "stream",
          "text": [
            "100%|██████████| 938/938 [00:48<00:00, 19.18it/s, accuracy=1, loss=0.00182, lr=0.000146]\n"
          ]
        },
        {
          "name": "stdout",
          "output_type": "stream",
          "text": [
            "Epoch 21, Val Loss: 0.06977013940531313, Val Accuracy: 0.9794984076433121\n"
          ]
        },
        {
          "name": "stderr",
          "output_type": "stream",
          "text": [
            "100%|██████████| 938/938 [00:48<00:00, 19.37it/s, accuracy=1, loss=0.00718, lr=0.000131]\n"
          ]
        },
        {
          "name": "stdout",
          "output_type": "stream",
          "text": [
            "Epoch 22, Val Loss: 0.06635030635426947, Val Accuracy: 0.9812898089171974\n"
          ]
        },
        {
          "name": "stderr",
          "output_type": "stream",
          "text": [
            "100%|██████████| 938/938 [00:49<00:00, 19.11it/s, accuracy=1, loss=0.00326, lr=0.000118]\n"
          ]
        },
        {
          "name": "stdout",
          "output_type": "stream",
          "text": [
            "Epoch 23, Val Loss: 0.06567548275457612, Val Accuracy: 0.9812898089171974\n"
          ]
        },
        {
          "name": "stderr",
          "output_type": "stream",
          "text": [
            "100%|██████████| 938/938 [00:47<00:00, 19.73it/s, accuracy=0.969, loss=0.0254, lr=0.000106]\n"
          ]
        },
        {
          "name": "stdout",
          "output_type": "stream",
          "text": [
            "Epoch 24, Val Loss: 0.06562677776644554, Val Accuracy: 0.981687898089172\n"
          ]
        },
        {
          "name": "stderr",
          "output_type": "stream",
          "text": [
            "100%|██████████| 938/938 [00:48<00:00, 19.43it/s, accuracy=1, loss=8.59e-5, lr=9.57e-5]\n"
          ]
        },
        {
          "name": "stdout",
          "output_type": "stream",
          "text": [
            "Epoch 25, Val Loss: 0.06565133557796798, Val Accuracy: 0.9810907643312102\n"
          ]
        },
        {
          "name": "stderr",
          "output_type": "stream",
          "text": [
            "100%|██████████| 938/938 [00:47<00:00, 19.85it/s, accuracy=1, loss=0.00383, lr=8.61e-5]\n"
          ]
        },
        {
          "name": "stdout",
          "output_type": "stream",
          "text": [
            "Epoch 26, Val Loss: 0.0684214129403954, Val Accuracy: 0.9807921974522293\n"
          ]
        },
        {
          "name": "stderr",
          "output_type": "stream",
          "text": [
            "100%|██████████| 938/938 [00:48<00:00, 19.53it/s, accuracy=1, loss=0.00295, lr=7.75e-5]\n"
          ]
        },
        {
          "name": "stdout",
          "output_type": "stream",
          "text": [
            "Epoch 27, Val Loss: 0.06805467081387329, Val Accuracy: 0.9814888535031847\n"
          ]
        },
        {
          "name": "stderr",
          "output_type": "stream",
          "text": [
            "100%|██████████| 938/938 [00:50<00:00, 18.47it/s, accuracy=1, loss=0.000673, lr=6.98e-5]\n"
          ]
        },
        {
          "name": "stdout",
          "output_type": "stream",
          "text": [
            "Epoch 28, Val Loss: 0.06783290849504338, Val Accuracy: 0.9807921974522293\n"
          ]
        },
        {
          "name": "stderr",
          "output_type": "stream",
          "text": [
            "100%|██████████| 938/938 [00:47<00:00, 19.64it/s, accuracy=1, loss=0.00226, lr=6.28e-5]\n"
          ]
        },
        {
          "name": "stdout",
          "output_type": "stream",
          "text": [
            "Epoch 29, Val Loss: 0.06754741518730593, Val Accuracy: 0.9814888535031847\n"
          ]
        },
        {
          "name": "stderr",
          "output_type": "stream",
          "text": [
            "100%|██████████| 938/938 [00:49<00:00, 18.94it/s, accuracy=1, loss=0.000875, lr=5.65e-5]\n"
          ]
        },
        {
          "name": "stdout",
          "output_type": "stream",
          "text": [
            "Epoch 30, Val Loss: 0.06762112879807759, Val Accuracy: 0.9813893312101911\n",
            "LR: 0.0012 Gamma: 0.9 Hdim: 256 Best Accuracy: 0.981687898089172\n"
          ]
        },
        {
          "name": "stderr",
          "output_type": "stream",
          "text": [
            "100%|██████████| 938/938 [00:48<00:00, 19.33it/s, accuracy=0.938, loss=0.22, lr=0.0016]\n"
          ]
        },
        {
          "name": "stdout",
          "output_type": "stream",
          "text": [
            "Epoch 1, Val Loss: 0.2524520437749233, Val Accuracy: 0.9277468152866242\n"
          ]
        },
        {
          "name": "stderr",
          "output_type": "stream",
          "text": [
            "100%|██████████| 938/938 [00:48<00:00, 19.15it/s, accuracy=0.938, loss=0.219, lr=0.00128]\n"
          ]
        },
        {
          "name": "stdout",
          "output_type": "stream",
          "text": [
            "Epoch 2, Val Loss: 0.2201199185779425, Val Accuracy: 0.9351114649681529\n"
          ]
        },
        {
          "name": "stderr",
          "output_type": "stream",
          "text": [
            "100%|██████████| 938/938 [00:47<00:00, 19.67it/s, accuracy=0.938, loss=0.0871, lr=0.00102]\n"
          ]
        },
        {
          "name": "stdout",
          "output_type": "stream",
          "text": [
            "Epoch 3, Val Loss: 0.17906605377259432, Val Accuracy: 0.9473527070063694\n"
          ]
        },
        {
          "name": "stderr",
          "output_type": "stream",
          "text": [
            "100%|██████████| 938/938 [00:49<00:00, 18.87it/s, accuracy=0.906, loss=0.405, lr=0.000819]\n"
          ]
        },
        {
          "name": "stdout",
          "output_type": "stream",
          "text": [
            "Epoch 4, Val Loss: 0.16101557476695177, Val Accuracy: 0.9516321656050956\n"
          ]
        },
        {
          "name": "stderr",
          "output_type": "stream",
          "text": [
            "100%|██████████| 938/938 [00:48<00:00, 19.18it/s, accuracy=0.969, loss=0.0769, lr=0.000655]\n"
          ]
        },
        {
          "name": "stdout",
          "output_type": "stream",
          "text": [
            "Epoch 5, Val Loss: 0.14193243725717686, Val Accuracy: 0.9581011146496815\n"
          ]
        },
        {
          "name": "stderr",
          "output_type": "stream",
          "text": [
            "100%|██████████| 938/938 [00:48<00:00, 19.40it/s, accuracy=1, loss=0.0385, lr=0.000524]\n"
          ]
        },
        {
          "name": "stdout",
          "output_type": "stream",
          "text": [
            "Epoch 6, Val Loss: 0.13721177655206934, Val Accuracy: 0.9583001592356688\n"
          ]
        },
        {
          "name": "stderr",
          "output_type": "stream",
          "text": [
            "100%|██████████| 938/938 [00:48<00:00, 19.18it/s, accuracy=1, loss=0.049, lr=0.000419]\n"
          ]
        },
        {
          "name": "stdout",
          "output_type": "stream",
          "text": [
            "Epoch 7, Val Loss: 0.13639034462238478, Val Accuracy: 0.958797770700637\n"
          ]
        },
        {
          "name": "stderr",
          "output_type": "stream",
          "text": [
            "100%|██████████| 938/938 [00:49<00:00, 18.96it/s, accuracy=1, loss=0.0723, lr=0.000336]\n"
          ]
        },
        {
          "name": "stdout",
          "output_type": "stream",
          "text": [
            "Epoch 8, Val Loss: 0.12947634020138082, Val Accuracy: 0.9613853503184714\n"
          ]
        },
        {
          "name": "stderr",
          "output_type": "stream",
          "text": [
            "100%|██████████| 938/938 [00:49<00:00, 18.99it/s, accuracy=1, loss=0.0811, lr=0.000268]\n"
          ]
        },
        {
          "name": "stdout",
          "output_type": "stream",
          "text": [
            "Epoch 9, Val Loss: 0.12488653570277154, Val Accuracy: 0.9611863057324841\n"
          ]
        },
        {
          "name": "stderr",
          "output_type": "stream",
          "text": [
            "100%|██████████| 938/938 [00:47<00:00, 19.71it/s, accuracy=0.969, loss=0.142, lr=0.000215]\n"
          ]
        },
        {
          "name": "stdout",
          "output_type": "stream",
          "text": [
            "Epoch 10, Val Loss: 0.12358663393893415, Val Accuracy: 0.9620820063694268\n"
          ]
        },
        {
          "name": "stderr",
          "output_type": "stream",
          "text": [
            "100%|██████████| 938/938 [00:49<00:00, 18.91it/s, accuracy=0.938, loss=0.208, lr=0.000172]\n"
          ]
        },
        {
          "name": "stdout",
          "output_type": "stream",
          "text": [
            "Epoch 11, Val Loss: 0.1206367240609174, Val Accuracy: 0.964968152866242\n"
          ]
        },
        {
          "name": "stderr",
          "output_type": "stream",
          "text": [
            "100%|██████████| 938/938 [00:48<00:00, 19.47it/s, accuracy=1, loss=0.0267, lr=0.000137]\n"
          ]
        },
        {
          "name": "stdout",
          "output_type": "stream",
          "text": [
            "Epoch 12, Val Loss: 0.12069028502576362, Val Accuracy: 0.9635748407643312\n"
          ]
        },
        {
          "name": "stderr",
          "output_type": "stream",
          "text": [
            "100%|██████████| 938/938 [00:49<00:00, 18.94it/s, accuracy=1, loss=0.0536, lr=0.00011]\n"
          ]
        },
        {
          "name": "stdout",
          "output_type": "stream",
          "text": [
            "Epoch 13, Val Loss: 0.1194974589131915, Val Accuracy: 0.9638734076433121\n"
          ]
        },
        {
          "name": "stderr",
          "output_type": "stream",
          "text": [
            "100%|██████████| 938/938 [00:47<00:00, 19.67it/s, accuracy=0.969, loss=0.135, lr=8.8e-5]\n"
          ]
        },
        {
          "name": "stdout",
          "output_type": "stream",
          "text": [
            "Epoch 14, Val Loss: 0.11940973259102268, Val Accuracy: 0.9635748407643312\n"
          ]
        },
        {
          "name": "stderr",
          "output_type": "stream",
          "text": [
            "100%|██████████| 938/938 [00:48<00:00, 19.37it/s, accuracy=0.969, loss=0.069, lr=7.04e-5]\n"
          ]
        },
        {
          "name": "stdout",
          "output_type": "stream",
          "text": [
            "Epoch 15, Val Loss: 0.11825196597514567, Val Accuracy: 0.9636743630573248\n"
          ]
        },
        {
          "name": "stderr",
          "output_type": "stream",
          "text": [
            "100%|██████████| 938/938 [00:47<00:00, 19.87it/s, accuracy=0.969, loss=0.0563, lr=5.63e-5]\n"
          ]
        },
        {
          "name": "stdout",
          "output_type": "stream",
          "text": [
            "Epoch 16, Val Loss: 0.11835105927693687, Val Accuracy: 0.9632762738853503\n"
          ]
        },
        {
          "name": "stderr",
          "output_type": "stream",
          "text": [
            "100%|██████████| 938/938 [00:47<00:00, 19.64it/s, accuracy=0.969, loss=0.157, lr=4.5e-5]\n"
          ]
        },
        {
          "name": "stdout",
          "output_type": "stream",
          "text": [
            "Epoch 17, Val Loss: 0.1171605449301861, Val Accuracy: 0.964171974522293\n"
          ]
        },
        {
          "name": "stderr",
          "output_type": "stream",
          "text": [
            "100%|██████████| 938/938 [00:48<00:00, 19.35it/s, accuracy=0.844, loss=0.418, lr=3.6e-5]\n"
          ]
        },
        {
          "name": "stdout",
          "output_type": "stream",
          "text": [
            "Epoch 18, Val Loss: 0.1168734829599975, Val Accuracy: 0.9639729299363057\n"
          ]
        },
        {
          "name": "stderr",
          "output_type": "stream",
          "text": [
            "100%|██████████| 938/938 [00:47<00:00, 19.66it/s, accuracy=0.906, loss=0.347, lr=2.88e-5]\n"
          ]
        },
        {
          "name": "stdout",
          "output_type": "stream",
          "text": [
            "Epoch 19, Val Loss: 0.11735571497253433, Val Accuracy: 0.9635748407643312\n"
          ]
        },
        {
          "name": "stderr",
          "output_type": "stream",
          "text": [
            "100%|██████████| 938/938 [00:48<00:00, 19.49it/s, accuracy=0.938, loss=0.262, lr=2.31e-5]\n"
          ]
        },
        {
          "name": "stdout",
          "output_type": "stream",
          "text": [
            "Epoch 20, Val Loss: 0.11720953362543064, Val Accuracy: 0.9638734076433121\n"
          ]
        },
        {
          "name": "stderr",
          "output_type": "stream",
          "text": [
            "100%|██████████| 938/938 [00:50<00:00, 18.71it/s, accuracy=0.969, loss=0.0726, lr=1.84e-5]\n"
          ]
        },
        {
          "name": "stdout",
          "output_type": "stream",
          "text": [
            "Epoch 21, Val Loss: 0.11697660010029223, Val Accuracy: 0.9637738853503185\n"
          ]
        },
        {
          "name": "stderr",
          "output_type": "stream",
          "text": [
            "100%|██████████| 938/938 [00:48<00:00, 19.54it/s, accuracy=1, loss=0.0179, lr=1.48e-5]\n"
          ]
        },
        {
          "name": "stdout",
          "output_type": "stream",
          "text": [
            "Epoch 22, Val Loss: 0.11654060922717308, Val Accuracy: 0.9639729299363057\n"
          ]
        },
        {
          "name": "stderr",
          "output_type": "stream",
          "text": [
            "100%|██████████| 938/938 [00:47<00:00, 19.63it/s, accuracy=0.906, loss=0.127, lr=1.18e-5]\n"
          ]
        },
        {
          "name": "stdout",
          "output_type": "stream",
          "text": [
            "Epoch 23, Val Loss: 0.11633784514940848, Val Accuracy: 0.9644705414012739\n"
          ]
        },
        {
          "name": "stderr",
          "output_type": "stream",
          "text": [
            "100%|██████████| 938/938 [00:48<00:00, 19.16it/s, accuracy=0.938, loss=0.27, lr=9.44e-6]\n"
          ]
        },
        {
          "name": "stdout",
          "output_type": "stream",
          "text": [
            "Epoch 24, Val Loss: 0.11644918037797947, Val Accuracy: 0.9637738853503185\n"
          ]
        },
        {
          "name": "stderr",
          "output_type": "stream",
          "text": [
            "100%|██████████| 938/938 [00:49<00:00, 18.97it/s, accuracy=0.969, loss=0.251, lr=7.56e-6]\n"
          ]
        },
        {
          "name": "stdout",
          "output_type": "stream",
          "text": [
            "Epoch 25, Val Loss: 0.116588834201573, Val Accuracy: 0.9640724522292994\n"
          ]
        },
        {
          "name": "stderr",
          "output_type": "stream",
          "text": [
            "100%|██████████| 938/938 [00:49<00:00, 19.03it/s, accuracy=0.938, loss=0.204, lr=6.04e-6]\n"
          ]
        },
        {
          "name": "stdout",
          "output_type": "stream",
          "text": [
            "Epoch 26, Val Loss: 0.11654155798535201, Val Accuracy: 0.964171974522293\n"
          ]
        },
        {
          "name": "stderr",
          "output_type": "stream",
          "text": [
            "100%|██████████| 938/938 [00:49<00:00, 19.05it/s, accuracy=0.938, loss=0.108, lr=4.84e-6]\n"
          ]
        },
        {
          "name": "stdout",
          "output_type": "stream",
          "text": [
            "Epoch 27, Val Loss: 0.11630649213266861, Val Accuracy: 0.9643710191082803\n"
          ]
        },
        {
          "name": "stderr",
          "output_type": "stream",
          "text": [
            "100%|██████████| 938/938 [00:49<00:00, 18.85it/s, accuracy=1, loss=0.0259, lr=3.87e-6]\n"
          ]
        },
        {
          "name": "stdout",
          "output_type": "stream",
          "text": [
            "Epoch 28, Val Loss: 0.11634064553258051, Val Accuracy: 0.9640724522292994\n"
          ]
        },
        {
          "name": "stderr",
          "output_type": "stream",
          "text": [
            "100%|██████████| 938/938 [00:49<00:00, 18.82it/s, accuracy=0.969, loss=0.0522, lr=3.09e-6]\n"
          ]
        },
        {
          "name": "stdout",
          "output_type": "stream",
          "text": [
            "Epoch 29, Val Loss: 0.1163819137594372, Val Accuracy: 0.964171974522293\n"
          ]
        },
        {
          "name": "stderr",
          "output_type": "stream",
          "text": [
            "100%|██████████| 938/938 [00:49<00:00, 19.07it/s, accuracy=0.969, loss=0.0747, lr=2.48e-6]\n"
          ]
        },
        {
          "name": "stdout",
          "output_type": "stream",
          "text": [
            "Epoch 30, Val Loss: 0.11630603435796323, Val Accuracy: 0.9643710191082803\n",
            "LR: 0.0016 Gamma: 0.8 Hdim: 64 Best Accuracy: 0.964968152866242\n"
          ]
        },
        {
          "name": "stderr",
          "output_type": "stream",
          "text": [
            "100%|██████████| 938/938 [00:49<00:00, 19.10it/s, accuracy=1, loss=0.0628, lr=0.0016]\n"
          ]
        },
        {
          "name": "stdout",
          "output_type": "stream",
          "text": [
            "Epoch 1, Val Loss: 0.1958390810900623, Val Accuracy: 0.9419785031847133\n"
          ]
        },
        {
          "name": "stderr",
          "output_type": "stream",
          "text": [
            "100%|██████████| 938/938 [00:49<00:00, 19.05it/s, accuracy=0.969, loss=0.0922, lr=0.00128]\n"
          ]
        },
        {
          "name": "stdout",
          "output_type": "stream",
          "text": [
            "Epoch 2, Val Loss: 0.13101781215103472, Val Accuracy: 0.9613853503184714\n"
          ]
        },
        {
          "name": "stderr",
          "output_type": "stream",
          "text": [
            "100%|██████████| 938/938 [00:49<00:00, 18.99it/s, accuracy=0.969, loss=0.0694, lr=0.00102]\n"
          ]
        },
        {
          "name": "stdout",
          "output_type": "stream",
          "text": [
            "Epoch 3, Val Loss: 0.11923531625141051, Val Accuracy: 0.9624800955414012\n"
          ]
        },
        {
          "name": "stderr",
          "output_type": "stream",
          "text": [
            "100%|██████████| 938/938 [00:49<00:00, 18.90it/s, accuracy=1, loss=0.0134, lr=0.000819]\n"
          ]
        },
        {
          "name": "stdout",
          "output_type": "stream",
          "text": [
            "Epoch 4, Val Loss: 0.09428667381723192, Val Accuracy: 0.9693471337579618\n"
          ]
        },
        {
          "name": "stderr",
          "output_type": "stream",
          "text": [
            "100%|██████████| 938/938 [00:49<00:00, 18.90it/s, accuracy=1, loss=0.0472, lr=0.000655]\n"
          ]
        },
        {
          "name": "stdout",
          "output_type": "stream",
          "text": [
            "Epoch 5, Val Loss: 0.09375878870576193, Val Accuracy: 0.9723328025477707\n"
          ]
        },
        {
          "name": "stderr",
          "output_type": "stream",
          "text": [
            "100%|██████████| 938/938 [00:48<00:00, 19.23it/s, accuracy=1, loss=0.0241, lr=0.000524]\n"
          ]
        },
        {
          "name": "stdout",
          "output_type": "stream",
          "text": [
            "Epoch 6, Val Loss: 0.09421893483870158, Val Accuracy: 0.9712380573248408\n"
          ]
        },
        {
          "name": "stderr",
          "output_type": "stream",
          "text": [
            "100%|██████████| 938/938 [00:48<00:00, 19.34it/s, accuracy=1, loss=0.0125, lr=0.000419]\n"
          ]
        },
        {
          "name": "stdout",
          "output_type": "stream",
          "text": [
            "Epoch 7, Val Loss: 0.09098867152277736, Val Accuracy: 0.9726313694267515\n"
          ]
        },
        {
          "name": "stderr",
          "output_type": "stream",
          "text": [
            "100%|██████████| 938/938 [00:47<00:00, 19.56it/s, accuracy=0.969, loss=0.0646, lr=0.000336]\n"
          ]
        },
        {
          "name": "stdout",
          "output_type": "stream",
          "text": [
            "Epoch 8, Val Loss: 0.08510506077622106, Val Accuracy: 0.9741242038216561\n"
          ]
        },
        {
          "name": "stderr",
          "output_type": "stream",
          "text": [
            "100%|██████████| 938/938 [00:48<00:00, 19.43it/s, accuracy=1, loss=0.00916, lr=0.000268]\n"
          ]
        },
        {
          "name": "stdout",
          "output_type": "stream",
          "text": [
            "Epoch 9, Val Loss: 0.07866294202127844, Val Accuracy: 0.9755175159235668\n"
          ]
        },
        {
          "name": "stderr",
          "output_type": "stream",
          "text": [
            "100%|██████████| 938/938 [00:48<00:00, 19.46it/s, accuracy=1, loss=0.0374, lr=0.000215]\n"
          ]
        },
        {
          "name": "stdout",
          "output_type": "stream",
          "text": [
            "Epoch 10, Val Loss: 0.08095557321527391, Val Accuracy: 0.9757165605095541\n"
          ]
        },
        {
          "name": "stderr",
          "output_type": "stream",
          "text": [
            "100%|██████████| 938/938 [00:49<00:00, 19.11it/s, accuracy=0.969, loss=0.0414, lr=0.000172]\n"
          ]
        },
        {
          "name": "stdout",
          "output_type": "stream",
          "text": [
            "Epoch 11, Val Loss: 0.0745092434052283, Val Accuracy: 0.9772093949044586\n"
          ]
        },
        {
          "name": "stderr",
          "output_type": "stream",
          "text": [
            "100%|██████████| 938/938 [00:49<00:00, 19.05it/s, accuracy=1, loss=0.0121, lr=0.000137]\n"
          ]
        },
        {
          "name": "stdout",
          "output_type": "stream",
          "text": [
            "Epoch 12, Val Loss: 0.07584864118212098, Val Accuracy: 0.9761146496815286\n"
          ]
        },
        {
          "name": "stderr",
          "output_type": "stream",
          "text": [
            "100%|██████████| 938/938 [00:48<00:00, 19.29it/s, accuracy=1, loss=0.0166, lr=0.00011]\n"
          ]
        },
        {
          "name": "stdout",
          "output_type": "stream",
          "text": [
            "Epoch 13, Val Loss: 0.07249478562097332, Val Accuracy: 0.9764132165605095\n"
          ]
        },
        {
          "name": "stderr",
          "output_type": "stream",
          "text": [
            "100%|██████████| 938/938 [00:49<00:00, 19.13it/s, accuracy=1, loss=0.0139, lr=8.8e-5]\n"
          ]
        },
        {
          "name": "stdout",
          "output_type": "stream",
          "text": [
            "Epoch 14, Val Loss: 0.07448392959495496, Val Accuracy: 0.9767117834394905\n"
          ]
        },
        {
          "name": "stderr",
          "output_type": "stream",
          "text": [
            "100%|██████████| 938/938 [00:48<00:00, 19.25it/s, accuracy=1, loss=0.0155, lr=7.04e-5]\n"
          ]
        },
        {
          "name": "stdout",
          "output_type": "stream",
          "text": [
            "Epoch 15, Val Loss: 0.073796027685348, Val Accuracy: 0.9770103503184714\n"
          ]
        },
        {
          "name": "stderr",
          "output_type": "stream",
          "text": [
            "100%|██████████| 938/938 [00:50<00:00, 18.65it/s, accuracy=1, loss=0.0171, lr=5.63e-5]\n"
          ]
        },
        {
          "name": "stdout",
          "output_type": "stream",
          "text": [
            "Epoch 16, Val Loss: 0.07293125140910026, Val Accuracy: 0.9777070063694268\n"
          ]
        },
        {
          "name": "stderr",
          "output_type": "stream",
          "text": [
            "100%|██████████| 938/938 [00:49<00:00, 18.89it/s, accuracy=1, loss=0.0446, lr=4.5e-5]\n"
          ]
        },
        {
          "name": "stdout",
          "output_type": "stream",
          "text": [
            "Epoch 17, Val Loss: 0.07274461500283633, Val Accuracy: 0.9780055732484076\n"
          ]
        },
        {
          "name": "stderr",
          "output_type": "stream",
          "text": [
            "100%|██████████| 938/938 [00:49<00:00, 18.89it/s, accuracy=1, loss=0.00525, lr=3.6e-5]\n"
          ]
        },
        {
          "name": "stdout",
          "output_type": "stream",
          "text": [
            "Epoch 18, Val Loss: 0.07259085749748317, Val Accuracy: 0.9769108280254777\n"
          ]
        },
        {
          "name": "stderr",
          "output_type": "stream",
          "text": [
            "100%|██████████| 938/938 [00:50<00:00, 18.73it/s, accuracy=1, loss=0.0024, lr=2.88e-5]\n"
          ]
        },
        {
          "name": "stdout",
          "output_type": "stream",
          "text": [
            "Epoch 19, Val Loss: 0.07204635924612214, Val Accuracy: 0.9769108280254777\n"
          ]
        },
        {
          "name": "stderr",
          "output_type": "stream",
          "text": [
            "100%|██████████| 938/938 [00:50<00:00, 18.70it/s, accuracy=1, loss=0.00873, lr=2.31e-5]\n"
          ]
        },
        {
          "name": "stdout",
          "output_type": "stream",
          "text": [
            "Epoch 20, Val Loss: 0.07254197753730059, Val Accuracy: 0.977109872611465\n"
          ]
        },
        {
          "name": "stderr",
          "output_type": "stream",
          "text": [
            "100%|██████████| 938/938 [00:49<00:00, 19.08it/s, accuracy=0.969, loss=0.13, lr=1.84e-5]\n"
          ]
        },
        {
          "name": "stdout",
          "output_type": "stream",
          "text": [
            "Epoch 21, Val Loss: 0.07210866769013488, Val Accuracy: 0.9775079617834395\n"
          ]
        },
        {
          "name": "stderr",
          "output_type": "stream",
          "text": [
            "100%|██████████| 938/938 [00:48<00:00, 19.26it/s, accuracy=1, loss=0.0173, lr=1.48e-5]\n"
          ]
        },
        {
          "name": "stdout",
          "output_type": "stream",
          "text": [
            "Epoch 22, Val Loss: 0.07198465490864982, Val Accuracy: 0.9777070063694268\n"
          ]
        },
        {
          "name": "stderr",
          "output_type": "stream",
          "text": [
            "100%|██████████| 938/938 [00:49<00:00, 19.11it/s, accuracy=1, loss=0.0242, lr=1.18e-5]\n"
          ]
        },
        {
          "name": "stdout",
          "output_type": "stream",
          "text": [
            "Epoch 23, Val Loss: 0.07206124510815527, Val Accuracy: 0.977906050955414\n"
          ]
        },
        {
          "name": "stderr",
          "output_type": "stream",
          "text": [
            "100%|██████████| 938/938 [00:50<00:00, 18.46it/s, accuracy=0.969, loss=0.0529, lr=9.44e-6]\n"
          ]
        },
        {
          "name": "stdout",
          "output_type": "stream",
          "text": [
            "Epoch 24, Val Loss: 0.07200095630740261, Val Accuracy: 0.977906050955414\n"
          ]
        },
        {
          "name": "stderr",
          "output_type": "stream",
          "text": [
            "100%|██████████| 938/938 [00:49<00:00, 18.90it/s, accuracy=0.969, loss=0.0851, lr=7.56e-6]\n"
          ]
        },
        {
          "name": "stdout",
          "output_type": "stream",
          "text": [
            "Epoch 25, Val Loss: 0.07207116505719134, Val Accuracy: 0.9772093949044586\n"
          ]
        },
        {
          "name": "stderr",
          "output_type": "stream",
          "text": [
            "100%|██████████| 938/938 [00:50<00:00, 18.58it/s, accuracy=1, loss=0.0394, lr=6.04e-6]\n"
          ]
        },
        {
          "name": "stdout",
          "output_type": "stream",
          "text": [
            "Epoch 26, Val Loss: 0.07198450546789541, Val Accuracy: 0.9777070063694268\n"
          ]
        },
        {
          "name": "stderr",
          "output_type": "stream",
          "text": [
            "100%|██████████| 938/938 [00:49<00:00, 18.86it/s, accuracy=1, loss=0.0107, lr=4.84e-6]\n"
          ]
        },
        {
          "name": "stdout",
          "output_type": "stream",
          "text": [
            "Epoch 27, Val Loss: 0.07179862725682658, Val Accuracy: 0.9780055732484076\n"
          ]
        },
        {
          "name": "stderr",
          "output_type": "stream",
          "text": [
            "100%|██████████| 938/938 [00:49<00:00, 18.94it/s, accuracy=1, loss=0.0126, lr=3.87e-6]\n"
          ]
        },
        {
          "name": "stdout",
          "output_type": "stream",
          "text": [
            "Epoch 28, Val Loss: 0.07183559223654336, Val Accuracy: 0.9778065286624203\n"
          ]
        },
        {
          "name": "stderr",
          "output_type": "stream",
          "text": [
            "100%|██████████| 938/938 [00:48<00:00, 19.46it/s, accuracy=1, loss=0.0113, lr=3.09e-6]\n"
          ]
        },
        {
          "name": "stdout",
          "output_type": "stream",
          "text": [
            "Epoch 29, Val Loss: 0.07179612374051095, Val Accuracy: 0.977906050955414\n"
          ]
        },
        {
          "name": "stderr",
          "output_type": "stream",
          "text": [
            "100%|██████████| 938/938 [00:48<00:00, 19.27it/s, accuracy=1, loss=0.0155, lr=2.48e-6]\n"
          ]
        },
        {
          "name": "stdout",
          "output_type": "stream",
          "text": [
            "Epoch 30, Val Loss: 0.07186751576751518, Val Accuracy: 0.9777070063694268\n",
            "LR: 0.0016 Gamma: 0.8 Hdim: 128 Best Accuracy: 0.9780055732484076\n"
          ]
        },
        {
          "name": "stderr",
          "output_type": "stream",
          "text": [
            "100%|██████████| 938/938 [00:49<00:00, 18.87it/s, accuracy=0.906, loss=0.199, lr=0.0016]\n"
          ]
        },
        {
          "name": "stdout",
          "output_type": "stream",
          "text": [
            "Epoch 1, Val Loss: 0.16074242457972876, Val Accuracy: 0.9522292993630573\n"
          ]
        },
        {
          "name": "stderr",
          "output_type": "stream",
          "text": [
            "100%|██████████| 938/938 [00:49<00:00, 18.81it/s, accuracy=0.969, loss=0.156, lr=0.00128]\n"
          ]
        },
        {
          "name": "stdout",
          "output_type": "stream",
          "text": [
            "Epoch 2, Val Loss: 0.13208888539344452, Val Accuracy: 0.9611863057324841\n"
          ]
        },
        {
          "name": "stderr",
          "output_type": "stream",
          "text": [
            "100%|██████████| 938/938 [00:50<00:00, 18.65it/s, accuracy=0.906, loss=0.376, lr=0.00102]\n"
          ]
        },
        {
          "name": "stdout",
          "output_type": "stream",
          "text": [
            "Epoch 3, Val Loss: 0.09805222421033297, Val Accuracy: 0.96984474522293\n"
          ]
        },
        {
          "name": "stderr",
          "output_type": "stream",
          "text": [
            "100%|██████████| 938/938 [00:48<00:00, 19.20it/s, accuracy=0.969, loss=0.0757, lr=0.000819]\n"
          ]
        },
        {
          "name": "stdout",
          "output_type": "stream",
          "text": [
            "Epoch 4, Val Loss: 0.09542117270108633, Val Accuracy: 0.9701433121019108\n"
          ]
        },
        {
          "name": "stderr",
          "output_type": "stream",
          "text": [
            "100%|██████████| 938/938 [00:49<00:00, 19.14it/s, accuracy=0.969, loss=0.105, lr=0.000655]\n"
          ]
        },
        {
          "name": "stdout",
          "output_type": "stream",
          "text": [
            "Epoch 5, Val Loss: 0.08720314197070232, Val Accuracy: 0.9728304140127388\n"
          ]
        },
        {
          "name": "stderr",
          "output_type": "stream",
          "text": [
            "100%|██████████| 938/938 [00:23<00:00, 40.70it/s, accuracy=1, loss=0.0303, lr=0.000524]\n"
          ]
        },
        {
          "name": "stdout",
          "output_type": "stream",
          "text": [
            "Epoch 6, Val Loss: 0.07770168716788654, Val Accuracy: 0.9762141719745223\n"
          ]
        },
        {
          "name": "stderr",
          "output_type": "stream",
          "text": [
            "100%|██████████| 938/938 [00:24<00:00, 37.84it/s, accuracy=1, loss=0.0167, lr=0.000419]\n"
          ]
        },
        {
          "name": "stdout",
          "output_type": "stream",
          "text": [
            "Epoch 7, Val Loss: 0.07332531947592143, Val Accuracy: 0.9774084394904459\n"
          ]
        },
        {
          "name": "stderr",
          "output_type": "stream",
          "text": [
            "100%|██████████| 938/938 [00:24<00:00, 38.88it/s, accuracy=1, loss=0.0548, lr=0.000336]\n"
          ]
        },
        {
          "name": "stdout",
          "output_type": "stream",
          "text": [
            "Epoch 8, Val Loss: 0.06833075364663453, Val Accuracy: 0.9783041401273885\n"
          ]
        },
        {
          "name": "stderr",
          "output_type": "stream",
          "text": [
            "100%|██████████| 938/938 [00:24<00:00, 38.96it/s, accuracy=0.969, loss=0.0678, lr=0.000268]\n"
          ]
        },
        {
          "name": "stdout",
          "output_type": "stream",
          "text": [
            "Epoch 9, Val Loss: 0.06951400757007965, Val Accuracy: 0.9778065286624203\n"
          ]
        },
        {
          "name": "stderr",
          "output_type": "stream",
          "text": [
            "100%|██████████| 938/938 [00:23<00:00, 40.52it/s, accuracy=1, loss=0.0138, lr=0.000215]\n"
          ]
        },
        {
          "name": "stdout",
          "output_type": "stream",
          "text": [
            "Epoch 10, Val Loss: 0.06652178699297127, Val Accuracy: 0.9791003184713376\n"
          ]
        },
        {
          "name": "stderr",
          "output_type": "stream",
          "text": [
            "100%|██████████| 938/938 [00:24<00:00, 39.01it/s, accuracy=1, loss=0.00563, lr=0.000172]\n"
          ]
        },
        {
          "name": "stdout",
          "output_type": "stream",
          "text": [
            "Epoch 11, Val Loss: 0.06346868150290079, Val Accuracy: 0.9800955414012739\n"
          ]
        },
        {
          "name": "stderr",
          "output_type": "stream",
          "text": [
            "100%|██████████| 938/938 [00:24<00:00, 38.37it/s, accuracy=0.969, loss=0.0406, lr=0.000137]\n"
          ]
        },
        {
          "name": "stdout",
          "output_type": "stream",
          "text": [
            "Epoch 12, Val Loss: 0.06278984438387712, Val Accuracy: 0.980593152866242\n"
          ]
        },
        {
          "name": "stderr",
          "output_type": "stream",
          "text": [
            "100%|██████████| 938/938 [00:24<00:00, 38.87it/s, accuracy=1, loss=0.016, lr=0.00011]\n"
          ]
        },
        {
          "name": "stdout",
          "output_type": "stream",
          "text": [
            "Epoch 13, Val Loss: 0.062476925094757274, Val Accuracy: 0.9807921974522293\n"
          ]
        },
        {
          "name": "stderr",
          "output_type": "stream",
          "text": [
            "100%|██████████| 938/938 [00:23<00:00, 39.99it/s, accuracy=1, loss=0.00526, lr=8.8e-5]\n"
          ]
        },
        {
          "name": "stdout",
          "output_type": "stream",
          "text": [
            "Epoch 14, Val Loss: 0.062236392787868265, Val Accuracy: 0.9801950636942676\n"
          ]
        },
        {
          "name": "stderr",
          "output_type": "stream",
          "text": [
            "100%|██████████| 938/938 [00:23<00:00, 39.53it/s, accuracy=1, loss=0.0124, lr=7.04e-5]\n"
          ]
        },
        {
          "name": "stdout",
          "output_type": "stream",
          "text": [
            "Epoch 15, Val Loss: 0.06224530732770232, Val Accuracy: 0.9811902866242038\n"
          ]
        },
        {
          "name": "stderr",
          "output_type": "stream",
          "text": [
            "100%|██████████| 938/938 [00:24<00:00, 38.67it/s, accuracy=1, loss=0.0269, lr=5.63e-5]\n"
          ]
        },
        {
          "name": "stdout",
          "output_type": "stream",
          "text": [
            "Epoch 16, Val Loss: 0.06359694467623538, Val Accuracy: 0.9799960191082803\n"
          ]
        },
        {
          "name": "stderr",
          "output_type": "stream",
          "text": [
            "100%|██████████| 938/938 [00:25<00:00, 36.77it/s, accuracy=1, loss=0.00545, lr=4.5e-5]\n"
          ]
        },
        {
          "name": "stdout",
          "output_type": "stream",
          "text": [
            "Epoch 17, Val Loss: 0.06254396136496239, Val Accuracy: 0.9801950636942676\n"
          ]
        },
        {
          "name": "stderr",
          "output_type": "stream",
          "text": [
            "100%|██████████| 938/938 [00:24<00:00, 38.82it/s, accuracy=1, loss=0.000342, lr=3.6e-5]\n"
          ]
        },
        {
          "name": "stdout",
          "output_type": "stream",
          "text": [
            "Epoch 18, Val Loss: 0.06094151692924492, Val Accuracy: 0.9808917197452229\n"
          ]
        },
        {
          "name": "stderr",
          "output_type": "stream",
          "text": [
            "100%|██████████| 938/938 [00:24<00:00, 38.77it/s, accuracy=1, loss=0.0177, lr=2.88e-5]\n"
          ]
        },
        {
          "name": "stdout",
          "output_type": "stream",
          "text": [
            "Epoch 19, Val Loss: 0.061556828687646704, Val Accuracy: 0.9810907643312102\n"
          ]
        },
        {
          "name": "stderr",
          "output_type": "stream",
          "text": [
            "100%|██████████| 938/938 [00:22<00:00, 41.23it/s, accuracy=0.969, loss=0.113, lr=2.31e-5]\n"
          ]
        },
        {
          "name": "stdout",
          "output_type": "stream",
          "text": [
            "Epoch 20, Val Loss: 0.061711752446838075, Val Accuracy: 0.9812898089171974\n"
          ]
        },
        {
          "name": "stderr",
          "output_type": "stream",
          "text": [
            "100%|██████████| 938/938 [00:24<00:00, 37.87it/s, accuracy=1, loss=0.00805, lr=1.84e-5]\n"
          ]
        },
        {
          "name": "stdout",
          "output_type": "stream",
          "text": [
            "Epoch 21, Val Loss: 0.061276303125932075, Val Accuracy: 0.9806926751592356\n"
          ]
        },
        {
          "name": "stderr",
          "output_type": "stream",
          "text": [
            "100%|██████████| 938/938 [00:24<00:00, 38.72it/s, accuracy=1, loss=0.002, lr=1.48e-5]\n"
          ]
        },
        {
          "name": "stdout",
          "output_type": "stream",
          "text": [
            "Epoch 22, Val Loss: 0.061505912857474594, Val Accuracy: 0.9808917197452229\n"
          ]
        },
        {
          "name": "stderr",
          "output_type": "stream",
          "text": [
            "100%|██████████| 938/938 [00:24<00:00, 37.66it/s, accuracy=1, loss=0.0173, lr=1.18e-5]\n"
          ]
        },
        {
          "name": "stdout",
          "output_type": "stream",
          "text": [
            "Epoch 23, Val Loss: 0.061276146524476785, Val Accuracy: 0.9806926751592356\n"
          ]
        },
        {
          "name": "stderr",
          "output_type": "stream",
          "text": [
            "100%|██████████| 938/938 [00:24<00:00, 38.77it/s, accuracy=1, loss=0.0217, lr=9.44e-6]\n"
          ]
        },
        {
          "name": "stdout",
          "output_type": "stream",
          "text": [
            "Epoch 24, Val Loss: 0.061221331070300714, Val Accuracy: 0.9810907643312102\n"
          ]
        },
        {
          "name": "stderr",
          "output_type": "stream",
          "text": [
            "100%|██████████| 938/938 [00:23<00:00, 39.18it/s, accuracy=1, loss=0.000527, lr=7.56e-6]\n"
          ]
        },
        {
          "name": "stdout",
          "output_type": "stream",
          "text": [
            "Epoch 25, Val Loss: 0.06129179815653301, Val Accuracy: 0.9812898089171974\n"
          ]
        },
        {
          "name": "stderr",
          "output_type": "stream",
          "text": [
            "100%|██████████| 938/938 [00:24<00:00, 38.84it/s, accuracy=1, loss=0.0036, lr=6.04e-6]\n"
          ]
        },
        {
          "name": "stdout",
          "output_type": "stream",
          "text": [
            "Epoch 26, Val Loss: 0.06113003822567036, Val Accuracy: 0.9809912420382165\n"
          ]
        },
        {
          "name": "stderr",
          "output_type": "stream",
          "text": [
            "100%|██████████| 938/938 [00:25<00:00, 36.40it/s, accuracy=1, loss=0.00875, lr=4.84e-6]\n"
          ]
        },
        {
          "name": "stdout",
          "output_type": "stream",
          "text": [
            "Epoch 27, Val Loss: 0.06131130932554251, Val Accuracy: 0.9809912420382165\n"
          ]
        },
        {
          "name": "stderr",
          "output_type": "stream",
          "text": [
            "100%|██████████| 938/938 [00:24<00:00, 38.27it/s, accuracy=1, loss=0.00258, lr=3.87e-6]\n"
          ]
        },
        {
          "name": "stdout",
          "output_type": "stream",
          "text": [
            "Epoch 28, Val Loss: 0.06119201459734112, Val Accuracy: 0.9806926751592356\n"
          ]
        },
        {
          "name": "stderr",
          "output_type": "stream",
          "text": [
            "100%|██████████| 938/938 [00:24<00:00, 38.79it/s, accuracy=1, loss=0.0163, lr=3.09e-6]\n"
          ]
        },
        {
          "name": "stdout",
          "output_type": "stream",
          "text": [
            "Epoch 29, Val Loss: 0.061237722643425654, Val Accuracy: 0.9809912420382165\n"
          ]
        },
        {
          "name": "stderr",
          "output_type": "stream",
          "text": [
            "100%|██████████| 938/938 [00:22<00:00, 41.56it/s, accuracy=1, loss=0.0027, lr=2.48e-6]\n"
          ]
        },
        {
          "name": "stdout",
          "output_type": "stream",
          "text": [
            "Epoch 30, Val Loss: 0.061216020077125136, Val Accuracy: 0.9808917197452229\n",
            "LR: 0.0016 Gamma: 0.8 Hdim: 256 Best Accuracy: 0.9812898089171974\n"
          ]
        },
        {
          "name": "stderr",
          "output_type": "stream",
          "text": [
            "100%|██████████| 938/938 [00:24<00:00, 37.54it/s, accuracy=0.938, loss=0.22, lr=0.0016]\n"
          ]
        },
        {
          "name": "stdout",
          "output_type": "stream",
          "text": [
            "Epoch 1, Val Loss: 0.2524520437749233, Val Accuracy: 0.9277468152866242\n"
          ]
        },
        {
          "name": "stderr",
          "output_type": "stream",
          "text": [
            "100%|██████████| 938/938 [00:24<00:00, 38.15it/s, accuracy=0.906, loss=0.218, lr=0.00144]\n"
          ]
        },
        {
          "name": "stdout",
          "output_type": "stream",
          "text": [
            "Epoch 2, Val Loss: 0.21814670369242598, Val Accuracy: 0.934812898089172\n"
          ]
        },
        {
          "name": "stderr",
          "output_type": "stream",
          "text": [
            "100%|██████████| 938/938 [00:25<00:00, 37.29it/s, accuracy=1, loss=0.0661, lr=0.0013]\n"
          ]
        },
        {
          "name": "stdout",
          "output_type": "stream",
          "text": [
            "Epoch 3, Val Loss: 0.17773492407101166, Val Accuracy: 0.9487460191082803\n"
          ]
        },
        {
          "name": "stderr",
          "output_type": "stream",
          "text": [
            "100%|██████████| 938/938 [00:23<00:00, 40.14it/s, accuracy=0.938, loss=0.338, lr=0.00117]\n"
          ]
        },
        {
          "name": "stdout",
          "output_type": "stream",
          "text": [
            "Epoch 4, Val Loss: 0.1568174479858487, Val Accuracy: 0.9509355095541401\n"
          ]
        },
        {
          "name": "stderr",
          "output_type": "stream",
          "text": [
            "100%|██████████| 938/938 [00:24<00:00, 38.84it/s, accuracy=0.969, loss=0.0683, lr=0.00105]\n"
          ]
        },
        {
          "name": "stdout",
          "output_type": "stream",
          "text": [
            "Epoch 5, Val Loss: 0.1379177345416752, Val Accuracy: 0.958797770700637\n"
          ]
        },
        {
          "name": "stderr",
          "output_type": "stream",
          "text": [
            "100%|██████████| 938/938 [00:23<00:00, 39.66it/s, accuracy=1, loss=0.0334, lr=0.000945]\n"
          ]
        },
        {
          "name": "stdout",
          "output_type": "stream",
          "text": [
            "Epoch 6, Val Loss: 0.13315322711859134, Val Accuracy: 0.9605891719745223\n"
          ]
        },
        {
          "name": "stderr",
          "output_type": "stream",
          "text": [
            "100%|██████████| 938/938 [00:25<00:00, 36.36it/s, accuracy=1, loss=0.0571, lr=0.00085]\n"
          ]
        },
        {
          "name": "stdout",
          "output_type": "stream",
          "text": [
            "Epoch 7, Val Loss: 0.136600341897007, Val Accuracy: 0.9582006369426752\n"
          ]
        },
        {
          "name": "stderr",
          "output_type": "stream",
          "text": [
            "100%|██████████| 938/938 [00:25<00:00, 36.88it/s, accuracy=1, loss=0.0548, lr=0.000765]\n"
          ]
        },
        {
          "name": "stdout",
          "output_type": "stream",
          "text": [
            "Epoch 8, Val Loss: 0.1294946979967118, Val Accuracy: 0.9607882165605095\n"
          ]
        },
        {
          "name": "stderr",
          "output_type": "stream",
          "text": [
            "100%|██████████| 938/938 [00:25<00:00, 37.05it/s, accuracy=1, loss=0.059, lr=0.000689]\n"
          ]
        },
        {
          "name": "stdout",
          "output_type": "stream",
          "text": [
            "Epoch 9, Val Loss: 0.12030790947899697, Val Accuracy: 0.961484872611465\n"
          ]
        },
        {
          "name": "stderr",
          "output_type": "stream",
          "text": [
            "100%|██████████| 938/938 [00:24<00:00, 38.03it/s, accuracy=0.969, loss=0.115, lr=0.00062]\n"
          ]
        },
        {
          "name": "stdout",
          "output_type": "stream",
          "text": [
            "Epoch 10, Val Loss: 0.11919607429403313, Val Accuracy: 0.9657643312101911\n"
          ]
        },
        {
          "name": "stderr",
          "output_type": "stream",
          "text": [
            "100%|██████████| 938/938 [00:26<00:00, 35.98it/s, accuracy=0.969, loss=0.19, lr=0.000558]\n"
          ]
        },
        {
          "name": "stdout",
          "output_type": "stream",
          "text": [
            "Epoch 11, Val Loss: 0.11478890244074902, Val Accuracy: 0.9651671974522293\n"
          ]
        },
        {
          "name": "stderr",
          "output_type": "stream",
          "text": [
            "100%|██████████| 938/938 [00:24<00:00, 38.78it/s, accuracy=1, loss=0.024, lr=0.000502]\n"
          ]
        },
        {
          "name": "stdout",
          "output_type": "stream",
          "text": [
            "Epoch 12, Val Loss: 0.11150097737576706, Val Accuracy: 0.9656648089171974\n"
          ]
        },
        {
          "name": "stderr",
          "output_type": "stream",
          "text": [
            "100%|██████████| 938/938 [00:24<00:00, 38.43it/s, accuracy=1, loss=0.035, lr=0.000452]\n"
          ]
        },
        {
          "name": "stdout",
          "output_type": "stream",
          "text": [
            "Epoch 13, Val Loss: 0.11335581366438419, Val Accuracy: 0.9665605095541401\n"
          ]
        },
        {
          "name": "stderr",
          "output_type": "stream",
          "text": [
            "100%|██████████| 938/938 [00:23<00:00, 39.84it/s, accuracy=0.969, loss=0.083, lr=0.000407]\n"
          ]
        },
        {
          "name": "stdout",
          "output_type": "stream",
          "text": [
            "Epoch 14, Val Loss: 0.11316954624241479, Val Accuracy: 0.9675557324840764\n"
          ]
        },
        {
          "name": "stderr",
          "output_type": "stream",
          "text": [
            "100%|██████████| 938/938 [00:24<00:00, 38.04it/s, accuracy=1, loss=0.0335, lr=0.000366]\n"
          ]
        },
        {
          "name": "stdout",
          "output_type": "stream",
          "text": [
            "Epoch 15, Val Loss: 0.10889385138885978, Val Accuracy: 0.96875\n"
          ]
        },
        {
          "name": "stderr",
          "output_type": "stream",
          "text": [
            "100%|██████████| 938/938 [00:23<00:00, 40.04it/s, accuracy=1, loss=0.0397, lr=0.000329]\n"
          ]
        },
        {
          "name": "stdout",
          "output_type": "stream",
          "text": [
            "Epoch 16, Val Loss: 0.106271136008206, Val Accuracy: 0.9665605095541401\n"
          ]
        },
        {
          "name": "stderr",
          "output_type": "stream",
          "text": [
            "100%|██████████| 938/938 [00:24<00:00, 38.71it/s, accuracy=0.969, loss=0.0806, lr=0.000296]\n"
          ]
        },
        {
          "name": "stdout",
          "output_type": "stream",
          "text": [
            "Epoch 17, Val Loss: 0.10567450092343175, Val Accuracy: 0.9685509554140127\n"
          ]
        },
        {
          "name": "stderr",
          "output_type": "stream",
          "text": [
            "100%|██████████| 938/938 [00:23<00:00, 39.67it/s, accuracy=0.844, loss=0.305, lr=0.000267]\n"
          ]
        },
        {
          "name": "stdout",
          "output_type": "stream",
          "text": [
            "Epoch 18, Val Loss: 0.10568003497452766, Val Accuracy: 0.9682523885350318\n"
          ]
        },
        {
          "name": "stderr",
          "output_type": "stream",
          "text": [
            "100%|██████████| 938/938 [00:26<00:00, 35.32it/s, accuracy=0.875, loss=0.29, lr=0.00024]\n"
          ]
        },
        {
          "name": "stdout",
          "output_type": "stream",
          "text": [
            "Epoch 19, Val Loss: 0.10792580605440055, Val Accuracy: 0.9672571656050956\n"
          ]
        },
        {
          "name": "stderr",
          "output_type": "stream",
          "text": [
            "100%|██████████| 938/938 [00:25<00:00, 37.44it/s, accuracy=0.938, loss=0.195, lr=0.000216]\n"
          ]
        },
        {
          "name": "stdout",
          "output_type": "stream",
          "text": [
            "Epoch 20, Val Loss: 0.10204813820398917, Val Accuracy: 0.9695461783439491\n"
          ]
        },
        {
          "name": "stderr",
          "output_type": "stream",
          "text": [
            "100%|██████████| 938/938 [00:25<00:00, 36.88it/s, accuracy=0.969, loss=0.0506, lr=0.000195]\n"
          ]
        },
        {
          "name": "stdout",
          "output_type": "stream",
          "text": [
            "Epoch 21, Val Loss: 0.10296532851095151, Val Accuracy: 0.9691480891719745\n"
          ]
        },
        {
          "name": "stderr",
          "output_type": "stream",
          "text": [
            "100%|██████████| 938/938 [00:23<00:00, 40.06it/s, accuracy=1, loss=0.011, lr=0.000175]\n"
          ]
        },
        {
          "name": "stdout",
          "output_type": "stream",
          "text": [
            "Epoch 22, Val Loss: 0.10623492196218591, Val Accuracy: 0.9693471337579618\n"
          ]
        },
        {
          "name": "stderr",
          "output_type": "stream",
          "text": [
            "100%|██████████| 938/938 [00:25<00:00, 36.75it/s, accuracy=0.969, loss=0.0809, lr=0.000158]\n"
          ]
        },
        {
          "name": "stdout",
          "output_type": "stream",
          "text": [
            "Epoch 23, Val Loss: 0.10263668787724985, Val Accuracy: 0.96984474522293\n"
          ]
        },
        {
          "name": "stderr",
          "output_type": "stream",
          "text": [
            "100%|██████████| 938/938 [00:24<00:00, 37.58it/s, accuracy=0.938, loss=0.248, lr=0.000142]\n"
          ]
        },
        {
          "name": "stdout",
          "output_type": "stream",
          "text": [
            "Epoch 24, Val Loss: 0.10139811095287786, Val Accuracy: 0.9699442675159236\n"
          ]
        },
        {
          "name": "stderr",
          "output_type": "stream",
          "text": [
            "100%|██████████| 938/938 [00:24<00:00, 37.69it/s, accuracy=0.938, loss=0.209, lr=0.000128]\n"
          ]
        },
        {
          "name": "stdout",
          "output_type": "stream",
          "text": [
            "Epoch 25, Val Loss: 0.1009609238641295, Val Accuracy: 0.9707404458598726\n"
          ]
        },
        {
          "name": "stderr",
          "output_type": "stream",
          "text": [
            "100%|██████████| 938/938 [00:23<00:00, 39.67it/s, accuracy=0.938, loss=0.155, lr=0.000115]\n"
          ]
        },
        {
          "name": "stdout",
          "output_type": "stream",
          "text": [
            "Epoch 26, Val Loss: 0.1011509275891385, Val Accuracy: 0.96984474522293\n"
          ]
        },
        {
          "name": "stderr",
          "output_type": "stream",
          "text": [
            "100%|██████████| 938/938 [00:25<00:00, 36.42it/s, accuracy=1, loss=0.0483, lr=0.000103]\n"
          ]
        },
        {
          "name": "stdout",
          "output_type": "stream",
          "text": [
            "Epoch 27, Val Loss: 0.10271094873611322, Val Accuracy: 0.9696457006369427\n"
          ]
        },
        {
          "name": "stderr",
          "output_type": "stream",
          "text": [
            "100%|██████████| 938/938 [00:24<00:00, 37.93it/s, accuracy=1, loss=0.0189, lr=9.3e-5]\n"
          ]
        },
        {
          "name": "stdout",
          "output_type": "stream",
          "text": [
            "Epoch 28, Val Loss: 0.10158914690232942, Val Accuracy: 0.9699442675159236\n"
          ]
        },
        {
          "name": "stderr",
          "output_type": "stream",
          "text": [
            "100%|██████████| 938/938 [00:24<00:00, 38.70it/s, accuracy=1, loss=0.0346, lr=8.37e-5]\n"
          ]
        },
        {
          "name": "stdout",
          "output_type": "stream",
          "text": [
            "Epoch 29, Val Loss: 0.10028062181422712, Val Accuracy: 0.9709394904458599\n"
          ]
        },
        {
          "name": "stderr",
          "output_type": "stream",
          "text": [
            "100%|██████████| 938/938 [00:23<00:00, 39.43it/s, accuracy=0.969, loss=0.0868, lr=7.54e-5]\n"
          ]
        },
        {
          "name": "stdout",
          "output_type": "stream",
          "text": [
            "Epoch 30, Val Loss: 0.10105083733730338, Val Accuracy: 0.9699442675159236\n",
            "LR: 0.0016 Gamma: 0.9 Hdim: 64 Best Accuracy: 0.9709394904458599\n"
          ]
        },
        {
          "name": "stderr",
          "output_type": "stream",
          "text": [
            "100%|██████████| 938/938 [00:25<00:00, 36.32it/s, accuracy=1, loss=0.0628, lr=0.0016]\n"
          ]
        },
        {
          "name": "stdout",
          "output_type": "stream",
          "text": [
            "Epoch 1, Val Loss: 0.1958390810900623, Val Accuracy: 0.9419785031847133\n"
          ]
        },
        {
          "name": "stderr",
          "output_type": "stream",
          "text": [
            "100%|██████████| 938/938 [00:25<00:00, 37.07it/s, accuracy=1, loss=0.075, lr=0.00144]\n"
          ]
        },
        {
          "name": "stdout",
          "output_type": "stream",
          "text": [
            "Epoch 2, Val Loss: 0.12868424947225268, Val Accuracy: 0.9625796178343949\n"
          ]
        },
        {
          "name": "stderr",
          "output_type": "stream",
          "text": [
            "100%|██████████| 938/938 [00:25<00:00, 37.47it/s, accuracy=0.969, loss=0.0668, lr=0.0013]\n"
          ]
        },
        {
          "name": "stdout",
          "output_type": "stream",
          "text": [
            "Epoch 3, Val Loss: 0.11689448553199767, Val Accuracy: 0.9642714968152867\n"
          ]
        },
        {
          "name": "stderr",
          "output_type": "stream",
          "text": [
            "100%|██████████| 938/938 [00:23<00:00, 39.69it/s, accuracy=1, loss=0.0154, lr=0.00117]\n"
          ]
        },
        {
          "name": "stdout",
          "output_type": "stream",
          "text": [
            "Epoch 4, Val Loss: 0.0880270500494624, Val Accuracy: 0.9728304140127388\n"
          ]
        },
        {
          "name": "stderr",
          "output_type": "stream",
          "text": [
            "100%|██████████| 938/938 [00:26<00:00, 35.99it/s, accuracy=1, loss=0.0402, lr=0.00105]\n"
          ]
        },
        {
          "name": "stdout",
          "output_type": "stream",
          "text": [
            "Epoch 5, Val Loss: 0.09722190545530765, Val Accuracy: 0.9709394904458599\n"
          ]
        },
        {
          "name": "stderr",
          "output_type": "stream",
          "text": [
            "100%|██████████| 938/938 [00:25<00:00, 37.21it/s, accuracy=1, loss=0.0206, lr=0.000945]\n"
          ]
        },
        {
          "name": "stdout",
          "output_type": "stream",
          "text": [
            "Epoch 6, Val Loss: 0.0954520471055197, Val Accuracy: 0.9708399681528662\n"
          ]
        },
        {
          "name": "stderr",
          "output_type": "stream",
          "text": [
            "100%|██████████| 938/938 [00:25<00:00, 37.11it/s, accuracy=1, loss=0.0276, lr=0.00085]\n"
          ]
        },
        {
          "name": "stdout",
          "output_type": "stream",
          "text": [
            "Epoch 7, Val Loss: 0.09472799768662496, Val Accuracy: 0.9728304140127388\n"
          ]
        },
        {
          "name": "stderr",
          "output_type": "stream",
          "text": [
            "100%|██████████| 938/938 [00:24<00:00, 38.91it/s, accuracy=1, loss=0.0265, lr=0.000765]\n"
          ]
        },
        {
          "name": "stdout",
          "output_type": "stream",
          "text": [
            "Epoch 8, Val Loss: 0.09712070582588767, Val Accuracy: 0.9717356687898089\n"
          ]
        },
        {
          "name": "stderr",
          "output_type": "stream",
          "text": [
            "100%|██████████| 938/938 [00:26<00:00, 35.44it/s, accuracy=1, loss=0.0046, lr=0.000689]\n"
          ]
        },
        {
          "name": "stdout",
          "output_type": "stream",
          "text": [
            "Epoch 9, Val Loss: 0.08103185270358304, Val Accuracy: 0.976015127388535\n"
          ]
        },
        {
          "name": "stderr",
          "output_type": "stream",
          "text": [
            "100%|██████████| 938/938 [00:25<00:00, 37.07it/s, accuracy=1, loss=0.0237, lr=0.00062]\n"
          ]
        },
        {
          "name": "stdout",
          "output_type": "stream",
          "text": [
            "Epoch 10, Val Loss: 0.08973836383814211, Val Accuracy: 0.9731289808917197\n"
          ]
        },
        {
          "name": "stderr",
          "output_type": "stream",
          "text": [
            "100%|██████████| 938/938 [00:24<00:00, 37.65it/s, accuracy=0.969, loss=0.0475, lr=0.000558]\n"
          ]
        },
        {
          "name": "stdout",
          "output_type": "stream",
          "text": [
            "Epoch 11, Val Loss: 0.07471372291262582, Val Accuracy: 0.9770103503184714\n"
          ]
        },
        {
          "name": "stderr",
          "output_type": "stream",
          "text": [
            "100%|██████████| 938/938 [00:24<00:00, 38.92it/s, accuracy=1, loss=0.0191, lr=0.000502]\n"
          ]
        },
        {
          "name": "stdout",
          "output_type": "stream",
          "text": [
            "Epoch 12, Val Loss: 0.07800806549290243, Val Accuracy: 0.976015127388535\n"
          ]
        },
        {
          "name": "stderr",
          "output_type": "stream",
          "text": [
            "100%|██████████| 938/938 [00:26<00:00, 35.98it/s, accuracy=1, loss=0.0129, lr=0.000452]\n"
          ]
        },
        {
          "name": "stdout",
          "output_type": "stream",
          "text": [
            "Epoch 13, Val Loss: 0.07255610549323051, Val Accuracy: 0.9759156050955414\n"
          ]
        },
        {
          "name": "stderr",
          "output_type": "stream",
          "text": [
            "100%|██████████| 938/938 [00:25<00:00, 36.90it/s, accuracy=1, loss=0.0137, lr=0.000407]\n"
          ]
        },
        {
          "name": "stdout",
          "output_type": "stream",
          "text": [
            "Epoch 14, Val Loss: 0.07647804640632813, Val Accuracy: 0.9772093949044586\n"
          ]
        },
        {
          "name": "stderr",
          "output_type": "stream",
          "text": [
            "100%|██████████| 938/938 [00:25<00:00, 37.49it/s, accuracy=1, loss=0.00658, lr=0.000366]\n"
          ]
        },
        {
          "name": "stdout",
          "output_type": "stream",
          "text": [
            "Epoch 15, Val Loss: 0.070939836836202, Val Accuracy: 0.9768113057324841\n"
          ]
        },
        {
          "name": "stderr",
          "output_type": "stream",
          "text": [
            "100%|██████████| 938/938 [00:23<00:00, 39.97it/s, accuracy=1, loss=0.0149, lr=0.000329]\n"
          ]
        },
        {
          "name": "stdout",
          "output_type": "stream",
          "text": [
            "Epoch 16, Val Loss: 0.07316682407347734, Val Accuracy: 0.9768113057324841\n"
          ]
        },
        {
          "name": "stderr",
          "output_type": "stream",
          "text": [
            "100%|██████████| 938/938 [00:25<00:00, 36.50it/s, accuracy=1, loss=0.0242, lr=0.000296]\n"
          ]
        },
        {
          "name": "stdout",
          "output_type": "stream",
          "text": [
            "Epoch 17, Val Loss: 0.07330823111858376, Val Accuracy: 0.9773089171974523\n"
          ]
        },
        {
          "name": "stderr",
          "output_type": "stream",
          "text": [
            "100%|██████████| 938/938 [00:24<00:00, 37.55it/s, accuracy=1, loss=0.00208, lr=0.000267]\n"
          ]
        },
        {
          "name": "stdout",
          "output_type": "stream",
          "text": [
            "Epoch 18, Val Loss: 0.06996407213930046, Val Accuracy: 0.9778065286624203\n"
          ]
        },
        {
          "name": "stderr",
          "output_type": "stream",
          "text": [
            "100%|██████████| 938/938 [00:25<00:00, 36.71it/s, accuracy=1, loss=0.000825, lr=0.00024]\n"
          ]
        },
        {
          "name": "stdout",
          "output_type": "stream",
          "text": [
            "Epoch 19, Val Loss: 0.07236141532772239, Val Accuracy: 0.9777070063694268\n"
          ]
        },
        {
          "name": "stderr",
          "output_type": "stream",
          "text": [
            "100%|██████████| 938/938 [00:23<00:00, 40.01it/s, accuracy=1, loss=0.00209, lr=0.000216]\n"
          ]
        },
        {
          "name": "stdout",
          "output_type": "stream",
          "text": [
            "Epoch 20, Val Loss: 0.07204017383461687, Val Accuracy: 0.977109872611465\n"
          ]
        },
        {
          "name": "stderr",
          "output_type": "stream",
          "text": [
            "100%|██████████| 938/938 [00:24<00:00, 38.88it/s, accuracy=0.938, loss=0.0696, lr=0.000195]\n"
          ]
        },
        {
          "name": "stdout",
          "output_type": "stream",
          "text": [
            "Epoch 21, Val Loss: 0.07264855781894113, Val Accuracy: 0.9773089171974523\n"
          ]
        },
        {
          "name": "stderr",
          "output_type": "stream",
          "text": [
            "100%|██████████| 938/938 [00:23<00:00, 39.39it/s, accuracy=1, loss=0.00783, lr=0.000175]\n"
          ]
        },
        {
          "name": "stdout",
          "output_type": "stream",
          "text": [
            "Epoch 22, Val Loss: 0.07165283829043842, Val Accuracy: 0.9772093949044586\n"
          ]
        },
        {
          "name": "stderr",
          "output_type": "stream",
          "text": [
            "100%|██████████| 938/938 [00:25<00:00, 36.46it/s, accuracy=1, loss=0.00622, lr=0.000158]\n"
          ]
        },
        {
          "name": "stdout",
          "output_type": "stream",
          "text": [
            "Epoch 23, Val Loss: 0.07140229330197011, Val Accuracy: 0.9790007961783439\n"
          ]
        },
        {
          "name": "stderr",
          "output_type": "stream",
          "text": [
            "100%|██████████| 938/938 [00:24<00:00, 37.54it/s, accuracy=1, loss=0.0176, lr=0.000142]\n"
          ]
        },
        {
          "name": "stdout",
          "output_type": "stream",
          "text": [
            "Epoch 24, Val Loss: 0.07234999238546592, Val Accuracy: 0.9776074840764332\n"
          ]
        },
        {
          "name": "stderr",
          "output_type": "stream",
          "text": [
            "100%|██████████| 938/938 [00:24<00:00, 38.80it/s, accuracy=0.969, loss=0.0576, lr=0.000128]\n"
          ]
        },
        {
          "name": "stdout",
          "output_type": "stream",
          "text": [
            "Epoch 25, Val Loss: 0.0718795884537598, Val Accuracy: 0.977109872611465\n"
          ]
        },
        {
          "name": "stderr",
          "output_type": "stream",
          "text": [
            "100%|██████████| 938/938 [00:23<00:00, 40.13it/s, accuracy=1, loss=0.00866, lr=0.000115]\n"
          ]
        },
        {
          "name": "stdout",
          "output_type": "stream",
          "text": [
            "Epoch 26, Val Loss: 0.07109973994124485, Val Accuracy: 0.9780055732484076\n"
          ]
        },
        {
          "name": "stderr",
          "output_type": "stream",
          "text": [
            "100%|██████████| 938/938 [00:25<00:00, 36.43it/s, accuracy=1, loss=0.00108, lr=0.000103]\n"
          ]
        },
        {
          "name": "stdout",
          "output_type": "stream",
          "text": [
            "Epoch 27, Val Loss: 0.07037782545403909, Val Accuracy: 0.9788017515923567\n"
          ]
        },
        {
          "name": "stderr",
          "output_type": "stream",
          "text": [
            "100%|██████████| 938/938 [00:25<00:00, 37.37it/s, accuracy=1, loss=0.00223, lr=9.3e-5]\n"
          ]
        },
        {
          "name": "stdout",
          "output_type": "stream",
          "text": [
            "Epoch 28, Val Loss: 0.07073170951762975, Val Accuracy: 0.977906050955414\n"
          ]
        },
        {
          "name": "stderr",
          "output_type": "stream",
          "text": [
            "100%|██████████| 938/938 [00:24<00:00, 37.54it/s, accuracy=1, loss=0.0037, lr=8.37e-5]\n"
          ]
        },
        {
          "name": "stdout",
          "output_type": "stream",
          "text": [
            "Epoch 29, Val Loss: 0.07136510238898577, Val Accuracy: 0.9773089171974523\n"
          ]
        },
        {
          "name": "stderr",
          "output_type": "stream",
          "text": [
            "100%|██████████| 938/938 [00:23<00:00, 39.93it/s, accuracy=1, loss=0.00404, lr=7.54e-5]\n"
          ]
        },
        {
          "name": "stdout",
          "output_type": "stream",
          "text": [
            "Epoch 30, Val Loss: 0.06986727828916628, Val Accuracy: 0.9783041401273885\n",
            "LR: 0.0016 Gamma: 0.9 Hdim: 128 Best Accuracy: 0.9790007961783439\n"
          ]
        },
        {
          "name": "stderr",
          "output_type": "stream",
          "text": [
            "100%|██████████| 938/938 [00:26<00:00, 35.36it/s, accuracy=0.906, loss=0.199, lr=0.0016]\n"
          ]
        },
        {
          "name": "stdout",
          "output_type": "stream",
          "text": [
            "Epoch 1, Val Loss: 0.16074242457972876, Val Accuracy: 0.9522292993630573\n"
          ]
        },
        {
          "name": "stderr",
          "output_type": "stream",
          "text": [
            "100%|██████████| 938/938 [00:25<00:00, 37.00it/s, accuracy=0.938, loss=0.198, lr=0.00144]\n"
          ]
        },
        {
          "name": "stdout",
          "output_type": "stream",
          "text": [
            "Epoch 2, Val Loss: 0.12515600389581483, Val Accuracy: 0.961484872611465\n"
          ]
        },
        {
          "name": "stderr",
          "output_type": "stream",
          "text": [
            "100%|██████████| 938/938 [00:24<00:00, 37.57it/s, accuracy=0.875, loss=0.4, lr=0.0013]\n"
          ]
        },
        {
          "name": "stdout",
          "output_type": "stream",
          "text": [
            "Epoch 3, Val Loss: 0.11205143553121787, Val Accuracy: 0.9666600318471338\n"
          ]
        },
        {
          "name": "stderr",
          "output_type": "stream",
          "text": [
            "100%|██████████| 938/938 [00:24<00:00, 39.01it/s, accuracy=0.969, loss=0.117, lr=0.00117]\n"
          ]
        },
        {
          "name": "stdout",
          "output_type": "stream",
          "text": [
            "Epoch 4, Val Loss: 0.10697309128683546, Val Accuracy: 0.9671576433121019\n"
          ]
        },
        {
          "name": "stderr",
          "output_type": "stream",
          "text": [
            "100%|██████████| 938/938 [00:26<00:00, 34.92it/s, accuracy=0.969, loss=0.107, lr=0.00105]\n"
          ]
        },
        {
          "name": "stdout",
          "output_type": "stream",
          "text": [
            "Epoch 5, Val Loss: 0.09318820601418187, Val Accuracy: 0.9710390127388535\n"
          ]
        },
        {
          "name": "stderr",
          "output_type": "stream",
          "text": [
            "100%|██████████| 938/938 [00:25<00:00, 36.52it/s, accuracy=1, loss=0.0191, lr=0.000945]\n"
          ]
        },
        {
          "name": "stdout",
          "output_type": "stream",
          "text": [
            "Epoch 6, Val Loss: 0.09027598509804129, Val Accuracy: 0.9743232484076433\n"
          ]
        },
        {
          "name": "stderr",
          "output_type": "stream",
          "text": [
            "100%|██████████| 938/938 [00:24<00:00, 37.56it/s, accuracy=0.969, loss=0.0293, lr=0.00085]\n"
          ]
        },
        {
          "name": "stdout",
          "output_type": "stream",
          "text": [
            "Epoch 7, Val Loss: 0.08352145604503039, Val Accuracy: 0.9739251592356688\n"
          ]
        },
        {
          "name": "stderr",
          "output_type": "stream",
          "text": [
            "100%|██████████| 938/938 [00:23<00:00, 39.53it/s, accuracy=0.969, loss=0.0332, lr=0.000765]\n"
          ]
        },
        {
          "name": "stdout",
          "output_type": "stream",
          "text": [
            "Epoch 8, Val Loss: 0.07940390964474671, Val Accuracy: 0.976015127388535\n"
          ]
        },
        {
          "name": "stderr",
          "output_type": "stream",
          "text": [
            "100%|██████████| 938/938 [00:26<00:00, 35.32it/s, accuracy=0.969, loss=0.0939, lr=0.000689]\n"
          ]
        },
        {
          "name": "stdout",
          "output_type": "stream",
          "text": [
            "Epoch 9, Val Loss: 0.08201110355556845, Val Accuracy: 0.9747213375796179\n"
          ]
        },
        {
          "name": "stderr",
          "output_type": "stream",
          "text": [
            "100%|██████████| 938/938 [00:25<00:00, 37.00it/s, accuracy=1, loss=0.0118, lr=0.00062]\n"
          ]
        },
        {
          "name": "stdout",
          "output_type": "stream",
          "text": [
            "Epoch 10, Val Loss: 0.06966503724148297, Val Accuracy: 0.9781050955414012\n"
          ]
        },
        {
          "name": "stderr",
          "output_type": "stream",
          "text": [
            "100%|██████████| 938/938 [00:24<00:00, 37.98it/s, accuracy=1, loss=0.00723, lr=0.000558]\n"
          ]
        },
        {
          "name": "stdout",
          "output_type": "stream",
          "text": [
            "Epoch 11, Val Loss: 0.07025258490929949, Val Accuracy: 0.9783041401273885\n"
          ]
        },
        {
          "name": "stderr",
          "output_type": "stream",
          "text": [
            "100%|██████████| 938/938 [00:23<00:00, 39.18it/s, accuracy=1, loss=0.0141, lr=0.000502]\n"
          ]
        },
        {
          "name": "stdout",
          "output_type": "stream",
          "text": [
            "Epoch 12, Val Loss: 0.07715906829689861, Val Accuracy: 0.9780055732484076\n"
          ]
        },
        {
          "name": "stderr",
          "output_type": "stream",
          "text": [
            "100%|██████████| 938/938 [00:26<00:00, 35.68it/s, accuracy=1, loss=0.00554, lr=0.000452]\n"
          ]
        },
        {
          "name": "stdout",
          "output_type": "stream",
          "text": [
            "Epoch 13, Val Loss: 0.07364218026093003, Val Accuracy: 0.9791998407643312\n"
          ]
        },
        {
          "name": "stderr",
          "output_type": "stream",
          "text": [
            "100%|██████████| 938/938 [00:25<00:00, 37.09it/s, accuracy=1, loss=0.00394, lr=0.000407]\n"
          ]
        },
        {
          "name": "stdout",
          "output_type": "stream",
          "text": [
            "Epoch 14, Val Loss: 0.06700231073775784, Val Accuracy: 0.979796974522293\n"
          ]
        },
        {
          "name": "stderr",
          "output_type": "stream",
          "text": [
            "100%|██████████| 938/938 [00:24<00:00, 37.80it/s, accuracy=1, loss=0.00356, lr=0.000366]\n"
          ]
        },
        {
          "name": "stdout",
          "output_type": "stream",
          "text": [
            "Epoch 15, Val Loss: 0.07012439893350446, Val Accuracy: 0.9809912420382165\n"
          ]
        },
        {
          "name": "stderr",
          "output_type": "stream",
          "text": [
            "100%|██████████| 938/938 [00:24<00:00, 38.73it/s, accuracy=1, loss=0.00508, lr=0.000329]\n"
          ]
        },
        {
          "name": "stdout",
          "output_type": "stream",
          "text": [
            "Epoch 16, Val Loss: 0.07756951173784038, Val Accuracy: 0.9785031847133758\n"
          ]
        },
        {
          "name": "stderr",
          "output_type": "stream",
          "text": [
            "100%|██████████| 938/938 [00:26<00:00, 35.20it/s, accuracy=1, loss=0.00206, lr=0.000296]\n"
          ]
        },
        {
          "name": "stdout",
          "output_type": "stream",
          "text": [
            "Epoch 17, Val Loss: 0.0722853630729686, Val Accuracy: 0.9796974522292994\n"
          ]
        },
        {
          "name": "stderr",
          "output_type": "stream",
          "text": [
            "100%|██████████| 938/938 [00:25<00:00, 36.33it/s, accuracy=1, loss=5.71e-5, lr=0.000267]\n"
          ]
        },
        {
          "name": "stdout",
          "output_type": "stream",
          "text": [
            "Epoch 18, Val Loss: 0.07090645808329431, Val Accuracy: 0.9814888535031847\n"
          ]
        },
        {
          "name": "stderr",
          "output_type": "stream",
          "text": [
            "100%|██████████| 938/938 [00:25<00:00, 37.22it/s, accuracy=1, loss=0.00217, lr=0.00024]\n"
          ]
        },
        {
          "name": "stdout",
          "output_type": "stream",
          "text": [
            "Epoch 19, Val Loss: 0.07238475058838263, Val Accuracy: 0.980593152866242\n"
          ]
        },
        {
          "name": "stderr",
          "output_type": "stream",
          "text": [
            "100%|██████████| 938/938 [00:24<00:00, 38.63it/s, accuracy=0.969, loss=0.0366, lr=0.000216]\n"
          ]
        },
        {
          "name": "stdout",
          "output_type": "stream",
          "text": [
            "Epoch 20, Val Loss: 0.06966838960405113, Val Accuracy: 0.9809912420382165\n"
          ]
        },
        {
          "name": "stderr",
          "output_type": "stream",
          "text": [
            "100%|██████████| 938/938 [00:27<00:00, 34.69it/s, accuracy=1, loss=0.0012, lr=0.000195]\n"
          ]
        },
        {
          "name": "stdout",
          "output_type": "stream",
          "text": [
            "Epoch 21, Val Loss: 0.0727593245712782, Val Accuracy: 0.9806926751592356\n"
          ]
        },
        {
          "name": "stderr",
          "output_type": "stream",
          "text": [
            "100%|██████████| 938/938 [00:25<00:00, 36.77it/s, accuracy=1, loss=0.00743, lr=0.000175]\n"
          ]
        },
        {
          "name": "stdout",
          "output_type": "stream",
          "text": [
            "Epoch 22, Val Loss: 0.07167171609848326, Val Accuracy: 0.9804936305732485\n"
          ]
        },
        {
          "name": "stderr",
          "output_type": "stream",
          "text": [
            "100%|██████████| 938/938 [00:24<00:00, 38.66it/s, accuracy=1, loss=0.000413, lr=0.000158]\n"
          ]
        },
        {
          "name": "stdout",
          "output_type": "stream",
          "text": [
            "Epoch 23, Val Loss: 0.07194156000606158, Val Accuracy: 0.980593152866242\n"
          ]
        },
        {
          "name": "stderr",
          "output_type": "stream",
          "text": [
            "100%|██████████| 938/938 [00:25<00:00, 37.27it/s, accuracy=1, loss=0.00707, lr=0.000142]\n"
          ]
        },
        {
          "name": "stdout",
          "output_type": "stream",
          "text": [
            "Epoch 24, Val Loss: 0.06974338413977763, Val Accuracy: 0.9813893312101911\n"
          ]
        },
        {
          "name": "stderr",
          "output_type": "stream",
          "text": [
            "100%|██████████| 938/938 [00:25<00:00, 36.36it/s, accuracy=1, loss=3.67e-5, lr=0.000128]\n"
          ]
        },
        {
          "name": "stdout",
          "output_type": "stream",
          "text": [
            "Epoch 25, Val Loss: 0.0697771156984652, Val Accuracy: 0.981687898089172\n"
          ]
        },
        {
          "name": "stderr",
          "output_type": "stream",
          "text": [
            "100%|██████████| 938/938 [00:24<00:00, 37.73it/s, accuracy=1, loss=0.00219, lr=0.000115]\n"
          ]
        },
        {
          "name": "stdout",
          "output_type": "stream",
          "text": [
            "Epoch 26, Val Loss: 0.0716334845514976, Val Accuracy: 0.9808917197452229\n"
          ]
        },
        {
          "name": "stderr",
          "output_type": "stream",
          "text": [
            "100%|██████████| 938/938 [00:23<00:00, 39.16it/s, accuracy=1, loss=0.00209, lr=0.000103]\n"
          ]
        },
        {
          "name": "stdout",
          "output_type": "stream",
          "text": [
            "Epoch 27, Val Loss: 0.071823153504654, Val Accuracy: 0.9808917197452229\n"
          ]
        },
        {
          "name": "stderr",
          "output_type": "stream",
          "text": [
            "100%|██████████| 938/938 [00:25<00:00, 36.67it/s, accuracy=1, loss=0.000409, lr=9.3e-5]\n"
          ]
        },
        {
          "name": "stdout",
          "output_type": "stream",
          "text": [
            "Epoch 28, Val Loss: 0.07196281746632993, Val Accuracy: 0.9815883757961783\n"
          ]
        },
        {
          "name": "stderr",
          "output_type": "stream",
          "text": [
            "100%|██████████| 938/938 [00:25<00:00, 37.44it/s, accuracy=1, loss=0.00214, lr=8.37e-5]\n"
          ]
        },
        {
          "name": "stdout",
          "output_type": "stream",
          "text": [
            "Epoch 29, Val Loss: 0.07209294401118285, Val Accuracy: 0.9812898089171974\n"
          ]
        },
        {
          "name": "stderr",
          "output_type": "stream",
          "text": [
            "100%|██████████| 938/938 [00:24<00:00, 38.71it/s, accuracy=1, loss=0.000476, lr=7.54e-5]\n"
          ]
        },
        {
          "name": "stdout",
          "output_type": "stream",
          "text": [
            "Epoch 30, Val Loss: 0.07353632927119624, Val Accuracy: 0.9811902866242038\n",
            "LR: 0.0016 Gamma: 0.9 Hdim: 256 Best Accuracy: 0.981687898089172\n"
          ]
        }
      ],
      "source": [
        "epochs = 30\n",
        "lrs = [8e-4, 1.2e-3, 1.6e-3]\n",
        "gammas = [0.8, 0.9]\n",
        "hdims = [64, 128, 256]\n",
        "best_accs = []\n",
        "for lr in lrs:\n",
        "    for gamma in gammas:\n",
        "        for hdim in hdims:\n",
        "            torch.manual_seed(42)\n",
        "            best_acc = 0\n",
        "            # Define model\n",
        "            model = MLP(layers_hidden=[28 * 28, hdim, 10])\n",
        "            device = torch.device(\"cuda\" if torch.cuda.is_available() else \"cpu\")\n",
        "            model.to(device)\n",
        "            # Define optimizer\n",
        "            optimizer = optim.AdamW(model.parameters(), lr=lr)\n",
        "            # Define learning rate scheduler\n",
        "            scheduler = optim.lr_scheduler.ExponentialLR(optimizer, gamma=gamma)\n",
        "\n",
        "            # Define loss\n",
        "            criterion = nn.CrossEntropyLoss()\n",
        "            for epoch in range(epochs):\n",
        "                # Train\n",
        "                model.train()\n",
        "                with tqdm(train_loader) as pbar:\n",
        "                    for i, (images, labels) in enumerate(pbar):\n",
        "                        images = images.view(-1, 28 * 28).to(device)\n",
        "                        optimizer.zero_grad()\n",
        "                        output = model(images)\n",
        "                        loss = criterion(output, labels.to(device))\n",
        "                        loss.backward()\n",
        "                        optimizer.step()\n",
        "                        accuracy = (output.argmax(dim=1) == labels.to(device)).float().mean()\n",
        "                        pbar.set_postfix(loss=loss.item(), accuracy=accuracy.item(), lr=optimizer.param_groups[0]['lr'])\n",
        "\n",
        "                # Validation\n",
        "                model.eval()\n",
        "                val_loss = 0\n",
        "                val_accuracy = 0\n",
        "                with torch.no_grad():\n",
        "                    for images, labels in val_loader:\n",
        "                        images = images.view(-1, 28 * 28).to(device)\n",
        "                        output = model(images)\n",
        "                        val_loss += criterion(output, labels.to(device)).item()\n",
        "                        val_accuracy += (\n",
        "                            (output.argmax(dim=1) == labels.to(device)).float().mean().item()\n",
        "                        )\n",
        "                val_loss /= len(val_loader)\n",
        "                val_accuracy /= len(val_loader)\n",
        "                if val_accuracy > best_acc:\n",
        "                    best_acc = val_accuracy\n",
        "\n",
        "                # Update learning rate\n",
        "                scheduler.step()\n",
        "\n",
        "                print(\n",
        "                    f\"Epoch {epoch + 1}, Val Loss: {val_loss}, Val Accuracy: {val_accuracy}\"\n",
        "                )\n",
        "            best_accs.append(best_acc)\n",
        "            print(f\"LR: {lr} Gamma: {gamma} Hdim: {hdim} Best Accuracy: {best_acc}\")"
      ]
    },
    {
      "cell_type": "code",
      "execution_count": null,
      "metadata": {
        "colab": {
          "background_save": true,
          "base_uri": "https://localhost:8080/"
        },
        "id": "HxaS2pjy0LnB",
        "outputId": "1fa507de-9b8e-4a05-bb1d-4bbcff064ed1"
      },
      "outputs": [
        {
          "name": "stderr",
          "output_type": "stream",
          "text": [
            "100%|██████████| 938/938 [00:19<00:00, 47.86it/s, accuracy=0.938, loss=0.22, lr=0.0008]\n"
          ]
        },
        {
          "name": "stdout",
          "output_type": "stream",
          "text": [
            "Epoch 1, Val Loss: 0.1956070644401346, Val Accuracy: 0.9424761146496815\n"
          ]
        },
        {
          "name": "stderr",
          "output_type": "stream",
          "text": [
            "100%|██████████| 938/938 [00:19<00:00, 48.55it/s, accuracy=0.938, loss=0.136, lr=0.00072]\n"
          ]
        },
        {
          "name": "stdout",
          "output_type": "stream",
          "text": [
            "Epoch 2, Val Loss: 0.1331768139639193, Val Accuracy: 0.9617834394904459\n"
          ]
        },
        {
          "name": "stderr",
          "output_type": "stream",
          "text": [
            "100%|██████████| 938/938 [00:18<00:00, 49.86it/s, accuracy=0.938, loss=0.279, lr=0.000648]\n"
          ]
        },
        {
          "name": "stdout",
          "output_type": "stream",
          "text": [
            "Epoch 3, Val Loss: 0.10440338327501943, Val Accuracy: 0.9682523885350318\n"
          ]
        },
        {
          "name": "stderr",
          "output_type": "stream",
          "text": [
            "100%|██████████| 938/938 [00:19<00:00, 47.19it/s, accuracy=0.969, loss=0.14, lr=0.000583]\n"
          ]
        },
        {
          "name": "stdout",
          "output_type": "stream",
          "text": [
            "Epoch 4, Val Loss: 0.10517182121806701, Val Accuracy: 0.9670581210191083\n"
          ]
        },
        {
          "name": "stderr",
          "output_type": "stream",
          "text": [
            "100%|██████████| 938/938 [00:19<00:00, 48.90it/s, accuracy=0.969, loss=0.104, lr=0.000525]\n"
          ]
        },
        {
          "name": "stdout",
          "output_type": "stream",
          "text": [
            "Epoch 5, Val Loss: 0.08821864614847479, Val Accuracy: 0.9715366242038217\n"
          ]
        },
        {
          "name": "stderr",
          "output_type": "stream",
          "text": [
            "100%|██████████| 938/938 [00:20<00:00, 45.33it/s, accuracy=1, loss=0.0233, lr=0.000472]\n"
          ]
        },
        {
          "name": "stdout",
          "output_type": "stream",
          "text": [
            "Epoch 6, Val Loss: 0.08590159476730991, Val Accuracy: 0.9742237261146497\n"
          ]
        },
        {
          "name": "stderr",
          "output_type": "stream",
          "text": [
            "100%|██████████| 938/938 [00:19<00:00, 49.32it/s, accuracy=1, loss=0.0188, lr=0.000425]\n"
          ]
        },
        {
          "name": "stdout",
          "output_type": "stream",
          "text": [
            "Epoch 7, Val Loss: 0.0718588110587447, Val Accuracy: 0.9781050955414012\n"
          ]
        },
        {
          "name": "stderr",
          "output_type": "stream",
          "text": [
            "100%|██████████| 938/938 [00:20<00:00, 46.06it/s, accuracy=0.969, loss=0.0743, lr=0.000383]\n"
          ]
        },
        {
          "name": "stdout",
          "output_type": "stream",
          "text": [
            "Epoch 8, Val Loss: 0.07427869798136566, Val Accuracy: 0.9765127388535032\n"
          ]
        },
        {
          "name": "stderr",
          "output_type": "stream",
          "text": [
            "100%|██████████| 938/938 [00:19<00:00, 49.09it/s, accuracy=0.969, loss=0.0729, lr=0.000344]\n"
          ]
        },
        {
          "name": "stdout",
          "output_type": "stream",
          "text": [
            "Epoch 9, Val Loss: 0.07707106050059043, Val Accuracy: 0.975218949044586\n"
          ]
        },
        {
          "name": "stderr",
          "output_type": "stream",
          "text": [
            "100%|██████████| 938/938 [00:19<00:00, 48.27it/s, accuracy=1, loss=0.0248, lr=0.00031]\n"
          ]
        },
        {
          "name": "stdout",
          "output_type": "stream",
          "text": [
            "Epoch 10, Val Loss: 0.06879514525496182, Val Accuracy: 0.978702229299363\n"
          ]
        },
        {
          "name": "stderr",
          "output_type": "stream",
          "text": [
            "100%|██████████| 938/938 [00:19<00:00, 49.05it/s, accuracy=1, loss=0.0105, lr=0.000279]\n"
          ]
        },
        {
          "name": "stdout",
          "output_type": "stream",
          "text": [
            "Epoch 11, Val Loss: 0.06566697381719336, Val Accuracy: 0.9793988853503185\n"
          ]
        },
        {
          "name": "stderr",
          "output_type": "stream",
          "text": [
            "100%|██████████| 938/938 [00:18<00:00, 49.41it/s, accuracy=0.969, loss=0.0692, lr=0.000251]\n"
          ]
        },
        {
          "name": "stdout",
          "output_type": "stream",
          "text": [
            "Epoch 12, Val Loss: 0.0694076365588832, Val Accuracy: 0.9791003184713376\n"
          ]
        },
        {
          "name": "stderr",
          "output_type": "stream",
          "text": [
            "100%|██████████| 938/938 [00:19<00:00, 47.85it/s, accuracy=1, loss=0.00769, lr=0.000226]\n"
          ]
        },
        {
          "name": "stdout",
          "output_type": "stream",
          "text": [
            "Epoch 13, Val Loss: 0.06478962631461249, Val Accuracy: 0.9808917197452229\n"
          ]
        },
        {
          "name": "stderr",
          "output_type": "stream",
          "text": [
            "100%|██████████| 938/938 [00:18<00:00, 49.41it/s, accuracy=1, loss=0.0135, lr=0.000203]\n"
          ]
        },
        {
          "name": "stdout",
          "output_type": "stream",
          "text": [
            "Epoch 14, Val Loss: 0.06394946301048884, Val Accuracy: 0.9796974522292994\n"
          ]
        },
        {
          "name": "stderr",
          "output_type": "stream",
          "text": [
            "100%|██████████| 938/938 [00:20<00:00, 46.10it/s, accuracy=1, loss=0.0234, lr=0.000183]\n"
          ]
        },
        {
          "name": "stdout",
          "output_type": "stream",
          "text": [
            "Epoch 15, Val Loss: 0.06532956314987613, Val Accuracy: 0.9794984076433121\n"
          ]
        },
        {
          "name": "stderr",
          "output_type": "stream",
          "text": [
            "100%|██████████| 938/938 [00:18<00:00, 49.39it/s, accuracy=1, loss=0.0201, lr=0.000165]\n"
          ]
        },
        {
          "name": "stdout",
          "output_type": "stream",
          "text": [
            "Epoch 16, Val Loss: 0.07065431801385356, Val Accuracy: 0.9783041401273885\n"
          ]
        },
        {
          "name": "stderr",
          "output_type": "stream",
          "text": [
            "100%|██████████| 938/938 [00:20<00:00, 46.49it/s, accuracy=1, loss=0.00802, lr=0.000148]\n"
          ]
        },
        {
          "name": "stdout",
          "output_type": "stream",
          "text": [
            "Epoch 17, Val Loss: 0.06430312513195276, Val Accuracy: 0.9795979299363057\n"
          ]
        },
        {
          "name": "stderr",
          "output_type": "stream",
          "text": [
            "100%|██████████| 938/938 [00:19<00:00, 49.14it/s, accuracy=1, loss=0.000143, lr=0.000133]\n"
          ]
        },
        {
          "name": "stdout",
          "output_type": "stream",
          "text": [
            "Epoch 18, Val Loss: 0.06144837318438737, Val Accuracy: 0.9812898089171974\n"
          ]
        },
        {
          "name": "stderr",
          "output_type": "stream",
          "text": [
            "100%|██████████| 938/938 [00:19<00:00, 47.16it/s, accuracy=1, loss=0.00929, lr=0.00012]\n"
          ]
        },
        {
          "name": "stdout",
          "output_type": "stream",
          "text": [
            "Epoch 19, Val Loss: 0.06683102467038578, Val Accuracy: 0.9804936305732485\n"
          ]
        },
        {
          "name": "stderr",
          "output_type": "stream",
          "text": [
            "100%|██████████| 938/938 [00:19<00:00, 48.62it/s, accuracy=0.969, loss=0.116, lr=0.000108]\n"
          ]
        },
        {
          "name": "stdout",
          "output_type": "stream",
          "text": [
            "Epoch 20, Val Loss: 0.06291062351726633, Val Accuracy: 0.9813893312101911\n"
          ]
        },
        {
          "name": "stderr",
          "output_type": "stream",
          "text": [
            "100%|██████████| 938/938 [00:19<00:00, 48.93it/s, accuracy=1, loss=0.00744, lr=9.73e-5]\n"
          ]
        },
        {
          "name": "stdout",
          "output_type": "stream",
          "text": [
            "Epoch 21, Val Loss: 0.06410047028114194, Val Accuracy: 0.9809912420382165\n"
          ]
        },
        {
          "name": "stderr",
          "output_type": "stream",
          "text": [
            "100%|██████████| 938/938 [00:19<00:00, 49.00it/s, accuracy=1, loss=0.00402, lr=8.75e-5]\n"
          ]
        },
        {
          "name": "stdout",
          "output_type": "stream",
          "text": [
            "Epoch 22, Val Loss: 0.06274494032906984, Val Accuracy: 0.9812898089171974\n"
          ]
        },
        {
          "name": "stderr",
          "output_type": "stream",
          "text": [
            "100%|██████████| 938/938 [00:19<00:00, 48.95it/s, accuracy=1, loss=0.0063, lr=7.88e-5]\n"
          ]
        },
        {
          "name": "stdout",
          "output_type": "stream",
          "text": [
            "Epoch 23, Val Loss: 0.06277673465458274, Val Accuracy: 0.9809912420382165\n"
          ]
        },
        {
          "name": "stderr",
          "output_type": "stream",
          "text": [
            "100%|██████████| 938/938 [00:20<00:00, 46.79it/s, accuracy=1, loss=0.0191, lr=7.09e-5]\n"
          ]
        },
        {
          "name": "stdout",
          "output_type": "stream",
          "text": [
            "Epoch 24, Val Loss: 0.0623454020454345, Val Accuracy: 0.9817874203821656\n"
          ]
        },
        {
          "name": "stderr",
          "output_type": "stream",
          "text": [
            "100%|██████████| 938/938 [00:19<00:00, 48.88it/s, accuracy=1, loss=0.000292, lr=6.38e-5]\n"
          ]
        },
        {
          "name": "stdout",
          "output_type": "stream",
          "text": [
            "Epoch 25, Val Loss: 0.06200908105492304, Val Accuracy: 0.9822850318471338\n"
          ]
        },
        {
          "name": "stderr",
          "output_type": "stream",
          "text": [
            "100%|██████████| 938/938 [00:20<00:00, 45.62it/s, accuracy=1, loss=0.00439, lr=5.74e-5]\n"
          ]
        },
        {
          "name": "stdout",
          "output_type": "stream",
          "text": [
            "Epoch 26, Val Loss: 0.06325142555364738, Val Accuracy: 0.9818869426751592\n"
          ]
        },
        {
          "name": "stderr",
          "output_type": "stream",
          "text": [
            "100%|██████████| 938/938 [00:18<00:00, 49.73it/s, accuracy=1, loss=0.00509, lr=5.17e-5]\n"
          ]
        },
        {
          "name": "stdout",
          "output_type": "stream",
          "text": [
            "Epoch 27, Val Loss: 0.06295931525297871, Val Accuracy: 0.9815883757961783\n"
          ]
        },
        {
          "name": "stderr",
          "output_type": "stream",
          "text": [
            "100%|██████████| 938/938 [00:20<00:00, 46.34it/s, accuracy=1, loss=0.00177, lr=4.65e-5]\n"
          ]
        },
        {
          "name": "stdout",
          "output_type": "stream",
          "text": [
            "Epoch 28, Val Loss: 0.062421801866021615, Val Accuracy: 0.9820859872611465\n"
          ]
        },
        {
          "name": "stderr",
          "output_type": "stream",
          "text": [
            "100%|██████████| 938/938 [00:18<00:00, 49.42it/s, accuracy=1, loss=0.00649, lr=4.19e-5]\n"
          ]
        },
        {
          "name": "stdout",
          "output_type": "stream",
          "text": [
            "Epoch 29, Val Loss: 0.0617336609866586, Val Accuracy: 0.9818869426751592\n"
          ]
        },
        {
          "name": "stderr",
          "output_type": "stream",
          "text": [
            "100%|██████████| 938/938 [00:19<00:00, 48.13it/s, accuracy=1, loss=0.00208, lr=3.77e-5]\n"
          ]
        },
        {
          "name": "stdout",
          "output_type": "stream",
          "text": [
            "Epoch 30, Val Loss: 0.06267413608091686, Val Accuracy: 0.9821855095541401\n"
          ]
        },
        {
          "name": "stderr",
          "output_type": "stream",
          "text": [
            "100%|██████████| 938/938 [00:19<00:00, 49.09it/s, accuracy=0.938, loss=0.223, lr=0.0008]\n"
          ]
        },
        {
          "name": "stdout",
          "output_type": "stream",
          "text": [
            "Epoch 1, Val Loss: 0.19808791876195153, Val Accuracy: 0.9426751592356688\n"
          ]
        },
        {
          "name": "stderr",
          "output_type": "stream",
          "text": [
            "100%|██████████| 938/938 [00:19<00:00, 48.91it/s, accuracy=0.938, loss=0.167, lr=0.00072]\n"
          ]
        },
        {
          "name": "stdout",
          "output_type": "stream",
          "text": [
            "Epoch 2, Val Loss: 0.13414042388166117, Val Accuracy: 0.9609872611464968\n"
          ]
        },
        {
          "name": "stderr",
          "output_type": "stream",
          "text": [
            "100%|██████████| 938/938 [00:19<00:00, 48.36it/s, accuracy=0.969, loss=0.239, lr=0.000648]\n"
          ]
        },
        {
          "name": "stdout",
          "output_type": "stream",
          "text": [
            "Epoch 3, Val Loss: 0.10789706137410965, Val Accuracy: 0.9667595541401274\n"
          ]
        },
        {
          "name": "stderr",
          "output_type": "stream",
          "text": [
            "100%|██████████| 938/938 [00:19<00:00, 47.70it/s, accuracy=0.969, loss=0.134, lr=0.000583]\n"
          ]
        },
        {
          "name": "stdout",
          "output_type": "stream",
          "text": [
            "Epoch 4, Val Loss: 0.11468816385233692, Val Accuracy: 0.9654657643312102\n"
          ]
        },
        {
          "name": "stderr",
          "output_type": "stream",
          "text": [
            "100%|██████████| 938/938 [00:20<00:00, 46.23it/s, accuracy=0.969, loss=0.124, lr=0.000525]\n"
          ]
        },
        {
          "name": "stdout",
          "output_type": "stream",
          "text": [
            "Epoch 5, Val Loss: 0.09075230046599557, Val Accuracy: 0.9732285031847133\n"
          ]
        },
        {
          "name": "stderr",
          "output_type": "stream",
          "text": [
            "100%|██████████| 938/938 [00:19<00:00, 48.08it/s, accuracy=1, loss=0.0251, lr=0.000472]\n"
          ]
        },
        {
          "name": "stdout",
          "output_type": "stream",
          "text": [
            "Epoch 6, Val Loss: 0.09150930798455337, Val Accuracy: 0.9718351910828026\n"
          ]
        },
        {
          "name": "stderr",
          "output_type": "stream",
          "text": [
            "100%|██████████| 938/938 [00:20<00:00, 46.22it/s, accuracy=0.969, loss=0.0345, lr=0.000425]\n"
          ]
        },
        {
          "name": "stdout",
          "output_type": "stream",
          "text": [
            "Epoch 7, Val Loss: 0.07529669909872957, Val Accuracy: 0.9765127388535032\n"
          ]
        },
        {
          "name": "stderr",
          "output_type": "stream",
          "text": [
            "100%|██████████| 938/938 [00:19<00:00, 48.25it/s, accuracy=1, loss=0.061, lr=0.000383]\n"
          ]
        },
        {
          "name": "stdout",
          "output_type": "stream",
          "text": [
            "Epoch 8, Val Loss: 0.07663187712236681, Val Accuracy: 0.9763136942675159\n"
          ]
        },
        {
          "name": "stderr",
          "output_type": "stream",
          "text": [
            "100%|██████████| 938/938 [00:20<00:00, 45.31it/s, accuracy=0.969, loss=0.0784, lr=0.000344]\n"
          ]
        },
        {
          "name": "stdout",
          "output_type": "stream",
          "text": [
            "Epoch 9, Val Loss: 0.08023732784945684, Val Accuracy: 0.9747213375796179\n"
          ]
        },
        {
          "name": "stderr",
          "output_type": "stream",
          "text": [
            "100%|██████████| 938/938 [00:19<00:00, 48.77it/s, accuracy=1, loss=0.0235, lr=0.00031]\n"
          ]
        },
        {
          "name": "stdout",
          "output_type": "stream",
          "text": [
            "Epoch 10, Val Loss: 0.07137582859337319, Val Accuracy: 0.9772093949044586\n"
          ]
        },
        {
          "name": "stderr",
          "output_type": "stream",
          "text": [
            "100%|██████████| 938/938 [00:19<00:00, 46.91it/s, accuracy=1, loss=0.0187, lr=0.000279]\n"
          ]
        },
        {
          "name": "stdout",
          "output_type": "stream",
          "text": [
            "Epoch 11, Val Loss: 0.06850976196924449, Val Accuracy: 0.9789012738853503\n"
          ]
        },
        {
          "name": "stderr",
          "output_type": "stream",
          "text": [
            "100%|██████████| 938/938 [00:19<00:00, 48.38it/s, accuracy=0.969, loss=0.0654, lr=0.000251]\n"
          ]
        },
        {
          "name": "stdout",
          "output_type": "stream",
          "text": [
            "Epoch 12, Val Loss: 0.06810548935314659, Val Accuracy: 0.9786027070063694\n"
          ]
        },
        {
          "name": "stderr",
          "output_type": "stream",
          "text": [
            "100%|██████████| 938/938 [00:19<00:00, 47.62it/s, accuracy=1, loss=0.0133, lr=0.000226]\n"
          ]
        },
        {
          "name": "stdout",
          "output_type": "stream",
          "text": [
            "Epoch 13, Val Loss: 0.0681977821671579, Val Accuracy: 0.9781050955414012\n"
          ]
        },
        {
          "name": "stderr",
          "output_type": "stream",
          "text": [
            "100%|██████████| 938/938 [00:19<00:00, 48.62it/s, accuracy=1, loss=0.0138, lr=0.000203]\n"
          ]
        },
        {
          "name": "stdout",
          "output_type": "stream",
          "text": [
            "Epoch 14, Val Loss: 0.06474817048668918, Val Accuracy: 0.9790007961783439\n"
          ]
        },
        {
          "name": "stderr",
          "output_type": "stream",
          "text": [
            "100%|██████████| 938/938 [00:19<00:00, 48.80it/s, accuracy=1, loss=0.0264, lr=0.000183]\n"
          ]
        },
        {
          "name": "stdout",
          "output_type": "stream",
          "text": [
            "Epoch 15, Val Loss: 0.06469590868884297, Val Accuracy: 0.9792993630573248\n"
          ]
        },
        {
          "name": "stderr",
          "output_type": "stream",
          "text": [
            "100%|██████████| 938/938 [00:19<00:00, 47.85it/s, accuracy=1, loss=0.0194, lr=0.000165]\n"
          ]
        },
        {
          "name": "stdout",
          "output_type": "stream",
          "text": [
            "Epoch 16, Val Loss: 0.06651049838134437, Val Accuracy: 0.9781050955414012\n"
          ]
        },
        {
          "name": "stderr",
          "output_type": "stream",
          "text": [
            "100%|██████████| 938/938 [00:19<00:00, 48.40it/s, accuracy=1, loss=0.0112, lr=0.000148]\n"
          ]
        },
        {
          "name": "stdout",
          "output_type": "stream",
          "text": [
            "Epoch 17, Val Loss: 0.06368198597938665, Val Accuracy: 0.9795979299363057\n"
          ]
        },
        {
          "name": "stderr",
          "output_type": "stream",
          "text": [
            "100%|██████████| 938/938 [00:19<00:00, 48.03it/s, accuracy=1, loss=0.000583, lr=0.000133]\n"
          ]
        },
        {
          "name": "stdout",
          "output_type": "stream",
          "text": [
            "Epoch 18, Val Loss: 0.061105234404227986, Val Accuracy: 0.9810907643312102\n"
          ]
        },
        {
          "name": "stderr",
          "output_type": "stream",
          "text": [
            "100%|██████████| 938/938 [00:19<00:00, 48.71it/s, accuracy=1, loss=0.017, lr=0.00012]\n"
          ]
        },
        {
          "name": "stdout",
          "output_type": "stream",
          "text": [
            "Epoch 19, Val Loss: 0.06642419088175476, Val Accuracy: 0.9788017515923567\n"
          ]
        },
        {
          "name": "stderr",
          "output_type": "stream",
          "text": [
            "100%|██████████| 938/938 [00:19<00:00, 47.69it/s, accuracy=0.969, loss=0.106, lr=0.000108]\n"
          ]
        },
        {
          "name": "stdout",
          "output_type": "stream",
          "text": [
            "Epoch 20, Val Loss: 0.06140950014818442, Val Accuracy: 0.9800955414012739\n"
          ]
        },
        {
          "name": "stderr",
          "output_type": "stream",
          "text": [
            "100%|██████████| 938/938 [00:19<00:00, 48.74it/s, accuracy=1, loss=0.0104, lr=9.73e-5]\n"
          ]
        },
        {
          "name": "stdout",
          "output_type": "stream",
          "text": [
            "Epoch 21, Val Loss: 0.060805681043498774, Val Accuracy: 0.9798964968152867\n"
          ]
        },
        {
          "name": "stderr",
          "output_type": "stream",
          "text": [
            "100%|██████████| 938/938 [00:20<00:00, 46.52it/s, accuracy=1, loss=0.00909, lr=8.75e-5]\n"
          ]
        },
        {
          "name": "stdout",
          "output_type": "stream",
          "text": [
            "Epoch 22, Val Loss: 0.06130663374267225, Val Accuracy: 0.9809912420382165\n"
          ]
        },
        {
          "name": "stderr",
          "output_type": "stream",
          "text": [
            "100%|██████████| 938/938 [00:19<00:00, 48.25it/s, accuracy=1, loss=0.0139, lr=7.88e-5]\n"
          ]
        },
        {
          "name": "stdout",
          "output_type": "stream",
          "text": [
            "Epoch 23, Val Loss: 0.060024052190447555, Val Accuracy: 0.9809912420382165\n"
          ]
        },
        {
          "name": "stderr",
          "output_type": "stream",
          "text": [
            "100%|██████████| 938/938 [00:20<00:00, 44.89it/s, accuracy=0.969, loss=0.0423, lr=7.09e-5]\n"
          ]
        },
        {
          "name": "stdout",
          "output_type": "stream",
          "text": [
            "Epoch 24, Val Loss: 0.05927636995839302, Val Accuracy: 0.9820859872611465\n"
          ]
        },
        {
          "name": "stderr",
          "output_type": "stream",
          "text": [
            "100%|██████████| 938/938 [00:19<00:00, 48.44it/s, accuracy=1, loss=0.00114, lr=6.38e-5]\n"
          ]
        },
        {
          "name": "stdout",
          "output_type": "stream",
          "text": [
            "Epoch 25, Val Loss: 0.059721285350484314, Val Accuracy: 0.981687898089172\n"
          ]
        },
        {
          "name": "stderr",
          "output_type": "stream",
          "text": [
            "100%|██████████| 938/938 [00:20<00:00, 46.12it/s, accuracy=1, loss=0.01, lr=5.74e-5]\n"
          ]
        },
        {
          "name": "stdout",
          "output_type": "stream",
          "text": [
            "Epoch 26, Val Loss: 0.059810267964613056, Val Accuracy: 0.9815883757961783\n"
          ]
        },
        {
          "name": "stderr",
          "output_type": "stream",
          "text": [
            "100%|██████████| 938/938 [00:19<00:00, 48.32it/s, accuracy=1, loss=0.013, lr=5.17e-5]\n"
          ]
        },
        {
          "name": "stdout",
          "output_type": "stream",
          "text": [
            "Epoch 27, Val Loss: 0.06060195390302258, Val Accuracy: 0.9809912420382165\n"
          ]
        },
        {
          "name": "stderr",
          "output_type": "stream",
          "text": [
            "100%|██████████| 938/938 [00:20<00:00, 46.45it/s, accuracy=1, loss=0.00425, lr=4.65e-5]\n"
          ]
        },
        {
          "name": "stdout",
          "output_type": "stream",
          "text": [
            "Epoch 28, Val Loss: 0.05903599895040095, Val Accuracy: 0.9814888535031847\n"
          ]
        },
        {
          "name": "stderr",
          "output_type": "stream",
          "text": [
            "100%|██████████| 938/938 [00:19<00:00, 48.68it/s, accuracy=1, loss=0.0144, lr=4.19e-5]\n"
          ]
        },
        {
          "name": "stdout",
          "output_type": "stream",
          "text": [
            "Epoch 29, Val Loss: 0.058400157229733136, Val Accuracy: 0.9815883757961783\n"
          ]
        },
        {
          "name": "stderr",
          "output_type": "stream",
          "text": [
            "100%|██████████| 938/938 [00:19<00:00, 47.58it/s, accuracy=1, loss=0.00365, lr=3.77e-5]\n"
          ]
        },
        {
          "name": "stdout",
          "output_type": "stream",
          "text": [
            "Epoch 30, Val Loss: 0.05931827811072699, Val Accuracy: 0.9815883757961783\n"
          ]
        },
        {
          "name": "stderr",
          "output_type": "stream",
          "text": [
            "100%|██████████| 938/938 [00:19<00:00, 48.03it/s, accuracy=0.906, loss=0.249, lr=0.0008]\n"
          ]
        },
        {
          "name": "stdout",
          "output_type": "stream",
          "text": [
            "Epoch 1, Val Loss: 0.20385343142767337, Val Accuracy: 0.9408837579617835\n"
          ]
        },
        {
          "name": "stderr",
          "output_type": "stream",
          "text": [
            "100%|██████████| 938/938 [00:19<00:00, 47.98it/s, accuracy=0.938, loss=0.169, lr=0.00072]\n"
          ]
        },
        {
          "name": "stdout",
          "output_type": "stream",
          "text": [
            "Epoch 2, Val Loss: 0.14047545587916851, Val Accuracy: 0.960390127388535\n"
          ]
        },
        {
          "name": "stderr",
          "output_type": "stream",
          "text": [
            "100%|██████████| 938/938 [00:20<00:00, 46.82it/s, accuracy=0.969, loss=0.251, lr=0.000648]\n"
          ]
        },
        {
          "name": "stdout",
          "output_type": "stream",
          "text": [
            "Epoch 3, Val Loss: 0.11457020613797911, Val Accuracy: 0.9666600318471338\n"
          ]
        },
        {
          "name": "stderr",
          "output_type": "stream",
          "text": [
            "100%|██████████| 938/938 [00:19<00:00, 47.86it/s, accuracy=0.969, loss=0.146, lr=0.000583]\n"
          ]
        },
        {
          "name": "stdout",
          "output_type": "stream",
          "text": [
            "Epoch 4, Val Loss: 0.11889177905751547, Val Accuracy: 0.9652667197452229\n"
          ]
        },
        {
          "name": "stderr",
          "output_type": "stream",
          "text": [
            "100%|██████████| 938/938 [00:20<00:00, 44.94it/s, accuracy=0.969, loss=0.141, lr=0.000525]\n"
          ]
        },
        {
          "name": "stdout",
          "output_type": "stream",
          "text": [
            "Epoch 5, Val Loss: 0.09474016353636268, Val Accuracy: 0.971437101910828\n"
          ]
        },
        {
          "name": "stderr",
          "output_type": "stream",
          "text": [
            "100%|██████████| 938/938 [00:19<00:00, 47.98it/s, accuracy=1, loss=0.0368, lr=0.000472]\n"
          ]
        },
        {
          "name": "stdout",
          "output_type": "stream",
          "text": [
            "Epoch 6, Val Loss: 0.09801451785928884, Val Accuracy: 0.9705414012738853\n"
          ]
        },
        {
          "name": "stderr",
          "output_type": "stream",
          "text": [
            "100%|██████████| 938/938 [00:20<00:00, 45.14it/s, accuracy=0.969, loss=0.0353, lr=0.000425]\n"
          ]
        },
        {
          "name": "stdout",
          "output_type": "stream",
          "text": [
            "Epoch 7, Val Loss: 0.08322103852465464, Val Accuracy: 0.9756170382165605\n"
          ]
        },
        {
          "name": "stderr",
          "output_type": "stream",
          "text": [
            "100%|██████████| 938/938 [00:19<00:00, 48.75it/s, accuracy=0.969, loss=0.0941, lr=0.000383]\n"
          ]
        },
        {
          "name": "stdout",
          "output_type": "stream",
          "text": [
            "Epoch 8, Val Loss: 0.08180193119359078, Val Accuracy: 0.9763136942675159\n"
          ]
        },
        {
          "name": "stderr",
          "output_type": "stream",
          "text": [
            "100%|██████████| 938/938 [00:20<00:00, 46.31it/s, accuracy=0.969, loss=0.108, lr=0.000344]\n"
          ]
        },
        {
          "name": "stdout",
          "output_type": "stream",
          "text": [
            "Epoch 9, Val Loss: 0.08264643399661799, Val Accuracy: 0.9748208598726115\n"
          ]
        },
        {
          "name": "stderr",
          "output_type": "stream",
          "text": [
            "100%|██████████| 938/938 [00:19<00:00, 48.75it/s, accuracy=1, loss=0.0289, lr=0.00031]\n"
          ]
        },
        {
          "name": "stdout",
          "output_type": "stream",
          "text": [
            "Epoch 10, Val Loss: 0.07418640601006782, Val Accuracy: 0.9772093949044586\n"
          ]
        },
        {
          "name": "stderr",
          "output_type": "stream",
          "text": [
            "100%|██████████| 938/938 [00:20<00:00, 46.51it/s, accuracy=1, loss=0.0351, lr=0.000279]\n"
          ]
        },
        {
          "name": "stdout",
          "output_type": "stream",
          "text": [
            "Epoch 11, Val Loss: 0.07410174816221023, Val Accuracy: 0.9775079617834395\n"
          ]
        },
        {
          "name": "stderr",
          "output_type": "stream",
          "text": [
            "100%|██████████| 938/938 [00:19<00:00, 47.33it/s, accuracy=0.969, loss=0.0766, lr=0.000251]\n"
          ]
        },
        {
          "name": "stdout",
          "output_type": "stream",
          "text": [
            "Epoch 12, Val Loss: 0.0716833457881644, Val Accuracy: 0.9785031847133758\n"
          ]
        },
        {
          "name": "stderr",
          "output_type": "stream",
          "text": [
            "100%|██████████| 938/938 [00:19<00:00, 46.95it/s, accuracy=1, loss=0.0174, lr=0.000226]\n"
          ]
        },
        {
          "name": "stdout",
          "output_type": "stream",
          "text": [
            "Epoch 13, Val Loss: 0.07509689921124654, Val Accuracy: 0.9777070063694268\n"
          ]
        },
        {
          "name": "stderr",
          "output_type": "stream",
          "text": [
            "100%|██████████| 938/938 [00:19<00:00, 47.80it/s, accuracy=1, loss=0.0171, lr=0.000203]\n"
          ]
        },
        {
          "name": "stdout",
          "output_type": "stream",
          "text": [
            "Epoch 14, Val Loss: 0.07032853417479652, Val Accuracy: 0.9775079617834395\n"
          ]
        },
        {
          "name": "stderr",
          "output_type": "stream",
          "text": [
            "100%|██████████| 938/938 [00:19<00:00, 47.08it/s, accuracy=0.969, loss=0.0454, lr=0.000183]\n"
          ]
        },
        {
          "name": "stdout",
          "output_type": "stream",
          "text": [
            "Epoch 15, Val Loss: 0.06981020535833267, Val Accuracy: 0.9780055732484076\n"
          ]
        },
        {
          "name": "stderr",
          "output_type": "stream",
          "text": [
            "100%|██████████| 938/938 [00:20<00:00, 45.96it/s, accuracy=1, loss=0.031, lr=0.000165]\n"
          ]
        },
        {
          "name": "stdout",
          "output_type": "stream",
          "text": [
            "Epoch 16, Val Loss: 0.06898920078707005, Val Accuracy: 0.9780055732484076\n"
          ]
        },
        {
          "name": "stderr",
          "output_type": "stream",
          "text": [
            "100%|██████████| 938/938 [00:19<00:00, 47.68it/s, accuracy=1, loss=0.0188, lr=0.000148]\n"
          ]
        },
        {
          "name": "stdout",
          "output_type": "stream",
          "text": [
            "Epoch 17, Val Loss: 0.06652141262548768, Val Accuracy: 0.9790007961783439\n"
          ]
        },
        {
          "name": "stderr",
          "output_type": "stream",
          "text": [
            "100%|██████████| 938/938 [00:20<00:00, 46.06it/s, accuracy=1, loss=0.00258, lr=0.000133]\n"
          ]
        },
        {
          "name": "stdout",
          "output_type": "stream",
          "text": [
            "Epoch 18, Val Loss: 0.06680327200235882, Val Accuracy: 0.9792993630573248\n"
          ]
        },
        {
          "name": "stderr",
          "output_type": "stream",
          "text": [
            "100%|██████████| 938/938 [00:19<00:00, 47.43it/s, accuracy=1, loss=0.0333, lr=0.00012]\n"
          ]
        },
        {
          "name": "stdout",
          "output_type": "stream",
          "text": [
            "Epoch 19, Val Loss: 0.06938478037059473, Val Accuracy: 0.9784036624203821\n"
          ]
        },
        {
          "name": "stderr",
          "output_type": "stream",
          "text": [
            "100%|██████████| 938/938 [00:20<00:00, 46.01it/s, accuracy=0.969, loss=0.122, lr=0.000108]\n"
          ]
        },
        {
          "name": "stdout",
          "output_type": "stream",
          "text": [
            "Epoch 20, Val Loss: 0.0650257021151661, Val Accuracy: 0.9796974522292994\n"
          ]
        },
        {
          "name": "stderr",
          "output_type": "stream",
          "text": [
            "100%|██████████| 938/938 [00:19<00:00, 46.98it/s, accuracy=1, loss=0.0201, lr=9.73e-5]\n"
          ]
        },
        {
          "name": "stdout",
          "output_type": "stream",
          "text": [
            "Epoch 21, Val Loss: 0.06383138300426851, Val Accuracy: 0.9796974522292994\n"
          ]
        },
        {
          "name": "stderr",
          "output_type": "stream",
          "text": [
            "100%|██████████| 938/938 [00:20<00:00, 44.75it/s, accuracy=1, loss=0.0238, lr=8.75e-5]\n"
          ]
        },
        {
          "name": "stdout",
          "output_type": "stream",
          "text": [
            "Epoch 22, Val Loss: 0.06450054481526196, Val Accuracy: 0.9804936305732485\n"
          ]
        },
        {
          "name": "stderr",
          "output_type": "stream",
          "text": [
            "100%|██████████| 938/938 [00:20<00:00, 46.55it/s, accuracy=0.969, loss=0.0456, lr=7.88e-5]\n"
          ]
        },
        {
          "name": "stdout",
          "output_type": "stream",
          "text": [
            "Epoch 23, Val Loss: 0.06329490456679705, Val Accuracy: 0.9809912420382165\n"
          ]
        },
        {
          "name": "stderr",
          "output_type": "stream",
          "text": [
            "100%|██████████| 938/938 [00:21<00:00, 44.24it/s, accuracy=0.938, loss=0.0713, lr=7.09e-5]\n"
          ]
        },
        {
          "name": "stdout",
          "output_type": "stream",
          "text": [
            "Epoch 24, Val Loss: 0.06320233482817057, Val Accuracy: 0.9812898089171974\n"
          ]
        },
        {
          "name": "stderr",
          "output_type": "stream",
          "text": [
            "100%|██████████| 938/938 [00:20<00:00, 46.71it/s, accuracy=1, loss=0.00344, lr=6.38e-5]\n"
          ]
        },
        {
          "name": "stdout",
          "output_type": "stream",
          "text": [
            "Epoch 25, Val Loss: 0.06227453515359206, Val Accuracy: 0.9812898089171974\n"
          ]
        },
        {
          "name": "stderr",
          "output_type": "stream",
          "text": [
            "100%|██████████| 938/938 [00:21<00:00, 43.86it/s, accuracy=1, loss=0.0147, lr=5.74e-5]\n"
          ]
        },
        {
          "name": "stdout",
          "output_type": "stream",
          "text": [
            "Epoch 26, Val Loss: 0.06243639430854244, Val Accuracy: 0.9815883757961783\n"
          ]
        },
        {
          "name": "stderr",
          "output_type": "stream",
          "text": [
            "100%|██████████| 938/938 [00:19<00:00, 47.05it/s, accuracy=1, loss=0.0322, lr=5.17e-5]\n"
          ]
        },
        {
          "name": "stdout",
          "output_type": "stream",
          "text": [
            "Epoch 27, Val Loss: 0.06323483154833151, Val Accuracy: 0.9798964968152867\n"
          ]
        },
        {
          "name": "stderr",
          "output_type": "stream",
          "text": [
            "100%|██████████| 938/938 [00:21<00:00, 44.65it/s, accuracy=1, loss=0.00962, lr=4.65e-5]\n"
          ]
        },
        {
          "name": "stdout",
          "output_type": "stream",
          "text": [
            "Epoch 28, Val Loss: 0.061668153142980686, Val Accuracy: 0.9810907643312102\n"
          ]
        },
        {
          "name": "stderr",
          "output_type": "stream",
          "text": [
            "100%|██████████| 938/938 [00:20<00:00, 46.64it/s, accuracy=1, loss=0.0209, lr=4.19e-5]\n"
          ]
        },
        {
          "name": "stdout",
          "output_type": "stream",
          "text": [
            "Epoch 29, Val Loss: 0.061266924345429845, Val Accuracy: 0.9811902866242038\n"
          ]
        },
        {
          "name": "stderr",
          "output_type": "stream",
          "text": [
            "100%|██████████| 938/938 [00:21<00:00, 44.58it/s, accuracy=1, loss=0.00642, lr=3.77e-5]\n"
          ]
        },
        {
          "name": "stdout",
          "output_type": "stream",
          "text": [
            "Epoch 30, Val Loss: 0.06143479154869368, Val Accuracy: 0.9811902866242038\n"
          ]
        },
        {
          "name": "stderr",
          "output_type": "stream",
          "text": [
            "100%|██████████| 938/938 [00:19<00:00, 47.15it/s, accuracy=0.906, loss=0.269, lr=0.0008]\n"
          ]
        },
        {
          "name": "stdout",
          "output_type": "stream",
          "text": [
            "Epoch 1, Val Loss: 0.21585873109258855, Val Accuracy: 0.9388933121019108\n"
          ]
        },
        {
          "name": "stderr",
          "output_type": "stream",
          "text": [
            "100%|██████████| 938/938 [00:20<00:00, 45.27it/s, accuracy=0.938, loss=0.191, lr=0.00072]\n"
          ]
        },
        {
          "name": "stdout",
          "output_type": "stream",
          "text": [
            "Epoch 2, Val Loss: 0.15238255911631285, Val Accuracy: 0.9573049363057324\n"
          ]
        },
        {
          "name": "stderr",
          "output_type": "stream",
          "text": [
            "100%|██████████| 938/938 [00:19<00:00, 47.17it/s, accuracy=0.938, loss=0.268, lr=0.000648]\n"
          ]
        },
        {
          "name": "stdout",
          "output_type": "stream",
          "text": [
            "Epoch 3, Val Loss: 0.1338095590116302, Val Accuracy: 0.9602906050955414\n"
          ]
        },
        {
          "name": "stderr",
          "output_type": "stream",
          "text": [
            "100%|██████████| 938/938 [00:20<00:00, 46.20it/s, accuracy=0.969, loss=0.165, lr=0.000583]\n"
          ]
        },
        {
          "name": "stdout",
          "output_type": "stream",
          "text": [
            "Epoch 4, Val Loss: 0.12850764707015577, Val Accuracy: 0.9655652866242038\n"
          ]
        },
        {
          "name": "stderr",
          "output_type": "stream",
          "text": [
            "100%|██████████| 938/938 [00:19<00:00, 47.25it/s, accuracy=0.969, loss=0.179, lr=0.000525]\n"
          ]
        },
        {
          "name": "stdout",
          "output_type": "stream",
          "text": [
            "Epoch 5, Val Loss: 0.1090226730029247, Val Accuracy: 0.9692476114649682\n"
          ]
        },
        {
          "name": "stderr",
          "output_type": "stream",
          "text": [
            "100%|██████████| 938/938 [00:20<00:00, 46.53it/s, accuracy=1, loss=0.0657, lr=0.000472]\n"
          ]
        },
        {
          "name": "stdout",
          "output_type": "stream",
          "text": [
            "Epoch 6, Val Loss: 0.1097710625206233, Val Accuracy: 0.9671576433121019\n"
          ]
        },
        {
          "name": "stderr",
          "output_type": "stream",
          "text": [
            "100%|██████████| 938/938 [00:19<00:00, 47.12it/s, accuracy=0.969, loss=0.0501, lr=0.000425]\n"
          ]
        },
        {
          "name": "stdout",
          "output_type": "stream",
          "text": [
            "Epoch 7, Val Loss: 0.09985768265583238, Val Accuracy: 0.9712380573248408\n"
          ]
        },
        {
          "name": "stderr",
          "output_type": "stream",
          "text": [
            "100%|██████████| 938/938 [00:19<00:00, 46.92it/s, accuracy=0.969, loss=0.133, lr=0.000383]\n"
          ]
        },
        {
          "name": "stdout",
          "output_type": "stream",
          "text": [
            "Epoch 8, Val Loss: 0.09587084330547198, Val Accuracy: 0.9730294585987261\n"
          ]
        },
        {
          "name": "stderr",
          "output_type": "stream",
          "text": [
            "100%|██████████| 938/938 [00:20<00:00, 46.80it/s, accuracy=0.969, loss=0.114, lr=0.000344]\n"
          ]
        },
        {
          "name": "stdout",
          "output_type": "stream",
          "text": [
            "Epoch 9, Val Loss: 0.09702010223327596, Val Accuracy: 0.9726313694267515\n"
          ]
        },
        {
          "name": "stderr",
          "output_type": "stream",
          "text": [
            "100%|██████████| 938/938 [00:20<00:00, 46.83it/s, accuracy=1, loss=0.0457, lr=0.00031]\n"
          ]
        },
        {
          "name": "stdout",
          "output_type": "stream",
          "text": [
            "Epoch 10, Val Loss: 0.08838996764681759, Val Accuracy: 0.9748208598726115\n"
          ]
        },
        {
          "name": "stderr",
          "output_type": "stream",
          "text": [
            "100%|██████████| 938/938 [00:20<00:00, 46.68it/s, accuracy=0.969, loss=0.0782, lr=0.000279]\n"
          ]
        },
        {
          "name": "stdout",
          "output_type": "stream",
          "text": [
            "Epoch 11, Val Loss: 0.08973761983393769, Val Accuracy: 0.9742237261146497\n"
          ]
        },
        {
          "name": "stderr",
          "output_type": "stream",
          "text": [
            "100%|██████████| 938/938 [00:19<00:00, 46.96it/s, accuracy=0.969, loss=0.107, lr=0.000251]\n"
          ]
        },
        {
          "name": "stdout",
          "output_type": "stream",
          "text": [
            "Epoch 12, Val Loss: 0.08633641836642744, Val Accuracy: 0.9762141719745223\n"
          ]
        },
        {
          "name": "stderr",
          "output_type": "stream",
          "text": [
            "100%|██████████| 938/938 [00:20<00:00, 45.33it/s, accuracy=1, loss=0.0398, lr=0.000226]\n"
          ]
        },
        {
          "name": "stdout",
          "output_type": "stream",
          "text": [
            "Epoch 13, Val Loss: 0.08681964037263659, Val Accuracy: 0.9762141719745223\n"
          ]
        },
        {
          "name": "stderr",
          "output_type": "stream",
          "text": [
            "100%|██████████| 938/938 [00:19<00:00, 47.27it/s, accuracy=1, loss=0.0244, lr=0.000203]\n"
          ]
        },
        {
          "name": "stdout",
          "output_type": "stream",
          "text": [
            "Epoch 14, Val Loss: 0.08451951702961781, Val Accuracy: 0.9763136942675159\n"
          ]
        },
        {
          "name": "stderr",
          "output_type": "stream",
          "text": [
            "100%|██████████| 938/938 [00:20<00:00, 45.12it/s, accuracy=0.969, loss=0.0904, lr=0.000183]\n"
          ]
        },
        {
          "name": "stdout",
          "output_type": "stream",
          "text": [
            "Epoch 15, Val Loss: 0.08487198100229547, Val Accuracy: 0.9757165605095541\n"
          ]
        },
        {
          "name": "stderr",
          "output_type": "stream",
          "text": [
            "100%|██████████| 938/938 [00:19<00:00, 47.56it/s, accuracy=1, loss=0.0562, lr=0.000165]\n"
          ]
        },
        {
          "name": "stdout",
          "output_type": "stream",
          "text": [
            "Epoch 16, Val Loss: 0.08187001748722356, Val Accuracy: 0.9767117834394905\n"
          ]
        },
        {
          "name": "stderr",
          "output_type": "stream",
          "text": [
            "100%|██████████| 938/938 [00:21<00:00, 44.19it/s, accuracy=1, loss=0.0372, lr=0.000148]\n"
          ]
        },
        {
          "name": "stdout",
          "output_type": "stream",
          "text": [
            "Epoch 17, Val Loss: 0.08003074455869853, Val Accuracy: 0.9772093949044586\n"
          ]
        },
        {
          "name": "stderr",
          "output_type": "stream",
          "text": [
            "100%|██████████| 938/938 [00:19<00:00, 47.44it/s, accuracy=1, loss=0.00963, lr=0.000133]\n"
          ]
        },
        {
          "name": "stdout",
          "output_type": "stream",
          "text": [
            "Epoch 18, Val Loss: 0.08027001420053755, Val Accuracy: 0.9772093949044586\n"
          ]
        },
        {
          "name": "stderr",
          "output_type": "stream",
          "text": [
            "100%|██████████| 938/938 [00:20<00:00, 46.31it/s, accuracy=0.969, loss=0.0662, lr=0.00012]\n"
          ]
        },
        {
          "name": "stdout",
          "output_type": "stream",
          "text": [
            "Epoch 19, Val Loss: 0.08214189432662242, Val Accuracy: 0.9766122611464968\n"
          ]
        },
        {
          "name": "stderr",
          "output_type": "stream",
          "text": [
            "100%|██████████| 938/938 [00:20<00:00, 46.34it/s, accuracy=0.969, loss=0.135, lr=0.000108]\n"
          ]
        },
        {
          "name": "stdout",
          "output_type": "stream",
          "text": [
            "Epoch 20, Val Loss: 0.078373352985141, Val Accuracy: 0.9776074840764332\n"
          ]
        },
        {
          "name": "stderr",
          "output_type": "stream",
          "text": [
            "100%|██████████| 938/938 [00:21<00:00, 43.47it/s, accuracy=1, loss=0.0328, lr=9.73e-5]\n"
          ]
        },
        {
          "name": "stdout",
          "output_type": "stream",
          "text": [
            "Epoch 21, Val Loss: 0.07796085079253953, Val Accuracy: 0.9790007961783439\n"
          ]
        },
        {
          "name": "stderr",
          "output_type": "stream",
          "text": [
            "100%|██████████| 938/938 [00:21<00:00, 44.36it/s, accuracy=0.969, loss=0.0569, lr=8.75e-5]\n"
          ]
        },
        {
          "name": "stdout",
          "output_type": "stream",
          "text": [
            "Epoch 22, Val Loss: 0.07900185396177041, Val Accuracy: 0.9782046178343949\n"
          ]
        },
        {
          "name": "stderr",
          "output_type": "stream",
          "text": [
            "100%|██████████| 938/938 [00:21<00:00, 43.05it/s, accuracy=0.969, loss=0.0803, lr=7.88e-5]\n"
          ]
        },
        {
          "name": "stdout",
          "output_type": "stream",
          "text": [
            "Epoch 23, Val Loss: 0.07734802060621156, Val Accuracy: 0.9783041401273885\n"
          ]
        },
        {
          "name": "stderr",
          "output_type": "stream",
          "text": [
            "100%|██████████| 938/938 [00:19<00:00, 49.03it/s, accuracy=0.938, loss=0.107, lr=7.09e-5]\n"
          ]
        },
        {
          "name": "stdout",
          "output_type": "stream",
          "text": [
            "Epoch 24, Val Loss: 0.07752358366047168, Val Accuracy: 0.9781050955414012\n"
          ]
        },
        {
          "name": "stderr",
          "output_type": "stream",
          "text": [
            "100%|██████████| 938/938 [00:19<00:00, 49.32it/s, accuracy=1, loss=0.0113, lr=6.38e-5]\n"
          ]
        },
        {
          "name": "stdout",
          "output_type": "stream",
          "text": [
            "Epoch 25, Val Loss: 0.07627438629864697, Val Accuracy: 0.9781050955414012\n"
          ]
        },
        {
          "name": "stderr",
          "output_type": "stream",
          "text": [
            "100%|██████████| 938/938 [00:19<00:00, 48.70it/s, accuracy=1, loss=0.0335, lr=5.74e-5]\n"
          ]
        },
        {
          "name": "stdout",
          "output_type": "stream",
          "text": [
            "Epoch 26, Val Loss: 0.07604428379689669, Val Accuracy: 0.9791003184713376\n"
          ]
        },
        {
          "name": "stderr",
          "output_type": "stream",
          "text": [
            "100%|██████████| 938/938 [00:18<00:00, 49.94it/s, accuracy=1, loss=0.0555, lr=5.17e-5]\n"
          ]
        },
        {
          "name": "stdout",
          "output_type": "stream",
          "text": [
            "Epoch 27, Val Loss: 0.07718204966135275, Val Accuracy: 0.9783041401273885\n"
          ]
        },
        {
          "name": "stderr",
          "output_type": "stream",
          "text": [
            "100%|██████████| 938/938 [00:19<00:00, 47.57it/s, accuracy=1, loss=0.0176, lr=4.65e-5]\n"
          ]
        },
        {
          "name": "stdout",
          "output_type": "stream",
          "text": [
            "Epoch 28, Val Loss: 0.07515734102826115, Val Accuracy: 0.978702229299363\n"
          ]
        },
        {
          "name": "stderr",
          "output_type": "stream",
          "text": [
            "100%|██████████| 938/938 [00:18<00:00, 50.00it/s, accuracy=1, loss=0.0366, lr=4.19e-5]\n"
          ]
        },
        {
          "name": "stdout",
          "output_type": "stream",
          "text": [
            "Epoch 29, Val Loss: 0.07470263706469778, Val Accuracy: 0.9789012738853503\n"
          ]
        },
        {
          "name": "stderr",
          "output_type": "stream",
          "text": [
            "100%|██████████| 938/938 [00:19<00:00, 47.99it/s, accuracy=1, loss=0.0131, lr=3.77e-5]\n"
          ]
        },
        {
          "name": "stdout",
          "output_type": "stream",
          "text": [
            "Epoch 30, Val Loss: 0.07522247235326299, Val Accuracy: 0.9783041401273885\n"
          ]
        },
        {
          "name": "stderr",
          "output_type": "stream",
          "text": [
            "100%|██████████| 938/938 [00:18<00:00, 49.86it/s, accuracy=0.906, loss=0.295, lr=0.0008]\n"
          ]
        },
        {
          "name": "stdout",
          "output_type": "stream",
          "text": [
            "Epoch 1, Val Loss: 0.22803866531059241, Val Accuracy: 0.9370023885350318\n"
          ]
        },
        {
          "name": "stderr",
          "output_type": "stream",
          "text": [
            "100%|██████████| 938/938 [00:19<00:00, 48.99it/s, accuracy=0.938, loss=0.216, lr=0.00072]\n"
          ]
        },
        {
          "name": "stdout",
          "output_type": "stream",
          "text": [
            "Epoch 2, Val Loss: 0.16604393527243927, Val Accuracy: 0.9536226114649682\n"
          ]
        },
        {
          "name": "stderr",
          "output_type": "stream",
          "text": [
            "100%|██████████| 938/938 [00:18<00:00, 49.60it/s, accuracy=0.938, loss=0.264, lr=0.000648]\n"
          ]
        },
        {
          "name": "stdout",
          "output_type": "stream",
          "text": [
            "Epoch 3, Val Loss: 0.14970770186394644, Val Accuracy: 0.9572054140127388\n"
          ]
        },
        {
          "name": "stderr",
          "output_type": "stream",
          "text": [
            "100%|██████████| 938/938 [00:18<00:00, 49.89it/s, accuracy=0.938, loss=0.165, lr=0.000583]\n"
          ]
        },
        {
          "name": "stdout",
          "output_type": "stream",
          "text": [
            "Epoch 4, Val Loss: 0.13788118547386236, Val Accuracy: 0.964171974522293\n"
          ]
        },
        {
          "name": "stderr",
          "output_type": "stream",
          "text": [
            "100%|██████████| 938/938 [00:20<00:00, 46.84it/s, accuracy=0.938, loss=0.218, lr=0.000525]\n"
          ]
        },
        {
          "name": "stdout",
          "output_type": "stream",
          "text": [
            "Epoch 5, Val Loss: 0.12723676935075576, Val Accuracy: 0.9648686305732485\n"
          ]
        },
        {
          "name": "stderr",
          "output_type": "stream",
          "text": [
            "100%|██████████| 938/938 [00:18<00:00, 49.62it/s, accuracy=1, loss=0.0788, lr=0.000472]\n"
          ]
        },
        {
          "name": "stdout",
          "output_type": "stream",
          "text": [
            "Epoch 6, Val Loss: 0.12604301790914432, Val Accuracy: 0.9646695859872612\n"
          ]
        },
        {
          "name": "stderr",
          "output_type": "stream",
          "text": [
            "100%|██████████| 938/938 [00:19<00:00, 47.00it/s, accuracy=0.969, loss=0.0645, lr=0.000425]\n"
          ]
        },
        {
          "name": "stdout",
          "output_type": "stream",
          "text": [
            "Epoch 7, Val Loss: 0.11872985157344466, Val Accuracy: 0.9677547770700637\n"
          ]
        },
        {
          "name": "stderr",
          "output_type": "stream",
          "text": [
            "100%|██████████| 938/938 [00:18<00:00, 49.37it/s, accuracy=0.938, loss=0.175, lr=0.000383]\n"
          ]
        },
        {
          "name": "stdout",
          "output_type": "stream",
          "text": [
            "Epoch 8, Val Loss: 0.11468951219609778, Val Accuracy: 0.9704418789808917\n"
          ]
        },
        {
          "name": "stderr",
          "output_type": "stream",
          "text": [
            "100%|██████████| 938/938 [00:19<00:00, 48.28it/s, accuracy=0.969, loss=0.136, lr=0.000344]\n"
          ]
        },
        {
          "name": "stdout",
          "output_type": "stream",
          "text": [
            "Epoch 9, Val Loss: 0.11349392061531069, Val Accuracy: 0.9690485668789809\n"
          ]
        },
        {
          "name": "stderr",
          "output_type": "stream",
          "text": [
            "100%|██████████| 938/938 [00:18<00:00, 49.65it/s, accuracy=0.969, loss=0.0828, lr=0.00031]\n"
          ]
        },
        {
          "name": "stdout",
          "output_type": "stream",
          "text": [
            "Epoch 10, Val Loss: 0.1060197119553615, Val Accuracy: 0.9705414012738853\n"
          ]
        },
        {
          "name": "stderr",
          "output_type": "stream",
          "text": [
            "100%|██████████| 938/938 [00:19<00:00, 49.02it/s, accuracy=0.969, loss=0.0954, lr=0.000279]\n"
          ]
        },
        {
          "name": "stdout",
          "output_type": "stream",
          "text": [
            "Epoch 11, Val Loss: 0.10683682298726717, Val Accuracy: 0.9703423566878981\n"
          ]
        },
        {
          "name": "stderr",
          "output_type": "stream",
          "text": [
            "100%|██████████| 938/938 [00:19<00:00, 47.52it/s, accuracy=0.969, loss=0.134, lr=0.000251]\n"
          ]
        },
        {
          "name": "stdout",
          "output_type": "stream",
          "text": [
            "Epoch 12, Val Loss: 0.10222358430978978, Val Accuracy: 0.9735270700636943\n"
          ]
        },
        {
          "name": "stderr",
          "output_type": "stream",
          "text": [
            "100%|██████████| 938/938 [00:19<00:00, 49.12it/s, accuracy=0.969, loss=0.072, lr=0.000226]\n"
          ]
        },
        {
          "name": "stdout",
          "output_type": "stream",
          "text": [
            "Epoch 13, Val Loss: 0.10249984248654004, Val Accuracy: 0.9739251592356688\n"
          ]
        },
        {
          "name": "stderr",
          "output_type": "stream",
          "text": [
            "100%|██████████| 938/938 [00:19<00:00, 48.22it/s, accuracy=1, loss=0.0314, lr=0.000203]\n"
          ]
        },
        {
          "name": "stdout",
          "output_type": "stream",
          "text": [
            "Epoch 14, Val Loss: 0.10021949906323319, Val Accuracy: 0.972531847133758\n"
          ]
        },
        {
          "name": "stderr",
          "output_type": "stream",
          "text": [
            "100%|██████████| 938/938 [00:18<00:00, 49.90it/s, accuracy=0.969, loss=0.118, lr=0.000183]\n"
          ]
        },
        {
          "name": "stdout",
          "output_type": "stream",
          "text": [
            "Epoch 15, Val Loss: 0.10077832593541046, Val Accuracy: 0.9734275477707006\n"
          ]
        },
        {
          "name": "stderr",
          "output_type": "stream",
          "text": [
            "100%|██████████| 938/938 [00:19<00:00, 46.99it/s, accuracy=1, loss=0.0861, lr=0.000165]\n"
          ]
        },
        {
          "name": "stdout",
          "output_type": "stream",
          "text": [
            "Epoch 16, Val Loss: 0.09755686735200464, Val Accuracy: 0.9741242038216561\n"
          ]
        },
        {
          "name": "stderr",
          "output_type": "stream",
          "text": [
            "100%|██████████| 938/938 [00:18<00:00, 49.93it/s, accuracy=1, loss=0.0513, lr=0.000148]\n"
          ]
        },
        {
          "name": "stdout",
          "output_type": "stream",
          "text": [
            "Epoch 17, Val Loss: 0.09625497814208554, Val Accuracy: 0.9750199044585988\n"
          ]
        },
        {
          "name": "stderr",
          "output_type": "stream",
          "text": [
            "100%|██████████| 938/938 [00:19<00:00, 48.58it/s, accuracy=1, loss=0.0186, lr=0.000133]\n"
          ]
        },
        {
          "name": "stdout",
          "output_type": "stream",
          "text": [
            "Epoch 18, Val Loss: 0.09672467957790586, Val Accuracy: 0.9749203821656051\n"
          ]
        },
        {
          "name": "stderr",
          "output_type": "stream",
          "text": [
            "100%|██████████| 938/938 [00:18<00:00, 49.69it/s, accuracy=0.969, loss=0.0827, lr=0.00012]\n"
          ]
        },
        {
          "name": "stdout",
          "output_type": "stream",
          "text": [
            "Epoch 19, Val Loss: 0.09946826552812034, Val Accuracy: 0.9730294585987261\n"
          ]
        },
        {
          "name": "stderr",
          "output_type": "stream",
          "text": [
            "100%|██████████| 938/938 [00:19<00:00, 49.19it/s, accuracy=0.969, loss=0.156, lr=0.000108]\n"
          ]
        },
        {
          "name": "stdout",
          "output_type": "stream",
          "text": [
            "Epoch 20, Val Loss: 0.09526206742954339, Val Accuracy: 0.9749203821656051\n"
          ]
        },
        {
          "name": "stderr",
          "output_type": "stream",
          "text": [
            "100%|██████████| 938/938 [00:18<00:00, 50.00it/s, accuracy=1, loss=0.0498, lr=9.73e-5]\n"
          ]
        },
        {
          "name": "stdout",
          "output_type": "stream",
          "text": [
            "Epoch 21, Val Loss: 0.09405455404928156, Val Accuracy: 0.9764132165605095\n"
          ]
        },
        {
          "name": "stderr",
          "output_type": "stream",
          "text": [
            "100%|██████████| 938/938 [00:18<00:00, 49.93it/s, accuracy=0.969, loss=0.0809, lr=8.75e-5]\n"
          ]
        },
        {
          "name": "stdout",
          "output_type": "stream",
          "text": [
            "Epoch 22, Val Loss: 0.09529913218163998, Val Accuracy: 0.9757165605095541\n"
          ]
        },
        {
          "name": "stderr",
          "output_type": "stream",
          "text": [
            "100%|██████████| 938/938 [00:19<00:00, 48.07it/s, accuracy=0.969, loss=0.1, lr=7.88e-5]\n"
          ]
        },
        {
          "name": "stdout",
          "output_type": "stream",
          "text": [
            "Epoch 23, Val Loss: 0.09427994388677655, Val Accuracy: 0.9753184713375797\n"
          ]
        },
        {
          "name": "stderr",
          "output_type": "stream",
          "text": [
            "100%|██████████| 938/938 [00:19<00:00, 49.24it/s, accuracy=0.938, loss=0.13, lr=7.09e-5]\n"
          ]
        },
        {
          "name": "stdout",
          "output_type": "stream",
          "text": [
            "Epoch 24, Val Loss: 0.09397569014453537, Val Accuracy: 0.9756170382165605\n"
          ]
        },
        {
          "name": "stderr",
          "output_type": "stream",
          "text": [
            "100%|██████████| 938/938 [00:20<00:00, 46.27it/s, accuracy=1, loss=0.0182, lr=6.38e-5]\n"
          ]
        },
        {
          "name": "stdout",
          "output_type": "stream",
          "text": [
            "Epoch 25, Val Loss: 0.09273996725263205, Val Accuracy: 0.9759156050955414\n"
          ]
        },
        {
          "name": "stderr",
          "output_type": "stream",
          "text": [
            "100%|██████████| 938/938 [00:18<00:00, 49.50it/s, accuracy=1, loss=0.0461, lr=5.74e-5]\n"
          ]
        },
        {
          "name": "stdout",
          "output_type": "stream",
          "text": [
            "Epoch 26, Val Loss: 0.09292279625056418, Val Accuracy: 0.9766122611464968\n"
          ]
        },
        {
          "name": "stderr",
          "output_type": "stream",
          "text": [
            "100%|██████████| 938/938 [00:19<00:00, 47.69it/s, accuracy=1, loss=0.0883, lr=5.17e-5]\n"
          ]
        },
        {
          "name": "stdout",
          "output_type": "stream",
          "text": [
            "Epoch 27, Val Loss: 0.09413493071403947, Val Accuracy: 0.975218949044586\n"
          ]
        },
        {
          "name": "stderr",
          "output_type": "stream",
          "text": [
            "100%|██████████| 938/938 [00:18<00:00, 50.08it/s, accuracy=1, loss=0.0268, lr=4.65e-5]\n"
          ]
        },
        {
          "name": "stdout",
          "output_type": "stream",
          "text": [
            "Epoch 28, Val Loss: 0.09156838667602724, Val Accuracy: 0.9761146496815286\n"
          ]
        },
        {
          "name": "stderr",
          "output_type": "stream",
          "text": [
            "100%|██████████| 938/938 [00:18<00:00, 49.99it/s, accuracy=1, loss=0.0561, lr=4.19e-5]\n"
          ]
        },
        {
          "name": "stdout",
          "output_type": "stream",
          "text": [
            "Epoch 29, Val Loss: 0.09129536564604254, Val Accuracy: 0.9761146496815286\n"
          ]
        },
        {
          "name": "stderr",
          "output_type": "stream",
          "text": [
            "100%|██████████| 938/938 [00:19<00:00, 48.64it/s, accuracy=1, loss=0.0213, lr=3.77e-5]\n"
          ]
        },
        {
          "name": "stdout",
          "output_type": "stream",
          "text": [
            "Epoch 30, Val Loss: 0.09168770294161929, Val Accuracy: 0.9761146496815286\n"
          ]
        },
        {
          "name": "stderr",
          "output_type": "stream",
          "text": [
            "100%|██████████| 938/938 [00:18<00:00, 50.11it/s, accuracy=0.906, loss=0.305, lr=0.0008]\n"
          ]
        },
        {
          "name": "stdout",
          "output_type": "stream",
          "text": [
            "Epoch 1, Val Loss: 0.2403198181396457, Val Accuracy: 0.9323248407643312\n"
          ]
        },
        {
          "name": "stderr",
          "output_type": "stream",
          "text": [
            "100%|██████████| 938/938 [00:20<00:00, 46.08it/s, accuracy=0.969, loss=0.234, lr=0.00072]\n"
          ]
        },
        {
          "name": "stdout",
          "output_type": "stream",
          "text": [
            "Epoch 2, Val Loss: 0.1812982994137676, Val Accuracy: 0.9498407643312102\n"
          ]
        },
        {
          "name": "stderr",
          "output_type": "stream",
          "text": [
            "100%|██████████| 938/938 [00:18<00:00, 49.81it/s, accuracy=0.969, loss=0.265, lr=0.000648]\n"
          ]
        },
        {
          "name": "stdout",
          "output_type": "stream",
          "text": [
            "Epoch 3, Val Loss: 0.1658424759271798, Val Accuracy: 0.9536226114649682\n"
          ]
        },
        {
          "name": "stderr",
          "output_type": "stream",
          "text": [
            "100%|██████████| 938/938 [00:19<00:00, 47.80it/s, accuracy=0.938, loss=0.159, lr=0.000583]\n"
          ]
        },
        {
          "name": "stdout",
          "output_type": "stream",
          "text": [
            "Epoch 4, Val Loss: 0.1531009669801232, Val Accuracy: 0.962281050955414\n"
          ]
        },
        {
          "name": "stderr",
          "output_type": "stream",
          "text": [
            "100%|██████████| 938/938 [00:18<00:00, 49.86it/s, accuracy=0.906, loss=0.239, lr=0.000525]\n"
          ]
        },
        {
          "name": "stdout",
          "output_type": "stream",
          "text": [
            "Epoch 5, Val Loss: 0.1472305104100875, Val Accuracy: 0.9615843949044586\n"
          ]
        },
        {
          "name": "stderr",
          "output_type": "stream",
          "text": [
            "100%|██████████| 938/938 [00:18<00:00, 49.54it/s, accuracy=1, loss=0.0832, lr=0.000472]\n"
          ]
        },
        {
          "name": "stdout",
          "output_type": "stream",
          "text": [
            "Epoch 6, Val Loss: 0.1403164771284647, Val Accuracy: 0.9617834394904459\n"
          ]
        },
        {
          "name": "stderr",
          "output_type": "stream",
          "text": [
            "100%|██████████| 938/938 [00:19<00:00, 47.60it/s, accuracy=0.969, loss=0.0756, lr=0.000425]\n"
          ]
        },
        {
          "name": "stdout",
          "output_type": "stream",
          "text": [
            "Epoch 7, Val Loss: 0.1350411760359765, Val Accuracy: 0.9643710191082803\n"
          ]
        },
        {
          "name": "stderr",
          "output_type": "stream",
          "text": [
            "100%|██████████| 938/938 [00:18<00:00, 49.41it/s, accuracy=0.938, loss=0.215, lr=0.000383]\n"
          ]
        },
        {
          "name": "stdout",
          "output_type": "stream",
          "text": [
            "Epoch 8, Val Loss: 0.13315438510624655, Val Accuracy: 0.9670581210191083\n"
          ]
        },
        {
          "name": "stderr",
          "output_type": "stream",
          "text": [
            "100%|██████████| 938/938 [00:20<00:00, 46.16it/s, accuracy=0.969, loss=0.164, lr=0.000344]\n"
          ]
        },
        {
          "name": "stdout",
          "output_type": "stream",
          "text": [
            "Epoch 9, Val Loss: 0.13178909765141214, Val Accuracy: 0.9657643312101911\n"
          ]
        },
        {
          "name": "stderr",
          "output_type": "stream",
          "text": [
            "100%|██████████| 938/938 [00:19<00:00, 49.09it/s, accuracy=0.969, loss=0.12, lr=0.00031]\n"
          ]
        },
        {
          "name": "stdout",
          "output_type": "stream",
          "text": [
            "Epoch 10, Val Loss: 0.12499342795022449, Val Accuracy: 0.9667595541401274\n"
          ]
        },
        {
          "name": "stderr",
          "output_type": "stream",
          "text": [
            "100%|██████████| 938/938 [00:19<00:00, 48.29it/s, accuracy=0.969, loss=0.105, lr=0.000279]\n"
          ]
        },
        {
          "name": "stdout",
          "output_type": "stream",
          "text": [
            "Epoch 11, Val Loss: 0.12394153944863255, Val Accuracy: 0.9674562101910829\n"
          ]
        },
        {
          "name": "stderr",
          "output_type": "stream",
          "text": [
            "100%|██████████| 938/938 [00:18<00:00, 49.54it/s, accuracy=0.969, loss=0.144, lr=0.000251]\n"
          ]
        },
        {
          "name": "stdout",
          "output_type": "stream",
          "text": [
            "Epoch 12, Val Loss: 0.11922753929415611, Val Accuracy: 0.9699442675159236\n"
          ]
        },
        {
          "name": "stderr",
          "output_type": "stream",
          "text": [
            "100%|██████████| 938/938 [00:18<00:00, 49.45it/s, accuracy=0.969, loss=0.0959, lr=0.000226]\n"
          ]
        },
        {
          "name": "stdout",
          "output_type": "stream",
          "text": [
            "Epoch 13, Val Loss: 0.12030135920259413, Val Accuracy: 0.9708399681528662\n"
          ]
        },
        {
          "name": "stderr",
          "output_type": "stream",
          "text": [
            "100%|██████████| 938/938 [00:19<00:00, 47.86it/s, accuracy=1, loss=0.0352, lr=0.000203]\n"
          ]
        },
        {
          "name": "stdout",
          "output_type": "stream",
          "text": [
            "Epoch 14, Val Loss: 0.1159381065517664, Val Accuracy: 0.9710390127388535\n"
          ]
        },
        {
          "name": "stderr",
          "output_type": "stream",
          "text": [
            "100%|██████████| 938/938 [00:18<00:00, 49.44it/s, accuracy=0.938, loss=0.159, lr=0.000183]\n"
          ]
        },
        {
          "name": "stdout",
          "output_type": "stream",
          "text": [
            "Epoch 15, Val Loss: 0.11785469248084127, Val Accuracy: 0.9700437898089171\n"
          ]
        },
        {
          "name": "stderr",
          "output_type": "stream",
          "text": [
            "100%|██████████| 938/938 [00:20<00:00, 46.06it/s, accuracy=0.938, loss=0.103, lr=0.000165]\n"
          ]
        },
        {
          "name": "stdout",
          "output_type": "stream",
          "text": [
            "Epoch 16, Val Loss: 0.11398280281751494, Val Accuracy: 0.9702428343949044\n"
          ]
        },
        {
          "name": "stderr",
          "output_type": "stream",
          "text": [
            "100%|██████████| 938/938 [00:19<00:00, 49.12it/s, accuracy=1, loss=0.0703, lr=0.000148]\n"
          ]
        },
        {
          "name": "stdout",
          "output_type": "stream",
          "text": [
            "Epoch 17, Val Loss: 0.11342649971235805, Val Accuracy: 0.9721337579617835\n"
          ]
        },
        {
          "name": "stderr",
          "output_type": "stream",
          "text": [
            "100%|██████████| 938/938 [00:19<00:00, 47.31it/s, accuracy=1, loss=0.0373, lr=0.000133]\n"
          ]
        },
        {
          "name": "stdout",
          "output_type": "stream",
          "text": [
            "Epoch 18, Val Loss: 0.11334101806815927, Val Accuracy: 0.9696457006369427\n"
          ]
        },
        {
          "name": "stderr",
          "output_type": "stream",
          "text": [
            "100%|██████████| 938/938 [00:19<00:00, 49.22it/s, accuracy=0.938, loss=0.0964, lr=0.00012]\n"
          ]
        },
        {
          "name": "stdout",
          "output_type": "stream",
          "text": [
            "Epoch 19, Val Loss: 0.11595944170454506, Val Accuracy: 0.9700437898089171\n"
          ]
        },
        {
          "name": "stderr",
          "output_type": "stream",
          "text": [
            "100%|██████████| 938/938 [00:19<00:00, 47.89it/s, accuracy=0.969, loss=0.17, lr=0.000108]\n"
          ]
        },
        {
          "name": "stdout",
          "output_type": "stream",
          "text": [
            "Epoch 20, Val Loss: 0.1125205076762303, Val Accuracy: 0.9708399681528662\n"
          ]
        },
        {
          "name": "stderr",
          "output_type": "stream",
          "text": [
            "100%|██████████| 938/938 [00:19<00:00, 48.78it/s, accuracy=1, loss=0.0755, lr=9.73e-5]\n"
          ]
        },
        {
          "name": "stdout",
          "output_type": "stream",
          "text": [
            "Epoch 21, Val Loss: 0.11054956640419401, Val Accuracy: 0.9718351910828026\n"
          ]
        },
        {
          "name": "stderr",
          "output_type": "stream",
          "text": [
            "100%|██████████| 938/938 [00:19<00:00, 48.79it/s, accuracy=0.938, loss=0.104, lr=8.75e-5]\n"
          ]
        },
        {
          "name": "stdout",
          "output_type": "stream",
          "text": [
            "Epoch 22, Val Loss: 0.11197124309778499, Val Accuracy: 0.9726313694267515\n"
          ]
        },
        {
          "name": "stderr",
          "output_type": "stream",
          "text": [
            "100%|██████████| 938/938 [00:19<00:00, 48.17it/s, accuracy=0.969, loss=0.113, lr=7.88e-5]\n"
          ]
        },
        {
          "name": "stdout",
          "output_type": "stream",
          "text": [
            "Epoch 23, Val Loss: 0.11076599721363775, Val Accuracy: 0.9719347133757962\n"
          ]
        },
        {
          "name": "stderr",
          "output_type": "stream",
          "text": [
            "100%|██████████| 938/938 [00:19<00:00, 48.96it/s, accuracy=0.938, loss=0.16, lr=7.09e-5]\n"
          ]
        },
        {
          "name": "stdout",
          "output_type": "stream",
          "text": [
            "Epoch 24, Val Loss: 0.1106211513690176, Val Accuracy: 0.9728304140127388\n"
          ]
        },
        {
          "name": "stderr",
          "output_type": "stream",
          "text": [
            "100%|██████████| 938/938 [00:19<00:00, 47.38it/s, accuracy=1, loss=0.0251, lr=6.38e-5]\n"
          ]
        },
        {
          "name": "stdout",
          "output_type": "stream",
          "text": [
            "Epoch 25, Val Loss: 0.1093102148793353, Val Accuracy: 0.9723328025477707\n"
          ]
        },
        {
          "name": "stderr",
          "output_type": "stream",
          "text": [
            "100%|██████████| 938/938 [00:19<00:00, 48.96it/s, accuracy=1, loss=0.0622, lr=5.74e-5]\n"
          ]
        },
        {
          "name": "stdout",
          "output_type": "stream",
          "text": [
            "Epoch 26, Val Loss: 0.1091899868533917, Val Accuracy: 0.9739251592356688\n"
          ]
        },
        {
          "name": "stderr",
          "output_type": "stream",
          "text": [
            "100%|██████████| 938/938 [00:20<00:00, 45.31it/s, accuracy=0.969, loss=0.112, lr=5.17e-5]\n"
          ]
        },
        {
          "name": "stdout",
          "output_type": "stream",
          "text": [
            "Epoch 27, Val Loss: 0.10990275695303063, Val Accuracy: 0.9732285031847133\n"
          ]
        },
        {
          "name": "stderr",
          "output_type": "stream",
          "text": [
            "100%|██████████| 938/938 [00:19<00:00, 48.98it/s, accuracy=1, loss=0.0352, lr=4.65e-5]\n"
          ]
        },
        {
          "name": "stdout",
          "output_type": "stream",
          "text": [
            "Epoch 28, Val Loss: 0.1076340474704411, Val Accuracy: 0.973328025477707\n"
          ]
        },
        {
          "name": "stderr",
          "output_type": "stream",
          "text": [
            "100%|██████████| 938/938 [00:19<00:00, 47.73it/s, accuracy=1, loss=0.0822, lr=4.19e-5]\n"
          ]
        },
        {
          "name": "stdout",
          "output_type": "stream",
          "text": [
            "Epoch 29, Val Loss: 0.10777284540117356, Val Accuracy: 0.9734275477707006\n"
          ]
        },
        {
          "name": "stderr",
          "output_type": "stream",
          "text": [
            "100%|██████████| 938/938 [00:19<00:00, 49.33it/s, accuracy=1, loss=0.0322, lr=3.77e-5]\n"
          ]
        },
        {
          "name": "stdout",
          "output_type": "stream",
          "text": [
            "Epoch 30, Val Loss: 0.10801566690562447, Val Accuracy: 0.9728304140127388\n"
          ]
        }
      ],
      "source": [
        "epochs = 30\n",
        "wds = [0.01, 0.1, 0.25, 0.5, 0.75, 1.]\n",
        "wd_accs = np.empty((6, epochs))\n",
        "for h, wd in enumerate(wds):\n",
        "    torch.manual_seed(42)\n",
        "    best_acc = 0\n",
        "    # Define model\n",
        "    model = MLP(layers_hidden=[28 * 28, 64, 10])\n",
        "    device = torch.device(\"cuda\" if torch.cuda.is_available() else \"cpu\")\n",
        "    model.to(device)\n",
        "    # Define optimizer\n",
        "    optimizer = optim.AdamW(model.parameters(), lr=8e-4, weight_decay=wd)\n",
        "    # Define learning rate scheduler\n",
        "    scheduler = optim.lr_scheduler.ExponentialLR(optimizer, gamma=0.9)\n",
        "\n",
        "    # Define loss\n",
        "    criterion = nn.CrossEntropyLoss()\n",
        "    for epoch in range(epochs):\n",
        "        # Train\n",
        "        model.train()\n",
        "        with tqdm(train_loader) as pbar:\n",
        "            for i, (images, labels) in enumerate(pbar):\n",
        "                images = images.view(-1, 28 * 28).to(device)\n",
        "                optimizer.zero_grad()\n",
        "                output = model(images)\n",
        "                loss = criterion(output, labels.to(device))\n",
        "                loss.backward()\n",
        "                optimizer.step()\n",
        "                accuracy = (output.argmax(dim=1) == labels.to(device)).float().mean()\n",
        "                pbar.set_postfix(loss=loss.item(), accuracy=accuracy.item(), lr=optimizer.param_groups[0]['lr'])\n",
        "\n",
        "        # Validation\n",
        "        model.eval()\n",
        "        val_loss = 0\n",
        "        val_accuracy = 0\n",
        "        with torch.no_grad():\n",
        "            for images, labels in val_loader:\n",
        "                images = images.view(-1, 28 * 28).to(device)\n",
        "                output = model(images)\n",
        "                val_loss += criterion(output, labels.to(device)).item()\n",
        "                val_accuracy += (\n",
        "                    (output.argmax(dim=1) == labels.to(device)).float().mean().item()\n",
        "                )\n",
        "\n",
        "        val_loss /= len(val_loader)\n",
        "        val_accuracy /= len(val_loader)\n",
        "        wd_accs[h, epoch] = val_accuracy\n",
        "\n",
        "        # Update learning rate\n",
        "        scheduler.step()\n",
        "\n",
        "        print(\n",
        "            f\"Epoch {epoch + 1}, Val Loss: {val_loss}, Val Accuracy: {val_accuracy}\"\n",
        "        )"
      ]
    },
    {
      "cell_type": "code",
      "execution_count": null,
      "metadata": {
        "colab": {
          "background_save": true,
          "base_uri": "https://localhost:8080/"
        },
        "id": "UvJ4YGFGdyui",
        "outputId": "84233808-977d-44e2-8d7a-8a98288999c5"
      },
      "outputs": [
        {
          "name": "stderr",
          "output_type": "stream",
          "text": [
            "100%|██████████| 938/938 [00:25<00:00, 36.71it/s, accuracy=0.812, loss=0.406, lr=0.0008]\n"
          ]
        },
        {
          "name": "stdout",
          "output_type": "stream",
          "text": [
            "Epoch 1, Val Loss: 0.4509099055627349, Val Accuracy: 0.8728, Precision: 0.8754268308847603, Recall: 0.8728, F1 Score: 0.8727474901024427\n"
          ]
        },
        {
          "name": "stderr",
          "output_type": "stream",
          "text": [
            "100%|██████████| 938/938 [00:22<00:00, 41.17it/s, accuracy=0.938, loss=0.206, lr=0.00072]\n"
          ]
        },
        {
          "name": "stdout",
          "output_type": "stream",
          "text": [
            "Epoch 2, Val Loss: 0.3821559297336135, Val Accuracy: 0.8939, Precision: 0.8954028198579713, Recall: 0.8939, F1 Score: 0.8942089680062498\n"
          ]
        },
        {
          "name": "stderr",
          "output_type": "stream",
          "text": [
            "100%|██████████| 938/938 [00:18<00:00, 49.51it/s, accuracy=0.906, loss=0.23, lr=0.000648]\n"
          ]
        },
        {
          "name": "stdout",
          "output_type": "stream",
          "text": [
            "Epoch 3, Val Loss: 0.3487816483114555, Val Accuracy: 0.9, Precision: 0.9004759029436707, Recall: 0.9, F1 Score: 0.899873709001649\n"
          ]
        },
        {
          "name": "stderr",
          "output_type": "stream",
          "text": [
            "100%|██████████| 938/938 [00:19<00:00, 47.44it/s, accuracy=0.844, loss=0.529, lr=0.000583]\n"
          ]
        },
        {
          "name": "stdout",
          "output_type": "stream",
          "text": [
            "Epoch 4, Val Loss: 0.34449280383195846, Val Accuracy: 0.9023, Precision: 0.9028326111382097, Recall: 0.9023, F1 Score: 0.9016957792783327\n"
          ]
        },
        {
          "name": "stderr",
          "output_type": "stream",
          "text": [
            "100%|██████████| 938/938 [00:18<00:00, 49.47it/s, accuracy=0.969, loss=0.193, lr=0.000525]\n"
          ]
        },
        {
          "name": "stdout",
          "output_type": "stream",
          "text": [
            "Epoch 5, Val Loss: 0.3427929365592208, Val Accuracy: 0.9027, Precision: 0.9059578878456589, Recall: 0.9027, F1 Score: 0.9033336363497594\n"
          ]
        },
        {
          "name": "stderr",
          "output_type": "stream",
          "text": [
            "100%|██████████| 938/938 [00:19<00:00, 48.57it/s, accuracy=0.781, loss=0.396, lr=0.000472]\n"
          ]
        },
        {
          "name": "stdout",
          "output_type": "stream",
          "text": [
            "Epoch 6, Val Loss: 0.3249896743281442, Val Accuracy: 0.9101, Precision: 0.9108740029819835, Recall: 0.9101, F1 Score: 0.9099867421646862\n"
          ]
        },
        {
          "name": "stderr",
          "output_type": "stream",
          "text": [
            "100%|██████████| 938/938 [00:18<00:00, 51.03it/s, accuracy=0.844, loss=0.464, lr=0.000425]\n"
          ]
        },
        {
          "name": "stdout",
          "output_type": "stream",
          "text": [
            "Epoch 7, Val Loss: 0.3206390386008343, Val Accuracy: 0.9105, Precision: 0.9112100342505645, Recall: 0.9105, F1 Score: 0.9106384466847949\n"
          ]
        },
        {
          "name": "stderr",
          "output_type": "stream",
          "text": [
            "100%|██████████| 938/938 [00:19<00:00, 49.37it/s, accuracy=0.906, loss=0.371, lr=0.000383]\n"
          ]
        },
        {
          "name": "stdout",
          "output_type": "stream",
          "text": [
            "Epoch 8, Val Loss: 0.3168045802006296, Val Accuracy: 0.913, Precision: 0.9133474528257691, Recall: 0.913, F1 Score: 0.9129964217584902\n"
          ]
        },
        {
          "name": "stderr",
          "output_type": "stream",
          "text": [
            "100%|██████████| 938/938 [00:19<00:00, 46.93it/s, accuracy=0.906, loss=0.254, lr=0.000344]\n"
          ]
        },
        {
          "name": "stdout",
          "output_type": "stream",
          "text": [
            "Epoch 9, Val Loss: 0.3165187774475213, Val Accuracy: 0.9115, Precision: 0.9123373537896184, Recall: 0.9115, F1 Score: 0.9114167349275871\n"
          ]
        },
        {
          "name": "stderr",
          "output_type": "stream",
          "text": [
            "100%|██████████| 938/938 [00:18<00:00, 49.68it/s, accuracy=0.938, loss=0.159, lr=0.00031]\n"
          ]
        },
        {
          "name": "stdout",
          "output_type": "stream",
          "text": [
            "Epoch 10, Val Loss: 0.3088868075186849, Val Accuracy: 0.9132, Precision: 0.9134092765758156, Recall: 0.9132, F1 Score: 0.9131762619568573\n"
          ]
        },
        {
          "name": "stderr",
          "output_type": "stream",
          "text": [
            "100%|██████████| 938/938 [00:19<00:00, 48.76it/s, accuracy=0.969, loss=0.278, lr=0.000279]\n"
          ]
        },
        {
          "name": "stdout",
          "output_type": "stream",
          "text": [
            "Epoch 11, Val Loss: 0.3055923844385109, Val Accuracy: 0.9151, Precision: 0.9150178221412593, Recall: 0.9151, F1 Score: 0.914789109874326\n"
          ]
        },
        {
          "name": "stderr",
          "output_type": "stream",
          "text": [
            "100%|██████████| 938/938 [00:19<00:00, 47.22it/s, accuracy=0.781, loss=0.777, lr=0.000251]\n"
          ]
        },
        {
          "name": "stdout",
          "output_type": "stream",
          "text": [
            "Epoch 12, Val Loss: 0.3063126597790771, Val Accuracy: 0.914, Precision: 0.9141882083019304, Recall: 0.914, F1 Score: 0.9139349662271344\n"
          ]
        },
        {
          "name": "stderr",
          "output_type": "stream",
          "text": [
            "100%|██████████| 938/938 [00:18<00:00, 49.42it/s, accuracy=0.875, loss=0.239, lr=0.000226]\n"
          ]
        },
        {
          "name": "stdout",
          "output_type": "stream",
          "text": [
            "Epoch 13, Val Loss: 0.29974495044132327, Val Accuracy: 0.9164, Precision: 0.9161597666213869, Recall: 0.9164, F1 Score: 0.9161860546193636\n"
          ]
        },
        {
          "name": "stderr",
          "output_type": "stream",
          "text": [
            "100%|██████████| 938/938 [00:18<00:00, 50.58it/s, accuracy=0.906, loss=0.353, lr=0.000203]\n"
          ]
        },
        {
          "name": "stdout",
          "output_type": "stream",
          "text": [
            "Epoch 14, Val Loss: 0.29897982157339714, Val Accuracy: 0.9163, Precision: 0.9162344646984549, Recall: 0.9163, F1 Score: 0.9161860983738166\n"
          ]
        },
        {
          "name": "stderr",
          "output_type": "stream",
          "text": [
            "100%|██████████| 938/938 [00:18<00:00, 49.81it/s, accuracy=0.938, loss=0.368, lr=0.000183]\n"
          ]
        },
        {
          "name": "stdout",
          "output_type": "stream",
          "text": [
            "Epoch 15, Val Loss: 0.2971431825926919, Val Accuracy: 0.9161, Precision: 0.9158900543091629, Recall: 0.9161, F1 Score: 0.9159553136227241\n"
          ]
        },
        {
          "name": "stderr",
          "output_type": "stream",
          "text": [
            "100%|██████████| 938/938 [00:19<00:00, 47.75it/s, accuracy=0.969, loss=0.124, lr=0.000165]\n"
          ]
        },
        {
          "name": "stdout",
          "output_type": "stream",
          "text": [
            "Epoch 16, Val Loss: 0.2967716175944183, Val Accuracy: 0.9149, Precision: 0.9147628800136725, Recall: 0.9149, F1 Score: 0.9147278259244773\n"
          ]
        },
        {
          "name": "stderr",
          "output_type": "stream",
          "text": [
            "100%|██████████| 938/938 [00:18<00:00, 50.29it/s, accuracy=0.938, loss=0.3, lr=0.000148]\n"
          ]
        },
        {
          "name": "stdout",
          "output_type": "stream",
          "text": [
            "Epoch 17, Val Loss: 0.2971117327428737, Val Accuracy: 0.9172, Precision: 0.9171059746647973, Recall: 0.9172, F1 Score: 0.917063793193835\n"
          ]
        },
        {
          "name": "stderr",
          "output_type": "stream",
          "text": [
            "100%|██████████| 938/938 [00:18<00:00, 50.41it/s, accuracy=0.906, loss=0.411, lr=0.000133]\n"
          ]
        },
        {
          "name": "stdout",
          "output_type": "stream",
          "text": [
            "Epoch 18, Val Loss: 0.29676983344137287, Val Accuracy: 0.915, Precision: 0.914984849047441, Recall: 0.915, F1 Score: 0.9149064704581915\n"
          ]
        },
        {
          "name": "stderr",
          "output_type": "stream",
          "text": [
            "100%|██████████| 938/938 [00:19<00:00, 48.12it/s, accuracy=0.938, loss=0.326, lr=0.00012]\n"
          ]
        },
        {
          "name": "stdout",
          "output_type": "stream",
          "text": [
            "Epoch 19, Val Loss: 0.29388614878010977, Val Accuracy: 0.9175, Precision: 0.9172180397946585, Recall: 0.9175, F1 Score: 0.9172435972248468\n"
          ]
        },
        {
          "name": "stderr",
          "output_type": "stream",
          "text": [
            "100%|██████████| 938/938 [00:19<00:00, 49.03it/s, accuracy=0.906, loss=0.228, lr=0.000108]\n"
          ]
        },
        {
          "name": "stdout",
          "output_type": "stream",
          "text": [
            "Epoch 20, Val Loss: 0.2943589854866836, Val Accuracy: 0.9163, Precision: 0.9160061094029132, Recall: 0.9163, F1 Score: 0.916048881701737\n"
          ]
        },
        {
          "name": "stderr",
          "output_type": "stream",
          "text": [
            "100%|██████████| 938/938 [00:18<00:00, 50.29it/s, accuracy=0.906, loss=0.38, lr=9.73e-5]\n"
          ]
        },
        {
          "name": "stdout",
          "output_type": "stream",
          "text": [
            "Epoch 21, Val Loss: 0.29521078595025524, Val Accuracy: 0.9161, Precision: 0.9160257796476295, Recall: 0.9161, F1 Score: 0.9159648356999158\n"
          ]
        },
        {
          "name": "stderr",
          "output_type": "stream",
          "text": [
            "100%|██████████| 938/938 [00:18<00:00, 49.86it/s, accuracy=0.938, loss=0.171, lr=8.75e-5]\n"
          ]
        },
        {
          "name": "stdout",
          "output_type": "stream",
          "text": [
            "Epoch 22, Val Loss: 0.2933687459036803, Val Accuracy: 0.9162, Precision: 0.9159892066005323, Recall: 0.9162, F1 Score: 0.9160352940369212\n"
          ]
        },
        {
          "name": "stderr",
          "output_type": "stream",
          "text": [
            "100%|██████████| 938/938 [00:20<00:00, 46.56it/s, accuracy=0.969, loss=0.108, lr=7.88e-5]\n"
          ]
        },
        {
          "name": "stdout",
          "output_type": "stream",
          "text": [
            "Epoch 23, Val Loss: 0.29320155359377525, Val Accuracy: 0.9172, Precision: 0.9169667690332195, Recall: 0.9172, F1 Score: 0.9169644035090567\n"
          ]
        },
        {
          "name": "stderr",
          "output_type": "stream",
          "text": [
            "100%|██████████| 938/938 [00:18<00:00, 50.10it/s, accuracy=0.875, loss=0.447, lr=7.09e-5]\n"
          ]
        },
        {
          "name": "stdout",
          "output_type": "stream",
          "text": [
            "Epoch 24, Val Loss: 0.2931970146478741, Val Accuracy: 0.9174, Precision: 0.9172669401046669, Recall: 0.9174, F1 Score: 0.9172203960133074\n"
          ]
        },
        {
          "name": "stderr",
          "output_type": "stream",
          "text": [
            "100%|██████████| 938/938 [00:18<00:00, 49.68it/s, accuracy=0.844, loss=0.313, lr=6.38e-5]\n"
          ]
        },
        {
          "name": "stdout",
          "output_type": "stream",
          "text": [
            "Epoch 25, Val Loss: 0.29349658619256536, Val Accuracy: 0.9176, Precision: 0.9173802172528119, Recall: 0.9176, F1 Score: 0.9174299953570678\n"
          ]
        },
        {
          "name": "stderr",
          "output_type": "stream",
          "text": [
            "100%|██████████| 938/938 [00:20<00:00, 46.09it/s, accuracy=0.906, loss=0.277, lr=5.74e-5]\n"
          ]
        },
        {
          "name": "stdout",
          "output_type": "stream",
          "text": [
            "Epoch 26, Val Loss: 0.2916152915875813, Val Accuracy: 0.9174, Precision: 0.9171407856170013, Recall: 0.9174, F1 Score: 0.9171710406787401\n"
          ]
        },
        {
          "name": "stderr",
          "output_type": "stream",
          "text": [
            "100%|██████████| 938/938 [00:20<00:00, 44.87it/s, accuracy=0.844, loss=0.592, lr=5.17e-5]\n"
          ]
        },
        {
          "name": "stdout",
          "output_type": "stream",
          "text": [
            "Epoch 27, Val Loss: 0.2916182756518862, Val Accuracy: 0.9177, Precision: 0.9174902161944308, Recall: 0.9177, F1 Score: 0.9175359084387527\n"
          ]
        },
        {
          "name": "stderr",
          "output_type": "stream",
          "text": [
            "100%|██████████| 938/938 [00:19<00:00, 48.29it/s, accuracy=0.844, loss=0.307, lr=4.65e-5]\n"
          ]
        },
        {
          "name": "stdout",
          "output_type": "stream",
          "text": [
            "Epoch 28, Val Loss: 0.29199817959385316, Val Accuracy: 0.9183, Precision: 0.9181398472787369, Recall: 0.9183, F1 Score: 0.9181320610096585\n"
          ]
        },
        {
          "name": "stderr",
          "output_type": "stream",
          "text": [
            "100%|██████████| 938/938 [00:19<00:00, 48.61it/s, accuracy=0.844, loss=0.446, lr=4.19e-5]\n"
          ]
        },
        {
          "name": "stdout",
          "output_type": "stream",
          "text": [
            "Epoch 29, Val Loss: 0.29177873715710867, Val Accuracy: 0.9178, Precision: 0.9176282529957184, Recall: 0.9178, F1 Score: 0.9176241441442795\n"
          ]
        },
        {
          "name": "stderr",
          "output_type": "stream",
          "text": [
            "100%|██████████| 938/938 [00:19<00:00, 48.44it/s, accuracy=0.938, loss=0.182, lr=3.77e-5]\n"
          ]
        },
        {
          "name": "stdout",
          "output_type": "stream",
          "text": [
            "Epoch 30, Val Loss: 0.2910802623933288, Val Accuracy: 0.9178, Precision: 0.9175628651612631, Recall: 0.9178, F1 Score: 0.9176065584467937\n"
          ]
        },
        {
          "name": "stderr",
          "output_type": "stream",
          "text": [
            "100%|██████████| 938/938 [00:19<00:00, 48.30it/s, accuracy=0.906, loss=0.23, lr=0.0008]\n"
          ]
        },
        {
          "name": "stdout",
          "output_type": "stream",
          "text": [
            "Epoch 1, Val Loss: 0.30386346193018615, Val Accuracy: 0.9116, Precision: 0.9128641369827813, Recall: 0.9116, F1 Score: 0.9112731851003415\n"
          ]
        },
        {
          "name": "stderr",
          "output_type": "stream",
          "text": [
            "100%|██████████| 938/938 [00:19<00:00, 48.81it/s, accuracy=0.938, loss=0.123, lr=0.00072]\n"
          ]
        },
        {
          "name": "stdout",
          "output_type": "stream",
          "text": [
            "Epoch 2, Val Loss: 0.2742508517068093, Val Accuracy: 0.9185, Precision: 0.919099084509773, Recall: 0.9185, F1 Score: 0.9179559763685229\n"
          ]
        },
        {
          "name": "stderr",
          "output_type": "stream",
          "text": [
            "100%|██████████| 938/938 [00:19<00:00, 49.19it/s, accuracy=0.906, loss=0.591, lr=0.000648]\n"
          ]
        },
        {
          "name": "stdout",
          "output_type": "stream",
          "text": [
            "Epoch 3, Val Loss: 0.25026339355405347, Val Accuracy: 0.9211, Precision: 0.9225738845674539, Recall: 0.9211, F1 Score: 0.9209311363760436\n"
          ]
        },
        {
          "name": "stderr",
          "output_type": "stream",
          "text": [
            "100%|██████████| 938/938 [00:18<00:00, 50.19it/s, accuracy=1, loss=0.101, lr=0.000583]\n"
          ]
        },
        {
          "name": "stdout",
          "output_type": "stream",
          "text": [
            "Epoch 4, Val Loss: 0.2326145648280052, Val Accuracy: 0.9295, Precision: 0.9313453234916904, Recall: 0.9295, F1 Score: 0.9295604474173157\n"
          ]
        },
        {
          "name": "stderr",
          "output_type": "stream",
          "text": [
            "100%|██████████| 938/938 [00:19<00:00, 47.64it/s, accuracy=0.969, loss=0.132, lr=0.000525]\n"
          ]
        },
        {
          "name": "stdout",
          "output_type": "stream",
          "text": [
            "Epoch 5, Val Loss: 0.20469788155239668, Val Accuracy: 0.9398, Precision: 0.9398450879857292, Recall: 0.9398, F1 Score: 0.9396291810507406\n"
          ]
        },
        {
          "name": "stderr",
          "output_type": "stream",
          "text": [
            "100%|██████████| 938/938 [00:19<00:00, 48.95it/s, accuracy=0.906, loss=0.301, lr=0.000472]\n"
          ]
        },
        {
          "name": "stdout",
          "output_type": "stream",
          "text": [
            "Epoch 6, Val Loss: 0.19274748965599545, Val Accuracy: 0.9414, Precision: 0.9415713180041674, Recall: 0.9414, F1 Score: 0.9413779246865768\n"
          ]
        },
        {
          "name": "stderr",
          "output_type": "stream",
          "text": [
            "100%|██████████| 938/938 [00:19<00:00, 49.28it/s, accuracy=1, loss=0.0615, lr=0.000425]\n"
          ]
        },
        {
          "name": "stdout",
          "output_type": "stream",
          "text": [
            "Epoch 7, Val Loss: 0.1908911738847234, Val Accuracy: 0.942, Precision: 0.9424021651703716, Recall: 0.942, F1 Score: 0.9418606651016144\n"
          ]
        },
        {
          "name": "stderr",
          "output_type": "stream",
          "text": [
            "100%|██████████| 938/938 [00:19<00:00, 47.81it/s, accuracy=0.906, loss=0.199, lr=0.000383]\n"
          ]
        },
        {
          "name": "stdout",
          "output_type": "stream",
          "text": [
            "Epoch 8, Val Loss: 0.1839896768841679, Val Accuracy: 0.9448, Precision: 0.9451478163850985, Recall: 0.9448, F1 Score: 0.9447666467835643\n"
          ]
        },
        {
          "name": "stderr",
          "output_type": "stream",
          "text": [
            "100%|██████████| 938/938 [00:19<00:00, 49.35it/s, accuracy=0.969, loss=0.19, lr=0.000344]\n"
          ]
        },
        {
          "name": "stdout",
          "output_type": "stream",
          "text": [
            "Epoch 9, Val Loss: 0.17520493116217908, Val Accuracy: 0.9464, Precision: 0.9464575993352735, Recall: 0.9464, F1 Score: 0.9463498818579006\n"
          ]
        },
        {
          "name": "stderr",
          "output_type": "stream",
          "text": [
            "100%|██████████| 938/938 [00:18<00:00, 49.90it/s, accuracy=0.906, loss=0.149, lr=0.00031]\n"
          ]
        },
        {
          "name": "stdout",
          "output_type": "stream",
          "text": [
            "Epoch 10, Val Loss: 0.17569562094879282, Val Accuracy: 0.9474, Precision: 0.9476227693508872, Recall: 0.9474, F1 Score: 0.9473267782231111\n"
          ]
        },
        {
          "name": "stderr",
          "output_type": "stream",
          "text": [
            "100%|██████████| 938/938 [00:19<00:00, 47.97it/s, accuracy=0.875, loss=0.325, lr=0.000279]\n"
          ]
        },
        {
          "name": "stdout",
          "output_type": "stream",
          "text": [
            "Epoch 11, Val Loss: 0.16889332072026317, Val Accuracy: 0.9486, Precision: 0.948776277180181, Recall: 0.9486, F1 Score: 0.9485209294637978\n"
          ]
        },
        {
          "name": "stderr",
          "output_type": "stream",
          "text": [
            "100%|██████████| 938/938 [00:20<00:00, 46.49it/s, accuracy=1, loss=0.0915, lr=0.000251]\n"
          ]
        },
        {
          "name": "stdout",
          "output_type": "stream",
          "text": [
            "Epoch 12, Val Loss: 0.16417536267026026, Val Accuracy: 0.95, Precision: 0.950026011452923, Recall: 0.95, F1 Score: 0.9499614468629215\n"
          ]
        },
        {
          "name": "stderr",
          "output_type": "stream",
          "text": [
            "100%|██████████| 938/938 [00:18<00:00, 49.52it/s, accuracy=0.969, loss=0.0742, lr=0.000226]\n"
          ]
        },
        {
          "name": "stdout",
          "output_type": "stream",
          "text": [
            "Epoch 13, Val Loss: 0.16482951162549056, Val Accuracy: 0.9499, Precision: 0.9501119433100109, Recall: 0.9499, F1 Score: 0.9497738998778201\n"
          ]
        },
        {
          "name": "stderr",
          "output_type": "stream",
          "text": [
            "100%|██████████| 938/938 [00:19<00:00, 47.38it/s, accuracy=0.969, loss=0.186, lr=0.000203]\n"
          ]
        },
        {
          "name": "stdout",
          "output_type": "stream",
          "text": [
            "Epoch 14, Val Loss: 0.1595916557244387, Val Accuracy: 0.9511, Precision: 0.9511203162061922, Recall: 0.9511, F1 Score: 0.9510306419423877\n"
          ]
        },
        {
          "name": "stderr",
          "output_type": "stream",
          "text": [
            "100%|██████████| 938/938 [00:19<00:00, 49.12it/s, accuracy=0.938, loss=0.194, lr=0.000183]\n"
          ]
        },
        {
          "name": "stdout",
          "output_type": "stream",
          "text": [
            "Epoch 15, Val Loss: 0.15880392803246998, Val Accuracy: 0.9523, Precision: 0.9524415715121227, Recall: 0.9523, F1 Score: 0.952258005153454\n"
          ]
        },
        {
          "name": "stderr",
          "output_type": "stream",
          "text": [
            "100%|██████████| 938/938 [00:19<00:00, 48.40it/s, accuracy=0.969, loss=0.18, lr=0.000165]\n"
          ]
        },
        {
          "name": "stdout",
          "output_type": "stream",
          "text": [
            "Epoch 16, Val Loss: 0.15629755828683828, Val Accuracy: 0.9523, Precision: 0.952280688349873, Recall: 0.9523, F1 Score: 0.9522320236317496\n"
          ]
        },
        {
          "name": "stderr",
          "output_type": "stream",
          "text": [
            "100%|██████████| 938/938 [00:19<00:00, 48.26it/s, accuracy=0.969, loss=0.153, lr=0.000148]\n"
          ]
        },
        {
          "name": "stdout",
          "output_type": "stream",
          "text": [
            "Epoch 17, Val Loss: 0.15666948903980812, Val Accuracy: 0.9525, Precision: 0.952638523380675, Recall: 0.9525, F1 Score: 0.9524372317097796\n"
          ]
        },
        {
          "name": "stderr",
          "output_type": "stream",
          "text": [
            "100%|██████████| 938/938 [00:18<00:00, 49.54it/s, accuracy=0.906, loss=0.281, lr=0.000133]\n"
          ]
        },
        {
          "name": "stdout",
          "output_type": "stream",
          "text": [
            "Epoch 18, Val Loss: 0.15494092300854576, Val Accuracy: 0.9534, Precision: 0.9534313315913318, Recall: 0.9534, F1 Score: 0.9533419610511912\n"
          ]
        },
        {
          "name": "stderr",
          "output_type": "stream",
          "text": [
            "100%|██████████| 938/938 [00:19<00:00, 48.58it/s, accuracy=0.938, loss=0.116, lr=0.00012]\n"
          ]
        },
        {
          "name": "stdout",
          "output_type": "stream",
          "text": [
            "Epoch 19, Val Loss: 0.15426503187846274, Val Accuracy: 0.9534, Precision: 0.9534516146828981, Recall: 0.9534, F1 Score: 0.9533529762231404\n"
          ]
        },
        {
          "name": "stderr",
          "output_type": "stream",
          "text": [
            "100%|██████████| 938/938 [00:19<00:00, 47.54it/s, accuracy=0.969, loss=0.055, lr=0.000108]\n"
          ]
        },
        {
          "name": "stdout",
          "output_type": "stream",
          "text": [
            "Epoch 20, Val Loss: 0.1512314232502275, Val Accuracy: 0.9529, Precision: 0.9528489619434946, Recall: 0.9529, F1 Score: 0.9528255984894674\n"
          ]
        },
        {
          "name": "stderr",
          "output_type": "stream",
          "text": [
            "100%|██████████| 938/938 [00:19<00:00, 48.16it/s, accuracy=0.969, loss=0.121, lr=9.73e-5]\n"
          ]
        },
        {
          "name": "stdout",
          "output_type": "stream",
          "text": [
            "Epoch 21, Val Loss: 0.15110480619570726, Val Accuracy: 0.955, Precision: 0.954962065945484, Recall: 0.955, F1 Score: 0.9549448396668413\n"
          ]
        },
        {
          "name": "stderr",
          "output_type": "stream",
          "text": [
            "100%|██████████| 938/938 [00:18<00:00, 49.75it/s, accuracy=1, loss=0.0454, lr=8.75e-5]\n"
          ]
        },
        {
          "name": "stdout",
          "output_type": "stream",
          "text": [
            "Epoch 22, Val Loss: 0.15110444587471475, Val Accuracy: 0.9551, Precision: 0.9550944067017879, Recall: 0.9551, F1 Score: 0.9550492699792227\n"
          ]
        },
        {
          "name": "stderr",
          "output_type": "stream",
          "text": [
            "100%|██████████| 938/938 [00:19<00:00, 48.04it/s, accuracy=0.969, loss=0.251, lr=7.88e-5]\n"
          ]
        },
        {
          "name": "stdout",
          "output_type": "stream",
          "text": [
            "Epoch 23, Val Loss: 0.1506220935087556, Val Accuracy: 0.9551, Precision: 0.9550715245395053, Recall: 0.9551, F1 Score: 0.9550444321594416\n"
          ]
        },
        {
          "name": "stderr",
          "output_type": "stream",
          "text": [
            "100%|██████████| 938/938 [00:18<00:00, 49.67it/s, accuracy=0.969, loss=0.102, lr=7.09e-5]\n"
          ]
        },
        {
          "name": "stdout",
          "output_type": "stream",
          "text": [
            "Epoch 24, Val Loss: 0.14939119968011644, Val Accuracy: 0.9549, Precision: 0.9548736362668689, Recall: 0.9549, F1 Score: 0.95484688572294\n"
          ]
        },
        {
          "name": "stderr",
          "output_type": "stream",
          "text": [
            "100%|██████████| 938/938 [00:18<00:00, 49.46it/s, accuracy=0.938, loss=0.114, lr=6.38e-5]\n"
          ]
        },
        {
          "name": "stdout",
          "output_type": "stream",
          "text": [
            "Epoch 25, Val Loss: 0.14964986599946192, Val Accuracy: 0.9546, Precision: 0.9546162366981836, Recall: 0.9546, F1 Score: 0.9545605179516413\n"
          ]
        },
        {
          "name": "stderr",
          "output_type": "stream",
          "text": [
            "100%|██████████| 938/938 [00:19<00:00, 47.31it/s, accuracy=0.906, loss=0.13, lr=5.74e-5]\n"
          ]
        },
        {
          "name": "stdout",
          "output_type": "stream",
          "text": [
            "Epoch 26, Val Loss: 0.1492384504259914, Val Accuracy: 0.9554, Precision: 0.9554364168551428, Recall: 0.9554, F1 Score: 0.9553536509281665\n"
          ]
        },
        {
          "name": "stderr",
          "output_type": "stream",
          "text": [
            "100%|██████████| 938/938 [00:19<00:00, 47.30it/s, accuracy=1, loss=0.0436, lr=5.17e-5]\n"
          ]
        },
        {
          "name": "stdout",
          "output_type": "stream",
          "text": [
            "Epoch 27, Val Loss: 0.14908123570998574, Val Accuracy: 0.9545, Precision: 0.9544831146044422, Recall: 0.9545, F1 Score: 0.9544343407037773\n"
          ]
        },
        {
          "name": "stderr",
          "output_type": "stream",
          "text": [
            "100%|██████████| 938/938 [00:19<00:00, 49.16it/s, accuracy=0.875, loss=0.472, lr=4.65e-5]\n"
          ]
        },
        {
          "name": "stdout",
          "output_type": "stream",
          "text": [
            "Epoch 28, Val Loss: 0.14947630535028164, Val Accuracy: 0.9557, Precision: 0.95573259549894, Recall: 0.9557, F1 Score: 0.9556253474832789\n"
          ]
        },
        {
          "name": "stderr",
          "output_type": "stream",
          "text": [
            "100%|██████████| 938/938 [00:19<00:00, 48.74it/s, accuracy=0.906, loss=0.212, lr=4.19e-5]\n"
          ]
        },
        {
          "name": "stdout",
          "output_type": "stream",
          "text": [
            "Epoch 29, Val Loss: 0.1478302739679244, Val Accuracy: 0.9554, Precision: 0.9553466284157838, Recall: 0.9554, F1 Score: 0.955335428342238\n"
          ]
        },
        {
          "name": "stderr",
          "output_type": "stream",
          "text": [
            "100%|██████████| 938/938 [00:19<00:00, 48.87it/s, accuracy=0.969, loss=0.0645, lr=3.77e-5]\n"
          ]
        },
        {
          "name": "stdout",
          "output_type": "stream",
          "text": [
            "Epoch 30, Val Loss: 0.14763710340989197, Val Accuracy: 0.9556, Precision: 0.9555682496552237, Recall: 0.9556, F1 Score: 0.9555334020072942\n"
          ]
        },
        {
          "name": "stderr",
          "output_type": "stream",
          "text": [
            "100%|██████████| 938/938 [00:19<00:00, 48.89it/s, accuracy=0.938, loss=0.246, lr=0.0008]\n"
          ]
        },
        {
          "name": "stdout",
          "output_type": "stream",
          "text": [
            "Epoch 1, Val Loss: 0.2780421424099499, Val Accuracy: 0.9196, Precision: 0.9195767889005414, Recall: 0.9196, F1 Score: 0.9193763261544582\n"
          ]
        },
        {
          "name": "stderr",
          "output_type": "stream",
          "text": [
            "100%|██████████| 938/938 [00:19<00:00, 47.02it/s, accuracy=0.906, loss=0.279, lr=0.00072]\n"
          ]
        },
        {
          "name": "stdout",
          "output_type": "stream",
          "text": [
            "Epoch 2, Val Loss: 0.24340963400425805, Val Accuracy: 0.9294, Precision: 0.9314485415143474, Recall: 0.9294, F1 Score: 0.9296030660016897\n"
          ]
        },
        {
          "name": "stderr",
          "output_type": "stream",
          "text": [
            "100%|██████████| 938/938 [00:19<00:00, 48.68it/s, accuracy=0.938, loss=0.129, lr=0.000648]\n"
          ]
        },
        {
          "name": "stdout",
          "output_type": "stream",
          "text": [
            "Epoch 3, Val Loss: 0.20423553213121215, Val Accuracy: 0.9402, Precision: 0.9410117458488707, Recall: 0.9402, F1 Score: 0.9400949434685834\n"
          ]
        },
        {
          "name": "stderr",
          "output_type": "stream",
          "text": [
            "100%|██████████| 938/938 [00:18<00:00, 49.74it/s, accuracy=0.906, loss=0.375, lr=0.000583]\n"
          ]
        },
        {
          "name": "stdout",
          "output_type": "stream",
          "text": [
            "Epoch 4, Val Loss: 0.17724350957010107, Val Accuracy: 0.9471, Precision: 0.9473297095133343, Recall: 0.9471, F1 Score: 0.9469816527572679\n"
          ]
        },
        {
          "name": "stderr",
          "output_type": "stream",
          "text": [
            "100%|██████████| 938/938 [00:19<00:00, 47.62it/s, accuracy=0.969, loss=0.0939, lr=0.000525]\n"
          ]
        },
        {
          "name": "stdout",
          "output_type": "stream",
          "text": [
            "Epoch 5, Val Loss: 0.16425165099056235, Val Accuracy: 0.9525, Precision: 0.9526625839943639, Recall: 0.9525, F1 Score: 0.9523636759724097\n"
          ]
        },
        {
          "name": "stderr",
          "output_type": "stream",
          "text": [
            "100%|██████████| 938/938 [00:18<00:00, 49.73it/s, accuracy=1, loss=0.0415, lr=0.000472]\n"
          ]
        },
        {
          "name": "stdout",
          "output_type": "stream",
          "text": [
            "Epoch 6, Val Loss: 0.1498387364187177, Val Accuracy: 0.9568, Precision: 0.9568998025741992, Recall: 0.9568, F1 Score: 0.9567660109332186\n"
          ]
        },
        {
          "name": "stderr",
          "output_type": "stream",
          "text": [
            "100%|██████████| 938/938 [00:18<00:00, 49.73it/s, accuracy=0.969, loss=0.0902, lr=0.000425]\n"
          ]
        },
        {
          "name": "stdout",
          "output_type": "stream",
          "text": [
            "Epoch 7, Val Loss: 0.14245120951443152, Val Accuracy: 0.9549, Precision: 0.9550438991059343, Recall: 0.9549, F1 Score: 0.9548895023570367\n"
          ]
        },
        {
          "name": "stderr",
          "output_type": "stream",
          "text": [
            "100%|██████████| 938/938 [00:19<00:00, 47.63it/s, accuracy=0.938, loss=0.128, lr=0.000383]\n"
          ]
        },
        {
          "name": "stdout",
          "output_type": "stream",
          "text": [
            "Epoch 8, Val Loss: 0.1441121340705568, Val Accuracy: 0.9564, Precision: 0.9568938342379403, Recall: 0.9564, F1 Score: 0.9563789650751514\n"
          ]
        },
        {
          "name": "stderr",
          "output_type": "stream",
          "text": [
            "100%|██████████| 938/938 [00:19<00:00, 49.11it/s, accuracy=0.969, loss=0.145, lr=0.000344]\n"
          ]
        },
        {
          "name": "stdout",
          "output_type": "stream",
          "text": [
            "Epoch 9, Val Loss: 0.13227690191595418, Val Accuracy: 0.9602, Precision: 0.9603161559340265, Recall: 0.9602, F1 Score: 0.9601716847303091\n"
          ]
        },
        {
          "name": "stderr",
          "output_type": "stream",
          "text": [
            "100%|██████████| 938/938 [00:19<00:00, 48.23it/s, accuracy=0.969, loss=0.119, lr=0.00031]\n"
          ]
        },
        {
          "name": "stdout",
          "output_type": "stream",
          "text": [
            "Epoch 10, Val Loss: 0.12626796121750572, Val Accuracy: 0.9609, Precision: 0.960961071777506, Recall: 0.9609, F1 Score: 0.9608615149211959\n"
          ]
        },
        {
          "name": "stderr",
          "output_type": "stream",
          "text": [
            "100%|██████████| 938/938 [00:21<00:00, 43.04it/s, accuracy=0.938, loss=0.276, lr=0.000279]\n"
          ]
        },
        {
          "name": "stdout",
          "output_type": "stream",
          "text": [
            "Epoch 11, Val Loss: 0.12471823410759829, Val Accuracy: 0.9616, Precision: 0.9616687765417914, Recall: 0.9616, F1 Score: 0.9615685508487488\n"
          ]
        },
        {
          "name": "stderr",
          "output_type": "stream",
          "text": [
            "100%|██████████| 938/938 [00:18<00:00, 49.76it/s, accuracy=1, loss=0.019, lr=0.000251]\n"
          ]
        },
        {
          "name": "stdout",
          "output_type": "stream",
          "text": [
            "Epoch 12, Val Loss: 0.11887757113250862, Val Accuracy: 0.963, Precision: 0.9630054768372677, Recall: 0.963, F1 Score: 0.9629933853737821\n"
          ]
        },
        {
          "name": "stderr",
          "output_type": "stream",
          "text": [
            "100%|██████████| 938/938 [00:18<00:00, 49.90it/s, accuracy=0.938, loss=0.0796, lr=0.000226]\n"
          ]
        },
        {
          "name": "stdout",
          "output_type": "stream",
          "text": [
            "Epoch 13, Val Loss: 0.11815295813258168, Val Accuracy: 0.9641, Precision: 0.9641902491657846, Recall: 0.9641, F1 Score: 0.9640754496763638\n"
          ]
        },
        {
          "name": "stderr",
          "output_type": "stream",
          "text": [
            "100%|██████████| 938/938 [00:20<00:00, 46.78it/s, accuracy=0.969, loss=0.1, lr=0.000203]\n"
          ]
        },
        {
          "name": "stdout",
          "output_type": "stream",
          "text": [
            "Epoch 14, Val Loss: 0.11794852162118123, Val Accuracy: 0.9641, Precision: 0.964201426586686, Recall: 0.9641, F1 Score: 0.9640624514624482\n"
          ]
        },
        {
          "name": "stderr",
          "output_type": "stream",
          "text": [
            "100%|██████████| 938/938 [00:19<00:00, 48.70it/s, accuracy=1, loss=0.0341, lr=0.000183]\n"
          ]
        },
        {
          "name": "stdout",
          "output_type": "stream",
          "text": [
            "Epoch 15, Val Loss: 0.11169307341926678, Val Accuracy: 0.965, Precision: 0.9650139736655996, Recall: 0.965, F1 Score: 0.9649790636958427\n"
          ]
        },
        {
          "name": "stderr",
          "output_type": "stream",
          "text": [
            "100%|██████████| 938/938 [00:19<00:00, 49.14it/s, accuracy=0.969, loss=0.0614, lr=0.000165]\n"
          ]
        },
        {
          "name": "stdout",
          "output_type": "stream",
          "text": [
            "Epoch 16, Val Loss: 0.11349707051657829, Val Accuracy: 0.9653, Precision: 0.9653600934501958, Recall: 0.9653, F1 Score: 0.9652662278480327\n"
          ]
        },
        {
          "name": "stderr",
          "output_type": "stream",
          "text": [
            "100%|██████████| 938/938 [00:19<00:00, 47.87it/s, accuracy=0.938, loss=0.152, lr=0.000148]\n"
          ]
        },
        {
          "name": "stdout",
          "output_type": "stream",
          "text": [
            "Epoch 17, Val Loss: 0.11106416930527586, Val Accuracy: 0.9651, Precision: 0.965160337686212, Recall: 0.9651, F1 Score: 0.9651043871100795\n"
          ]
        },
        {
          "name": "stderr",
          "output_type": "stream",
          "text": [
            "100%|██████████| 938/938 [00:19<00:00, 48.68it/s, accuracy=0.781, loss=0.582, lr=0.000133]\n"
          ]
        },
        {
          "name": "stdout",
          "output_type": "stream",
          "text": [
            "Epoch 18, Val Loss: 0.11194335603582299, Val Accuracy: 0.9665, Precision: 0.9666250918505505, Recall: 0.9665, F1 Score: 0.9664674472958074\n"
          ]
        },
        {
          "name": "stderr",
          "output_type": "stream",
          "text": [
            "100%|██████████| 938/938 [00:19<00:00, 49.35it/s, accuracy=0.906, loss=0.219, lr=0.00012]\n"
          ]
        },
        {
          "name": "stdout",
          "output_type": "stream",
          "text": [
            "Epoch 19, Val Loss: 0.11100435234638892, Val Accuracy: 0.9658, Precision: 0.9658559010513728, Recall: 0.9658, F1 Score: 0.96576192196564\n"
          ]
        },
        {
          "name": "stderr",
          "output_type": "stream",
          "text": [
            "100%|██████████| 938/938 [00:19<00:00, 48.91it/s, accuracy=0.938, loss=0.207, lr=0.000108]\n"
          ]
        },
        {
          "name": "stdout",
          "output_type": "stream",
          "text": [
            "Epoch 20, Val Loss: 0.10931590258790429, Val Accuracy: 0.9664, Precision: 0.9664126624668643, Recall: 0.9664, F1 Score: 0.9663723673471896\n"
          ]
        },
        {
          "name": "stderr",
          "output_type": "stream",
          "text": [
            "100%|██████████| 938/938 [00:18<00:00, 49.72it/s, accuracy=1, loss=0.0333, lr=9.73e-5]\n"
          ]
        },
        {
          "name": "stdout",
          "output_type": "stream",
          "text": [
            "Epoch 21, Val Loss: 0.10744334260709168, Val Accuracy: 0.9671, Precision: 0.967110008982189, Recall: 0.9671, F1 Score: 0.9670768338661287\n"
          ]
        },
        {
          "name": "stderr",
          "output_type": "stream",
          "text": [
            "100%|██████████| 938/938 [00:18<00:00, 49.51it/s, accuracy=1, loss=0.0243, lr=8.75e-5]\n"
          ]
        },
        {
          "name": "stdout",
          "output_type": "stream",
          "text": [
            "Epoch 22, Val Loss: 0.10721284062764756, Val Accuracy: 0.9677, Precision: 0.9677137831055547, Recall: 0.9677, F1 Score: 0.967659747516172\n"
          ]
        },
        {
          "name": "stderr",
          "output_type": "stream",
          "text": [
            "100%|██████████| 938/938 [00:19<00:00, 49.25it/s, accuracy=0.938, loss=0.217, lr=7.88e-5]\n"
          ]
        },
        {
          "name": "stdout",
          "output_type": "stream",
          "text": [
            "Epoch 23, Val Loss: 0.10687815864528914, Val Accuracy: 0.9667, Precision: 0.9667121443113387, Recall: 0.9667, F1 Score: 0.9666731380202714\n"
          ]
        },
        {
          "name": "stderr",
          "output_type": "stream",
          "text": [
            "100%|██████████| 938/938 [00:19<00:00, 49.03it/s, accuracy=0.938, loss=0.295, lr=7.09e-5]\n"
          ]
        },
        {
          "name": "stdout",
          "output_type": "stream",
          "text": [
            "Epoch 24, Val Loss: 0.10453861590643906, Val Accuracy: 0.9673, Precision: 0.9672989406623166, Recall: 0.9673, F1 Score: 0.9672797747870611\n"
          ]
        },
        {
          "name": "stderr",
          "output_type": "stream",
          "text": [
            "100%|██████████| 938/938 [00:18<00:00, 49.51it/s, accuracy=0.938, loss=0.151, lr=6.38e-5]\n"
          ]
        },
        {
          "name": "stdout",
          "output_type": "stream",
          "text": [
            "Epoch 25, Val Loss: 0.10550399072939874, Val Accuracy: 0.9675, Precision: 0.9674904507361798, Recall: 0.9675, F1 Score: 0.9674662266553958\n"
          ]
        },
        {
          "name": "stderr",
          "output_type": "stream",
          "text": [
            "100%|██████████| 938/938 [00:20<00:00, 44.80it/s, accuracy=0.938, loss=0.144, lr=5.74e-5]\n"
          ]
        },
        {
          "name": "stdout",
          "output_type": "stream",
          "text": [
            "Epoch 26, Val Loss: 0.1039679851242086, Val Accuracy: 0.9675, Precision: 0.9674822359037033, Recall: 0.9675, F1 Score: 0.9674781133502304\n"
          ]
        },
        {
          "name": "stderr",
          "output_type": "stream",
          "text": [
            "100%|██████████| 938/938 [00:19<00:00, 48.20it/s, accuracy=0.938, loss=0.143, lr=5.17e-5]\n"
          ]
        },
        {
          "name": "stdout",
          "output_type": "stream",
          "text": [
            "Epoch 27, Val Loss: 0.10475360923135285, Val Accuracy: 0.967, Precision: 0.967030166298574, Recall: 0.967, F1 Score: 0.9669806998052376\n"
          ]
        },
        {
          "name": "stderr",
          "output_type": "stream",
          "text": [
            "100%|██████████| 938/938 [00:18<00:00, 49.91it/s, accuracy=1, loss=0.0319, lr=4.65e-5]\n"
          ]
        },
        {
          "name": "stdout",
          "output_type": "stream",
          "text": [
            "Epoch 28, Val Loss: 0.1044557371623903, Val Accuracy: 0.968, Precision: 0.9679945867017213, Recall: 0.968, F1 Score: 0.9679620493938459\n"
          ]
        },
        {
          "name": "stderr",
          "output_type": "stream",
          "text": [
            "100%|██████████| 938/938 [00:19<00:00, 48.90it/s, accuracy=0.969, loss=0.059, lr=4.19e-5]\n"
          ]
        },
        {
          "name": "stdout",
          "output_type": "stream",
          "text": [
            "Epoch 29, Val Loss: 0.10258682076685771, Val Accuracy: 0.9679, Precision: 0.9678837445058598, Recall: 0.9679, F1 Score: 0.9678711330931233\n"
          ]
        },
        {
          "name": "stderr",
          "output_type": "stream",
          "text": [
            "100%|██████████| 938/938 [00:19<00:00, 49.33it/s, accuracy=0.969, loss=0.0695, lr=3.77e-5]\n"
          ]
        },
        {
          "name": "stdout",
          "output_type": "stream",
          "text": [
            "Epoch 30, Val Loss: 0.10309279020015553, Val Accuracy: 0.9682, Precision: 0.9682023848211738, Recall: 0.9682, F1 Score: 0.9681770024909714\n"
          ]
        },
        {
          "name": "stderr",
          "output_type": "stream",
          "text": [
            "100%|██████████| 938/938 [00:19<00:00, 48.78it/s, accuracy=0.938, loss=0.134, lr=0.0008]\n"
          ]
        },
        {
          "name": "stdout",
          "output_type": "stream",
          "text": [
            "Epoch 1, Val Loss: 0.24920118076928482, Val Accuracy: 0.926, Precision: 0.9277094848532601, Recall: 0.926, F1 Score: 0.9255732090314667\n"
          ]
        },
        {
          "name": "stderr",
          "output_type": "stream",
          "text": [
            "100%|██████████| 938/938 [00:19<00:00, 48.98it/s, accuracy=0.969, loss=0.145, lr=0.00072]\n"
          ]
        },
        {
          "name": "stdout",
          "output_type": "stream",
          "text": [
            "Epoch 2, Val Loss: 0.16810530201964982, Val Accuracy: 0.9515, Precision: 0.9521701130517543, Recall: 0.9515, F1 Score: 0.9513873726422948\n"
          ]
        },
        {
          "name": "stderr",
          "output_type": "stream",
          "text": [
            "100%|██████████| 938/938 [00:19<00:00, 48.65it/s, accuracy=0.969, loss=0.066, lr=0.000648]\n"
          ]
        },
        {
          "name": "stdout",
          "output_type": "stream",
          "text": [
            "Epoch 3, Val Loss: 0.13700286220687968, Val Accuracy: 0.9578, Precision: 0.9581002417944156, Recall: 0.9578, F1 Score: 0.9577637516043757\n"
          ]
        },
        {
          "name": "stderr",
          "output_type": "stream",
          "text": [
            "100%|██████████| 938/938 [00:19<00:00, 49.03it/s, accuracy=1, loss=0.023, lr=0.000583]\n"
          ]
        },
        {
          "name": "stdout",
          "output_type": "stream",
          "text": [
            "Epoch 4, Val Loss: 0.10907958559602926, Val Accuracy: 0.9673, Precision: 0.9673495421725172, Recall: 0.9673, F1 Score: 0.9672710706795442\n"
          ]
        },
        {
          "name": "stderr",
          "output_type": "stream",
          "text": [
            "100%|██████████| 938/938 [00:18<00:00, 49.44it/s, accuracy=0.969, loss=0.127, lr=0.000525]\n"
          ]
        },
        {
          "name": "stdout",
          "output_type": "stream",
          "text": [
            "Epoch 5, Val Loss: 0.10268732064528166, Val Accuracy: 0.97, Precision: 0.9700541970272121, Recall: 0.97, F1 Score: 0.9699724942278988\n"
          ]
        },
        {
          "name": "stderr",
          "output_type": "stream",
          "text": [
            "100%|██████████| 938/938 [00:19<00:00, 49.04it/s, accuracy=0.969, loss=0.0696, lr=0.000472]\n"
          ]
        },
        {
          "name": "stdout",
          "output_type": "stream",
          "text": [
            "Epoch 6, Val Loss: 0.10539797630574803, Val Accuracy: 0.9686, Precision: 0.9688881356659149, Recall: 0.9686, F1 Score: 0.9684818638479116\n"
          ]
        },
        {
          "name": "stderr",
          "output_type": "stream",
          "text": [
            "100%|██████████| 938/938 [00:19<00:00, 48.77it/s, accuracy=1, loss=0.0326, lr=0.000425]\n"
          ]
        },
        {
          "name": "stdout",
          "output_type": "stream",
          "text": [
            "Epoch 7, Val Loss: 0.09830762099275947, Val Accuracy: 0.9718, Precision: 0.9720113141139244, Recall: 0.9718, F1 Score: 0.9718175081335941\n"
          ]
        },
        {
          "name": "stderr",
          "output_type": "stream",
          "text": [
            "100%|██████████| 938/938 [00:19<00:00, 48.80it/s, accuracy=0.969, loss=0.0812, lr=0.000383]\n"
          ]
        },
        {
          "name": "stdout",
          "output_type": "stream",
          "text": [
            "Epoch 8, Val Loss: 0.095372120647359, Val Accuracy: 0.9718, Precision: 0.9720582028004755, Recall: 0.9718, F1 Score: 0.9717640112585726\n"
          ]
        },
        {
          "name": "stderr",
          "output_type": "stream",
          "text": [
            "100%|██████████| 938/938 [00:19<00:00, 48.37it/s, accuracy=1, loss=0.018, lr=0.000344]\n"
          ]
        },
        {
          "name": "stdout",
          "output_type": "stream",
          "text": [
            "Epoch 9, Val Loss: 0.0836472680516375, Val Accuracy: 0.9749, Precision: 0.9749628646898163, Recall: 0.9749, F1 Score: 0.9749029073176393\n"
          ]
        },
        {
          "name": "stderr",
          "output_type": "stream",
          "text": [
            "100%|██████████| 938/938 [00:19<00:00, 47.03it/s, accuracy=1, loss=0.0285, lr=0.00031]\n"
          ]
        },
        {
          "name": "stdout",
          "output_type": "stream",
          "text": [
            "Epoch 10, Val Loss: 0.0909287500340539, Val Accuracy: 0.973, Precision: 0.973398852988761, Recall: 0.973, F1 Score: 0.9730280843389612\n"
          ]
        },
        {
          "name": "stderr",
          "output_type": "stream",
          "text": [
            "100%|██████████| 938/938 [00:18<00:00, 49.87it/s, accuracy=0.969, loss=0.0479, lr=0.000279]\n"
          ]
        },
        {
          "name": "stdout",
          "output_type": "stream",
          "text": [
            "Epoch 11, Val Loss: 0.0812791859648401, Val Accuracy: 0.9766, Precision: 0.9766826643790597, Recall: 0.9766, F1 Score: 0.9765888782765291\n"
          ]
        },
        {
          "name": "stderr",
          "output_type": "stream",
          "text": [
            "100%|██████████| 938/938 [00:19<00:00, 47.36it/s, accuracy=1, loss=0.0295, lr=0.000251]\n"
          ]
        },
        {
          "name": "stdout",
          "output_type": "stream",
          "text": [
            "Epoch 12, Val Loss: 0.08118352720997397, Val Accuracy: 0.9759, Precision: 0.9760054250930023, Recall: 0.9759, F1 Score: 0.9758957261893958\n"
          ]
        },
        {
          "name": "stderr",
          "output_type": "stream",
          "text": [
            "100%|██████████| 938/938 [00:18<00:00, 49.62it/s, accuracy=1, loss=0.0131, lr=0.000226]\n"
          ]
        },
        {
          "name": "stdout",
          "output_type": "stream",
          "text": [
            "Epoch 13, Val Loss: 0.07634554133594042, Val Accuracy: 0.9778, Precision: 0.9778574770858038, Recall: 0.9778, F1 Score: 0.9777926294871381\n"
          ]
        },
        {
          "name": "stderr",
          "output_type": "stream",
          "text": [
            "100%|██████████| 938/938 [00:19<00:00, 49.26it/s, accuracy=1, loss=0.0175, lr=0.000203]\n"
          ]
        },
        {
          "name": "stdout",
          "output_type": "stream",
          "text": [
            "Epoch 14, Val Loss: 0.07671430696782235, Val Accuracy: 0.9784, Precision: 0.9784392422807087, Recall: 0.9784, F1 Score: 0.9783976553578164\n"
          ]
        },
        {
          "name": "stderr",
          "output_type": "stream",
          "text": [
            "100%|██████████| 938/938 [00:19<00:00, 48.42it/s, accuracy=1, loss=0.017, lr=0.000183]\n"
          ]
        },
        {
          "name": "stdout",
          "output_type": "stream",
          "text": [
            "Epoch 15, Val Loss: 0.07641422508968854, Val Accuracy: 0.977, Precision: 0.9770216120812513, Recall: 0.977, F1 Score: 0.9769913391830809\n"
          ]
        },
        {
          "name": "stderr",
          "output_type": "stream",
          "text": [
            "100%|██████████| 938/938 [00:19<00:00, 48.77it/s, accuracy=1, loss=0.0139, lr=0.000165]\n"
          ]
        },
        {
          "name": "stdout",
          "output_type": "stream",
          "text": [
            "Epoch 16, Val Loss: 0.0739622916640702, Val Accuracy: 0.9782, Precision: 0.9782126665800184, Recall: 0.9782, F1 Score: 0.9781966675220803\n"
          ]
        },
        {
          "name": "stderr",
          "output_type": "stream",
          "text": [
            "100%|██████████| 938/938 [00:18<00:00, 49.94it/s, accuracy=1, loss=0.0188, lr=0.000148]\n"
          ]
        },
        {
          "name": "stdout",
          "output_type": "stream",
          "text": [
            "Epoch 17, Val Loss: 0.07579193356729433, Val Accuracy: 0.9785, Precision: 0.9785143756579066, Recall: 0.9785, F1 Score: 0.9784901898898904\n"
          ]
        },
        {
          "name": "stderr",
          "output_type": "stream",
          "text": [
            "100%|██████████| 938/938 [00:18<00:00, 49.47it/s, accuracy=1, loss=0.00392, lr=0.000133]\n"
          ]
        },
        {
          "name": "stdout",
          "output_type": "stream",
          "text": [
            "Epoch 18, Val Loss: 0.0744350605479673, Val Accuracy: 0.9791, Precision: 0.9791374701132664, Recall: 0.9791, F1 Score: 0.9790959680304786\n"
          ]
        },
        {
          "name": "stderr",
          "output_type": "stream",
          "text": [
            "100%|██████████| 938/938 [00:19<00:00, 48.53it/s, accuracy=1, loss=0.00316, lr=0.00012]\n"
          ]
        },
        {
          "name": "stdout",
          "output_type": "stream",
          "text": [
            "Epoch 19, Val Loss: 0.07660041038880487, Val Accuracy: 0.9778, Precision: 0.9778620576852507, Recall: 0.9778, F1 Score: 0.977804821982579\n"
          ]
        },
        {
          "name": "stderr",
          "output_type": "stream",
          "text": [
            "100%|██████████| 938/938 [00:19<00:00, 48.98it/s, accuracy=1, loss=0.00473, lr=0.000108]\n"
          ]
        },
        {
          "name": "stdout",
          "output_type": "stream",
          "text": [
            "Epoch 20, Val Loss: 0.07459215624821461, Val Accuracy: 0.9782, Precision: 0.9782493599336894, Recall: 0.9782, F1 Score: 0.9782072259425623\n"
          ]
        },
        {
          "name": "stderr",
          "output_type": "stream",
          "text": [
            "100%|██████████| 938/938 [00:19<00:00, 49.11it/s, accuracy=0.969, loss=0.137, lr=9.73e-5]\n"
          ]
        },
        {
          "name": "stdout",
          "output_type": "stream",
          "text": [
            "Epoch 21, Val Loss: 0.07386729360647443, Val Accuracy: 0.9788, Precision: 0.9788329349503722, Recall: 0.9788, F1 Score: 0.9788012972717548\n"
          ]
        },
        {
          "name": "stderr",
          "output_type": "stream",
          "text": [
            "100%|██████████| 938/938 [00:19<00:00, 48.87it/s, accuracy=1, loss=0.0109, lr=8.75e-5]\n"
          ]
        },
        {
          "name": "stdout",
          "output_type": "stream",
          "text": [
            "Epoch 22, Val Loss: 0.0735025028708342, Val Accuracy: 0.9789, Precision: 0.978918242975218, Recall: 0.9789, F1 Score: 0.9788996301988111\n"
          ]
        },
        {
          "name": "stderr",
          "output_type": "stream",
          "text": [
            "100%|██████████| 938/938 [00:19<00:00, 48.71it/s, accuracy=1, loss=0.0167, lr=7.88e-5]\n"
          ]
        },
        {
          "name": "stdout",
          "output_type": "stream",
          "text": [
            "Epoch 23, Val Loss: 0.07383070860868528, Val Accuracy: 0.9786, Precision: 0.9786172679724552, Recall: 0.9786, F1 Score: 0.978591212335837\n"
          ]
        },
        {
          "name": "stderr",
          "output_type": "stream",
          "text": [
            "100%|██████████| 938/938 [00:19<00:00, 48.56it/s, accuracy=1, loss=0.0296, lr=7.09e-5]\n"
          ]
        },
        {
          "name": "stdout",
          "output_type": "stream",
          "text": [
            "Epoch 24, Val Loss: 0.07289144864204268, Val Accuracy: 0.9793, Precision: 0.9793060965933297, Recall: 0.9793, F1 Score: 0.9792964244988578\n"
          ]
        },
        {
          "name": "stderr",
          "output_type": "stream",
          "text": [
            "100%|██████████| 938/938 [00:21<00:00, 44.32it/s, accuracy=0.938, loss=0.0697, lr=6.38e-5]\n"
          ]
        },
        {
          "name": "stdout",
          "output_type": "stream",
          "text": [
            "Epoch 25, Val Loss: 0.07344083234385637, Val Accuracy: 0.9779, Precision: 0.977936018401671, Recall: 0.9779, F1 Score: 0.9778985848392957\n"
          ]
        },
        {
          "name": "stderr",
          "output_type": "stream",
          "text": [
            "100%|██████████| 938/938 [00:19<00:00, 49.22it/s, accuracy=1, loss=0.0305, lr=5.74e-5]\n"
          ]
        },
        {
          "name": "stdout",
          "output_type": "stream",
          "text": [
            "Epoch 26, Val Loss: 0.07317595247386519, Val Accuracy: 0.9786, Precision: 0.97862238477357, Recall: 0.9786, F1 Score: 0.978594999556193\n"
          ]
        },
        {
          "name": "stderr",
          "output_type": "stream",
          "text": [
            "100%|██████████| 938/938 [00:20<00:00, 46.42it/s, accuracy=1, loss=0.012, lr=5.17e-5]\n"
          ]
        },
        {
          "name": "stdout",
          "output_type": "stream",
          "text": [
            "Epoch 27, Val Loss: 0.07214447566551664, Val Accuracy: 0.9789, Precision: 0.9789152940350303, Recall: 0.9789, F1 Score: 0.978900579757491\n"
          ]
        },
        {
          "name": "stderr",
          "output_type": "stream",
          "text": [
            "100%|██████████| 938/938 [00:19<00:00, 47.94it/s, accuracy=1, loss=0.00888, lr=4.65e-5]\n"
          ]
        },
        {
          "name": "stdout",
          "output_type": "stream",
          "text": [
            "Epoch 28, Val Loss: 0.07189574083487599, Val Accuracy: 0.9792, Precision: 0.9792071717146109, Recall: 0.9792, F1 Score: 0.9791933989682868\n"
          ]
        },
        {
          "name": "stderr",
          "output_type": "stream",
          "text": [
            "100%|██████████| 938/938 [00:19<00:00, 49.13it/s, accuracy=1, loss=0.00883, lr=4.19e-5]\n"
          ]
        },
        {
          "name": "stdout",
          "output_type": "stream",
          "text": [
            "Epoch 29, Val Loss: 0.07259673101602829, Val Accuracy: 0.9797, Precision: 0.9797386331450556, Recall: 0.9797, F1 Score: 0.9797011551580231\n"
          ]
        },
        {
          "name": "stderr",
          "output_type": "stream",
          "text": [
            "100%|██████████| 938/938 [00:20<00:00, 46.68it/s, accuracy=1, loss=0.00877, lr=3.77e-5]\n"
          ]
        },
        {
          "name": "stdout",
          "output_type": "stream",
          "text": [
            "Epoch 30, Val Loss: 0.07311152088882959, Val Accuracy: 0.9792, Precision: 0.9792436135017423, Recall: 0.9792, F1 Score: 0.9791997518027475\n"
          ]
        },
        {
          "name": "stderr",
          "output_type": "stream",
          "text": [
            "100%|██████████| 938/938 [00:19<00:00, 49.05it/s, accuracy=0.938, loss=0.22, lr=0.0008]\n"
          ]
        },
        {
          "name": "stdout",
          "output_type": "stream",
          "text": [
            "Epoch 1, Val Loss: 0.1956070644401346, Val Accuracy: 0.9422, Precision: 0.9425057750616874, Recall: 0.9422, F1 Score: 0.9422413513185413\n"
          ]
        },
        {
          "name": "stderr",
          "output_type": "stream",
          "text": [
            "100%|██████████| 938/938 [00:18<00:00, 49.37it/s, accuracy=0.938, loss=0.136, lr=0.00072]\n"
          ]
        },
        {
          "name": "stdout",
          "output_type": "stream",
          "text": [
            "Epoch 2, Val Loss: 0.1331768139639193, Val Accuracy: 0.9616, Precision: 0.9618525868603166, Recall: 0.9616, F1 Score: 0.9615979452041793\n"
          ]
        },
        {
          "name": "stderr",
          "output_type": "stream",
          "text": [
            "100%|██████████| 938/938 [00:19<00:00, 47.82it/s, accuracy=0.938, loss=0.279, lr=0.000648]\n"
          ]
        },
        {
          "name": "stdout",
          "output_type": "stream",
          "text": [
            "Epoch 3, Val Loss: 0.10440338327501943, Val Accuracy: 0.9681, Precision: 0.968287793191216, Recall: 0.9681, F1 Score: 0.9680898617857887\n"
          ]
        },
        {
          "name": "stderr",
          "output_type": "stream",
          "text": [
            "100%|██████████| 938/938 [00:19<00:00, 48.40it/s, accuracy=0.969, loss=0.14, lr=0.000583]\n"
          ]
        },
        {
          "name": "stdout",
          "output_type": "stream",
          "text": [
            "Epoch 4, Val Loss: 0.10517182121806701, Val Accuracy: 0.9669, Precision: 0.9673514475512646, Recall: 0.9669, F1 Score: 0.9668783201197148\n"
          ]
        },
        {
          "name": "stderr",
          "output_type": "stream",
          "text": [
            "100%|██████████| 938/938 [00:19<00:00, 48.29it/s, accuracy=0.969, loss=0.104, lr=0.000525]\n"
          ]
        },
        {
          "name": "stdout",
          "output_type": "stream",
          "text": [
            "Epoch 5, Val Loss: 0.08821864614847479, Val Accuracy: 0.9714, Precision: 0.9715549511273688, Recall: 0.9714, F1 Score: 0.9713758385071544\n"
          ]
        },
        {
          "name": "stderr",
          "output_type": "stream",
          "text": [
            "100%|██████████| 938/938 [00:19<00:00, 48.29it/s, accuracy=1, loss=0.0233, lr=0.000472]\n"
          ]
        },
        {
          "name": "stdout",
          "output_type": "stream",
          "text": [
            "Epoch 6, Val Loss: 0.08590159476730991, Val Accuracy: 0.9741, Precision: 0.974211978464146, Recall: 0.9741, F1 Score: 0.9740900306761776\n"
          ]
        },
        {
          "name": "stderr",
          "output_type": "stream",
          "text": [
            "100%|██████████| 938/938 [00:19<00:00, 47.49it/s, accuracy=1, loss=0.0188, lr=0.000425]\n"
          ]
        },
        {
          "name": "stdout",
          "output_type": "stream",
          "text": [
            "Epoch 7, Val Loss: 0.0718588110587447, Val Accuracy: 0.978, Precision: 0.9780336449297492, Recall: 0.978, F1 Score: 0.9779985867102925\n"
          ]
        },
        {
          "name": "stderr",
          "output_type": "stream",
          "text": [
            "100%|██████████| 938/938 [00:19<00:00, 47.48it/s, accuracy=0.969, loss=0.0743, lr=0.000383]\n"
          ]
        },
        {
          "name": "stdout",
          "output_type": "stream",
          "text": [
            "Epoch 8, Val Loss: 0.07427869798136566, Val Accuracy: 0.9764, Precision: 0.9765121215501218, Recall: 0.9764, F1 Score: 0.9763979710218297\n"
          ]
        },
        {
          "name": "stderr",
          "output_type": "stream",
          "text": [
            "100%|██████████| 938/938 [00:22<00:00, 42.27it/s, accuracy=0.969, loss=0.0729, lr=0.000344]\n"
          ]
        },
        {
          "name": "stdout",
          "output_type": "stream",
          "text": [
            "Epoch 9, Val Loss: 0.07707106050059043, Val Accuracy: 0.9751, Precision: 0.9752702624042282, Recall: 0.9751, F1 Score: 0.9750978790615602\n"
          ]
        },
        {
          "name": "stderr",
          "output_type": "stream",
          "text": [
            "100%|██████████| 938/938 [00:19<00:00, 47.96it/s, accuracy=1, loss=0.0248, lr=0.00031]\n"
          ]
        },
        {
          "name": "stdout",
          "output_type": "stream",
          "text": [
            "Epoch 10, Val Loss: 0.06879514525496182, Val Accuracy: 0.9786, Precision: 0.9787246855387348, Recall: 0.9786, F1 Score: 0.9786102668121169\n"
          ]
        },
        {
          "name": "stderr",
          "output_type": "stream",
          "text": [
            "100%|██████████| 938/938 [00:19<00:00, 47.71it/s, accuracy=1, loss=0.0105, lr=0.000279]\n"
          ]
        },
        {
          "name": "stdout",
          "output_type": "stream",
          "text": [
            "Epoch 11, Val Loss: 0.06566697381719336, Val Accuracy: 0.9793, Precision: 0.979344207674415, Recall: 0.9793, F1 Score: 0.9792974606024836\n"
          ]
        },
        {
          "name": "stderr",
          "output_type": "stream",
          "text": [
            "100%|██████████| 938/938 [00:20<00:00, 46.69it/s, accuracy=0.969, loss=0.0692, lr=0.000251]\n"
          ]
        },
        {
          "name": "stdout",
          "output_type": "stream",
          "text": [
            "Epoch 12, Val Loss: 0.0694076365588832, Val Accuracy: 0.979, Precision: 0.9790984820736567, Recall: 0.979, F1 Score: 0.9789901491079152\n"
          ]
        },
        {
          "name": "stderr",
          "output_type": "stream",
          "text": [
            "100%|██████████| 938/938 [00:19<00:00, 47.86it/s, accuracy=1, loss=0.00769, lr=0.000226]\n"
          ]
        },
        {
          "name": "stdout",
          "output_type": "stream",
          "text": [
            "Epoch 13, Val Loss: 0.06478962631461249, Val Accuracy: 0.9808, Precision: 0.9808735438363927, Recall: 0.9808, F1 Score: 0.9808041657208487\n"
          ]
        },
        {
          "name": "stderr",
          "output_type": "stream",
          "text": [
            "100%|██████████| 938/938 [00:19<00:00, 48.80it/s, accuracy=1, loss=0.0135, lr=0.000203]\n"
          ]
        },
        {
          "name": "stdout",
          "output_type": "stream",
          "text": [
            "Epoch 14, Val Loss: 0.06394946301048884, Val Accuracy: 0.9796, Precision: 0.9796929696377654, Recall: 0.9796, F1 Score: 0.9796012478690688\n"
          ]
        },
        {
          "name": "stderr",
          "output_type": "stream",
          "text": [
            "100%|██████████| 938/938 [00:20<00:00, 46.34it/s, accuracy=1, loss=0.0234, lr=0.000183]\n"
          ]
        },
        {
          "name": "stdout",
          "output_type": "stream",
          "text": [
            "Epoch 15, Val Loss: 0.06532956314987613, Val Accuracy: 0.9794, Precision: 0.9794743735099706, Recall: 0.9794, F1 Score: 0.9793975972911197\n"
          ]
        },
        {
          "name": "stderr",
          "output_type": "stream",
          "text": [
            "100%|██████████| 938/938 [00:19<00:00, 47.77it/s, accuracy=1, loss=0.0201, lr=0.000165]\n"
          ]
        },
        {
          "name": "stdout",
          "output_type": "stream",
          "text": [
            "Epoch 16, Val Loss: 0.07065431801385356, Val Accuracy: 0.9782, Precision: 0.9783769921444447, Recall: 0.9782, F1 Score: 0.9781860901677033\n"
          ]
        },
        {
          "name": "stderr",
          "output_type": "stream",
          "text": [
            "100%|██████████| 938/938 [00:19<00:00, 48.01it/s, accuracy=1, loss=0.00802, lr=0.000148]\n"
          ]
        },
        {
          "name": "stdout",
          "output_type": "stream",
          "text": [
            "Epoch 17, Val Loss: 0.06430312513195276, Val Accuracy: 0.9795, Precision: 0.9795576799562614, Recall: 0.9795, F1 Score: 0.9794963272361757\n"
          ]
        },
        {
          "name": "stderr",
          "output_type": "stream",
          "text": [
            "100%|██████████| 938/938 [00:19<00:00, 47.34it/s, accuracy=1, loss=0.000143, lr=0.000133]\n"
          ]
        },
        {
          "name": "stdout",
          "output_type": "stream",
          "text": [
            "Epoch 18, Val Loss: 0.06144837318438737, Val Accuracy: 0.9812, Precision: 0.9812321279403654, Recall: 0.9812, F1 Score: 0.9811989187167343\n"
          ]
        },
        {
          "name": "stderr",
          "output_type": "stream",
          "text": [
            "100%|██████████| 938/938 [00:19<00:00, 47.29it/s, accuracy=1, loss=0.00929, lr=0.00012]\n"
          ]
        },
        {
          "name": "stdout",
          "output_type": "stream",
          "text": [
            "Epoch 19, Val Loss: 0.06683102467038578, Val Accuracy: 0.9804, Precision: 0.9805674709173813, Recall: 0.9804, F1 Score: 0.9804020554976539\n"
          ]
        },
        {
          "name": "stderr",
          "output_type": "stream",
          "text": [
            "100%|██████████| 938/938 [00:19<00:00, 47.78it/s, accuracy=0.969, loss=0.116, lr=0.000108]\n"
          ]
        },
        {
          "name": "stdout",
          "output_type": "stream",
          "text": [
            "Epoch 20, Val Loss: 0.06291062351726633, Val Accuracy: 0.9813, Precision: 0.9813474176152785, Recall: 0.9813, F1 Score: 0.9812998146559816\n"
          ]
        },
        {
          "name": "stderr",
          "output_type": "stream",
          "text": [
            "100%|██████████| 938/938 [00:18<00:00, 49.74it/s, accuracy=1, loss=0.00744, lr=9.73e-5]\n"
          ]
        },
        {
          "name": "stdout",
          "output_type": "stream",
          "text": [
            "Epoch 21, Val Loss: 0.06410047028114194, Val Accuracy: 0.9809, Precision: 0.9809608765311896, Recall: 0.9809, F1 Score: 0.9808967612407902\n"
          ]
        },
        {
          "name": "stderr",
          "output_type": "stream",
          "text": [
            "100%|██████████| 938/938 [00:19<00:00, 47.77it/s, accuracy=1, loss=0.00402, lr=8.75e-5]\n"
          ]
        },
        {
          "name": "stdout",
          "output_type": "stream",
          "text": [
            "Epoch 22, Val Loss: 0.06274494032906984, Val Accuracy: 0.9812, Precision: 0.9812407370886387, Recall: 0.9812, F1 Score: 0.9811882482807008\n"
          ]
        },
        {
          "name": "stderr",
          "output_type": "stream",
          "text": [
            "100%|██████████| 938/938 [00:20<00:00, 45.74it/s, accuracy=1, loss=0.0063, lr=7.88e-5]\n"
          ]
        },
        {
          "name": "stdout",
          "output_type": "stream",
          "text": [
            "Epoch 23, Val Loss: 0.06277673465458274, Val Accuracy: 0.9809, Precision: 0.9809420904781302, Recall: 0.9809, F1 Score: 0.9808953498902591\n"
          ]
        },
        {
          "name": "stderr",
          "output_type": "stream",
          "text": [
            "100%|██████████| 938/938 [00:18<00:00, 49.61it/s, accuracy=1, loss=0.0191, lr=7.09e-5]\n"
          ]
        },
        {
          "name": "stdout",
          "output_type": "stream",
          "text": [
            "Epoch 24, Val Loss: 0.0623454020454345, Val Accuracy: 0.9817, Precision: 0.9817378898122686, Recall: 0.9817, F1 Score: 0.9816995125832944\n"
          ]
        },
        {
          "name": "stderr",
          "output_type": "stream",
          "text": [
            "100%|██████████| 938/938 [00:18<00:00, 50.74it/s, accuracy=1, loss=0.000292, lr=6.38e-5]\n"
          ]
        },
        {
          "name": "stdout",
          "output_type": "stream",
          "text": [
            "Epoch 25, Val Loss: 0.06200908105492304, Val Accuracy: 0.9822, Precision: 0.9822267235474985, Recall: 0.9822, F1 Score: 0.9822004666406445\n"
          ]
        },
        {
          "name": "stderr",
          "output_type": "stream",
          "text": [
            "100%|██████████| 938/938 [00:18<00:00, 51.60it/s, accuracy=1, loss=0.00439, lr=5.74e-5]\n"
          ]
        },
        {
          "name": "stdout",
          "output_type": "stream",
          "text": [
            "Epoch 26, Val Loss: 0.06325142555364738, Val Accuracy: 0.9818, Precision: 0.9818354867042391, Recall: 0.9818, F1 Score: 0.9817971382510013\n"
          ]
        },
        {
          "name": "stderr",
          "output_type": "stream",
          "text": [
            "100%|██████████| 938/938 [00:17<00:00, 53.31it/s, accuracy=1, loss=0.00509, lr=5.17e-5]\n"
          ]
        },
        {
          "name": "stdout",
          "output_type": "stream",
          "text": [
            "Epoch 27, Val Loss: 0.06295931525297871, Val Accuracy: 0.9815, Precision: 0.9815496611046179, Recall: 0.9815, F1 Score: 0.9814948866297698\n"
          ]
        },
        {
          "name": "stderr",
          "output_type": "stream",
          "text": [
            "100%|██████████| 938/938 [00:17<00:00, 54.28it/s, accuracy=1, loss=0.00177, lr=4.65e-5]\n"
          ]
        },
        {
          "name": "stdout",
          "output_type": "stream",
          "text": [
            "Epoch 28, Val Loss: 0.062421801866021615, Val Accuracy: 0.982, Precision: 0.9820144969982033, Recall: 0.982, F1 Score: 0.9819981920802673\n"
          ]
        },
        {
          "name": "stderr",
          "output_type": "stream",
          "text": [
            "100%|██████████| 938/938 [00:18<00:00, 50.94it/s, accuracy=1, loss=0.00649, lr=4.19e-5]\n"
          ]
        },
        {
          "name": "stdout",
          "output_type": "stream",
          "text": [
            "Epoch 29, Val Loss: 0.0617336609866586, Val Accuracy: 0.9818, Precision: 0.981822853383152, Recall: 0.9818, F1 Score: 0.9817966209817182\n"
          ]
        },
        {
          "name": "stderr",
          "output_type": "stream",
          "text": [
            "100%|██████████| 938/938 [00:19<00:00, 47.24it/s, accuracy=1, loss=0.00208, lr=3.77e-5]\n"
          ]
        },
        {
          "name": "stdout",
          "output_type": "stream",
          "text": [
            "Epoch 30, Val Loss: 0.06267413608091686, Val Accuracy: 0.9821, Precision: 0.9821175007588645, Recall: 0.9821, F1 Score: 0.9820935463287609\n"
          ]
        },
        {
          "name": "stderr",
          "output_type": "stream",
          "text": [
            "100%|██████████| 938/938 [00:19<00:00, 47.23it/s, accuracy=0.969, loss=0.0947, lr=0.0008]\n"
          ]
        },
        {
          "name": "stdout",
          "output_type": "stream",
          "text": [
            "Epoch 1, Val Loss: 0.1629946436391918, Val Accuracy: 0.9502, Precision: 0.9507067354581111, Recall: 0.9502, F1 Score: 0.9501826931344578\n"
          ]
        },
        {
          "name": "stderr",
          "output_type": "stream",
          "text": [
            "100%|██████████| 938/938 [00:19<00:00, 46.91it/s, accuracy=0.969, loss=0.0694, lr=0.00072]\n"
          ]
        },
        {
          "name": "stdout",
          "output_type": "stream",
          "text": [
            "Epoch 2, Val Loss: 0.11469967119472849, Val Accuracy: 0.9655, Precision: 0.9660938988114575, Recall: 0.9655, F1 Score: 0.9655292447394288\n"
          ]
        },
        {
          "name": "stderr",
          "output_type": "stream",
          "text": [
            "100%|██████████| 938/938 [00:19<00:00, 48.23it/s, accuracy=0.906, loss=0.18, lr=0.000648]\n"
          ]
        },
        {
          "name": "stdout",
          "output_type": "stream",
          "text": [
            "Epoch 3, Val Loss: 0.11258696716880888, Val Accuracy: 0.9648, Precision: 0.9661252510812004, Recall: 0.9648, F1 Score: 0.9649119335791012\n"
          ]
        },
        {
          "name": "stderr",
          "output_type": "stream",
          "text": [
            "100%|██████████| 938/938 [00:17<00:00, 53.03it/s, accuracy=1, loss=0.00936, lr=0.000583]\n"
          ]
        },
        {
          "name": "stdout",
          "output_type": "stream",
          "text": [
            "Epoch 4, Val Loss: 0.0839128429876495, Val Accuracy: 0.9738, Precision: 0.9740112394484884, Recall: 0.9738, F1 Score: 0.9737938776965411\n"
          ]
        },
        {
          "name": "stderr",
          "output_type": "stream",
          "text": [
            "100%|██████████| 938/938 [00:17<00:00, 53.00it/s, accuracy=0.969, loss=0.095, lr=0.000525]\n"
          ]
        },
        {
          "name": "stdout",
          "output_type": "stream",
          "text": [
            "Epoch 5, Val Loss: 0.0815187577745109, Val Accuracy: 0.9744, Precision: 0.9746080193979658, Recall: 0.9744, F1 Score: 0.9744094117919816\n"
          ]
        },
        {
          "name": "stderr",
          "output_type": "stream",
          "text": [
            "100%|██████████| 938/938 [00:18<00:00, 51.80it/s, accuracy=1, loss=0.0254, lr=0.000472]\n"
          ]
        },
        {
          "name": "stdout",
          "output_type": "stream",
          "text": [
            "Epoch 6, Val Loss: 0.07898162514198227, Val Accuracy: 0.976, Precision: 0.9763727797822462, Recall: 0.976, F1 Score: 0.9760473013788578\n"
          ]
        },
        {
          "name": "stderr",
          "output_type": "stream",
          "text": [
            "100%|██████████| 938/938 [00:17<00:00, 53.13it/s, accuracy=1, loss=0.00496, lr=0.000425]\n"
          ]
        },
        {
          "name": "stdout",
          "output_type": "stream",
          "text": [
            "Epoch 7, Val Loss: 0.07368888632565103, Val Accuracy: 0.9773, Precision: 0.9775046559538004, Recall: 0.9773, F1 Score: 0.977312434383232\n"
          ]
        },
        {
          "name": "stderr",
          "output_type": "stream",
          "text": [
            "100%|██████████| 938/938 [00:19<00:00, 48.80it/s, accuracy=1, loss=0.00721, lr=0.000383]\n"
          ]
        },
        {
          "name": "stdout",
          "output_type": "stream",
          "text": [
            "Epoch 8, Val Loss: 0.06362253207113493, Val Accuracy: 0.9801, Precision: 0.9801933746054238, Recall: 0.9801, F1 Score: 0.9800928833157259\n"
          ]
        },
        {
          "name": "stderr",
          "output_type": "stream",
          "text": [
            "100%|██████████| 938/938 [00:17<00:00, 52.35it/s, accuracy=1, loss=0.0223, lr=0.000344]\n"
          ]
        },
        {
          "name": "stdout",
          "output_type": "stream",
          "text": [
            "Epoch 9, Val Loss: 0.06506242823756818, Val Accuracy: 0.9793, Precision: 0.9794038206485626, Recall: 0.9793, F1 Score: 0.9792991961976081\n"
          ]
        },
        {
          "name": "stderr",
          "output_type": "stream",
          "text": [
            "100%|██████████| 938/938 [00:17<00:00, 52.82it/s, accuracy=0.969, loss=0.0445, lr=0.00031]\n"
          ]
        },
        {
          "name": "stdout",
          "output_type": "stream",
          "text": [
            "Epoch 10, Val Loss: 0.06295413791825238, Val Accuracy: 0.9801, Precision: 0.9801675722017266, Recall: 0.9801, F1 Score: 0.9800905747798868\n"
          ]
        },
        {
          "name": "stderr",
          "output_type": "stream",
          "text": [
            "100%|██████████| 938/938 [00:17<00:00, 52.87it/s, accuracy=1, loss=0.0335, lr=0.000279]\n"
          ]
        },
        {
          "name": "stdout",
          "output_type": "stream",
          "text": [
            "Epoch 11, Val Loss: 0.0648057467620373, Val Accuracy: 0.9801, Precision: 0.9801935808595845, Recall: 0.9801, F1 Score: 0.9801023841596691\n"
          ]
        },
        {
          "name": "stderr",
          "output_type": "stream",
          "text": [
            "100%|██████████| 938/938 [00:17<00:00, 52.90it/s, accuracy=0.969, loss=0.032, lr=0.000251]\n"
          ]
        },
        {
          "name": "stdout",
          "output_type": "stream",
          "text": [
            "Epoch 12, Val Loss: 0.05565792954182323, Val Accuracy: 0.9819, Precision: 0.9819190401293195, Recall: 0.9819, F1 Score: 0.9819017725510437\n"
          ]
        },
        {
          "name": "stderr",
          "output_type": "stream",
          "text": [
            "100%|██████████| 938/938 [00:17<00:00, 52.88it/s, accuracy=1, loss=0.00143, lr=0.000226]\n"
          ]
        },
        {
          "name": "stdout",
          "output_type": "stream",
          "text": [
            "Epoch 13, Val Loss: 0.06353152341616342, Val Accuracy: 0.9794, Precision: 0.9796054979473001, Recall: 0.9794, F1 Score: 0.9794272316572373\n"
          ]
        },
        {
          "name": "stderr",
          "output_type": "stream",
          "text": [
            "100%|██████████| 938/938 [00:18<00:00, 51.99it/s, accuracy=1, loss=0.0341, lr=0.000203]\n"
          ]
        },
        {
          "name": "stdout",
          "output_type": "stream",
          "text": [
            "Epoch 14, Val Loss: 0.06330025759366638, Val Accuracy: 0.9802, Precision: 0.9803575954079022, Recall: 0.9802, F1 Score: 0.9802124148937266\n"
          ]
        },
        {
          "name": "stderr",
          "output_type": "stream",
          "text": [
            "100%|██████████| 938/938 [00:17<00:00, 53.43it/s, accuracy=1, loss=0.00284, lr=0.000183]\n"
          ]
        },
        {
          "name": "stdout",
          "output_type": "stream",
          "text": [
            "Epoch 15, Val Loss: 0.06254902449818125, Val Accuracy: 0.9808, Precision: 0.9809282769453468, Recall: 0.9808, F1 Score: 0.9808088626151146\n"
          ]
        },
        {
          "name": "stderr",
          "output_type": "stream",
          "text": [
            "100%|██████████| 938/938 [00:17<00:00, 53.52it/s, accuracy=1, loss=0.000786, lr=0.000165]\n"
          ]
        },
        {
          "name": "stdout",
          "output_type": "stream",
          "text": [
            "Epoch 16, Val Loss: 0.05754262443251081, Val Accuracy: 0.9828, Precision: 0.9828199511941758, Recall: 0.9828, F1 Score: 0.9827994297806306\n"
          ]
        },
        {
          "name": "stderr",
          "output_type": "stream",
          "text": [
            "100%|██████████| 938/938 [00:18<00:00, 51.68it/s, accuracy=1, loss=0.00658, lr=0.000148]\n"
          ]
        },
        {
          "name": "stdout",
          "output_type": "stream",
          "text": [
            "Epoch 17, Val Loss: 0.05858694993513515, Val Accuracy: 0.983, Precision: 0.9830564384245186, Recall: 0.983, F1 Score: 0.9829960801102329\n"
          ]
        },
        {
          "name": "stderr",
          "output_type": "stream",
          "text": [
            "100%|██████████| 938/938 [00:17<00:00, 52.52it/s, accuracy=1, loss=0.0248, lr=0.000133]\n"
          ]
        },
        {
          "name": "stdout",
          "output_type": "stream",
          "text": [
            "Epoch 18, Val Loss: 0.05969872801652409, Val Accuracy: 0.9815, Precision: 0.9815259521993633, Recall: 0.9815, F1 Score: 0.9814958371355831\n"
          ]
        },
        {
          "name": "stderr",
          "output_type": "stream",
          "text": [
            "100%|██████████| 938/938 [00:17<00:00, 53.31it/s, accuracy=1, loss=0.00714, lr=0.00012]\n"
          ]
        },
        {
          "name": "stdout",
          "output_type": "stream",
          "text": [
            "Epoch 19, Val Loss: 0.05824004545364376, Val Accuracy: 0.9819, Precision: 0.9819548782569498, Recall: 0.9819, F1 Score: 0.9819038003366489\n"
          ]
        },
        {
          "name": "stderr",
          "output_type": "stream",
          "text": [
            "100%|██████████| 938/938 [00:17<00:00, 52.74it/s, accuracy=1, loss=0.00174, lr=0.000108]\n"
          ]
        },
        {
          "name": "stdout",
          "output_type": "stream",
          "text": [
            "Epoch 20, Val Loss: 0.05807066400673903, Val Accuracy: 0.9828, Precision: 0.982887416280525, Recall: 0.9828, F1 Score: 0.9828146797619692\n"
          ]
        },
        {
          "name": "stderr",
          "output_type": "stream",
          "text": [
            "100%|██████████| 938/938 [00:17<00:00, 53.25it/s, accuracy=1, loss=0.000882, lr=9.73e-5]\n"
          ]
        },
        {
          "name": "stdout",
          "output_type": "stream",
          "text": [
            "Epoch 21, Val Loss: 0.06113613654399484, Val Accuracy: 0.9817, Precision: 0.9817970655668181, Recall: 0.9817, F1 Score: 0.981704551486665\n"
          ]
        },
        {
          "name": "stderr",
          "output_type": "stream",
          "text": [
            "100%|██████████| 938/938 [00:18<00:00, 51.78it/s, accuracy=1, loss=0.00418, lr=8.75e-5]\n"
          ]
        },
        {
          "name": "stdout",
          "output_type": "stream",
          "text": [
            "Epoch 22, Val Loss: 0.05831640976619058, Val Accuracy: 0.9832, Precision: 0.9832193696140715, Recall: 0.9832, F1 Score: 0.9832012283456645\n"
          ]
        },
        {
          "name": "stderr",
          "output_type": "stream",
          "text": [
            "100%|██████████| 938/938 [00:18<00:00, 49.97it/s, accuracy=1, loss=0.000376, lr=7.88e-5]\n"
          ]
        },
        {
          "name": "stdout",
          "output_type": "stream",
          "text": [
            "Epoch 23, Val Loss: 0.05816475078836447, Val Accuracy: 0.9833, Precision: 0.9833165757899222, Recall: 0.9833, F1 Score: 0.9832971451174078\n"
          ]
        },
        {
          "name": "stderr",
          "output_type": "stream",
          "text": [
            "100%|██████████| 938/938 [00:17<00:00, 54.45it/s, accuracy=1, loss=0.0047, lr=7.09e-5]\n"
          ]
        },
        {
          "name": "stdout",
          "output_type": "stream",
          "text": [
            "Epoch 24, Val Loss: 0.057594041717968406, Val Accuracy: 0.9842, Precision: 0.9842084179072652, Recall: 0.9842, F1 Score: 0.984197524985614\n"
          ]
        },
        {
          "name": "stderr",
          "output_type": "stream",
          "text": [
            "100%|██████████| 938/938 [00:17<00:00, 53.61it/s, accuracy=1, loss=0.00174, lr=6.38e-5]\n"
          ]
        },
        {
          "name": "stdout",
          "output_type": "stream",
          "text": [
            "Epoch 25, Val Loss: 0.05831413428768283, Val Accuracy: 0.9836, Precision: 0.983616715306684, Recall: 0.9836, F1 Score: 0.9835999758301276\n"
          ]
        },
        {
          "name": "stderr",
          "output_type": "stream",
          "text": [
            "100%|██████████| 938/938 [00:17<00:00, 53.44it/s, accuracy=1, loss=0.000475, lr=5.74e-5]\n"
          ]
        },
        {
          "name": "stdout",
          "output_type": "stream",
          "text": [
            "Epoch 26, Val Loss: 0.05690075596608243, Val Accuracy: 0.9841, Precision: 0.9841053249422522, Recall: 0.9841, F1 Score: 0.984098490622887\n"
          ]
        },
        {
          "name": "stderr",
          "output_type": "stream",
          "text": [
            "100%|██████████| 938/938 [00:17<00:00, 53.62it/s, accuracy=1, loss=0.0005, lr=5.17e-5]\n"
          ]
        },
        {
          "name": "stdout",
          "output_type": "stream",
          "text": [
            "Epoch 27, Val Loss: 0.05861129913930466, Val Accuracy: 0.983, Precision: 0.9830034418229294, Recall: 0.983, F1 Score: 0.9829938022463793\n"
          ]
        },
        {
          "name": "stderr",
          "output_type": "stream",
          "text": [
            "100%|██████████| 938/938 [00:17<00:00, 53.69it/s, accuracy=1, loss=0.0118, lr=4.65e-5]\n"
          ]
        },
        {
          "name": "stdout",
          "output_type": "stream",
          "text": [
            "Epoch 28, Val Loss: 0.05971082029746711, Val Accuracy: 0.9837, Precision: 0.9837279860538056, Recall: 0.9837, F1 Score: 0.9837019643102219\n"
          ]
        },
        {
          "name": "stderr",
          "output_type": "stream",
          "text": [
            "100%|██████████| 938/938 [00:17<00:00, 53.62it/s, accuracy=1, loss=0.00101, lr=4.19e-5]\n"
          ]
        },
        {
          "name": "stdout",
          "output_type": "stream",
          "text": [
            "Epoch 29, Val Loss: 0.057985586741370714, Val Accuracy: 0.9834, Precision: 0.9834046756707565, Recall: 0.9834, F1 Score: 0.9833970588229489\n"
          ]
        },
        {
          "name": "stderr",
          "output_type": "stream",
          "text": [
            "100%|██████████| 938/938 [00:17<00:00, 52.63it/s, accuracy=1, loss=0.000229, lr=3.77e-5]\n"
          ]
        },
        {
          "name": "stdout",
          "output_type": "stream",
          "text": [
            "Epoch 30, Val Loss: 0.058058925680584864, Val Accuracy: 0.9842, Precision: 0.9841982103480025, Recall: 0.9842, F1 Score: 0.9841955673466295\n"
          ]
        },
        {
          "name": "stderr",
          "output_type": "stream",
          "text": [
            "100%|██████████| 938/938 [00:18<00:00, 51.22it/s, accuracy=0.969, loss=0.245, lr=0.0008]\n"
          ]
        },
        {
          "name": "stdout",
          "output_type": "stream",
          "text": [
            "Epoch 1, Val Loss: 0.15033062010600118, Val Accuracy: 0.9556, Precision: 0.9566045545015184, Recall: 0.9556, F1 Score: 0.9555677601501211\n"
          ]
        },
        {
          "name": "stderr",
          "output_type": "stream",
          "text": [
            "100%|██████████| 938/938 [00:17<00:00, 52.84it/s, accuracy=0.969, loss=0.0631, lr=0.00072]\n"
          ]
        },
        {
          "name": "stdout",
          "output_type": "stream",
          "text": [
            "Epoch 2, Val Loss: 0.09781612469785057, Val Accuracy: 0.9696, Precision: 0.969673494737692, Recall: 0.9696, F1 Score: 0.9695769248118075\n"
          ]
        },
        {
          "name": "stderr",
          "output_type": "stream",
          "text": [
            "100%|██████████| 938/938 [00:17<00:00, 53.17it/s, accuracy=1, loss=0.0115, lr=0.000648]\n"
          ]
        },
        {
          "name": "stdout",
          "output_type": "stream",
          "text": [
            "Epoch 3, Val Loss: 0.08779104867435482, Val Accuracy: 0.9734, Precision: 0.9736133454572131, Recall: 0.9734, F1 Score: 0.9734169726045556\n"
          ]
        },
        {
          "name": "stderr",
          "output_type": "stream",
          "text": [
            "100%|██████████| 938/938 [00:17<00:00, 53.47it/s, accuracy=1, loss=0.00739, lr=0.000583]\n"
          ]
        },
        {
          "name": "stdout",
          "output_type": "stream",
          "text": [
            "Epoch 4, Val Loss: 0.08110882999279254, Val Accuracy: 0.9751, Precision: 0.9753078445013014, Recall: 0.9751, F1 Score: 0.9750974921786534\n"
          ]
        },
        {
          "name": "stderr",
          "output_type": "stream",
          "text": [
            "100%|██████████| 938/938 [00:17<00:00, 52.34it/s, accuracy=1, loss=0.0295, lr=0.000525]\n"
          ]
        },
        {
          "name": "stdout",
          "output_type": "stream",
          "text": [
            "Epoch 5, Val Loss: 0.08448577943891228, Val Accuracy: 0.9745, Precision: 0.9747908140272386, Recall: 0.9745, F1 Score: 0.9745078655686591\n"
          ]
        },
        {
          "name": "stderr",
          "output_type": "stream",
          "text": [
            "100%|██████████| 938/938 [00:17<00:00, 54.28it/s, accuracy=1, loss=0.00447, lr=0.000472]\n"
          ]
        },
        {
          "name": "stdout",
          "output_type": "stream",
          "text": [
            "Epoch 6, Val Loss: 0.07186215278748341, Val Accuracy: 0.9778, Precision: 0.9779415785163347, Recall: 0.9778, F1 Score: 0.977802304507195\n"
          ]
        },
        {
          "name": "stderr",
          "output_type": "stream",
          "text": [
            "100%|██████████| 938/938 [00:17<00:00, 53.85it/s, accuracy=1, loss=0.0216, lr=0.000425]\n"
          ]
        },
        {
          "name": "stdout",
          "output_type": "stream",
          "text": [
            "Epoch 7, Val Loss: 0.06810870858254212, Val Accuracy: 0.9802, Precision: 0.9802557845195528, Recall: 0.9802, F1 Score: 0.9801981016003921\n"
          ]
        },
        {
          "name": "stderr",
          "output_type": "stream",
          "text": [
            "100%|██████████| 938/938 [00:17<00:00, 53.75it/s, accuracy=0.969, loss=0.0431, lr=0.000383]\n"
          ]
        },
        {
          "name": "stdout",
          "output_type": "stream",
          "text": [
            "Epoch 8, Val Loss: 0.06805000925785305, Val Accuracy: 0.9792, Precision: 0.9792800751496524, Recall: 0.9792, F1 Score: 0.9791916866222484\n"
          ]
        },
        {
          "name": "stderr",
          "output_type": "stream",
          "text": [
            "100%|██████████| 938/938 [00:19<00:00, 48.06it/s, accuracy=1, loss=0.0075, lr=0.000344]\n"
          ]
        },
        {
          "name": "stdout",
          "output_type": "stream",
          "text": [
            "Epoch 9, Val Loss: 0.07081464147124314, Val Accuracy: 0.9785, Precision: 0.9787377934198128, Recall: 0.9785, F1 Score: 0.9785109788693394\n"
          ]
        },
        {
          "name": "stderr",
          "output_type": "stream",
          "text": [
            "100%|██████████| 938/938 [00:18<00:00, 50.45it/s, accuracy=1, loss=0.00301, lr=0.00031]\n"
          ]
        },
        {
          "name": "stdout",
          "output_type": "stream",
          "text": [
            "Epoch 10, Val Loss: 0.06991994219688828, Val Accuracy: 0.9798, Precision: 0.9799233331697981, Recall: 0.9798, F1 Score: 0.9798010955608606\n"
          ]
        },
        {
          "name": "stderr",
          "output_type": "stream",
          "text": [
            "100%|██████████| 938/938 [00:18<00:00, 52.10it/s, accuracy=1, loss=0.0166, lr=0.000279]\n"
          ]
        },
        {
          "name": "stdout",
          "output_type": "stream",
          "text": [
            "Epoch 11, Val Loss: 0.06720932525536083, Val Accuracy: 0.9814, Precision: 0.9814631486460499, Recall: 0.9814, F1 Score: 0.9813927572185216\n"
          ]
        },
        {
          "name": "stderr",
          "output_type": "stream",
          "text": [
            "100%|██████████| 938/938 [00:17<00:00, 54.15it/s, accuracy=1, loss=0.00153, lr=0.000251]\n"
          ]
        },
        {
          "name": "stdout",
          "output_type": "stream",
          "text": [
            "Epoch 12, Val Loss: 0.07377997005735946, Val Accuracy: 0.9791, Precision: 0.9792899511071963, Recall: 0.9791, F1 Score: 0.9790856979546888\n"
          ]
        },
        {
          "name": "stderr",
          "output_type": "stream",
          "text": [
            "100%|██████████| 938/938 [00:17<00:00, 53.47it/s, accuracy=1, loss=0.00249, lr=0.000226]\n"
          ]
        },
        {
          "name": "stdout",
          "output_type": "stream",
          "text": [
            "Epoch 13, Val Loss: 0.05972753235352111, Val Accuracy: 0.9831, Precision: 0.9831083353548636, Recall: 0.9831, F1 Score: 0.9830991950106832\n"
          ]
        },
        {
          "name": "stderr",
          "output_type": "stream",
          "text": [
            "100%|██████████| 938/938 [00:18<00:00, 51.17it/s, accuracy=1, loss=0.0148, lr=0.000203]\n"
          ]
        },
        {
          "name": "stdout",
          "output_type": "stream",
          "text": [
            "Epoch 14, Val Loss: 0.06249028208543341, Val Accuracy: 0.9822, Precision: 0.9822810420611257, Recall: 0.9822, F1 Score: 0.9822040491864438\n"
          ]
        },
        {
          "name": "stderr",
          "output_type": "stream",
          "text": [
            "100%|██████████| 938/938 [00:17<00:00, 53.60it/s, accuracy=1, loss=0.00678, lr=0.000183]\n"
          ]
        },
        {
          "name": "stdout",
          "output_type": "stream",
          "text": [
            "Epoch 15, Val Loss: 0.06262667144524622, Val Accuracy: 0.9814, Precision: 0.9814666978447378, Recall: 0.9814, F1 Score: 0.9814110314212998\n"
          ]
        },
        {
          "name": "stderr",
          "output_type": "stream",
          "text": [
            "100%|██████████| 938/938 [00:17<00:00, 53.34it/s, accuracy=1, loss=0.0164, lr=0.000165]\n"
          ]
        },
        {
          "name": "stdout",
          "output_type": "stream",
          "text": [
            "Epoch 16, Val Loss: 0.06180858301176141, Val Accuracy: 0.9821, Precision: 0.9821097720403688, Recall: 0.9821, F1 Score: 0.9820984647270187\n"
          ]
        },
        {
          "name": "stderr",
          "output_type": "stream",
          "text": [
            "100%|██████████| 938/938 [00:17<00:00, 53.51it/s, accuracy=1, loss=0.00102, lr=0.000148]\n"
          ]
        },
        {
          "name": "stdout",
          "output_type": "stream",
          "text": [
            "Epoch 17, Val Loss: 0.06136562862378356, Val Accuracy: 0.9824, Precision: 0.9824113247281477, Recall: 0.9824, F1 Score: 0.9823949379387669\n"
          ]
        },
        {
          "name": "stderr",
          "output_type": "stream",
          "text": [
            "100%|██████████| 938/938 [00:17<00:00, 52.94it/s, accuracy=1, loss=0.0027, lr=0.000133]\n"
          ]
        },
        {
          "name": "stdout",
          "output_type": "stream",
          "text": [
            "Epoch 18, Val Loss: 0.059101918751030616, Val Accuracy: 0.9833, Precision: 0.9833108999960668, Recall: 0.9833, F1 Score: 0.9832997990216691\n"
          ]
        },
        {
          "name": "stderr",
          "output_type": "stream",
          "text": [
            "100%|██████████| 938/938 [00:17<00:00, 52.40it/s, accuracy=1, loss=0.00117, lr=0.00012]\n"
          ]
        },
        {
          "name": "stdout",
          "output_type": "stream",
          "text": [
            "Epoch 19, Val Loss: 0.06524130433289702, Val Accuracy: 0.9831, Precision: 0.9831849729161107, Recall: 0.9831, F1 Score: 0.9831064820948572\n"
          ]
        },
        {
          "name": "stderr",
          "output_type": "stream",
          "text": [
            "100%|██████████| 938/938 [00:17<00:00, 53.27it/s, accuracy=1, loss=0.000607, lr=0.000108]\n"
          ]
        },
        {
          "name": "stdout",
          "output_type": "stream",
          "text": [
            "Epoch 20, Val Loss: 0.06299180718725687, Val Accuracy: 0.9833, Precision: 0.9833159885812154, Recall: 0.9833, F1 Score: 0.9832933519383834\n"
          ]
        },
        {
          "name": "stderr",
          "output_type": "stream",
          "text": [
            "100%|██████████| 938/938 [00:17<00:00, 52.92it/s, accuracy=1, loss=0.00127, lr=9.73e-5]\n"
          ]
        },
        {
          "name": "stdout",
          "output_type": "stream",
          "text": [
            "Epoch 21, Val Loss: 0.06253297172633034, Val Accuracy: 0.9836, Precision: 0.9836234956586132, Recall: 0.9836, F1 Score: 0.9835975631664718\n"
          ]
        },
        {
          "name": "stderr",
          "output_type": "stream",
          "text": [
            "100%|██████████| 938/938 [00:17<00:00, 52.86it/s, accuracy=1, loss=0.00246, lr=8.75e-5]\n"
          ]
        },
        {
          "name": "stdout",
          "output_type": "stream",
          "text": [
            "Epoch 22, Val Loss: 0.06469947713932901, Val Accuracy: 0.9826, Precision: 0.982608447838878, Recall: 0.9826, F1 Score: 0.9825911101036647\n"
          ]
        },
        {
          "name": "stderr",
          "output_type": "stream",
          "text": [
            "100%|██████████| 938/938 [00:18<00:00, 51.90it/s, accuracy=1, loss=0.000452, lr=7.88e-5]\n"
          ]
        },
        {
          "name": "stdout",
          "output_type": "stream",
          "text": [
            "Epoch 23, Val Loss: 0.062190973284410214, Val Accuracy: 0.9835, Precision: 0.9835184283879904, Recall: 0.9835, F1 Score: 0.9834947139125494\n"
          ]
        },
        {
          "name": "stderr",
          "output_type": "stream",
          "text": [
            "100%|██████████| 938/938 [00:19<00:00, 48.14it/s, accuracy=1, loss=0.0011, lr=7.09e-5]\n"
          ]
        },
        {
          "name": "stdout",
          "output_type": "stream",
          "text": [
            "Epoch 24, Val Loss: 0.06261759850739347, Val Accuracy: 0.9835, Precision: 0.9834980983171392, Recall: 0.9835, F1 Score: 0.983494603140012\n"
          ]
        },
        {
          "name": "stderr",
          "output_type": "stream",
          "text": [
            "100%|██████████| 938/938 [00:18<00:00, 51.89it/s, accuracy=1, loss=0.00292, lr=6.38e-5]\n"
          ]
        },
        {
          "name": "stdout",
          "output_type": "stream",
          "text": [
            "Epoch 25, Val Loss: 0.06292570317581214, Val Accuracy: 0.9834, Precision: 0.983403682826173, Recall: 0.9834, F1 Score: 0.9833941080722652\n"
          ]
        },
        {
          "name": "stderr",
          "output_type": "stream",
          "text": [
            "100%|██████████| 938/938 [00:17<00:00, 52.17it/s, accuracy=1, loss=0.000368, lr=5.74e-5]\n"
          ]
        },
        {
          "name": "stdout",
          "output_type": "stream",
          "text": [
            "Epoch 26, Val Loss: 0.06343049599959347, Val Accuracy: 0.9835, Precision: 0.9835067324093625, Recall: 0.9835, F1 Score: 0.9834948723279485\n"
          ]
        },
        {
          "name": "stderr",
          "output_type": "stream",
          "text": [
            "100%|██████████| 938/938 [00:17<00:00, 53.04it/s, accuracy=1, loss=0.006, lr=5.17e-5]\n"
          ]
        },
        {
          "name": "stdout",
          "output_type": "stream",
          "text": [
            "Epoch 27, Val Loss: 0.0640276403015127, Val Accuracy: 0.9832, Precision: 0.9832083768755938, Recall: 0.9832, F1 Score: 0.9831965000633861\n"
          ]
        },
        {
          "name": "stderr",
          "output_type": "stream",
          "text": [
            "100%|██████████| 938/938 [00:18<00:00, 51.82it/s, accuracy=1, loss=0.000306, lr=4.65e-5]\n"
          ]
        },
        {
          "name": "stdout",
          "output_type": "stream",
          "text": [
            "Epoch 28, Val Loss: 0.06438869679685383, Val Accuracy: 0.9833, Precision: 0.9833055518368378, Recall: 0.9833, F1 Score: 0.9832985294402459\n"
          ]
        },
        {
          "name": "stderr",
          "output_type": "stream",
          "text": [
            "100%|██████████| 938/938 [00:17<00:00, 52.77it/s, accuracy=1, loss=0.000837, lr=4.19e-5]\n"
          ]
        },
        {
          "name": "stdout",
          "output_type": "stream",
          "text": [
            "Epoch 29, Val Loss: 0.06542357564890323, Val Accuracy: 0.9832, Precision: 0.9832063441908031, Recall: 0.9832, F1 Score: 0.9831943467213682\n"
          ]
        },
        {
          "name": "stderr",
          "output_type": "stream",
          "text": [
            "100%|██████████| 938/938 [00:18<00:00, 51.46it/s, accuracy=1, loss=5.97e-5, lr=3.77e-5]\n"
          ]
        },
        {
          "name": "stdout",
          "output_type": "stream",
          "text": [
            "Epoch 30, Val Loss: 0.06495608789503633, Val Accuracy: 0.9843, Precision: 0.9843112149475972, Recall: 0.9843, F1 Score: 0.9842996995368875\n"
          ]
        },
        {
          "name": "stderr",
          "output_type": "stream",
          "text": [
            "100%|██████████| 938/938 [00:18<00:00, 50.63it/s, accuracy=0.906, loss=0.328, lr=0.0008]\n"
          ]
        },
        {
          "name": "stdout",
          "output_type": "stream",
          "text": [
            "Epoch 1, Val Loss: 0.13684480557971557, Val Accuracy: 0.9589, Precision: 0.9593396829061487, Recall: 0.9589, F1 Score: 0.9588086420616111\n"
          ]
        },
        {
          "name": "stderr",
          "output_type": "stream",
          "text": [
            "100%|██████████| 938/938 [00:18<00:00, 51.73it/s, accuracy=0.969, loss=0.19, lr=0.00072]\n"
          ]
        },
        {
          "name": "stdout",
          "output_type": "stream",
          "text": [
            "Epoch 2, Val Loss: 0.10009609555616489, Val Accuracy: 0.9696, Precision: 0.9699862443493205, Recall: 0.9696, F1 Score: 0.96960018989534\n"
          ]
        },
        {
          "name": "stderr",
          "output_type": "stream",
          "text": [
            "100%|██████████| 938/938 [00:17<00:00, 52.94it/s, accuracy=1, loss=0.00637, lr=0.000648]\n"
          ]
        },
        {
          "name": "stdout",
          "output_type": "stream",
          "text": [
            "Epoch 3, Val Loss: 0.09126629818758815, Val Accuracy: 0.9733, Precision: 0.9737831921854695, Recall: 0.9733, F1 Score: 0.9733281070544877\n"
          ]
        },
        {
          "name": "stderr",
          "output_type": "stream",
          "text": [
            "100%|██████████| 938/938 [00:18<00:00, 51.83it/s, accuracy=1, loss=0.00622, lr=0.000583]\n"
          ]
        },
        {
          "name": "stdout",
          "output_type": "stream",
          "text": [
            "Epoch 4, Val Loss: 0.09268729898364544, Val Accuracy: 0.9727, Precision: 0.9730595092712582, Recall: 0.9727, F1 Score: 0.9726883086196831\n"
          ]
        },
        {
          "name": "stderr",
          "output_type": "stream",
          "text": [
            "100%|██████████| 938/938 [00:17<00:00, 52.21it/s, accuracy=0.969, loss=0.1, lr=0.000525]\n"
          ]
        },
        {
          "name": "stdout",
          "output_type": "stream",
          "text": [
            "Epoch 5, Val Loss: 0.0727668124736564, Val Accuracy: 0.978, Precision: 0.9782003151354527, Recall: 0.978, F1 Score: 0.9780131655005154\n"
          ]
        },
        {
          "name": "stderr",
          "output_type": "stream",
          "text": [
            "100%|██████████| 938/938 [00:17<00:00, 52.65it/s, accuracy=1, loss=0.023, lr=0.000472]\n"
          ]
        },
        {
          "name": "stdout",
          "output_type": "stream",
          "text": [
            "Epoch 6, Val Loss: 0.06361382348335216, Val Accuracy: 0.9795, Precision: 0.9795732931293529, Recall: 0.9795, F1 Score: 0.9794786696150044\n"
          ]
        },
        {
          "name": "stderr",
          "output_type": "stream",
          "text": [
            "100%|██████████| 938/938 [00:18<00:00, 52.06it/s, accuracy=1, loss=0.00168, lr=0.000425]\n"
          ]
        },
        {
          "name": "stdout",
          "output_type": "stream",
          "text": [
            "Epoch 7, Val Loss: 0.05745749019750373, Val Accuracy: 0.9821, Precision: 0.9821327315147084, Recall: 0.9821, F1 Score: 0.9821001453418856\n"
          ]
        },
        {
          "name": "stderr",
          "output_type": "stream",
          "text": [
            "100%|██████████| 938/938 [00:20<00:00, 45.89it/s, accuracy=1, loss=0.0107, lr=0.000383]\n"
          ]
        },
        {
          "name": "stdout",
          "output_type": "stream",
          "text": [
            "Epoch 8, Val Loss: 0.06483642207339975, Val Accuracy: 0.9805, Precision: 0.9806346085868641, Recall: 0.9805, F1 Score: 0.9804983321764357\n"
          ]
        },
        {
          "name": "stderr",
          "output_type": "stream",
          "text": [
            "100%|██████████| 938/938 [00:18<00:00, 51.59it/s, accuracy=1, loss=0.0168, lr=0.000344]\n"
          ]
        },
        {
          "name": "stdout",
          "output_type": "stream",
          "text": [
            "Epoch 9, Val Loss: 0.05878587213703016, Val Accuracy: 0.9825, Precision: 0.9825890312154132, Recall: 0.9825, F1 Score: 0.982501953306626\n"
          ]
        },
        {
          "name": "stderr",
          "output_type": "stream",
          "text": [
            "100%|██████████| 938/938 [00:18<00:00, 51.04it/s, accuracy=1, loss=0.0184, lr=0.00031]\n"
          ]
        },
        {
          "name": "stdout",
          "output_type": "stream",
          "text": [
            "Epoch 10, Val Loss: 0.06318844315634575, Val Accuracy: 0.9814, Precision: 0.9814939380497945, Recall: 0.9814, F1 Score: 0.9814083705160036\n"
          ]
        },
        {
          "name": "stderr",
          "output_type": "stream",
          "text": [
            "100%|██████████| 938/938 [00:18<00:00, 51.59it/s, accuracy=1, loss=0.00783, lr=0.000279]\n"
          ]
        },
        {
          "name": "stdout",
          "output_type": "stream",
          "text": [
            "Epoch 11, Val Loss: 0.06222322130934059, Val Accuracy: 0.9824, Precision: 0.9824689243487459, Recall: 0.9824, F1 Score: 0.9824070525718315\n"
          ]
        },
        {
          "name": "stderr",
          "output_type": "stream",
          "text": [
            "100%|██████████| 938/938 [00:17<00:00, 52.22it/s, accuracy=1, loss=0.0147, lr=0.000251]\n"
          ]
        },
        {
          "name": "stdout",
          "output_type": "stream",
          "text": [
            "Epoch 12, Val Loss: 0.06299100349549303, Val Accuracy: 0.9834, Precision: 0.983457791752162, Recall: 0.9834, F1 Score: 0.9833928966027355\n"
          ]
        },
        {
          "name": "stderr",
          "output_type": "stream",
          "text": [
            "100%|██████████| 938/938 [00:18<00:00, 51.28it/s, accuracy=0.969, loss=0.056, lr=0.000226]\n"
          ]
        },
        {
          "name": "stdout",
          "output_type": "stream",
          "text": [
            "Epoch 13, Val Loss: 0.061459051021973986, Val Accuracy: 0.983, Precision: 0.9830610575531006, Recall: 0.983, F1 Score: 0.9830056685427617\n"
          ]
        },
        {
          "name": "stderr",
          "output_type": "stream",
          "text": [
            "100%|██████████| 938/938 [00:17<00:00, 52.69it/s, accuracy=1, loss=0.000966, lr=0.000203]\n"
          ]
        },
        {
          "name": "stdout",
          "output_type": "stream",
          "text": [
            "Epoch 14, Val Loss: 0.05643226103674131, Val Accuracy: 0.985, Precision: 0.985012087380035, Recall: 0.985, F1 Score: 0.9849995131095133\n"
          ]
        },
        {
          "name": "stderr",
          "output_type": "stream",
          "text": [
            "100%|██████████| 938/938 [00:17<00:00, 52.86it/s, accuracy=1, loss=0.00146, lr=0.000183]\n"
          ]
        },
        {
          "name": "stdout",
          "output_type": "stream",
          "text": [
            "Epoch 15, Val Loss: 0.06626076301619056, Val Accuracy: 0.9826, Precision: 0.9827138154999359, Recall: 0.9826, F1 Score: 0.9826110749180201\n"
          ]
        },
        {
          "name": "stderr",
          "output_type": "stream",
          "text": [
            "100%|██████████| 938/938 [00:18<00:00, 51.59it/s, accuracy=1, loss=0.00158, lr=0.000165]\n"
          ]
        },
        {
          "name": "stdout",
          "output_type": "stream",
          "text": [
            "Epoch 16, Val Loss: 0.05736473695994455, Val Accuracy: 0.9851, Precision: 0.9851264440926963, Recall: 0.9851, F1 Score: 0.9851035193683003\n"
          ]
        },
        {
          "name": "stderr",
          "output_type": "stream",
          "text": [
            "100%|██████████| 938/938 [00:18<00:00, 51.72it/s, accuracy=1, loss=0.000828, lr=0.000148]\n"
          ]
        },
        {
          "name": "stdout",
          "output_type": "stream",
          "text": [
            "Epoch 17, Val Loss: 0.05599468693016797, Val Accuracy: 0.9852, Precision: 0.9852092122906432, Recall: 0.9852, F1 Score: 0.9851969858378401\n"
          ]
        },
        {
          "name": "stderr",
          "output_type": "stream",
          "text": [
            "100%|██████████| 938/938 [00:17<00:00, 52.16it/s, accuracy=1, loss=0.000112, lr=0.000133]\n"
          ]
        },
        {
          "name": "stdout",
          "output_type": "stream",
          "text": [
            "Epoch 18, Val Loss: 0.05918081602508456, Val Accuracy: 0.9841, Precision: 0.9841261304113122, Recall: 0.9841, F1 Score: 0.9840970098899349\n"
          ]
        },
        {
          "name": "stderr",
          "output_type": "stream",
          "text": [
            "100%|██████████| 938/938 [00:18<00:00, 51.84it/s, accuracy=1, loss=0.00161, lr=0.00012]\n"
          ]
        },
        {
          "name": "stdout",
          "output_type": "stream",
          "text": [
            "Epoch 19, Val Loss: 0.05803505969832484, Val Accuracy: 0.9849, Precision: 0.984899061176632, Recall: 0.9849, F1 Score: 0.984892469527204\n"
          ]
        },
        {
          "name": "stderr",
          "output_type": "stream",
          "text": [
            "100%|██████████| 938/938 [00:18<00:00, 50.16it/s, accuracy=1, loss=0.00116, lr=0.000108]\n"
          ]
        },
        {
          "name": "stdout",
          "output_type": "stream",
          "text": [
            "Epoch 20, Val Loss: 0.05957538767005323, Val Accuracy: 0.9853, Precision: 0.985323712132162, Recall: 0.9853, F1 Score: 0.9853026576536755\n"
          ]
        },
        {
          "name": "stderr",
          "output_type": "stream",
          "text": [
            "100%|██████████| 938/938 [00:18<00:00, 51.54it/s, accuracy=1, loss=4.24e-5, lr=9.73e-5]\n"
          ]
        },
        {
          "name": "stdout",
          "output_type": "stream",
          "text": [
            "Epoch 21, Val Loss: 0.06111677334342921, Val Accuracy: 0.9838, Precision: 0.9838380871931186, Recall: 0.9838, F1 Score: 0.9838014150704623\n"
          ]
        },
        {
          "name": "stderr",
          "output_type": "stream",
          "text": [
            "100%|██████████| 938/938 [00:18<00:00, 50.55it/s, accuracy=1, loss=0.00214, lr=8.75e-5]\n"
          ]
        },
        {
          "name": "stdout",
          "output_type": "stream",
          "text": [
            "Epoch 22, Val Loss: 0.05778906753002914, Val Accuracy: 0.9858, Precision: 0.985802212112236, Recall: 0.9858, F1 Score: 0.9857960011956874\n"
          ]
        },
        {
          "name": "stderr",
          "output_type": "stream",
          "text": [
            "100%|██████████| 938/938 [00:18<00:00, 51.49it/s, accuracy=1, loss=0.000439, lr=7.88e-5]\n"
          ]
        },
        {
          "name": "stdout",
          "output_type": "stream",
          "text": [
            "Epoch 23, Val Loss: 0.06118474442980174, Val Accuracy: 0.9854, Precision: 0.985403777332051, Recall: 0.9854, F1 Score: 0.9853981303092271\n"
          ]
        },
        {
          "name": "stderr",
          "output_type": "stream",
          "text": [
            "100%|██████████| 938/938 [00:18<00:00, 49.70it/s, accuracy=1, loss=9.89e-5, lr=7.09e-5]\n"
          ]
        },
        {
          "name": "stdout",
          "output_type": "stream",
          "text": [
            "Epoch 24, Val Loss: 0.0629050347410985, Val Accuracy: 0.9852, Precision: 0.9852053880044348, Recall: 0.9852, F1 Score: 0.9851951339440187\n"
          ]
        },
        {
          "name": "stderr",
          "output_type": "stream",
          "text": [
            "100%|██████████| 938/938 [00:18<00:00, 51.64it/s, accuracy=1, loss=0.00195, lr=6.38e-5]\n"
          ]
        },
        {
          "name": "stdout",
          "output_type": "stream",
          "text": [
            "Epoch 25, Val Loss: 0.06413505173982524, Val Accuracy: 0.9853, Precision: 0.9853048404578738, Recall: 0.9853, F1 Score: 0.9852972743399355\n"
          ]
        },
        {
          "name": "stderr",
          "output_type": "stream",
          "text": [
            "100%|██████████| 938/938 [00:17<00:00, 52.54it/s, accuracy=1, loss=1.15e-5, lr=5.74e-5]\n"
          ]
        },
        {
          "name": "stdout",
          "output_type": "stream",
          "text": [
            "Epoch 26, Val Loss: 0.06241102293413579, Val Accuracy: 0.9851, Precision: 0.9850986001506652, Recall: 0.9851, F1 Score: 0.985094242075039\n"
          ]
        },
        {
          "name": "stderr",
          "output_type": "stream",
          "text": [
            "100%|██████████| 938/938 [00:18<00:00, 51.25it/s, accuracy=1, loss=0.000477, lr=5.17e-5]\n"
          ]
        },
        {
          "name": "stdout",
          "output_type": "stream",
          "text": [
            "Epoch 27, Val Loss: 0.06111721815769683, Val Accuracy: 0.9859, Precision: 0.9859026922547645, Recall: 0.9859, F1 Score: 0.9858979189440387\n"
          ]
        },
        {
          "name": "stderr",
          "output_type": "stream",
          "text": [
            "100%|██████████| 938/938 [00:18<00:00, 50.34it/s, accuracy=1, loss=0.000966, lr=4.65e-5]\n"
          ]
        },
        {
          "name": "stdout",
          "output_type": "stream",
          "text": [
            "Epoch 28, Val Loss: 0.0627610383297782, Val Accuracy: 0.9863, Precision: 0.9863009246068559, Recall: 0.9863, F1 Score: 0.9862977104352781\n"
          ]
        },
        {
          "name": "stderr",
          "output_type": "stream",
          "text": [
            "100%|██████████| 938/938 [00:18<00:00, 51.47it/s, accuracy=1, loss=0.000205, lr=4.19e-5]\n"
          ]
        },
        {
          "name": "stdout",
          "output_type": "stream",
          "text": [
            "Epoch 29, Val Loss: 0.062441392226461286, Val Accuracy: 0.9863, Precision: 0.9863051193893114, Recall: 0.9863, F1 Score: 0.9862984867921796\n"
          ]
        },
        {
          "name": "stderr",
          "output_type": "stream",
          "text": [
            "100%|██████████| 938/938 [00:18<00:00, 51.24it/s, accuracy=1, loss=0.00024, lr=3.77e-5]\n"
          ]
        },
        {
          "name": "stdout",
          "output_type": "stream",
          "text": [
            "Epoch 30, Val Loss: 0.062361313227263654, Val Accuracy: 0.9856, Precision: 0.9856030342467363, Recall: 0.9856, F1 Score: 0.9855978293941098\n"
          ]
        }
      ],
      "source": [
        "epochs = 30\n",
        "hdims = [16, 32, 64, 128, 256, 512, 1024, 2048]\n",
        "hdim_metrics = {\n",
        "    'accuracy': np.empty((8, epochs)),\n",
        "    'precision': np.empty((8, epochs)),\n",
        "    'recall': np.empty((8, epochs)),\n",
        "    'f1_score': np.empty((8, epochs)),\n",
        "}\n",
        "for h, hdim in enumerate(hdims):\n",
        "    torch.manual_seed(42)\n",
        "    # Define model\n",
        "    model = MLP(layers_hidden=[28 * 28, hdim, 10])\n",
        "    device = torch.device(\"cuda\" if torch.cuda.is_available() else \"cpu\")\n",
        "    model.to(device)\n",
        "    # Define optimizer\n",
        "    optimizer = optim.AdamW(model.parameters(), lr=8e-4, weight_decay=0.01)\n",
        "    # Define learning rate scheduler\n",
        "    scheduler = optim.lr_scheduler.ExponentialLR(optimizer, gamma=0.9)\n",
        "\n",
        "    # Define loss\n",
        "    criterion = nn.CrossEntropyLoss()\n",
        "    for epoch in range(epochs):\n",
        "        # Train\n",
        "        model.train()\n",
        "        with tqdm(train_loader) as pbar:\n",
        "            for i, (images, labels) in enumerate(pbar):\n",
        "                images = images.view(-1, 28 * 28).to(device)\n",
        "                optimizer.zero_grad()\n",
        "                output = model(images)\n",
        "                loss = criterion(output, labels.to(device))\n",
        "                loss.backward()\n",
        "                optimizer.step()\n",
        "                accuracy = (output.argmax(dim=1) == labels.to(device)).float().mean()\n",
        "                pbar.set_postfix(loss=loss.item(), accuracy=accuracy.item(), lr=optimizer.param_groups[0]['lr'])\n",
        "\n",
        "        # Validation\n",
        "        model.eval()\n",
        "        all_preds = []\n",
        "        all_labels = []\n",
        "        val_loss = 0\n",
        "        with torch.no_grad():\n",
        "            for images, labels in val_loader:\n",
        "                images = images.view(-1, 28 * 28).to(device)\n",
        "                output = model(images)\n",
        "                val_loss += criterion(output, labels.to(device)).item()\n",
        "                preds = output.argmax(dim=1)\n",
        "                all_preds.extend(preds.cpu().numpy())\n",
        "                all_labels.extend(labels.cpu().numpy())\n",
        "\n",
        "        val_loss /= len(val_loader)\n",
        "        val_accuracy = (np.array(all_preds) == np.array(all_labels)).mean()\n",
        "        val_precision = precision_score(all_labels, all_preds, average='weighted')\n",
        "        val_recall = recall_score(all_labels, all_preds, average='weighted')\n",
        "        val_f1 = f1_score(all_labels, all_preds, average='weighted')\n",
        "\n",
        "        # Store metrics\n",
        "        hdim_metrics['accuracy'][h, epoch] = val_accuracy\n",
        "        hdim_metrics['precision'][h, epoch] = val_precision\n",
        "        hdim_metrics['recall'][h, epoch] = val_recall\n",
        "        hdim_metrics['f1_score'][h, epoch] = val_f1\n",
        "\n",
        "        # Update learning rate\n",
        "        scheduler.step()\n",
        "\n",
        "        print(\n",
        "            f\"Epoch {epoch + 1}, Val Loss: {val_loss}, \"\n",
        "            f\"Val Accuracy: {val_accuracy}, Precision: {val_precision}, \"\n",
        "            f\"Recall: {val_recall}, F1 Score: {val_f1}\"\n",
        "        )"
      ]
    },
    {
      "cell_type": "code",
      "execution_count": null,
      "metadata": {
        "colab": {
          "background_save": true
        },
        "id": "Gunpydp167BQ"
      },
      "outputs": [],
      "source": [
        "np.save('./saved_results/mlp_hdim_metrics.npy', hdim_metrics)"
      ]
    },
    {
      "cell_type": "code",
      "execution_count": null,
      "metadata": {
        "colab": {
          "background_save": true,
          "base_uri": "https://localhost:8080/"
        },
        "id": "9hvytZJwUcri",
        "outputId": "e2a18918-d895-4908-c7de-74c13958c65d"
      },
      "outputs": [
        {
          "name": "stderr",
          "output_type": "stream",
          "text": [
            "100%|██████████| 938/938 [00:17<00:00, 53.59it/s, accuracy=0.938, loss=0.134, lr=0.0008]\n"
          ]
        },
        {
          "name": "stdout",
          "output_type": "stream",
          "text": [
            "Epoch 1, Val Loss: 0.24920118076928482, Val Accuracy: 0.9551\n"
          ]
        },
        {
          "name": "stderr",
          "output_type": "stream",
          "text": [
            "100%|██████████| 938/938 [00:17<00:00, 53.40it/s, accuracy=0.969, loss=0.145, lr=0.00072]\n"
          ]
        },
        {
          "name": "stdout",
          "output_type": "stream",
          "text": [
            "Epoch 2, Val Loss: 0.16810530201964982, Val Accuracy: 0.9539\n"
          ]
        },
        {
          "name": "stderr",
          "output_type": "stream",
          "text": [
            "100%|██████████| 938/938 [00:17<00:00, 54.60it/s, accuracy=0.969, loss=0.066, lr=0.000648]\n"
          ]
        },
        {
          "name": "stdout",
          "output_type": "stream",
          "text": [
            "Epoch 3, Val Loss: 0.13700286220687968, Val Accuracy: 0.954875\n"
          ]
        },
        {
          "name": "stderr",
          "output_type": "stream",
          "text": [
            "100%|██████████| 938/938 [00:17<00:00, 52.35it/s, accuracy=1, loss=0.023, lr=0.000583]\n"
          ]
        },
        {
          "name": "stdout",
          "output_type": "stream",
          "text": [
            "Epoch 4, Val Loss: 0.10907958559602926, Val Accuracy: 0.95736\n"
          ]
        },
        {
          "name": "stderr",
          "output_type": "stream",
          "text": [
            "100%|██████████| 938/938 [00:17<00:00, 53.59it/s, accuracy=0.969, loss=0.127, lr=0.000525]\n"
          ]
        },
        {
          "name": "stdout",
          "output_type": "stream",
          "text": [
            "Epoch 5, Val Loss: 0.10268732064528166, Val Accuracy: 0.9594666666666667\n"
          ]
        },
        {
          "name": "stderr",
          "output_type": "stream",
          "text": [
            "100%|██████████| 938/938 [00:17<00:00, 54.23it/s, accuracy=0.969, loss=0.0696, lr=0.000472]\n"
          ]
        },
        {
          "name": "stdout",
          "output_type": "stream",
          "text": [
            "Epoch 6, Val Loss: 0.10539797630574803, Val Accuracy: 0.9607714285714286\n"
          ]
        },
        {
          "name": "stderr",
          "output_type": "stream",
          "text": [
            "100%|██████████| 938/938 [00:17<00:00, 54.39it/s, accuracy=1, loss=0.0326, lr=0.000425]\n"
          ]
        },
        {
          "name": "stdout",
          "output_type": "stream",
          "text": [
            "Epoch 7, Val Loss: 0.09830762099275947, Val Accuracy: 0.96215\n"
          ]
        },
        {
          "name": "stderr",
          "output_type": "stream",
          "text": [
            "100%|██████████| 938/938 [00:18<00:00, 51.74it/s, accuracy=0.969, loss=0.0812, lr=0.000383]\n"
          ]
        },
        {
          "name": "stdout",
          "output_type": "stream",
          "text": [
            "Epoch 8, Val Loss: 0.095372120647359, Val Accuracy: 0.9632222222222222\n"
          ]
        },
        {
          "name": "stderr",
          "output_type": "stream",
          "text": [
            "100%|██████████| 938/938 [00:17<00:00, 53.74it/s, accuracy=1, loss=0.018, lr=0.000344]\n"
          ]
        },
        {
          "name": "stdout",
          "output_type": "stream",
          "text": [
            "Epoch 9, Val Loss: 0.0836472680516375, Val Accuracy: 0.96439\n"
          ]
        },
        {
          "name": "stderr",
          "output_type": "stream",
          "text": [
            "100%|██████████| 938/938 [00:17<00:00, 53.30it/s, accuracy=1, loss=0.0285, lr=0.00031]\n"
          ]
        },
        {
          "name": "stdout",
          "output_type": "stream",
          "text": [
            "Epoch 10, Val Loss: 0.0909287500340539, Val Accuracy: 0.9651727272727273\n"
          ]
        },
        {
          "name": "stderr",
          "output_type": "stream",
          "text": [
            "100%|██████████| 938/938 [00:17<00:00, 53.28it/s, accuracy=0.969, loss=0.0479, lr=0.000279]\n"
          ]
        },
        {
          "name": "stdout",
          "output_type": "stream",
          "text": [
            "Epoch 11, Val Loss: 0.0812791859648401, Val Accuracy: 0.966125\n"
          ]
        },
        {
          "name": "stderr",
          "output_type": "stream",
          "text": [
            "100%|██████████| 938/938 [00:17<00:00, 54.23it/s, accuracy=1, loss=0.0295, lr=0.000251]\n"
          ]
        },
        {
          "name": "stdout",
          "output_type": "stream",
          "text": [
            "Epoch 12, Val Loss: 0.08118352720997397, Val Accuracy: 0.9668769230769231\n"
          ]
        },
        {
          "name": "stderr",
          "output_type": "stream",
          "text": [
            "100%|██████████| 938/938 [00:17<00:00, 53.49it/s, accuracy=1, loss=0.0131, lr=0.000226]\n"
          ]
        },
        {
          "name": "stdout",
          "output_type": "stream",
          "text": [
            "Epoch 13, Val Loss: 0.07634554133594042, Val Accuracy: 0.9676571428571429\n"
          ]
        },
        {
          "name": "stderr",
          "output_type": "stream",
          "text": [
            "100%|██████████| 938/938 [00:17<00:00, 53.22it/s, accuracy=1, loss=0.0175, lr=0.000203]\n"
          ]
        },
        {
          "name": "stdout",
          "output_type": "stream",
          "text": [
            "Epoch 14, Val Loss: 0.07671430696782235, Val Accuracy: 0.9683733333333333\n"
          ]
        },
        {
          "name": "stderr",
          "output_type": "stream",
          "text": [
            "100%|██████████| 938/938 [00:17<00:00, 52.25it/s, accuracy=1, loss=0.017, lr=0.000183]\n"
          ]
        },
        {
          "name": "stdout",
          "output_type": "stream",
          "text": [
            "Epoch 15, Val Loss: 0.07641422508968854, Val Accuracy: 0.9689125\n"
          ]
        },
        {
          "name": "stderr",
          "output_type": "stream",
          "text": [
            "100%|██████████| 938/938 [00:17<00:00, 54.38it/s, accuracy=1, loss=0.0139, lr=0.000165]\n"
          ]
        },
        {
          "name": "stdout",
          "output_type": "stream",
          "text": [
            "Epoch 16, Val Loss: 0.0739622916640702, Val Accuracy: 0.9694588235294118\n"
          ]
        },
        {
          "name": "stderr",
          "output_type": "stream",
          "text": [
            "100%|██████████| 938/938 [00:17<00:00, 53.77it/s, accuracy=1, loss=0.0188, lr=0.000148]\n"
          ]
        },
        {
          "name": "stdout",
          "output_type": "stream",
          "text": [
            "Epoch 17, Val Loss: 0.07579193356729433, Val Accuracy: 0.9699611111111112\n"
          ]
        },
        {
          "name": "stderr",
          "output_type": "stream",
          "text": [
            "100%|██████████| 938/938 [00:17<00:00, 53.99it/s, accuracy=1, loss=0.00392, lr=0.000133]\n"
          ]
        },
        {
          "name": "stdout",
          "output_type": "stream",
          "text": [
            "Epoch 18, Val Loss: 0.0744350605479673, Val Accuracy: 0.9704421052631579\n"
          ]
        },
        {
          "name": "stderr",
          "output_type": "stream",
          "text": [
            "100%|██████████| 938/938 [00:17<00:00, 52.97it/s, accuracy=1, loss=0.00316, lr=0.00012]\n"
          ]
        },
        {
          "name": "stdout",
          "output_type": "stream",
          "text": [
            "Epoch 19, Val Loss: 0.07660041038880487, Val Accuracy: 0.97081\n"
          ]
        },
        {
          "name": "stderr",
          "output_type": "stream",
          "text": [
            "100%|██████████| 938/938 [00:17<00:00, 53.74it/s, accuracy=1, loss=0.00473, lr=0.000108]\n"
          ]
        },
        {
          "name": "stdout",
          "output_type": "stream",
          "text": [
            "Epoch 20, Val Loss: 0.07459215624821461, Val Accuracy: 0.9711619047619048\n"
          ]
        },
        {
          "name": "stderr",
          "output_type": "stream",
          "text": [
            "100%|██████████| 938/938 [00:17<00:00, 53.48it/s, accuracy=0.969, loss=0.137, lr=9.73e-5]\n"
          ]
        },
        {
          "name": "stdout",
          "output_type": "stream",
          "text": [
            "Epoch 21, Val Loss: 0.07386729360647443, Val Accuracy: 0.9715090909090909\n"
          ]
        },
        {
          "name": "stderr",
          "output_type": "stream",
          "text": [
            "100%|██████████| 938/938 [00:18<00:00, 51.46it/s, accuracy=1, loss=0.0109, lr=8.75e-5]\n"
          ]
        },
        {
          "name": "stdout",
          "output_type": "stream",
          "text": [
            "Epoch 22, Val Loss: 0.0735025028708342, Val Accuracy: 0.9718304347826087\n"
          ]
        },
        {
          "name": "stderr",
          "output_type": "stream",
          "text": [
            "100%|██████████| 938/938 [00:17<00:00, 54.38it/s, accuracy=1, loss=0.0167, lr=7.88e-5]\n"
          ]
        },
        {
          "name": "stdout",
          "output_type": "stream",
          "text": [
            "Epoch 23, Val Loss: 0.07383070860868528, Val Accuracy: 0.9721125\n"
          ]
        },
        {
          "name": "stderr",
          "output_type": "stream",
          "text": [
            "100%|██████████| 938/938 [00:17<00:00, 53.87it/s, accuracy=1, loss=0.0296, lr=7.09e-5]\n"
          ]
        },
        {
          "name": "stdout",
          "output_type": "stream",
          "text": [
            "Epoch 24, Val Loss: 0.07289144864204268, Val Accuracy: 0.9724\n"
          ]
        },
        {
          "name": "stderr",
          "output_type": "stream",
          "text": [
            "100%|██████████| 938/938 [00:17<00:00, 52.31it/s, accuracy=0.938, loss=0.0697, lr=6.38e-5]\n"
          ]
        },
        {
          "name": "stdout",
          "output_type": "stream",
          "text": [
            "Epoch 25, Val Loss: 0.07344083234385637, Val Accuracy: 0.9726115384615385\n"
          ]
        },
        {
          "name": "stderr",
          "output_type": "stream",
          "text": [
            "100%|██████████| 938/938 [00:17<00:00, 53.79it/s, accuracy=1, loss=0.0305, lr=5.74e-5]\n"
          ]
        },
        {
          "name": "stdout",
          "output_type": "stream",
          "text": [
            "Epoch 26, Val Loss: 0.07317595247386519, Val Accuracy: 0.9728333333333333\n"
          ]
        },
        {
          "name": "stderr",
          "output_type": "stream",
          "text": [
            "100%|██████████| 938/938 [00:17<00:00, 52.75it/s, accuracy=1, loss=0.012, lr=5.17e-5]\n"
          ]
        },
        {
          "name": "stdout",
          "output_type": "stream",
          "text": [
            "Epoch 27, Val Loss: 0.07214447566551664, Val Accuracy: 0.97305\n"
          ]
        },
        {
          "name": "stderr",
          "output_type": "stream",
          "text": [
            "100%|██████████| 938/938 [00:17<00:00, 53.62it/s, accuracy=1, loss=0.00888, lr=4.65e-5]\n"
          ]
        },
        {
          "name": "stdout",
          "output_type": "stream",
          "text": [
            "Epoch 28, Val Loss: 0.07189574083487599, Val Accuracy: 0.9732620689655173\n"
          ]
        },
        {
          "name": "stderr",
          "output_type": "stream",
          "text": [
            "100%|██████████| 938/938 [00:17<00:00, 53.07it/s, accuracy=1, loss=0.00883, lr=4.19e-5]\n"
          ]
        },
        {
          "name": "stdout",
          "output_type": "stream",
          "text": [
            "Epoch 29, Val Loss: 0.07259673101602829, Val Accuracy: 0.9734766666666667\n"
          ]
        },
        {
          "name": "stderr",
          "output_type": "stream",
          "text": [
            "100%|██████████| 938/938 [00:17<00:00, 52.95it/s, accuracy=1, loss=0.00877, lr=3.77e-5]\n"
          ]
        },
        {
          "name": "stdout",
          "output_type": "stream",
          "text": [
            "Epoch 30, Val Loss: 0.07311152088882959, Val Accuracy: 0.9736612903225806\n"
          ]
        },
        {
          "name": "stderr",
          "output_type": "stream",
          "text": [
            "100%|██████████| 938/938 [00:17<00:00, 53.20it/s, accuracy=0.906, loss=0.238, lr=0.0008]\n"
          ]
        },
        {
          "name": "stdout",
          "output_type": "stream",
          "text": [
            "Epoch 1, Val Loss: 0.20637790128814093, Val Accuracy: 0.972503125\n"
          ]
        },
        {
          "name": "stderr",
          "output_type": "stream",
          "text": [
            "100%|██████████| 938/938 [00:18<00:00, 49.88it/s, accuracy=0.969, loss=0.0734, lr=0.00072]\n"
          ]
        },
        {
          "name": "stdout",
          "output_type": "stream",
          "text": [
            "Epoch 2, Val Loss: 0.1353192020498311, Val Accuracy: 0.9721060606060606\n"
          ]
        },
        {
          "name": "stderr",
          "output_type": "stream",
          "text": [
            "100%|██████████| 938/938 [00:17<00:00, 53.06it/s, accuracy=0.938, loss=0.098, lr=0.000648]\n"
          ]
        },
        {
          "name": "stdout",
          "output_type": "stream",
          "text": [
            "Epoch 3, Val Loss: 0.12103438849715148, Val Accuracy: 0.9718058823529412\n"
          ]
        },
        {
          "name": "stderr",
          "output_type": "stream",
          "text": [
            "100%|██████████| 938/938 [00:17<00:00, 53.50it/s, accuracy=1, loss=0.0148, lr=0.000583]\n"
          ]
        },
        {
          "name": "stdout",
          "output_type": "stream",
          "text": [
            "Epoch 4, Val Loss: 0.09942305704970268, Val Accuracy: 0.97172\n"
          ]
        },
        {
          "name": "stderr",
          "output_type": "stream",
          "text": [
            "100%|██████████| 938/938 [00:18<00:00, 51.38it/s, accuracy=0.969, loss=0.0927, lr=0.000525]\n"
          ]
        },
        {
          "name": "stdout",
          "output_type": "stream",
          "text": [
            "Epoch 5, Val Loss: 0.10124833221921022, Val Accuracy: 0.9716055555555555\n"
          ]
        },
        {
          "name": "stderr",
          "output_type": "stream",
          "text": [
            "100%|██████████| 938/938 [00:17<00:00, 52.44it/s, accuracy=1, loss=0.0165, lr=0.000472]\n"
          ]
        },
        {
          "name": "stdout",
          "output_type": "stream",
          "text": [
            "Epoch 6, Val Loss: 0.10340586843511837, Val Accuracy: 0.9714513513513513\n"
          ]
        },
        {
          "name": "stderr",
          "output_type": "stream",
          "text": [
            "100%|██████████| 938/938 [00:17<00:00, 53.07it/s, accuracy=1, loss=0.0172, lr=0.000425]\n"
          ]
        },
        {
          "name": "stdout",
          "output_type": "stream",
          "text": [
            "Epoch 7, Val Loss: 0.08492243714409266, Val Accuracy: 0.9714657894736842\n"
          ]
        },
        {
          "name": "stderr",
          "output_type": "stream",
          "text": [
            "100%|██████████| 938/938 [00:18<00:00, 50.16it/s, accuracy=0.969, loss=0.137, lr=0.000383]\n"
          ]
        },
        {
          "name": "stdout",
          "output_type": "stream",
          "text": [
            "Epoch 8, Val Loss: 0.08151050661445838, Val Accuracy: 0.971548717948718\n"
          ]
        },
        {
          "name": "stderr",
          "output_type": "stream",
          "text": [
            "100%|██████████| 938/938 [00:18<00:00, 50.90it/s, accuracy=1, loss=0.0578, lr=0.000344]\n"
          ]
        },
        {
          "name": "stdout",
          "output_type": "stream",
          "text": [
            "Epoch 9, Val Loss: 0.07296991623520249, Val Accuracy: 0.971705\n"
          ]
        },
        {
          "name": "stderr",
          "output_type": "stream",
          "text": [
            "100%|██████████| 938/938 [00:17<00:00, 52.99it/s, accuracy=1, loss=0.0171, lr=0.00031]\n"
          ]
        },
        {
          "name": "stdout",
          "output_type": "stream",
          "text": [
            "Epoch 10, Val Loss: 0.07820335162208848, Val Accuracy: 0.9717853658536585\n"
          ]
        },
        {
          "name": "stderr",
          "output_type": "stream",
          "text": [
            "100%|██████████| 938/938 [00:17<00:00, 52.65it/s, accuracy=1, loss=0.02, lr=0.000279]\n"
          ]
        },
        {
          "name": "stdout",
          "output_type": "stream",
          "text": [
            "Epoch 11, Val Loss: 0.07793689548604452, Val Accuracy: 0.9718714285714286\n"
          ]
        },
        {
          "name": "stderr",
          "output_type": "stream",
          "text": [
            "100%|██████████| 938/938 [00:17<00:00, 52.93it/s, accuracy=1, loss=0.00664, lr=0.000251]\n"
          ]
        },
        {
          "name": "stdout",
          "output_type": "stream",
          "text": [
            "Epoch 12, Val Loss: 0.07151090057201945, Val Accuracy: 0.9720046511627907\n"
          ]
        },
        {
          "name": "stderr",
          "output_type": "stream",
          "text": [
            "100%|██████████| 938/938 [00:18<00:00, 51.60it/s, accuracy=0.969, loss=0.0386, lr=0.000226]\n"
          ]
        },
        {
          "name": "stdout",
          "output_type": "stream",
          "text": [
            "Epoch 13, Val Loss: 0.07221662957176038, Val Accuracy: 0.9721454545454545\n"
          ]
        },
        {
          "name": "stderr",
          "output_type": "stream",
          "text": [
            "100%|██████████| 938/938 [00:17<00:00, 52.80it/s, accuracy=1, loss=0.0306, lr=0.000203]\n"
          ]
        },
        {
          "name": "stdout",
          "output_type": "stream",
          "text": [
            "Epoch 14, Val Loss: 0.07465781141537803, Val Accuracy: 0.9722422222222222\n"
          ]
        },
        {
          "name": "stderr",
          "output_type": "stream",
          "text": [
            "100%|██████████| 938/938 [00:17<00:00, 52.47it/s, accuracy=1, loss=0.000839, lr=0.000183]\n"
          ]
        },
        {
          "name": "stdout",
          "output_type": "stream",
          "text": [
            "Epoch 15, Val Loss: 0.07236823986782537, Val Accuracy: 0.9723326086956522\n"
          ]
        },
        {
          "name": "stderr",
          "output_type": "stream",
          "text": [
            "100%|██████████| 938/938 [00:17<00:00, 52.31it/s, accuracy=0.969, loss=0.0722, lr=0.000165]\n"
          ]
        },
        {
          "name": "stdout",
          "output_type": "stream",
          "text": [
            "Epoch 16, Val Loss: 0.06940344341672441, Val Accuracy: 0.9724702127659575\n"
          ]
        },
        {
          "name": "stderr",
          "output_type": "stream",
          "text": [
            "100%|██████████| 938/938 [00:17<00:00, 52.34it/s, accuracy=1, loss=0.000369, lr=0.000148]\n"
          ]
        },
        {
          "name": "stdout",
          "output_type": "stream",
          "text": [
            "Epoch 17, Val Loss: 0.07095142231429137, Val Accuracy: 0.9726\n"
          ]
        },
        {
          "name": "stderr",
          "output_type": "stream",
          "text": [
            "100%|██████████| 938/938 [00:17<00:00, 52.95it/s, accuracy=1, loss=0.008, lr=0.000133]\n"
          ]
        },
        {
          "name": "stdout",
          "output_type": "stream",
          "text": [
            "Epoch 18, Val Loss: 0.07207131803790767, Val Accuracy: 0.9727163265306122\n"
          ]
        },
        {
          "name": "stderr",
          "output_type": "stream",
          "text": [
            "100%|██████████| 938/938 [00:18<00:00, 50.25it/s, accuracy=1, loss=0.0189, lr=0.00012]\n"
          ]
        },
        {
          "name": "stdout",
          "output_type": "stream",
          "text": [
            "Epoch 19, Val Loss: 0.06755165527705408, Val Accuracy: 0.972858\n"
          ]
        },
        {
          "name": "stderr",
          "output_type": "stream",
          "text": [
            "100%|██████████| 938/938 [00:17<00:00, 52.67it/s, accuracy=1, loss=0.00982, lr=0.000108]\n"
          ]
        },
        {
          "name": "stdout",
          "output_type": "stream",
          "text": [
            "Epoch 20, Val Loss: 0.07471512075970828, Val Accuracy: 0.9729568627450981\n"
          ]
        },
        {
          "name": "stderr",
          "output_type": "stream",
          "text": [
            "100%|██████████| 938/938 [00:17<00:00, 53.89it/s, accuracy=1, loss=0.0135, lr=9.73e-5]\n"
          ]
        },
        {
          "name": "stdout",
          "output_type": "stream",
          "text": [
            "Epoch 21, Val Loss: 0.06958589359039402, Val Accuracy: 0.973075\n"
          ]
        },
        {
          "name": "stderr",
          "output_type": "stream",
          "text": [
            "100%|██████████| 938/938 [00:17<00:00, 52.58it/s, accuracy=1, loss=0.0243, lr=8.75e-5]\n"
          ]
        },
        {
          "name": "stdout",
          "output_type": "stream",
          "text": [
            "Epoch 22, Val Loss: 0.07493924434366951, Val Accuracy: 0.9731773584905661\n"
          ]
        },
        {
          "name": "stderr",
          "output_type": "stream",
          "text": [
            "100%|██████████| 938/938 [00:17<00:00, 52.19it/s, accuracy=0.969, loss=0.0465, lr=7.88e-5]\n"
          ]
        },
        {
          "name": "stdout",
          "output_type": "stream",
          "text": [
            "Epoch 23, Val Loss: 0.07013476919154568, Val Accuracy: 0.9732833333333333\n"
          ]
        },
        {
          "name": "stderr",
          "output_type": "stream",
          "text": [
            "100%|██████████| 938/938 [00:17<00:00, 53.15it/s, accuracy=1, loss=0.00355, lr=7.09e-5]\n"
          ]
        },
        {
          "name": "stdout",
          "output_type": "stream",
          "text": [
            "Epoch 24, Val Loss: 0.07395467351928166, Val Accuracy: 0.9733872727272728\n"
          ]
        },
        {
          "name": "stderr",
          "output_type": "stream",
          "text": [
            "100%|██████████| 938/938 [00:18<00:00, 50.92it/s, accuracy=1, loss=0.00249, lr=6.38e-5]\n"
          ]
        },
        {
          "name": "stdout",
          "output_type": "stream",
          "text": [
            "Epoch 25, Val Loss: 0.07297338535926237, Val Accuracy: 0.9734982142857143\n"
          ]
        },
        {
          "name": "stderr",
          "output_type": "stream",
          "text": [
            "100%|██████████| 938/938 [00:17<00:00, 52.53it/s, accuracy=0.969, loss=0.139, lr=5.74e-5]\n"
          ]
        },
        {
          "name": "stdout",
          "output_type": "stream",
          "text": [
            "Epoch 26, Val Loss: 0.07387678463559623, Val Accuracy: 0.9735736842105264\n"
          ]
        },
        {
          "name": "stderr",
          "output_type": "stream",
          "text": [
            "100%|██████████| 938/938 [00:17<00:00, 52.13it/s, accuracy=1, loss=0.00238, lr=5.17e-5]\n"
          ]
        },
        {
          "name": "stdout",
          "output_type": "stream",
          "text": [
            "Epoch 27, Val Loss: 0.07438288313021256, Val Accuracy: 0.9736689655172414\n"
          ]
        },
        {
          "name": "stderr",
          "output_type": "stream",
          "text": [
            "100%|██████████| 938/938 [00:18<00:00, 50.21it/s, accuracy=1, loss=0.00197, lr=4.65e-5]\n"
          ]
        },
        {
          "name": "stdout",
          "output_type": "stream",
          "text": [
            "Epoch 28, Val Loss: 0.0730450360677041, Val Accuracy: 0.9737745762711865\n"
          ]
        },
        {
          "name": "stderr",
          "output_type": "stream",
          "text": [
            "100%|██████████| 938/938 [00:18<00:00, 50.05it/s, accuracy=1, loss=0.012, lr=4.19e-5]\n"
          ]
        },
        {
          "name": "stdout",
          "output_type": "stream",
          "text": [
            "Epoch 29, Val Loss: 0.07224138943374377, Val Accuracy: 0.973875\n"
          ]
        },
        {
          "name": "stderr",
          "output_type": "stream",
          "text": [
            "100%|██████████| 938/938 [00:18<00:00, 50.79it/s, accuracy=1, loss=0.00769, lr=3.77e-5]\n"
          ]
        },
        {
          "name": "stdout",
          "output_type": "stream",
          "text": [
            "Epoch 30, Val Loss: 0.07283316569553291, Val Accuracy: 0.9739688524590164\n"
          ]
        },
        {
          "name": "stderr",
          "output_type": "stream",
          "text": [
            "100%|██████████| 938/938 [00:18<00:00, 49.88it/s, accuracy=0.938, loss=0.158, lr=0.0008]\n"
          ]
        },
        {
          "name": "stdout",
          "output_type": "stream",
          "text": [
            "Epoch 1, Val Loss: 0.2024836615321173, Val Accuracy: 0.9733758064516129\n"
          ]
        },
        {
          "name": "stderr",
          "output_type": "stream",
          "text": [
            "100%|██████████| 938/938 [00:18<00:00, 50.32it/s, accuracy=0.938, loss=0.177, lr=0.00072]\n"
          ]
        },
        {
          "name": "stdout",
          "output_type": "stream",
          "text": [
            "Epoch 2, Val Loss: 0.1539730643378986, Val Accuracy: 0.973047619047619\n"
          ]
        },
        {
          "name": "stderr",
          "output_type": "stream",
          "text": [
            "100%|██████████| 938/938 [00:18<00:00, 49.91it/s, accuracy=0.969, loss=0.0497, lr=0.000648]\n"
          ]
        },
        {
          "name": "stdout",
          "output_type": "stream",
          "text": [
            "Epoch 3, Val Loss: 0.12208916175929581, Val Accuracy: 0.97285\n"
          ]
        },
        {
          "name": "stderr",
          "output_type": "stream",
          "text": [
            "100%|██████████| 938/938 [00:18<00:00, 50.27it/s, accuracy=0.969, loss=0.0758, lr=0.000583]\n"
          ]
        },
        {
          "name": "stdout",
          "output_type": "stream",
          "text": [
            "Epoch 4, Val Loss: 0.10594169865232583, Val Accuracy: 0.9727584615384616\n"
          ]
        },
        {
          "name": "stderr",
          "output_type": "stream",
          "text": [
            "100%|██████████| 938/938 [00:18<00:00, 49.94it/s, accuracy=0.969, loss=0.0559, lr=0.000525]\n"
          ]
        },
        {
          "name": "stdout",
          "output_type": "stream",
          "text": [
            "Epoch 5, Val Loss: 0.09193143222568509, Val Accuracy: 0.9727333333333333\n"
          ]
        },
        {
          "name": "stderr",
          "output_type": "stream",
          "text": [
            "100%|██████████| 938/938 [00:18<00:00, 49.92it/s, accuracy=0.969, loss=0.14, lr=0.000472]\n"
          ]
        },
        {
          "name": "stdout",
          "output_type": "stream",
          "text": [
            "Epoch 6, Val Loss: 0.08599386909779363, Val Accuracy: 0.9727328358208955\n"
          ]
        },
        {
          "name": "stderr",
          "output_type": "stream",
          "text": [
            "100%|██████████| 938/938 [00:19<00:00, 49.32it/s, accuracy=1, loss=0.0225, lr=0.000425]\n"
          ]
        },
        {
          "name": "stdout",
          "output_type": "stream",
          "text": [
            "Epoch 7, Val Loss: 0.08645213302753192, Val Accuracy: 0.972725\n"
          ]
        },
        {
          "name": "stderr",
          "output_type": "stream",
          "text": [
            "100%|██████████| 938/938 [00:18<00:00, 49.45it/s, accuracy=1, loss=0.00656, lr=0.000383]\n"
          ]
        },
        {
          "name": "stdout",
          "output_type": "stream",
          "text": [
            "Epoch 8, Val Loss: 0.08194337946798053, Val Accuracy: 0.9727434782608696\n"
          ]
        },
        {
          "name": "stderr",
          "output_type": "stream",
          "text": [
            "100%|██████████| 938/938 [00:18<00:00, 50.24it/s, accuracy=0.969, loss=0.0662, lr=0.000344]\n"
          ]
        },
        {
          "name": "stdout",
          "output_type": "stream",
          "text": [
            "Epoch 9, Val Loss: 0.08877419834217994, Val Accuracy: 0.9727571428571429\n"
          ]
        },
        {
          "name": "stderr",
          "output_type": "stream",
          "text": [
            "100%|██████████| 938/938 [00:18<00:00, 51.75it/s, accuracy=1, loss=0.00589, lr=0.00031]\n"
          ]
        },
        {
          "name": "stdout",
          "output_type": "stream",
          "text": [
            "Epoch 10, Val Loss: 0.08805054502488836, Val Accuracy: 0.9727774647887324\n"
          ]
        },
        {
          "name": "stderr",
          "output_type": "stream",
          "text": [
            "100%|██████████| 938/938 [00:18<00:00, 50.43it/s, accuracy=0.969, loss=0.0729, lr=0.000279]\n"
          ]
        },
        {
          "name": "stdout",
          "output_type": "stream",
          "text": [
            "Epoch 11, Val Loss: 0.07561385790988169, Val Accuracy: 0.9728375\n"
          ]
        },
        {
          "name": "stderr",
          "output_type": "stream",
          "text": [
            "100%|██████████| 938/938 [00:17<00:00, 52.16it/s, accuracy=1, loss=0.0223, lr=0.000251]\n"
          ]
        },
        {
          "name": "stdout",
          "output_type": "stream",
          "text": [
            "Epoch 12, Val Loss: 0.08074799443763432, Val Accuracy: 0.9728780821917808\n"
          ]
        },
        {
          "name": "stderr",
          "output_type": "stream",
          "text": [
            "100%|██████████| 938/938 [00:18<00:00, 51.78it/s, accuracy=0.969, loss=0.0966, lr=0.000226]\n"
          ]
        },
        {
          "name": "stdout",
          "output_type": "stream",
          "text": [
            "Epoch 13, Val Loss: 0.0780380765843767, Val Accuracy: 0.9729608108108108\n"
          ]
        },
        {
          "name": "stderr",
          "output_type": "stream",
          "text": [
            "100%|██████████| 938/938 [00:18<00:00, 49.47it/s, accuracy=1, loss=0.0278, lr=0.000203]\n"
          ]
        },
        {
          "name": "stdout",
          "output_type": "stream",
          "text": [
            "Epoch 14, Val Loss: 0.08289955661736487, Val Accuracy: 0.973012\n"
          ]
        },
        {
          "name": "stderr",
          "output_type": "stream",
          "text": [
            "100%|██████████| 938/938 [00:18<00:00, 51.65it/s, accuracy=1, loss=0.000842, lr=0.000183]\n"
          ]
        },
        {
          "name": "stdout",
          "output_type": "stream",
          "text": [
            "Epoch 15, Val Loss: 0.07709180615141348, Val Accuracy: 0.9730828947368421\n"
          ]
        },
        {
          "name": "stderr",
          "output_type": "stream",
          "text": [
            "100%|██████████| 938/938 [00:18<00:00, 51.45it/s, accuracy=0.969, loss=0.0975, lr=0.000165]\n"
          ]
        },
        {
          "name": "stdout",
          "output_type": "stream",
          "text": [
            "Epoch 16, Val Loss: 0.0792015221400425, Val Accuracy: 0.9731545454545455\n"
          ]
        },
        {
          "name": "stderr",
          "output_type": "stream",
          "text": [
            "100%|██████████| 938/938 [00:17<00:00, 52.13it/s, accuracy=1, loss=0.0173, lr=0.000148]\n"
          ]
        },
        {
          "name": "stdout",
          "output_type": "stream",
          "text": [
            "Epoch 17, Val Loss: 0.07872985170505654, Val Accuracy: 0.9732282051282052\n"
          ]
        },
        {
          "name": "stderr",
          "output_type": "stream",
          "text": [
            "100%|██████████| 938/938 [00:17<00:00, 52.47it/s, accuracy=1, loss=0.0141, lr=0.000133]\n"
          ]
        },
        {
          "name": "stdout",
          "output_type": "stream",
          "text": [
            "Epoch 18, Val Loss: 0.07960515886159868, Val Accuracy: 0.9733050632911392\n"
          ]
        },
        {
          "name": "stderr",
          "output_type": "stream",
          "text": [
            "100%|██████████| 938/938 [00:18<00:00, 51.70it/s, accuracy=1, loss=0.000825, lr=0.00012]\n"
          ]
        },
        {
          "name": "stdout",
          "output_type": "stream",
          "text": [
            "Epoch 19, Val Loss: 0.07821434952037269, Val Accuracy: 0.9733825\n"
          ]
        },
        {
          "name": "stderr",
          "output_type": "stream",
          "text": [
            "100%|██████████| 938/938 [00:18<00:00, 51.91it/s, accuracy=0.969, loss=0.0663, lr=0.000108]\n"
          ]
        },
        {
          "name": "stdout",
          "output_type": "stream",
          "text": [
            "Epoch 20, Val Loss: 0.08356417365398498, Val Accuracy: 0.9734432098765432\n"
          ]
        },
        {
          "name": "stderr",
          "output_type": "stream",
          "text": [
            "100%|██████████| 938/938 [00:19<00:00, 49.03it/s, accuracy=1, loss=0.00728, lr=9.73e-5]\n"
          ]
        },
        {
          "name": "stdout",
          "output_type": "stream",
          "text": [
            "Epoch 21, Val Loss: 0.07964909154672313, Val Accuracy: 0.9735219512195122\n"
          ]
        },
        {
          "name": "stderr",
          "output_type": "stream",
          "text": [
            "100%|██████████| 938/938 [00:18<00:00, 52.02it/s, accuracy=1, loss=0.00071, lr=8.75e-5]\n"
          ]
        },
        {
          "name": "stdout",
          "output_type": "stream",
          "text": [
            "Epoch 22, Val Loss: 0.08014826582868097, Val Accuracy: 0.9736072289156626\n"
          ]
        },
        {
          "name": "stderr",
          "output_type": "stream",
          "text": [
            "100%|██████████| 938/938 [00:18<00:00, 50.12it/s, accuracy=1, loss=0.00137, lr=7.88e-5]\n"
          ]
        },
        {
          "name": "stdout",
          "output_type": "stream",
          "text": [
            "Epoch 23, Val Loss: 0.08190753841714978, Val Accuracy: 0.9736821428571428\n"
          ]
        },
        {
          "name": "stderr",
          "output_type": "stream",
          "text": [
            "100%|██████████| 938/938 [00:18<00:00, 51.18it/s, accuracy=1, loss=0.000106, lr=7.09e-5]\n"
          ]
        },
        {
          "name": "stdout",
          "output_type": "stream",
          "text": [
            "Epoch 24, Val Loss: 0.08269150826614512, Val Accuracy: 0.9737682352941176\n"
          ]
        },
        {
          "name": "stderr",
          "output_type": "stream",
          "text": [
            "100%|██████████| 938/938 [00:18<00:00, 51.42it/s, accuracy=1, loss=0.000496, lr=6.38e-5]\n"
          ]
        },
        {
          "name": "stdout",
          "output_type": "stream",
          "text": [
            "Epoch 25, Val Loss: 0.08386888382093076, Val Accuracy: 0.97385\n"
          ]
        },
        {
          "name": "stderr",
          "output_type": "stream",
          "text": [
            "100%|██████████| 938/938 [00:18<00:00, 51.46it/s, accuracy=1, loss=0.000424, lr=5.74e-5]\n"
          ]
        },
        {
          "name": "stdout",
          "output_type": "stream",
          "text": [
            "Epoch 26, Val Loss: 0.08431128972190624, Val Accuracy: 0.9739275862068966\n"
          ]
        },
        {
          "name": "stderr",
          "output_type": "stream",
          "text": [
            "100%|██████████| 938/938 [00:18<00:00, 51.31it/s, accuracy=1, loss=0.000157, lr=5.17e-5]\n"
          ]
        },
        {
          "name": "stdout",
          "output_type": "stream",
          "text": [
            "Epoch 27, Val Loss: 0.08691189852755139, Val Accuracy: 0.9740011363636364\n"
          ]
        },
        {
          "name": "stderr",
          "output_type": "stream",
          "text": [
            "100%|██████████| 938/938 [00:19<00:00, 49.11it/s, accuracy=1, loss=0.00145, lr=4.65e-5]\n"
          ]
        },
        {
          "name": "stdout",
          "output_type": "stream",
          "text": [
            "Epoch 28, Val Loss: 0.08910604661465638, Val Accuracy: 0.9740696629213483\n"
          ]
        },
        {
          "name": "stderr",
          "output_type": "stream",
          "text": [
            "100%|██████████| 938/938 [00:17<00:00, 52.12it/s, accuracy=1, loss=0.00196, lr=4.19e-5]\n"
          ]
        },
        {
          "name": "stdout",
          "output_type": "stream",
          "text": [
            "Epoch 29, Val Loss: 0.0887492257533272, Val Accuracy: 0.9741433333333334\n"
          ]
        },
        {
          "name": "stderr",
          "output_type": "stream",
          "text": [
            "100%|██████████| 938/938 [00:18<00:00, 50.06it/s, accuracy=1, loss=0.00293, lr=3.77e-5]\n"
          ]
        },
        {
          "name": "stdout",
          "output_type": "stream",
          "text": [
            "Epoch 30, Val Loss: 0.09115402514426298, Val Accuracy: 0.9742065934065934\n"
          ]
        },
        {
          "name": "stderr",
          "output_type": "stream",
          "text": [
            "100%|██████████| 938/938 [00:18<00:00, 50.13it/s, accuracy=0.812, loss=0.405, lr=0.0008]\n"
          ]
        },
        {
          "name": "stdout",
          "output_type": "stream",
          "text": [
            "Epoch 1, Val Loss: 0.2098579073034132, Val Accuracy: 0.973775\n"
          ]
        },
        {
          "name": "stderr",
          "output_type": "stream",
          "text": [
            "100%|██████████| 938/938 [00:18<00:00, 49.39it/s, accuracy=0.969, loss=0.0641, lr=0.00072]\n"
          ]
        },
        {
          "name": "stdout",
          "output_type": "stream",
          "text": [
            "Epoch 2, Val Loss: 0.1609149971342153, Val Accuracy: 0.9734838709677419\n"
          ]
        },
        {
          "name": "stderr",
          "output_type": "stream",
          "text": [
            "100%|██████████| 938/938 [00:18<00:00, 50.90it/s, accuracy=1, loss=0.0435, lr=0.000648]\n"
          ]
        },
        {
          "name": "stdout",
          "output_type": "stream",
          "text": [
            "Epoch 3, Val Loss: 0.14665473671036827, Val Accuracy: 0.97325\n"
          ]
        },
        {
          "name": "stderr",
          "output_type": "stream",
          "text": [
            "100%|██████████| 938/938 [00:18<00:00, 50.18it/s, accuracy=1, loss=0.0423, lr=0.000583]\n"
          ]
        },
        {
          "name": "stdout",
          "output_type": "stream",
          "text": [
            "Epoch 4, Val Loss: 0.10492404378100838, Val Accuracy: 0.973181052631579\n"
          ]
        },
        {
          "name": "stderr",
          "output_type": "stream",
          "text": [
            "100%|██████████| 938/938 [00:18<00:00, 49.42it/s, accuracy=0.938, loss=0.121, lr=0.000525]\n"
          ]
        },
        {
          "name": "stdout",
          "output_type": "stream",
          "text": [
            "Epoch 5, Val Loss: 0.09927434618043518, Val Accuracy: 0.9731541666666667\n"
          ]
        },
        {
          "name": "stderr",
          "output_type": "stream",
          "text": [
            "100%|██████████| 938/938 [00:18<00:00, 49.50it/s, accuracy=0.969, loss=0.547, lr=0.000472]\n"
          ]
        },
        {
          "name": "stdout",
          "output_type": "stream",
          "text": [
            "Epoch 6, Val Loss: 0.09542118453763271, Val Accuracy: 0.9731103092783505\n"
          ]
        },
        {
          "name": "stderr",
          "output_type": "stream",
          "text": [
            "100%|██████████| 938/938 [00:18<00:00, 50.26it/s, accuracy=1, loss=0.00859, lr=0.000425]\n"
          ]
        },
        {
          "name": "stdout",
          "output_type": "stream",
          "text": [
            "Epoch 7, Val Loss: 0.0821699622644417, Val Accuracy: 0.9731163265306122\n"
          ]
        },
        {
          "name": "stderr",
          "output_type": "stream",
          "text": [
            "100%|██████████| 938/938 [00:18<00:00, 49.65it/s, accuracy=1, loss=0.0099, lr=0.000383]\n"
          ]
        },
        {
          "name": "stdout",
          "output_type": "stream",
          "text": [
            "Epoch 8, Val Loss: 0.08029196792061383, Val Accuracy: 0.9731272727272727\n"
          ]
        },
        {
          "name": "stderr",
          "output_type": "stream",
          "text": [
            "100%|██████████| 938/938 [00:18<00:00, 49.58it/s, accuracy=1, loss=0.00259, lr=0.000344]\n"
          ]
        },
        {
          "name": "stdout",
          "output_type": "stream",
          "text": [
            "Epoch 9, Val Loss: 0.07683022054783821, Val Accuracy: 0.973149\n"
          ]
        },
        {
          "name": "stderr",
          "output_type": "stream",
          "text": [
            "100%|██████████| 938/938 [00:18<00:00, 50.09it/s, accuracy=1, loss=0.0226, lr=0.00031]\n"
          ]
        },
        {
          "name": "stdout",
          "output_type": "stream",
          "text": [
            "Epoch 10, Val Loss: 0.08033512063563539, Val Accuracy: 0.9731722772277228\n"
          ]
        },
        {
          "name": "stderr",
          "output_type": "stream",
          "text": [
            "100%|██████████| 938/938 [00:18<00:00, 49.85it/s, accuracy=1, loss=0.00868, lr=0.000279]\n"
          ]
        },
        {
          "name": "stdout",
          "output_type": "stream",
          "text": [
            "Epoch 11, Val Loss: 0.07112452986899127, Val Accuracy: 0.9732313725490196\n"
          ]
        },
        {
          "name": "stderr",
          "output_type": "stream",
          "text": [
            "100%|██████████| 938/938 [00:18<00:00, 49.98it/s, accuracy=1, loss=0.00322, lr=0.000251]\n"
          ]
        },
        {
          "name": "stdout",
          "output_type": "stream",
          "text": [
            "Epoch 12, Val Loss: 0.08217220080310236, Val Accuracy: 0.9732650485436893\n"
          ]
        },
        {
          "name": "stderr",
          "output_type": "stream",
          "text": [
            "100%|██████████| 938/938 [00:18<00:00, 50.19it/s, accuracy=1, loss=0.00459, lr=0.000226]\n"
          ]
        },
        {
          "name": "stdout",
          "output_type": "stream",
          "text": [
            "Epoch 13, Val Loss: 0.08708190370538675, Val Accuracy: 0.9732846153846154\n"
          ]
        },
        {
          "name": "stderr",
          "output_type": "stream",
          "text": [
            "100%|██████████| 938/938 [00:18<00:00, 50.50it/s, accuracy=0.969, loss=0.0633, lr=0.000203]\n"
          ]
        },
        {
          "name": "stdout",
          "output_type": "stream",
          "text": [
            "Epoch 14, Val Loss: 0.08147334440181327, Val Accuracy: 0.9733295238095238\n"
          ]
        },
        {
          "name": "stderr",
          "output_type": "stream",
          "text": [
            "100%|██████████| 938/938 [00:18<00:00, 49.49it/s, accuracy=1, loss=0.00247, lr=0.000183]\n"
          ]
        },
        {
          "name": "stdout",
          "output_type": "stream",
          "text": [
            "Epoch 15, Val Loss: 0.08340084354285922, Val Accuracy: 0.9733754716981132\n"
          ]
        },
        {
          "name": "stderr",
          "output_type": "stream",
          "text": [
            "100%|██████████| 938/938 [00:18<00:00, 49.56it/s, accuracy=1, loss=0.00322, lr=0.000165]\n"
          ]
        },
        {
          "name": "stdout",
          "output_type": "stream",
          "text": [
            "Epoch 16, Val Loss: 0.08316272631264449, Val Accuracy: 0.9734261682242991\n"
          ]
        },
        {
          "name": "stderr",
          "output_type": "stream",
          "text": [
            "100%|██████████| 938/938 [00:18<00:00, 51.13it/s, accuracy=1, loss=0.00042, lr=0.000148]\n"
          ]
        },
        {
          "name": "stdout",
          "output_type": "stream",
          "text": [
            "Epoch 17, Val Loss: 0.08661758460335002, Val Accuracy: 0.973475\n"
          ]
        },
        {
          "name": "stderr",
          "output_type": "stream",
          "text": [
            "100%|██████████| 938/938 [00:19<00:00, 48.88it/s, accuracy=1, loss=0.00802, lr=0.000133]\n"
          ]
        },
        {
          "name": "stdout",
          "output_type": "stream",
          "text": [
            "Epoch 18, Val Loss: 0.08098156360624179, Val Accuracy: 0.973545871559633\n"
          ]
        },
        {
          "name": "stderr",
          "output_type": "stream",
          "text": [
            "100%|██████████| 938/938 [00:18<00:00, 50.37it/s, accuracy=1, loss=0.00247, lr=0.00012]\n"
          ]
        },
        {
          "name": "stdout",
          "output_type": "stream",
          "text": [
            "Epoch 19, Val Loss: 0.08589392799431327, Val Accuracy: 0.9735990909090909\n"
          ]
        },
        {
          "name": "stderr",
          "output_type": "stream",
          "text": [
            "100%|██████████| 938/938 [00:19<00:00, 49.20it/s, accuracy=1, loss=0.00168, lr=0.000108]\n"
          ]
        },
        {
          "name": "stdout",
          "output_type": "stream",
          "text": [
            "Epoch 20, Val Loss: 0.08955208352052989, Val Accuracy: 0.9736558558558559\n"
          ]
        },
        {
          "name": "stderr",
          "output_type": "stream",
          "text": [
            "100%|██████████| 938/938 [00:18<00:00, 50.23it/s, accuracy=1, loss=0.00021, lr=9.73e-5]\n"
          ]
        },
        {
          "name": "stdout",
          "output_type": "stream",
          "text": [
            "Epoch 21, Val Loss: 0.09155826225482389, Val Accuracy: 0.9737160714285714\n"
          ]
        },
        {
          "name": "stderr",
          "output_type": "stream",
          "text": [
            "100%|██████████| 938/938 [00:18<00:00, 49.86it/s, accuracy=1, loss=0.00656, lr=8.75e-5]\n"
          ]
        },
        {
          "name": "stdout",
          "output_type": "stream",
          "text": [
            "Epoch 22, Val Loss: 0.08929296930951043, Val Accuracy: 0.9737725663716814\n"
          ]
        },
        {
          "name": "stderr",
          "output_type": "stream",
          "text": [
            "100%|██████████| 938/938 [00:18<00:00, 49.94it/s, accuracy=1, loss=0.00425, lr=7.88e-5]\n"
          ]
        },
        {
          "name": "stdout",
          "output_type": "stream",
          "text": [
            "Epoch 23, Val Loss: 0.09002169743003488, Val Accuracy: 0.9738315789473684\n"
          ]
        },
        {
          "name": "stderr",
          "output_type": "stream",
          "text": [
            "100%|██████████| 938/938 [00:19<00:00, 49.17it/s, accuracy=1, loss=0.00107, lr=7.09e-5]\n"
          ]
        },
        {
          "name": "stdout",
          "output_type": "stream",
          "text": [
            "Epoch 24, Val Loss: 0.10155978013370817, Val Accuracy: 0.9738747826086956\n"
          ]
        },
        {
          "name": "stderr",
          "output_type": "stream",
          "text": [
            "100%|██████████| 938/938 [00:18<00:00, 50.28it/s, accuracy=1, loss=0.00972, lr=6.38e-5]\n"
          ]
        },
        {
          "name": "stdout",
          "output_type": "stream",
          "text": [
            "Epoch 25, Val Loss: 0.09891564448850954, Val Accuracy: 0.973923275862069\n"
          ]
        },
        {
          "name": "stderr",
          "output_type": "stream",
          "text": [
            "100%|██████████| 938/938 [00:19<00:00, 48.88it/s, accuracy=1, loss=0.00162, lr=5.74e-5]\n"
          ]
        },
        {
          "name": "stdout",
          "output_type": "stream",
          "text": [
            "Epoch 26, Val Loss: 0.09599789404832781, Val Accuracy: 0.9739829059829059\n"
          ]
        },
        {
          "name": "stderr",
          "output_type": "stream",
          "text": [
            "100%|██████████| 938/938 [00:18<00:00, 50.26it/s, accuracy=1, loss=0.000672, lr=5.17e-5]\n"
          ]
        },
        {
          "name": "stdout",
          "output_type": "stream",
          "text": [
            "Epoch 27, Val Loss: 0.09921464086170964, Val Accuracy: 0.9740338983050848\n"
          ]
        },
        {
          "name": "stderr",
          "output_type": "stream",
          "text": [
            "100%|██████████| 938/938 [00:18<00:00, 49.74it/s, accuracy=1, loss=0.00285, lr=4.65e-5]\n"
          ]
        },
        {
          "name": "stdout",
          "output_type": "stream",
          "text": [
            "Epoch 28, Val Loss: 0.09855211519892938, Val Accuracy: 0.9740865546218488\n"
          ]
        },
        {
          "name": "stderr",
          "output_type": "stream",
          "text": [
            "100%|██████████| 938/938 [00:18<00:00, 49.89it/s, accuracy=1, loss=0.000298, lr=4.19e-5]\n"
          ]
        },
        {
          "name": "stdout",
          "output_type": "stream",
          "text": [
            "Epoch 29, Val Loss: 0.10230289873200406, Val Accuracy: 0.9741375\n"
          ]
        },
        {
          "name": "stderr",
          "output_type": "stream",
          "text": [
            "100%|██████████| 938/938 [00:20<00:00, 46.18it/s, accuracy=1, loss=0.000177, lr=3.77e-5]\n"
          ]
        },
        {
          "name": "stdout",
          "output_type": "stream",
          "text": [
            "Epoch 30, Val Loss: 0.101977787743816, Val Accuracy: 0.9741917355371901\n"
          ]
        }
      ],
      "source": [
        "epochs = 30\n",
        "n_layers = [1, 2, 3, 4]\n",
        "nlayer_metrics = {\n",
        "    'accuracy': np.empty((4, epochs)),\n",
        "    'precision': np.empty((4, epochs)),\n",
        "    'recall': np.empty((4, epochs)),\n",
        "    'f1_score': np.empty((4, epochs)),\n",
        "}\n",
        "for h, n_layer in enumerate(n_layers):\n",
        "    torch.manual_seed(42)\n",
        "    # Define model\n",
        "    model = MLP(layers_hidden=[28 * 28] + [128]*n_layer + [10])\n",
        "    device = torch.device(\"cuda\" if torch.cuda.is_available() else \"cpu\")\n",
        "    model.to(device)\n",
        "    # Define optimizer\n",
        "    optimizer = optim.AdamW(model.parameters(), lr=8e-4, weight_decay=.01)\n",
        "    # Define learning rate scheduler\n",
        "    scheduler = optim.lr_scheduler.ExponentialLR(optimizer, gamma=0.9)\n",
        "\n",
        "    # Define loss\n",
        "    criterion = nn.CrossEntropyLoss()\n",
        "    for epoch in range(epochs):\n",
        "        # Train\n",
        "        model.train()\n",
        "        with tqdm(train_loader) as pbar:\n",
        "            for i, (images, labels) in enumerate(pbar):\n",
        "                images = images.view(-1, 28 * 28).to(device)\n",
        "                optimizer.zero_grad()\n",
        "                output = model(images)\n",
        "                loss = criterion(output, labels.to(device))\n",
        "                loss.backward()\n",
        "                optimizer.step()\n",
        "                accuracy = (output.argmax(dim=1) == labels.to(device)).float().mean()\n",
        "                pbar.set_postfix(loss=loss.item(), accuracy=accuracy.item(), lr=optimizer.param_groups[0]['lr'])\n",
        "\n",
        "        # Validation\n",
        "        model.eval()\n",
        "        all_preds = []\n",
        "        all_labels = []\n",
        "        val_loss = 0\n",
        "        with torch.no_grad():\n",
        "            for images, labels in val_loader:\n",
        "                images = images.view(-1, 28 * 28).to(device)\n",
        "                output = model(images)\n",
        "                val_loss += criterion(output, labels.to(device)).item()\n",
        "                preds = output.argmax(dim=1)\n",
        "                all_preds.extend(preds.cpu().numpy())\n",
        "                all_labels.extend(labels.cpu().numpy())\n",
        "\n",
        "        val_loss /= len(val_loader)\n",
        "        val_accuracy = (np.array(all_preds) == np.array(all_labels)).mean()\n",
        "        val_precision = precision_score(all_labels, all_preds, average='weighted')\n",
        "        val_recall = recall_score(all_labels, all_preds, average='weighted')\n",
        "        val_f1 = f1_score(all_labels, all_preds, average='weighted')\n",
        "\n",
        "        # Store metrics\n",
        "        nlayer_metrics['accuracy'][h, epoch] = val_accuracy\n",
        "        nlayer_metrics['precision'][h, epoch] = val_precision\n",
        "        nlayer_metrics['recall'][h, epoch] = val_recall\n",
        "        nlayer_metrics['f1_score'][h, epoch] = val_f1\n",
        "\n",
        "        # Update learning rate\n",
        "        scheduler.step()\n",
        "\n",
        "        print(\n",
        "            f\"Epoch {epoch + 1}, Val Loss: {val_loss}, Val Accuracy: {val_accuracy}\"\n",
        "        )"
      ]
    },
    {
      "cell_type": "code",
      "execution_count": null,
      "metadata": {
        "colab": {
          "background_save": true
        },
        "id": "ywyoiVCb691t"
      },
      "outputs": [],
      "source": [
        "np.save('./saved_results/mlp_layer_metrics.npy', nlayer_metrics)"
      ]
    },
    {
      "cell_type": "code",
      "execution_count": 5,
      "metadata": {
        "id": "lJho8zXO5em-"
      },
      "outputs": [],
      "source": [
        "from torch.profiler import profile, record_function, ProfilerActivity\n",
        "device = torch.device(\"cuda\" if torch.cuda.is_available() else \"cpu\")"
      ]
    },
    {
      "cell_type": "code",
      "execution_count": 6,
      "metadata": {
        "id": "AlCgt3EHOtbB"
      },
      "outputs": [],
      "source": [
        "def profile_model(model, inputs, num_runs=100):\n",
        "    total_times = []\n",
        "    for _ in range(num_runs):\n",
        "        total_time = 0\n",
        "        with profile(activities=[ProfilerActivity.CUDA], record_shapes=True) as prof:\n",
        "            model(inputs)\n",
        "\n",
        "        # Extract total CUDA time spent on 'model_inference'\n",
        "        for event in prof.key_averages():\n",
        "            total_time += event.device_time\n",
        "\n",
        "        total_times.append(total_time)\n",
        "    average_time = np.mean(total_times)\n",
        "    std_time = np.std(total_times)\n",
        "    print(f\"Average inference time: {average_time} microseconds +/- {std_time}\")\n",
        "    return average_time, std_time"
      ]
    },
    {
      "cell_type": "code",
      "execution_count": 7,
      "metadata": {
        "colab": {
          "base_uri": "https://localhost:8080/"
        },
        "id": "RpPdVaMb5h3B",
        "outputId": "138b630b-c269-4bb0-b81a-fcdbfecb0687"
      },
      "outputs": [
        {
          "output_type": "stream",
          "name": "stdout",
          "text": [
            "Hidden Dims: 16\n",
            "Average inference time: 16.469300000000068 microseconds +/- 0.1294072100017815\n",
            "Hidden Dims: 32\n",
            "Average inference time: 18.38102800000001 microseconds +/- 0.0591990812091114\n",
            "Hidden Dims: 64\n",
            "Average inference time: 15.246054999999982 microseconds +/- 0.1816489635946277\n",
            "Hidden Dims: 128\n",
            "Average inference time: 15.652834999999985 microseconds +/- 0.14793943955214972\n",
            "Hidden Dims: 256\n",
            "Average inference time: 17.532512000000004 microseconds +/- 0.06608825807962573\n",
            "Hidden Dims: 512\n",
            "Average inference time: 22.471773 microseconds +/- 0.13574125928029704\n",
            "Hidden Dims: 1024\n",
            "Average inference time: 30.496041000000005 microseconds +/- 0.12915276736872705\n",
            "Hidden Dims: 2048\n",
            "Average inference time: 46.71211000000001 microseconds +/- 0.33805827293530394\n"
          ]
        }
      ],
      "source": [
        "inputs = torch.randn((1, 784)).to(device)\n",
        "hdims = [16, 32, 64, 128, 256, 512, 1024, 2048]\n",
        "means = []\n",
        "stds = []\n",
        "for h in hdims:\n",
        "    model = MLP(layers_hidden=[28 * 28, h, 10]).to(device)\n",
        "    print('Hidden Dims: %d' % h)\n",
        "    avg, std = profile_model(model, inputs, 1000)\n",
        "    means.append(avg)\n",
        "    stds.append(std)"
      ]
    },
    {
      "cell_type": "code",
      "execution_count": 8,
      "metadata": {
        "id": "2fD63w6GOStJ"
      },
      "outputs": [],
      "source": [
        "np.save('./saved_results/mlp_scaling_mean_hdims.npy', means)\n",
        "np.save('./saved_results/mlp_scaling_std_hdims.npy', stds)"
      ]
    },
    {
      "cell_type": "code",
      "execution_count": 9,
      "metadata": {
        "colab": {
          "base_uri": "https://localhost:8080/"
        },
        "id": "ocQnoJHcSUYh",
        "outputId": "9911cccf-695d-467d-d53b-251d73eccd5d"
      },
      "outputs": [
        {
          "output_type": "stream",
          "name": "stdout",
          "text": [
            "Input Batch Size: 16\n",
            "Average inference time: 14.677882000000002 microseconds +/- 0.03578950371267998\n",
            "Input Batch Size: 32\n",
            "Average inference time: 24.0251725 microseconds +/- 0.04129802045801046\n",
            "Input Batch Size: 64\n",
            "Average inference time: 23.151859999999992 microseconds +/- 0.041839280586549024\n",
            "Input Batch Size: 128\n",
            "Average inference time: 43.249322 microseconds +/- 0.12244278792970538\n",
            "Input Batch Size: 256\n",
            "Average inference time: 48.577977 microseconds +/- 0.20088813919940596\n",
            "Input Batch Size: 512\n",
            "Average inference time: 64.616773 microseconds +/- 0.1973470634972756\n",
            "Input Batch Size: 1024\n",
            "Average inference time: 107.24766500000001 microseconds +/- 0.36356909766232276\n",
            "Input Batch Size: 2048\n",
            "Average inference time: 165.409793 microseconds +/- 1.003110950070331\n"
          ]
        }
      ],
      "source": [
        "hdims = [16, 32, 64, 128, 256, 512, 1024, 2048]\n",
        "means = []\n",
        "stds = []\n",
        "for h in hdims:\n",
        "    model = MLP(layers_hidden=[28 * 28, 64, 10]).to(device)\n",
        "    inputs = torch.randn((h, 784)).to(device)\n",
        "    print('Input Batch Size: %d' % h)\n",
        "    avg, std = profile_model(model, inputs, 1000)\n",
        "    means.append(avg)\n",
        "    stds.append(std)"
      ]
    },
    {
      "cell_type": "code",
      "execution_count": 10,
      "metadata": {
        "id": "nwroruzJOOPW"
      },
      "outputs": [],
      "source": [
        "np.save('./saved_results/mlp_scaling_mean_batch.npy', means)\n",
        "np.save('./saved_results/mlp_scaling_std_batch.npy', stds)"
      ]
    },
    {
      "cell_type": "code",
      "execution_count": 11,
      "metadata": {
        "colab": {
          "base_uri": "https://localhost:8080/"
        },
        "id": "HZ9FGPPpg3ll",
        "outputId": "c5ef1995-e976-452f-f7d3-4472498eeb44"
      },
      "outputs": [
        {
          "output_type": "stream",
          "name": "stdout",
          "text": [
            "Number of Hidden Layers: 1\n",
            "Average inference time: 14.979579000000003 microseconds +/- 0.18191051580103915\n",
            "Number of Hidden Layers: 2\n",
            "Average inference time: 19.859807999999997 microseconds +/- 0.21762052553929087\n",
            "Number of Hidden Layers: 3\n",
            "Average inference time: 19.734595666666667 microseconds +/- 0.1643495418412975\n",
            "Number of Hidden Layers: 4\n",
            "Average inference time: 19.711927000000003 microseconds +/- 0.22946895128002276\n"
          ]
        }
      ],
      "source": [
        "nlayers = [1, 2, 3, 4]\n",
        "means = []\n",
        "stds = []\n",
        "for n in nlayers:\n",
        "    model = MLP(layers_hidden=[28 * 28] + [64]*n +[10]).to(device)\n",
        "    inputs = torch.randn((1, 784)).to(device)\n",
        "    print('Number of Hidden Layers: %d' % n)\n",
        "    avg, std = profile_model(model, inputs, 1000)\n",
        "    means.append(avg)\n",
        "    stds.append(std)"
      ]
    },
    {
      "cell_type": "code",
      "execution_count": 13,
      "metadata": {
        "id": "ExHCYJ0CYnAm"
      },
      "outputs": [],
      "source": [
        "np.save('./saved_results/mlp_scaling_mean_layers.npy', means)\n",
        "np.save('./saved_results/mlp_scaling_std_layers.npy', stds)"
      ]
    },
    {
      "cell_type": "code",
      "execution_count": 18,
      "metadata": {
        "id": "khUKnMYSgfwd"
      },
      "outputs": [],
      "source": []
    }
  ],
  "metadata": {
    "accelerator": "GPU",
    "colab": {
      "gpuType": "T4",
      "provenance": [],
      "mount_file_id": "1Il_VdMzTnhHt-JXQsJi1SGFGG-snIms8",
      "authorship_tag": "ABX9TyO0FOBScZOU0qHe8A0lovVz",
      "include_colab_link": true
    },
    "kernelspec": {
      "display_name": "Python 3",
      "name": "python3"
    },
    "language_info": {
      "name": "python"
    }
  },
  "nbformat": 4,
  "nbformat_minor": 0
}