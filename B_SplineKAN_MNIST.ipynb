{
  "cells": [
    {
      "cell_type": "markdown",
      "metadata": {
        "id": "view-in-github",
        "colab_type": "text"
      },
      "source": [
        "<a href=\"https://colab.research.google.com/github/ereinha/SineKAN/blob/main/B_SplineKAN_MNIST.ipynb\" target=\"_parent\"><img src=\"https://colab.research.google.com/assets/colab-badge.svg\" alt=\"Open In Colab\"/></a>"
      ]
    },
    {
      "cell_type": "code",
      "execution_count": 2,
      "metadata": {
        "id": "C3RY0iXt6nD-"
      },
      "outputs": [],
      "source": [
        "import matplotlib.pyplot as plt"
      ]
    },
    {
      "cell_type": "code",
      "execution_count": 3,
      "metadata": {
        "id": "pb5N8Ayea-QZ"
      },
      "outputs": [],
      "source": [
        "from kan import *\n",
        "\n",
        "import numpy as np\n",
        "import torch\n",
        "import torch.nn as nn\n",
        "import torch.optim as optim\n",
        "import torchvision\n",
        "import torchvision.transforms as transforms\n",
        "from torch.utils.data import DataLoader\n",
        "from tqdm import tqdm\n",
        "from torchsummary import summary\n",
        "\n",
        "from sklearn.metrics import precision_score, recall_score, f1_score"
      ]
    },
    {
      "cell_type": "code",
      "execution_count": 4,
      "metadata": {
        "id": "_OYd8RAu5fSf"
      },
      "outputs": [],
      "source": [
        "# Load MNIST\n",
        "transform = transforms.Compose(\n",
        "    [transforms.ToTensor(), transforms.Normalize((0.5,), (0.5,))]\n",
        ")\n",
        "train_set = torchvision.datasets.MNIST(\n",
        "    root=\"./data\", train=True, download=True, transform=transform\n",
        ")\n",
        "val_set = torchvision.datasets.MNIST(\n",
        "    root=\"./data\", train=False, download=True, transform=transform\n",
        ")\n",
        "train_loader = DataLoader(train_set, batch_size=64, num_workers=2, shuffle=True)\n",
        "val_loader = DataLoader(val_set, batch_size=64, num_workers=2, shuffle=False)"
      ]
    },
    {
      "cell_type": "code",
      "execution_count": null,
      "metadata": {
        "colab": {
          "background_save": true,
          "base_uri": "https://localhost:8080/"
        },
        "id": "7z9Q5gv73Ngn",
        "outputId": "34e9b058-59dd-4455-9058-713906a0b30b"
      },
      "outputs": [
        {
          "name": "stderr",
          "output_type": "stream",
          "text": [
            "100%|██████████| 938/938 [00:23<00:00, 40.31it/s, accuracy=0.938, loss=0.268, lr=0.004]\n"
          ]
        },
        {
          "name": "stdout",
          "output_type": "stream",
          "text": [
            "Epoch 1, Val Loss: 0.12268612892693205, Val Accuracy: 0.9618829617834395\n"
          ]
        },
        {
          "name": "stderr",
          "output_type": "stream",
          "text": [
            "100%|██████████| 938/938 [00:21<00:00, 43.48it/s, accuracy=0.969, loss=0.0879, lr=0.0032]\n"
          ]
        },
        {
          "name": "stdout",
          "output_type": "stream",
          "text": [
            "Epoch 2, Val Loss: 0.10790182129186311, Val Accuracy: 0.9653662420382165\n"
          ]
        },
        {
          "name": "stderr",
          "output_type": "stream",
          "text": [
            "100%|██████████| 938/938 [00:22<00:00, 41.38it/s, accuracy=0.969, loss=0.1, lr=0.00256]\n"
          ]
        },
        {
          "name": "stdout",
          "output_type": "stream",
          "text": [
            "Epoch 3, Val Loss: 0.1115728503984405, Val Accuracy: 0.9650676751592356\n"
          ]
        },
        {
          "name": "stderr",
          "output_type": "stream",
          "text": [
            "100%|██████████| 938/938 [00:21<00:00, 44.33it/s, accuracy=1, loss=0.00758, lr=0.00205]\n"
          ]
        },
        {
          "name": "stdout",
          "output_type": "stream",
          "text": [
            "Epoch 4, Val Loss: 0.08660540739933562, Val Accuracy: 0.9742237261146497\n"
          ]
        },
        {
          "name": "stderr",
          "output_type": "stream",
          "text": [
            "100%|██████████| 938/938 [00:21<00:00, 43.92it/s, accuracy=0.969, loss=0.0353, lr=0.00164]\n"
          ]
        },
        {
          "name": "stdout",
          "output_type": "stream",
          "text": [
            "Epoch 5, Val Loss: 0.09113317917194329, Val Accuracy: 0.9729299363057324\n"
          ]
        },
        {
          "name": "stderr",
          "output_type": "stream",
          "text": [
            "100%|██████████| 938/938 [00:22<00:00, 42.16it/s, accuracy=1, loss=0.00878, lr=0.00131]\n"
          ]
        },
        {
          "name": "stdout",
          "output_type": "stream",
          "text": [
            "Epoch 6, Val Loss: 0.0922120901366748, Val Accuracy: 0.9732285031847133\n"
          ]
        },
        {
          "name": "stderr",
          "output_type": "stream",
          "text": [
            "100%|██████████| 938/938 [00:21<00:00, 44.02it/s, accuracy=1, loss=0.000448, lr=0.00105]\n"
          ]
        },
        {
          "name": "stdout",
          "output_type": "stream",
          "text": [
            "Epoch 7, Val Loss: 0.08670208127974999, Val Accuracy: 0.9759156050955414\n"
          ]
        },
        {
          "name": "stderr",
          "output_type": "stream",
          "text": [
            "100%|██████████| 938/938 [00:22<00:00, 42.61it/s, accuracy=1, loss=0.00288, lr=0.000839]\n"
          ]
        },
        {
          "name": "stdout",
          "output_type": "stream",
          "text": [
            "Epoch 8, Val Loss: 0.08527596194082411, Val Accuracy: 0.9789012738853503\n"
          ]
        },
        {
          "name": "stderr",
          "output_type": "stream",
          "text": [
            "100%|██████████| 938/938 [00:21<00:00, 43.97it/s, accuracy=1, loss=0.00362, lr=0.000671]\n"
          ]
        },
        {
          "name": "stdout",
          "output_type": "stream",
          "text": [
            "Epoch 9, Val Loss: 0.08454325803470322, Val Accuracy: 0.9773089171974523\n"
          ]
        },
        {
          "name": "stderr",
          "output_type": "stream",
          "text": [
            "100%|██████████| 938/938 [00:22<00:00, 42.33it/s, accuracy=1, loss=0.00122, lr=0.000537]\n"
          ]
        },
        {
          "name": "stdout",
          "output_type": "stream",
          "text": [
            "Epoch 10, Val Loss: 0.08625706139383701, Val Accuracy: 0.9775079617834395\n"
          ]
        },
        {
          "name": "stderr",
          "output_type": "stream",
          "text": [
            "100%|██████████| 938/938 [00:21<00:00, 43.14it/s, accuracy=1, loss=0.0012, lr=0.000429]\n"
          ]
        },
        {
          "name": "stdout",
          "output_type": "stream",
          "text": [
            "Epoch 11, Val Loss: 0.08732976629173185, Val Accuracy: 0.9776074840764332\n"
          ]
        },
        {
          "name": "stderr",
          "output_type": "stream",
          "text": [
            "100%|██████████| 938/938 [00:22<00:00, 42.55it/s, accuracy=1, loss=9.07e-5, lr=0.000344]\n"
          ]
        },
        {
          "name": "stdout",
          "output_type": "stream",
          "text": [
            "Epoch 12, Val Loss: 0.0889239531175732, Val Accuracy: 0.978702229299363\n"
          ]
        },
        {
          "name": "stderr",
          "output_type": "stream",
          "text": [
            "100%|██████████| 938/938 [00:21<00:00, 44.09it/s, accuracy=1, loss=0.000119, lr=0.000275]\n"
          ]
        },
        {
          "name": "stdout",
          "output_type": "stream",
          "text": [
            "Epoch 13, Val Loss: 0.09058790612174603, Val Accuracy: 0.978702229299363\n"
          ]
        },
        {
          "name": "stderr",
          "output_type": "stream",
          "text": [
            "100%|██████████| 938/938 [00:22<00:00, 41.77it/s, accuracy=1, loss=0.000718, lr=0.00022]\n"
          ]
        },
        {
          "name": "stdout",
          "output_type": "stream",
          "text": [
            "Epoch 14, Val Loss: 0.09193448044901059, Val Accuracy: 0.9785031847133758\n"
          ]
        },
        {
          "name": "stderr",
          "output_type": "stream",
          "text": [
            "100%|██████████| 938/938 [00:21<00:00, 43.57it/s, accuracy=1, loss=0.000322, lr=0.000176]\n"
          ]
        },
        {
          "name": "stdout",
          "output_type": "stream",
          "text": [
            "Epoch 15, Val Loss: 0.09288357061699032, Val Accuracy: 0.978702229299363\n"
          ]
        },
        {
          "name": "stderr",
          "output_type": "stream",
          "text": [
            "100%|██████████| 938/938 [00:22<00:00, 41.82it/s, accuracy=1, loss=0.00142, lr=0.000141]\n"
          ]
        },
        {
          "name": "stdout",
          "output_type": "stream",
          "text": [
            "Epoch 16, Val Loss: 0.09447877209666498, Val Accuracy: 0.9783041401273885\n"
          ]
        },
        {
          "name": "stderr",
          "output_type": "stream",
          "text": [
            "100%|██████████| 938/938 [00:21<00:00, 44.11it/s, accuracy=1, loss=0.000549, lr=0.000113]\n"
          ]
        },
        {
          "name": "stdout",
          "output_type": "stream",
          "text": [
            "Epoch 17, Val Loss: 0.09566397845736203, Val Accuracy: 0.9788017515923567\n"
          ]
        },
        {
          "name": "stderr",
          "output_type": "stream",
          "text": [
            "100%|██████████| 938/938 [00:22<00:00, 42.15it/s, accuracy=1, loss=0.00063, lr=9.01e-5]\n"
          ]
        },
        {
          "name": "stdout",
          "output_type": "stream",
          "text": [
            "Epoch 18, Val Loss: 0.09750513223518101, Val Accuracy: 0.9781050955414012\n"
          ]
        },
        {
          "name": "stderr",
          "output_type": "stream",
          "text": [
            "100%|██████████| 938/938 [00:21<00:00, 43.89it/s, accuracy=1, loss=0.000158, lr=7.21e-5]\n"
          ]
        },
        {
          "name": "stdout",
          "output_type": "stream",
          "text": [
            "Epoch 19, Val Loss: 0.09763095978051306, Val Accuracy: 0.9783041401273885\n"
          ]
        },
        {
          "name": "stderr",
          "output_type": "stream",
          "text": [
            "100%|██████████| 938/938 [00:21<00:00, 42.74it/s, accuracy=1, loss=7.25e-5, lr=5.76e-5]\n"
          ]
        },
        {
          "name": "stdout",
          "output_type": "stream",
          "text": [
            "Epoch 20, Val Loss: 0.09896709653878516, Val Accuracy: 0.9781050955414012\n"
          ]
        },
        {
          "name": "stderr",
          "output_type": "stream",
          "text": [
            "100%|██████████| 938/938 [00:20<00:00, 44.67it/s, accuracy=1, loss=0.000262, lr=4.61e-5]\n"
          ]
        },
        {
          "name": "stdout",
          "output_type": "stream",
          "text": [
            "Epoch 21, Val Loss: 0.10022387231475959, Val Accuracy: 0.9788017515923567\n"
          ]
        },
        {
          "name": "stderr",
          "output_type": "stream",
          "text": [
            "100%|██████████| 938/938 [00:21<00:00, 42.72it/s, accuracy=1, loss=5.68e-5, lr=3.69e-5]\n"
          ]
        },
        {
          "name": "stdout",
          "output_type": "stream",
          "text": [
            "Epoch 22, Val Loss: 0.10054038560824839, Val Accuracy: 0.9785031847133758\n"
          ]
        },
        {
          "name": "stderr",
          "output_type": "stream",
          "text": [
            "100%|██████████| 938/938 [00:21<00:00, 44.32it/s, accuracy=1, loss=7.02e-5, lr=2.95e-5]\n"
          ]
        },
        {
          "name": "stdout",
          "output_type": "stream",
          "text": [
            "Epoch 23, Val Loss: 0.10085855391764653, Val Accuracy: 0.9788017515923567\n"
          ]
        },
        {
          "name": "stderr",
          "output_type": "stream",
          "text": [
            "100%|██████████| 938/938 [00:21<00:00, 42.91it/s, accuracy=1, loss=0.000263, lr=2.36e-5]\n"
          ]
        },
        {
          "name": "stdout",
          "output_type": "stream",
          "text": [
            "Epoch 24, Val Loss: 0.10128267717547583, Val Accuracy: 0.9789012738853503\n"
          ]
        },
        {
          "name": "stderr",
          "output_type": "stream",
          "text": [
            "100%|██████████| 938/938 [00:20<00:00, 44.76it/s, accuracy=1, loss=0.000197, lr=1.89e-5]\n"
          ]
        },
        {
          "name": "stdout",
          "output_type": "stream",
          "text": [
            "Epoch 25, Val Loss: 0.10158670893630313, Val Accuracy: 0.9788017515923567\n"
          ]
        },
        {
          "name": "stderr",
          "output_type": "stream",
          "text": [
            "100%|██████████| 938/938 [00:21<00:00, 43.47it/s, accuracy=1, loss=4.11e-5, lr=1.51e-5]\n"
          ]
        },
        {
          "name": "stdout",
          "output_type": "stream",
          "text": [
            "Epoch 26, Val Loss: 0.10181606705796228, Val Accuracy: 0.9790007961783439\n"
          ]
        },
        {
          "name": "stderr",
          "output_type": "stream",
          "text": [
            "100%|██████████| 938/938 [00:21<00:00, 42.80it/s, accuracy=1, loss=2e-5, lr=1.21e-5]\n"
          ]
        },
        {
          "name": "stdout",
          "output_type": "stream",
          "text": [
            "Epoch 27, Val Loss: 0.10214139678823218, Val Accuracy: 0.9786027070063694\n"
          ]
        },
        {
          "name": "stderr",
          "output_type": "stream",
          "text": [
            "100%|██████████| 938/938 [00:22<00:00, 41.97it/s, accuracy=1, loss=0.000101, lr=9.67e-6]\n"
          ]
        },
        {
          "name": "stdout",
          "output_type": "stream",
          "text": [
            "Epoch 28, Val Loss: 0.10229659529388727, Val Accuracy: 0.978702229299363\n"
          ]
        },
        {
          "name": "stderr",
          "output_type": "stream",
          "text": [
            "100%|██████████| 938/938 [00:21<00:00, 44.46it/s, accuracy=1, loss=6.98e-5, lr=7.74e-6]\n"
          ]
        },
        {
          "name": "stdout",
          "output_type": "stream",
          "text": [
            "Epoch 29, Val Loss: 0.10259955425244648, Val Accuracy: 0.978702229299363\n"
          ]
        },
        {
          "name": "stderr",
          "output_type": "stream",
          "text": [
            "100%|██████████| 938/938 [00:21<00:00, 43.33it/s, accuracy=1, loss=6.28e-5, lr=6.19e-6]\n"
          ]
        },
        {
          "name": "stdout",
          "output_type": "stream",
          "text": [
            "Epoch 30, Val Loss: 0.10273737385073703, Val Accuracy: 0.978702229299363\n",
            "LR: 0.004 Gamma: 0.8 Hdim: 64 Best Accuracy: 0.9790007961783439\n"
          ]
        },
        {
          "name": "stderr",
          "output_type": "stream",
          "text": [
            "100%|██████████| 938/938 [00:21<00:00, 44.15it/s, accuracy=0.938, loss=0.296, lr=0.004]\n"
          ]
        },
        {
          "name": "stdout",
          "output_type": "stream",
          "text": [
            "Epoch 1, Val Loss: 0.15222681919261102, Val Accuracy: 0.9527269108280255\n"
          ]
        },
        {
          "name": "stderr",
          "output_type": "stream",
          "text": [
            "100%|██████████| 938/938 [00:21<00:00, 42.86it/s, accuracy=0.969, loss=0.0919, lr=0.0032]\n"
          ]
        },
        {
          "name": "stdout",
          "output_type": "stream",
          "text": [
            "Epoch 2, Val Loss: 0.1055467705172635, Val Accuracy: 0.9684514331210191\n"
          ]
        },
        {
          "name": "stderr",
          "output_type": "stream",
          "text": [
            "100%|██████████| 938/938 [00:21<00:00, 43.92it/s, accuracy=0.969, loss=0.0706, lr=0.00256]\n"
          ]
        },
        {
          "name": "stdout",
          "output_type": "stream",
          "text": [
            "Epoch 3, Val Loss: 0.09554947321088154, Val Accuracy: 0.970640923566879\n"
          ]
        },
        {
          "name": "stderr",
          "output_type": "stream",
          "text": [
            "100%|██████████| 938/938 [00:21<00:00, 43.13it/s, accuracy=1, loss=0.0226, lr=0.00205]\n"
          ]
        },
        {
          "name": "stdout",
          "output_type": "stream",
          "text": [
            "Epoch 4, Val Loss: 0.08461977615925613, Val Accuracy: 0.9772093949044586\n"
          ]
        },
        {
          "name": "stderr",
          "output_type": "stream",
          "text": [
            "100%|██████████| 938/938 [00:21<00:00, 43.98it/s, accuracy=1, loss=0.00552, lr=0.00164]\n"
          ]
        },
        {
          "name": "stdout",
          "output_type": "stream",
          "text": [
            "Epoch 5, Val Loss: 0.08950155625136211, Val Accuracy: 0.9754179936305732\n"
          ]
        },
        {
          "name": "stderr",
          "output_type": "stream",
          "text": [
            "100%|██████████| 938/938 [00:21<00:00, 43.58it/s, accuracy=1, loss=0.000727, lr=0.00131]\n"
          ]
        },
        {
          "name": "stdout",
          "output_type": "stream",
          "text": [
            "Epoch 6, Val Loss: 0.09997350067909803, Val Accuracy: 0.9758160828025477\n"
          ]
        },
        {
          "name": "stderr",
          "output_type": "stream",
          "text": [
            "100%|██████████| 938/938 [00:21<00:00, 43.81it/s, accuracy=1, loss=0.000574, lr=0.00105]\n"
          ]
        },
        {
          "name": "stdout",
          "output_type": "stream",
          "text": [
            "Epoch 7, Val Loss: 0.08776467629918211, Val Accuracy: 0.9780055732484076\n"
          ]
        },
        {
          "name": "stderr",
          "output_type": "stream",
          "text": [
            "100%|██████████| 938/938 [00:21<00:00, 43.63it/s, accuracy=1, loss=0.00343, lr=0.000839]\n"
          ]
        },
        {
          "name": "stdout",
          "output_type": "stream",
          "text": [
            "Epoch 8, Val Loss: 0.08431130128558105, Val Accuracy: 0.9795979299363057\n"
          ]
        },
        {
          "name": "stderr",
          "output_type": "stream",
          "text": [
            "100%|██████████| 938/938 [00:21<00:00, 44.03it/s, accuracy=1, loss=0.000745, lr=0.000671]\n"
          ]
        },
        {
          "name": "stdout",
          "output_type": "stream",
          "text": [
            "Epoch 9, Val Loss: 0.08560090167454862, Val Accuracy: 0.9808917197452229\n"
          ]
        },
        {
          "name": "stderr",
          "output_type": "stream",
          "text": [
            "100%|██████████| 938/938 [00:21<00:00, 42.99it/s, accuracy=1, loss=0.000216, lr=0.000537]\n"
          ]
        },
        {
          "name": "stdout",
          "output_type": "stream",
          "text": [
            "Epoch 10, Val Loss: 0.08647706883533293, Val Accuracy: 0.9809912420382165\n"
          ]
        },
        {
          "name": "stderr",
          "output_type": "stream",
          "text": [
            "100%|██████████| 938/938 [00:21<00:00, 43.62it/s, accuracy=1, loss=0.000496, lr=0.000429]\n"
          ]
        },
        {
          "name": "stdout",
          "output_type": "stream",
          "text": [
            "Epoch 11, Val Loss: 0.08828039640165569, Val Accuracy: 0.9802945859872612\n"
          ]
        },
        {
          "name": "stderr",
          "output_type": "stream",
          "text": [
            "100%|██████████| 938/938 [00:22<00:00, 42.31it/s, accuracy=1, loss=0.000119, lr=0.000344]\n"
          ]
        },
        {
          "name": "stdout",
          "output_type": "stream",
          "text": [
            "Epoch 12, Val Loss: 0.09079623167781772, Val Accuracy: 0.980593152866242\n"
          ]
        },
        {
          "name": "stderr",
          "output_type": "stream",
          "text": [
            "100%|██████████| 938/938 [00:21<00:00, 43.75it/s, accuracy=1, loss=0.000571, lr=0.000275]\n"
          ]
        },
        {
          "name": "stdout",
          "output_type": "stream",
          "text": [
            "Epoch 13, Val Loss: 0.09265038676176349, Val Accuracy: 0.9812898089171974\n"
          ]
        },
        {
          "name": "stderr",
          "output_type": "stream",
          "text": [
            "100%|██████████| 938/938 [00:22<00:00, 41.63it/s, accuracy=1, loss=0.000433, lr=0.00022]\n"
          ]
        },
        {
          "name": "stdout",
          "output_type": "stream",
          "text": [
            "Epoch 14, Val Loss: 0.09479496037248333, Val Accuracy: 0.9803941082802548\n"
          ]
        },
        {
          "name": "stderr",
          "output_type": "stream",
          "text": [
            "100%|██████████| 938/938 [00:21<00:00, 43.60it/s, accuracy=1, loss=7.81e-5, lr=0.000176]\n"
          ]
        },
        {
          "name": "stdout",
          "output_type": "stream",
          "text": [
            "Epoch 15, Val Loss: 0.09638284288896139, Val Accuracy: 0.9807921974522293\n"
          ]
        },
        {
          "name": "stderr",
          "output_type": "stream",
          "text": [
            "100%|██████████| 938/938 [00:22<00:00, 41.85it/s, accuracy=1, loss=0.000117, lr=0.000141]\n"
          ]
        },
        {
          "name": "stdout",
          "output_type": "stream",
          "text": [
            "Epoch 16, Val Loss: 0.09764668671199578, Val Accuracy: 0.9802945859872612\n"
          ]
        },
        {
          "name": "stderr",
          "output_type": "stream",
          "text": [
            "100%|██████████| 938/938 [00:21<00:00, 43.86it/s, accuracy=1, loss=6.47e-5, lr=0.000113]\n"
          ]
        },
        {
          "name": "stdout",
          "output_type": "stream",
          "text": [
            "Epoch 17, Val Loss: 0.09993903966568313, Val Accuracy: 0.9807921974522293\n"
          ]
        },
        {
          "name": "stderr",
          "output_type": "stream",
          "text": [
            "100%|██████████| 938/938 [00:22<00:00, 42.22it/s, accuracy=1, loss=8.65e-5, lr=9.01e-5]\n"
          ]
        },
        {
          "name": "stdout",
          "output_type": "stream",
          "text": [
            "Epoch 18, Val Loss: 0.10073021440178305, Val Accuracy: 0.9813893312101911\n"
          ]
        },
        {
          "name": "stderr",
          "output_type": "stream",
          "text": [
            "100%|██████████| 938/938 [00:21<00:00, 43.79it/s, accuracy=1, loss=0.000136, lr=7.21e-5]\n"
          ]
        },
        {
          "name": "stdout",
          "output_type": "stream",
          "text": [
            "Epoch 19, Val Loss: 0.10166115790834318, Val Accuracy: 0.9812898089171974\n"
          ]
        },
        {
          "name": "stderr",
          "output_type": "stream",
          "text": [
            "100%|██████████| 938/938 [00:21<00:00, 42.69it/s, accuracy=1, loss=9.86e-5, lr=5.76e-5]\n"
          ]
        },
        {
          "name": "stdout",
          "output_type": "stream",
          "text": [
            "Epoch 20, Val Loss: 0.10249651181548569, Val Accuracy: 0.9808917197452229\n"
          ]
        },
        {
          "name": "stderr",
          "output_type": "stream",
          "text": [
            "100%|██████████| 938/938 [00:21<00:00, 44.07it/s, accuracy=1, loss=8.44e-5, lr=4.61e-5]\n"
          ]
        },
        {
          "name": "stdout",
          "output_type": "stream",
          "text": [
            "Epoch 21, Val Loss: 0.10346448542829394, Val Accuracy: 0.9811902866242038\n"
          ]
        },
        {
          "name": "stderr",
          "output_type": "stream",
          "text": [
            "100%|██████████| 938/938 [00:22<00:00, 42.55it/s, accuracy=1, loss=8.56e-5, lr=3.69e-5]\n"
          ]
        },
        {
          "name": "stdout",
          "output_type": "stream",
          "text": [
            "Epoch 22, Val Loss: 0.10472086141340439, Val Accuracy: 0.9809912420382165\n"
          ]
        },
        {
          "name": "stderr",
          "output_type": "stream",
          "text": [
            "100%|██████████| 938/938 [00:22<00:00, 42.57it/s, accuracy=1, loss=0.000123, lr=2.95e-5]\n"
          ]
        },
        {
          "name": "stdout",
          "output_type": "stream",
          "text": [
            "Epoch 23, Val Loss: 0.10510061145717663, Val Accuracy: 0.9810907643312102\n"
          ]
        },
        {
          "name": "stderr",
          "output_type": "stream",
          "text": [
            "100%|██████████| 938/938 [00:22<00:00, 41.85it/s, accuracy=1, loss=7.3e-5, lr=2.36e-5]\n"
          ]
        },
        {
          "name": "stdout",
          "output_type": "stream",
          "text": [
            "Epoch 24, Val Loss: 0.10550491552757643, Val Accuracy: 0.9810907643312102\n"
          ]
        },
        {
          "name": "stderr",
          "output_type": "stream",
          "text": [
            "100%|██████████| 938/938 [00:22<00:00, 42.59it/s, accuracy=1, loss=3.23e-5, lr=1.89e-5]\n"
          ]
        },
        {
          "name": "stdout",
          "output_type": "stream",
          "text": [
            "Epoch 25, Val Loss: 0.10617824397527481, Val Accuracy: 0.9812898089171974\n"
          ]
        },
        {
          "name": "stderr",
          "output_type": "stream",
          "text": [
            "100%|██████████| 938/938 [00:22<00:00, 41.38it/s, accuracy=1, loss=2.91e-5, lr=1.51e-5]\n"
          ]
        },
        {
          "name": "stdout",
          "output_type": "stream",
          "text": [
            "Epoch 26, Val Loss: 0.10636015701519357, Val Accuracy: 0.9809912420382165\n"
          ]
        },
        {
          "name": "stderr",
          "output_type": "stream",
          "text": [
            "100%|██████████| 938/938 [00:21<00:00, 43.74it/s, accuracy=1, loss=5.1e-5, lr=1.21e-5]\n"
          ]
        },
        {
          "name": "stdout",
          "output_type": "stream",
          "text": [
            "Epoch 27, Val Loss: 0.10675490951648368, Val Accuracy: 0.9810907643312102\n"
          ]
        },
        {
          "name": "stderr",
          "output_type": "stream",
          "text": [
            "100%|██████████| 938/938 [00:22<00:00, 41.00it/s, accuracy=1, loss=2.83e-5, lr=9.67e-6]\n"
          ]
        },
        {
          "name": "stdout",
          "output_type": "stream",
          "text": [
            "Epoch 28, Val Loss: 0.10695081830994127, Val Accuracy: 0.9810907643312102\n"
          ]
        },
        {
          "name": "stderr",
          "output_type": "stream",
          "text": [
            "100%|██████████| 938/938 [00:21<00:00, 44.19it/s, accuracy=1, loss=6.33e-6, lr=7.74e-6]\n"
          ]
        },
        {
          "name": "stdout",
          "output_type": "stream",
          "text": [
            "Epoch 29, Val Loss: 0.10725337863178867, Val Accuracy: 0.9809912420382165\n"
          ]
        },
        {
          "name": "stderr",
          "output_type": "stream",
          "text": [
            "100%|██████████| 938/938 [00:22<00:00, 41.12it/s, accuracy=1, loss=2.05e-5, lr=6.19e-6]\n"
          ]
        },
        {
          "name": "stdout",
          "output_type": "stream",
          "text": [
            "Epoch 30, Val Loss: 0.10742839149433593, Val Accuracy: 0.9808917197452229\n",
            "LR: 0.004 Gamma: 0.8 Hdim: 128 Best Accuracy: 0.9813893312101911\n"
          ]
        },
        {
          "name": "stderr",
          "output_type": "stream",
          "text": [
            "100%|██████████| 938/938 [00:21<00:00, 43.37it/s, accuracy=1, loss=0.0418, lr=0.004]\n"
          ]
        },
        {
          "name": "stdout",
          "output_type": "stream",
          "text": [
            "Epoch 1, Val Loss: 0.1252861888493429, Val Accuracy: 0.9642714968152867\n"
          ]
        },
        {
          "name": "stderr",
          "output_type": "stream",
          "text": [
            "100%|██████████| 938/938 [00:22<00:00, 41.07it/s, accuracy=0.969, loss=0.179, lr=0.0032]\n"
          ]
        },
        {
          "name": "stdout",
          "output_type": "stream",
          "text": [
            "Epoch 2, Val Loss: 0.11533302726531046, Val Accuracy: 0.9648686305732485\n"
          ]
        },
        {
          "name": "stderr",
          "output_type": "stream",
          "text": [
            "100%|██████████| 938/938 [00:21<00:00, 43.80it/s, accuracy=1, loss=0.0197, lr=0.00256]\n"
          ]
        },
        {
          "name": "stdout",
          "output_type": "stream",
          "text": [
            "Epoch 3, Val Loss: 0.09462918819148526, Val Accuracy: 0.9749203821656051\n"
          ]
        },
        {
          "name": "stderr",
          "output_type": "stream",
          "text": [
            "100%|██████████| 938/938 [00:23<00:00, 40.42it/s, accuracy=1, loss=0.011, lr=0.00205]\n"
          ]
        },
        {
          "name": "stdout",
          "output_type": "stream",
          "text": [
            "Epoch 4, Val Loss: 0.0895881050942109, Val Accuracy: 0.9754179936305732\n"
          ]
        },
        {
          "name": "stderr",
          "output_type": "stream",
          "text": [
            "100%|██████████| 938/938 [00:21<00:00, 43.76it/s, accuracy=1, loss=0.00722, lr=0.00164]\n"
          ]
        },
        {
          "name": "stdout",
          "output_type": "stream",
          "text": [
            "Epoch 5, Val Loss: 0.0686649321824528, Val Accuracy: 0.9815883757961783\n"
          ]
        },
        {
          "name": "stderr",
          "output_type": "stream",
          "text": [
            "100%|██████████| 938/938 [00:23<00:00, 40.50it/s, accuracy=1, loss=0.00145, lr=0.00131]\n"
          ]
        },
        {
          "name": "stdout",
          "output_type": "stream",
          "text": [
            "Epoch 6, Val Loss: 0.07207948067747084, Val Accuracy: 0.9807921974522293\n"
          ]
        },
        {
          "name": "stderr",
          "output_type": "stream",
          "text": [
            "100%|██████████| 938/938 [00:21<00:00, 43.68it/s, accuracy=1, loss=0.0022, lr=0.00105]\n"
          ]
        },
        {
          "name": "stdout",
          "output_type": "stream",
          "text": [
            "Epoch 7, Val Loss: 0.06907155597334955, Val Accuracy: 0.9818869426751592\n"
          ]
        },
        {
          "name": "stderr",
          "output_type": "stream",
          "text": [
            "100%|██████████| 938/938 [00:23<00:00, 39.35it/s, accuracy=1, loss=0.00102, lr=0.000839]\n"
          ]
        },
        {
          "name": "stdout",
          "output_type": "stream",
          "text": [
            "Epoch 8, Val Loss: 0.06888410753620036, Val Accuracy: 0.9834792993630573\n"
          ]
        },
        {
          "name": "stderr",
          "output_type": "stream",
          "text": [
            "100%|██████████| 938/938 [00:22<00:00, 41.69it/s, accuracy=1, loss=0.002, lr=0.000671]\n"
          ]
        },
        {
          "name": "stdout",
          "output_type": "stream",
          "text": [
            "Epoch 9, Val Loss: 0.06955783215454946, Val Accuracy: 0.9835788216560509\n"
          ]
        },
        {
          "name": "stderr",
          "output_type": "stream",
          "text": [
            "100%|██████████| 938/938 [00:22<00:00, 41.45it/s, accuracy=1, loss=0.000921, lr=0.000537]\n"
          ]
        },
        {
          "name": "stdout",
          "output_type": "stream",
          "text": [
            "Epoch 10, Val Loss: 0.0705775644757373, Val Accuracy: 0.9831807324840764\n"
          ]
        },
        {
          "name": "stderr",
          "output_type": "stream",
          "text": [
            "100%|██████████| 938/938 [00:22<00:00, 42.44it/s, accuracy=1, loss=4.84e-5, lr=0.000429]\n"
          ]
        },
        {
          "name": "stdout",
          "output_type": "stream",
          "text": [
            "Epoch 11, Val Loss: 0.07099744244872716, Val Accuracy: 0.9833797770700637\n"
          ]
        },
        {
          "name": "stderr",
          "output_type": "stream",
          "text": [
            "100%|██████████| 938/938 [00:20<00:00, 46.19it/s, accuracy=1, loss=0.000612, lr=0.000344]\n"
          ]
        },
        {
          "name": "stdout",
          "output_type": "stream",
          "text": [
            "Epoch 12, Val Loss: 0.07189145115836319, Val Accuracy: 0.9836783439490446\n"
          ]
        },
        {
          "name": "stderr",
          "output_type": "stream",
          "text": [
            "100%|██████████| 938/938 [00:21<00:00, 44.16it/s, accuracy=1, loss=0.000124, lr=0.000275]\n"
          ]
        },
        {
          "name": "stdout",
          "output_type": "stream",
          "text": [
            "Epoch 13, Val Loss: 0.07341597696541725, Val Accuracy: 0.9836783439490446\n"
          ]
        },
        {
          "name": "stderr",
          "output_type": "stream",
          "text": [
            "100%|██████████| 938/938 [00:20<00:00, 46.18it/s, accuracy=1, loss=0.000139, lr=0.00022]\n"
          ]
        },
        {
          "name": "stdout",
          "output_type": "stream",
          "text": [
            "Epoch 14, Val Loss: 0.07429604690220076, Val Accuracy: 0.9838773885350318\n"
          ]
        },
        {
          "name": "stderr",
          "output_type": "stream",
          "text": [
            "100%|██████████| 938/938 [00:20<00:00, 44.71it/s, accuracy=1, loss=0.000214, lr=0.000176]\n"
          ]
        },
        {
          "name": "stdout",
          "output_type": "stream",
          "text": [
            "Epoch 15, Val Loss: 0.07472439532810571, Val Accuracy: 0.9835788216560509\n"
          ]
        },
        {
          "name": "stderr",
          "output_type": "stream",
          "text": [
            "100%|██████████| 938/938 [00:20<00:00, 46.49it/s, accuracy=1, loss=5.61e-6, lr=0.000141]\n"
          ]
        },
        {
          "name": "stdout",
          "output_type": "stream",
          "text": [
            "Epoch 16, Val Loss: 0.07673345364738964, Val Accuracy: 0.9837778662420382\n"
          ]
        },
        {
          "name": "stderr",
          "output_type": "stream",
          "text": [
            "100%|██████████| 938/938 [00:21<00:00, 44.53it/s, accuracy=1, loss=7.29e-5, lr=0.000113]\n"
          ]
        },
        {
          "name": "stdout",
          "output_type": "stream",
          "text": [
            "Epoch 17, Val Loss: 0.07808975036386147, Val Accuracy: 0.9835788216560509\n"
          ]
        },
        {
          "name": "stderr",
          "output_type": "stream",
          "text": [
            "100%|██████████| 938/938 [00:20<00:00, 45.78it/s, accuracy=1, loss=4.14e-7, lr=9.01e-5]\n"
          ]
        },
        {
          "name": "stdout",
          "output_type": "stream",
          "text": [
            "Epoch 18, Val Loss: 0.07771376033359097, Val Accuracy: 0.9841759554140127\n"
          ]
        },
        {
          "name": "stderr",
          "output_type": "stream",
          "text": [
            "100%|██████████| 938/938 [00:20<00:00, 45.74it/s, accuracy=1, loss=8.5e-5, lr=7.21e-5]\n"
          ]
        },
        {
          "name": "stdout",
          "output_type": "stream",
          "text": [
            "Epoch 19, Val Loss: 0.0794924608112092, Val Accuracy: 0.9840764331210191\n"
          ]
        },
        {
          "name": "stderr",
          "output_type": "stream",
          "text": [
            "100%|██████████| 938/938 [00:20<00:00, 46.61it/s, accuracy=1, loss=6.24e-5, lr=5.76e-5]\n"
          ]
        },
        {
          "name": "stdout",
          "output_type": "stream",
          "text": [
            "Epoch 20, Val Loss: 0.08071168048618307, Val Accuracy: 0.9840764331210191\n"
          ]
        },
        {
          "name": "stderr",
          "output_type": "stream",
          "text": [
            "100%|██████████| 938/938 [00:20<00:00, 45.87it/s, accuracy=1, loss=6.08e-6, lr=4.61e-5]\n"
          ]
        },
        {
          "name": "stdout",
          "output_type": "stream",
          "text": [
            "Epoch 21, Val Loss: 0.0805197977918999, Val Accuracy: 0.9838773885350318\n"
          ]
        },
        {
          "name": "stderr",
          "output_type": "stream",
          "text": [
            "100%|██████████| 938/938 [00:20<00:00, 46.34it/s, accuracy=1, loss=3.81e-6, lr=3.69e-5]\n"
          ]
        },
        {
          "name": "stdout",
          "output_type": "stream",
          "text": [
            "Epoch 22, Val Loss: 0.08190572876902338, Val Accuracy: 0.9838773885350318\n"
          ]
        },
        {
          "name": "stderr",
          "output_type": "stream",
          "text": [
            "100%|██████████| 938/938 [00:20<00:00, 45.96it/s, accuracy=1, loss=9.68e-5, lr=2.95e-5]\n"
          ]
        },
        {
          "name": "stdout",
          "output_type": "stream",
          "text": [
            "Epoch 23, Val Loss: 0.08209390975009741, Val Accuracy: 0.9839769108280255\n"
          ]
        },
        {
          "name": "stderr",
          "output_type": "stream",
          "text": [
            "100%|██████████| 938/938 [00:20<00:00, 45.65it/s, accuracy=1, loss=1.31e-5, lr=2.36e-5]\n"
          ]
        },
        {
          "name": "stdout",
          "output_type": "stream",
          "text": [
            "Epoch 24, Val Loss: 0.08277477457556175, Val Accuracy: 0.9840764331210191\n"
          ]
        },
        {
          "name": "stderr",
          "output_type": "stream",
          "text": [
            "100%|██████████| 938/938 [00:20<00:00, 45.49it/s, accuracy=1, loss=3.94e-6, lr=1.89e-5]\n"
          ]
        },
        {
          "name": "stdout",
          "output_type": "stream",
          "text": [
            "Epoch 25, Val Loss: 0.08272177138548796, Val Accuracy: 0.9841759554140127\n"
          ]
        },
        {
          "name": "stderr",
          "output_type": "stream",
          "text": [
            "100%|██████████| 938/938 [00:20<00:00, 45.88it/s, accuracy=1, loss=1.74e-5, lr=1.51e-5]\n"
          ]
        },
        {
          "name": "stdout",
          "output_type": "stream",
          "text": [
            "Epoch 26, Val Loss: 0.083253391373743, Val Accuracy: 0.9841759554140127\n"
          ]
        },
        {
          "name": "stderr",
          "output_type": "stream",
          "text": [
            "100%|██████████| 938/938 [00:20<00:00, 45.69it/s, accuracy=1, loss=2.03e-5, lr=1.21e-5]\n"
          ]
        },
        {
          "name": "stdout",
          "output_type": "stream",
          "text": [
            "Epoch 27, Val Loss: 0.08357714469605691, Val Accuracy: 0.9840764331210191\n"
          ]
        },
        {
          "name": "stderr",
          "output_type": "stream",
          "text": [
            "100%|██████████| 938/938 [00:20<00:00, 45.48it/s, accuracy=1, loss=1.28e-5, lr=9.67e-6]\n"
          ]
        },
        {
          "name": "stdout",
          "output_type": "stream",
          "text": [
            "Epoch 28, Val Loss: 0.08376360885168332, Val Accuracy: 0.9841759554140127\n"
          ]
        },
        {
          "name": "stderr",
          "output_type": "stream",
          "text": [
            "100%|██████████| 938/938 [00:20<00:00, 45.83it/s, accuracy=1, loss=3.29e-5, lr=7.74e-6]\n"
          ]
        },
        {
          "name": "stdout",
          "output_type": "stream",
          "text": [
            "Epoch 29, Val Loss: 0.08385570309765566, Val Accuracy: 0.9840764331210191\n"
          ]
        },
        {
          "name": "stderr",
          "output_type": "stream",
          "text": [
            "100%|██████████| 938/938 [00:20<00:00, 46.82it/s, accuracy=1, loss=9.23e-6, lr=6.19e-6]\n"
          ]
        },
        {
          "name": "stdout",
          "output_type": "stream",
          "text": [
            "Epoch 30, Val Loss: 0.08402295729887083, Val Accuracy: 0.9840764331210191\n",
            "LR: 0.004 Gamma: 0.8 Hdim: 256 Best Accuracy: 0.9841759554140127\n"
          ]
        },
        {
          "name": "stderr",
          "output_type": "stream",
          "text": [
            "100%|██████████| 938/938 [00:20<00:00, 45.49it/s, accuracy=0.969, loss=0.184, lr=0.004]\n"
          ]
        },
        {
          "name": "stdout",
          "output_type": "stream",
          "text": [
            "Epoch 1, Val Loss: 0.12865954578652455, Val Accuracy: 0.9583001592356688\n"
          ]
        },
        {
          "name": "stderr",
          "output_type": "stream",
          "text": [
            "100%|██████████| 938/938 [00:20<00:00, 46.64it/s, accuracy=0.969, loss=0.193, lr=0.0036]\n"
          ]
        },
        {
          "name": "stdout",
          "output_type": "stream",
          "text": [
            "Epoch 2, Val Loss: 0.10300228219245008, Val Accuracy: 0.9674562101910829\n"
          ]
        },
        {
          "name": "stderr",
          "output_type": "stream",
          "text": [
            "100%|██████████| 938/938 [00:20<00:00, 45.89it/s, accuracy=0.969, loss=0.112, lr=0.00324]\n"
          ]
        },
        {
          "name": "stdout",
          "output_type": "stream",
          "text": [
            "Epoch 3, Val Loss: 0.11074325090825149, Val Accuracy: 0.9697452229299363\n"
          ]
        },
        {
          "name": "stderr",
          "output_type": "stream",
          "text": [
            "100%|██████████| 938/938 [00:20<00:00, 46.55it/s, accuracy=1, loss=0.00341, lr=0.00292]\n"
          ]
        },
        {
          "name": "stdout",
          "output_type": "stream",
          "text": [
            "Epoch 4, Val Loss: 0.11478953204103998, Val Accuracy: 0.966062898089172\n"
          ]
        },
        {
          "name": "stderr",
          "output_type": "stream",
          "text": [
            "100%|██████████| 938/938 [00:20<00:00, 46.69it/s, accuracy=1, loss=0.00383, lr=0.00262]\n"
          ]
        },
        {
          "name": "stdout",
          "output_type": "stream",
          "text": [
            "Epoch 5, Val Loss: 0.1145822759697775, Val Accuracy: 0.9681528662420382\n"
          ]
        },
        {
          "name": "stderr",
          "output_type": "stream",
          "text": [
            "100%|██████████| 938/938 [00:20<00:00, 46.20it/s, accuracy=1, loss=0.00196, lr=0.00236]\n"
          ]
        },
        {
          "name": "stdout",
          "output_type": "stream",
          "text": [
            "Epoch 6, Val Loss: 0.1094078605230931, Val Accuracy: 0.9710390127388535\n"
          ]
        },
        {
          "name": "stderr",
          "output_type": "stream",
          "text": [
            "100%|██████████| 938/938 [00:20<00:00, 46.07it/s, accuracy=1, loss=0.00278, lr=0.00213]\n"
          ]
        },
        {
          "name": "stdout",
          "output_type": "stream",
          "text": [
            "Epoch 7, Val Loss: 0.11575645733576313, Val Accuracy: 0.9709394904458599\n"
          ]
        },
        {
          "name": "stderr",
          "output_type": "stream",
          "text": [
            "100%|██████████| 938/938 [00:20<00:00, 45.25it/s, accuracy=0.969, loss=0.0519, lr=0.00191]\n"
          ]
        },
        {
          "name": "stdout",
          "output_type": "stream",
          "text": [
            "Epoch 8, Val Loss: 0.1111890876443644, Val Accuracy: 0.972531847133758\n"
          ]
        },
        {
          "name": "stderr",
          "output_type": "stream",
          "text": [
            "100%|██████████| 938/938 [00:20<00:00, 46.42it/s, accuracy=1, loss=0.00612, lr=0.00172]\n"
          ]
        },
        {
          "name": "stdout",
          "output_type": "stream",
          "text": [
            "Epoch 9, Val Loss: 0.10290336616485055, Val Accuracy: 0.9761146496815286\n"
          ]
        },
        {
          "name": "stderr",
          "output_type": "stream",
          "text": [
            "100%|██████████| 938/938 [00:21<00:00, 44.31it/s, accuracy=1, loss=0.00838, lr=0.00155]\n"
          ]
        },
        {
          "name": "stdout",
          "output_type": "stream",
          "text": [
            "Epoch 10, Val Loss: 0.11043403066633847, Val Accuracy: 0.9751194267515924\n"
          ]
        },
        {
          "name": "stderr",
          "output_type": "stream",
          "text": [
            "100%|██████████| 938/938 [00:20<00:00, 46.77it/s, accuracy=1, loss=0.000899, lr=0.00139]\n"
          ]
        },
        {
          "name": "stdout",
          "output_type": "stream",
          "text": [
            "Epoch 11, Val Loss: 0.10091900929966671, Val Accuracy: 0.9776074840764332\n"
          ]
        },
        {
          "name": "stderr",
          "output_type": "stream",
          "text": [
            "100%|██████████| 938/938 [00:21<00:00, 43.51it/s, accuracy=1, loss=8.59e-5, lr=0.00126]\n"
          ]
        },
        {
          "name": "stdout",
          "output_type": "stream",
          "text": [
            "Epoch 12, Val Loss: 0.09632395676805701, Val Accuracy: 0.9791003184713376\n"
          ]
        },
        {
          "name": "stderr",
          "output_type": "stream",
          "text": [
            "100%|██████████| 938/938 [00:20<00:00, 46.81it/s, accuracy=1, loss=0.00745, lr=0.00113]\n"
          ]
        },
        {
          "name": "stdout",
          "output_type": "stream",
          "text": [
            "Epoch 13, Val Loss: 0.13915517990292053, Val Accuracy: 0.9701433121019108\n"
          ]
        },
        {
          "name": "stderr",
          "output_type": "stream",
          "text": [
            "100%|██████████| 938/938 [00:21<00:00, 42.99it/s, accuracy=1, loss=0.00273, lr=0.00102]\n"
          ]
        },
        {
          "name": "stdout",
          "output_type": "stream",
          "text": [
            "Epoch 14, Val Loss: 0.10166798729139277, Val Accuracy: 0.9785031847133758\n"
          ]
        },
        {
          "name": "stderr",
          "output_type": "stream",
          "text": [
            "100%|██████████| 938/938 [00:20<00:00, 44.89it/s, accuracy=1, loss=0.000311, lr=0.000915]\n"
          ]
        },
        {
          "name": "stdout",
          "output_type": "stream",
          "text": [
            "Epoch 15, Val Loss: 0.12016705580944323, Val Accuracy: 0.975218949044586\n"
          ]
        },
        {
          "name": "stderr",
          "output_type": "stream",
          "text": [
            "100%|██████████| 938/938 [00:21<00:00, 42.74it/s, accuracy=1, loss=0.000595, lr=0.000824]\n"
          ]
        },
        {
          "name": "stdout",
          "output_type": "stream",
          "text": [
            "Epoch 16, Val Loss: 0.10135651670380884, Val Accuracy: 0.9793988853503185\n"
          ]
        },
        {
          "name": "stderr",
          "output_type": "stream",
          "text": [
            "100%|██████████| 938/938 [00:20<00:00, 46.02it/s, accuracy=1, loss=0.000807, lr=0.000741]\n"
          ]
        },
        {
          "name": "stdout",
          "output_type": "stream",
          "text": [
            "Epoch 17, Val Loss: 0.10200204000497991, Val Accuracy: 0.9796974522292994\n"
          ]
        },
        {
          "name": "stderr",
          "output_type": "stream",
          "text": [
            "100%|██████████| 938/938 [00:20<00:00, 44.98it/s, accuracy=1, loss=0.00078, lr=0.000667]\n"
          ]
        },
        {
          "name": "stdout",
          "output_type": "stream",
          "text": [
            "Epoch 18, Val Loss: 0.10094567792722896, Val Accuracy: 0.9799960191082803\n"
          ]
        },
        {
          "name": "stderr",
          "output_type": "stream",
          "text": [
            "100%|██████████| 938/938 [00:19<00:00, 47.19it/s, accuracy=1, loss=0.000205, lr=0.0006]\n"
          ]
        },
        {
          "name": "stdout",
          "output_type": "stream",
          "text": [
            "Epoch 19, Val Loss: 0.10145565161873331, Val Accuracy: 0.9802945859872612\n"
          ]
        },
        {
          "name": "stderr",
          "output_type": "stream",
          "text": [
            "100%|██████████| 938/938 [00:20<00:00, 45.74it/s, accuracy=1, loss=8.81e-5, lr=0.00054]\n"
          ]
        },
        {
          "name": "stdout",
          "output_type": "stream",
          "text": [
            "Epoch 20, Val Loss: 0.10281365734243415, Val Accuracy: 0.9799960191082803\n"
          ]
        },
        {
          "name": "stderr",
          "output_type": "stream",
          "text": [
            "100%|██████████| 938/938 [00:20<00:00, 46.77it/s, accuracy=1, loss=0.000284, lr=0.000486]\n"
          ]
        },
        {
          "name": "stdout",
          "output_type": "stream",
          "text": [
            "Epoch 21, Val Loss: 0.10350957426053457, Val Accuracy: 0.980593152866242\n"
          ]
        },
        {
          "name": "stderr",
          "output_type": "stream",
          "text": [
            "100%|██████████| 938/938 [00:23<00:00, 40.12it/s, accuracy=1, loss=6.4e-6, lr=0.000438]\n"
          ]
        },
        {
          "name": "stdout",
          "output_type": "stream",
          "text": [
            "Epoch 22, Val Loss: 0.1058054591293423, Val Accuracy: 0.9796974522292994\n"
          ]
        },
        {
          "name": "stderr",
          "output_type": "stream",
          "text": [
            "100%|██████████| 938/938 [00:22<00:00, 41.15it/s, accuracy=1, loss=2.57e-5, lr=0.000394]\n"
          ]
        },
        {
          "name": "stdout",
          "output_type": "stream",
          "text": [
            "Epoch 23, Val Loss: 0.10778778314949937, Val Accuracy: 0.9807921974522293\n"
          ]
        },
        {
          "name": "stderr",
          "output_type": "stream",
          "text": [
            "100%|██████████| 938/938 [00:23<00:00, 39.46it/s, accuracy=1, loss=0.000104, lr=0.000355]\n"
          ]
        },
        {
          "name": "stdout",
          "output_type": "stream",
          "text": [
            "Epoch 24, Val Loss: 0.11235929059256364, Val Accuracy: 0.978702229299363\n"
          ]
        },
        {
          "name": "stderr",
          "output_type": "stream",
          "text": [
            "100%|██████████| 938/938 [00:22<00:00, 41.49it/s, accuracy=1, loss=8.47e-5, lr=0.000319]\n"
          ]
        },
        {
          "name": "stdout",
          "output_type": "stream",
          "text": [
            "Epoch 25, Val Loss: 0.11257258111932068, Val Accuracy: 0.9796974522292994\n"
          ]
        },
        {
          "name": "stderr",
          "output_type": "stream",
          "text": [
            "100%|██████████| 938/938 [00:24<00:00, 38.15it/s, accuracy=1, loss=1.23e-5, lr=0.000287]\n"
          ]
        },
        {
          "name": "stdout",
          "output_type": "stream",
          "text": [
            "Epoch 26, Val Loss: 0.11273998926247873, Val Accuracy: 0.9793988853503185\n"
          ]
        },
        {
          "name": "stderr",
          "output_type": "stream",
          "text": [
            "100%|██████████| 938/938 [00:22<00:00, 40.91it/s, accuracy=1, loss=3.41e-5, lr=0.000258]\n"
          ]
        },
        {
          "name": "stdout",
          "output_type": "stream",
          "text": [
            "Epoch 27, Val Loss: 0.11265194234490036, Val Accuracy: 0.9792993630573248\n"
          ]
        },
        {
          "name": "stderr",
          "output_type": "stream",
          "text": [
            "100%|██████████| 938/938 [00:24<00:00, 38.96it/s, accuracy=1, loss=6.83e-5, lr=0.000233]\n"
          ]
        },
        {
          "name": "stdout",
          "output_type": "stream",
          "text": [
            "Epoch 28, Val Loss: 0.11314646565925879, Val Accuracy: 0.9794984076433121\n"
          ]
        },
        {
          "name": "stderr",
          "output_type": "stream",
          "text": [
            "100%|██████████| 938/938 [00:23<00:00, 40.42it/s, accuracy=1, loss=3.12e-5, lr=0.000209]\n"
          ]
        },
        {
          "name": "stdout",
          "output_type": "stream",
          "text": [
            "Epoch 29, Val Loss: 0.11480924004780907, Val Accuracy: 0.9794984076433121\n"
          ]
        },
        {
          "name": "stderr",
          "output_type": "stream",
          "text": [
            "100%|██████████| 938/938 [00:23<00:00, 39.96it/s, accuracy=1, loss=1.11e-5, lr=0.000188]\n"
          ]
        },
        {
          "name": "stdout",
          "output_type": "stream",
          "text": [
            "Epoch 30, Val Loss: 0.11629580256226771, Val Accuracy: 0.9794984076433121\n",
            "LR: 0.004 Gamma: 0.9 Hdim: 64 Best Accuracy: 0.9807921974522293\n"
          ]
        },
        {
          "name": "stderr",
          "output_type": "stream",
          "text": [
            "100%|██████████| 938/938 [00:23<00:00, 39.09it/s, accuracy=0.969, loss=0.133, lr=0.004]\n"
          ]
        },
        {
          "name": "stdout",
          "output_type": "stream",
          "text": [
            "Epoch 1, Val Loss: 0.13125936386908055, Val Accuracy: 0.9594944267515924\n"
          ]
        },
        {
          "name": "stderr",
          "output_type": "stream",
          "text": [
            "100%|██████████| 938/938 [00:24<00:00, 38.36it/s, accuracy=0.969, loss=0.0836, lr=0.0036]\n"
          ]
        },
        {
          "name": "stdout",
          "output_type": "stream",
          "text": [
            "Epoch 2, Val Loss: 0.14289840935302342, Val Accuracy: 0.9584992038216561\n"
          ]
        },
        {
          "name": "stderr",
          "output_type": "stream",
          "text": [
            "100%|██████████| 938/938 [00:26<00:00, 34.83it/s, accuracy=1, loss=0.0119, lr=0.00324]\n"
          ]
        },
        {
          "name": "stdout",
          "output_type": "stream",
          "text": [
            "Epoch 3, Val Loss: 0.09511005840011039, Val Accuracy: 0.9739251592356688\n"
          ]
        },
        {
          "name": "stderr",
          "output_type": "stream",
          "text": [
            "100%|██████████| 938/938 [00:25<00:00, 36.88it/s, accuracy=0.969, loss=0.0438, lr=0.00292]\n"
          ]
        },
        {
          "name": "stdout",
          "output_type": "stream",
          "text": [
            "Epoch 4, Val Loss: 0.1087441617181154, Val Accuracy: 0.9717356687898089\n"
          ]
        },
        {
          "name": "stderr",
          "output_type": "stream",
          "text": [
            "100%|██████████| 938/938 [00:25<00:00, 37.14it/s, accuracy=1, loss=0.00235, lr=0.00262]\n"
          ]
        },
        {
          "name": "stdout",
          "output_type": "stream",
          "text": [
            "Epoch 5, Val Loss: 0.10724693959760354, Val Accuracy: 0.9737261146496815\n"
          ]
        },
        {
          "name": "stderr",
          "output_type": "stream",
          "text": [
            "100%|██████████| 938/938 [00:25<00:00, 36.26it/s, accuracy=1, loss=0.00139, lr=0.00236]\n"
          ]
        },
        {
          "name": "stdout",
          "output_type": "stream",
          "text": [
            "Epoch 6, Val Loss: 0.11498776829609313, Val Accuracy: 0.9721337579617835\n"
          ]
        },
        {
          "name": "stderr",
          "output_type": "stream",
          "text": [
            "100%|██████████| 938/938 [00:23<00:00, 39.43it/s, accuracy=1, loss=0.00963, lr=0.00213]\n"
          ]
        },
        {
          "name": "stdout",
          "output_type": "stream",
          "text": [
            "Epoch 7, Val Loss: 0.11177965092826184, Val Accuracy: 0.9755175159235668\n"
          ]
        },
        {
          "name": "stderr",
          "output_type": "stream",
          "text": [
            "100%|██████████| 938/938 [00:25<00:00, 36.98it/s, accuracy=1, loss=0.00857, lr=0.00191]\n"
          ]
        },
        {
          "name": "stdout",
          "output_type": "stream",
          "text": [
            "Epoch 8, Val Loss: 0.1132468187221183, Val Accuracy: 0.9757165605095541\n"
          ]
        },
        {
          "name": "stderr",
          "output_type": "stream",
          "text": [
            "100%|██████████| 938/938 [00:24<00:00, 38.97it/s, accuracy=0.969, loss=0.0567, lr=0.00172]\n"
          ]
        },
        {
          "name": "stdout",
          "output_type": "stream",
          "text": [
            "Epoch 9, Val Loss: 0.11316718045447059, Val Accuracy: 0.977109872611465\n"
          ]
        },
        {
          "name": "stderr",
          "output_type": "stream",
          "text": [
            "100%|██████████| 938/938 [00:24<00:00, 38.28it/s, accuracy=1, loss=0.000526, lr=0.00155]\n"
          ]
        },
        {
          "name": "stdout",
          "output_type": "stream",
          "text": [
            "Epoch 10, Val Loss: 0.10375875540043104, Val Accuracy: 0.9803941082802548\n"
          ]
        },
        {
          "name": "stderr",
          "output_type": "stream",
          "text": [
            "100%|██████████| 938/938 [00:24<00:00, 38.88it/s, accuracy=1, loss=0.000777, lr=0.00139]\n"
          ]
        },
        {
          "name": "stdout",
          "output_type": "stream",
          "text": [
            "Epoch 11, Val Loss: 0.0989495388355886, Val Accuracy: 0.9809912420382165\n"
          ]
        },
        {
          "name": "stderr",
          "output_type": "stream",
          "text": [
            "100%|██████████| 938/938 [00:23<00:00, 39.20it/s, accuracy=1, loss=0.000304, lr=0.00126]\n"
          ]
        },
        {
          "name": "stdout",
          "output_type": "stream",
          "text": [
            "Epoch 12, Val Loss: 0.10184139797170194, Val Accuracy: 0.9819864649681529\n"
          ]
        },
        {
          "name": "stderr",
          "output_type": "stream",
          "text": [
            "100%|██████████| 938/938 [00:25<00:00, 36.77it/s, accuracy=1, loss=0.00033, lr=0.00113]\n"
          ]
        },
        {
          "name": "stdout",
          "output_type": "stream",
          "text": [
            "Epoch 13, Val Loss: 0.09901984731523636, Val Accuracy: 0.9817874203821656\n"
          ]
        },
        {
          "name": "stderr",
          "output_type": "stream",
          "text": [
            "100%|██████████| 938/938 [00:23<00:00, 39.23it/s, accuracy=1, loss=0.000106, lr=0.00102]\n"
          ]
        },
        {
          "name": "stdout",
          "output_type": "stream",
          "text": [
            "Epoch 14, Val Loss: 0.10225194861721716, Val Accuracy: 0.9811902866242038\n"
          ]
        },
        {
          "name": "stderr",
          "output_type": "stream",
          "text": [
            "100%|██████████| 938/938 [00:24<00:00, 37.68it/s, accuracy=1, loss=6.03e-5, lr=0.000915]\n"
          ]
        },
        {
          "name": "stdout",
          "output_type": "stream",
          "text": [
            "Epoch 15, Val Loss: 0.10324919600519662, Val Accuracy: 0.980593152866242\n"
          ]
        },
        {
          "name": "stderr",
          "output_type": "stream",
          "text": [
            "100%|██████████| 938/938 [00:23<00:00, 39.85it/s, accuracy=1, loss=0.000912, lr=0.000824]\n"
          ]
        },
        {
          "name": "stdout",
          "output_type": "stream",
          "text": [
            "Epoch 16, Val Loss: 0.11337709882861202, Val Accuracy: 0.978702229299363\n"
          ]
        },
        {
          "name": "stderr",
          "output_type": "stream",
          "text": [
            "100%|██████████| 938/938 [00:23<00:00, 39.92it/s, accuracy=1, loss=0.000342, lr=0.000741]\n"
          ]
        },
        {
          "name": "stdout",
          "output_type": "stream",
          "text": [
            "Epoch 17, Val Loss: 0.10379817238654286, Val Accuracy: 0.9806926751592356\n"
          ]
        },
        {
          "name": "stderr",
          "output_type": "stream",
          "text": [
            "100%|██████████| 938/938 [00:24<00:00, 38.66it/s, accuracy=1, loss=7.41e-5, lr=0.000667]\n"
          ]
        },
        {
          "name": "stdout",
          "output_type": "stream",
          "text": [
            "Epoch 18, Val Loss: 0.10275254539071502, Val Accuracy: 0.9808917197452229\n"
          ]
        },
        {
          "name": "stderr",
          "output_type": "stream",
          "text": [
            "100%|██████████| 938/938 [00:23<00:00, 40.32it/s, accuracy=1, loss=0.000146, lr=0.0006]\n"
          ]
        },
        {
          "name": "stdout",
          "output_type": "stream",
          "text": [
            "Epoch 19, Val Loss: 0.10318085478511108, Val Accuracy: 0.9804936305732485\n"
          ]
        },
        {
          "name": "stderr",
          "output_type": "stream",
          "text": [
            "100%|██████████| 938/938 [00:25<00:00, 36.20it/s, accuracy=1, loss=1.28e-5, lr=0.00054]\n"
          ]
        },
        {
          "name": "stdout",
          "output_type": "stream",
          "text": [
            "Epoch 20, Val Loss: 0.10401039777246014, Val Accuracy: 0.9812898089171974\n"
          ]
        },
        {
          "name": "stderr",
          "output_type": "stream",
          "text": [
            "100%|██████████| 938/938 [00:23<00:00, 39.26it/s, accuracy=1, loss=0.000138, lr=0.000486]\n"
          ]
        },
        {
          "name": "stdout",
          "output_type": "stream",
          "text": [
            "Epoch 21, Val Loss: 0.10512739632808259, Val Accuracy: 0.9812898089171974\n"
          ]
        },
        {
          "name": "stderr",
          "output_type": "stream",
          "text": [
            "100%|██████████| 938/938 [00:24<00:00, 37.53it/s, accuracy=1, loss=3.57e-5, lr=0.000438]\n"
          ]
        },
        {
          "name": "stdout",
          "output_type": "stream",
          "text": [
            "Epoch 22, Val Loss: 0.1069741266481621, Val Accuracy: 0.9811902866242038\n"
          ]
        },
        {
          "name": "stderr",
          "output_type": "stream",
          "text": [
            "100%|██████████| 938/938 [00:23<00:00, 40.58it/s, accuracy=1, loss=0.00012, lr=0.000394]\n"
          ]
        },
        {
          "name": "stdout",
          "output_type": "stream",
          "text": [
            "Epoch 23, Val Loss: 0.10608777809061024, Val Accuracy: 0.9809912420382165\n"
          ]
        },
        {
          "name": "stderr",
          "output_type": "stream",
          "text": [
            "100%|██████████| 938/938 [00:24<00:00, 37.58it/s, accuracy=1, loss=2.46e-5, lr=0.000355]\n"
          ]
        },
        {
          "name": "stdout",
          "output_type": "stream",
          "text": [
            "Epoch 24, Val Loss: 0.10853584361114595, Val Accuracy: 0.9812898089171974\n"
          ]
        },
        {
          "name": "stderr",
          "output_type": "stream",
          "text": [
            "100%|██████████| 938/938 [00:22<00:00, 41.06it/s, accuracy=1, loss=3.67e-5, lr=0.000319]\n"
          ]
        },
        {
          "name": "stdout",
          "output_type": "stream",
          "text": [
            "Epoch 25, Val Loss: 0.11089190659267012, Val Accuracy: 0.9815883757961783\n"
          ]
        },
        {
          "name": "stderr",
          "output_type": "stream",
          "text": [
            "100%|██████████| 938/938 [00:24<00:00, 37.81it/s, accuracy=1, loss=1.13e-5, lr=0.000287]\n"
          ]
        },
        {
          "name": "stdout",
          "output_type": "stream",
          "text": [
            "Epoch 26, Val Loss: 0.11270441173124199, Val Accuracy: 0.9812898089171974\n"
          ]
        },
        {
          "name": "stderr",
          "output_type": "stream",
          "text": [
            "100%|██████████| 938/938 [00:23<00:00, 40.54it/s, accuracy=1, loss=3.27e-5, lr=0.000258]\n"
          ]
        },
        {
          "name": "stdout",
          "output_type": "stream",
          "text": [
            "Epoch 27, Val Loss: 0.11424854853840757, Val Accuracy: 0.9808917197452229\n"
          ]
        },
        {
          "name": "stderr",
          "output_type": "stream",
          "text": [
            "100%|██████████| 938/938 [00:24<00:00, 37.72it/s, accuracy=1, loss=1.59e-5, lr=0.000233]\n"
          ]
        },
        {
          "name": "stdout",
          "output_type": "stream",
          "text": [
            "Epoch 28, Val Loss: 0.1159320569690005, Val Accuracy: 0.9809912420382165\n"
          ]
        },
        {
          "name": "stderr",
          "output_type": "stream",
          "text": [
            "100%|██████████| 938/938 [00:24<00:00, 38.66it/s, accuracy=1, loss=1.51e-6, lr=0.000209]\n"
          ]
        },
        {
          "name": "stdout",
          "output_type": "stream",
          "text": [
            "Epoch 29, Val Loss: 0.1188393628050563, Val Accuracy: 0.9809912420382165\n"
          ]
        },
        {
          "name": "stderr",
          "output_type": "stream",
          "text": [
            "100%|██████████| 938/938 [00:23<00:00, 39.58it/s, accuracy=1, loss=8.1e-6, lr=0.000188]\n"
          ]
        },
        {
          "name": "stdout",
          "output_type": "stream",
          "text": [
            "Epoch 30, Val Loss: 0.12089769519352044, Val Accuracy: 0.9811902866242038\n",
            "LR: 0.004 Gamma: 0.9 Hdim: 128 Best Accuracy: 0.9819864649681529\n"
          ]
        },
        {
          "name": "stderr",
          "output_type": "stream",
          "text": [
            "100%|██████████| 938/938 [00:24<00:00, 37.97it/s, accuracy=0.969, loss=0.0552, lr=0.004]\n"
          ]
        },
        {
          "name": "stdout",
          "output_type": "stream",
          "text": [
            "Epoch 1, Val Loss: 0.12133833916470776, Val Accuracy: 0.964171974522293\n"
          ]
        },
        {
          "name": "stderr",
          "output_type": "stream",
          "text": [
            "100%|██████████| 938/938 [00:23<00:00, 39.37it/s, accuracy=0.969, loss=0.195, lr=0.0036]\n"
          ]
        },
        {
          "name": "stdout",
          "output_type": "stream",
          "text": [
            "Epoch 2, Val Loss: 0.1390902193368466, Val Accuracy: 0.9594944267515924\n"
          ]
        },
        {
          "name": "stderr",
          "output_type": "stream",
          "text": [
            "100%|██████████| 938/938 [00:25<00:00, 36.77it/s, accuracy=1, loss=0.0246, lr=0.00324]\n"
          ]
        },
        {
          "name": "stdout",
          "output_type": "stream",
          "text": [
            "Epoch 3, Val Loss: 0.10179702461440232, Val Accuracy: 0.9705414012738853\n"
          ]
        },
        {
          "name": "stderr",
          "output_type": "stream",
          "text": [
            "100%|██████████| 938/938 [00:23<00:00, 39.52it/s, accuracy=1, loss=0.0205, lr=0.00292]\n"
          ]
        },
        {
          "name": "stdout",
          "output_type": "stream",
          "text": [
            "Epoch 4, Val Loss: 0.11712216753744108, Val Accuracy: 0.9690485668789809\n"
          ]
        },
        {
          "name": "stderr",
          "output_type": "stream",
          "text": [
            "100%|██████████| 938/938 [00:25<00:00, 37.34it/s, accuracy=0.969, loss=0.0497, lr=0.00262]\n"
          ]
        },
        {
          "name": "stdout",
          "output_type": "stream",
          "text": [
            "Epoch 5, Val Loss: 0.08873707846270142, Val Accuracy: 0.9762141719745223\n"
          ]
        },
        {
          "name": "stderr",
          "output_type": "stream",
          "text": [
            "100%|██████████| 938/938 [00:23<00:00, 39.99it/s, accuracy=1, loss=0.0022, lr=0.00236]\n"
          ]
        },
        {
          "name": "stdout",
          "output_type": "stream",
          "text": [
            "Epoch 6, Val Loss: 0.08881096124536601, Val Accuracy: 0.9792993630573248\n"
          ]
        },
        {
          "name": "stderr",
          "output_type": "stream",
          "text": [
            "100%|██████████| 938/938 [00:24<00:00, 38.42it/s, accuracy=1, loss=0.011, lr=0.00213]\n"
          ]
        },
        {
          "name": "stdout",
          "output_type": "stream",
          "text": [
            "Epoch 7, Val Loss: 0.10318465531921667, Val Accuracy: 0.9756170382165605\n"
          ]
        },
        {
          "name": "stderr",
          "output_type": "stream",
          "text": [
            "100%|██████████| 938/938 [00:23<00:00, 40.42it/s, accuracy=1, loss=0.000155, lr=0.00191]\n"
          ]
        },
        {
          "name": "stdout",
          "output_type": "stream",
          "text": [
            "Epoch 8, Val Loss: 0.10240119728115867, Val Accuracy: 0.9769108280254777\n"
          ]
        },
        {
          "name": "stderr",
          "output_type": "stream",
          "text": [
            "100%|██████████| 938/938 [00:23<00:00, 39.28it/s, accuracy=1, loss=0.00119, lr=0.00172]\n"
          ]
        },
        {
          "name": "stdout",
          "output_type": "stream",
          "text": [
            "Epoch 9, Val Loss: 0.08894651381336147, Val Accuracy: 0.9789012738853503\n"
          ]
        },
        {
          "name": "stderr",
          "output_type": "stream",
          "text": [
            "100%|██████████| 938/938 [00:23<00:00, 40.25it/s, accuracy=0.969, loss=0.105, lr=0.00155]\n"
          ]
        },
        {
          "name": "stdout",
          "output_type": "stream",
          "text": [
            "Epoch 10, Val Loss: 0.1224399402273075, Val Accuracy: 0.9750199044585988\n"
          ]
        },
        {
          "name": "stderr",
          "output_type": "stream",
          "text": [
            "100%|██████████| 938/938 [00:23<00:00, 39.17it/s, accuracy=1, loss=4.35e-5, lr=0.00139]\n"
          ]
        },
        {
          "name": "stdout",
          "output_type": "stream",
          "text": [
            "Epoch 11, Val Loss: 0.09372678984732592, Val Accuracy: 0.9802945859872612\n"
          ]
        },
        {
          "name": "stderr",
          "output_type": "stream",
          "text": [
            "100%|██████████| 938/938 [00:23<00:00, 39.75it/s, accuracy=1, loss=0.00227, lr=0.00126]\n"
          ]
        },
        {
          "name": "stdout",
          "output_type": "stream",
          "text": [
            "Epoch 12, Val Loss: 0.11080448819661348, Val Accuracy: 0.978702229299363\n"
          ]
        },
        {
          "name": "stderr",
          "output_type": "stream",
          "text": [
            "100%|██████████| 938/938 [00:23<00:00, 40.32it/s, accuracy=1, loss=0.000245, lr=0.00113]\n"
          ]
        },
        {
          "name": "stdout",
          "output_type": "stream",
          "text": [
            "Epoch 13, Val Loss: 0.09542218117568936, Val Accuracy: 0.9799960191082803\n"
          ]
        },
        {
          "name": "stderr",
          "output_type": "stream",
          "text": [
            "100%|██████████| 938/938 [00:24<00:00, 38.14it/s, accuracy=1, loss=0.000327, lr=0.00102]\n"
          ]
        },
        {
          "name": "stdout",
          "output_type": "stream",
          "text": [
            "Epoch 14, Val Loss: 0.09360583923505363, Val Accuracy: 0.9803941082802548\n"
          ]
        },
        {
          "name": "stderr",
          "output_type": "stream",
          "text": [
            "100%|██████████| 938/938 [00:23<00:00, 40.72it/s, accuracy=1, loss=0.000153, lr=0.000915]\n"
          ]
        },
        {
          "name": "stdout",
          "output_type": "stream",
          "text": [
            "Epoch 15, Val Loss: 0.09008287451993, Val Accuracy: 0.9825835987261147\n"
          ]
        },
        {
          "name": "stderr",
          "output_type": "stream",
          "text": [
            "100%|██████████| 938/938 [00:24<00:00, 37.88it/s, accuracy=1, loss=5.53e-6, lr=0.000824]\n"
          ]
        },
        {
          "name": "stdout",
          "output_type": "stream",
          "text": [
            "Epoch 16, Val Loss: 0.08922171763082945, Val Accuracy: 0.9823845541401274\n"
          ]
        },
        {
          "name": "stderr",
          "output_type": "stream",
          "text": [
            "100%|██████████| 938/938 [00:22<00:00, 40.91it/s, accuracy=1, loss=0.000343, lr=0.000741]\n"
          ]
        },
        {
          "name": "stdout",
          "output_type": "stream",
          "text": [
            "Epoch 17, Val Loss: 0.0896157627939468, Val Accuracy: 0.9821855095541401\n"
          ]
        },
        {
          "name": "stderr",
          "output_type": "stream",
          "text": [
            "100%|██████████| 938/938 [00:24<00:00, 37.67it/s, accuracy=1, loss=1.07e-6, lr=0.000667]\n"
          ]
        },
        {
          "name": "stdout",
          "output_type": "stream",
          "text": [
            "Epoch 18, Val Loss: 0.08860896527277201, Val Accuracy: 0.9820859872611465\n"
          ]
        },
        {
          "name": "stderr",
          "output_type": "stream",
          "text": [
            "100%|██████████| 938/938 [00:23<00:00, 40.34it/s, accuracy=1, loss=0.000117, lr=0.0006]\n"
          ]
        },
        {
          "name": "stdout",
          "output_type": "stream",
          "text": [
            "Epoch 19, Val Loss: 0.08867748296732057, Val Accuracy: 0.982484076433121\n"
          ]
        },
        {
          "name": "stderr",
          "output_type": "stream",
          "text": [
            "100%|██████████| 938/938 [00:24<00:00, 37.84it/s, accuracy=1, loss=3.86e-5, lr=0.00054]\n"
          ]
        },
        {
          "name": "stdout",
          "output_type": "stream",
          "text": [
            "Epoch 20, Val Loss: 0.09045948820077028, Val Accuracy: 0.982484076433121\n"
          ]
        },
        {
          "name": "stderr",
          "output_type": "stream",
          "text": [
            "100%|██████████| 938/938 [00:23<00:00, 40.26it/s, accuracy=1, loss=5.52e-6, lr=0.000486]\n"
          ]
        },
        {
          "name": "stdout",
          "output_type": "stream",
          "text": [
            "Epoch 21, Val Loss: 0.09142411244830179, Val Accuracy: 0.9820859872611465\n"
          ]
        },
        {
          "name": "stderr",
          "output_type": "stream",
          "text": [
            "100%|██████████| 938/938 [00:24<00:00, 37.64it/s, accuracy=1, loss=3.46e-6, lr=0.000438]\n"
          ]
        },
        {
          "name": "stdout",
          "output_type": "stream",
          "text": [
            "Epoch 22, Val Loss: 0.09273797299721975, Val Accuracy: 0.9827826433121019\n"
          ]
        },
        {
          "name": "stderr",
          "output_type": "stream",
          "text": [
            "100%|██████████| 938/938 [00:23<00:00, 39.76it/s, accuracy=1, loss=6.83e-5, lr=0.000394]\n"
          ]
        },
        {
          "name": "stdout",
          "output_type": "stream",
          "text": [
            "Epoch 23, Val Loss: 0.09367718577715022, Val Accuracy: 0.9829816878980892\n"
          ]
        },
        {
          "name": "stderr",
          "output_type": "stream",
          "text": [
            "100%|██████████| 938/938 [00:24<00:00, 37.59it/s, accuracy=1, loss=4.13e-6, lr=0.000355]\n"
          ]
        },
        {
          "name": "stdout",
          "output_type": "stream",
          "text": [
            "Epoch 24, Val Loss: 0.09455035596289406, Val Accuracy: 0.9829816878980892\n"
          ]
        },
        {
          "name": "stderr",
          "output_type": "stream",
          "text": [
            "100%|██████████| 938/938 [00:23<00:00, 40.16it/s, accuracy=1, loss=5.44e-7, lr=0.000319]\n"
          ]
        },
        {
          "name": "stdout",
          "output_type": "stream",
          "text": [
            "Epoch 25, Val Loss: 0.09646353833528895, Val Accuracy: 0.9827826433121019\n"
          ]
        },
        {
          "name": "stderr",
          "output_type": "stream",
          "text": [
            "100%|██████████| 938/938 [00:25<00:00, 37.08it/s, accuracy=1, loss=5.54e-6, lr=0.000287]\n"
          ]
        },
        {
          "name": "stdout",
          "output_type": "stream",
          "text": [
            "Epoch 26, Val Loss: 0.09892667019002227, Val Accuracy: 0.98328025477707\n"
          ]
        },
        {
          "name": "stderr",
          "output_type": "stream",
          "text": [
            "100%|██████████| 938/938 [00:23<00:00, 40.09it/s, accuracy=1, loss=3.3e-6, lr=0.000258]\n"
          ]
        },
        {
          "name": "stdout",
          "output_type": "stream",
          "text": [
            "Epoch 27, Val Loss: 0.10019713890794804, Val Accuracy: 0.9830812101910829\n"
          ]
        },
        {
          "name": "stderr",
          "output_type": "stream",
          "text": [
            "100%|██████████| 938/938 [00:23<00:00, 40.18it/s, accuracy=1, loss=5.63e-6, lr=0.000233]\n"
          ]
        },
        {
          "name": "stdout",
          "output_type": "stream",
          "text": [
            "Epoch 28, Val Loss: 0.1027826985202147, Val Accuracy: 0.98328025477707\n"
          ]
        },
        {
          "name": "stderr",
          "output_type": "stream",
          "text": [
            "100%|██████████| 938/938 [00:24<00:00, 38.93it/s, accuracy=1, loss=3.79e-6, lr=0.000209]\n"
          ]
        },
        {
          "name": "stdout",
          "output_type": "stream",
          "text": [
            "Epoch 29, Val Loss: 0.10442041928003945, Val Accuracy: 0.9823845541401274\n"
          ]
        },
        {
          "name": "stderr",
          "output_type": "stream",
          "text": [
            "100%|██████████| 938/938 [00:23<00:00, 40.05it/s, accuracy=1, loss=1.79e-7, lr=0.000188]\n"
          ]
        },
        {
          "name": "stdout",
          "output_type": "stream",
          "text": [
            "Epoch 30, Val Loss: 0.10502442639308318, Val Accuracy: 0.9827826433121019\n",
            "LR: 0.004 Gamma: 0.9 Hdim: 256 Best Accuracy: 0.98328025477707\n"
          ]
        },
        {
          "name": "stderr",
          "output_type": "stream",
          "text": [
            "100%|██████████| 938/938 [00:23<00:00, 39.14it/s, accuracy=0.938, loss=0.243, lr=0.005]\n"
          ]
        },
        {
          "name": "stdout",
          "output_type": "stream",
          "text": [
            "Epoch 1, Val Loss: 0.1298106802141021, Val Accuracy: 0.9596934713375797\n"
          ]
        },
        {
          "name": "stderr",
          "output_type": "stream",
          "text": [
            "100%|██████████| 938/938 [00:23<00:00, 40.43it/s, accuracy=0.969, loss=0.181, lr=0.004]\n"
          ]
        },
        {
          "name": "stdout",
          "output_type": "stream",
          "text": [
            "Epoch 2, Val Loss: 0.11685259186345372, Val Accuracy: 0.9659633757961783\n"
          ]
        },
        {
          "name": "stderr",
          "output_type": "stream",
          "text": [
            "100%|██████████| 938/938 [00:24<00:00, 38.65it/s, accuracy=0.969, loss=0.143, lr=0.0032]\n"
          ]
        },
        {
          "name": "stdout",
          "output_type": "stream",
          "text": [
            "Epoch 3, Val Loss: 0.12784446683707854, Val Accuracy: 0.9654657643312102\n"
          ]
        },
        {
          "name": "stderr",
          "output_type": "stream",
          "text": [
            "100%|██████████| 938/938 [00:23<00:00, 40.01it/s, accuracy=1, loss=0.0204, lr=0.00256]\n"
          ]
        },
        {
          "name": "stdout",
          "output_type": "stream",
          "text": [
            "Epoch 4, Val Loss: 0.09852659014852794, Val Accuracy: 0.9740246815286624\n"
          ]
        },
        {
          "name": "stderr",
          "output_type": "stream",
          "text": [
            "100%|██████████| 938/938 [00:25<00:00, 37.19it/s, accuracy=1, loss=0.00326, lr=0.00205]\n"
          ]
        },
        {
          "name": "stdout",
          "output_type": "stream",
          "text": [
            "Epoch 5, Val Loss: 0.0957207597648738, Val Accuracy: 0.9732285031847133\n"
          ]
        },
        {
          "name": "stderr",
          "output_type": "stream",
          "text": [
            "100%|██████████| 938/938 [00:24<00:00, 38.72it/s, accuracy=1, loss=0.00823, lr=0.00164]\n"
          ]
        },
        {
          "name": "stdout",
          "output_type": "stream",
          "text": [
            "Epoch 6, Val Loss: 0.09329748424311596, Val Accuracy: 0.9753184713375797\n"
          ]
        },
        {
          "name": "stderr",
          "output_type": "stream",
          "text": [
            "100%|██████████| 938/938 [00:26<00:00, 35.86it/s, accuracy=1, loss=0.00361, lr=0.00131]\n"
          ]
        },
        {
          "name": "stdout",
          "output_type": "stream",
          "text": [
            "Epoch 7, Val Loss: 0.08542020251132121, Val Accuracy: 0.9777070063694268\n"
          ]
        },
        {
          "name": "stderr",
          "output_type": "stream",
          "text": [
            "100%|██████████| 938/938 [00:24<00:00, 38.87it/s, accuracy=1, loss=0.000375, lr=0.00105]\n"
          ]
        },
        {
          "name": "stdout",
          "output_type": "stream",
          "text": [
            "Epoch 8, Val Loss: 0.08820616806181991, Val Accuracy: 0.977906050955414\n"
          ]
        },
        {
          "name": "stderr",
          "output_type": "stream",
          "text": [
            "100%|██████████| 938/938 [00:24<00:00, 37.69it/s, accuracy=1, loss=0.00185, lr=0.000839]\n"
          ]
        },
        {
          "name": "stdout",
          "output_type": "stream",
          "text": [
            "Epoch 9, Val Loss: 0.08795319003303602, Val Accuracy: 0.9786027070063694\n"
          ]
        },
        {
          "name": "stderr",
          "output_type": "stream",
          "text": [
            "100%|██████████| 938/938 [00:24<00:00, 38.64it/s, accuracy=1, loss=0.000901, lr=0.000671]\n"
          ]
        },
        {
          "name": "stdout",
          "output_type": "stream",
          "text": [
            "Epoch 10, Val Loss: 0.08926397123930259, Val Accuracy: 0.9786027070063694\n"
          ]
        },
        {
          "name": "stderr",
          "output_type": "stream",
          "text": [
            "100%|██████████| 938/938 [00:23<00:00, 39.36it/s, accuracy=1, loss=0.000817, lr=0.000537]\n"
          ]
        },
        {
          "name": "stdout",
          "output_type": "stream",
          "text": [
            "Epoch 11, Val Loss: 0.0885479616984486, Val Accuracy: 0.9784036624203821\n"
          ]
        },
        {
          "name": "stderr",
          "output_type": "stream",
          "text": [
            "100%|██████████| 938/938 [00:26<00:00, 34.96it/s, accuracy=1, loss=3.96e-5, lr=0.000429]\n"
          ]
        },
        {
          "name": "stdout",
          "output_type": "stream",
          "text": [
            "Epoch 12, Val Loss: 0.09147906446252006, Val Accuracy: 0.9783041401273885\n"
          ]
        },
        {
          "name": "stderr",
          "output_type": "stream",
          "text": [
            "100%|██████████| 938/938 [00:24<00:00, 37.61it/s, accuracy=1, loss=0.000333, lr=0.000344]\n"
          ]
        },
        {
          "name": "stdout",
          "output_type": "stream",
          "text": [
            "Epoch 13, Val Loss: 0.09310430336304279, Val Accuracy: 0.9781050955414012\n"
          ]
        },
        {
          "name": "stderr",
          "output_type": "stream",
          "text": [
            "100%|██████████| 938/938 [00:28<00:00, 33.35it/s, accuracy=1, loss=0.000805, lr=0.000275]\n"
          ]
        },
        {
          "name": "stdout",
          "output_type": "stream",
          "text": [
            "Epoch 14, Val Loss: 0.09529626430578178, Val Accuracy: 0.9784036624203821\n"
          ]
        },
        {
          "name": "stderr",
          "output_type": "stream",
          "text": [
            "100%|██████████| 938/938 [00:25<00:00, 36.39it/s, accuracy=1, loss=0.000227, lr=0.00022]\n"
          ]
        },
        {
          "name": "stdout",
          "output_type": "stream",
          "text": [
            "Epoch 15, Val Loss: 0.09625556191569086, Val Accuracy: 0.9782046178343949\n"
          ]
        },
        {
          "name": "stderr",
          "output_type": "stream",
          "text": [
            "100%|██████████| 938/938 [00:24<00:00, 37.84it/s, accuracy=1, loss=0.00131, lr=0.000176]\n"
          ]
        },
        {
          "name": "stdout",
          "output_type": "stream",
          "text": [
            "Epoch 16, Val Loss: 0.09884473900364016, Val Accuracy: 0.9783041401273885\n"
          ]
        },
        {
          "name": "stderr",
          "output_type": "stream",
          "text": [
            "100%|██████████| 938/938 [00:26<00:00, 35.11it/s, accuracy=1, loss=0.000366, lr=0.000141]\n"
          ]
        },
        {
          "name": "stdout",
          "output_type": "stream",
          "text": [
            "Epoch 17, Val Loss: 0.09948649667071992, Val Accuracy: 0.9784036624203821\n"
          ]
        },
        {
          "name": "stderr",
          "output_type": "stream",
          "text": [
            "100%|██████████| 938/938 [00:25<00:00, 36.14it/s, accuracy=1, loss=0.000472, lr=0.000113]\n"
          ]
        },
        {
          "name": "stdout",
          "output_type": "stream",
          "text": [
            "Epoch 18, Val Loss: 0.10183458984322148, Val Accuracy: 0.9783041401273885\n"
          ]
        },
        {
          "name": "stderr",
          "output_type": "stream",
          "text": [
            "100%|██████████| 938/938 [00:27<00:00, 34.66it/s, accuracy=1, loss=9.36e-5, lr=9.01e-5]\n"
          ]
        },
        {
          "name": "stdout",
          "output_type": "stream",
          "text": [
            "Epoch 19, Val Loss: 0.10237796135841885, Val Accuracy: 0.978702229299363\n"
          ]
        },
        {
          "name": "stderr",
          "output_type": "stream",
          "text": [
            "100%|██████████| 938/938 [00:26<00:00, 35.35it/s, accuracy=1, loss=6.18e-5, lr=7.21e-5]\n"
          ]
        },
        {
          "name": "stdout",
          "output_type": "stream",
          "text": [
            "Epoch 20, Val Loss: 0.10363956347994072, Val Accuracy: 0.9783041401273885\n"
          ]
        },
        {
          "name": "stderr",
          "output_type": "stream",
          "text": [
            "100%|██████████| 938/938 [00:26<00:00, 35.44it/s, accuracy=1, loss=0.000293, lr=5.76e-5]\n"
          ]
        },
        {
          "name": "stdout",
          "output_type": "stream",
          "text": [
            "Epoch 21, Val Loss: 0.10481745049237835, Val Accuracy: 0.9784036624203821\n"
          ]
        },
        {
          "name": "stderr",
          "output_type": "stream",
          "text": [
            "100%|██████████| 938/938 [00:27<00:00, 33.72it/s, accuracy=1, loss=3.01e-5, lr=4.61e-5]\n"
          ]
        },
        {
          "name": "stdout",
          "output_type": "stream",
          "text": [
            "Epoch 22, Val Loss: 0.10572028587036202, Val Accuracy: 0.9782046178343949\n"
          ]
        },
        {
          "name": "stderr",
          "output_type": "stream",
          "text": [
            "100%|██████████| 938/938 [00:25<00:00, 36.49it/s, accuracy=1, loss=2.57e-5, lr=3.69e-5]\n"
          ]
        },
        {
          "name": "stdout",
          "output_type": "stream",
          "text": [
            "Epoch 23, Val Loss: 0.10606864604155923, Val Accuracy: 0.9783041401273885\n"
          ]
        },
        {
          "name": "stderr",
          "output_type": "stream",
          "text": [
            "100%|██████████| 938/938 [00:26<00:00, 36.04it/s, accuracy=1, loss=0.000161, lr=2.95e-5]\n"
          ]
        },
        {
          "name": "stdout",
          "output_type": "stream",
          "text": [
            "Epoch 24, Val Loss: 0.10660983612520948, Val Accuracy: 0.9784036624203821\n"
          ]
        },
        {
          "name": "stderr",
          "output_type": "stream",
          "text": [
            "100%|██████████| 938/938 [00:27<00:00, 34.15it/s, accuracy=1, loss=0.0001, lr=2.36e-5]\n"
          ]
        },
        {
          "name": "stdout",
          "output_type": "stream",
          "text": [
            "Epoch 25, Val Loss: 0.1074303001255502, Val Accuracy: 0.9783041401273885\n"
          ]
        },
        {
          "name": "stderr",
          "output_type": "stream",
          "text": [
            "100%|██████████| 938/938 [00:26<00:00, 36.02it/s, accuracy=1, loss=0.000114, lr=1.89e-5]\n"
          ]
        },
        {
          "name": "stdout",
          "output_type": "stream",
          "text": [
            "Epoch 26, Val Loss: 0.10743192791076814, Val Accuracy: 0.9784036624203821\n"
          ]
        },
        {
          "name": "stderr",
          "output_type": "stream",
          "text": [
            "100%|██████████| 938/938 [00:27<00:00, 34.44it/s, accuracy=1, loss=1.35e-5, lr=1.51e-5]\n"
          ]
        },
        {
          "name": "stdout",
          "output_type": "stream",
          "text": [
            "Epoch 27, Val Loss: 0.10777597078470402, Val Accuracy: 0.9783041401273885\n"
          ]
        },
        {
          "name": "stderr",
          "output_type": "stream",
          "text": [
            "100%|██████████| 938/938 [00:26<00:00, 35.77it/s, accuracy=1, loss=5.57e-5, lr=1.21e-5]\n"
          ]
        },
        {
          "name": "stdout",
          "output_type": "stream",
          "text": [
            "Epoch 28, Val Loss: 0.10807035583860003, Val Accuracy: 0.9785031847133758\n"
          ]
        },
        {
          "name": "stderr",
          "output_type": "stream",
          "text": [
            "100%|██████████| 938/938 [00:25<00:00, 36.95it/s, accuracy=1, loss=3.32e-5, lr=9.67e-6]\n"
          ]
        },
        {
          "name": "stdout",
          "output_type": "stream",
          "text": [
            "Epoch 29, Val Loss: 0.10857196615380346, Val Accuracy: 0.9784036624203821\n"
          ]
        },
        {
          "name": "stderr",
          "output_type": "stream",
          "text": [
            "100%|██████████| 938/938 [00:27<00:00, 34.41it/s, accuracy=1, loss=3.44e-5, lr=7.74e-6]\n"
          ]
        },
        {
          "name": "stdout",
          "output_type": "stream",
          "text": [
            "Epoch 30, Val Loss: 0.10877601112355463, Val Accuracy: 0.9783041401273885\n",
            "LR: 0.005 Gamma: 0.8 Hdim: 64 Best Accuracy: 0.978702229299363\n"
          ]
        },
        {
          "name": "stderr",
          "output_type": "stream",
          "text": [
            "100%|██████████| 938/938 [00:25<00:00, 37.31it/s, accuracy=0.938, loss=0.279, lr=0.005]\n"
          ]
        },
        {
          "name": "stdout",
          "output_type": "stream",
          "text": [
            "Epoch 1, Val Loss: 0.15410925885647606, Val Accuracy: 0.9514331210191083\n"
          ]
        },
        {
          "name": "stderr",
          "output_type": "stream",
          "text": [
            "100%|██████████| 938/938 [00:25<00:00, 36.81it/s, accuracy=0.969, loss=0.07, lr=0.004]\n"
          ]
        },
        {
          "name": "stdout",
          "output_type": "stream",
          "text": [
            "Epoch 2, Val Loss: 0.11154201957337843, Val Accuracy: 0.96765525477707\n"
          ]
        },
        {
          "name": "stderr",
          "output_type": "stream",
          "text": [
            "100%|██████████| 938/938 [00:25<00:00, 37.47it/s, accuracy=1, loss=0.00795, lr=0.0032]\n"
          ]
        },
        {
          "name": "stdout",
          "output_type": "stream",
          "text": [
            "Epoch 3, Val Loss: 0.09423039657594695, Val Accuracy: 0.9713375796178344\n"
          ]
        },
        {
          "name": "stderr",
          "output_type": "stream",
          "text": [
            "100%|██████████| 938/938 [00:24<00:00, 38.48it/s, accuracy=0.969, loss=0.151, lr=0.00256]\n"
          ]
        },
        {
          "name": "stdout",
          "output_type": "stream",
          "text": [
            "Epoch 4, Val Loss: 0.09398062588534115, Val Accuracy: 0.9742237261146497\n"
          ]
        },
        {
          "name": "stderr",
          "output_type": "stream",
          "text": [
            "100%|██████████| 938/938 [00:25<00:00, 36.97it/s, accuracy=1, loss=0.00265, lr=0.00205]\n"
          ]
        },
        {
          "name": "stdout",
          "output_type": "stream",
          "text": [
            "Epoch 5, Val Loss: 0.08743806033301663, Val Accuracy: 0.9776074840764332\n"
          ]
        },
        {
          "name": "stderr",
          "output_type": "stream",
          "text": [
            "100%|██████████| 938/938 [00:24<00:00, 37.60it/s, accuracy=1, loss=0.00136, lr=0.00164]\n"
          ]
        },
        {
          "name": "stdout",
          "output_type": "stream",
          "text": [
            "Epoch 6, Val Loss: 0.09898319173113226, Val Accuracy: 0.9743232484076433\n"
          ]
        },
        {
          "name": "stderr",
          "output_type": "stream",
          "text": [
            "100%|██████████| 938/938 [00:27<00:00, 33.74it/s, accuracy=1, loss=0.000197, lr=0.00131]\n"
          ]
        },
        {
          "name": "stdout",
          "output_type": "stream",
          "text": [
            "Epoch 7, Val Loss: 0.086396655554245, Val Accuracy: 0.9788017515923567\n"
          ]
        },
        {
          "name": "stderr",
          "output_type": "stream",
          "text": [
            "100%|██████████| 938/938 [00:24<00:00, 38.24it/s, accuracy=1, loss=0.00179, lr=0.00105]\n"
          ]
        },
        {
          "name": "stdout",
          "output_type": "stream",
          "text": [
            "Epoch 8, Val Loss: 0.08591919624661645, Val Accuracy: 0.9791003184713376\n"
          ]
        },
        {
          "name": "stderr",
          "output_type": "stream",
          "text": [
            "100%|██████████| 938/938 [00:25<00:00, 37.09it/s, accuracy=1, loss=0.000537, lr=0.000839]\n"
          ]
        },
        {
          "name": "stdout",
          "output_type": "stream",
          "text": [
            "Epoch 9, Val Loss: 0.08487394871275057, Val Accuracy: 0.9812898089171974\n"
          ]
        },
        {
          "name": "stderr",
          "output_type": "stream",
          "text": [
            "100%|██████████| 938/938 [00:23<00:00, 39.43it/s, accuracy=1, loss=0.000149, lr=0.000671]\n"
          ]
        },
        {
          "name": "stdout",
          "output_type": "stream",
          "text": [
            "Epoch 10, Val Loss: 0.08385727848333738, Val Accuracy: 0.9807921974522293\n"
          ]
        },
        {
          "name": "stderr",
          "output_type": "stream",
          "text": [
            "100%|██████████| 938/938 [00:25<00:00, 37.44it/s, accuracy=1, loss=0.00231, lr=0.000537]\n"
          ]
        },
        {
          "name": "stdout",
          "output_type": "stream",
          "text": [
            "Epoch 11, Val Loss: 0.08816748119767406, Val Accuracy: 0.9803941082802548\n"
          ]
        },
        {
          "name": "stderr",
          "output_type": "stream",
          "text": [
            "100%|██████████| 938/938 [00:23<00:00, 39.58it/s, accuracy=1, loss=0.000372, lr=0.000429]\n"
          ]
        },
        {
          "name": "stdout",
          "output_type": "stream",
          "text": [
            "Epoch 12, Val Loss: 0.0901188778082442, Val Accuracy: 0.9803941082802548\n"
          ]
        },
        {
          "name": "stderr",
          "output_type": "stream",
          "text": [
            "100%|██████████| 938/938 [00:25<00:00, 37.23it/s, accuracy=1, loss=0.000574, lr=0.000344]\n"
          ]
        },
        {
          "name": "stdout",
          "output_type": "stream",
          "text": [
            "Epoch 13, Val Loss: 0.0917073210212795, Val Accuracy: 0.9806926751592356\n"
          ]
        },
        {
          "name": "stderr",
          "output_type": "stream",
          "text": [
            "100%|██████████| 938/938 [00:24<00:00, 38.49it/s, accuracy=1, loss=0.000185, lr=0.000275]\n"
          ]
        },
        {
          "name": "stdout",
          "output_type": "stream",
          "text": [
            "Epoch 14, Val Loss: 0.09204034714141551, Val Accuracy: 0.9799960191082803\n"
          ]
        },
        {
          "name": "stderr",
          "output_type": "stream",
          "text": [
            "100%|██████████| 938/938 [00:25<00:00, 37.40it/s, accuracy=1, loss=0.000108, lr=0.00022]\n"
          ]
        },
        {
          "name": "stdout",
          "output_type": "stream",
          "text": [
            "Epoch 15, Val Loss: 0.09485797752288139, Val Accuracy: 0.9801950636942676\n"
          ]
        },
        {
          "name": "stderr",
          "output_type": "stream",
          "text": [
            "100%|██████████| 938/938 [00:23<00:00, 40.03it/s, accuracy=1, loss=7.35e-5, lr=0.000176]\n"
          ]
        },
        {
          "name": "stdout",
          "output_type": "stream",
          "text": [
            "Epoch 16, Val Loss: 0.09614753758105388, Val Accuracy: 0.980593152866242\n"
          ]
        },
        {
          "name": "stderr",
          "output_type": "stream",
          "text": [
            "100%|██████████| 938/938 [00:24<00:00, 37.99it/s, accuracy=1, loss=4.53e-5, lr=0.000141]\n"
          ]
        },
        {
          "name": "stdout",
          "output_type": "stream",
          "text": [
            "Epoch 17, Val Loss: 0.09794894256915553, Val Accuracy: 0.9803941082802548\n"
          ]
        },
        {
          "name": "stderr",
          "output_type": "stream",
          "text": [
            "100%|██████████| 938/938 [00:23<00:00, 39.89it/s, accuracy=1, loss=0.000112, lr=0.000113]\n"
          ]
        },
        {
          "name": "stdout",
          "output_type": "stream",
          "text": [
            "Epoch 18, Val Loss: 0.09948550696436748, Val Accuracy: 0.9803941082802548\n"
          ]
        },
        {
          "name": "stderr",
          "output_type": "stream",
          "text": [
            "100%|██████████| 938/938 [00:24<00:00, 37.60it/s, accuracy=1, loss=9.92e-5, lr=9.01e-5]\n"
          ]
        },
        {
          "name": "stdout",
          "output_type": "stream",
          "text": [
            "Epoch 19, Val Loss: 0.09986808593749667, Val Accuracy: 0.9808917197452229\n"
          ]
        },
        {
          "name": "stderr",
          "output_type": "stream",
          "text": [
            "100%|██████████| 938/938 [00:23<00:00, 40.35it/s, accuracy=1, loss=0.000109, lr=7.21e-5]\n"
          ]
        },
        {
          "name": "stdout",
          "output_type": "stream",
          "text": [
            "Epoch 20, Val Loss: 0.1016197904150496, Val Accuracy: 0.9801950636942676\n"
          ]
        },
        {
          "name": "stderr",
          "output_type": "stream",
          "text": [
            "100%|██████████| 938/938 [00:24<00:00, 37.55it/s, accuracy=1, loss=8.26e-5, lr=5.76e-5]\n"
          ]
        },
        {
          "name": "stdout",
          "output_type": "stream",
          "text": [
            "Epoch 21, Val Loss: 0.10306740060405202, Val Accuracy: 0.9801950636942676\n"
          ]
        },
        {
          "name": "stderr",
          "output_type": "stream",
          "text": [
            "100%|██████████| 938/938 [00:23<00:00, 39.67it/s, accuracy=1, loss=3.01e-5, lr=4.61e-5]\n"
          ]
        },
        {
          "name": "stdout",
          "output_type": "stream",
          "text": [
            "Epoch 22, Val Loss: 0.10371986702551865, Val Accuracy: 0.9804936305732485\n"
          ]
        },
        {
          "name": "stderr",
          "output_type": "stream",
          "text": [
            "100%|██████████| 938/938 [00:25<00:00, 37.34it/s, accuracy=1, loss=7.68e-5, lr=3.69e-5]\n"
          ]
        },
        {
          "name": "stdout",
          "output_type": "stream",
          "text": [
            "Epoch 23, Val Loss: 0.10475273091914308, Val Accuracy: 0.9800955414012739\n"
          ]
        },
        {
          "name": "stderr",
          "output_type": "stream",
          "text": [
            "100%|██████████| 938/938 [00:23<00:00, 40.08it/s, accuracy=1, loss=5.99e-5, lr=2.95e-5]\n"
          ]
        },
        {
          "name": "stdout",
          "output_type": "stream",
          "text": [
            "Epoch 24, Val Loss: 0.10511491850367775, Val Accuracy: 0.9804936305732485\n"
          ]
        },
        {
          "name": "stderr",
          "output_type": "stream",
          "text": [
            "100%|██████████| 938/938 [00:24<00:00, 38.05it/s, accuracy=1, loss=6.73e-5, lr=2.36e-5]\n"
          ]
        },
        {
          "name": "stdout",
          "output_type": "stream",
          "text": [
            "Epoch 25, Val Loss: 0.10577353593080514, Val Accuracy: 0.9803941082802548\n"
          ]
        },
        {
          "name": "stderr",
          "output_type": "stream",
          "text": [
            "100%|██████████| 938/938 [00:23<00:00, 40.05it/s, accuracy=1, loss=4.07e-5, lr=1.89e-5]\n"
          ]
        },
        {
          "name": "stdout",
          "output_type": "stream",
          "text": [
            "Epoch 26, Val Loss: 0.10606440765011667, Val Accuracy: 0.9802945859872612\n"
          ]
        },
        {
          "name": "stderr",
          "output_type": "stream",
          "text": [
            "100%|██████████| 938/938 [00:24<00:00, 38.31it/s, accuracy=1, loss=7.44e-5, lr=1.51e-5]\n"
          ]
        },
        {
          "name": "stdout",
          "output_type": "stream",
          "text": [
            "Epoch 27, Val Loss: 0.10628804715161246, Val Accuracy: 0.9801950636942676\n"
          ]
        },
        {
          "name": "stderr",
          "output_type": "stream",
          "text": [
            "100%|██████████| 938/938 [00:23<00:00, 40.35it/s, accuracy=1, loss=1.8e-5, lr=1.21e-5]\n"
          ]
        },
        {
          "name": "stdout",
          "output_type": "stream",
          "text": [
            "Epoch 28, Val Loss: 0.10664738558410057, Val Accuracy: 0.9800955414012739\n"
          ]
        },
        {
          "name": "stderr",
          "output_type": "stream",
          "text": [
            "100%|██████████| 938/938 [00:24<00:00, 38.85it/s, accuracy=1, loss=5.31e-6, lr=9.67e-6]\n"
          ]
        },
        {
          "name": "stdout",
          "output_type": "stream",
          "text": [
            "Epoch 29, Val Loss: 0.10698084227323075, Val Accuracy: 0.9802945859872612\n"
          ]
        },
        {
          "name": "stderr",
          "output_type": "stream",
          "text": [
            "100%|██████████| 938/938 [00:23<00:00, 40.13it/s, accuracy=1, loss=2.98e-5, lr=7.74e-6]\n"
          ]
        },
        {
          "name": "stdout",
          "output_type": "stream",
          "text": [
            "Epoch 30, Val Loss: 0.10707473562120828, Val Accuracy: 0.9800955414012739\n",
            "LR: 0.005 Gamma: 0.8 Hdim: 128 Best Accuracy: 0.9812898089171974\n"
          ]
        },
        {
          "name": "stderr",
          "output_type": "stream",
          "text": [
            "100%|██████████| 938/938 [00:24<00:00, 38.20it/s, accuracy=1, loss=0.0574, lr=0.005]\n"
          ]
        },
        {
          "name": "stdout",
          "output_type": "stream",
          "text": [
            "Epoch 1, Val Loss: 0.15936107773060917, Val Accuracy: 0.9509355095541401\n"
          ]
        },
        {
          "name": "stderr",
          "output_type": "stream",
          "text": [
            "100%|██████████| 938/938 [00:23<00:00, 40.07it/s, accuracy=0.969, loss=0.104, lr=0.004]\n"
          ]
        },
        {
          "name": "stdout",
          "output_type": "stream",
          "text": [
            "Epoch 2, Val Loss: 0.10251782181450117, Val Accuracy: 0.96875\n"
          ]
        },
        {
          "name": "stderr",
          "output_type": "stream",
          "text": [
            "100%|██████████| 938/938 [00:24<00:00, 37.60it/s, accuracy=0.969, loss=0.0349, lr=0.0032]\n"
          ]
        },
        {
          "name": "stdout",
          "output_type": "stream",
          "text": [
            "Epoch 3, Val Loss: 0.10600327791946985, Val Accuracy: 0.9681528662420382\n"
          ]
        },
        {
          "name": "stderr",
          "output_type": "stream",
          "text": [
            "100%|██████████| 938/938 [00:23<00:00, 40.43it/s, accuracy=1, loss=0.0053, lr=0.00256]\n"
          ]
        },
        {
          "name": "stdout",
          "output_type": "stream",
          "text": [
            "Epoch 4, Val Loss: 0.10492225346728343, Val Accuracy: 0.971437101910828\n"
          ]
        },
        {
          "name": "stderr",
          "output_type": "stream",
          "text": [
            "100%|██████████| 938/938 [00:24<00:00, 38.39it/s, accuracy=0.969, loss=0.0314, lr=0.00205]\n"
          ]
        },
        {
          "name": "stdout",
          "output_type": "stream",
          "text": [
            "Epoch 5, Val Loss: 0.07738228999399145, Val Accuracy: 0.9809912420382165\n"
          ]
        },
        {
          "name": "stderr",
          "output_type": "stream",
          "text": [
            "100%|██████████| 938/938 [00:23<00:00, 39.96it/s, accuracy=1, loss=0.00155, lr=0.00164]\n"
          ]
        },
        {
          "name": "stdout",
          "output_type": "stream",
          "text": [
            "Epoch 6, Val Loss: 0.08433238840955704, Val Accuracy: 0.9768113057324841\n"
          ]
        },
        {
          "name": "stderr",
          "output_type": "stream",
          "text": [
            "100%|██████████| 938/938 [00:25<00:00, 37.09it/s, accuracy=1, loss=0.0101, lr=0.00131]\n"
          ]
        },
        {
          "name": "stdout",
          "output_type": "stream",
          "text": [
            "Epoch 7, Val Loss: 0.07630645928858047, Val Accuracy: 0.9808917197452229\n"
          ]
        },
        {
          "name": "stderr",
          "output_type": "stream",
          "text": [
            "100%|██████████| 938/938 [00:23<00:00, 40.04it/s, accuracy=1, loss=0.000308, lr=0.00105]\n"
          ]
        },
        {
          "name": "stdout",
          "output_type": "stream",
          "text": [
            "Epoch 8, Val Loss: 0.07685198692763896, Val Accuracy: 0.9820859872611465\n"
          ]
        },
        {
          "name": "stderr",
          "output_type": "stream",
          "text": [
            "100%|██████████| 938/938 [00:24<00:00, 37.67it/s, accuracy=1, loss=0.000589, lr=0.000839]\n"
          ]
        },
        {
          "name": "stdout",
          "output_type": "stream",
          "text": [
            "Epoch 9, Val Loss: 0.0731871825707116, Val Accuracy: 0.9820859872611465\n"
          ]
        },
        {
          "name": "stderr",
          "output_type": "stream",
          "text": [
            "100%|██████████| 938/938 [00:23<00:00, 39.60it/s, accuracy=1, loss=0.000452, lr=0.000671]\n"
          ]
        },
        {
          "name": "stdout",
          "output_type": "stream",
          "text": [
            "Epoch 10, Val Loss: 0.07429904921487017, Val Accuracy: 0.9828821656050956\n"
          ]
        },
        {
          "name": "stderr",
          "output_type": "stream",
          "text": [
            "100%|██████████| 938/938 [00:25<00:00, 37.47it/s, accuracy=1, loss=0.00023, lr=0.000537]\n"
          ]
        },
        {
          "name": "stdout",
          "output_type": "stream",
          "text": [
            "Epoch 11, Val Loss: 0.07600204154381113, Val Accuracy: 0.9827826433121019\n"
          ]
        },
        {
          "name": "stderr",
          "output_type": "stream",
          "text": [
            "100%|██████████| 938/938 [00:23<00:00, 40.04it/s, accuracy=1, loss=0.000387, lr=0.000429]\n"
          ]
        },
        {
          "name": "stdout",
          "output_type": "stream",
          "text": [
            "Epoch 12, Val Loss: 0.0765096718761121, Val Accuracy: 0.9833797770700637\n"
          ]
        },
        {
          "name": "stderr",
          "output_type": "stream",
          "text": [
            "100%|██████████| 938/938 [00:24<00:00, 37.99it/s, accuracy=1, loss=0.000379, lr=0.000344]\n"
          ]
        },
        {
          "name": "stdout",
          "output_type": "stream",
          "text": [
            "Epoch 13, Val Loss: 0.07918696554134691, Val Accuracy: 0.9830812101910829\n"
          ]
        },
        {
          "name": "stderr",
          "output_type": "stream",
          "text": [
            "100%|██████████| 938/938 [00:23<00:00, 39.86it/s, accuracy=1, loss=0.000249, lr=0.000275]\n"
          ]
        },
        {
          "name": "stdout",
          "output_type": "stream",
          "text": [
            "Epoch 14, Val Loss: 0.07918351007933075, Val Accuracy: 0.98328025477707\n"
          ]
        },
        {
          "name": "stderr",
          "output_type": "stream",
          "text": [
            "100%|██████████| 938/938 [00:24<00:00, 37.88it/s, accuracy=1, loss=0.000505, lr=0.00022]\n"
          ]
        },
        {
          "name": "stdout",
          "output_type": "stream",
          "text": [
            "Epoch 15, Val Loss: 0.08067403065332178, Val Accuracy: 0.9831807324840764\n"
          ]
        },
        {
          "name": "stderr",
          "output_type": "stream",
          "text": [
            "100%|██████████| 938/938 [00:23<00:00, 39.71it/s, accuracy=1, loss=3.46e-6, lr=0.000176]\n"
          ]
        },
        {
          "name": "stdout",
          "output_type": "stream",
          "text": [
            "Epoch 16, Val Loss: 0.08263330312669936, Val Accuracy: 0.9830812101910829\n"
          ]
        },
        {
          "name": "stderr",
          "output_type": "stream",
          "text": [
            "100%|██████████| 938/938 [00:24<00:00, 38.10it/s, accuracy=1, loss=0.000176, lr=0.000141]\n"
          ]
        },
        {
          "name": "stdout",
          "output_type": "stream",
          "text": [
            "Epoch 17, Val Loss: 0.08301638899135495, Val Accuracy: 0.9830812101910829\n"
          ]
        },
        {
          "name": "stderr",
          "output_type": "stream",
          "text": [
            "100%|██████████| 938/938 [00:23<00:00, 40.38it/s, accuracy=1, loss=1.02e-6, lr=0.000113]\n"
          ]
        },
        {
          "name": "stdout",
          "output_type": "stream",
          "text": [
            "Epoch 18, Val Loss: 0.08415146441050886, Val Accuracy: 0.98328025477707\n"
          ]
        },
        {
          "name": "stderr",
          "output_type": "stream",
          "text": [
            "100%|██████████| 938/938 [00:25<00:00, 37.25it/s, accuracy=1, loss=0.000166, lr=9.01e-5]\n"
          ]
        },
        {
          "name": "stdout",
          "output_type": "stream",
          "text": [
            "Epoch 19, Val Loss: 0.08529155967871227, Val Accuracy: 0.9833797770700637\n"
          ]
        },
        {
          "name": "stderr",
          "output_type": "stream",
          "text": [
            "100%|██████████| 938/938 [00:23<00:00, 39.48it/s, accuracy=1, loss=4.54e-5, lr=7.21e-5]\n"
          ]
        },
        {
          "name": "stdout",
          "output_type": "stream",
          "text": [
            "Epoch 20, Val Loss: 0.08569725200283616, Val Accuracy: 0.98328025477707\n"
          ]
        },
        {
          "name": "stderr",
          "output_type": "stream",
          "text": [
            "100%|██████████| 938/938 [00:25<00:00, 37.39it/s, accuracy=1, loss=2.41e-5, lr=5.76e-5]\n"
          ]
        },
        {
          "name": "stdout",
          "output_type": "stream",
          "text": [
            "Epoch 21, Val Loss: 0.0865284329525234, Val Accuracy: 0.9833797770700637\n"
          ]
        },
        {
          "name": "stderr",
          "output_type": "stream",
          "text": [
            "100%|██████████| 938/938 [00:24<00:00, 39.06it/s, accuracy=1, loss=8.89e-6, lr=4.61e-5]\n"
          ]
        },
        {
          "name": "stdout",
          "output_type": "stream",
          "text": [
            "Epoch 22, Val Loss: 0.08744812815180479, Val Accuracy: 0.9836783439490446\n"
          ]
        },
        {
          "name": "stderr",
          "output_type": "stream",
          "text": [
            "100%|██████████| 938/938 [00:24<00:00, 38.22it/s, accuracy=1, loss=7.01e-5, lr=3.69e-5]\n"
          ]
        },
        {
          "name": "stdout",
          "output_type": "stream",
          "text": [
            "Epoch 23, Val Loss: 0.08814302604963878, Val Accuracy: 0.9834792993630573\n"
          ]
        },
        {
          "name": "stderr",
          "output_type": "stream",
          "text": [
            "100%|██████████| 938/938 [00:23<00:00, 39.65it/s, accuracy=1, loss=1.62e-5, lr=2.95e-5]\n"
          ]
        },
        {
          "name": "stdout",
          "output_type": "stream",
          "text": [
            "Epoch 24, Val Loss: 0.0884675427228378, Val Accuracy: 0.9835788216560509\n"
          ]
        },
        {
          "name": "stderr",
          "output_type": "stream",
          "text": [
            "100%|██████████| 938/938 [00:24<00:00, 37.60it/s, accuracy=1, loss=2.06e-6, lr=2.36e-5]\n"
          ]
        },
        {
          "name": "stdout",
          "output_type": "stream",
          "text": [
            "Epoch 25, Val Loss: 0.0886977610038359, Val Accuracy: 0.9834792993630573\n"
          ]
        },
        {
          "name": "stderr",
          "output_type": "stream",
          "text": [
            "100%|██████████| 938/938 [00:23<00:00, 39.44it/s, accuracy=1, loss=1.8e-5, lr=1.89e-5]\n"
          ]
        },
        {
          "name": "stdout",
          "output_type": "stream",
          "text": [
            "Epoch 26, Val Loss: 0.08937452422172903, Val Accuracy: 0.9834792993630573\n"
          ]
        },
        {
          "name": "stderr",
          "output_type": "stream",
          "text": [
            "100%|██████████| 938/938 [00:24<00:00, 37.86it/s, accuracy=1, loss=2.99e-5, lr=1.51e-5]\n"
          ]
        },
        {
          "name": "stdout",
          "output_type": "stream",
          "text": [
            "Epoch 27, Val Loss: 0.08963897065110041, Val Accuracy: 0.9836783439490446\n"
          ]
        },
        {
          "name": "stderr",
          "output_type": "stream",
          "text": [
            "100%|██████████| 938/938 [00:23<00:00, 39.51it/s, accuracy=1, loss=2.16e-5, lr=1.21e-5]\n"
          ]
        },
        {
          "name": "stdout",
          "output_type": "stream",
          "text": [
            "Epoch 28, Val Loss: 0.08974730489596713, Val Accuracy: 0.9834792993630573\n"
          ]
        },
        {
          "name": "stderr",
          "output_type": "stream",
          "text": [
            "100%|██████████| 938/938 [00:24<00:00, 38.52it/s, accuracy=1, loss=4.38e-5, lr=9.67e-6]\n"
          ]
        },
        {
          "name": "stdout",
          "output_type": "stream",
          "text": [
            "Epoch 29, Val Loss: 0.09005896137572054, Val Accuracy: 0.9833797770700637\n"
          ]
        },
        {
          "name": "stderr",
          "output_type": "stream",
          "text": [
            "100%|██████████| 938/938 [00:24<00:00, 38.06it/s, accuracy=1, loss=3.09e-5, lr=7.74e-6]\n"
          ]
        },
        {
          "name": "stdout",
          "output_type": "stream",
          "text": [
            "Epoch 30, Val Loss: 0.0901660943923191, Val Accuracy: 0.9835788216560509\n",
            "LR: 0.005 Gamma: 0.8 Hdim: 256 Best Accuracy: 0.9836783439490446\n"
          ]
        },
        {
          "name": "stderr",
          "output_type": "stream",
          "text": [
            "100%|██████████| 938/938 [00:25<00:00, 36.32it/s, accuracy=0.906, loss=0.263, lr=0.005]\n"
          ]
        },
        {
          "name": "stdout",
          "output_type": "stream",
          "text": [
            "Epoch 1, Val Loss: 0.14478834083149578, Val Accuracy: 0.9559116242038217\n"
          ]
        },
        {
          "name": "stderr",
          "output_type": "stream",
          "text": [
            "100%|██████████| 938/938 [00:24<00:00, 37.58it/s, accuracy=0.969, loss=0.296, lr=0.0045]\n"
          ]
        },
        {
          "name": "stdout",
          "output_type": "stream",
          "text": [
            "Epoch 2, Val Loss: 0.13035116331677019, Val Accuracy: 0.9596934713375797\n"
          ]
        },
        {
          "name": "stderr",
          "output_type": "stream",
          "text": [
            "100%|██████████| 938/938 [00:26<00:00, 35.15it/s, accuracy=0.969, loss=0.0664, lr=0.00405]\n"
          ]
        },
        {
          "name": "stdout",
          "output_type": "stream",
          "text": [
            "Epoch 3, Val Loss: 0.12889977564955885, Val Accuracy: 0.9606886942675159\n"
          ]
        },
        {
          "name": "stderr",
          "output_type": "stream",
          "text": [
            "100%|██████████| 938/938 [00:25<00:00, 37.51it/s, accuracy=1, loss=0.0171, lr=0.00365]\n"
          ]
        },
        {
          "name": "stdout",
          "output_type": "stream",
          "text": [
            "Epoch 4, Val Loss: 0.1387792284500149, Val Accuracy: 0.9629777070063694\n"
          ]
        },
        {
          "name": "stderr",
          "output_type": "stream",
          "text": [
            "100%|██████████| 938/938 [00:25<00:00, 37.45it/s, accuracy=1, loss=0.00657, lr=0.00328]\n"
          ]
        },
        {
          "name": "stdout",
          "output_type": "stream",
          "text": [
            "Epoch 5, Val Loss: 0.13782828888347207, Val Accuracy: 0.964171974522293\n"
          ]
        },
        {
          "name": "stderr",
          "output_type": "stream",
          "text": [
            "100%|██████████| 938/938 [00:23<00:00, 40.58it/s, accuracy=1, loss=0.000704, lr=0.00295]\n"
          ]
        },
        {
          "name": "stdout",
          "output_type": "stream",
          "text": [
            "Epoch 6, Val Loss: 0.13668283665929787, Val Accuracy: 0.9661624203821656\n"
          ]
        },
        {
          "name": "stderr",
          "output_type": "stream",
          "text": [
            "100%|██████████| 938/938 [00:25<00:00, 37.49it/s, accuracy=1, loss=0.00104, lr=0.00266]\n"
          ]
        },
        {
          "name": "stdout",
          "output_type": "stream",
          "text": [
            "Epoch 7, Val Loss: 0.1246817872854463, Val Accuracy: 0.9697452229299363\n"
          ]
        },
        {
          "name": "stderr",
          "output_type": "stream",
          "text": [
            "100%|██████████| 938/938 [00:23<00:00, 39.91it/s, accuracy=1, loss=0.00124, lr=0.00239]\n"
          ]
        },
        {
          "name": "stdout",
          "output_type": "stream",
          "text": [
            "Epoch 8, Val Loss: 0.13201186932776043, Val Accuracy: 0.9708399681528662\n"
          ]
        },
        {
          "name": "stderr",
          "output_type": "stream",
          "text": [
            "100%|██████████| 938/938 [00:24<00:00, 37.88it/s, accuracy=1, loss=0.00361, lr=0.00215]\n"
          ]
        },
        {
          "name": "stdout",
          "output_type": "stream",
          "text": [
            "Epoch 9, Val Loss: 0.10541937558729356, Val Accuracy: 0.9766122611464968\n"
          ]
        },
        {
          "name": "stderr",
          "output_type": "stream",
          "text": [
            "100%|██████████| 938/938 [00:23<00:00, 40.49it/s, accuracy=1, loss=0.00129, lr=0.00194]\n"
          ]
        },
        {
          "name": "stdout",
          "output_type": "stream",
          "text": [
            "Epoch 10, Val Loss: 0.12362800091896452, Val Accuracy: 0.9739251592356688\n"
          ]
        },
        {
          "name": "stderr",
          "output_type": "stream",
          "text": [
            "100%|██████████| 938/938 [00:24<00:00, 37.76it/s, accuracy=1, loss=0.0029, lr=0.00174]\n"
          ]
        },
        {
          "name": "stdout",
          "output_type": "stream",
          "text": [
            "Epoch 11, Val Loss: 0.12612199113671776, Val Accuracy: 0.9726313694267515\n"
          ]
        },
        {
          "name": "stderr",
          "output_type": "stream",
          "text": [
            "100%|██████████| 938/938 [00:23<00:00, 40.16it/s, accuracy=1, loss=0.000132, lr=0.00157]\n"
          ]
        },
        {
          "name": "stdout",
          "output_type": "stream",
          "text": [
            "Epoch 12, Val Loss: 0.11277183940856454, Val Accuracy: 0.977109872611465\n"
          ]
        },
        {
          "name": "stderr",
          "output_type": "stream",
          "text": [
            "100%|██████████| 938/938 [00:24<00:00, 38.56it/s, accuracy=1, loss=0.00431, lr=0.00141]\n"
          ]
        },
        {
          "name": "stdout",
          "output_type": "stream",
          "text": [
            "Epoch 13, Val Loss: 0.1406912537234639, Val Accuracy: 0.9726313694267515\n"
          ]
        },
        {
          "name": "stderr",
          "output_type": "stream",
          "text": [
            "100%|██████████| 938/938 [00:25<00:00, 37.24it/s, accuracy=1, loss=0.00096, lr=0.00127]\n"
          ]
        },
        {
          "name": "stdout",
          "output_type": "stream",
          "text": [
            "Epoch 14, Val Loss: 0.11480045684767856, Val Accuracy: 0.9763136942675159\n"
          ]
        },
        {
          "name": "stderr",
          "output_type": "stream",
          "text": [
            "100%|██████████| 938/938 [00:26<00:00, 34.87it/s, accuracy=1, loss=0.000129, lr=0.00114]\n"
          ]
        },
        {
          "name": "stdout",
          "output_type": "stream",
          "text": [
            "Epoch 15, Val Loss: 0.11174242973598895, Val Accuracy: 0.9788017515923567\n"
          ]
        },
        {
          "name": "stderr",
          "output_type": "stream",
          "text": [
            "100%|██████████| 938/938 [00:25<00:00, 36.60it/s, accuracy=1, loss=0.000866, lr=0.00103]\n"
          ]
        },
        {
          "name": "stdout",
          "output_type": "stream",
          "text": [
            "Epoch 16, Val Loss: 0.1114465151962663, Val Accuracy: 0.9785031847133758\n"
          ]
        },
        {
          "name": "stderr",
          "output_type": "stream",
          "text": [
            "100%|██████████| 938/938 [00:26<00:00, 35.84it/s, accuracy=1, loss=0.00076, lr=0.000927]\n"
          ]
        },
        {
          "name": "stdout",
          "output_type": "stream",
          "text": [
            "Epoch 17, Val Loss: 0.11001325517602863, Val Accuracy: 0.9786027070063694\n"
          ]
        },
        {
          "name": "stderr",
          "output_type": "stream",
          "text": [
            "100%|██████████| 938/938 [00:25<00:00, 36.47it/s, accuracy=1, loss=0.000453, lr=0.000834]\n"
          ]
        },
        {
          "name": "stdout",
          "output_type": "stream",
          "text": [
            "Epoch 18, Val Loss: 0.1121184472366393, Val Accuracy: 0.9792993630573248\n"
          ]
        },
        {
          "name": "stderr",
          "output_type": "stream",
          "text": [
            "100%|██████████| 938/938 [00:24<00:00, 39.07it/s, accuracy=1, loss=0.000325, lr=0.00075]\n"
          ]
        },
        {
          "name": "stdout",
          "output_type": "stream",
          "text": [
            "Epoch 19, Val Loss: 0.11379341969503166, Val Accuracy: 0.9784036624203821\n"
          ]
        },
        {
          "name": "stderr",
          "output_type": "stream",
          "text": [
            "100%|██████████| 938/938 [00:23<00:00, 39.31it/s, accuracy=1, loss=9.16e-5, lr=0.000675]\n"
          ]
        },
        {
          "name": "stdout",
          "output_type": "stream",
          "text": [
            "Epoch 20, Val Loss: 0.11585165555377203, Val Accuracy: 0.9788017515923567\n"
          ]
        },
        {
          "name": "stderr",
          "output_type": "stream",
          "text": [
            "100%|██████████| 938/938 [00:23<00:00, 40.22it/s, accuracy=1, loss=0.000148, lr=0.000608]\n"
          ]
        },
        {
          "name": "stdout",
          "output_type": "stream",
          "text": [
            "Epoch 21, Val Loss: 0.11622713039015029, Val Accuracy: 0.9792993630573248\n"
          ]
        },
        {
          "name": "stderr",
          "output_type": "stream",
          "text": [
            "100%|██████████| 938/938 [00:24<00:00, 38.71it/s, accuracy=1, loss=1.05e-5, lr=0.000547]\n"
          ]
        },
        {
          "name": "stdout",
          "output_type": "stream",
          "text": [
            "Epoch 22, Val Loss: 0.11875838301299266, Val Accuracy: 0.9793988853503185\n"
          ]
        },
        {
          "name": "stderr",
          "output_type": "stream",
          "text": [
            "100%|██████████| 938/938 [00:23<00:00, 39.50it/s, accuracy=1, loss=1.85e-5, lr=0.000492]\n"
          ]
        },
        {
          "name": "stdout",
          "output_type": "stream",
          "text": [
            "Epoch 23, Val Loss: 0.12002318222253622, Val Accuracy: 0.9793988853503185\n"
          ]
        },
        {
          "name": "stderr",
          "output_type": "stream",
          "text": [
            "100%|██████████| 938/938 [00:24<00:00, 37.65it/s, accuracy=1, loss=5.61e-5, lr=0.000443]\n"
          ]
        },
        {
          "name": "stdout",
          "output_type": "stream",
          "text": [
            "Epoch 24, Val Loss: 0.12571307395635947, Val Accuracy: 0.9791998407643312\n"
          ]
        },
        {
          "name": "stderr",
          "output_type": "stream",
          "text": [
            "100%|██████████| 938/938 [00:23<00:00, 39.09it/s, accuracy=1, loss=2.77e-5, lr=0.000399]\n"
          ]
        },
        {
          "name": "stdout",
          "output_type": "stream",
          "text": [
            "Epoch 25, Val Loss: 0.12597341846881904, Val Accuracy: 0.9791998407643312\n"
          ]
        },
        {
          "name": "stderr",
          "output_type": "stream",
          "text": [
            "100%|██████████| 938/938 [00:24<00:00, 38.17it/s, accuracy=1, loss=1.8e-5, lr=0.000359]\n"
          ]
        },
        {
          "name": "stdout",
          "output_type": "stream",
          "text": [
            "Epoch 26, Val Loss: 0.12877526482974241, Val Accuracy: 0.9789012738853503\n"
          ]
        },
        {
          "name": "stderr",
          "output_type": "stream",
          "text": [
            "100%|██████████| 938/938 [00:24<00:00, 38.98it/s, accuracy=1, loss=1.18e-6, lr=0.000323]\n"
          ]
        },
        {
          "name": "stdout",
          "output_type": "stream",
          "text": [
            "Epoch 27, Val Loss: 0.130882231333714, Val Accuracy: 0.9791003184713376\n"
          ]
        },
        {
          "name": "stderr",
          "output_type": "stream",
          "text": [
            "100%|██████████| 938/938 [00:25<00:00, 36.99it/s, accuracy=1, loss=1.91e-5, lr=0.000291]\n"
          ]
        },
        {
          "name": "stdout",
          "output_type": "stream",
          "text": [
            "Epoch 28, Val Loss: 0.1358181895636772, Val Accuracy: 0.9794984076433121\n"
          ]
        },
        {
          "name": "stderr",
          "output_type": "stream",
          "text": [
            "100%|██████████| 938/938 [00:24<00:00, 38.60it/s, accuracy=1, loss=6.66e-6, lr=0.000262]\n"
          ]
        },
        {
          "name": "stdout",
          "output_type": "stream",
          "text": [
            "Epoch 29, Val Loss: 0.13913086330736985, Val Accuracy: 0.9792993630573248\n"
          ]
        },
        {
          "name": "stderr",
          "output_type": "stream",
          "text": [
            "100%|██████████| 938/938 [00:25<00:00, 37.10it/s, accuracy=1, loss=3.33e-6, lr=0.000236]\n"
          ]
        },
        {
          "name": "stdout",
          "output_type": "stream",
          "text": [
            "Epoch 30, Val Loss: 0.1412418594021382, Val Accuracy: 0.9791003184713376\n",
            "LR: 0.005 Gamma: 0.9 Hdim: 64 Best Accuracy: 0.9794984076433121\n"
          ]
        },
        {
          "name": "stderr",
          "output_type": "stream",
          "text": [
            "100%|██████████| 938/938 [00:24<00:00, 38.44it/s, accuracy=0.938, loss=0.29, lr=0.005]\n"
          ]
        },
        {
          "name": "stdout",
          "output_type": "stream",
          "text": [
            "Epoch 1, Val Loss: 0.16032131894263232, Val Accuracy: 0.9507364649681529\n"
          ]
        },
        {
          "name": "stderr",
          "output_type": "stream",
          "text": [
            "100%|██████████| 938/938 [00:25<00:00, 37.16it/s, accuracy=1, loss=0.0425, lr=0.0045]\n"
          ]
        },
        {
          "name": "stdout",
          "output_type": "stream",
          "text": [
            "Epoch 2, Val Loss: 0.15972693563679197, Val Accuracy: 0.957703025477707\n"
          ]
        },
        {
          "name": "stderr",
          "output_type": "stream",
          "text": [
            "100%|██████████| 938/938 [00:23<00:00, 39.32it/s, accuracy=1, loss=0.0272, lr=0.00405]\n"
          ]
        },
        {
          "name": "stdout",
          "output_type": "stream",
          "text": [
            "Epoch 3, Val Loss: 0.11342018488835348, Val Accuracy: 0.9675557324840764\n"
          ]
        },
        {
          "name": "stderr",
          "output_type": "stream",
          "text": [
            "100%|██████████| 938/938 [00:24<00:00, 37.62it/s, accuracy=0.906, loss=0.29, lr=0.00365]\n"
          ]
        },
        {
          "name": "stdout",
          "output_type": "stream",
          "text": [
            "Epoch 4, Val Loss: 0.11994186003957905, Val Accuracy: 0.9658638535031847\n"
          ]
        },
        {
          "name": "stderr",
          "output_type": "stream",
          "text": [
            "100%|██████████| 938/938 [00:24<00:00, 38.46it/s, accuracy=0.969, loss=0.0401, lr=0.00328]\n"
          ]
        },
        {
          "name": "stdout",
          "output_type": "stream",
          "text": [
            "Epoch 5, Val Loss: 0.11579723447242837, Val Accuracy: 0.9691480891719745\n"
          ]
        },
        {
          "name": "stderr",
          "output_type": "stream",
          "text": [
            "100%|██████████| 938/938 [00:25<00:00, 37.29it/s, accuracy=1, loss=0.0169, lr=0.00295]\n"
          ]
        },
        {
          "name": "stdout",
          "output_type": "stream",
          "text": [
            "Epoch 6, Val Loss: 0.13609458396425744, Val Accuracy: 0.9662619426751592\n"
          ]
        },
        {
          "name": "stderr",
          "output_type": "stream",
          "text": [
            "100%|██████████| 938/938 [00:24<00:00, 38.34it/s, accuracy=1, loss=0.012, lr=0.00266]\n"
          ]
        },
        {
          "name": "stdout",
          "output_type": "stream",
          "text": [
            "Epoch 7, Val Loss: 0.10404872794328718, Val Accuracy: 0.9757165605095541\n"
          ]
        },
        {
          "name": "stderr",
          "output_type": "stream",
          "text": [
            "100%|██████████| 938/938 [00:24<00:00, 37.62it/s, accuracy=0.969, loss=0.0817, lr=0.00239]\n"
          ]
        },
        {
          "name": "stdout",
          "output_type": "stream",
          "text": [
            "Epoch 8, Val Loss: 0.11708576958842934, Val Accuracy: 0.9743232484076433\n"
          ]
        },
        {
          "name": "stderr",
          "output_type": "stream",
          "text": [
            "100%|██████████| 938/938 [00:24<00:00, 38.81it/s, accuracy=1, loss=0.000857, lr=0.00215]\n"
          ]
        },
        {
          "name": "stdout",
          "output_type": "stream",
          "text": [
            "Epoch 9, Val Loss: 0.10803902463982348, Val Accuracy: 0.9757165605095541\n"
          ]
        },
        {
          "name": "stderr",
          "output_type": "stream",
          "text": [
            "100%|██████████| 938/938 [00:25<00:00, 37.09it/s, accuracy=1, loss=0.000153, lr=0.00194]\n"
          ]
        },
        {
          "name": "stdout",
          "output_type": "stream",
          "text": [
            "Epoch 10, Val Loss: 0.12340391773194546, Val Accuracy: 0.976015127388535\n"
          ]
        },
        {
          "name": "stderr",
          "output_type": "stream",
          "text": [
            "100%|██████████| 938/938 [00:24<00:00, 39.06it/s, accuracy=0.969, loss=0.201, lr=0.00174]\n"
          ]
        },
        {
          "name": "stdout",
          "output_type": "stream",
          "text": [
            "Epoch 11, Val Loss: 0.11354586212935612, Val Accuracy: 0.9764132165605095\n"
          ]
        },
        {
          "name": "stderr",
          "output_type": "stream",
          "text": [
            "100%|██████████| 938/938 [00:24<00:00, 38.55it/s, accuracy=1, loss=0.000985, lr=0.00157]\n"
          ]
        },
        {
          "name": "stdout",
          "output_type": "stream",
          "text": [
            "Epoch 12, Val Loss: 0.11510078618400596, Val Accuracy: 0.9767117834394905\n"
          ]
        },
        {
          "name": "stderr",
          "output_type": "stream",
          "text": [
            "100%|██████████| 938/938 [00:23<00:00, 39.87it/s, accuracy=1, loss=0.00365, lr=0.00141]\n"
          ]
        },
        {
          "name": "stdout",
          "output_type": "stream",
          "text": [
            "Epoch 13, Val Loss: 0.10284849265880798, Val Accuracy: 0.978702229299363\n"
          ]
        },
        {
          "name": "stderr",
          "output_type": "stream",
          "text": [
            "100%|██████████| 938/938 [00:24<00:00, 38.73it/s, accuracy=1, loss=0.000311, lr=0.00127]\n"
          ]
        },
        {
          "name": "stdout",
          "output_type": "stream",
          "text": [
            "Epoch 14, Val Loss: 0.09730052500101885, Val Accuracy: 0.9803941082802548\n"
          ]
        },
        {
          "name": "stderr",
          "output_type": "stream",
          "text": [
            "100%|██████████| 938/938 [00:23<00:00, 39.11it/s, accuracy=1, loss=0.000103, lr=0.00114]\n"
          ]
        },
        {
          "name": "stdout",
          "output_type": "stream",
          "text": [
            "Epoch 15, Val Loss: 0.09904277262262766, Val Accuracy: 0.9803941082802548\n"
          ]
        },
        {
          "name": "stderr",
          "output_type": "stream",
          "text": [
            "100%|██████████| 938/938 [00:24<00:00, 38.61it/s, accuracy=1, loss=5.02e-5, lr=0.00103]\n"
          ]
        },
        {
          "name": "stdout",
          "output_type": "stream",
          "text": [
            "Epoch 16, Val Loss: 0.10055416263694453, Val Accuracy: 0.9804936305732485\n"
          ]
        },
        {
          "name": "stderr",
          "output_type": "stream",
          "text": [
            "100%|██████████| 938/938 [00:24<00:00, 39.01it/s, accuracy=1, loss=5.44e-6, lr=0.000927]\n"
          ]
        },
        {
          "name": "stdout",
          "output_type": "stream",
          "text": [
            "Epoch 17, Val Loss: 0.10114265271502215, Val Accuracy: 0.980593152866242\n"
          ]
        },
        {
          "name": "stderr",
          "output_type": "stream",
          "text": [
            "100%|██████████| 938/938 [00:24<00:00, 37.92it/s, accuracy=1, loss=4.63e-6, lr=0.000834]\n"
          ]
        },
        {
          "name": "stdout",
          "output_type": "stream",
          "text": [
            "Epoch 18, Val Loss: 0.10147848439649655, Val Accuracy: 0.9804936305732485\n"
          ]
        },
        {
          "name": "stderr",
          "output_type": "stream",
          "text": [
            "100%|██████████| 938/938 [00:23<00:00, 39.36it/s, accuracy=1, loss=8.87e-5, lr=0.00075]\n"
          ]
        },
        {
          "name": "stdout",
          "output_type": "stream",
          "text": [
            "Epoch 19, Val Loss: 0.10215165357833002, Val Accuracy: 0.980593152866242\n"
          ]
        },
        {
          "name": "stderr",
          "output_type": "stream",
          "text": [
            "100%|██████████| 938/938 [00:24<00:00, 37.65it/s, accuracy=1, loss=2.71e-5, lr=0.000675]\n"
          ]
        },
        {
          "name": "stdout",
          "output_type": "stream",
          "text": [
            "Epoch 20, Val Loss: 0.10438120152084646, Val Accuracy: 0.980593152866242\n"
          ]
        },
        {
          "name": "stderr",
          "output_type": "stream",
          "text": [
            "100%|██████████| 938/938 [00:24<00:00, 38.75it/s, accuracy=1, loss=2.27e-5, lr=0.000608]\n"
          ]
        },
        {
          "name": "stdout",
          "output_type": "stream",
          "text": [
            "Epoch 21, Val Loss: 0.10782528050069756, Val Accuracy: 0.9803941082802548\n"
          ]
        },
        {
          "name": "stderr",
          "output_type": "stream",
          "text": [
            "100%|██████████| 938/938 [00:24<00:00, 38.20it/s, accuracy=1, loss=5.7e-6, lr=0.000547]\n"
          ]
        },
        {
          "name": "stdout",
          "output_type": "stream",
          "text": [
            "Epoch 22, Val Loss: 0.11136545744439641, Val Accuracy: 0.9808917197452229\n"
          ]
        },
        {
          "name": "stderr",
          "output_type": "stream",
          "text": [
            "100%|██████████| 938/938 [00:24<00:00, 38.50it/s, accuracy=1, loss=5.55e-5, lr=0.000492]\n"
          ]
        },
        {
          "name": "stdout",
          "output_type": "stream",
          "text": [
            "Epoch 23, Val Loss: 0.1133414704878262, Val Accuracy: 0.9806926751592356\n"
          ]
        },
        {
          "name": "stderr",
          "output_type": "stream",
          "text": [
            "100%|██████████| 938/938 [00:25<00:00, 36.82it/s, accuracy=1, loss=1.18e-5, lr=0.000443]\n"
          ]
        },
        {
          "name": "stdout",
          "output_type": "stream",
          "text": [
            "Epoch 24, Val Loss: 0.11528499387633508, Val Accuracy: 0.980593152866242\n"
          ]
        },
        {
          "name": "stderr",
          "output_type": "stream",
          "text": [
            "100%|██████████| 938/938 [00:23<00:00, 39.26it/s, accuracy=1, loss=1.48e-5, lr=0.000399]\n"
          ]
        },
        {
          "name": "stdout",
          "output_type": "stream",
          "text": [
            "Epoch 25, Val Loss: 0.11878925291925917, Val Accuracy: 0.9809912420382165\n"
          ]
        },
        {
          "name": "stderr",
          "output_type": "stream",
          "text": [
            "100%|██████████| 938/938 [00:25<00:00, 37.21it/s, accuracy=1, loss=1.33e-6, lr=0.000359]\n"
          ]
        },
        {
          "name": "stdout",
          "output_type": "stream",
          "text": [
            "Epoch 26, Val Loss: 0.11872367153818449, Val Accuracy: 0.980593152866242\n"
          ]
        },
        {
          "name": "stderr",
          "output_type": "stream",
          "text": [
            "100%|██████████| 938/938 [00:24<00:00, 38.77it/s, accuracy=1, loss=1e-5, lr=0.000323]\n"
          ]
        },
        {
          "name": "stdout",
          "output_type": "stream",
          "text": [
            "Epoch 27, Val Loss: 0.12201119481313001, Val Accuracy: 0.9807921974522293\n"
          ]
        },
        {
          "name": "stderr",
          "output_type": "stream",
          "text": [
            "100%|██████████| 938/938 [00:25<00:00, 37.25it/s, accuracy=1, loss=2.23e-6, lr=0.000291]\n"
          ]
        },
        {
          "name": "stdout",
          "output_type": "stream",
          "text": [
            "Epoch 28, Val Loss: 0.12398778535912569, Val Accuracy: 0.9810907643312102\n"
          ]
        },
        {
          "name": "stderr",
          "output_type": "stream",
          "text": [
            "100%|██████████| 938/938 [00:24<00:00, 38.71it/s, accuracy=1, loss=4.62e-7, lr=0.000262]\n"
          ]
        },
        {
          "name": "stdout",
          "output_type": "stream",
          "text": [
            "Epoch 29, Val Loss: 0.12678774668272022, Val Accuracy: 0.9810907643312102\n"
          ]
        },
        {
          "name": "stderr",
          "output_type": "stream",
          "text": [
            "100%|██████████| 938/938 [00:25<00:00, 37.42it/s, accuracy=1, loss=7.71e-7, lr=0.000236]\n"
          ]
        },
        {
          "name": "stdout",
          "output_type": "stream",
          "text": [
            "Epoch 30, Val Loss: 0.12828843889501754, Val Accuracy: 0.9815883757961783\n",
            "LR: 0.005 Gamma: 0.9 Hdim: 128 Best Accuracy: 0.9815883757961783\n"
          ]
        },
        {
          "name": "stderr",
          "output_type": "stream",
          "text": [
            "100%|██████████| 938/938 [00:24<00:00, 38.28it/s, accuracy=0.969, loss=0.0913, lr=0.005]\n"
          ]
        },
        {
          "name": "stdout",
          "output_type": "stream",
          "text": [
            "Epoch 1, Val Loss: 0.14038487140253886, Val Accuracy: 0.9585987261146497\n"
          ]
        },
        {
          "name": "stderr",
          "output_type": "stream",
          "text": [
            "100%|██████████| 938/938 [00:25<00:00, 36.09it/s, accuracy=0.969, loss=0.22, lr=0.0045]\n"
          ]
        },
        {
          "name": "stdout",
          "output_type": "stream",
          "text": [
            "Epoch 2, Val Loss: 0.11038948243052349, Val Accuracy: 0.9659633757961783\n"
          ]
        },
        {
          "name": "stderr",
          "output_type": "stream",
          "text": [
            "100%|██████████| 938/938 [00:24<00:00, 38.96it/s, accuracy=1, loss=0.0106, lr=0.00405]\n"
          ]
        },
        {
          "name": "stdout",
          "output_type": "stream",
          "text": [
            "Epoch 3, Val Loss: 0.11783133208704223, Val Accuracy: 0.9677547770700637\n"
          ]
        },
        {
          "name": "stderr",
          "output_type": "stream",
          "text": [
            "100%|██████████| 938/938 [00:25<00:00, 37.12it/s, accuracy=0.969, loss=0.0495, lr=0.00365]\n"
          ]
        },
        {
          "name": "stdout",
          "output_type": "stream",
          "text": [
            "Epoch 4, Val Loss: 0.11700061540670886, Val Accuracy: 0.96875\n"
          ]
        },
        {
          "name": "stderr",
          "output_type": "stream",
          "text": [
            "100%|██████████| 938/938 [00:23<00:00, 39.29it/s, accuracy=1, loss=0.0348, lr=0.00328]\n"
          ]
        },
        {
          "name": "stdout",
          "output_type": "stream",
          "text": [
            "Epoch 5, Val Loss: 0.11430175723026374, Val Accuracy: 0.9723328025477707\n"
          ]
        },
        {
          "name": "stderr",
          "output_type": "stream",
          "text": [
            "100%|██████████| 938/938 [00:23<00:00, 39.58it/s, accuracy=1, loss=0.0153, lr=0.00295]\n"
          ]
        },
        {
          "name": "stdout",
          "output_type": "stream",
          "text": [
            "Epoch 6, Val Loss: 0.11967755657491244, Val Accuracy: 0.9697452229299363\n"
          ]
        },
        {
          "name": "stderr",
          "output_type": "stream",
          "text": [
            "100%|██████████| 938/938 [00:21<00:00, 43.97it/s, accuracy=0.969, loss=0.0382, lr=0.00266]\n"
          ]
        },
        {
          "name": "stdout",
          "output_type": "stream",
          "text": [
            "Epoch 7, Val Loss: 0.09796356621974911, Val Accuracy: 0.976015127388535\n"
          ]
        },
        {
          "name": "stderr",
          "output_type": "stream",
          "text": [
            "100%|██████████| 938/938 [00:22<00:00, 41.21it/s, accuracy=1, loss=0.00502, lr=0.00239]\n"
          ]
        },
        {
          "name": "stdout",
          "output_type": "stream",
          "text": [
            "Epoch 8, Val Loss: 0.10594208073702241, Val Accuracy: 0.976015127388535\n"
          ]
        },
        {
          "name": "stderr",
          "output_type": "stream",
          "text": [
            "100%|██████████| 938/938 [00:21<00:00, 43.73it/s, accuracy=1, loss=0.0241, lr=0.00215]\n"
          ]
        },
        {
          "name": "stdout",
          "output_type": "stream",
          "text": [
            "Epoch 9, Val Loss: 0.10291798123851087, Val Accuracy: 0.9784036624203821\n"
          ]
        },
        {
          "name": "stderr",
          "output_type": "stream",
          "text": [
            "100%|██████████| 938/938 [00:22<00:00, 42.43it/s, accuracy=0.969, loss=0.0354, lr=0.00194]\n"
          ]
        },
        {
          "name": "stdout",
          "output_type": "stream",
          "text": [
            "Epoch 10, Val Loss: 0.10439904307034797, Val Accuracy: 0.9775079617834395\n"
          ]
        },
        {
          "name": "stderr",
          "output_type": "stream",
          "text": [
            "100%|██████████| 938/938 [00:21<00:00, 42.85it/s, accuracy=1, loss=0.00515, lr=0.00174]\n"
          ]
        },
        {
          "name": "stdout",
          "output_type": "stream",
          "text": [
            "Epoch 11, Val Loss: 0.11931720857696428, Val Accuracy: 0.9764132165605095\n"
          ]
        },
        {
          "name": "stderr",
          "output_type": "stream",
          "text": [
            "100%|██████████| 938/938 [00:21<00:00, 43.75it/s, accuracy=1, loss=0.0122, lr=0.00157]\n"
          ]
        },
        {
          "name": "stdout",
          "output_type": "stream",
          "text": [
            "Epoch 12, Val Loss: 0.11297904332624709, Val Accuracy: 0.9770103503184714\n"
          ]
        },
        {
          "name": "stderr",
          "output_type": "stream",
          "text": [
            "100%|██████████| 938/938 [00:23<00:00, 39.22it/s, accuracy=1, loss=0.00675, lr=0.00141]\n"
          ]
        },
        {
          "name": "stdout",
          "output_type": "stream",
          "text": [
            "Epoch 13, Val Loss: 0.10240427048911428, Val Accuracy: 0.9794984076433121\n"
          ]
        },
        {
          "name": "stderr",
          "output_type": "stream",
          "text": [
            "100%|██████████| 938/938 [00:24<00:00, 38.68it/s, accuracy=1, loss=0.00187, lr=0.00127]\n"
          ]
        },
        {
          "name": "stdout",
          "output_type": "stream",
          "text": [
            "Epoch 14, Val Loss: 0.09924734718059709, Val Accuracy: 0.978702229299363\n"
          ]
        },
        {
          "name": "stderr",
          "output_type": "stream",
          "text": [
            "100%|██████████| 938/938 [00:25<00:00, 36.58it/s, accuracy=1, loss=0.000933, lr=0.00114]\n"
          ]
        },
        {
          "name": "stdout",
          "output_type": "stream",
          "text": [
            "Epoch 15, Val Loss: 0.09195578850461747, Val Accuracy: 0.9798964968152867\n"
          ]
        },
        {
          "name": "stderr",
          "output_type": "stream",
          "text": [
            "100%|██████████| 938/938 [00:24<00:00, 38.47it/s, accuracy=1, loss=0.000222, lr=0.00103]\n"
          ]
        },
        {
          "name": "stdout",
          "output_type": "stream",
          "text": [
            "Epoch 16, Val Loss: 0.0899589547879829, Val Accuracy: 0.9813893312101911\n"
          ]
        },
        {
          "name": "stderr",
          "output_type": "stream",
          "text": [
            "100%|██████████| 938/938 [00:24<00:00, 37.91it/s, accuracy=1, loss=6.69e-5, lr=0.000927]\n"
          ]
        },
        {
          "name": "stdout",
          "output_type": "stream",
          "text": [
            "Epoch 17, Val Loss: 0.09022567839355694, Val Accuracy: 0.9814888535031847\n"
          ]
        },
        {
          "name": "stderr",
          "output_type": "stream",
          "text": [
            "100%|██████████| 938/938 [00:25<00:00, 36.94it/s, accuracy=1, loss=5.33e-7, lr=0.000834]\n"
          ]
        },
        {
          "name": "stdout",
          "output_type": "stream",
          "text": [
            "Epoch 18, Val Loss: 0.09028618849952415, Val Accuracy: 0.9819864649681529\n"
          ]
        },
        {
          "name": "stderr",
          "output_type": "stream",
          "text": [
            "100%|██████████| 938/938 [00:24<00:00, 38.69it/s, accuracy=1, loss=0.000185, lr=0.00075]\n"
          ]
        },
        {
          "name": "stdout",
          "output_type": "stream",
          "text": [
            "Epoch 19, Val Loss: 0.09263743356162074, Val Accuracy: 0.982484076433121\n"
          ]
        },
        {
          "name": "stderr",
          "output_type": "stream",
          "text": [
            "100%|██████████| 938/938 [00:25<00:00, 36.97it/s, accuracy=1, loss=1.49e-5, lr=0.000675]\n"
          ]
        },
        {
          "name": "stdout",
          "output_type": "stream",
          "text": [
            "Epoch 20, Val Loss: 0.093561753282389, Val Accuracy: 0.9819864649681529\n"
          ]
        },
        {
          "name": "stderr",
          "output_type": "stream",
          "text": [
            "100%|██████████| 938/938 [00:24<00:00, 38.38it/s, accuracy=1, loss=5.98e-6, lr=0.000608]\n"
          ]
        },
        {
          "name": "stdout",
          "output_type": "stream",
          "text": [
            "Epoch 21, Val Loss: 0.09475027347803075, Val Accuracy: 0.982484076433121\n"
          ]
        },
        {
          "name": "stderr",
          "output_type": "stream",
          "text": [
            "100%|██████████| 938/938 [00:25<00:00, 37.37it/s, accuracy=1, loss=1.77e-5, lr=0.000547]\n"
          ]
        },
        {
          "name": "stdout",
          "output_type": "stream",
          "text": [
            "Epoch 22, Val Loss: 0.09573356546670385, Val Accuracy: 0.9820859872611465\n"
          ]
        },
        {
          "name": "stderr",
          "output_type": "stream",
          "text": [
            "100%|██████████| 938/938 [00:24<00:00, 38.32it/s, accuracy=1, loss=8.91e-5, lr=0.000492]\n"
          ]
        },
        {
          "name": "stdout",
          "output_type": "stream",
          "text": [
            "Epoch 23, Val Loss: 0.0984181253884947, Val Accuracy: 0.9820859872611465\n"
          ]
        },
        {
          "name": "stderr",
          "output_type": "stream",
          "text": [
            "100%|██████████| 938/938 [00:25<00:00, 36.63it/s, accuracy=1, loss=3.33e-6, lr=0.000443]\n"
          ]
        },
        {
          "name": "stdout",
          "output_type": "stream",
          "text": [
            "Epoch 24, Val Loss: 0.0999705818456402, Val Accuracy: 0.9825835987261147\n"
          ]
        },
        {
          "name": "stderr",
          "output_type": "stream",
          "text": [
            "100%|██████████| 938/938 [00:24<00:00, 38.10it/s, accuracy=1, loss=4.22e-6, lr=0.000399]\n"
          ]
        },
        {
          "name": "stdout",
          "output_type": "stream",
          "text": [
            "Epoch 25, Val Loss: 0.10140665055367797, Val Accuracy: 0.9829816878980892\n"
          ]
        },
        {
          "name": "stderr",
          "output_type": "stream",
          "text": [
            "100%|██████████| 938/938 [00:25<00:00, 37.30it/s, accuracy=1, loss=2.94e-6, lr=0.000359]\n"
          ]
        },
        {
          "name": "stdout",
          "output_type": "stream",
          "text": [
            "Epoch 26, Val Loss: 0.1048000944817096, Val Accuracy: 0.9822850318471338\n"
          ]
        },
        {
          "name": "stderr",
          "output_type": "stream",
          "text": [
            "100%|██████████| 938/938 [00:24<00:00, 38.01it/s, accuracy=1, loss=4.61e-6, lr=0.000323]\n"
          ]
        },
        {
          "name": "stdout",
          "output_type": "stream",
          "text": [
            "Epoch 27, Val Loss: 0.10598928478410126, Val Accuracy: 0.9828821656050956\n"
          ]
        },
        {
          "name": "stderr",
          "output_type": "stream",
          "text": [
            "100%|██████████| 938/938 [00:25<00:00, 37.03it/s, accuracy=1, loss=4.17e-6, lr=0.000291]\n"
          ]
        },
        {
          "name": "stdout",
          "output_type": "stream",
          "text": [
            "Epoch 28, Val Loss: 0.10868035244429373, Val Accuracy: 0.9829816878980892\n"
          ]
        },
        {
          "name": "stderr",
          "output_type": "stream",
          "text": [
            "100%|██████████| 938/938 [00:24<00:00, 38.26it/s, accuracy=1, loss=2.93e-6, lr=0.000262]\n"
          ]
        },
        {
          "name": "stdout",
          "output_type": "stream",
          "text": [
            "Epoch 29, Val Loss: 0.11031146949314899, Val Accuracy: 0.982484076433121\n"
          ]
        },
        {
          "name": "stderr",
          "output_type": "stream",
          "text": [
            "100%|██████████| 938/938 [00:25<00:00, 37.43it/s, accuracy=1, loss=2.05e-6, lr=0.000236]\n"
          ]
        },
        {
          "name": "stdout",
          "output_type": "stream",
          "text": [
            "Epoch 30, Val Loss: 0.11149785452538083, Val Accuracy: 0.9828821656050956\n",
            "LR: 0.005 Gamma: 0.9 Hdim: 256 Best Accuracy: 0.9829816878980892\n"
          ]
        },
        {
          "name": "stderr",
          "output_type": "stream",
          "text": [
            "100%|██████████| 938/938 [00:24<00:00, 38.84it/s, accuracy=0.906, loss=0.35, lr=0.006]\n"
          ]
        },
        {
          "name": "stdout",
          "output_type": "stream",
          "text": [
            "Epoch 1, Val Loss: 0.1596009033898212, Val Accuracy: 0.950437898089172\n"
          ]
        },
        {
          "name": "stderr",
          "output_type": "stream",
          "text": [
            "100%|██████████| 938/938 [00:24<00:00, 37.68it/s, accuracy=0.969, loss=0.255, lr=0.0048]\n"
          ]
        },
        {
          "name": "stdout",
          "output_type": "stream",
          "text": [
            "Epoch 2, Val Loss: 0.12557218088190053, Val Accuracy: 0.9617834394904459\n"
          ]
        },
        {
          "name": "stderr",
          "output_type": "stream",
          "text": [
            "100%|██████████| 938/938 [00:24<00:00, 38.59it/s, accuracy=0.969, loss=0.164, lr=0.00384]\n"
          ]
        },
        {
          "name": "stdout",
          "output_type": "stream",
          "text": [
            "Epoch 3, Val Loss: 0.1097202131255518, Val Accuracy: 0.9701433121019108\n"
          ]
        },
        {
          "name": "stderr",
          "output_type": "stream",
          "text": [
            "100%|██████████| 938/938 [00:24<00:00, 37.94it/s, accuracy=1, loss=0.00557, lr=0.00307]\n"
          ]
        },
        {
          "name": "stdout",
          "output_type": "stream",
          "text": [
            "Epoch 4, Val Loss: 0.10202509228291752, Val Accuracy: 0.9716361464968153\n"
          ]
        },
        {
          "name": "stderr",
          "output_type": "stream",
          "text": [
            "100%|██████████| 938/938 [00:24<00:00, 38.64it/s, accuracy=1, loss=0.00191, lr=0.00246]\n"
          ]
        },
        {
          "name": "stdout",
          "output_type": "stream",
          "text": [
            "Epoch 5, Val Loss: 0.10110996987077091, Val Accuracy: 0.9723328025477707\n"
          ]
        },
        {
          "name": "stderr",
          "output_type": "stream",
          "text": [
            "100%|██████████| 938/938 [00:24<00:00, 38.13it/s, accuracy=1, loss=0.000266, lr=0.00197]\n"
          ]
        },
        {
          "name": "stdout",
          "output_type": "stream",
          "text": [
            "Epoch 6, Val Loss: 0.11910817348717112, Val Accuracy: 0.9703423566878981\n"
          ]
        },
        {
          "name": "stderr",
          "output_type": "stream",
          "text": [
            "100%|██████████| 938/938 [00:24<00:00, 37.72it/s, accuracy=1, loss=0.00236, lr=0.00157]\n"
          ]
        },
        {
          "name": "stdout",
          "output_type": "stream",
          "text": [
            "Epoch 7, Val Loss: 0.09625068746884313, Val Accuracy: 0.9753184713375797\n"
          ]
        },
        {
          "name": "stderr",
          "output_type": "stream",
          "text": [
            "100%|██████████| 938/938 [00:24<00:00, 38.26it/s, accuracy=1, loss=0.000749, lr=0.00126]\n"
          ]
        },
        {
          "name": "stdout",
          "output_type": "stream",
          "text": [
            "Epoch 8, Val Loss: 0.10015681776157191, Val Accuracy: 0.9784036624203821\n"
          ]
        },
        {
          "name": "stderr",
          "output_type": "stream",
          "text": [
            "100%|██████████| 938/938 [00:24<00:00, 37.62it/s, accuracy=1, loss=0.00207, lr=0.00101]\n"
          ]
        },
        {
          "name": "stdout",
          "output_type": "stream",
          "text": [
            "Epoch 9, Val Loss: 0.09991309055931341, Val Accuracy: 0.9782046178343949\n"
          ]
        },
        {
          "name": "stderr",
          "output_type": "stream",
          "text": [
            "100%|██████████| 938/938 [00:25<00:00, 37.47it/s, accuracy=1, loss=0.00132, lr=0.000805]\n"
          ]
        },
        {
          "name": "stdout",
          "output_type": "stream",
          "text": [
            "Epoch 10, Val Loss: 0.0958827156808424, Val Accuracy: 0.9793988853503185\n"
          ]
        },
        {
          "name": "stderr",
          "output_type": "stream",
          "text": [
            "100%|██████████| 938/938 [00:25<00:00, 37.47it/s, accuracy=1, loss=0.00018, lr=0.000644]\n"
          ]
        },
        {
          "name": "stdout",
          "output_type": "stream",
          "text": [
            "Epoch 11, Val Loss: 0.09704176720587657, Val Accuracy: 0.9799960191082803\n"
          ]
        },
        {
          "name": "stderr",
          "output_type": "stream",
          "text": [
            "100%|██████████| 938/938 [00:24<00:00, 38.31it/s, accuracy=1, loss=5.02e-5, lr=0.000515]\n"
          ]
        },
        {
          "name": "stdout",
          "output_type": "stream",
          "text": [
            "Epoch 12, Val Loss: 0.0974097581603007, Val Accuracy: 0.9795979299363057\n"
          ]
        },
        {
          "name": "stderr",
          "output_type": "stream",
          "text": [
            "100%|██████████| 938/938 [00:25<00:00, 37.43it/s, accuracy=1, loss=0.000195, lr=0.000412]\n"
          ]
        },
        {
          "name": "stdout",
          "output_type": "stream",
          "text": [
            "Epoch 13, Val Loss: 0.09882219701890865, Val Accuracy: 0.9804936305732485\n"
          ]
        },
        {
          "name": "stderr",
          "output_type": "stream",
          "text": [
            "100%|██████████| 938/938 [00:25<00:00, 37.27it/s, accuracy=1, loss=0.000932, lr=0.00033]\n"
          ]
        },
        {
          "name": "stdout",
          "output_type": "stream",
          "text": [
            "Epoch 14, Val Loss: 0.10144370035181732, Val Accuracy: 0.9802945859872612\n"
          ]
        },
        {
          "name": "stderr",
          "output_type": "stream",
          "text": [
            "100%|██████████| 938/938 [00:24<00:00, 37.55it/s, accuracy=1, loss=0.000275, lr=0.000264]\n"
          ]
        },
        {
          "name": "stdout",
          "output_type": "stream",
          "text": [
            "Epoch 15, Val Loss: 0.10368011568803201, Val Accuracy: 0.9800955414012739\n"
          ]
        },
        {
          "name": "stderr",
          "output_type": "stream",
          "text": [
            "100%|██████████| 938/938 [00:25<00:00, 36.91it/s, accuracy=1, loss=0.00112, lr=0.000211]\n"
          ]
        },
        {
          "name": "stdout",
          "output_type": "stream",
          "text": [
            "Epoch 16, Val Loss: 0.10420581134389058, Val Accuracy: 0.9798964968152867\n"
          ]
        },
        {
          "name": "stderr",
          "output_type": "stream",
          "text": [
            "100%|██████████| 938/938 [00:24<00:00, 38.45it/s, accuracy=1, loss=0.000572, lr=0.000169]\n"
          ]
        },
        {
          "name": "stdout",
          "output_type": "stream",
          "text": [
            "Epoch 17, Val Loss: 0.10605974155596382, Val Accuracy: 0.9800955414012739\n"
          ]
        },
        {
          "name": "stderr",
          "output_type": "stream",
          "text": [
            "100%|██████████| 938/938 [00:25<00:00, 37.24it/s, accuracy=1, loss=0.000422, lr=0.000135]\n"
          ]
        },
        {
          "name": "stdout",
          "output_type": "stream",
          "text": [
            "Epoch 18, Val Loss: 0.10842177841155684, Val Accuracy: 0.9801950636942676\n"
          ]
        },
        {
          "name": "stderr",
          "output_type": "stream",
          "text": [
            "100%|██████████| 938/938 [00:24<00:00, 37.84it/s, accuracy=1, loss=0.000133, lr=0.000108]\n"
          ]
        },
        {
          "name": "stdout",
          "output_type": "stream",
          "text": [
            "Epoch 19, Val Loss: 0.10963219253245039, Val Accuracy: 0.9802945859872612\n"
          ]
        },
        {
          "name": "stderr",
          "output_type": "stream",
          "text": [
            "100%|██████████| 938/938 [00:24<00:00, 38.41it/s, accuracy=1, loss=0.000146, lr=8.65e-5]\n"
          ]
        },
        {
          "name": "stdout",
          "output_type": "stream",
          "text": [
            "Epoch 20, Val Loss: 0.11082102870424923, Val Accuracy: 0.9803941082802548\n"
          ]
        },
        {
          "name": "stderr",
          "output_type": "stream",
          "text": [
            "100%|██████████| 938/938 [00:24<00:00, 37.79it/s, accuracy=1, loss=0.000125, lr=6.92e-5]\n"
          ]
        },
        {
          "name": "stdout",
          "output_type": "stream",
          "text": [
            "Epoch 21, Val Loss: 0.11145647717333906, Val Accuracy: 0.9804936305732485\n"
          ]
        },
        {
          "name": "stderr",
          "output_type": "stream",
          "text": [
            "100%|██████████| 938/938 [00:24<00:00, 38.22it/s, accuracy=1, loss=4.39e-5, lr=5.53e-5]\n"
          ]
        },
        {
          "name": "stdout",
          "output_type": "stream",
          "text": [
            "Epoch 22, Val Loss: 0.1129082104262312, Val Accuracy: 0.9804936305732485\n"
          ]
        },
        {
          "name": "stderr",
          "output_type": "stream",
          "text": [
            "100%|██████████| 938/938 [00:24<00:00, 38.31it/s, accuracy=1, loss=5.26e-5, lr=4.43e-5]\n"
          ]
        },
        {
          "name": "stdout",
          "output_type": "stream",
          "text": [
            "Epoch 23, Val Loss: 0.11336628773725381, Val Accuracy: 0.9802945859872612\n"
          ]
        },
        {
          "name": "stderr",
          "output_type": "stream",
          "text": [
            "100%|██████████| 938/938 [00:24<00:00, 37.77it/s, accuracy=1, loss=8.96e-5, lr=3.54e-5]\n"
          ]
        },
        {
          "name": "stdout",
          "output_type": "stream",
          "text": [
            "Epoch 24, Val Loss: 0.11424464698110726, Val Accuracy: 0.9804936305732485\n"
          ]
        },
        {
          "name": "stderr",
          "output_type": "stream",
          "text": [
            "100%|██████████| 938/938 [00:24<00:00, 37.89it/s, accuracy=1, loss=0.000151, lr=2.83e-5]\n"
          ]
        },
        {
          "name": "stdout",
          "output_type": "stream",
          "text": [
            "Epoch 25, Val Loss: 0.11463974648783135, Val Accuracy: 0.980593152866242\n"
          ]
        },
        {
          "name": "stderr",
          "output_type": "stream",
          "text": [
            "100%|██████████| 938/938 [00:24<00:00, 37.65it/s, accuracy=1, loss=4.62e-5, lr=2.27e-5]\n"
          ]
        },
        {
          "name": "stdout",
          "output_type": "stream",
          "text": [
            "Epoch 26, Val Loss: 0.11472322717982526, Val Accuracy: 0.9806926751592356\n"
          ]
        },
        {
          "name": "stderr",
          "output_type": "stream",
          "text": [
            "100%|██████████| 938/938 [00:24<00:00, 38.23it/s, accuracy=1, loss=1.55e-5, lr=1.81e-5]\n"
          ]
        },
        {
          "name": "stdout",
          "output_type": "stream",
          "text": [
            "Epoch 27, Val Loss: 0.11521301780940815, Val Accuracy: 0.980593152866242\n"
          ]
        },
        {
          "name": "stderr",
          "output_type": "stream",
          "text": [
            "100%|██████████| 938/938 [00:24<00:00, 37.77it/s, accuracy=1, loss=0.000165, lr=1.45e-5]\n"
          ]
        },
        {
          "name": "stdout",
          "output_type": "stream",
          "text": [
            "Epoch 28, Val Loss: 0.11546954045688175, Val Accuracy: 0.9807921974522293\n"
          ]
        },
        {
          "name": "stderr",
          "output_type": "stream",
          "text": [
            "100%|██████████| 938/938 [00:25<00:00, 37.39it/s, accuracy=1, loss=5.13e-5, lr=1.16e-5]\n"
          ]
        },
        {
          "name": "stdout",
          "output_type": "stream",
          "text": [
            "Epoch 29, Val Loss: 0.1159334819543095, Val Accuracy: 0.9806926751592356\n"
          ]
        },
        {
          "name": "stderr",
          "output_type": "stream",
          "text": [
            "100%|██████████| 938/938 [00:25<00:00, 36.36it/s, accuracy=1, loss=6.5e-5, lr=9.28e-6]\n"
          ]
        },
        {
          "name": "stdout",
          "output_type": "stream",
          "text": [
            "Epoch 30, Val Loss: 0.11611100780114347, Val Accuracy: 0.9804936305732485\n",
            "LR: 0.006 Gamma: 0.8 Hdim: 64 Best Accuracy: 0.9807921974522293\n"
          ]
        },
        {
          "name": "stderr",
          "output_type": "stream",
          "text": [
            "100%|██████████| 938/938 [00:24<00:00, 38.30it/s, accuracy=0.906, loss=0.368, lr=0.006]\n"
          ]
        },
        {
          "name": "stdout",
          "output_type": "stream",
          "text": [
            "Epoch 1, Val Loss: 0.18848272158829554, Val Accuracy: 0.9416799363057324\n"
          ]
        },
        {
          "name": "stderr",
          "output_type": "stream",
          "text": [
            "100%|██████████| 938/938 [00:25<00:00, 36.68it/s, accuracy=1, loss=0.0645, lr=0.0048]\n"
          ]
        },
        {
          "name": "stdout",
          "output_type": "stream",
          "text": [
            "Epoch 2, Val Loss: 0.13213622758526852, Val Accuracy: 0.9615843949044586\n"
          ]
        },
        {
          "name": "stderr",
          "output_type": "stream",
          "text": [
            "100%|██████████| 938/938 [00:24<00:00, 37.97it/s, accuracy=0.969, loss=0.0745, lr=0.00384]\n"
          ]
        },
        {
          "name": "stdout",
          "output_type": "stream",
          "text": [
            "Epoch 3, Val Loss: 0.1223124317508962, Val Accuracy: 0.9662619426751592\n"
          ]
        },
        {
          "name": "stderr",
          "output_type": "stream",
          "text": [
            "100%|██████████| 938/938 [00:24<00:00, 37.55it/s, accuracy=1, loss=0.0276, lr=0.00307]\n"
          ]
        },
        {
          "name": "stdout",
          "output_type": "stream",
          "text": [
            "Epoch 4, Val Loss: 0.1178474994678926, Val Accuracy: 0.96875\n"
          ]
        },
        {
          "name": "stderr",
          "output_type": "stream",
          "text": [
            "100%|██████████| 938/938 [00:25<00:00, 37.02it/s, accuracy=0.969, loss=0.0423, lr=0.00246]\n"
          ]
        },
        {
          "name": "stdout",
          "output_type": "stream",
          "text": [
            "Epoch 5, Val Loss: 0.10677693711466904, Val Accuracy: 0.9743232484076433\n"
          ]
        },
        {
          "name": "stderr",
          "output_type": "stream",
          "text": [
            "100%|██████████| 938/938 [00:25<00:00, 37.04it/s, accuracy=1, loss=0.00138, lr=0.00197]\n"
          ]
        },
        {
          "name": "stdout",
          "output_type": "stream",
          "text": [
            "Epoch 6, Val Loss: 0.10906609868675766, Val Accuracy: 0.9722332802547771\n"
          ]
        },
        {
          "name": "stderr",
          "output_type": "stream",
          "text": [
            "100%|██████████| 938/938 [00:25<00:00, 37.29it/s, accuracy=1, loss=0.00132, lr=0.00157]\n"
          ]
        },
        {
          "name": "stdout",
          "output_type": "stream",
          "text": [
            "Epoch 7, Val Loss: 0.0971699790635519, Val Accuracy: 0.9754179936305732\n"
          ]
        },
        {
          "name": "stderr",
          "output_type": "stream",
          "text": [
            "100%|██████████| 938/938 [00:26<00:00, 35.81it/s, accuracy=1, loss=0.0049, lr=0.00126]\n"
          ]
        },
        {
          "name": "stdout",
          "output_type": "stream",
          "text": [
            "Epoch 8, Val Loss: 0.09989887465574837, Val Accuracy: 0.9762141719745223\n"
          ]
        },
        {
          "name": "stderr",
          "output_type": "stream",
          "text": [
            "100%|██████████| 938/938 [00:24<00:00, 37.83it/s, accuracy=1, loss=0.00121, lr=0.00101]\n"
          ]
        },
        {
          "name": "stdout",
          "output_type": "stream",
          "text": [
            "Epoch 9, Val Loss: 0.0966977303365453, Val Accuracy: 0.9778065286624203\n"
          ]
        },
        {
          "name": "stderr",
          "output_type": "stream",
          "text": [
            "100%|██████████| 938/938 [00:26<00:00, 35.88it/s, accuracy=1, loss=0.000607, lr=0.000805]\n"
          ]
        },
        {
          "name": "stdout",
          "output_type": "stream",
          "text": [
            "Epoch 10, Val Loss: 0.09811717566460093, Val Accuracy: 0.9783041401273885\n"
          ]
        },
        {
          "name": "stderr",
          "output_type": "stream",
          "text": [
            "100%|██████████| 938/938 [00:25<00:00, 36.95it/s, accuracy=1, loss=0.00232, lr=0.000644]\n"
          ]
        },
        {
          "name": "stdout",
          "output_type": "stream",
          "text": [
            "Epoch 11, Val Loss: 0.09614609834204765, Val Accuracy: 0.9793988853503185\n"
          ]
        },
        {
          "name": "stderr",
          "output_type": "stream",
          "text": [
            "100%|██████████| 938/938 [00:26<00:00, 35.46it/s, accuracy=1, loss=0.00204, lr=0.000515]\n"
          ]
        },
        {
          "name": "stdout",
          "output_type": "stream",
          "text": [
            "Epoch 12, Val Loss: 0.10517567638082435, Val Accuracy: 0.9784036624203821\n"
          ]
        },
        {
          "name": "stderr",
          "output_type": "stream",
          "text": [
            "100%|██████████| 938/938 [00:25<00:00, 37.02it/s, accuracy=1, loss=0.000393, lr=0.000412]\n"
          ]
        },
        {
          "name": "stdout",
          "output_type": "stream",
          "text": [
            "Epoch 13, Val Loss: 0.10269620725625231, Val Accuracy: 0.9783041401273885\n"
          ]
        },
        {
          "name": "stderr",
          "output_type": "stream",
          "text": [
            "100%|██████████| 938/938 [00:26<00:00, 34.89it/s, accuracy=1, loss=0.000371, lr=0.00033]\n"
          ]
        },
        {
          "name": "stdout",
          "output_type": "stream",
          "text": [
            "Epoch 14, Val Loss: 0.10296424890053628, Val Accuracy: 0.9791998407643312\n"
          ]
        },
        {
          "name": "stderr",
          "output_type": "stream",
          "text": [
            "100%|██████████| 938/938 [00:26<00:00, 35.38it/s, accuracy=1, loss=0.000102, lr=0.000264]\n"
          ]
        },
        {
          "name": "stdout",
          "output_type": "stream",
          "text": [
            "Epoch 15, Val Loss: 0.10652719722589206, Val Accuracy: 0.9789012738853503\n"
          ]
        },
        {
          "name": "stderr",
          "output_type": "stream",
          "text": [
            "100%|██████████| 938/938 [00:26<00:00, 35.92it/s, accuracy=1, loss=9.2e-5, lr=0.000211]\n"
          ]
        },
        {
          "name": "stdout",
          "output_type": "stream",
          "text": [
            "Epoch 16, Val Loss: 0.10722115779623485, Val Accuracy: 0.9789012738853503\n"
          ]
        },
        {
          "name": "stderr",
          "output_type": "stream",
          "text": [
            "100%|██████████| 938/938 [00:28<00:00, 33.31it/s, accuracy=1, loss=2.48e-5, lr=0.000169]\n"
          ]
        },
        {
          "name": "stdout",
          "output_type": "stream",
          "text": [
            "Epoch 17, Val Loss: 0.10938100216907241, Val Accuracy: 0.9786027070063694\n"
          ]
        },
        {
          "name": "stderr",
          "output_type": "stream",
          "text": [
            "100%|██████████| 938/938 [00:26<00:00, 35.68it/s, accuracy=1, loss=2.41e-5, lr=0.000135]\n"
          ]
        },
        {
          "name": "stdout",
          "output_type": "stream",
          "text": [
            "Epoch 18, Val Loss: 0.11053288859107853, Val Accuracy: 0.9785031847133758\n"
          ]
        },
        {
          "name": "stderr",
          "output_type": "stream",
          "text": [
            "100%|██████████| 938/938 [00:27<00:00, 34.15it/s, accuracy=1, loss=0.000152, lr=0.000108]\n"
          ]
        },
        {
          "name": "stdout",
          "output_type": "stream",
          "text": [
            "Epoch 19, Val Loss: 0.1118568125013973, Val Accuracy: 0.9792993630573248\n"
          ]
        },
        {
          "name": "stderr",
          "output_type": "stream",
          "text": [
            "100%|██████████| 938/938 [00:25<00:00, 37.06it/s, accuracy=1, loss=9.91e-5, lr=8.65e-5]\n"
          ]
        },
        {
          "name": "stdout",
          "output_type": "stream",
          "text": [
            "Epoch 20, Val Loss: 0.11316083165142707, Val Accuracy: 0.9791003184713376\n"
          ]
        },
        {
          "name": "stderr",
          "output_type": "stream",
          "text": [
            "100%|██████████| 938/938 [00:25<00:00, 36.20it/s, accuracy=1, loss=0.000245, lr=6.92e-5]\n"
          ]
        },
        {
          "name": "stdout",
          "output_type": "stream",
          "text": [
            "Epoch 21, Val Loss: 0.114161855233057, Val Accuracy: 0.9786027070063694\n"
          ]
        },
        {
          "name": "stderr",
          "output_type": "stream",
          "text": [
            "100%|██████████| 938/938 [00:26<00:00, 35.62it/s, accuracy=1, loss=2.03e-5, lr=5.53e-5]\n"
          ]
        },
        {
          "name": "stdout",
          "output_type": "stream",
          "text": [
            "Epoch 22, Val Loss: 0.11560208777190191, Val Accuracy: 0.978702229299363\n"
          ]
        },
        {
          "name": "stderr",
          "output_type": "stream",
          "text": [
            "100%|██████████| 938/938 [00:25<00:00, 36.30it/s, accuracy=1, loss=0.000151, lr=4.43e-5]\n"
          ]
        },
        {
          "name": "stdout",
          "output_type": "stream",
          "text": [
            "Epoch 23, Val Loss: 0.11580017010281131, Val Accuracy: 0.9785031847133758\n"
          ]
        },
        {
          "name": "stderr",
          "output_type": "stream",
          "text": [
            "100%|██████████| 938/938 [00:26<00:00, 35.77it/s, accuracy=1, loss=0.00011, lr=3.54e-5]\n"
          ]
        },
        {
          "name": "stdout",
          "output_type": "stream",
          "text": [
            "Epoch 24, Val Loss: 0.11668421828656822, Val Accuracy: 0.9788017515923567\n"
          ]
        },
        {
          "name": "stderr",
          "output_type": "stream",
          "text": [
            "100%|██████████| 938/938 [00:25<00:00, 37.04it/s, accuracy=1, loss=6.65e-5, lr=2.83e-5]\n"
          ]
        },
        {
          "name": "stdout",
          "output_type": "stream",
          "text": [
            "Epoch 25, Val Loss: 0.11713188764524204, Val Accuracy: 0.9788017515923567\n"
          ]
        },
        {
          "name": "stderr",
          "output_type": "stream",
          "text": [
            "100%|██████████| 938/938 [00:25<00:00, 36.48it/s, accuracy=1, loss=2.07e-5, lr=2.27e-5]\n"
          ]
        },
        {
          "name": "stdout",
          "output_type": "stream",
          "text": [
            "Epoch 26, Val Loss: 0.11754940438158969, Val Accuracy: 0.978702229299363\n"
          ]
        },
        {
          "name": "stderr",
          "output_type": "stream",
          "text": [
            "100%|██████████| 938/938 [00:26<00:00, 35.83it/s, accuracy=1, loss=6.49e-5, lr=1.81e-5]\n"
          ]
        },
        {
          "name": "stdout",
          "output_type": "stream",
          "text": [
            "Epoch 27, Val Loss: 0.11815846132573603, Val Accuracy: 0.978702229299363\n"
          ]
        },
        {
          "name": "stderr",
          "output_type": "stream",
          "text": [
            "100%|██████████| 938/938 [00:25<00:00, 36.86it/s, accuracy=1, loss=2.93e-5, lr=1.45e-5]\n"
          ]
        },
        {
          "name": "stdout",
          "output_type": "stream",
          "text": [
            "Epoch 28, Val Loss: 0.11845217785477559, Val Accuracy: 0.978702229299363\n"
          ]
        },
        {
          "name": "stderr",
          "output_type": "stream",
          "text": [
            "100%|██████████| 938/938 [00:26<00:00, 36.07it/s, accuracy=1, loss=3.08e-6, lr=1.16e-5]\n"
          ]
        },
        {
          "name": "stdout",
          "output_type": "stream",
          "text": [
            "Epoch 29, Val Loss: 0.11862579183653978, Val Accuracy: 0.9786027070063694\n"
          ]
        },
        {
          "name": "stderr",
          "output_type": "stream",
          "text": [
            "100%|██████████| 938/938 [00:25<00:00, 36.25it/s, accuracy=1, loss=2.06e-5, lr=9.28e-6]\n"
          ]
        },
        {
          "name": "stdout",
          "output_type": "stream",
          "text": [
            "Epoch 30, Val Loss: 0.11880868819435882, Val Accuracy: 0.978702229299363\n",
            "LR: 0.006 Gamma: 0.8 Hdim: 128 Best Accuracy: 0.9793988853503185\n"
          ]
        },
        {
          "name": "stderr",
          "output_type": "stream",
          "text": [
            "100%|██████████| 938/938 [00:25<00:00, 37.03it/s, accuracy=0.938, loss=0.158, lr=0.006]\n"
          ]
        },
        {
          "name": "stdout",
          "output_type": "stream",
          "text": [
            "Epoch 1, Val Loss: 0.1812512128091874, Val Accuracy: 0.9477507961783439\n"
          ]
        },
        {
          "name": "stderr",
          "output_type": "stream",
          "text": [
            "100%|██████████| 938/938 [00:25<00:00, 36.57it/s, accuracy=0.969, loss=0.229, lr=0.0048]\n"
          ]
        },
        {
          "name": "stdout",
          "output_type": "stream",
          "text": [
            "Epoch 2, Val Loss: 0.14288643791001426, Val Accuracy: 0.9588972929936306\n"
          ]
        },
        {
          "name": "stderr",
          "output_type": "stream",
          "text": [
            "100%|██████████| 938/938 [00:25<00:00, 36.87it/s, accuracy=1, loss=0.00844, lr=0.00384]\n"
          ]
        },
        {
          "name": "stdout",
          "output_type": "stream",
          "text": [
            "Epoch 3, Val Loss: 0.1116595958872286, Val Accuracy: 0.9690485668789809\n"
          ]
        },
        {
          "name": "stderr",
          "output_type": "stream",
          "text": [
            "100%|██████████| 938/938 [00:25<00:00, 36.08it/s, accuracy=1, loss=0.00976, lr=0.00307]\n"
          ]
        },
        {
          "name": "stdout",
          "output_type": "stream",
          "text": [
            "Epoch 4, Val Loss: 0.10048426844831779, Val Accuracy: 0.9737261146496815\n"
          ]
        },
        {
          "name": "stderr",
          "output_type": "stream",
          "text": [
            "100%|██████████| 938/938 [00:25<00:00, 37.05it/s, accuracy=1, loss=0.00823, lr=0.00246]\n"
          ]
        },
        {
          "name": "stdout",
          "output_type": "stream",
          "text": [
            "Epoch 5, Val Loss: 0.10770653229613512, Val Accuracy: 0.9739251592356688\n"
          ]
        },
        {
          "name": "stderr",
          "output_type": "stream",
          "text": [
            "100%|██████████| 938/938 [00:26<00:00, 35.96it/s, accuracy=0.969, loss=0.0253, lr=0.00197]\n"
          ]
        },
        {
          "name": "stdout",
          "output_type": "stream",
          "text": [
            "Epoch 6, Val Loss: 0.09113383413616166, Val Accuracy: 0.9776074840764332\n"
          ]
        },
        {
          "name": "stderr",
          "output_type": "stream",
          "text": [
            "100%|██████████| 938/938 [00:24<00:00, 37.70it/s, accuracy=1, loss=0.0189, lr=0.00157]\n"
          ]
        },
        {
          "name": "stdout",
          "output_type": "stream",
          "text": [
            "Epoch 7, Val Loss: 0.0844611914237109, Val Accuracy: 0.9799960191082803\n"
          ]
        },
        {
          "name": "stderr",
          "output_type": "stream",
          "text": [
            "100%|██████████| 938/938 [00:26<00:00, 35.48it/s, accuracy=1, loss=0.000376, lr=0.00126]\n"
          ]
        },
        {
          "name": "stdout",
          "output_type": "stream",
          "text": [
            "Epoch 8, Val Loss: 0.09394022383680083, Val Accuracy: 0.9802945859872612\n"
          ]
        },
        {
          "name": "stderr",
          "output_type": "stream",
          "text": [
            "100%|██████████| 938/938 [00:25<00:00, 37.30it/s, accuracy=1, loss=0.00062, lr=0.00101]\n"
          ]
        },
        {
          "name": "stdout",
          "output_type": "stream",
          "text": [
            "Epoch 9, Val Loss: 0.09462540815350369, Val Accuracy: 0.978702229299363\n"
          ]
        },
        {
          "name": "stderr",
          "output_type": "stream",
          "text": [
            "100%|██████████| 938/938 [00:27<00:00, 34.04it/s, accuracy=1, loss=0.00196, lr=0.000805]\n"
          ]
        },
        {
          "name": "stdout",
          "output_type": "stream",
          "text": [
            "Epoch 10, Val Loss: 0.08825588135850229, Val Accuracy: 0.9807921974522293\n"
          ]
        },
        {
          "name": "stderr",
          "output_type": "stream",
          "text": [
            "100%|██████████| 938/938 [00:25<00:00, 36.73it/s, accuracy=1, loss=0.000103, lr=0.000644]\n"
          ]
        },
        {
          "name": "stdout",
          "output_type": "stream",
          "text": [
            "Epoch 11, Val Loss: 0.08878620903110071, Val Accuracy: 0.9818869426751592\n"
          ]
        },
        {
          "name": "stderr",
          "output_type": "stream",
          "text": [
            "100%|██████████| 938/938 [00:27<00:00, 34.50it/s, accuracy=1, loss=0.00302, lr=0.000515]\n"
          ]
        },
        {
          "name": "stdout",
          "output_type": "stream",
          "text": [
            "Epoch 12, Val Loss: 0.09035647772579569, Val Accuracy: 0.9818869426751592\n"
          ]
        },
        {
          "name": "stderr",
          "output_type": "stream",
          "text": [
            "100%|██████████| 938/938 [00:27<00:00, 33.66it/s, accuracy=1, loss=0.0004, lr=0.000412]\n"
          ]
        },
        {
          "name": "stdout",
          "output_type": "stream",
          "text": [
            "Epoch 13, Val Loss: 0.09206562028680816, Val Accuracy: 0.9819864649681529\n"
          ]
        },
        {
          "name": "stderr",
          "output_type": "stream",
          "text": [
            "100%|██████████| 938/938 [00:26<00:00, 35.47it/s, accuracy=1, loss=0.000348, lr=0.00033]\n"
          ]
        },
        {
          "name": "stdout",
          "output_type": "stream",
          "text": [
            "Epoch 14, Val Loss: 0.09354344722887661, Val Accuracy: 0.9811902866242038\n"
          ]
        },
        {
          "name": "stderr",
          "output_type": "stream",
          "text": [
            "100%|██████████| 938/938 [00:26<00:00, 35.00it/s, accuracy=1, loss=0.000784, lr=0.000264]\n"
          ]
        },
        {
          "name": "stdout",
          "output_type": "stream",
          "text": [
            "Epoch 15, Val Loss: 0.09545266555579647, Val Accuracy: 0.9810907643312102\n"
          ]
        },
        {
          "name": "stderr",
          "output_type": "stream",
          "text": [
            "100%|██████████| 938/938 [00:25<00:00, 36.55it/s, accuracy=1, loss=5.85e-5, lr=0.000211]\n"
          ]
        },
        {
          "name": "stdout",
          "output_type": "stream",
          "text": [
            "Epoch 16, Val Loss: 0.09516125822350022, Val Accuracy: 0.9819864649681529\n"
          ]
        },
        {
          "name": "stderr",
          "output_type": "stream",
          "text": [
            "100%|██████████| 938/938 [00:26<00:00, 35.76it/s, accuracy=1, loss=0.000135, lr=0.000169]\n"
          ]
        },
        {
          "name": "stdout",
          "output_type": "stream",
          "text": [
            "Epoch 17, Val Loss: 0.09743739735042513, Val Accuracy: 0.9812898089171974\n"
          ]
        },
        {
          "name": "stderr",
          "output_type": "stream",
          "text": [
            "100%|██████████| 938/938 [00:25<00:00, 36.59it/s, accuracy=1, loss=1.56e-6, lr=0.000135]\n"
          ]
        },
        {
          "name": "stdout",
          "output_type": "stream",
          "text": [
            "Epoch 18, Val Loss: 0.09865899525780292, Val Accuracy: 0.9814888535031847\n"
          ]
        },
        {
          "name": "stderr",
          "output_type": "stream",
          "text": [
            "100%|██████████| 938/938 [00:26<00:00, 36.04it/s, accuracy=1, loss=0.000279, lr=0.000108]\n"
          ]
        },
        {
          "name": "stdout",
          "output_type": "stream",
          "text": [
            "Epoch 19, Val Loss: 0.09973885687662966, Val Accuracy: 0.981687898089172\n"
          ]
        },
        {
          "name": "stderr",
          "output_type": "stream",
          "text": [
            "100%|██████████| 938/938 [00:24<00:00, 37.55it/s, accuracy=1, loss=0.000153, lr=8.65e-5]\n"
          ]
        },
        {
          "name": "stdout",
          "output_type": "stream",
          "text": [
            "Epoch 20, Val Loss: 0.10101728564452357, Val Accuracy: 0.9814888535031847\n"
          ]
        },
        {
          "name": "stderr",
          "output_type": "stream",
          "text": [
            "100%|██████████| 938/938 [00:26<00:00, 35.02it/s, accuracy=1, loss=5.73e-5, lr=6.92e-5]\n"
          ]
        },
        {
          "name": "stdout",
          "output_type": "stream",
          "text": [
            "Epoch 21, Val Loss: 0.10114413949141199, Val Accuracy: 0.9818869426751592\n"
          ]
        },
        {
          "name": "stderr",
          "output_type": "stream",
          "text": [
            "100%|██████████| 938/938 [00:24<00:00, 37.69it/s, accuracy=1, loss=2.79e-5, lr=5.53e-5]\n"
          ]
        },
        {
          "name": "stdout",
          "output_type": "stream",
          "text": [
            "Epoch 22, Val Loss: 0.10232854598562045, Val Accuracy: 0.9815883757961783\n"
          ]
        },
        {
          "name": "stderr",
          "output_type": "stream",
          "text": [
            "100%|██████████| 938/938 [00:26<00:00, 35.64it/s, accuracy=1, loss=5.32e-5, lr=4.43e-5]\n"
          ]
        },
        {
          "name": "stdout",
          "output_type": "stream",
          "text": [
            "Epoch 23, Val Loss: 0.10292537926820505, Val Accuracy: 0.9817874203821656\n"
          ]
        },
        {
          "name": "stderr",
          "output_type": "stream",
          "text": [
            "100%|██████████| 938/938 [00:25<00:00, 36.31it/s, accuracy=1, loss=2.4e-5, lr=3.54e-5]\n"
          ]
        },
        {
          "name": "stdout",
          "output_type": "stream",
          "text": [
            "Epoch 24, Val Loss: 0.10368881678967867, Val Accuracy: 0.9818869426751592\n"
          ]
        },
        {
          "name": "stderr",
          "output_type": "stream",
          "text": [
            "100%|██████████| 938/938 [00:25<00:00, 37.41it/s, accuracy=1, loss=9.08e-6, lr=2.83e-5]\n"
          ]
        },
        {
          "name": "stdout",
          "output_type": "stream",
          "text": [
            "Epoch 25, Val Loss: 0.10376973903705095, Val Accuracy: 0.9819864649681529\n"
          ]
        },
        {
          "name": "stderr",
          "output_type": "stream",
          "text": [
            "100%|██████████| 938/938 [00:26<00:00, 35.46it/s, accuracy=1, loss=4.08e-5, lr=2.27e-5]\n"
          ]
        },
        {
          "name": "stdout",
          "output_type": "stream",
          "text": [
            "Epoch 26, Val Loss: 0.10447350508645795, Val Accuracy: 0.9818869426751592\n"
          ]
        },
        {
          "name": "stderr",
          "output_type": "stream",
          "text": [
            "100%|██████████| 938/938 [00:25<00:00, 36.47it/s, accuracy=1, loss=3.15e-5, lr=1.81e-5]\n"
          ]
        },
        {
          "name": "stdout",
          "output_type": "stream",
          "text": [
            "Epoch 27, Val Loss: 0.1048432463885873, Val Accuracy: 0.9819864649681529\n"
          ]
        },
        {
          "name": "stderr",
          "output_type": "stream",
          "text": [
            "100%|██████████| 938/938 [00:25<00:00, 36.36it/s, accuracy=1, loss=1.1e-5, lr=1.45e-5]\n"
          ]
        },
        {
          "name": "stdout",
          "output_type": "stream",
          "text": [
            "Epoch 28, Val Loss: 0.10513766834644626, Val Accuracy: 0.9821855095541401\n"
          ]
        },
        {
          "name": "stderr",
          "output_type": "stream",
          "text": [
            "100%|██████████| 938/938 [00:26<00:00, 35.67it/s, accuracy=1, loss=5.67e-5, lr=1.16e-5]\n"
          ]
        },
        {
          "name": "stdout",
          "output_type": "stream",
          "text": [
            "Epoch 29, Val Loss: 0.10524703463736126, Val Accuracy: 0.9820859872611465\n"
          ]
        },
        {
          "name": "stderr",
          "output_type": "stream",
          "text": [
            "100%|██████████| 938/938 [00:26<00:00, 35.23it/s, accuracy=1, loss=1.99e-5, lr=9.28e-6]\n"
          ]
        },
        {
          "name": "stdout",
          "output_type": "stream",
          "text": [
            "Epoch 30, Val Loss: 0.10546225787745164, Val Accuracy: 0.9821855095541401\n",
            "LR: 0.006 Gamma: 0.8 Hdim: 256 Best Accuracy: 0.9821855095541401\n"
          ]
        },
        {
          "name": "stderr",
          "output_type": "stream",
          "text": [
            "100%|██████████| 938/938 [00:27<00:00, 34.06it/s, accuracy=0.844, loss=0.568, lr=0.006]\n"
          ]
        },
        {
          "name": "stdout",
          "output_type": "stream",
          "text": [
            "Epoch 1, Val Loss: 0.1803708543532356, Val Accuracy: 0.9454617834394905\n"
          ]
        },
        {
          "name": "stderr",
          "output_type": "stream",
          "text": [
            "100%|██████████| 938/938 [00:26<00:00, 35.14it/s, accuracy=0.938, loss=0.128, lr=0.0054]\n"
          ]
        },
        {
          "name": "stdout",
          "output_type": "stream",
          "text": [
            "Epoch 2, Val Loss: 0.1299004012990927, Val Accuracy: 0.9628781847133758\n"
          ]
        },
        {
          "name": "stderr",
          "output_type": "stream",
          "text": [
            "100%|██████████| 938/938 [00:26<00:00, 35.05it/s, accuracy=0.906, loss=0.178, lr=0.00486]\n"
          ]
        },
        {
          "name": "stdout",
          "output_type": "stream",
          "text": [
            "Epoch 3, Val Loss: 0.12863831779775714, Val Accuracy: 0.9647691082802548\n"
          ]
        },
        {
          "name": "stderr",
          "output_type": "stream",
          "text": [
            "100%|██████████| 938/938 [00:25<00:00, 36.50it/s, accuracy=1, loss=0.024, lr=0.00437]\n"
          ]
        },
        {
          "name": "stdout",
          "output_type": "stream",
          "text": [
            "Epoch 4, Val Loss: 0.13019140830740278, Val Accuracy: 0.9656648089171974\n"
          ]
        },
        {
          "name": "stderr",
          "output_type": "stream",
          "text": [
            "100%|██████████| 938/938 [00:26<00:00, 35.21it/s, accuracy=1, loss=0.0202, lr=0.00394]\n"
          ]
        },
        {
          "name": "stdout",
          "output_type": "stream",
          "text": [
            "Epoch 5, Val Loss: 0.1315052824833239, Val Accuracy: 0.9651671974522293\n"
          ]
        },
        {
          "name": "stderr",
          "output_type": "stream",
          "text": [
            "100%|██████████| 938/938 [00:25<00:00, 36.22it/s, accuracy=1, loss=0.00543, lr=0.00354]\n"
          ]
        },
        {
          "name": "stdout",
          "output_type": "stream",
          "text": [
            "Epoch 6, Val Loss: 0.15769934107602876, Val Accuracy: 0.9621815286624203\n"
          ]
        },
        {
          "name": "stderr",
          "output_type": "stream",
          "text": [
            "100%|██████████| 938/938 [00:26<00:00, 35.29it/s, accuracy=1, loss=0.0116, lr=0.00319]\n"
          ]
        },
        {
          "name": "stdout",
          "output_type": "stream",
          "text": [
            "Epoch 7, Val Loss: 0.12025112783681649, Val Accuracy: 0.9710390127388535\n"
          ]
        },
        {
          "name": "stderr",
          "output_type": "stream",
          "text": [
            "100%|██████████| 938/938 [00:25<00:00, 37.36it/s, accuracy=0.969, loss=0.0385, lr=0.00287]\n"
          ]
        },
        {
          "name": "stdout",
          "output_type": "stream",
          "text": [
            "Epoch 8, Val Loss: 0.14920140765431947, Val Accuracy: 0.9673566878980892\n"
          ]
        },
        {
          "name": "stderr",
          "output_type": "stream",
          "text": [
            "100%|██████████| 938/938 [00:26<00:00, 35.22it/s, accuracy=0.969, loss=0.0396, lr=0.00258]\n"
          ]
        },
        {
          "name": "stdout",
          "output_type": "stream",
          "text": [
            "Epoch 9, Val Loss: 0.12601641689827814, Val Accuracy: 0.9717356687898089\n"
          ]
        },
        {
          "name": "stderr",
          "output_type": "stream",
          "text": [
            "100%|██████████| 938/938 [00:25<00:00, 37.21it/s, accuracy=1, loss=0.00419, lr=0.00232]\n"
          ]
        },
        {
          "name": "stdout",
          "output_type": "stream",
          "text": [
            "Epoch 10, Val Loss: 0.12308399095198279, Val Accuracy: 0.9741242038216561\n"
          ]
        },
        {
          "name": "stderr",
          "output_type": "stream",
          "text": [
            "100%|██████████| 938/938 [00:26<00:00, 35.74it/s, accuracy=1, loss=0.00192, lr=0.00209]\n"
          ]
        },
        {
          "name": "stdout",
          "output_type": "stream",
          "text": [
            "Epoch 11, Val Loss: 0.12318366172590399, Val Accuracy: 0.975218949044586\n"
          ]
        },
        {
          "name": "stderr",
          "output_type": "stream",
          "text": [
            "100%|██████████| 938/938 [00:25<00:00, 36.53it/s, accuracy=1, loss=1.48e-5, lr=0.00188]\n"
          ]
        },
        {
          "name": "stdout",
          "output_type": "stream",
          "text": [
            "Epoch 12, Val Loss: 0.12285905738044249, Val Accuracy: 0.9750199044585988\n"
          ]
        },
        {
          "name": "stderr",
          "output_type": "stream",
          "text": [
            "100%|██████████| 938/938 [00:24<00:00, 37.73it/s, accuracy=1, loss=0.000359, lr=0.00169]\n"
          ]
        },
        {
          "name": "stdout",
          "output_type": "stream",
          "text": [
            "Epoch 13, Val Loss: 0.1247918790719662, Val Accuracy: 0.9758160828025477\n"
          ]
        },
        {
          "name": "stderr",
          "output_type": "stream",
          "text": [
            "100%|██████████| 938/938 [00:24<00:00, 38.04it/s, accuracy=1, loss=0.017, lr=0.00153]\n"
          ]
        },
        {
          "name": "stdout",
          "output_type": "stream",
          "text": [
            "Epoch 14, Val Loss: 0.13579752918018118, Val Accuracy: 0.9751194267515924\n"
          ]
        },
        {
          "name": "stderr",
          "output_type": "stream",
          "text": [
            "100%|██████████| 938/938 [00:25<00:00, 37.36it/s, accuracy=1, loss=0.000104, lr=0.00137]\n"
          ]
        },
        {
          "name": "stdout",
          "output_type": "stream",
          "text": [
            "Epoch 15, Val Loss: 0.12195172753053884, Val Accuracy: 0.9770103503184714\n"
          ]
        },
        {
          "name": "stderr",
          "output_type": "stream",
          "text": [
            "100%|██████████| 938/938 [00:24<00:00, 38.37it/s, accuracy=1, loss=0.00142, lr=0.00124]\n"
          ]
        },
        {
          "name": "stdout",
          "output_type": "stream",
          "text": [
            "Epoch 16, Val Loss: 0.11944718274568311, Val Accuracy: 0.9778065286624203\n"
          ]
        },
        {
          "name": "stderr",
          "output_type": "stream",
          "text": [
            "100%|██████████| 938/938 [00:22<00:00, 41.54it/s, accuracy=1, loss=0.00201, lr=0.00111]\n"
          ]
        },
        {
          "name": "stdout",
          "output_type": "stream",
          "text": [
            "Epoch 17, Val Loss: 0.1692686796930156, Val Accuracy: 0.9682523885350318\n"
          ]
        },
        {
          "name": "stderr",
          "output_type": "stream",
          "text": [
            "100%|██████████| 938/938 [00:23<00:00, 39.91it/s, accuracy=1, loss=0.000706, lr=0.001]\n"
          ]
        },
        {
          "name": "stdout",
          "output_type": "stream",
          "text": [
            "Epoch 18, Val Loss: 0.11941510257211349, Val Accuracy: 0.977906050955414\n"
          ]
        },
        {
          "name": "stderr",
          "output_type": "stream",
          "text": [
            "100%|██████████| 938/938 [00:22<00:00, 41.80it/s, accuracy=1, loss=7.77e-5, lr=0.000901]\n"
          ]
        },
        {
          "name": "stdout",
          "output_type": "stream",
          "text": [
            "Epoch 19, Val Loss: 0.12014469665939215, Val Accuracy: 0.9780055732484076\n"
          ]
        },
        {
          "name": "stderr",
          "output_type": "stream",
          "text": [
            "100%|██████████| 938/938 [00:24<00:00, 37.91it/s, accuracy=1, loss=0.000149, lr=0.000811]\n"
          ]
        },
        {
          "name": "stdout",
          "output_type": "stream",
          "text": [
            "Epoch 20, Val Loss: 0.1191489197362614, Val Accuracy: 0.9778065286624203\n"
          ]
        },
        {
          "name": "stderr",
          "output_type": "stream",
          "text": [
            "100%|██████████| 938/938 [00:24<00:00, 37.94it/s, accuracy=1, loss=0.000158, lr=0.000729]\n"
          ]
        },
        {
          "name": "stdout",
          "output_type": "stream",
          "text": [
            "Epoch 21, Val Loss: 0.12135970431724429, Val Accuracy: 0.9789012738853503\n"
          ]
        },
        {
          "name": "stderr",
          "output_type": "stream",
          "text": [
            "100%|██████████| 938/938 [00:25<00:00, 37.05it/s, accuracy=1, loss=7.2e-5, lr=0.000657]\n"
          ]
        },
        {
          "name": "stdout",
          "output_type": "stream",
          "text": [
            "Epoch 22, Val Loss: 0.12219593822094901, Val Accuracy: 0.9784036624203821\n"
          ]
        },
        {
          "name": "stderr",
          "output_type": "stream",
          "text": [
            "100%|██████████| 938/938 [00:24<00:00, 37.66it/s, accuracy=1, loss=3.4e-5, lr=0.000591]\n"
          ]
        },
        {
          "name": "stdout",
          "output_type": "stream",
          "text": [
            "Epoch 23, Val Loss: 0.12210373981336298, Val Accuracy: 0.9784036624203821\n"
          ]
        },
        {
          "name": "stderr",
          "output_type": "stream",
          "text": [
            "100%|██████████| 938/938 [00:23<00:00, 39.34it/s, accuracy=1, loss=5.16e-5, lr=0.000532]\n"
          ]
        },
        {
          "name": "stdout",
          "output_type": "stream",
          "text": [
            "Epoch 24, Val Loss: 0.12476051768476121, Val Accuracy: 0.9784036624203821\n"
          ]
        },
        {
          "name": "stderr",
          "output_type": "stream",
          "text": [
            "100%|██████████| 938/938 [00:22<00:00, 40.86it/s, accuracy=1, loss=0.000194, lr=0.000479]\n"
          ]
        },
        {
          "name": "stdout",
          "output_type": "stream",
          "text": [
            "Epoch 25, Val Loss: 0.12849313136258533, Val Accuracy: 0.9782046178343949\n"
          ]
        },
        {
          "name": "stderr",
          "output_type": "stream",
          "text": [
            "100%|██████████| 938/938 [00:23<00:00, 39.66it/s, accuracy=1, loss=7e-6, lr=0.000431]\n"
          ]
        },
        {
          "name": "stdout",
          "output_type": "stream",
          "text": [
            "Epoch 26, Val Loss: 0.13072073430843123, Val Accuracy: 0.9780055732484076\n"
          ]
        },
        {
          "name": "stderr",
          "output_type": "stream",
          "text": [
            "100%|██████████| 938/938 [00:22<00:00, 41.38it/s, accuracy=1, loss=1.01e-5, lr=0.000388]\n"
          ]
        },
        {
          "name": "stdout",
          "output_type": "stream",
          "text": [
            "Epoch 27, Val Loss: 0.13302267024532582, Val Accuracy: 0.9783041401273885\n"
          ]
        },
        {
          "name": "stderr",
          "output_type": "stream",
          "text": [
            "100%|██████████| 938/938 [00:23<00:00, 40.10it/s, accuracy=1, loss=6.26e-5, lr=0.000349]\n"
          ]
        },
        {
          "name": "stdout",
          "output_type": "stream",
          "text": [
            "Epoch 28, Val Loss: 0.13521591085528992, Val Accuracy: 0.9777070063694268\n"
          ]
        },
        {
          "name": "stderr",
          "output_type": "stream",
          "text": [
            "100%|██████████| 938/938 [00:22<00:00, 40.94it/s, accuracy=1, loss=8.32e-6, lr=0.000314]\n"
          ]
        },
        {
          "name": "stdout",
          "output_type": "stream",
          "text": [
            "Epoch 29, Val Loss: 0.13830775869323145, Val Accuracy: 0.9784036624203821\n"
          ]
        },
        {
          "name": "stderr",
          "output_type": "stream",
          "text": [
            "100%|██████████| 938/938 [00:22<00:00, 41.25it/s, accuracy=1, loss=6.87e-6, lr=0.000283]\n"
          ]
        },
        {
          "name": "stdout",
          "output_type": "stream",
          "text": [
            "Epoch 30, Val Loss: 0.14067342598702393, Val Accuracy: 0.977906050955414\n",
            "LR: 0.006 Gamma: 0.9 Hdim: 64 Best Accuracy: 0.9789012738853503\n"
          ]
        },
        {
          "name": "stderr",
          "output_type": "stream",
          "text": [
            "100%|██████████| 938/938 [00:25<00:00, 37.40it/s, accuracy=0.875, loss=0.36, lr=0.006]\n"
          ]
        },
        {
          "name": "stdout",
          "output_type": "stream",
          "text": [
            "Epoch 1, Val Loss: 0.16971154099146415, Val Accuracy: 0.9494426751592356\n"
          ]
        },
        {
          "name": "stderr",
          "output_type": "stream",
          "text": [
            "100%|██████████| 938/938 [00:22<00:00, 41.00it/s, accuracy=1, loss=0.0494, lr=0.0054]\n"
          ]
        },
        {
          "name": "stdout",
          "output_type": "stream",
          "text": [
            "Epoch 2, Val Loss: 0.132720557031456, Val Accuracy: 0.9600915605095541\n"
          ]
        },
        {
          "name": "stderr",
          "output_type": "stream",
          "text": [
            "100%|██████████| 938/938 [00:23<00:00, 39.56it/s, accuracy=0.969, loss=0.0843, lr=0.00486]\n"
          ]
        },
        {
          "name": "stdout",
          "output_type": "stream",
          "text": [
            "Epoch 3, Val Loss: 0.12077529373151254, Val Accuracy: 0.9659633757961783\n"
          ]
        },
        {
          "name": "stderr",
          "output_type": "stream",
          "text": [
            "100%|██████████| 938/938 [00:23<00:00, 40.02it/s, accuracy=0.969, loss=0.128, lr=0.00437]\n"
          ]
        },
        {
          "name": "stdout",
          "output_type": "stream",
          "text": [
            "Epoch 4, Val Loss: 0.17935402952853863, Val Accuracy: 0.9547173566878981\n"
          ]
        },
        {
          "name": "stderr",
          "output_type": "stream",
          "text": [
            "100%|██████████| 938/938 [00:23<00:00, 40.24it/s, accuracy=0.969, loss=0.0819, lr=0.00394]\n"
          ]
        },
        {
          "name": "stdout",
          "output_type": "stream",
          "text": [
            "Epoch 5, Val Loss: 0.13394238855385748, Val Accuracy: 0.9675557324840764\n"
          ]
        },
        {
          "name": "stderr",
          "output_type": "stream",
          "text": [
            "100%|██████████| 938/938 [00:22<00:00, 41.22it/s, accuracy=1, loss=0.000631, lr=0.00354]\n"
          ]
        },
        {
          "name": "stdout",
          "output_type": "stream",
          "text": [
            "Epoch 6, Val Loss: 0.11387150214858402, Val Accuracy: 0.9711385350318471\n"
          ]
        },
        {
          "name": "stderr",
          "output_type": "stream",
          "text": [
            "100%|██████████| 938/938 [00:24<00:00, 38.61it/s, accuracy=1, loss=0.00417, lr=0.00319]\n"
          ]
        },
        {
          "name": "stdout",
          "output_type": "stream",
          "text": [
            "Epoch 7, Val Loss: 0.12763856554649383, Val Accuracy: 0.9715366242038217\n"
          ]
        },
        {
          "name": "stderr",
          "output_type": "stream",
          "text": [
            "100%|██████████| 938/938 [00:23<00:00, 39.95it/s, accuracy=0.969, loss=0.086, lr=0.00287]\n"
          ]
        },
        {
          "name": "stdout",
          "output_type": "stream",
          "text": [
            "Epoch 8, Val Loss: 0.1202708609535777, Val Accuracy: 0.9724323248407644\n"
          ]
        },
        {
          "name": "stderr",
          "output_type": "stream",
          "text": [
            "100%|██████████| 938/938 [00:24<00:00, 38.89it/s, accuracy=1, loss=0.00765, lr=0.00258]\n"
          ]
        },
        {
          "name": "stdout",
          "output_type": "stream",
          "text": [
            "Epoch 9, Val Loss: 0.12966749865464194, Val Accuracy: 0.9705414012738853\n"
          ]
        },
        {
          "name": "stderr",
          "output_type": "stream",
          "text": [
            "100%|██████████| 938/938 [00:22<00:00, 41.58it/s, accuracy=1, loss=0.00284, lr=0.00232]\n"
          ]
        },
        {
          "name": "stdout",
          "output_type": "stream",
          "text": [
            "Epoch 10, Val Loss: 0.1181526834968982, Val Accuracy: 0.975218949044586\n"
          ]
        },
        {
          "name": "stderr",
          "output_type": "stream",
          "text": [
            "100%|██████████| 938/938 [00:23<00:00, 39.99it/s, accuracy=1, loss=0.00619, lr=0.00209]\n"
          ]
        },
        {
          "name": "stdout",
          "output_type": "stream",
          "text": [
            "Epoch 11, Val Loss: 0.11874557189342132, Val Accuracy: 0.9772093949044586\n"
          ]
        },
        {
          "name": "stderr",
          "output_type": "stream",
          "text": [
            "100%|██████████| 938/938 [00:23<00:00, 40.18it/s, accuracy=1, loss=0.00241, lr=0.00188]\n"
          ]
        },
        {
          "name": "stdout",
          "output_type": "stream",
          "text": [
            "Epoch 12, Val Loss: 0.125849330270412, Val Accuracy: 0.9757165605095541\n"
          ]
        },
        {
          "name": "stderr",
          "output_type": "stream",
          "text": [
            "100%|██████████| 938/938 [00:23<00:00, 39.79it/s, accuracy=1, loss=0.00523, lr=0.00169]\n"
          ]
        },
        {
          "name": "stdout",
          "output_type": "stream",
          "text": [
            "Epoch 13, Val Loss: 0.12198676245954874, Val Accuracy: 0.9772093949044586\n"
          ]
        },
        {
          "name": "stderr",
          "output_type": "stream",
          "text": [
            "100%|██████████| 938/938 [00:22<00:00, 41.51it/s, accuracy=1, loss=0.0215, lr=0.00153]\n"
          ]
        },
        {
          "name": "stdout",
          "output_type": "stream",
          "text": [
            "Epoch 14, Val Loss: 0.12979713330835427, Val Accuracy: 0.9765127388535032\n"
          ]
        },
        {
          "name": "stderr",
          "output_type": "stream",
          "text": [
            "100%|██████████| 938/938 [00:24<00:00, 39.00it/s, accuracy=1, loss=0.000201, lr=0.00137]\n"
          ]
        },
        {
          "name": "stdout",
          "output_type": "stream",
          "text": [
            "Epoch 15, Val Loss: 0.1124771143439052, Val Accuracy: 0.9798964968152867\n"
          ]
        },
        {
          "name": "stderr",
          "output_type": "stream",
          "text": [
            "100%|██████████| 938/938 [00:22<00:00, 41.37it/s, accuracy=1, loss=5.31e-5, lr=0.00124]\n"
          ]
        },
        {
          "name": "stdout",
          "output_type": "stream",
          "text": [
            "Epoch 16, Val Loss: 0.11223857788984094, Val Accuracy: 0.9796974522292994\n"
          ]
        },
        {
          "name": "stderr",
          "output_type": "stream",
          "text": [
            "100%|██████████| 938/938 [00:23<00:00, 39.34it/s, accuracy=1, loss=3.19e-5, lr=0.00111]\n"
          ]
        },
        {
          "name": "stdout",
          "output_type": "stream",
          "text": [
            "Epoch 17, Val Loss: 0.11286521567417225, Val Accuracy: 0.9804936305732485\n"
          ]
        },
        {
          "name": "stderr",
          "output_type": "stream",
          "text": [
            "100%|██████████| 938/938 [00:23<00:00, 39.21it/s, accuracy=1, loss=0.000135, lr=0.001]\n"
          ]
        },
        {
          "name": "stdout",
          "output_type": "stream",
          "text": [
            "Epoch 18, Val Loss: 0.11427911686530587, Val Accuracy: 0.9795979299363057\n"
          ]
        },
        {
          "name": "stderr",
          "output_type": "stream",
          "text": [
            "100%|██████████| 938/938 [00:24<00:00, 38.43it/s, accuracy=1, loss=0.000125, lr=0.000901]\n"
          ]
        },
        {
          "name": "stdout",
          "output_type": "stream",
          "text": [
            "Epoch 19, Val Loss: 0.11494473857692646, Val Accuracy: 0.979796974522293\n"
          ]
        },
        {
          "name": "stderr",
          "output_type": "stream",
          "text": [
            "100%|██████████| 938/938 [00:23<00:00, 40.54it/s, accuracy=1, loss=3.8e-5, lr=0.000811]\n"
          ]
        },
        {
          "name": "stdout",
          "output_type": "stream",
          "text": [
            "Epoch 20, Val Loss: 0.12179150525842279, Val Accuracy: 0.9783041401273885\n"
          ]
        },
        {
          "name": "stderr",
          "output_type": "stream",
          "text": [
            "100%|██████████| 938/938 [00:24<00:00, 39.01it/s, accuracy=1, loss=0.000352, lr=0.000729]\n"
          ]
        },
        {
          "name": "stdout",
          "output_type": "stream",
          "text": [
            "Epoch 21, Val Loss: 0.12482422942973383, Val Accuracy: 0.9784036624203821\n"
          ]
        },
        {
          "name": "stderr",
          "output_type": "stream",
          "text": [
            "100%|██████████| 938/938 [00:23<00:00, 39.44it/s, accuracy=1, loss=7.47e-6, lr=0.000657]\n"
          ]
        },
        {
          "name": "stdout",
          "output_type": "stream",
          "text": [
            "Epoch 22, Val Loss: 0.12160853076934154, Val Accuracy: 0.9795979299363057\n"
          ]
        },
        {
          "name": "stderr",
          "output_type": "stream",
          "text": [
            "100%|██████████| 938/938 [00:24<00:00, 38.69it/s, accuracy=1, loss=0.000125, lr=0.000591]\n"
          ]
        },
        {
          "name": "stdout",
          "output_type": "stream",
          "text": [
            "Epoch 23, Val Loss: 0.12202461855650419, Val Accuracy: 0.9795979299363057\n"
          ]
        },
        {
          "name": "stderr",
          "output_type": "stream",
          "text": [
            "100%|██████████| 938/938 [00:23<00:00, 40.54it/s, accuracy=1, loss=5.04e-5, lr=0.000532]\n"
          ]
        },
        {
          "name": "stdout",
          "output_type": "stream",
          "text": [
            "Epoch 24, Val Loss: 0.1270316161123, Val Accuracy: 0.9794984076433121\n"
          ]
        },
        {
          "name": "stderr",
          "output_type": "stream",
          "text": [
            "100%|██████████| 938/938 [00:24<00:00, 38.56it/s, accuracy=1, loss=4.49e-5, lr=0.000479]\n"
          ]
        },
        {
          "name": "stdout",
          "output_type": "stream",
          "text": [
            "Epoch 25, Val Loss: 0.1291244538653276, Val Accuracy: 0.9796974522292994\n"
          ]
        },
        {
          "name": "stderr",
          "output_type": "stream",
          "text": [
            "100%|██████████| 938/938 [00:23<00:00, 40.63it/s, accuracy=1, loss=2.76e-6, lr=0.000431]\n"
          ]
        },
        {
          "name": "stdout",
          "output_type": "stream",
          "text": [
            "Epoch 26, Val Loss: 0.1293691714667347, Val Accuracy: 0.9801950636942676\n"
          ]
        },
        {
          "name": "stderr",
          "output_type": "stream",
          "text": [
            "100%|██████████| 938/938 [00:24<00:00, 38.94it/s, accuracy=1, loss=2.47e-5, lr=0.000388]\n"
          ]
        },
        {
          "name": "stdout",
          "output_type": "stream",
          "text": [
            "Epoch 27, Val Loss: 0.13433041178435387, Val Accuracy: 0.9796974522292994\n"
          ]
        },
        {
          "name": "stderr",
          "output_type": "stream",
          "text": [
            "100%|██████████| 938/938 [00:24<00:00, 38.91it/s, accuracy=1, loss=3.4e-5, lr=0.000349]\n"
          ]
        },
        {
          "name": "stdout",
          "output_type": "stream",
          "text": [
            "Epoch 28, Val Loss: 0.13607880542288273, Val Accuracy: 0.9803941082802548\n"
          ]
        },
        {
          "name": "stderr",
          "output_type": "stream",
          "text": [
            "100%|██████████| 938/938 [00:24<00:00, 37.94it/s, accuracy=1, loss=1.34e-7, lr=0.000314]\n"
          ]
        },
        {
          "name": "stdout",
          "output_type": "stream",
          "text": [
            "Epoch 29, Val Loss: 0.1393374150467671, Val Accuracy: 0.9800955414012739\n"
          ]
        },
        {
          "name": "stderr",
          "output_type": "stream",
          "text": [
            "100%|██████████| 938/938 [00:23<00:00, 40.28it/s, accuracy=1, loss=4.74e-6, lr=0.000283]\n"
          ]
        },
        {
          "name": "stdout",
          "output_type": "stream",
          "text": [
            "Epoch 30, Val Loss: 0.14183552086314652, Val Accuracy: 0.9800955414012739\n",
            "LR: 0.006 Gamma: 0.9 Hdim: 128 Best Accuracy: 0.9804936305732485\n"
          ]
        },
        {
          "name": "stderr",
          "output_type": "stream",
          "text": [
            "100%|██████████| 938/938 [00:23<00:00, 39.68it/s, accuracy=0.969, loss=0.0434, lr=0.006]\n"
          ]
        },
        {
          "name": "stdout",
          "output_type": "stream",
          "text": [
            "Epoch 1, Val Loss: 0.1428437933539319, Val Accuracy: 0.957703025477707\n"
          ]
        },
        {
          "name": "stderr",
          "output_type": "stream",
          "text": [
            "100%|██████████| 938/938 [00:23<00:00, 39.38it/s, accuracy=0.969, loss=0.204, lr=0.0054]\n"
          ]
        },
        {
          "name": "stdout",
          "output_type": "stream",
          "text": [
            "Epoch 2, Val Loss: 0.13344938360684058, Val Accuracy: 0.9602906050955414\n"
          ]
        },
        {
          "name": "stderr",
          "output_type": "stream",
          "text": [
            "100%|██████████| 938/938 [00:24<00:00, 37.67it/s, accuracy=1, loss=0.0178, lr=0.00486]\n"
          ]
        },
        {
          "name": "stdout",
          "output_type": "stream",
          "text": [
            "Epoch 3, Val Loss: 0.12956147286673908, Val Accuracy: 0.9654657643312102\n"
          ]
        },
        {
          "name": "stderr",
          "output_type": "stream",
          "text": [
            "100%|██████████| 938/938 [00:23<00:00, 40.56it/s, accuracy=0.938, loss=0.191, lr=0.00437]\n"
          ]
        },
        {
          "name": "stdout",
          "output_type": "stream",
          "text": [
            "Epoch 4, Val Loss: 0.13461269088974445, Val Accuracy: 0.9664609872611465\n"
          ]
        },
        {
          "name": "stderr",
          "output_type": "stream",
          "text": [
            "100%|██████████| 938/938 [00:23<00:00, 39.84it/s, accuracy=0.969, loss=0.158, lr=0.00394]\n"
          ]
        },
        {
          "name": "stdout",
          "output_type": "stream",
          "text": [
            "Epoch 5, Val Loss: 0.12594970145398007, Val Accuracy: 0.9717356687898089\n"
          ]
        },
        {
          "name": "stderr",
          "output_type": "stream",
          "text": [
            "100%|██████████| 938/938 [00:24<00:00, 38.86it/s, accuracy=1, loss=0.0122, lr=0.00354]\n"
          ]
        },
        {
          "name": "stdout",
          "output_type": "stream",
          "text": [
            "Epoch 6, Val Loss: 0.11719489383583796, Val Accuracy: 0.9720342356687898\n"
          ]
        },
        {
          "name": "stderr",
          "output_type": "stream",
          "text": [
            "100%|██████████| 938/938 [00:24<00:00, 38.52it/s, accuracy=0.969, loss=0.174, lr=0.00319]\n"
          ]
        },
        {
          "name": "stdout",
          "output_type": "stream",
          "text": [
            "Epoch 7, Val Loss: 0.11708166565142837, Val Accuracy: 0.9716361464968153\n"
          ]
        },
        {
          "name": "stderr",
          "output_type": "stream",
          "text": [
            "100%|██████████| 938/938 [00:23<00:00, 40.09it/s, accuracy=1, loss=0.0146, lr=0.00287]\n"
          ]
        },
        {
          "name": "stdout",
          "output_type": "stream",
          "text": [
            "Epoch 8, Val Loss: 0.1169607741849843, Val Accuracy: 0.9739251592356688\n"
          ]
        },
        {
          "name": "stderr",
          "output_type": "stream",
          "text": [
            "100%|██████████| 938/938 [00:24<00:00, 38.32it/s, accuracy=0.969, loss=0.0783, lr=0.00258]\n"
          ]
        },
        {
          "name": "stdout",
          "output_type": "stream",
          "text": [
            "Epoch 9, Val Loss: 0.12654812340797086, Val Accuracy: 0.9740246815286624\n"
          ]
        },
        {
          "name": "stderr",
          "output_type": "stream",
          "text": [
            "100%|██████████| 938/938 [00:23<00:00, 39.95it/s, accuracy=1, loss=0.003, lr=0.00232]\n"
          ]
        },
        {
          "name": "stdout",
          "output_type": "stream",
          "text": [
            "Epoch 10, Val Loss: 0.11356210639371149, Val Accuracy: 0.9753184713375797\n"
          ]
        },
        {
          "name": "stderr",
          "output_type": "stream",
          "text": [
            "100%|██████████| 938/938 [00:24<00:00, 38.63it/s, accuracy=1, loss=0.000369, lr=0.00209]\n"
          ]
        },
        {
          "name": "stdout",
          "output_type": "stream",
          "text": [
            "Epoch 11, Val Loss: 0.1141827824582506, Val Accuracy: 0.9759156050955414\n"
          ]
        },
        {
          "name": "stderr",
          "output_type": "stream",
          "text": [
            "100%|██████████| 938/938 [00:23<00:00, 40.24it/s, accuracy=1, loss=0.0137, lr=0.00188]\n"
          ]
        },
        {
          "name": "stdout",
          "output_type": "stream",
          "text": [
            "Epoch 12, Val Loss: 0.11950392764332143, Val Accuracy: 0.9764132165605095\n"
          ]
        },
        {
          "name": "stderr",
          "output_type": "stream",
          "text": [
            "100%|██████████| 938/938 [00:24<00:00, 38.75it/s, accuracy=1, loss=0.00035, lr=0.00169]\n"
          ]
        },
        {
          "name": "stdout",
          "output_type": "stream",
          "text": [
            "Epoch 13, Val Loss: 0.12297130537152175, Val Accuracy: 0.977906050955414\n"
          ]
        },
        {
          "name": "stderr",
          "output_type": "stream",
          "text": [
            "100%|██████████| 938/938 [00:22<00:00, 40.91it/s, accuracy=1, loss=0.000136, lr=0.00153]\n"
          ]
        },
        {
          "name": "stdout",
          "output_type": "stream",
          "text": [
            "Epoch 14, Val Loss: 0.10665124673116237, Val Accuracy: 0.9791003184713376\n"
          ]
        },
        {
          "name": "stderr",
          "output_type": "stream",
          "text": [
            "100%|██████████| 938/938 [00:23<00:00, 39.16it/s, accuracy=1, loss=0.000894, lr=0.00137]\n"
          ]
        },
        {
          "name": "stdout",
          "output_type": "stream",
          "text": [
            "Epoch 15, Val Loss: 0.13358535779091407, Val Accuracy: 0.974422770700637\n"
          ]
        },
        {
          "name": "stderr",
          "output_type": "stream",
          "text": [
            "100%|██████████| 938/938 [00:23<00:00, 40.61it/s, accuracy=1, loss=0.000591, lr=0.00124]\n"
          ]
        },
        {
          "name": "stdout",
          "output_type": "stream",
          "text": [
            "Epoch 16, Val Loss: 0.11140631015191894, Val Accuracy: 0.979796974522293\n"
          ]
        },
        {
          "name": "stderr",
          "output_type": "stream",
          "text": [
            "100%|██████████| 938/938 [00:23<00:00, 39.71it/s, accuracy=1, loss=0.000232, lr=0.00111]\n"
          ]
        },
        {
          "name": "stdout",
          "output_type": "stream",
          "text": [
            "Epoch 17, Val Loss: 0.10979026113250455, Val Accuracy: 0.9801950636942676\n"
          ]
        },
        {
          "name": "stderr",
          "output_type": "stream",
          "text": [
            "100%|██████████| 938/938 [00:23<00:00, 40.17it/s, accuracy=1, loss=1.61e-5, lr=0.001]\n"
          ]
        },
        {
          "name": "stdout",
          "output_type": "stream",
          "text": [
            "Epoch 18, Val Loss: 0.10510473772665278, Val Accuracy: 0.9809912420382165\n"
          ]
        },
        {
          "name": "stderr",
          "output_type": "stream",
          "text": [
            "100%|██████████| 938/938 [00:24<00:00, 38.82it/s, accuracy=1, loss=0.000397, lr=0.000901]\n"
          ]
        },
        {
          "name": "stdout",
          "output_type": "stream",
          "text": [
            "Epoch 19, Val Loss: 0.10651169282131258, Val Accuracy: 0.9808917197452229\n"
          ]
        },
        {
          "name": "stderr",
          "output_type": "stream",
          "text": [
            "100%|██████████| 938/938 [00:25<00:00, 37.09it/s, accuracy=1, loss=8.85e-5, lr=0.000811]\n"
          ]
        },
        {
          "name": "stdout",
          "output_type": "stream",
          "text": [
            "Epoch 20, Val Loss: 0.10692327067476629, Val Accuracy: 0.9807921974522293\n"
          ]
        },
        {
          "name": "stderr",
          "output_type": "stream",
          "text": [
            "100%|██████████| 938/938 [00:25<00:00, 36.74it/s, accuracy=1, loss=4.49e-5, lr=0.000729]\n"
          ]
        },
        {
          "name": "stdout",
          "output_type": "stream",
          "text": [
            "Epoch 21, Val Loss: 0.10965646133859731, Val Accuracy: 0.9809912420382165\n"
          ]
        },
        {
          "name": "stderr",
          "output_type": "stream",
          "text": [
            "100%|██████████| 938/938 [00:24<00:00, 38.65it/s, accuracy=1, loss=3e-6, lr=0.000657]\n"
          ]
        },
        {
          "name": "stdout",
          "output_type": "stream",
          "text": [
            "Epoch 22, Val Loss: 0.10984764345209391, Val Accuracy: 0.9810907643312102\n"
          ]
        },
        {
          "name": "stderr",
          "output_type": "stream",
          "text": [
            "100%|██████████| 938/938 [00:25<00:00, 36.55it/s, accuracy=1, loss=0.000111, lr=0.000591]\n"
          ]
        },
        {
          "name": "stdout",
          "output_type": "stream",
          "text": [
            "Epoch 23, Val Loss: 0.11358205555188997, Val Accuracy: 0.9810907643312102\n"
          ]
        },
        {
          "name": "stderr",
          "output_type": "stream",
          "text": [
            "100%|██████████| 938/938 [00:24<00:00, 38.73it/s, accuracy=1, loss=3.69e-5, lr=0.000532]\n"
          ]
        },
        {
          "name": "stdout",
          "output_type": "stream",
          "text": [
            "Epoch 24, Val Loss: 0.12376377426391749, Val Accuracy: 0.9784036624203821\n"
          ]
        },
        {
          "name": "stderr",
          "output_type": "stream",
          "text": [
            "100%|██████████| 938/938 [00:23<00:00, 39.10it/s, accuracy=1, loss=6.55e-5, lr=0.000479]\n"
          ]
        },
        {
          "name": "stdout",
          "output_type": "stream",
          "text": [
            "Epoch 25, Val Loss: 0.11761989406824906, Val Accuracy: 0.9803941082802548\n"
          ]
        },
        {
          "name": "stderr",
          "output_type": "stream",
          "text": [
            "100%|██████████| 938/938 [00:23<00:00, 39.77it/s, accuracy=1, loss=2.71e-5, lr=0.000431]\n"
          ]
        },
        {
          "name": "stdout",
          "output_type": "stream",
          "text": [
            "Epoch 26, Val Loss: 0.11693107298802963, Val Accuracy: 0.9804936305732485\n"
          ]
        },
        {
          "name": "stderr",
          "output_type": "stream",
          "text": [
            "100%|██████████| 938/938 [00:25<00:00, 36.55it/s, accuracy=1, loss=9.37e-6, lr=0.000388]\n"
          ]
        },
        {
          "name": "stdout",
          "output_type": "stream",
          "text": [
            "Epoch 27, Val Loss: 0.11633903792076777, Val Accuracy: 0.9808917197452229\n"
          ]
        },
        {
          "name": "stderr",
          "output_type": "stream",
          "text": [
            "100%|██████████| 938/938 [00:23<00:00, 40.15it/s, accuracy=1, loss=1.62e-5, lr=0.000349]\n"
          ]
        },
        {
          "name": "stdout",
          "output_type": "stream",
          "text": [
            "Epoch 28, Val Loss: 0.11702385954455671, Val Accuracy: 0.9810907643312102\n"
          ]
        },
        {
          "name": "stderr",
          "output_type": "stream",
          "text": [
            "100%|██████████| 938/938 [00:25<00:00, 36.96it/s, accuracy=1, loss=5.72e-5, lr=0.000314]\n"
          ]
        },
        {
          "name": "stdout",
          "output_type": "stream",
          "text": [
            "Epoch 29, Val Loss: 0.11788478989410252, Val Accuracy: 0.9811902866242038\n"
          ]
        },
        {
          "name": "stderr",
          "output_type": "stream",
          "text": [
            "100%|██████████| 938/938 [00:23<00:00, 39.73it/s, accuracy=1, loss=3.63e-6, lr=0.000283]\n"
          ]
        },
        {
          "name": "stdout",
          "output_type": "stream",
          "text": [
            "Epoch 30, Val Loss: 0.11804310040731328, Val Accuracy: 0.9812898089171974\n",
            "LR: 0.006 Gamma: 0.9 Hdim: 256 Best Accuracy: 0.9812898089171974\n"
          ]
        }
      ],
      "source": [
        "epochs = 30\n",
        "lrs = [4e-3, 5e-3, 6e-3]\n",
        "gammas = [0.8, 0.9]\n",
        "hdims = [64, 128, 256]\n",
        "best_accs = []\n",
        "for lr in lrs:\n",
        "    for gamma in gammas:\n",
        "        for hdim in hdims:\n",
        "            torch.manual_seed(42)\n",
        "            best_acc = 0\n",
        "            # Define model\n",
        "            model = KAN(layers_hidden=[28 * 28, hdim, 10], grid_size=8)\n",
        "            device = torch.device(\"cuda\" if torch.cuda.is_available() else \"cpu\")\n",
        "            model.to(device)\n",
        "            # Define optimizer\n",
        "            optimizer = optim.AdamW(model.parameters(), lr=lr)\n",
        "            # Define learning rate scheduler\n",
        "            scheduler = optim.lr_scheduler.ExponentialLR(optimizer, gamma=gamma)\n",
        "\n",
        "            # Define loss\n",
        "            criterion = nn.CrossEntropyLoss()\n",
        "            for epoch in range(epochs):\n",
        "                # Train\n",
        "                model.train()\n",
        "                with tqdm(train_loader) as pbar:\n",
        "                    for i, (images, labels) in enumerate(pbar):\n",
        "                        images = images.view(-1, 28 * 28).to(device)\n",
        "                        optimizer.zero_grad()\n",
        "                        output = model(images)\n",
        "                        loss = criterion(output, labels.to(device))\n",
        "                        loss.backward()\n",
        "                        optimizer.step()\n",
        "                        accuracy = (output.argmax(dim=1) == labels.to(device)).float().mean()\n",
        "                        pbar.set_postfix(loss=loss.item(), accuracy=accuracy.item(), lr=optimizer.param_groups[0]['lr'])\n",
        "\n",
        "                # Validation\n",
        "                model.eval()\n",
        "                val_loss = 0\n",
        "                val_accuracy = 0\n",
        "                with torch.no_grad():\n",
        "                    for images, labels in val_loader:\n",
        "                        images = images.view(-1, 28 * 28).to(device)\n",
        "                        output = model(images)\n",
        "                        val_loss += criterion(output, labels.to(device)).item()\n",
        "                        val_accuracy += (\n",
        "                            (output.argmax(dim=1) == labels.to(device)).float().mean().item()\n",
        "                        )\n",
        "                val_loss /= len(val_loader)\n",
        "                val_accuracy /= len(val_loader)\n",
        "                if val_accuracy > best_acc:\n",
        "                    best_acc = val_accuracy\n",
        "\n",
        "                # Update learning rate\n",
        "                scheduler.step()\n",
        "\n",
        "                print(\n",
        "                    f\"Epoch {epoch + 1}, Val Loss: {val_loss}, Val Accuracy: {val_accuracy}\"\n",
        "                )\n",
        "            best_accs.append(best_acc)\n",
        "            print(f\"LR: {lr} Gamma: {gamma} Hdim: {hdim} Best Accuracy: {best_acc}\")"
      ]
    },
    {
      "cell_type": "code",
      "execution_count": null,
      "metadata": {
        "colab": {
          "background_save": true,
          "base_uri": "https://localhost:8080/"
        },
        "id": "7tFJCwOZLcwf",
        "outputId": "fd574717-2651-4912-f760-37bb03c615f1"
      },
      "outputs": [
        {
          "name": "stderr",
          "output_type": "stream",
          "text": [
            "100%|██████████| 938/938 [00:20<00:00, 45.21it/s, accuracy=0.938, loss=0.205, lr=0.005]\n"
          ]
        },
        {
          "name": "stdout",
          "output_type": "stream",
          "text": [
            "Epoch 1, Val Loss: 0.14388836470023272, Val Accuracy: 0.9560111464968153\n"
          ]
        },
        {
          "name": "stderr",
          "output_type": "stream",
          "text": [
            "100%|██████████| 938/938 [00:19<00:00, 48.91it/s, accuracy=0.969, loss=0.0656, lr=0.0045]\n"
          ]
        },
        {
          "name": "stdout",
          "output_type": "stream",
          "text": [
            "Epoch 2, Val Loss: 0.13029202954416538, Val Accuracy: 0.9609872611464968\n"
          ]
        },
        {
          "name": "stderr",
          "output_type": "stream",
          "text": [
            "100%|██████████| 938/938 [00:20<00:00, 46.61it/s, accuracy=0.938, loss=0.165, lr=0.00405]\n"
          ]
        },
        {
          "name": "stdout",
          "output_type": "stream",
          "text": [
            "Epoch 3, Val Loss: 0.1273979288770574, Val Accuracy: 0.9639729299363057\n"
          ]
        },
        {
          "name": "stderr",
          "output_type": "stream",
          "text": [
            "100%|██████████| 938/938 [00:19<00:00, 48.53it/s, accuracy=1, loss=0.0298, lr=0.00365]\n"
          ]
        },
        {
          "name": "stdout",
          "output_type": "stream",
          "text": [
            "Epoch 4, Val Loss: 0.11175412936084221, Val Accuracy: 0.9695461783439491\n"
          ]
        },
        {
          "name": "stderr",
          "output_type": "stream",
          "text": [
            "100%|██████████| 938/938 [00:19<00:00, 48.43it/s, accuracy=1, loss=0.0083, lr=0.00328]\n"
          ]
        },
        {
          "name": "stdout",
          "output_type": "stream",
          "text": [
            "Epoch 5, Val Loss: 0.11601859507088662, Val Accuracy: 0.9693471337579618\n"
          ]
        },
        {
          "name": "stderr",
          "output_type": "stream",
          "text": [
            "100%|██████████| 938/938 [00:19<00:00, 48.26it/s, accuracy=1, loss=0.000623, lr=0.00295]\n"
          ]
        },
        {
          "name": "stdout",
          "output_type": "stream",
          "text": [
            "Epoch 6, Val Loss: 0.11633014394972599, Val Accuracy: 0.9696457006369427\n"
          ]
        },
        {
          "name": "stderr",
          "output_type": "stream",
          "text": [
            "100%|██████████| 938/938 [00:19<00:00, 48.53it/s, accuracy=1, loss=0.000226, lr=0.00266]\n"
          ]
        },
        {
          "name": "stdout",
          "output_type": "stream",
          "text": [
            "Epoch 7, Val Loss: 0.11795565289413058, Val Accuracy: 0.971437101910828\n"
          ]
        },
        {
          "name": "stderr",
          "output_type": "stream",
          "text": [
            "100%|██████████| 938/938 [00:20<00:00, 46.10it/s, accuracy=1, loss=0.0179, lr=0.00239]\n"
          ]
        },
        {
          "name": "stdout",
          "output_type": "stream",
          "text": [
            "Epoch 8, Val Loss: 0.1496916989232255, Val Accuracy: 0.966062898089172\n"
          ]
        },
        {
          "name": "stderr",
          "output_type": "stream",
          "text": [
            "100%|██████████| 938/938 [00:19<00:00, 49.06it/s, accuracy=1, loss=0.0118, lr=0.00215]\n"
          ]
        },
        {
          "name": "stdout",
          "output_type": "stream",
          "text": [
            "Epoch 9, Val Loss: 0.1186890583124869, Val Accuracy: 0.9737261146496815\n"
          ]
        },
        {
          "name": "stderr",
          "output_type": "stream",
          "text": [
            "100%|██████████| 938/938 [00:20<00:00, 45.92it/s, accuracy=1, loss=0.00241, lr=0.00194]\n"
          ]
        },
        {
          "name": "stdout",
          "output_type": "stream",
          "text": [
            "Epoch 10, Val Loss: 0.11731805546445581, Val Accuracy: 0.9766122611464968\n"
          ]
        },
        {
          "name": "stderr",
          "output_type": "stream",
          "text": [
            "100%|██████████| 938/938 [00:19<00:00, 48.32it/s, accuracy=1, loss=0.00175, lr=0.00174]\n"
          ]
        },
        {
          "name": "stdout",
          "output_type": "stream",
          "text": [
            "Epoch 11, Val Loss: 0.11377776843687715, Val Accuracy: 0.9753184713375797\n"
          ]
        },
        {
          "name": "stderr",
          "output_type": "stream",
          "text": [
            "100%|██████████| 938/938 [00:19<00:00, 47.13it/s, accuracy=1, loss=0.00014, lr=0.00157]\n"
          ]
        },
        {
          "name": "stdout",
          "output_type": "stream",
          "text": [
            "Epoch 12, Val Loss: 0.14200246835062538, Val Accuracy: 0.9732285031847133\n"
          ]
        },
        {
          "name": "stderr",
          "output_type": "stream",
          "text": [
            "100%|██████████| 938/938 [00:19<00:00, 48.64it/s, accuracy=1, loss=5.63e-5, lr=0.00141]\n"
          ]
        },
        {
          "name": "stdout",
          "output_type": "stream",
          "text": [
            "Epoch 13, Val Loss: 0.1243232131396246, Val Accuracy: 0.9766122611464968\n"
          ]
        },
        {
          "name": "stderr",
          "output_type": "stream",
          "text": [
            "100%|██████████| 938/938 [00:19<00:00, 48.95it/s, accuracy=1, loss=0.000308, lr=0.00127]\n"
          ]
        },
        {
          "name": "stdout",
          "output_type": "stream",
          "text": [
            "Epoch 14, Val Loss: 0.12327992068651962, Val Accuracy: 0.9763136942675159\n"
          ]
        },
        {
          "name": "stderr",
          "output_type": "stream",
          "text": [
            "100%|██████████| 938/938 [00:20<00:00, 45.32it/s, accuracy=1, loss=0.000106, lr=0.00114]\n"
          ]
        },
        {
          "name": "stdout",
          "output_type": "stream",
          "text": [
            "Epoch 15, Val Loss: 0.11402127587473804, Val Accuracy: 0.9773089171974523\n"
          ]
        },
        {
          "name": "stderr",
          "output_type": "stream",
          "text": [
            "100%|██████████| 938/938 [00:18<00:00, 49.78it/s, accuracy=1, loss=0.000524, lr=0.00103]\n"
          ]
        },
        {
          "name": "stdout",
          "output_type": "stream",
          "text": [
            "Epoch 16, Val Loss: 0.11501540710596118, Val Accuracy: 0.9775079617834395\n"
          ]
        },
        {
          "name": "stderr",
          "output_type": "stream",
          "text": [
            "100%|██████████| 938/938 [00:20<00:00, 46.10it/s, accuracy=1, loss=0.000223, lr=0.000927]\n"
          ]
        },
        {
          "name": "stdout",
          "output_type": "stream",
          "text": [
            "Epoch 17, Val Loss: 0.11353004566308264, Val Accuracy: 0.9790007961783439\n"
          ]
        },
        {
          "name": "stderr",
          "output_type": "stream",
          "text": [
            "100%|██████████| 938/938 [00:19<00:00, 48.51it/s, accuracy=1, loss=0.00037, lr=0.000834]\n"
          ]
        },
        {
          "name": "stdout",
          "output_type": "stream",
          "text": [
            "Epoch 18, Val Loss: 0.1166212428484629, Val Accuracy: 0.9785031847133758\n"
          ]
        },
        {
          "name": "stderr",
          "output_type": "stream",
          "text": [
            "100%|██████████| 938/938 [00:20<00:00, 46.36it/s, accuracy=1, loss=0.00792, lr=0.00075]\n"
          ]
        },
        {
          "name": "stdout",
          "output_type": "stream",
          "text": [
            "Epoch 19, Val Loss: 0.14512424676870392, Val Accuracy: 0.9724323248407644\n"
          ]
        },
        {
          "name": "stderr",
          "output_type": "stream",
          "text": [
            "100%|██████████| 938/938 [00:19<00:00, 48.55it/s, accuracy=1, loss=0.000432, lr=0.000675]\n"
          ]
        },
        {
          "name": "stdout",
          "output_type": "stream",
          "text": [
            "Epoch 20, Val Loss: 0.1254579320824403, Val Accuracy: 0.9777070063694268\n"
          ]
        },
        {
          "name": "stderr",
          "output_type": "stream",
          "text": [
            "100%|██████████| 938/938 [00:19<00:00, 48.36it/s, accuracy=1, loss=5.69e-5, lr=0.000608]\n"
          ]
        },
        {
          "name": "stdout",
          "output_type": "stream",
          "text": [
            "Epoch 21, Val Loss: 0.12346533308843119, Val Accuracy: 0.9781050955414012\n"
          ]
        },
        {
          "name": "stderr",
          "output_type": "stream",
          "text": [
            "100%|██████████| 938/938 [00:20<00:00, 46.38it/s, accuracy=1, loss=0.000133, lr=0.000547]\n"
          ]
        },
        {
          "name": "stdout",
          "output_type": "stream",
          "text": [
            "Epoch 22, Val Loss: 0.12345964481492709, Val Accuracy: 0.9780055732484076\n"
          ]
        },
        {
          "name": "stderr",
          "output_type": "stream",
          "text": [
            "100%|██████████| 938/938 [00:18<00:00, 49.67it/s, accuracy=1, loss=9.17e-6, lr=0.000492]\n"
          ]
        },
        {
          "name": "stdout",
          "output_type": "stream",
          "text": [
            "Epoch 23, Val Loss: 0.1218732650182258, Val Accuracy: 0.9783041401273885\n"
          ]
        },
        {
          "name": "stderr",
          "output_type": "stream",
          "text": [
            "100%|██████████| 938/938 [00:20<00:00, 46.13it/s, accuracy=1, loss=0.000141, lr=0.000443]\n"
          ]
        },
        {
          "name": "stdout",
          "output_type": "stream",
          "text": [
            "Epoch 24, Val Loss: 0.12203488769286669, Val Accuracy: 0.9785031847133758\n"
          ]
        },
        {
          "name": "stderr",
          "output_type": "stream",
          "text": [
            "100%|██████████| 938/938 [00:18<00:00, 49.52it/s, accuracy=1, loss=0.000105, lr=0.000399]\n"
          ]
        },
        {
          "name": "stdout",
          "output_type": "stream",
          "text": [
            "Epoch 25, Val Loss: 0.12373932186344751, Val Accuracy: 0.9782046178343949\n"
          ]
        },
        {
          "name": "stderr",
          "output_type": "stream",
          "text": [
            "100%|██████████| 938/938 [00:19<00:00, 47.34it/s, accuracy=1, loss=6.8e-5, lr=0.000359]\n"
          ]
        },
        {
          "name": "stdout",
          "output_type": "stream",
          "text": [
            "Epoch 26, Val Loss: 0.12496256640960701, Val Accuracy: 0.9785031847133758\n"
          ]
        },
        {
          "name": "stderr",
          "output_type": "stream",
          "text": [
            "100%|██████████| 938/938 [00:19<00:00, 49.01it/s, accuracy=1, loss=1.06e-5, lr=0.000323]\n"
          ]
        },
        {
          "name": "stdout",
          "output_type": "stream",
          "text": [
            "Epoch 27, Val Loss: 0.1261677973425422, Val Accuracy: 0.9790007961783439\n"
          ]
        },
        {
          "name": "stderr",
          "output_type": "stream",
          "text": [
            "100%|██████████| 938/938 [00:19<00:00, 48.70it/s, accuracy=1, loss=4.75e-5, lr=0.000291]\n"
          ]
        },
        {
          "name": "stdout",
          "output_type": "stream",
          "text": [
            "Epoch 28, Val Loss: 0.1281933226468071, Val Accuracy: 0.9793988853503185\n"
          ]
        },
        {
          "name": "stderr",
          "output_type": "stream",
          "text": [
            "100%|██████████| 938/938 [00:20<00:00, 46.12it/s, accuracy=1, loss=2.06e-5, lr=0.000262]\n"
          ]
        },
        {
          "name": "stdout",
          "output_type": "stream",
          "text": [
            "Epoch 29, Val Loss: 0.13179247667330393, Val Accuracy: 0.978702229299363\n"
          ]
        },
        {
          "name": "stderr",
          "output_type": "stream",
          "text": [
            "100%|██████████| 938/938 [00:19<00:00, 49.24it/s, accuracy=1, loss=1.89e-5, lr=0.000236]\n"
          ]
        },
        {
          "name": "stdout",
          "output_type": "stream",
          "text": [
            "Epoch 30, Val Loss: 0.13289497359072183, Val Accuracy: 0.9791003184713376\n"
          ]
        },
        {
          "name": "stderr",
          "output_type": "stream",
          "text": [
            "100%|██████████| 938/938 [00:19<00:00, 47.03it/s, accuracy=0.906, loss=0.289, lr=0.005]\n"
          ]
        },
        {
          "name": "stdout",
          "output_type": "stream",
          "text": [
            "Epoch 1, Val Loss: 0.1624798498644381, Val Accuracy: 0.948546974522293\n"
          ]
        },
        {
          "name": "stderr",
          "output_type": "stream",
          "text": [
            "100%|██████████| 938/938 [00:19<00:00, 48.96it/s, accuracy=0.969, loss=0.218, lr=0.0045]\n"
          ]
        },
        {
          "name": "stdout",
          "output_type": "stream",
          "text": [
            "Epoch 2, Val Loss: 0.12812200687813816, Val Accuracy: 0.9597929936305732\n"
          ]
        },
        {
          "name": "stderr",
          "output_type": "stream",
          "text": [
            "100%|██████████| 938/938 [00:19<00:00, 48.35it/s, accuracy=0.938, loss=0.189, lr=0.00405]\n"
          ]
        },
        {
          "name": "stdout",
          "output_type": "stream",
          "text": [
            "Epoch 3, Val Loss: 0.13130328683241918, Val Accuracy: 0.9592953821656051\n"
          ]
        },
        {
          "name": "stderr",
          "output_type": "stream",
          "text": [
            "100%|██████████| 938/938 [00:19<00:00, 49.33it/s, accuracy=0.969, loss=0.0843, lr=0.00365]\n"
          ]
        },
        {
          "name": "stdout",
          "output_type": "stream",
          "text": [
            "Epoch 4, Val Loss: 0.09998465712763559, Val Accuracy: 0.9699442675159236\n"
          ]
        },
        {
          "name": "stderr",
          "output_type": "stream",
          "text": [
            "100%|██████████| 938/938 [00:18<00:00, 49.54it/s, accuracy=1, loss=0.0244, lr=0.00328]\n"
          ]
        },
        {
          "name": "stdout",
          "output_type": "stream",
          "text": [
            "Epoch 5, Val Loss: 0.12240598295373356, Val Accuracy: 0.9625796178343949\n"
          ]
        },
        {
          "name": "stderr",
          "output_type": "stream",
          "text": [
            "100%|██████████| 938/938 [00:20<00:00, 45.78it/s, accuracy=1, loss=0.0104, lr=0.00295]\n"
          ]
        },
        {
          "name": "stdout",
          "output_type": "stream",
          "text": [
            "Epoch 6, Val Loss: 0.09500852496041412, Val Accuracy: 0.9704418789808917\n"
          ]
        },
        {
          "name": "stderr",
          "output_type": "stream",
          "text": [
            "100%|██████████| 938/938 [00:19<00:00, 48.91it/s, accuracy=1, loss=0.0274, lr=0.00266]\n"
          ]
        },
        {
          "name": "stdout",
          "output_type": "stream",
          "text": [
            "Epoch 7, Val Loss: 0.09901588040464825, Val Accuracy: 0.9692476114649682\n"
          ]
        },
        {
          "name": "stderr",
          "output_type": "stream",
          "text": [
            "100%|██████████| 938/938 [00:20<00:00, 46.21it/s, accuracy=1, loss=0.018, lr=0.00239]\n"
          ]
        },
        {
          "name": "stdout",
          "output_type": "stream",
          "text": [
            "Epoch 8, Val Loss: 0.09121603136908138, Val Accuracy: 0.9728304140127388\n"
          ]
        },
        {
          "name": "stderr",
          "output_type": "stream",
          "text": [
            "100%|██████████| 938/938 [00:19<00:00, 49.01it/s, accuracy=0.938, loss=0.12, lr=0.00215]\n"
          ]
        },
        {
          "name": "stdout",
          "output_type": "stream",
          "text": [
            "Epoch 9, Val Loss: 0.07624765213877022, Val Accuracy: 0.977109872611465\n"
          ]
        },
        {
          "name": "stderr",
          "output_type": "stream",
          "text": [
            "100%|██████████| 938/938 [00:19<00:00, 47.86it/s, accuracy=1, loss=0.0248, lr=0.00194]\n"
          ]
        },
        {
          "name": "stdout",
          "output_type": "stream",
          "text": [
            "Epoch 10, Val Loss: 0.07723312806408514, Val Accuracy: 0.9763136942675159\n"
          ]
        },
        {
          "name": "stderr",
          "output_type": "stream",
          "text": [
            "100%|██████████| 938/938 [00:19<00:00, 47.59it/s, accuracy=1, loss=0.0145, lr=0.00174]\n"
          ]
        },
        {
          "name": "stdout",
          "output_type": "stream",
          "text": [
            "Epoch 11, Val Loss: 0.07271268674277012, Val Accuracy: 0.977906050955414\n"
          ]
        },
        {
          "name": "stderr",
          "output_type": "stream",
          "text": [
            "100%|██████████| 938/938 [00:19<00:00, 48.55it/s, accuracy=1, loss=0.00405, lr=0.00157]\n"
          ]
        },
        {
          "name": "stdout",
          "output_type": "stream",
          "text": [
            "Epoch 12, Val Loss: 0.07356414681897057, Val Accuracy: 0.9756170382165605\n"
          ]
        },
        {
          "name": "stderr",
          "output_type": "stream",
          "text": [
            "100%|██████████| 938/938 [00:19<00:00, 47.75it/s, accuracy=1, loss=0.00645, lr=0.00141]\n"
          ]
        },
        {
          "name": "stdout",
          "output_type": "stream",
          "text": [
            "Epoch 13, Val Loss: 0.06769022707338741, Val Accuracy: 0.977906050955414\n"
          ]
        },
        {
          "name": "stderr",
          "output_type": "stream",
          "text": [
            "100%|██████████| 938/938 [00:19<00:00, 47.74it/s, accuracy=1, loss=0.0273, lr=0.00127]\n"
          ]
        },
        {
          "name": "stdout",
          "output_type": "stream",
          "text": [
            "Epoch 14, Val Loss: 0.06985169027377347, Val Accuracy: 0.9784036624203821\n"
          ]
        },
        {
          "name": "stderr",
          "output_type": "stream",
          "text": [
            "100%|██████████| 938/938 [00:20<00:00, 46.04it/s, accuracy=1, loss=0.0025, lr=0.00114]\n"
          ]
        },
        {
          "name": "stdout",
          "output_type": "stream",
          "text": [
            "Epoch 15, Val Loss: 0.07034351129402187, Val Accuracy: 0.9788017515923567\n"
          ]
        },
        {
          "name": "stderr",
          "output_type": "stream",
          "text": [
            "100%|██████████| 938/938 [00:19<00:00, 49.14it/s, accuracy=1, loss=0.0188, lr=0.00103]\n"
          ]
        },
        {
          "name": "stdout",
          "output_type": "stream",
          "text": [
            "Epoch 16, Val Loss: 0.07601274060840632, Val Accuracy: 0.9783041401273885\n"
          ]
        },
        {
          "name": "stderr",
          "output_type": "stream",
          "text": [
            "100%|██████████| 938/938 [00:20<00:00, 46.53it/s, accuracy=1, loss=0.00843, lr=0.000927]\n"
          ]
        },
        {
          "name": "stdout",
          "output_type": "stream",
          "text": [
            "Epoch 17, Val Loss: 0.06963694883704373, Val Accuracy: 0.9781050955414012\n"
          ]
        },
        {
          "name": "stderr",
          "output_type": "stream",
          "text": [
            "100%|██████████| 938/938 [00:19<00:00, 48.36it/s, accuracy=1, loss=0.0188, lr=0.000834]\n"
          ]
        },
        {
          "name": "stdout",
          "output_type": "stream",
          "text": [
            "Epoch 18, Val Loss: 0.06685687328629851, Val Accuracy: 0.9800955414012739\n"
          ]
        },
        {
          "name": "stderr",
          "output_type": "stream",
          "text": [
            "100%|██████████| 938/938 [00:19<00:00, 48.11it/s, accuracy=1, loss=0.00159, lr=0.00075]\n"
          ]
        },
        {
          "name": "stdout",
          "output_type": "stream",
          "text": [
            "Epoch 19, Val Loss: 0.06567567265218059, Val Accuracy: 0.9798964968152867\n"
          ]
        },
        {
          "name": "stderr",
          "output_type": "stream",
          "text": [
            "100%|██████████| 938/938 [00:19<00:00, 48.70it/s, accuracy=1, loss=0.00321, lr=0.000675]\n"
          ]
        },
        {
          "name": "stdout",
          "output_type": "stream",
          "text": [
            "Epoch 20, Val Loss: 0.06872530423237214, Val Accuracy: 0.978702229299363\n"
          ]
        },
        {
          "name": "stderr",
          "output_type": "stream",
          "text": [
            "100%|██████████| 938/938 [00:19<00:00, 48.65it/s, accuracy=1, loss=0.00787, lr=0.000608]\n"
          ]
        },
        {
          "name": "stdout",
          "output_type": "stream",
          "text": [
            "Epoch 21, Val Loss: 0.06481787350521757, Val Accuracy: 0.9806926751592356\n"
          ]
        },
        {
          "name": "stderr",
          "output_type": "stream",
          "text": [
            "100%|██████████| 938/938 [00:20<00:00, 45.70it/s, accuracy=1, loss=0.00118, lr=0.000547]\n"
          ]
        },
        {
          "name": "stdout",
          "output_type": "stream",
          "text": [
            "Epoch 22, Val Loss: 0.06743975674787649, Val Accuracy: 0.979796974522293\n"
          ]
        },
        {
          "name": "stderr",
          "output_type": "stream",
          "text": [
            "100%|██████████| 938/938 [00:18<00:00, 49.53it/s, accuracy=1, loss=0.00182, lr=0.000492]\n"
          ]
        },
        {
          "name": "stdout",
          "output_type": "stream",
          "text": [
            "Epoch 23, Val Loss: 0.06457588993528988, Val Accuracy: 0.9793988853503185\n"
          ]
        },
        {
          "name": "stderr",
          "output_type": "stream",
          "text": [
            "100%|██████████| 938/938 [00:19<00:00, 48.35it/s, accuracy=1, loss=0.00473, lr=0.000443]\n"
          ]
        },
        {
          "name": "stdout",
          "output_type": "stream",
          "text": [
            "Epoch 24, Val Loss: 0.06499890671072715, Val Accuracy: 0.9804936305732485\n"
          ]
        },
        {
          "name": "stderr",
          "output_type": "stream",
          "text": [
            "100%|██████████| 938/938 [00:19<00:00, 48.28it/s, accuracy=1, loss=0.00275, lr=0.000399]\n"
          ]
        },
        {
          "name": "stdout",
          "output_type": "stream",
          "text": [
            "Epoch 25, Val Loss: 0.06668652935584493, Val Accuracy: 0.9813893312101911\n"
          ]
        },
        {
          "name": "stderr",
          "output_type": "stream",
          "text": [
            "100%|██████████| 938/938 [00:19<00:00, 48.48it/s, accuracy=1, loss=0.00117, lr=0.000359]\n"
          ]
        },
        {
          "name": "stdout",
          "output_type": "stream",
          "text": [
            "Epoch 26, Val Loss: 0.06629270536223844, Val Accuracy: 0.9802945859872612\n"
          ]
        },
        {
          "name": "stderr",
          "output_type": "stream",
          "text": [
            "100%|██████████| 938/938 [00:20<00:00, 46.04it/s, accuracy=1, loss=0.000683, lr=0.000323]\n"
          ]
        },
        {
          "name": "stdout",
          "output_type": "stream",
          "text": [
            "Epoch 27, Val Loss: 0.06561138392874796, Val Accuracy: 0.9813893312101911\n"
          ]
        },
        {
          "name": "stderr",
          "output_type": "stream",
          "text": [
            "100%|██████████| 938/938 [00:19<00:00, 48.62it/s, accuracy=1, loss=0.00112, lr=0.000291]\n"
          ]
        },
        {
          "name": "stdout",
          "output_type": "stream",
          "text": [
            "Epoch 28, Val Loss: 0.06709387406412551, Val Accuracy: 0.9803941082802548\n"
          ]
        },
        {
          "name": "stderr",
          "output_type": "stream",
          "text": [
            "100%|██████████| 938/938 [00:20<00:00, 46.02it/s, accuracy=1, loss=0.000692, lr=0.000262]\n"
          ]
        },
        {
          "name": "stdout",
          "output_type": "stream",
          "text": [
            "Epoch 29, Val Loss: 0.06867544273243847, Val Accuracy: 0.9808917197452229\n"
          ]
        },
        {
          "name": "stderr",
          "output_type": "stream",
          "text": [
            "100%|██████████| 938/938 [00:19<00:00, 48.17it/s, accuracy=1, loss=0.000241, lr=0.000236]\n"
          ]
        },
        {
          "name": "stdout",
          "output_type": "stream",
          "text": [
            "Epoch 30, Val Loss: 0.06708812989126661, Val Accuracy: 0.9813893312101911\n"
          ]
        },
        {
          "name": "stderr",
          "output_type": "stream",
          "text": [
            "100%|██████████| 938/938 [00:19<00:00, 48.38it/s, accuracy=0.906, loss=0.282, lr=0.005]\n"
          ]
        },
        {
          "name": "stdout",
          "output_type": "stream",
          "text": [
            "Epoch 1, Val Loss: 0.16607232496830499, Val Accuracy: 0.9489450636942676\n"
          ]
        },
        {
          "name": "stderr",
          "output_type": "stream",
          "text": [
            "100%|██████████| 938/938 [00:20<00:00, 45.53it/s, accuracy=0.969, loss=0.111, lr=0.0045]\n"
          ]
        },
        {
          "name": "stdout",
          "output_type": "stream",
          "text": [
            "Epoch 2, Val Loss: 0.1393601687945378, Val Accuracy: 0.9593949044585988\n"
          ]
        },
        {
          "name": "stderr",
          "output_type": "stream",
          "text": [
            "100%|██████████| 938/938 [00:19<00:00, 47.82it/s, accuracy=0.938, loss=0.243, lr=0.00405]\n"
          ]
        },
        {
          "name": "stdout",
          "output_type": "stream",
          "text": [
            "Epoch 3, Val Loss: 0.13558545345173567, Val Accuracy: 0.9601910828025477\n"
          ]
        },
        {
          "name": "stderr",
          "output_type": "stream",
          "text": [
            "100%|██████████| 938/938 [00:20<00:00, 45.60it/s, accuracy=0.969, loss=0.0598, lr=0.00365]\n"
          ]
        },
        {
          "name": "stdout",
          "output_type": "stream",
          "text": [
            "Epoch 4, Val Loss: 0.11554031369015337, Val Accuracy: 0.9634753184713376\n"
          ]
        },
        {
          "name": "stderr",
          "output_type": "stream",
          "text": [
            "100%|██████████| 938/938 [00:19<00:00, 48.32it/s, accuracy=1, loss=0.0606, lr=0.00328]\n"
          ]
        },
        {
          "name": "stdout",
          "output_type": "stream",
          "text": [
            "Epoch 5, Val Loss: 0.1326859133632462, Val Accuracy: 0.9619824840764332\n"
          ]
        },
        {
          "name": "stderr",
          "output_type": "stream",
          "text": [
            "100%|██████████| 938/938 [00:19<00:00, 47.09it/s, accuracy=1, loss=0.0501, lr=0.00295]\n"
          ]
        },
        {
          "name": "stdout",
          "output_type": "stream",
          "text": [
            "Epoch 6, Val Loss: 0.12106532904550812, Val Accuracy: 0.9639729299363057\n"
          ]
        },
        {
          "name": "stderr",
          "output_type": "stream",
          "text": [
            "100%|██████████| 938/938 [00:19<00:00, 48.56it/s, accuracy=1, loss=0.0349, lr=0.00266]\n"
          ]
        },
        {
          "name": "stdout",
          "output_type": "stream",
          "text": [
            "Epoch 7, Val Loss: 0.10970694970956464, Val Accuracy: 0.9683519108280255\n"
          ]
        },
        {
          "name": "stderr",
          "output_type": "stream",
          "text": [
            "100%|██████████| 938/938 [00:19<00:00, 49.19it/s, accuracy=1, loss=0.0276, lr=0.00239]\n"
          ]
        },
        {
          "name": "stdout",
          "output_type": "stream",
          "text": [
            "Epoch 8, Val Loss: 0.09671686593870259, Val Accuracy: 0.9700437898089171\n"
          ]
        },
        {
          "name": "stderr",
          "output_type": "stream",
          "text": [
            "100%|██████████| 938/938 [00:20<00:00, 46.10it/s, accuracy=0.906, loss=0.202, lr=0.00215]\n"
          ]
        },
        {
          "name": "stdout",
          "output_type": "stream",
          "text": [
            "Epoch 9, Val Loss: 0.09118363432953977, Val Accuracy: 0.9740246815286624\n"
          ]
        },
        {
          "name": "stderr",
          "output_type": "stream",
          "text": [
            "100%|██████████| 938/938 [00:19<00:00, 48.66it/s, accuracy=0.969, loss=0.117, lr=0.00194]\n"
          ]
        },
        {
          "name": "stdout",
          "output_type": "stream",
          "text": [
            "Epoch 10, Val Loss: 0.09233628081270512, Val Accuracy: 0.9707404458598726\n"
          ]
        },
        {
          "name": "stderr",
          "output_type": "stream",
          "text": [
            "100%|██████████| 938/938 [00:20<00:00, 45.92it/s, accuracy=1, loss=0.0465, lr=0.00174]\n"
          ]
        },
        {
          "name": "stdout",
          "output_type": "stream",
          "text": [
            "Epoch 11, Val Loss: 0.08263572955735407, Val Accuracy: 0.9761146496815286\n"
          ]
        },
        {
          "name": "stderr",
          "output_type": "stream",
          "text": [
            "100%|██████████| 938/938 [00:19<00:00, 48.79it/s, accuracy=1, loss=0.0122, lr=0.00157]\n"
          ]
        },
        {
          "name": "stdout",
          "output_type": "stream",
          "text": [
            "Epoch 12, Val Loss: 0.07814084613921156, Val Accuracy: 0.9772093949044586\n"
          ]
        },
        {
          "name": "stderr",
          "output_type": "stream",
          "text": [
            "100%|██████████| 938/938 [00:20<00:00, 46.64it/s, accuracy=1, loss=0.0283, lr=0.00141]\n"
          ]
        },
        {
          "name": "stdout",
          "output_type": "stream",
          "text": [
            "Epoch 13, Val Loss: 0.0776157467803995, Val Accuracy: 0.9772093949044586\n"
          ]
        },
        {
          "name": "stderr",
          "output_type": "stream",
          "text": [
            "100%|██████████| 938/938 [00:19<00:00, 47.80it/s, accuracy=0.906, loss=0.194, lr=0.00127]\n"
          ]
        },
        {
          "name": "stdout",
          "output_type": "stream",
          "text": [
            "Epoch 14, Val Loss: 0.08247353103913509, Val Accuracy: 0.9761146496815286\n"
          ]
        },
        {
          "name": "stderr",
          "output_type": "stream",
          "text": [
            "100%|██████████| 938/938 [00:19<00:00, 48.42it/s, accuracy=1, loss=0.0219, lr=0.00114]\n"
          ]
        },
        {
          "name": "stdout",
          "output_type": "stream",
          "text": [
            "Epoch 15, Val Loss: 0.0773459191650603, Val Accuracy: 0.977109872611465\n"
          ]
        },
        {
          "name": "stderr",
          "output_type": "stream",
          "text": [
            "100%|██████████| 938/938 [00:20<00:00, 44.80it/s, accuracy=1, loss=0.0724, lr=0.00103]\n"
          ]
        },
        {
          "name": "stdout",
          "output_type": "stream",
          "text": [
            "Epoch 16, Val Loss: 0.08317959134223735, Val Accuracy: 0.9745222929936306\n"
          ]
        },
        {
          "name": "stderr",
          "output_type": "stream",
          "text": [
            "100%|██████████| 938/938 [00:19<00:00, 47.91it/s, accuracy=0.969, loss=0.0523, lr=0.000927]\n"
          ]
        },
        {
          "name": "stdout",
          "output_type": "stream",
          "text": [
            "Epoch 17, Val Loss: 0.07496206086295046, Val Accuracy: 0.9766122611464968\n"
          ]
        },
        {
          "name": "stderr",
          "output_type": "stream",
          "text": [
            "100%|██████████| 938/938 [00:20<00:00, 45.58it/s, accuracy=1, loss=0.0532, lr=0.000834]\n"
          ]
        },
        {
          "name": "stdout",
          "output_type": "stream",
          "text": [
            "Epoch 18, Val Loss: 0.07425731274145092, Val Accuracy: 0.9769108280254777\n"
          ]
        },
        {
          "name": "stderr",
          "output_type": "stream",
          "text": [
            "100%|██████████| 938/938 [00:19<00:00, 48.26it/s, accuracy=1, loss=0.0319, lr=0.00075]\n"
          ]
        },
        {
          "name": "stdout",
          "output_type": "stream",
          "text": [
            "Epoch 19, Val Loss: 0.0734453248549668, Val Accuracy: 0.9773089171974523\n"
          ]
        },
        {
          "name": "stderr",
          "output_type": "stream",
          "text": [
            "100%|██████████| 938/938 [00:19<00:00, 48.11it/s, accuracy=1, loss=0.0186, lr=0.000675]\n"
          ]
        },
        {
          "name": "stdout",
          "output_type": "stream",
          "text": [
            "Epoch 20, Val Loss: 0.07008291709097399, Val Accuracy: 0.9793988853503185\n"
          ]
        },
        {
          "name": "stderr",
          "output_type": "stream",
          "text": [
            "100%|██████████| 938/938 [00:19<00:00, 47.63it/s, accuracy=1, loss=0.0437, lr=0.000608]\n"
          ]
        },
        {
          "name": "stdout",
          "output_type": "stream",
          "text": [
            "Epoch 21, Val Loss: 0.06709209347928274, Val Accuracy: 0.9792993630573248\n"
          ]
        },
        {
          "name": "stderr",
          "output_type": "stream",
          "text": [
            "100%|██████████| 938/938 [00:19<00:00, 47.87it/s, accuracy=1, loss=0.00974, lr=0.000547]\n"
          ]
        },
        {
          "name": "stdout",
          "output_type": "stream",
          "text": [
            "Epoch 22, Val Loss: 0.06885589710636966, Val Accuracy: 0.9792993630573248\n"
          ]
        },
        {
          "name": "stderr",
          "output_type": "stream",
          "text": [
            "100%|██████████| 938/938 [00:20<00:00, 45.98it/s, accuracy=1, loss=0.0155, lr=0.000492]\n"
          ]
        },
        {
          "name": "stdout",
          "output_type": "stream",
          "text": [
            "Epoch 23, Val Loss: 0.06542685423209481, Val Accuracy: 0.9803941082802548\n"
          ]
        },
        {
          "name": "stderr",
          "output_type": "stream",
          "text": [
            "100%|██████████| 938/938 [00:19<00:00, 47.73it/s, accuracy=1, loss=0.0359, lr=0.000443]\n"
          ]
        },
        {
          "name": "stdout",
          "output_type": "stream",
          "text": [
            "Epoch 24, Val Loss: 0.06338390423456551, Val Accuracy: 0.980593152866242\n"
          ]
        },
        {
          "name": "stderr",
          "output_type": "stream",
          "text": [
            "100%|██████████| 938/938 [00:21<00:00, 43.73it/s, accuracy=1, loss=0.0291, lr=0.000399]\n"
          ]
        },
        {
          "name": "stdout",
          "output_type": "stream",
          "text": [
            "Epoch 25, Val Loss: 0.06443864215946916, Val Accuracy: 0.9802945859872612\n"
          ]
        },
        {
          "name": "stderr",
          "output_type": "stream",
          "text": [
            "100%|██████████| 938/938 [00:19<00:00, 47.62it/s, accuracy=1, loss=0.0129, lr=0.000359]\n"
          ]
        },
        {
          "name": "stdout",
          "output_type": "stream",
          "text": [
            "Epoch 26, Val Loss: 0.064830887758701, Val Accuracy: 0.9804936305732485\n"
          ]
        },
        {
          "name": "stderr",
          "output_type": "stream",
          "text": [
            "100%|██████████| 938/938 [00:20<00:00, 45.49it/s, accuracy=1, loss=0.00591, lr=0.000323]\n"
          ]
        },
        {
          "name": "stdout",
          "output_type": "stream",
          "text": [
            "Epoch 27, Val Loss: 0.062492537668685184, Val Accuracy: 0.9799960191082803\n"
          ]
        },
        {
          "name": "stderr",
          "output_type": "stream",
          "text": [
            "100%|██████████| 938/938 [00:19<00:00, 47.16it/s, accuracy=1, loss=0.0316, lr=0.000291]\n"
          ]
        },
        {
          "name": "stdout",
          "output_type": "stream",
          "text": [
            "Epoch 28, Val Loss: 0.06306803921199772, Val Accuracy: 0.9803941082802548\n"
          ]
        },
        {
          "name": "stderr",
          "output_type": "stream",
          "text": [
            "100%|██████████| 938/938 [00:20<00:00, 45.51it/s, accuracy=1, loss=0.00809, lr=0.000262]\n"
          ]
        },
        {
          "name": "stdout",
          "output_type": "stream",
          "text": [
            "Epoch 29, Val Loss: 0.06375309745714389, Val Accuracy: 0.9802945859872612\n"
          ]
        },
        {
          "name": "stderr",
          "output_type": "stream",
          "text": [
            "100%|██████████| 938/938 [00:22<00:00, 42.06it/s, accuracy=1, loss=0.0101, lr=0.000236]\n"
          ]
        },
        {
          "name": "stdout",
          "output_type": "stream",
          "text": [
            "Epoch 30, Val Loss: 0.06134763518834018, Val Accuracy: 0.9806926751592356\n"
          ]
        },
        {
          "name": "stderr",
          "output_type": "stream",
          "text": [
            "100%|██████████| 938/938 [00:23<00:00, 40.11it/s, accuracy=0.906, loss=0.241, lr=0.005]\n"
          ]
        },
        {
          "name": "stdout",
          "output_type": "stream",
          "text": [
            "Epoch 1, Val Loss: 0.18438076472301393, Val Accuracy: 0.9490445859872612\n"
          ]
        },
        {
          "name": "stderr",
          "output_type": "stream",
          "text": [
            "100%|██████████| 938/938 [00:22<00:00, 42.00it/s, accuracy=0.969, loss=0.193, lr=0.0045]\n"
          ]
        },
        {
          "name": "stdout",
          "output_type": "stream",
          "text": [
            "Epoch 2, Val Loss: 0.16854294680747067, Val Accuracy: 0.95203025477707\n"
          ]
        },
        {
          "name": "stderr",
          "output_type": "stream",
          "text": [
            "100%|██████████| 938/938 [00:23<00:00, 40.19it/s, accuracy=0.906, loss=0.261, lr=0.00405]\n"
          ]
        },
        {
          "name": "stdout",
          "output_type": "stream",
          "text": [
            "Epoch 3, Val Loss: 0.1639676576859917, Val Accuracy: 0.9518312101910829\n"
          ]
        },
        {
          "name": "stderr",
          "output_type": "stream",
          "text": [
            "100%|██████████| 938/938 [00:22<00:00, 42.36it/s, accuracy=1, loss=0.0593, lr=0.00365]\n"
          ]
        },
        {
          "name": "stdout",
          "output_type": "stream",
          "text": [
            "Epoch 4, Val Loss: 0.14117965018554668, Val Accuracy: 0.9590963375796179\n"
          ]
        },
        {
          "name": "stderr",
          "output_type": "stream",
          "text": [
            "100%|██████████| 938/938 [00:23<00:00, 40.08it/s, accuracy=0.969, loss=0.121, lr=0.00328]\n"
          ]
        },
        {
          "name": "stdout",
          "output_type": "stream",
          "text": [
            "Epoch 5, Val Loss: 0.15480481572211927, Val Accuracy: 0.9540207006369427\n"
          ]
        },
        {
          "name": "stderr",
          "output_type": "stream",
          "text": [
            "100%|██████████| 938/938 [00:22<00:00, 42.05it/s, accuracy=0.969, loss=0.0829, lr=0.00295]\n"
          ]
        },
        {
          "name": "stdout",
          "output_type": "stream",
          "text": [
            "Epoch 6, Val Loss: 0.14425242121871204, Val Accuracy: 0.9579020700636943\n"
          ]
        },
        {
          "name": "stderr",
          "output_type": "stream",
          "text": [
            "100%|██████████| 938/938 [00:23<00:00, 39.20it/s, accuracy=0.969, loss=0.0701, lr=0.00266]\n"
          ]
        },
        {
          "name": "stdout",
          "output_type": "stream",
          "text": [
            "Epoch 7, Val Loss: 0.12336332388044258, Val Accuracy: 0.9663614649681529\n"
          ]
        },
        {
          "name": "stderr",
          "output_type": "stream",
          "text": [
            "100%|██████████| 938/938 [00:22<00:00, 42.05it/s, accuracy=1, loss=0.0457, lr=0.00239]\n"
          ]
        },
        {
          "name": "stdout",
          "output_type": "stream",
          "text": [
            "Epoch 8, Val Loss: 0.13385695705759773, Val Accuracy: 0.962281050955414\n"
          ]
        },
        {
          "name": "stderr",
          "output_type": "stream",
          "text": [
            "100%|██████████| 938/938 [00:24<00:00, 38.93it/s, accuracy=0.906, loss=0.208, lr=0.00215]\n"
          ]
        },
        {
          "name": "stdout",
          "output_type": "stream",
          "text": [
            "Epoch 9, Val Loss: 0.12439735361024927, Val Accuracy: 0.9646695859872612\n"
          ]
        },
        {
          "name": "stderr",
          "output_type": "stream",
          "text": [
            "100%|██████████| 938/938 [00:22<00:00, 41.85it/s, accuracy=0.938, loss=0.149, lr=0.00194]\n"
          ]
        },
        {
          "name": "stdout",
          "output_type": "stream",
          "text": [
            "Epoch 10, Val Loss: 0.11748674776179681, Val Accuracy: 0.9675557324840764\n"
          ]
        },
        {
          "name": "stderr",
          "output_type": "stream",
          "text": [
            "100%|██████████| 938/938 [00:24<00:00, 38.98it/s, accuracy=0.969, loss=0.119, lr=0.00174]\n"
          ]
        },
        {
          "name": "stdout",
          "output_type": "stream",
          "text": [
            "Epoch 11, Val Loss: 0.11518489028131411, Val Accuracy: 0.9686504777070064\n"
          ]
        },
        {
          "name": "stderr",
          "output_type": "stream",
          "text": [
            "100%|██████████| 938/938 [00:22<00:00, 41.74it/s, accuracy=1, loss=0.031, lr=0.00157]\n"
          ]
        },
        {
          "name": "stdout",
          "output_type": "stream",
          "text": [
            "Epoch 12, Val Loss: 0.10731408873181435, Val Accuracy: 0.9699442675159236\n"
          ]
        },
        {
          "name": "stderr",
          "output_type": "stream",
          "text": [
            "100%|██████████| 938/938 [00:24<00:00, 38.15it/s, accuracy=0.969, loss=0.0602, lr=0.00141]\n"
          ]
        },
        {
          "name": "stdout",
          "output_type": "stream",
          "text": [
            "Epoch 13, Val Loss: 0.11196864506075527, Val Accuracy: 0.9680533439490446\n"
          ]
        },
        {
          "name": "stderr",
          "output_type": "stream",
          "text": [
            "100%|██████████| 938/938 [00:22<00:00, 41.77it/s, accuracy=0.875, loss=0.301, lr=0.00127]\n"
          ]
        },
        {
          "name": "stdout",
          "output_type": "stream",
          "text": [
            "Epoch 14, Val Loss: 0.11465879138796382, Val Accuracy: 0.9705414012738853\n"
          ]
        },
        {
          "name": "stderr",
          "output_type": "stream",
          "text": [
            "100%|██████████| 938/938 [00:24<00:00, 38.94it/s, accuracy=1, loss=0.0612, lr=0.00114]\n"
          ]
        },
        {
          "name": "stdout",
          "output_type": "stream",
          "text": [
            "Epoch 15, Val Loss: 0.10812759520426678, Val Accuracy: 0.970640923566879\n"
          ]
        },
        {
          "name": "stderr",
          "output_type": "stream",
          "text": [
            "100%|██████████| 938/938 [00:22<00:00, 41.50it/s, accuracy=0.969, loss=0.129, lr=0.00103]\n"
          ]
        },
        {
          "name": "stdout",
          "output_type": "stream",
          "text": [
            "Epoch 16, Val Loss: 0.10841741458554367, Val Accuracy: 0.9701433121019108\n"
          ]
        },
        {
          "name": "stderr",
          "output_type": "stream",
          "text": [
            "100%|██████████| 938/938 [00:24<00:00, 38.73it/s, accuracy=0.969, loss=0.12, lr=0.000927]\n"
          ]
        },
        {
          "name": "stdout",
          "output_type": "stream",
          "text": [
            "Epoch 17, Val Loss: 0.10448223887201233, Val Accuracy: 0.9726313694267515\n"
          ]
        },
        {
          "name": "stderr",
          "output_type": "stream",
          "text": [
            "100%|██████████| 938/938 [00:22<00:00, 41.71it/s, accuracy=0.969, loss=0.0964, lr=0.000834]\n"
          ]
        },
        {
          "name": "stdout",
          "output_type": "stream",
          "text": [
            "Epoch 18, Val Loss: 0.09992885742051776, Val Accuracy: 0.9718351910828026\n"
          ]
        },
        {
          "name": "stderr",
          "output_type": "stream",
          "text": [
            "100%|██████████| 938/938 [00:24<00:00, 38.99it/s, accuracy=0.969, loss=0.0923, lr=0.00075]\n"
          ]
        },
        {
          "name": "stdout",
          "output_type": "stream",
          "text": [
            "Epoch 19, Val Loss: 0.09744099981839632, Val Accuracy: 0.972531847133758\n"
          ]
        },
        {
          "name": "stderr",
          "output_type": "stream",
          "text": [
            "100%|██████████| 938/938 [00:22<00:00, 42.21it/s, accuracy=1, loss=0.0526, lr=0.000675]\n"
          ]
        },
        {
          "name": "stdout",
          "output_type": "stream",
          "text": [
            "Epoch 20, Val Loss: 0.09976577397530816, Val Accuracy: 0.9729299363057324\n"
          ]
        },
        {
          "name": "stderr",
          "output_type": "stream",
          "text": [
            "100%|██████████| 938/938 [00:23<00:00, 39.26it/s, accuracy=0.938, loss=0.114, lr=0.000608]\n"
          ]
        },
        {
          "name": "stdout",
          "output_type": "stream",
          "text": [
            "Epoch 21, Val Loss: 0.0920053426514433, Val Accuracy: 0.9742237261146497\n"
          ]
        },
        {
          "name": "stderr",
          "output_type": "stream",
          "text": [
            "100%|██████████| 938/938 [00:22<00:00, 42.02it/s, accuracy=1, loss=0.0255, lr=0.000547]\n"
          ]
        },
        {
          "name": "stdout",
          "output_type": "stream",
          "text": [
            "Epoch 22, Val Loss: 0.09960236985260135, Val Accuracy: 0.9739251592356688\n"
          ]
        },
        {
          "name": "stderr",
          "output_type": "stream",
          "text": [
            "100%|██████████| 938/938 [00:23<00:00, 39.76it/s, accuracy=1, loss=0.046, lr=0.000492]\n"
          ]
        },
        {
          "name": "stdout",
          "output_type": "stream",
          "text": [
            "Epoch 23, Val Loss: 0.09200277970658888, Val Accuracy: 0.9748208598726115\n"
          ]
        },
        {
          "name": "stderr",
          "output_type": "stream",
          "text": [
            "100%|██████████| 938/938 [00:22<00:00, 42.03it/s, accuracy=0.969, loss=0.118, lr=0.000443]\n"
          ]
        },
        {
          "name": "stdout",
          "output_type": "stream",
          "text": [
            "Epoch 24, Val Loss: 0.09111258033722354, Val Accuracy: 0.9766122611464968\n"
          ]
        },
        {
          "name": "stderr",
          "output_type": "stream",
          "text": [
            "100%|██████████| 938/938 [00:23<00:00, 40.43it/s, accuracy=0.969, loss=0.134, lr=0.000399]\n"
          ]
        },
        {
          "name": "stdout",
          "output_type": "stream",
          "text": [
            "Epoch 25, Val Loss: 0.09161511840963155, Val Accuracy: 0.975218949044586\n"
          ]
        },
        {
          "name": "stderr",
          "output_type": "stream",
          "text": [
            "100%|██████████| 938/938 [00:22<00:00, 42.18it/s, accuracy=0.969, loss=0.0615, lr=0.000359]\n"
          ]
        },
        {
          "name": "stdout",
          "output_type": "stream",
          "text": [
            "Epoch 26, Val Loss: 0.08974201871663522, Val Accuracy: 0.9759156050955414\n"
          ]
        },
        {
          "name": "stderr",
          "output_type": "stream",
          "text": [
            "100%|██████████| 938/938 [00:22<00:00, 40.81it/s, accuracy=1, loss=0.0395, lr=0.000323]\n"
          ]
        },
        {
          "name": "stdout",
          "output_type": "stream",
          "text": [
            "Epoch 27, Val Loss: 0.08853745906892571, Val Accuracy: 0.9759156050955414\n"
          ]
        },
        {
          "name": "stderr",
          "output_type": "stream",
          "text": [
            "100%|██████████| 938/938 [00:22<00:00, 41.87it/s, accuracy=0.969, loss=0.152, lr=0.000291]\n"
          ]
        },
        {
          "name": "stdout",
          "output_type": "stream",
          "text": [
            "Epoch 28, Val Loss: 0.08567294006526566, Val Accuracy: 0.9765127388535032\n"
          ]
        },
        {
          "name": "stderr",
          "output_type": "stream",
          "text": [
            "100%|██████████| 938/938 [00:22<00:00, 41.07it/s, accuracy=1, loss=0.046, lr=0.000262]\n"
          ]
        },
        {
          "name": "stdout",
          "output_type": "stream",
          "text": [
            "Epoch 29, Val Loss: 0.08699365831603101, Val Accuracy: 0.9763136942675159\n"
          ]
        },
        {
          "name": "stderr",
          "output_type": "stream",
          "text": [
            "100%|██████████| 938/938 [00:22<00:00, 42.49it/s, accuracy=1, loss=0.0349, lr=0.000236]\n"
          ]
        },
        {
          "name": "stdout",
          "output_type": "stream",
          "text": [
            "Epoch 30, Val Loss: 0.08611599690500338, Val Accuracy: 0.9753184713375797\n"
          ]
        },
        {
          "name": "stderr",
          "output_type": "stream",
          "text": [
            "100%|██████████| 938/938 [00:23<00:00, 40.28it/s, accuracy=0.938, loss=0.247, lr=0.005]\n"
          ]
        },
        {
          "name": "stdout",
          "output_type": "stream",
          "text": [
            "Epoch 1, Val Loss: 0.20177650955286186, Val Accuracy: 0.9442675159235668\n"
          ]
        },
        {
          "name": "stderr",
          "output_type": "stream",
          "text": [
            "100%|██████████| 938/938 [00:22<00:00, 41.99it/s, accuracy=0.969, loss=0.22, lr=0.0045]\n"
          ]
        },
        {
          "name": "stdout",
          "output_type": "stream",
          "text": [
            "Epoch 2, Val Loss: 0.20239232961017234, Val Accuracy: 0.9463574840764332\n"
          ]
        },
        {
          "name": "stderr",
          "output_type": "stream",
          "text": [
            "100%|██████████| 938/938 [00:23<00:00, 39.68it/s, accuracy=0.938, loss=0.258, lr=0.00405]\n"
          ]
        },
        {
          "name": "stdout",
          "output_type": "stream",
          "text": [
            "Epoch 3, Val Loss: 0.19979547731768174, Val Accuracy: 0.9411823248407644\n"
          ]
        },
        {
          "name": "stderr",
          "output_type": "stream",
          "text": [
            "100%|██████████| 938/938 [00:22<00:00, 41.48it/s, accuracy=1, loss=0.0908, lr=0.00365]\n"
          ]
        },
        {
          "name": "stdout",
          "output_type": "stream",
          "text": [
            "Epoch 4, Val Loss: 0.16794602057427926, Val Accuracy: 0.9547173566878981\n"
          ]
        },
        {
          "name": "stderr",
          "output_type": "stream",
          "text": [
            "100%|██████████| 938/938 [00:24<00:00, 38.95it/s, accuracy=0.969, loss=0.172, lr=0.00328]\n"
          ]
        },
        {
          "name": "stdout",
          "output_type": "stream",
          "text": [
            "Epoch 5, Val Loss: 0.1779446882688126, Val Accuracy: 0.9511345541401274\n"
          ]
        },
        {
          "name": "stderr",
          "output_type": "stream",
          "text": [
            "100%|██████████| 938/938 [00:22<00:00, 41.19it/s, accuracy=0.969, loss=0.118, lr=0.00295]\n"
          ]
        },
        {
          "name": "stdout",
          "output_type": "stream",
          "text": [
            "Epoch 6, Val Loss: 0.17509896371062775, Val Accuracy: 0.9523288216560509\n"
          ]
        },
        {
          "name": "stderr",
          "output_type": "stream",
          "text": [
            "100%|██████████| 938/938 [00:24<00:00, 38.44it/s, accuracy=0.969, loss=0.11, lr=0.00266]\n"
          ]
        },
        {
          "name": "stdout",
          "output_type": "stream",
          "text": [
            "Epoch 7, Val Loss: 0.15357536321304216, Val Accuracy: 0.9616839171974523\n"
          ]
        },
        {
          "name": "stderr",
          "output_type": "stream",
          "text": [
            "100%|██████████| 938/938 [00:22<00:00, 41.23it/s, accuracy=1, loss=0.0809, lr=0.00239]\n"
          ]
        },
        {
          "name": "stdout",
          "output_type": "stream",
          "text": [
            "Epoch 8, Val Loss: 0.15966859193530622, Val Accuracy: 0.9572054140127388\n"
          ]
        },
        {
          "name": "stderr",
          "output_type": "stream",
          "text": [
            "100%|██████████| 938/938 [00:24<00:00, 38.65it/s, accuracy=0.938, loss=0.263, lr=0.00215]\n"
          ]
        },
        {
          "name": "stdout",
          "output_type": "stream",
          "text": [
            "Epoch 9, Val Loss: 0.1579312834663281, Val Accuracy: 0.957703025477707\n"
          ]
        },
        {
          "name": "stderr",
          "output_type": "stream",
          "text": [
            "100%|██████████| 938/938 [00:22<00:00, 41.64it/s, accuracy=0.906, loss=0.25, lr=0.00194]\n"
          ]
        },
        {
          "name": "stdout",
          "output_type": "stream",
          "text": [
            "Epoch 10, Val Loss: 0.15034477105423524, Val Accuracy: 0.961484872611465\n"
          ]
        },
        {
          "name": "stderr",
          "output_type": "stream",
          "text": [
            "100%|██████████| 938/938 [00:24<00:00, 38.87it/s, accuracy=0.938, loss=0.187, lr=0.00174]\n"
          ]
        },
        {
          "name": "stdout",
          "output_type": "stream",
          "text": [
            "Epoch 11, Val Loss: 0.1495739524816252, Val Accuracy: 0.963077229299363\n"
          ]
        },
        {
          "name": "stderr",
          "output_type": "stream",
          "text": [
            "100%|██████████| 938/938 [00:23<00:00, 40.48it/s, accuracy=1, loss=0.0599, lr=0.00157]\n"
          ]
        },
        {
          "name": "stdout",
          "output_type": "stream",
          "text": [
            "Epoch 12, Val Loss: 0.1403257873229635, Val Accuracy: 0.9631767515923567\n"
          ]
        },
        {
          "name": "stderr",
          "output_type": "stream",
          "text": [
            "100%|██████████| 938/938 [00:24<00:00, 37.73it/s, accuracy=0.938, loss=0.096, lr=0.00141]\n"
          ]
        },
        {
          "name": "stdout",
          "output_type": "stream",
          "text": [
            "Epoch 13, Val Loss: 0.1417549955391675, Val Accuracy: 0.9606886942675159\n"
          ]
        },
        {
          "name": "stderr",
          "output_type": "stream",
          "text": [
            "100%|██████████| 938/938 [00:23<00:00, 40.76it/s, accuracy=0.875, loss=0.438, lr=0.00127]\n"
          ]
        },
        {
          "name": "stdout",
          "output_type": "stream",
          "text": [
            "Epoch 14, Val Loss: 0.15002937400179683, Val Accuracy: 0.9633757961783439\n"
          ]
        },
        {
          "name": "stderr",
          "output_type": "stream",
          "text": [
            "100%|██████████| 938/938 [00:24<00:00, 38.19it/s, accuracy=0.969, loss=0.0934, lr=0.00114]\n"
          ]
        },
        {
          "name": "stdout",
          "output_type": "stream",
          "text": [
            "Epoch 15, Val Loss: 0.13499551491847464, Val Accuracy: 0.9664609872611465\n"
          ]
        },
        {
          "name": "stderr",
          "output_type": "stream",
          "text": [
            "100%|██████████| 938/938 [00:22<00:00, 41.08it/s, accuracy=0.969, loss=0.157, lr=0.00103]\n"
          ]
        },
        {
          "name": "stdout",
          "output_type": "stream",
          "text": [
            "Epoch 16, Val Loss: 0.13501308130539336, Val Accuracy: 0.9653662420382165\n"
          ]
        },
        {
          "name": "stderr",
          "output_type": "stream",
          "text": [
            "100%|██████████| 938/938 [00:24<00:00, 38.52it/s, accuracy=0.938, loss=0.173, lr=0.000927]\n"
          ]
        },
        {
          "name": "stdout",
          "output_type": "stream",
          "text": [
            "Epoch 17, Val Loss: 0.13425644499599743, Val Accuracy: 0.9652667197452229\n"
          ]
        },
        {
          "name": "stderr",
          "output_type": "stream",
          "text": [
            "100%|██████████| 938/938 [00:22<00:00, 41.33it/s, accuracy=0.969, loss=0.129, lr=0.000834]\n"
          ]
        },
        {
          "name": "stdout",
          "output_type": "stream",
          "text": [
            "Epoch 18, Val Loss: 0.12969098994093145, Val Accuracy: 0.9652667197452229\n"
          ]
        },
        {
          "name": "stderr",
          "output_type": "stream",
          "text": [
            "100%|██████████| 938/938 [00:24<00:00, 38.35it/s, accuracy=0.938, loss=0.164, lr=0.00075]\n"
          ]
        },
        {
          "name": "stdout",
          "output_type": "stream",
          "text": [
            "Epoch 19, Val Loss: 0.12436137439469529, Val Accuracy: 0.9692476114649682\n"
          ]
        },
        {
          "name": "stderr",
          "output_type": "stream",
          "text": [
            "100%|██████████| 938/938 [00:22<00:00, 41.25it/s, accuracy=0.969, loss=0.113, lr=0.000675]\n"
          ]
        },
        {
          "name": "stdout",
          "output_type": "stream",
          "text": [
            "Epoch 20, Val Loss: 0.12766997232012878, Val Accuracy: 0.9678542993630573\n"
          ]
        },
        {
          "name": "stderr",
          "output_type": "stream",
          "text": [
            "100%|██████████| 938/938 [00:24<00:00, 38.88it/s, accuracy=0.938, loss=0.124, lr=0.000608]\n"
          ]
        },
        {
          "name": "stdout",
          "output_type": "stream",
          "text": [
            "Epoch 21, Val Loss: 0.11969459507685558, Val Accuracy: 0.9690485668789809\n"
          ]
        },
        {
          "name": "stderr",
          "output_type": "stream",
          "text": [
            "100%|██████████| 938/938 [00:22<00:00, 41.67it/s, accuracy=1, loss=0.0486, lr=0.000547]\n"
          ]
        },
        {
          "name": "stdout",
          "output_type": "stream",
          "text": [
            "Epoch 22, Val Loss: 0.1280885796199084, Val Accuracy: 0.9688495222929936\n"
          ]
        },
        {
          "name": "stderr",
          "output_type": "stream",
          "text": [
            "100%|██████████| 938/938 [00:23<00:00, 39.10it/s, accuracy=1, loss=0.0515, lr=0.000492]\n"
          ]
        },
        {
          "name": "stdout",
          "output_type": "stream",
          "text": [
            "Epoch 23, Val Loss: 0.11922724523350217, Val Accuracy: 0.9702428343949044\n"
          ]
        },
        {
          "name": "stderr",
          "output_type": "stream",
          "text": [
            "100%|██████████| 938/938 [00:22<00:00, 41.76it/s, accuracy=0.969, loss=0.167, lr=0.000443]\n"
          ]
        },
        {
          "name": "stdout",
          "output_type": "stream",
          "text": [
            "Epoch 24, Val Loss: 0.11925792114536284, Val Accuracy: 0.9712380573248408\n"
          ]
        },
        {
          "name": "stderr",
          "output_type": "stream",
          "text": [
            "100%|██████████| 938/938 [00:24<00:00, 38.77it/s, accuracy=0.938, loss=0.195, lr=0.000399]\n"
          ]
        },
        {
          "name": "stdout",
          "output_type": "stream",
          "text": [
            "Epoch 25, Val Loss: 0.12244031013576848, Val Accuracy: 0.9695461783439491\n"
          ]
        },
        {
          "name": "stderr",
          "output_type": "stream",
          "text": [
            "100%|██████████| 938/938 [00:22<00:00, 41.42it/s, accuracy=0.969, loss=0.1, lr=0.000359]\n"
          ]
        },
        {
          "name": "stdout",
          "output_type": "stream",
          "text": [
            "Epoch 26, Val Loss: 0.11706302841757513, Val Accuracy: 0.9702428343949044\n"
          ]
        },
        {
          "name": "stderr",
          "output_type": "stream",
          "text": [
            "100%|██████████| 938/938 [00:23<00:00, 39.46it/s, accuracy=1, loss=0.0628, lr=0.000323]\n"
          ]
        },
        {
          "name": "stdout",
          "output_type": "stream",
          "text": [
            "Epoch 27, Val Loss: 0.11740283078401331, Val Accuracy: 0.9708399681528662\n"
          ]
        },
        {
          "name": "stderr",
          "output_type": "stream",
          "text": [
            "100%|██████████| 938/938 [00:22<00:00, 41.77it/s, accuracy=0.969, loss=0.183, lr=0.000291]\n"
          ]
        },
        {
          "name": "stdout",
          "output_type": "stream",
          "text": [
            "Epoch 28, Val Loss: 0.11356048542223159, Val Accuracy: 0.9709394904458599\n"
          ]
        },
        {
          "name": "stderr",
          "output_type": "stream",
          "text": [
            "100%|██████████| 938/938 [00:23<00:00, 39.11it/s, accuracy=1, loss=0.0972, lr=0.000262]\n"
          ]
        },
        {
          "name": "stdout",
          "output_type": "stream",
          "text": [
            "Epoch 29, Val Loss: 0.11403565490203109, Val Accuracy: 0.9712380573248408\n"
          ]
        },
        {
          "name": "stderr",
          "output_type": "stream",
          "text": [
            "100%|██████████| 938/938 [00:22<00:00, 41.43it/s, accuracy=1, loss=0.0556, lr=0.000236]\n"
          ]
        },
        {
          "name": "stdout",
          "output_type": "stream",
          "text": [
            "Epoch 30, Val Loss: 0.11431031055736599, Val Accuracy: 0.971437101910828\n"
          ]
        },
        {
          "name": "stderr",
          "output_type": "stream",
          "text": [
            "100%|██████████| 938/938 [00:23<00:00, 39.60it/s, accuracy=0.938, loss=0.254, lr=0.005]\n"
          ]
        },
        {
          "name": "stdout",
          "output_type": "stream",
          "text": [
            "Epoch 1, Val Loss: 0.23282031522719723, Val Accuracy: 0.9394904458598726\n"
          ]
        },
        {
          "name": "stderr",
          "output_type": "stream",
          "text": [
            "100%|██████████| 938/938 [00:22<00:00, 41.33it/s, accuracy=0.969, loss=0.257, lr=0.0045]\n"
          ]
        },
        {
          "name": "stdout",
          "output_type": "stream",
          "text": [
            "Epoch 2, Val Loss: 0.24726437957613331, Val Accuracy: 0.9321257961783439\n"
          ]
        },
        {
          "name": "stderr",
          "output_type": "stream",
          "text": [
            "100%|██████████| 938/938 [00:23<00:00, 39.54it/s, accuracy=0.938, loss=0.262, lr=0.00405]\n"
          ]
        },
        {
          "name": "stdout",
          "output_type": "stream",
          "text": [
            "Epoch 3, Val Loss: 0.2226780603230474, Val Accuracy: 0.9367038216560509\n"
          ]
        },
        {
          "name": "stderr",
          "output_type": "stream",
          "text": [
            "100%|██████████| 938/938 [00:22<00:00, 41.55it/s, accuracy=0.969, loss=0.123, lr=0.00365]\n"
          ]
        },
        {
          "name": "stdout",
          "output_type": "stream",
          "text": [
            "Epoch 4, Val Loss: 0.20311383025091925, Val Accuracy: 0.943968949044586\n"
          ]
        },
        {
          "name": "stderr",
          "output_type": "stream",
          "text": [
            "100%|██████████| 938/938 [00:23<00:00, 40.19it/s, accuracy=0.938, loss=0.223, lr=0.00328]\n"
          ]
        },
        {
          "name": "stdout",
          "output_type": "stream",
          "text": [
            "Epoch 5, Val Loss: 0.21654320103679872, Val Accuracy: 0.9410828025477707\n"
          ]
        },
        {
          "name": "stderr",
          "output_type": "stream",
          "text": [
            "100%|██████████| 938/938 [00:22<00:00, 40.98it/s, accuracy=0.969, loss=0.131, lr=0.00295]\n"
          ]
        },
        {
          "name": "stdout",
          "output_type": "stream",
          "text": [
            "Epoch 6, Val Loss: 0.19771578359850653, Val Accuracy: 0.9461584394904459\n"
          ]
        },
        {
          "name": "stderr",
          "output_type": "stream",
          "text": [
            "100%|██████████| 938/938 [00:23<00:00, 39.87it/s, accuracy=0.969, loss=0.155, lr=0.00266]\n"
          ]
        },
        {
          "name": "stdout",
          "output_type": "stream",
          "text": [
            "Epoch 7, Val Loss: 0.17982994298788774, Val Accuracy: 0.9557125796178344\n"
          ]
        },
        {
          "name": "stderr",
          "output_type": "stream",
          "text": [
            "100%|██████████| 938/938 [00:22<00:00, 41.24it/s, accuracy=1, loss=0.0955, lr=0.00239]\n"
          ]
        },
        {
          "name": "stdout",
          "output_type": "stream",
          "text": [
            "Epoch 8, Val Loss: 0.18271521580328418, Val Accuracy: 0.9539211783439491\n"
          ]
        },
        {
          "name": "stderr",
          "output_type": "stream",
          "text": [
            "100%|██████████| 938/938 [00:23<00:00, 39.19it/s, accuracy=0.906, loss=0.316, lr=0.00215]\n"
          ]
        },
        {
          "name": "stdout",
          "output_type": "stream",
          "text": [
            "Epoch 9, Val Loss: 0.17922934017790731, Val Accuracy: 0.9559116242038217\n"
          ]
        },
        {
          "name": "stderr",
          "output_type": "stream",
          "text": [
            "100%|██████████| 938/938 [00:22<00:00, 40.87it/s, accuracy=0.906, loss=0.276, lr=0.00194]\n"
          ]
        },
        {
          "name": "stdout",
          "output_type": "stream",
          "text": [
            "Epoch 10, Val Loss: 0.1785498066763779, Val Accuracy: 0.9556130573248408\n"
          ]
        },
        {
          "name": "stderr",
          "output_type": "stream",
          "text": [
            "100%|██████████| 938/938 [00:24<00:00, 38.87it/s, accuracy=0.938, loss=0.224, lr=0.00174]\n"
          ]
        },
        {
          "name": "stdout",
          "output_type": "stream",
          "text": [
            "Epoch 11, Val Loss: 0.19022621308115256, Val Accuracy: 0.9519307324840764\n"
          ]
        },
        {
          "name": "stderr",
          "output_type": "stream",
          "text": [
            "100%|██████████| 938/938 [00:22<00:00, 41.16it/s, accuracy=1, loss=0.0885, lr=0.00157]\n"
          ]
        },
        {
          "name": "stdout",
          "output_type": "stream",
          "text": [
            "Epoch 12, Val Loss: 0.17949304554113157, Val Accuracy: 0.9543192675159236\n"
          ]
        },
        {
          "name": "stderr",
          "output_type": "stream",
          "text": [
            "100%|██████████| 938/938 [00:24<00:00, 38.97it/s, accuracy=0.969, loss=0.103, lr=0.00141]\n"
          ]
        },
        {
          "name": "stdout",
          "output_type": "stream",
          "text": [
            "Epoch 13, Val Loss: 0.17154133097998275, Val Accuracy: 0.9555135350318471\n"
          ]
        },
        {
          "name": "stderr",
          "output_type": "stream",
          "text": [
            "100%|██████████| 938/938 [00:22<00:00, 40.81it/s, accuracy=0.812, loss=0.46, lr=0.00127]\n"
          ]
        },
        {
          "name": "stdout",
          "output_type": "stream",
          "text": [
            "Epoch 14, Val Loss: 0.17509578101953882, Val Accuracy: 0.9582006369426752\n"
          ]
        },
        {
          "name": "stderr",
          "output_type": "stream",
          "text": [
            "100%|██████████| 938/938 [00:23<00:00, 39.15it/s, accuracy=0.938, loss=0.118, lr=0.00114]\n"
          ]
        },
        {
          "name": "stdout",
          "output_type": "stream",
          "text": [
            "Epoch 15, Val Loss: 0.16069478848889754, Val Accuracy: 0.9610867834394905\n"
          ]
        },
        {
          "name": "stderr",
          "output_type": "stream",
          "text": [
            "100%|██████████| 938/938 [00:22<00:00, 41.38it/s, accuracy=0.938, loss=0.181, lr=0.00103]\n"
          ]
        },
        {
          "name": "stdout",
          "output_type": "stream",
          "text": [
            "Epoch 16, Val Loss: 0.16688324225129217, Val Accuracy: 0.9573049363057324\n"
          ]
        },
        {
          "name": "stderr",
          "output_type": "stream",
          "text": [
            "100%|██████████| 938/938 [00:23<00:00, 39.39it/s, accuracy=0.969, loss=0.204, lr=0.000927]\n"
          ]
        },
        {
          "name": "stdout",
          "output_type": "stream",
          "text": [
            "Epoch 17, Val Loss: 0.16420964225177553, Val Accuracy: 0.9586982484076433\n"
          ]
        },
        {
          "name": "stderr",
          "output_type": "stream",
          "text": [
            "100%|██████████| 938/938 [00:22<00:00, 40.81it/s, accuracy=0.938, loss=0.16, lr=0.000834]\n"
          ]
        },
        {
          "name": "stdout",
          "output_type": "stream",
          "text": [
            "Epoch 18, Val Loss: 0.1590631007139755, Val Accuracy: 0.959593949044586\n"
          ]
        },
        {
          "name": "stderr",
          "output_type": "stream",
          "text": [
            "100%|██████████| 938/938 [00:24<00:00, 39.07it/s, accuracy=0.906, loss=0.24, lr=0.00075]\n"
          ]
        },
        {
          "name": "stdout",
          "output_type": "stream",
          "text": [
            "Epoch 19, Val Loss: 0.1535962568773965, Val Accuracy: 0.9624800955414012\n"
          ]
        },
        {
          "name": "stderr",
          "output_type": "stream",
          "text": [
            "100%|██████████| 938/938 [00:22<00:00, 41.00it/s, accuracy=0.969, loss=0.156, lr=0.000675]\n"
          ]
        },
        {
          "name": "stdout",
          "output_type": "stream",
          "text": [
            "Epoch 20, Val Loss: 0.15754390417770214, Val Accuracy: 0.9616839171974523\n"
          ]
        },
        {
          "name": "stderr",
          "output_type": "stream",
          "text": [
            "100%|██████████| 938/938 [00:23<00:00, 39.48it/s, accuracy=0.938, loss=0.147, lr=0.000608]\n"
          ]
        },
        {
          "name": "stdout",
          "output_type": "stream",
          "text": [
            "Epoch 21, Val Loss: 0.14807286225615224, Val Accuracy: 0.9643710191082803\n"
          ]
        },
        {
          "name": "stderr",
          "output_type": "stream",
          "text": [
            "100%|██████████| 938/938 [00:22<00:00, 41.11it/s, accuracy=1, loss=0.0737, lr=0.000547]\n"
          ]
        },
        {
          "name": "stdout",
          "output_type": "stream",
          "text": [
            "Epoch 22, Val Loss: 0.15508104091403402, Val Accuracy: 0.9644705414012739\n"
          ]
        },
        {
          "name": "stderr",
          "output_type": "stream",
          "text": [
            "100%|██████████| 938/938 [00:23<00:00, 39.80it/s, accuracy=1, loss=0.0722, lr=0.000492]\n"
          ]
        },
        {
          "name": "stdout",
          "output_type": "stream",
          "text": [
            "Epoch 23, Val Loss: 0.14735778383198816, Val Accuracy: 0.964171974522293\n"
          ]
        },
        {
          "name": "stderr",
          "output_type": "stream",
          "text": [
            "100%|██████████| 938/938 [00:23<00:00, 40.69it/s, accuracy=0.969, loss=0.202, lr=0.000443]\n"
          ]
        },
        {
          "name": "stdout",
          "output_type": "stream",
          "text": [
            "Epoch 24, Val Loss: 0.14783210261683366, Val Accuracy: 0.964968152866242\n"
          ]
        },
        {
          "name": "stderr",
          "output_type": "stream",
          "text": [
            "100%|██████████| 938/938 [00:23<00:00, 39.76it/s, accuracy=0.938, loss=0.236, lr=0.000399]\n"
          ]
        },
        {
          "name": "stdout",
          "output_type": "stream",
          "text": [
            "Epoch 25, Val Loss: 0.152221064848505, Val Accuracy: 0.9623805732484076\n"
          ]
        },
        {
          "name": "stderr",
          "output_type": "stream",
          "text": [
            "100%|██████████| 938/938 [00:22<00:00, 41.08it/s, accuracy=0.969, loss=0.125, lr=0.000359]\n"
          ]
        },
        {
          "name": "stdout",
          "output_type": "stream",
          "text": [
            "Epoch 26, Val Loss: 0.14563088801802154, Val Accuracy: 0.9664609872611465\n"
          ]
        },
        {
          "name": "stderr",
          "output_type": "stream",
          "text": [
            "100%|██████████| 938/938 [00:24<00:00, 38.74it/s, accuracy=1, loss=0.0996, lr=0.000323]\n"
          ]
        },
        {
          "name": "stdout",
          "output_type": "stream",
          "text": [
            "Epoch 27, Val Loss: 0.1459683581332492, Val Accuracy: 0.9654657643312102\n"
          ]
        },
        {
          "name": "stderr",
          "output_type": "stream",
          "text": [
            "100%|██████████| 938/938 [00:23<00:00, 40.74it/s, accuracy=0.938, loss=0.214, lr=0.000291]\n"
          ]
        },
        {
          "name": "stdout",
          "output_type": "stream",
          "text": [
            "Epoch 28, Val Loss: 0.14144248596042586, Val Accuracy: 0.9653662420382165\n"
          ]
        },
        {
          "name": "stderr",
          "output_type": "stream",
          "text": [
            "100%|██████████| 938/938 [00:24<00:00, 38.73it/s, accuracy=1, loss=0.138, lr=0.000262]\n"
          ]
        },
        {
          "name": "stdout",
          "output_type": "stream",
          "text": [
            "Epoch 29, Val Loss: 0.14152032512412138, Val Accuracy: 0.9657643312101911\n"
          ]
        },
        {
          "name": "stderr",
          "output_type": "stream",
          "text": [
            "100%|██████████| 938/938 [00:22<00:00, 40.96it/s, accuracy=1, loss=0.0805, lr=0.000236]\n"
          ]
        },
        {
          "name": "stdout",
          "output_type": "stream",
          "text": [
            "Epoch 30, Val Loss: 0.14114037508465302, Val Accuracy: 0.9665605095541401\n"
          ]
        }
      ],
      "source": [
        "epochs = 30\n",
        "wds = [0.01, 0.1, 0.25, 0.5, 0.75, 1.]\n",
        "wd_accs = np.empty((6, epochs))\n",
        "for h, wd in enumerate(wds):\n",
        "    torch.manual_seed(42)\n",
        "    best_acc = 0\n",
        "    # Define model\n",
        "    model = KAN(layers_hidden=[28 * 28, 64, 10], grid_size=8)\n",
        "    device = torch.device(\"cuda\" if torch.cuda.is_available() else \"cpu\")\n",
        "    model.to(device)\n",
        "    # Define optimizer\n",
        "    optimizer = optim.AdamW(model.parameters(), lr=5e-3, weight_decay=wd)\n",
        "    # Define learning rate scheduler\n",
        "    scheduler = optim.lr_scheduler.ExponentialLR(optimizer, gamma=0.9)\n",
        "\n",
        "    # Define loss\n",
        "    criterion = nn.CrossEntropyLoss()\n",
        "    for epoch in range(epochs):\n",
        "        # Train\n",
        "        model.train()\n",
        "        with tqdm(train_loader) as pbar:\n",
        "            for i, (images, labels) in enumerate(pbar):\n",
        "                images = images.view(-1, 28 * 28).to(device)\n",
        "                optimizer.zero_grad()\n",
        "                output = model(images)\n",
        "                loss = criterion(output, labels.to(device))\n",
        "                loss.backward()\n",
        "                optimizer.step()\n",
        "                accuracy = (output.argmax(dim=1) == labels.to(device)).float().mean()\n",
        "                pbar.set_postfix(loss=loss.item(), accuracy=accuracy.item(), lr=optimizer.param_groups[0]['lr'])\n",
        "\n",
        "        # Validation\n",
        "        model.eval()\n",
        "        val_loss = 0\n",
        "        val_accuracy = 0\n",
        "        with torch.no_grad():\n",
        "            for images, labels in val_loader:\n",
        "                images = images.view(-1, 28 * 28).to(device)\n",
        "                output = model(images)\n",
        "                val_loss += criterion(output, labels.to(device)).item()\n",
        "                val_accuracy += (\n",
        "                    (output.argmax(dim=1) == labels.to(device)).float().mean().item()\n",
        "                )\n",
        "\n",
        "        val_loss /= len(val_loader)\n",
        "        val_accuracy /= len(val_loader)\n",
        "        wd_accs[h, epoch] = val_accuracy\n",
        "\n",
        "        # Update learning rate\n",
        "        scheduler.step()\n",
        "\n",
        "        print(\n",
        "            f\"Epoch {epoch + 1}, Val Loss: {val_loss}, Val Accuracy: {val_accuracy}\"\n",
        "        )"
      ]
    },
    {
      "cell_type": "code",
      "execution_count": null,
      "metadata": {
        "colab": {
          "background_save": true
        },
        "id": "UvJ4YGFGdyui",
        "outputId": "147b86e8-8cf0-4fbc-94a3-e9121722fbab"
      },
      "outputs": [
        {
          "name": "stderr",
          "output_type": "stream",
          "text": [
            "100%|██████████| 938/938 [00:23<00:00, 40.55it/s, accuracy=0.875, loss=0.318, lr=0.005]\n"
          ]
        },
        {
          "name": "stdout",
          "output_type": "stream",
          "text": [
            "Epoch 1, Val Loss: 0.21099451413247616, Val Accuracy: 0.9387, Precision: 0.9397798317873086, Recall: 0.9387, F1 Score: 0.938746202728289\n"
          ]
        },
        {
          "name": "stderr",
          "output_type": "stream",
          "text": [
            "100%|██████████| 938/938 [00:21<00:00, 43.69it/s, accuracy=0.938, loss=0.254, lr=0.0045]\n"
          ]
        },
        {
          "name": "stdout",
          "output_type": "stream",
          "text": [
            "Epoch 2, Val Loss: 0.18129041401527016, Val Accuracy: 0.9423, Precision: 0.9428686653245404, Recall: 0.9423, F1 Score: 0.9422563681420061\n"
          ]
        },
        {
          "name": "stderr",
          "output_type": "stream",
          "text": [
            "100%|██████████| 938/938 [00:22<00:00, 40.99it/s, accuracy=0.969, loss=0.0552, lr=0.00405]\n"
          ]
        },
        {
          "name": "stdout",
          "output_type": "stream",
          "text": [
            "Epoch 3, Val Loss: 0.18731687245979478, Val Accuracy: 0.9451, Precision: 0.9458194264359263, Recall: 0.9451, F1 Score: 0.9448844896503031\n"
          ]
        },
        {
          "name": "stderr",
          "output_type": "stream",
          "text": [
            "100%|██████████| 938/938 [00:21<00:00, 44.15it/s, accuracy=1, loss=0.0247, lr=0.00365]\n"
          ]
        },
        {
          "name": "stdout",
          "output_type": "stream",
          "text": [
            "Epoch 4, Val Loss: 0.16336872061317087, Val Accuracy: 0.9518, Precision: 0.9523710908230778, Recall: 0.9518, F1 Score: 0.951825018304503\n"
          ]
        },
        {
          "name": "stderr",
          "output_type": "stream",
          "text": [
            "100%|██████████| 938/938 [00:22<00:00, 41.29it/s, accuracy=0.938, loss=0.257, lr=0.00328]\n"
          ]
        },
        {
          "name": "stdout",
          "output_type": "stream",
          "text": [
            "Epoch 5, Val Loss: 0.1689411462736939, Val Accuracy: 0.9522, Precision: 0.9524868129261489, Recall: 0.9522, F1 Score: 0.9521176452812457\n"
          ]
        },
        {
          "name": "stderr",
          "output_type": "stream",
          "text": [
            "100%|██████████| 938/938 [00:21<00:00, 43.90it/s, accuracy=0.906, loss=0.127, lr=0.00295]\n"
          ]
        },
        {
          "name": "stdout",
          "output_type": "stream",
          "text": [
            "Epoch 6, Val Loss: 0.1594034709209861, Val Accuracy: 0.9565, Precision: 0.9567303371530957, Recall: 0.9565, F1 Score: 0.9564776562506915\n"
          ]
        },
        {
          "name": "stderr",
          "output_type": "stream",
          "text": [
            "100%|██████████| 938/938 [00:22<00:00, 42.02it/s, accuracy=0.938, loss=0.213, lr=0.00266]\n"
          ]
        },
        {
          "name": "stdout",
          "output_type": "stream",
          "text": [
            "Epoch 7, Val Loss: 0.17288105653515115, Val Accuracy: 0.9513, Precision: 0.9522109187229327, Recall: 0.9513, F1 Score: 0.9512178631113549\n"
          ]
        },
        {
          "name": "stderr",
          "output_type": "stream",
          "text": [
            "100%|██████████| 938/938 [00:21<00:00, 44.12it/s, accuracy=1, loss=0.0108, lr=0.00239]\n"
          ]
        },
        {
          "name": "stdout",
          "output_type": "stream",
          "text": [
            "Epoch 8, Val Loss: 0.17155517998079556, Val Accuracy: 0.9549, Precision: 0.9552696019311894, Recall: 0.9549, F1 Score: 0.9549100570668579\n"
          ]
        },
        {
          "name": "stderr",
          "output_type": "stream",
          "text": [
            "100%|██████████| 938/938 [00:22<00:00, 41.11it/s, accuracy=1, loss=0.0054, lr=0.00215]\n"
          ]
        },
        {
          "name": "stdout",
          "output_type": "stream",
          "text": [
            "Epoch 9, Val Loss: 0.1677098747307233, Val Accuracy: 0.9553, Precision: 0.9555321439238958, Recall: 0.9553, F1 Score: 0.9553108281914632\n"
          ]
        },
        {
          "name": "stderr",
          "output_type": "stream",
          "text": [
            "100%|██████████| 938/938 [00:21<00:00, 44.21it/s, accuracy=0.969, loss=0.0637, lr=0.00194]\n"
          ]
        },
        {
          "name": "stdout",
          "output_type": "stream",
          "text": [
            "Epoch 10, Val Loss: 0.16680271271097172, Val Accuracy: 0.9568, Precision: 0.9570769853262447, Recall: 0.9568, F1 Score: 0.9567972622329595\n"
          ]
        },
        {
          "name": "stderr",
          "output_type": "stream",
          "text": [
            "100%|██████████| 938/938 [00:23<00:00, 40.12it/s, accuracy=1, loss=0.00291, lr=0.00174]\n"
          ]
        },
        {
          "name": "stdout",
          "output_type": "stream",
          "text": [
            "Epoch 11, Val Loss: 0.17891135737424121, Val Accuracy: 0.9555, Precision: 0.955555161321895, Recall: 0.9555, F1 Score: 0.9554115295464682\n"
          ]
        },
        {
          "name": "stderr",
          "output_type": "stream",
          "text": [
            "100%|██████████| 938/938 [00:21<00:00, 44.25it/s, accuracy=1, loss=0.000973, lr=0.00157]\n"
          ]
        },
        {
          "name": "stdout",
          "output_type": "stream",
          "text": [
            "Epoch 12, Val Loss: 0.1866977959696808, Val Accuracy: 0.9541, Precision: 0.9542718273209433, Recall: 0.9541, F1 Score: 0.9540745516994011\n"
          ]
        },
        {
          "name": "stderr",
          "output_type": "stream",
          "text": [
            "100%|██████████| 938/938 [00:22<00:00, 41.28it/s, accuracy=1, loss=0.00597, lr=0.00141]\n"
          ]
        },
        {
          "name": "stdout",
          "output_type": "stream",
          "text": [
            "Epoch 13, Val Loss: 0.1882414411203363, Val Accuracy: 0.9555, Precision: 0.9555101244493426, Recall: 0.9555, F1 Score: 0.9554712765282826\n"
          ]
        },
        {
          "name": "stderr",
          "output_type": "stream",
          "text": [
            "100%|██████████| 938/938 [00:21<00:00, 43.88it/s, accuracy=1, loss=0.00878, lr=0.00127]\n"
          ]
        },
        {
          "name": "stdout",
          "output_type": "stream",
          "text": [
            "Epoch 14, Val Loss: 0.19922871052774685, Val Accuracy: 0.9531, Precision: 0.9535528451885151, Recall: 0.9531, F1 Score: 0.9531042357654703\n"
          ]
        },
        {
          "name": "stderr",
          "output_type": "stream",
          "text": [
            "100%|██████████| 938/938 [00:23<00:00, 40.38it/s, accuracy=1, loss=0.00249, lr=0.00114]\n"
          ]
        },
        {
          "name": "stdout",
          "output_type": "stream",
          "text": [
            "Epoch 15, Val Loss: 0.20552495897563686, Val Accuracy: 0.9543, Precision: 0.9547520701778865, Recall: 0.9543, F1 Score: 0.9543513440172569\n"
          ]
        },
        {
          "name": "stderr",
          "output_type": "stream",
          "text": [
            "100%|██████████| 938/938 [00:21<00:00, 43.08it/s, accuracy=1, loss=0.016, lr=0.00103]\n"
          ]
        },
        {
          "name": "stdout",
          "output_type": "stream",
          "text": [
            "Epoch 16, Val Loss: 0.210653464857387, Val Accuracy: 0.9535, Precision: 0.9536495814173324, Recall: 0.9535, F1 Score: 0.953481552407692\n"
          ]
        },
        {
          "name": "stderr",
          "output_type": "stream",
          "text": [
            "100%|██████████| 938/938 [00:22<00:00, 41.47it/s, accuracy=1, loss=0.00364, lr=0.000927]\n"
          ]
        },
        {
          "name": "stdout",
          "output_type": "stream",
          "text": [
            "Epoch 17, Val Loss: 0.20885052736270687, Val Accuracy: 0.9559, Precision: 0.9560269940456666, Recall: 0.9559, F1 Score: 0.955887914793305\n"
          ]
        },
        {
          "name": "stderr",
          "output_type": "stream",
          "text": [
            "100%|██████████| 938/938 [00:21<00:00, 43.56it/s, accuracy=0.969, loss=0.0255, lr=0.000834]\n"
          ]
        },
        {
          "name": "stdout",
          "output_type": "stream",
          "text": [
            "Epoch 18, Val Loss: 0.217205327900006, Val Accuracy: 0.9552, Precision: 0.9554609820231024, Recall: 0.9552, F1 Score: 0.9551781456301486\n"
          ]
        },
        {
          "name": "stderr",
          "output_type": "stream",
          "text": [
            "100%|██████████| 938/938 [00:22<00:00, 41.11it/s, accuracy=1, loss=0.000873, lr=0.00075]\n"
          ]
        },
        {
          "name": "stdout",
          "output_type": "stream",
          "text": [
            "Epoch 19, Val Loss: 0.216309794762675, Val Accuracy: 0.9535, Precision: 0.9537360754916614, Recall: 0.9535, F1 Score: 0.9535139271404897\n"
          ]
        },
        {
          "name": "stderr",
          "output_type": "stream",
          "text": [
            "100%|██████████| 938/938 [00:21<00:00, 43.56it/s, accuracy=1, loss=0.00163, lr=0.000675]\n"
          ]
        },
        {
          "name": "stdout",
          "output_type": "stream",
          "text": [
            "Epoch 20, Val Loss: 0.2218394408846275, Val Accuracy: 0.9558, Precision: 0.9558410517533874, Recall: 0.9558, F1 Score: 0.9557938252538195\n"
          ]
        },
        {
          "name": "stderr",
          "output_type": "stream",
          "text": [
            "100%|██████████| 938/938 [00:23<00:00, 40.57it/s, accuracy=1, loss=0.00053, lr=0.000608]\n"
          ]
        },
        {
          "name": "stdout",
          "output_type": "stream",
          "text": [
            "Epoch 21, Val Loss: 0.22917132828859824, Val Accuracy: 0.9559, Precision: 0.9559768744065493, Recall: 0.9559, F1 Score: 0.9558501489963926\n"
          ]
        },
        {
          "name": "stderr",
          "output_type": "stream",
          "text": [
            "100%|██████████| 938/938 [00:21<00:00, 43.25it/s, accuracy=1, loss=0.000908, lr=0.000547]\n"
          ]
        },
        {
          "name": "stdout",
          "output_type": "stream",
          "text": [
            "Epoch 22, Val Loss: 0.2337703577917214, Val Accuracy: 0.9555, Precision: 0.9555269952735753, Recall: 0.9555, F1 Score: 0.9554709351360505\n"
          ]
        },
        {
          "name": "stderr",
          "output_type": "stream",
          "text": [
            "100%|██████████| 938/938 [00:23<00:00, 40.74it/s, accuracy=1, loss=0.000458, lr=0.000492]\n"
          ]
        },
        {
          "name": "stdout",
          "output_type": "stream",
          "text": [
            "Epoch 23, Val Loss: 0.23639666369588053, Val Accuracy: 0.955, Precision: 0.9550188270835528, Recall: 0.955, F1 Score: 0.9549719956706824\n"
          ]
        },
        {
          "name": "stderr",
          "output_type": "stream",
          "text": [
            "100%|██████████| 938/938 [00:21<00:00, 43.52it/s, accuracy=1, loss=0.000737, lr=0.000443]\n"
          ]
        },
        {
          "name": "stdout",
          "output_type": "stream",
          "text": [
            "Epoch 24, Val Loss: 0.23724805095845145, Val Accuracy: 0.9557, Precision: 0.9556915456363028, Recall: 0.9557, F1 Score: 0.9556751178794368\n"
          ]
        },
        {
          "name": "stderr",
          "output_type": "stream",
          "text": [
            "100%|██████████| 938/938 [00:22<00:00, 40.96it/s, accuracy=1, loss=0.00029, lr=0.000399]\n"
          ]
        },
        {
          "name": "stdout",
          "output_type": "stream",
          "text": [
            "Epoch 25, Val Loss: 0.24210719548991336, Val Accuracy: 0.9563, Precision: 0.9563218270822845, Recall: 0.9563, F1 Score: 0.9562822847071925\n"
          ]
        },
        {
          "name": "stderr",
          "output_type": "stream",
          "text": [
            "100%|██████████| 938/938 [00:21<00:00, 43.64it/s, accuracy=1, loss=0.00127, lr=0.000359]\n"
          ]
        },
        {
          "name": "stdout",
          "output_type": "stream",
          "text": [
            "Epoch 26, Val Loss: 0.24953421014417146, Val Accuracy: 0.9556, Precision: 0.9556133742061204, Recall: 0.9556, F1 Score: 0.9555693872024472\n"
          ]
        },
        {
          "name": "stderr",
          "output_type": "stream",
          "text": [
            "100%|██████████| 938/938 [00:22<00:00, 41.24it/s, accuracy=1, loss=0.000566, lr=0.000323]\n"
          ]
        },
        {
          "name": "stdout",
          "output_type": "stream",
          "text": [
            "Epoch 27, Val Loss: 0.25216849197326874, Val Accuracy: 0.9561, Precision: 0.9561189701107172, Recall: 0.9561, F1 Score: 0.9560726725838483\n"
          ]
        },
        {
          "name": "stderr",
          "output_type": "stream",
          "text": [
            "100%|██████████| 938/938 [00:21<00:00, 43.64it/s, accuracy=1, loss=7.59e-5, lr=0.000291]\n"
          ]
        },
        {
          "name": "stdout",
          "output_type": "stream",
          "text": [
            "Epoch 28, Val Loss: 0.2543359801040524, Val Accuracy: 0.9563, Precision: 0.9563001761240008, Recall: 0.9563, F1 Score: 0.9562675938526661\n"
          ]
        },
        {
          "name": "stderr",
          "output_type": "stream",
          "text": [
            "100%|██████████| 938/938 [00:23<00:00, 40.69it/s, accuracy=1, loss=0.000549, lr=0.000262]\n"
          ]
        },
        {
          "name": "stdout",
          "output_type": "stream",
          "text": [
            "Epoch 29, Val Loss: 0.2597297964051836, Val Accuracy: 0.9557, Precision: 0.9557481551671672, Recall: 0.9557, F1 Score: 0.9556922544675494\n"
          ]
        },
        {
          "name": "stderr",
          "output_type": "stream",
          "text": [
            "100%|██████████| 938/938 [00:21<00:00, 42.92it/s, accuracy=1, loss=0.000126, lr=0.000236]\n"
          ]
        },
        {
          "name": "stdout",
          "output_type": "stream",
          "text": [
            "Epoch 30, Val Loss: 0.264666061403641, Val Accuracy: 0.9556, Precision: 0.9555778568662016, Recall: 0.9556, F1 Score: 0.9555671398491202\n"
          ]
        },
        {
          "name": "stderr",
          "output_type": "stream",
          "text": [
            "100%|██████████| 938/938 [00:22<00:00, 41.83it/s, accuracy=1, loss=0.0613, lr=0.005]\n"
          ]
        },
        {
          "name": "stdout",
          "output_type": "stream",
          "text": [
            "Epoch 1, Val Loss: 0.1797527990713241, Val Accuracy: 0.9463, Precision: 0.9474987008542033, Recall: 0.9463, F1 Score: 0.9463323311326379\n"
          ]
        },
        {
          "name": "stderr",
          "output_type": "stream",
          "text": [
            "100%|██████████| 938/938 [00:21<00:00, 43.82it/s, accuracy=1, loss=0.019, lr=0.0045]\n"
          ]
        },
        {
          "name": "stdout",
          "output_type": "stream",
          "text": [
            "Epoch 2, Val Loss: 0.13566641955025446, Val Accuracy: 0.962, Precision: 0.9622101697776576, Recall: 0.962, F1 Score: 0.9619814589676485\n"
          ]
        },
        {
          "name": "stderr",
          "output_type": "stream",
          "text": [
            "100%|██████████| 938/938 [00:22<00:00, 41.10it/s, accuracy=0.969, loss=0.0752, lr=0.00405]\n"
          ]
        },
        {
          "name": "stdout",
          "output_type": "stream",
          "text": [
            "Epoch 3, Val Loss: 0.14816354867997786, Val Accuracy: 0.9549, Precision: 0.9556215494178355, Recall: 0.9549, F1 Score: 0.9548844589663131\n"
          ]
        },
        {
          "name": "stderr",
          "output_type": "stream",
          "text": [
            "100%|██████████| 938/938 [00:21<00:00, 43.62it/s, accuracy=0.969, loss=0.0374, lr=0.00365]\n"
          ]
        },
        {
          "name": "stdout",
          "output_type": "stream",
          "text": [
            "Epoch 4, Val Loss: 0.160007789039578, Val Accuracy: 0.954, Precision: 0.9549868485644111, Recall: 0.954, F1 Score: 0.9538152869077169\n"
          ]
        },
        {
          "name": "stderr",
          "output_type": "stream",
          "text": [
            "100%|██████████| 938/938 [00:23<00:00, 40.03it/s, accuracy=1, loss=0.0182, lr=0.00328]\n"
          ]
        },
        {
          "name": "stdout",
          "output_type": "stream",
          "text": [
            "Epoch 5, Val Loss: 0.1313056857054953, Val Accuracy: 0.9662, Precision: 0.9664844160833506, Recall: 0.9662, F1 Score: 0.9661526338397938\n"
          ]
        },
        {
          "name": "stderr",
          "output_type": "stream",
          "text": [
            "100%|██████████| 938/938 [00:21<00:00, 43.59it/s, accuracy=1, loss=0.012, lr=0.00295]\n"
          ]
        },
        {
          "name": "stdout",
          "output_type": "stream",
          "text": [
            "Epoch 6, Val Loss: 0.12622850385202009, Val Accuracy: 0.9657, Precision: 0.9660559688815956, Recall: 0.9657, F1 Score: 0.9657000455745192\n"
          ]
        },
        {
          "name": "stderr",
          "output_type": "stream",
          "text": [
            "100%|██████████| 938/938 [00:23<00:00, 40.33it/s, accuracy=0.969, loss=0.0311, lr=0.00266]\n"
          ]
        },
        {
          "name": "stdout",
          "output_type": "stream",
          "text": [
            "Epoch 7, Val Loss: 0.1333633228856273, Val Accuracy: 0.966, Precision: 0.9660838467428137, Recall: 0.966, F1 Score: 0.965972041434021\n"
          ]
        },
        {
          "name": "stderr",
          "output_type": "stream",
          "text": [
            "100%|██████████| 938/938 [00:21<00:00, 43.92it/s, accuracy=1, loss=0.00144, lr=0.00239]\n"
          ]
        },
        {
          "name": "stdout",
          "output_type": "stream",
          "text": [
            "Epoch 8, Val Loss: 0.14536721443956901, Val Accuracy: 0.9653, Precision: 0.9657435856138976, Recall: 0.9653, F1 Score: 0.9653344077302034\n"
          ]
        },
        {
          "name": "stderr",
          "output_type": "stream",
          "text": [
            "100%|██████████| 938/938 [00:23<00:00, 40.28it/s, accuracy=1, loss=0.000341, lr=0.00215]\n"
          ]
        },
        {
          "name": "stdout",
          "output_type": "stream",
          "text": [
            "Epoch 9, Val Loss: 0.1487161533953029, Val Accuracy: 0.9658, Precision: 0.9658966384360831, Recall: 0.9658, F1 Score: 0.9657697443457937\n"
          ]
        },
        {
          "name": "stderr",
          "output_type": "stream",
          "text": [
            "100%|██████████| 938/938 [00:21<00:00, 43.66it/s, accuracy=1, loss=0.00238, lr=0.00194]\n"
          ]
        },
        {
          "name": "stdout",
          "output_type": "stream",
          "text": [
            "Epoch 10, Val Loss: 0.13735049350858552, Val Accuracy: 0.9688, Precision: 0.9689727460498799, Recall: 0.9688, F1 Score: 0.9688164394559377\n"
          ]
        },
        {
          "name": "stderr",
          "output_type": "stream",
          "text": [
            "100%|██████████| 938/938 [00:22<00:00, 41.15it/s, accuracy=1, loss=0.00328, lr=0.00174]\n"
          ]
        },
        {
          "name": "stdout",
          "output_type": "stream",
          "text": [
            "Epoch 11, Val Loss: 0.13998517333003424, Val Accuracy: 0.9693, Precision: 0.9693168249580784, Recall: 0.9693, F1 Score: 0.9692731334275919\n"
          ]
        },
        {
          "name": "stderr",
          "output_type": "stream",
          "text": [
            "100%|██████████| 938/938 [00:21<00:00, 43.39it/s, accuracy=1, loss=0.0102, lr=0.00157]\n"
          ]
        },
        {
          "name": "stdout",
          "output_type": "stream",
          "text": [
            "Epoch 12, Val Loss: 0.1415308962975713, Val Accuracy: 0.9688, Precision: 0.9689694094471856, Recall: 0.9688, F1 Score: 0.9687999195179838\n"
          ]
        },
        {
          "name": "stderr",
          "output_type": "stream",
          "text": [
            "100%|██████████| 938/938 [00:23<00:00, 40.75it/s, accuracy=1, loss=0.00649, lr=0.00141]\n"
          ]
        },
        {
          "name": "stdout",
          "output_type": "stream",
          "text": [
            "Epoch 13, Val Loss: 0.1468673646035542, Val Accuracy: 0.9691, Precision: 0.969219827398962, Recall: 0.9691, F1 Score: 0.9691060973540386\n"
          ]
        },
        {
          "name": "stderr",
          "output_type": "stream",
          "text": [
            "100%|██████████| 938/938 [00:21<00:00, 42.83it/s, accuracy=1, loss=0.000788, lr=0.00127]\n"
          ]
        },
        {
          "name": "stdout",
          "output_type": "stream",
          "text": [
            "Epoch 14, Val Loss: 0.14846605934853233, Val Accuracy: 0.9681, Precision: 0.9682283917597538, Recall: 0.9681, F1 Score: 0.9681131072214424\n"
          ]
        },
        {
          "name": "stderr",
          "output_type": "stream",
          "text": [
            "100%|██████████| 938/938 [00:23<00:00, 40.44it/s, accuracy=1, loss=0.00065, lr=0.00114]\n"
          ]
        },
        {
          "name": "stdout",
          "output_type": "stream",
          "text": [
            "Epoch 15, Val Loss: 0.1475762091893175, Val Accuracy: 0.9691, Precision: 0.9691796337333286, Recall: 0.9691, F1 Score: 0.9690920766614521\n"
          ]
        },
        {
          "name": "stderr",
          "output_type": "stream",
          "text": [
            "100%|██████████| 938/938 [00:21<00:00, 43.48it/s, accuracy=1, loss=0.000109, lr=0.00103]\n"
          ]
        },
        {
          "name": "stdout",
          "output_type": "stream",
          "text": [
            "Epoch 16, Val Loss: 0.1462139335694426, Val Accuracy: 0.97, Precision: 0.9700311789198662, Recall: 0.97, F1 Score: 0.9699906760467119\n"
          ]
        },
        {
          "name": "stderr",
          "output_type": "stream",
          "text": [
            "100%|██████████| 938/938 [00:23<00:00, 40.54it/s, accuracy=1, loss=0.000915, lr=0.000927]\n"
          ]
        },
        {
          "name": "stdout",
          "output_type": "stream",
          "text": [
            "Epoch 17, Val Loss: 0.14944006132598253, Val Accuracy: 0.9708, Precision: 0.9708568029919808, Recall: 0.9708, F1 Score: 0.9707957946050019\n"
          ]
        },
        {
          "name": "stderr",
          "output_type": "stream",
          "text": [
            "100%|██████████| 938/938 [00:21<00:00, 43.17it/s, accuracy=1, loss=0.00018, lr=0.000834]\n"
          ]
        },
        {
          "name": "stdout",
          "output_type": "stream",
          "text": [
            "Epoch 18, Val Loss: 0.1554192090230278, Val Accuracy: 0.9705, Precision: 0.9705355369281111, Recall: 0.9705, F1 Score: 0.970485387191961\n"
          ]
        },
        {
          "name": "stderr",
          "output_type": "stream",
          "text": [
            "100%|██████████| 938/938 [00:22<00:00, 41.13it/s, accuracy=1, loss=0.000206, lr=0.00075]\n"
          ]
        },
        {
          "name": "stdout",
          "output_type": "stream",
          "text": [
            "Epoch 19, Val Loss: 0.16059999929740815, Val Accuracy: 0.9694, Precision: 0.9694208381448826, Recall: 0.9694, F1 Score: 0.9693868382937372\n"
          ]
        },
        {
          "name": "stderr",
          "output_type": "stream",
          "text": [
            "100%|██████████| 938/938 [00:21<00:00, 43.39it/s, accuracy=1, loss=0.000132, lr=0.000675]\n"
          ]
        },
        {
          "name": "stdout",
          "output_type": "stream",
          "text": [
            "Epoch 20, Val Loss: 0.16036653021263858, Val Accuracy: 0.9698, Precision: 0.9698184139659776, Recall: 0.9698, F1 Score: 0.969790008667035\n"
          ]
        },
        {
          "name": "stderr",
          "output_type": "stream",
          "text": [
            "100%|██████████| 938/938 [00:23<00:00, 40.25it/s, accuracy=1, loss=5.63e-5, lr=0.000608]\n"
          ]
        },
        {
          "name": "stdout",
          "output_type": "stream",
          "text": [
            "Epoch 21, Val Loss: 0.15918329493481387, Val Accuracy: 0.9704, Precision: 0.970429512731672, Recall: 0.9704, F1 Score: 0.9703895458937748\n"
          ]
        },
        {
          "name": "stderr",
          "output_type": "stream",
          "text": [
            "100%|██████████| 938/938 [00:21<00:00, 43.00it/s, accuracy=1, loss=0.000183, lr=0.000547]\n"
          ]
        },
        {
          "name": "stdout",
          "output_type": "stream",
          "text": [
            "Epoch 22, Val Loss: 0.16052627269413863, Val Accuracy: 0.9702, Precision: 0.9702429792400417, Recall: 0.9702, F1 Score: 0.970197204218904\n"
          ]
        },
        {
          "name": "stderr",
          "output_type": "stream",
          "text": [
            "100%|██████████| 938/938 [00:23<00:00, 40.09it/s, accuracy=1, loss=3.29e-5, lr=0.000492]\n"
          ]
        },
        {
          "name": "stdout",
          "output_type": "stream",
          "text": [
            "Epoch 23, Val Loss: 0.16169458545133242, Val Accuracy: 0.9696, Precision: 0.9696039053001961, Recall: 0.9696, F1 Score: 0.9695815048853019\n"
          ]
        },
        {
          "name": "stderr",
          "output_type": "stream",
          "text": [
            "100%|██████████| 938/938 [00:21<00:00, 43.35it/s, accuracy=1, loss=0.000164, lr=0.000443]\n"
          ]
        },
        {
          "name": "stdout",
          "output_type": "stream",
          "text": [
            "Epoch 24, Val Loss: 0.16253052540299645, Val Accuracy: 0.9707, Precision: 0.9707324942570427, Recall: 0.9707, F1 Score: 0.9706882720103549\n"
          ]
        },
        {
          "name": "stderr",
          "output_type": "stream",
          "text": [
            "100%|██████████| 938/938 [00:23<00:00, 40.27it/s, accuracy=1, loss=0.000142, lr=0.000399]\n"
          ]
        },
        {
          "name": "stdout",
          "output_type": "stream",
          "text": [
            "Epoch 25, Val Loss: 0.16569648650066943, Val Accuracy: 0.9704, Precision: 0.9704212017302251, Recall: 0.9704, F1 Score: 0.9703895376206921\n"
          ]
        },
        {
          "name": "stderr",
          "output_type": "stream",
          "text": [
            "100%|██████████| 938/938 [00:21<00:00, 43.23it/s, accuracy=1, loss=2.55e-5, lr=0.000359]\n"
          ]
        },
        {
          "name": "stdout",
          "output_type": "stream",
          "text": [
            "Epoch 26, Val Loss: 0.16995082722544916, Val Accuracy: 0.9703, Precision: 0.9703274156508652, Recall: 0.9703, F1 Score: 0.9702854308614678\n"
          ]
        },
        {
          "name": "stderr",
          "output_type": "stream",
          "text": [
            "100%|██████████| 938/938 [00:23<00:00, 40.30it/s, accuracy=1, loss=6.13e-5, lr=0.000323]\n"
          ]
        },
        {
          "name": "stdout",
          "output_type": "stream",
          "text": [
            "Epoch 27, Val Loss: 0.17069763180524414, Val Accuracy: 0.9711, Precision: 0.971125545684776, Recall: 0.9711, F1 Score: 0.9710898525459779\n"
          ]
        },
        {
          "name": "stderr",
          "output_type": "stream",
          "text": [
            "100%|██████████| 938/938 [00:21<00:00, 43.30it/s, accuracy=1, loss=4.26e-5, lr=0.000291]\n"
          ]
        },
        {
          "name": "stdout",
          "output_type": "stream",
          "text": [
            "Epoch 28, Val Loss: 0.17573754055709442, Val Accuracy: 0.9705, Precision: 0.9705259486899297, Recall: 0.9705, F1 Score: 0.9704862757701641\n"
          ]
        },
        {
          "name": "stderr",
          "output_type": "stream",
          "text": [
            "100%|██████████| 938/938 [00:23<00:00, 40.69it/s, accuracy=1, loss=3.85e-5, lr=0.000262]\n"
          ]
        },
        {
          "name": "stdout",
          "output_type": "stream",
          "text": [
            "Epoch 29, Val Loss: 0.1793747907807592, Val Accuracy: 0.9711, Precision: 0.9711320054076805, Recall: 0.9711, F1 Score: 0.9710871322079895\n"
          ]
        },
        {
          "name": "stderr",
          "output_type": "stream",
          "text": [
            "100%|██████████| 938/938 [00:21<00:00, 42.79it/s, accuracy=1, loss=1.94e-5, lr=0.000236]\n"
          ]
        },
        {
          "name": "stdout",
          "output_type": "stream",
          "text": [
            "Epoch 30, Val Loss: 0.18277348354329787, Val Accuracy: 0.9705, Precision: 0.9705195307023415, Recall: 0.9705, F1 Score: 0.9704870084221424\n"
          ]
        },
        {
          "name": "stderr",
          "output_type": "stream",
          "text": [
            "100%|██████████| 938/938 [00:23<00:00, 40.34it/s, accuracy=0.938, loss=0.289, lr=0.005]\n"
          ]
        },
        {
          "name": "stdout",
          "output_type": "stream",
          "text": [
            "Epoch 1, Val Loss: 0.15487264512272872, Val Accuracy: 0.9511, Precision: 0.9521475032986633, Recall: 0.9511, F1 Score: 0.9510095061290296\n"
          ]
        },
        {
          "name": "stderr",
          "output_type": "stream",
          "text": [
            "100%|██████████| 938/938 [00:21<00:00, 42.75it/s, accuracy=0.969, loss=0.132, lr=0.0045]\n"
          ]
        },
        {
          "name": "stdout",
          "output_type": "stream",
          "text": [
            "Epoch 2, Val Loss: 0.10997952178126545, Val Accuracy: 0.9667, Precision: 0.9669413320771082, Recall: 0.9667, F1 Score: 0.9666882867669643\n"
          ]
        },
        {
          "name": "stderr",
          "output_type": "stream",
          "text": [
            "100%|██████████| 938/938 [00:23<00:00, 40.28it/s, accuracy=0.969, loss=0.123, lr=0.00405]\n"
          ]
        },
        {
          "name": "stdout",
          "output_type": "stream",
          "text": [
            "Epoch 3, Val Loss: 0.1269896081988466, Val Accuracy: 0.9623, Precision: 0.9627382134562879, Recall: 0.9623, F1 Score: 0.9622120100913074\n"
          ]
        },
        {
          "name": "stderr",
          "output_type": "stream",
          "text": [
            "100%|██████████| 938/938 [00:21<00:00, 43.40it/s, accuracy=0.938, loss=0.0845, lr=0.00365]\n"
          ]
        },
        {
          "name": "stdout",
          "output_type": "stream",
          "text": [
            "Epoch 4, Val Loss: 0.120274228889441, Val Accuracy: 0.9681, Precision: 0.9683793656479129, Recall: 0.9681, F1 Score: 0.9680524752010584\n"
          ]
        },
        {
          "name": "stderr",
          "output_type": "stream",
          "text": [
            "100%|██████████| 938/938 [00:23<00:00, 39.60it/s, accuracy=1, loss=0.00109, lr=0.00328]\n"
          ]
        },
        {
          "name": "stdout",
          "output_type": "stream",
          "text": [
            "Epoch 5, Val Loss: 0.12218269759342217, Val Accuracy: 0.97, Precision: 0.9701557553103399, Recall: 0.97, F1 Score: 0.969979365905122\n"
          ]
        },
        {
          "name": "stderr",
          "output_type": "stream",
          "text": [
            "100%|██████████| 938/938 [00:21<00:00, 43.14it/s, accuracy=1, loss=0.00628, lr=0.00295]\n"
          ]
        },
        {
          "name": "stdout",
          "output_type": "stream",
          "text": [
            "Epoch 6, Val Loss: 0.1476574466753029, Val Accuracy: 0.9612, Precision: 0.9627584386446201, Recall: 0.9612, F1 Score: 0.9611384590374943\n"
          ]
        },
        {
          "name": "stderr",
          "output_type": "stream",
          "text": [
            "100%|██████████| 938/938 [00:23<00:00, 40.03it/s, accuracy=1, loss=0.000559, lr=0.00266]\n"
          ]
        },
        {
          "name": "stdout",
          "output_type": "stream",
          "text": [
            "Epoch 7, Val Loss: 0.11779025420160025, Val Accuracy: 0.9712, Precision: 0.9714428932962397, Recall: 0.9712, F1 Score: 0.9711996530324281\n"
          ]
        },
        {
          "name": "stderr",
          "output_type": "stream",
          "text": [
            "100%|██████████| 938/938 [00:21<00:00, 42.85it/s, accuracy=1, loss=0.00256, lr=0.00239]\n"
          ]
        },
        {
          "name": "stdout",
          "output_type": "stream",
          "text": [
            "Epoch 8, Val Loss: 0.1181845728438165, Val Accuracy: 0.9721, Precision: 0.9721887316869028, Recall: 0.9721, F1 Score: 0.9720824744751446\n"
          ]
        },
        {
          "name": "stderr",
          "output_type": "stream",
          "text": [
            "100%|██████████| 938/938 [00:23<00:00, 40.28it/s, accuracy=0.969, loss=0.0528, lr=0.00215]\n"
          ]
        },
        {
          "name": "stdout",
          "output_type": "stream",
          "text": [
            "Epoch 9, Val Loss: 0.11744456882875084, Val Accuracy: 0.9755, Precision: 0.9755811001708465, Recall: 0.9755, F1 Score: 0.975487742984093\n"
          ]
        },
        {
          "name": "stderr",
          "output_type": "stream",
          "text": [
            "100%|██████████| 938/938 [00:22<00:00, 42.61it/s, accuracy=1, loss=0.000662, lr=0.00194]\n"
          ]
        },
        {
          "name": "stdout",
          "output_type": "stream",
          "text": [
            "Epoch 10, Val Loss: 0.11394501637125219, Val Accuracy: 0.9746, Precision: 0.9746387452537072, Recall: 0.9746, F1 Score: 0.9745974352562405\n"
          ]
        },
        {
          "name": "stderr",
          "output_type": "stream",
          "text": [
            "100%|██████████| 938/938 [00:23<00:00, 40.76it/s, accuracy=1, loss=0.00122, lr=0.00174]\n"
          ]
        },
        {
          "name": "stdout",
          "output_type": "stream",
          "text": [
            "Epoch 11, Val Loss: 0.11932196408654465, Val Accuracy: 0.9746, Precision: 0.9747601771669661, Recall: 0.9746, F1 Score: 0.9746048413598634\n"
          ]
        },
        {
          "name": "stderr",
          "output_type": "stream",
          "text": [
            "100%|██████████| 938/938 [00:22<00:00, 42.17it/s, accuracy=1, loss=0.00178, lr=0.00157]\n"
          ]
        },
        {
          "name": "stdout",
          "output_type": "stream",
          "text": [
            "Epoch 12, Val Loss: 0.1538487147532943, Val Accuracy: 0.9696, Precision: 0.9700287425824071, Recall: 0.9696, F1 Score: 0.9696088018217995\n"
          ]
        },
        {
          "name": "stderr",
          "output_type": "stream",
          "text": [
            "100%|██████████| 938/938 [00:22<00:00, 42.45it/s, accuracy=1, loss=2.34e-5, lr=0.00141]\n"
          ]
        },
        {
          "name": "stdout",
          "output_type": "stream",
          "text": [
            "Epoch 13, Val Loss: 0.12919652727502035, Val Accuracy: 0.9752, Precision: 0.9752398034763321, Recall: 0.9752, F1 Score: 0.975196470518009\n"
          ]
        },
        {
          "name": "stderr",
          "output_type": "stream",
          "text": [
            "100%|██████████| 938/938 [00:22<00:00, 41.35it/s, accuracy=1, loss=0.00776, lr=0.00127]\n"
          ]
        },
        {
          "name": "stdout",
          "output_type": "stream",
          "text": [
            "Epoch 14, Val Loss: 0.12111522452190242, Val Accuracy: 0.9747, Precision: 0.974846068645945, Recall: 0.9747, F1 Score: 0.9746955145238922\n"
          ]
        },
        {
          "name": "stderr",
          "output_type": "stream",
          "text": [
            "100%|██████████| 938/938 [00:21<00:00, 42.67it/s, accuracy=1, loss=0.000114, lr=0.00114]\n"
          ]
        },
        {
          "name": "stdout",
          "output_type": "stream",
          "text": [
            "Epoch 15, Val Loss: 0.11137436440573756, Val Accuracy: 0.9785, Precision: 0.978523333941323, Recall: 0.9785, F1 Score: 0.9784910523966198\n"
          ]
        },
        {
          "name": "stderr",
          "output_type": "stream",
          "text": [
            "100%|██████████| 938/938 [00:22<00:00, 41.23it/s, accuracy=1, loss=0.000993, lr=0.00103]\n"
          ]
        },
        {
          "name": "stdout",
          "output_type": "stream",
          "text": [
            "Epoch 16, Val Loss: 0.1140218714231015, Val Accuracy: 0.978, Precision: 0.9780197153944393, Recall: 0.978, F1 Score: 0.9779890585304669\n"
          ]
        },
        {
          "name": "stderr",
          "output_type": "stream",
          "text": [
            "100%|██████████| 938/938 [00:22<00:00, 42.07it/s, accuracy=1, loss=0.0194, lr=0.000927]\n"
          ]
        },
        {
          "name": "stdout",
          "output_type": "stream",
          "text": [
            "Epoch 17, Val Loss: 0.13904517335622238, Val Accuracy: 0.9745, Precision: 0.9745569425213109, Recall: 0.9745, F1 Score: 0.9744962385797739\n"
          ]
        },
        {
          "name": "stderr",
          "output_type": "stream",
          "text": [
            "100%|██████████| 938/938 [00:22<00:00, 40.82it/s, accuracy=1, loss=0.00113, lr=0.000834]\n"
          ]
        },
        {
          "name": "stdout",
          "output_type": "stream",
          "text": [
            "Epoch 18, Val Loss: 0.11603062527724925, Val Accuracy: 0.9787, Precision: 0.97870903200734, Recall: 0.9787, F1 Score: 0.9786961637395981\n"
          ]
        },
        {
          "name": "stderr",
          "output_type": "stream",
          "text": [
            "100%|██████████| 938/938 [00:21<00:00, 43.09it/s, accuracy=1, loss=0.000171, lr=0.00075]\n"
          ]
        },
        {
          "name": "stdout",
          "output_type": "stream",
          "text": [
            "Epoch 19, Val Loss: 0.11579673859030991, Val Accuracy: 0.9785, Precision: 0.978505582598143, Recall: 0.9785, F1 Score: 0.978494669213739\n"
          ]
        },
        {
          "name": "stderr",
          "output_type": "stream",
          "text": [
            "100%|██████████| 938/938 [00:23<00:00, 40.72it/s, accuracy=1, loss=0.000164, lr=0.000675]\n"
          ]
        },
        {
          "name": "stdout",
          "output_type": "stream",
          "text": [
            "Epoch 20, Val Loss: 0.11515468318854002, Val Accuracy: 0.9782, Precision: 0.97819685895534, Recall: 0.9782, F1 Score: 0.9781945410287933\n"
          ]
        },
        {
          "name": "stderr",
          "output_type": "stream",
          "text": [
            "100%|██████████| 938/938 [00:21<00:00, 43.34it/s, accuracy=1, loss=6e-5, lr=0.000608]\n"
          ]
        },
        {
          "name": "stdout",
          "output_type": "stream",
          "text": [
            "Epoch 21, Val Loss: 0.11541343201547259, Val Accuracy: 0.9786, Precision: 0.9786095308972405, Recall: 0.9786, F1 Score: 0.9785969495048297\n"
          ]
        },
        {
          "name": "stderr",
          "output_type": "stream",
          "text": [
            "100%|██████████| 938/938 [00:22<00:00, 40.95it/s, accuracy=1, loss=8.24e-5, lr=0.000547]\n"
          ]
        },
        {
          "name": "stdout",
          "output_type": "stream",
          "text": [
            "Epoch 22, Val Loss: 0.11726973995651906, Val Accuracy: 0.979, Precision: 0.9790182702665347, Recall: 0.979, F1 Score: 0.9789940788155307\n"
          ]
        },
        {
          "name": "stderr",
          "output_type": "stream",
          "text": [
            "100%|██████████| 938/938 [00:22<00:00, 42.60it/s, accuracy=1, loss=2.77e-5, lr=0.000492]\n"
          ]
        },
        {
          "name": "stdout",
          "output_type": "stream",
          "text": [
            "Epoch 23, Val Loss: 0.11745335434329908, Val Accuracy: 0.9787, Precision: 0.9787223660940916, Recall: 0.9787, F1 Score: 0.9786981964188135\n"
          ]
        },
        {
          "name": "stderr",
          "output_type": "stream",
          "text": [
            "100%|██████████| 938/938 [00:22<00:00, 40.96it/s, accuracy=1, loss=0.000111, lr=0.000443]\n"
          ]
        },
        {
          "name": "stdout",
          "output_type": "stream",
          "text": [
            "Epoch 24, Val Loss: 0.11882364786229745, Val Accuracy: 0.9781, Precision: 0.9781121022784537, Recall: 0.9781, F1 Score: 0.9780931807975518\n"
          ]
        },
        {
          "name": "stderr",
          "output_type": "stream",
          "text": [
            "100%|██████████| 938/938 [00:22<00:00, 42.26it/s, accuracy=1, loss=0.000172, lr=0.000399]\n"
          ]
        },
        {
          "name": "stdout",
          "output_type": "stream",
          "text": [
            "Epoch 25, Val Loss: 0.12128950224366622, Val Accuracy: 0.979, Precision: 0.9790110065620629, Recall: 0.979, F1 Score: 0.978994084289379\n"
          ]
        },
        {
          "name": "stderr",
          "output_type": "stream",
          "text": [
            "100%|██████████| 938/938 [00:23<00:00, 40.69it/s, accuracy=1, loss=6.92e-5, lr=0.000359]\n"
          ]
        },
        {
          "name": "stdout",
          "output_type": "stream",
          "text": [
            "Epoch 26, Val Loss: 0.1233299912146603, Val Accuracy: 0.979, Precision: 0.9790210941791516, Recall: 0.979, F1 Score: 0.9790000837406376\n"
          ]
        },
        {
          "name": "stderr",
          "output_type": "stream",
          "text": [
            "100%|██████████| 938/938 [00:22<00:00, 42.43it/s, accuracy=1, loss=4.15e-6, lr=0.000323]\n"
          ]
        },
        {
          "name": "stdout",
          "output_type": "stream",
          "text": [
            "Epoch 27, Val Loss: 0.12557769545088832, Val Accuracy: 0.9785, Precision: 0.9785114389620774, Recall: 0.9785, F1 Score: 0.978492324110727\n"
          ]
        },
        {
          "name": "stderr",
          "output_type": "stream",
          "text": [
            "100%|██████████| 938/938 [00:23<00:00, 40.44it/s, accuracy=1, loss=1.76e-5, lr=0.000291]\n"
          ]
        },
        {
          "name": "stdout",
          "output_type": "stream",
          "text": [
            "Epoch 28, Val Loss: 0.1293815094151671, Val Accuracy: 0.979, Precision: 0.9790189368223294, Recall: 0.979, F1 Score: 0.978994447691144\n"
          ]
        },
        {
          "name": "stderr",
          "output_type": "stream",
          "text": [
            "100%|██████████| 938/938 [00:22<00:00, 41.94it/s, accuracy=1, loss=1.56e-5, lr=0.000262]\n"
          ]
        },
        {
          "name": "stdout",
          "output_type": "stream",
          "text": [
            "Epoch 29, Val Loss: 0.13209282628547364, Val Accuracy: 0.9782, Precision: 0.9782192223876762, Recall: 0.9782, F1 Score: 0.9781928858602005\n"
          ]
        },
        {
          "name": "stderr",
          "output_type": "stream",
          "text": [
            "100%|██████████| 938/938 [00:22<00:00, 41.05it/s, accuracy=1, loss=1.36e-5, lr=0.000236]\n"
          ]
        },
        {
          "name": "stdout",
          "output_type": "stream",
          "text": [
            "Epoch 30, Val Loss: 0.13401680587330617, Val Accuracy: 0.9786, Precision: 0.9786173602970146, Recall: 0.9786, F1 Score: 0.9785929057348917\n"
          ]
        },
        {
          "name": "stderr",
          "output_type": "stream",
          "text": [
            "100%|██████████| 938/938 [00:21<00:00, 42.66it/s, accuracy=0.938, loss=0.36, lr=0.005]\n"
          ]
        },
        {
          "name": "stdout",
          "output_type": "stream",
          "text": [
            "Epoch 1, Val Loss: 0.1867695782918655, Val Accuracy: 0.9476, Precision: 0.9490264358657483, Recall: 0.9476, F1 Score: 0.9475374371491313\n"
          ]
        },
        {
          "name": "stderr",
          "output_type": "stream",
          "text": [
            "100%|██████████| 938/938 [00:23<00:00, 40.36it/s, accuracy=1, loss=0.0325, lr=0.0045]\n"
          ]
        },
        {
          "name": "stdout",
          "output_type": "stream",
          "text": [
            "Epoch 2, Val Loss: 0.13842341261615557, Val Accuracy: 0.9594, Precision: 0.9602448711525683, Recall: 0.9594, F1 Score: 0.9593983574023345\n"
          ]
        },
        {
          "name": "stderr",
          "output_type": "stream",
          "text": [
            "100%|██████████| 938/938 [00:22<00:00, 42.53it/s, accuracy=0.969, loss=0.0359, lr=0.00405]\n"
          ]
        },
        {
          "name": "stdout",
          "output_type": "stream",
          "text": [
            "Epoch 3, Val Loss: 0.12833745879525982, Val Accuracy: 0.9639, Precision: 0.9644540277259748, Recall: 0.9639, F1 Score: 0.9639317552278611\n"
          ]
        },
        {
          "name": "stderr",
          "output_type": "stream",
          "text": [
            "100%|██████████| 938/938 [00:23<00:00, 39.42it/s, accuracy=0.969, loss=0.0754, lr=0.00365]\n"
          ]
        },
        {
          "name": "stdout",
          "output_type": "stream",
          "text": [
            "Epoch 4, Val Loss: 0.13976193735107947, Val Accuracy: 0.9643, Precision: 0.9647182478146878, Recall: 0.9643, F1 Score: 0.9642919446436791\n"
          ]
        },
        {
          "name": "stderr",
          "output_type": "stream",
          "text": [
            "100%|██████████| 938/938 [00:22<00:00, 41.65it/s, accuracy=1, loss=0.0324, lr=0.00328]\n"
          ]
        },
        {
          "name": "stdout",
          "output_type": "stream",
          "text": [
            "Epoch 5, Val Loss: 0.13357609384394753, Val Accuracy: 0.9686, Precision: 0.9687930240692345, Recall: 0.9686, F1 Score: 0.9685795039506852\n"
          ]
        },
        {
          "name": "stderr",
          "output_type": "stream",
          "text": [
            "100%|██████████| 938/938 [00:24<00:00, 38.66it/s, accuracy=1, loss=0.00562, lr=0.00295]\n"
          ]
        },
        {
          "name": "stdout",
          "output_type": "stream",
          "text": [
            "Epoch 6, Val Loss: 0.12478373410182134, Val Accuracy: 0.9682, Precision: 0.968730994730241, Recall: 0.9682, F1 Score: 0.9682639141620871\n"
          ]
        },
        {
          "name": "stderr",
          "output_type": "stream",
          "text": [
            "100%|██████████| 938/938 [00:22<00:00, 41.58it/s, accuracy=0.969, loss=0.0258, lr=0.00266]\n"
          ]
        },
        {
          "name": "stdout",
          "output_type": "stream",
          "text": [
            "Epoch 7, Val Loss: 0.13598329989228478, Val Accuracy: 0.971, Precision: 0.9713519344761249, Recall: 0.971, F1 Score: 0.9709953966351653\n"
          ]
        },
        {
          "name": "stderr",
          "output_type": "stream",
          "text": [
            "100%|██████████| 938/938 [00:23<00:00, 39.27it/s, accuracy=1, loss=0.00611, lr=0.00239]\n"
          ]
        },
        {
          "name": "stdout",
          "output_type": "stream",
          "text": [
            "Epoch 8, Val Loss: 0.12187808926607466, Val Accuracy: 0.9713, Precision: 0.9714450756314065, Recall: 0.9713, F1 Score: 0.9712806053803655\n"
          ]
        },
        {
          "name": "stderr",
          "output_type": "stream",
          "text": [
            "100%|██████████| 938/938 [00:22<00:00, 41.69it/s, accuracy=1, loss=0.00365, lr=0.00215]\n"
          ]
        },
        {
          "name": "stdout",
          "output_type": "stream",
          "text": [
            "Epoch 9, Val Loss: 0.11723968568421146, Val Accuracy: 0.9765, Precision: 0.9765358926163371, Recall: 0.9765, F1 Score: 0.9764860247262795\n"
          ]
        },
        {
          "name": "stderr",
          "output_type": "stream",
          "text": [
            "100%|██████████| 938/938 [00:23<00:00, 39.73it/s, accuracy=1, loss=0.0112, lr=0.00194]\n"
          ]
        },
        {
          "name": "stdout",
          "output_type": "stream",
          "text": [
            "Epoch 10, Val Loss: 0.10675822339104726, Val Accuracy: 0.9787, Precision: 0.9788064910172946, Recall: 0.9787, F1 Score: 0.9787103424283318\n"
          ]
        },
        {
          "name": "stderr",
          "output_type": "stream",
          "text": [
            "100%|██████████| 938/938 [00:22<00:00, 41.37it/s, accuracy=0.969, loss=0.0532, lr=0.00174]\n"
          ]
        },
        {
          "name": "stdout",
          "output_type": "stream",
          "text": [
            "Epoch 11, Val Loss: 0.11683601787045869, Val Accuracy: 0.9749, Precision: 0.9750206809135165, Recall: 0.9749, F1 Score: 0.9748976491298185\n"
          ]
        },
        {
          "name": "stderr",
          "output_type": "stream",
          "text": [
            "100%|██████████| 938/938 [00:23<00:00, 39.48it/s, accuracy=1, loss=0.000708, lr=0.00157]\n"
          ]
        },
        {
          "name": "stdout",
          "output_type": "stream",
          "text": [
            "Epoch 12, Val Loss: 0.12319495082066592, Val Accuracy: 0.9772, Precision: 0.9772697400551246, Recall: 0.9772, F1 Score: 0.9771910165320864\n"
          ]
        },
        {
          "name": "stderr",
          "output_type": "stream",
          "text": [
            "100%|██████████| 938/938 [00:22<00:00, 42.31it/s, accuracy=1, loss=0.0192, lr=0.00141]\n"
          ]
        },
        {
          "name": "stdout",
          "output_type": "stream",
          "text": [
            "Epoch 13, Val Loss: 0.11056259363318781, Val Accuracy: 0.9785, Precision: 0.9785214884519999, Recall: 0.9785, F1 Score: 0.9784929833963004\n"
          ]
        },
        {
          "name": "stderr",
          "output_type": "stream",
          "text": [
            "100%|██████████| 938/938 [00:23<00:00, 40.07it/s, accuracy=1, loss=5.35e-5, lr=0.00127]\n"
          ]
        },
        {
          "name": "stdout",
          "output_type": "stream",
          "text": [
            "Epoch 14, Val Loss: 0.10725910442843764, Val Accuracy: 0.9796, Precision: 0.9795975668757702, Recall: 0.9796, F1 Score: 0.9795930813279465\n"
          ]
        },
        {
          "name": "stderr",
          "output_type": "stream",
          "text": [
            "100%|██████████| 938/938 [00:22<00:00, 41.58it/s, accuracy=1, loss=8.92e-5, lr=0.00114]\n"
          ]
        },
        {
          "name": "stdout",
          "output_type": "stream",
          "text": [
            "Epoch 15, Val Loss: 0.10699213073769641, Val Accuracy: 0.9801, Precision: 0.9801071733616287, Recall: 0.9801, F1 Score: 0.9800969212675911\n"
          ]
        },
        {
          "name": "stderr",
          "output_type": "stream",
          "text": [
            "100%|██████████| 938/938 [00:22<00:00, 41.67it/s, accuracy=1, loss=3.13e-5, lr=0.00103]\n"
          ]
        },
        {
          "name": "stdout",
          "output_type": "stream",
          "text": [
            "Epoch 16, Val Loss: 0.1072597835446794, Val Accuracy: 0.9802, Precision: 0.9802032016178951, Recall: 0.9802, F1 Score: 0.9801954695764838\n"
          ]
        },
        {
          "name": "stderr",
          "output_type": "stream",
          "text": [
            "100%|██████████| 938/938 [00:23<00:00, 40.42it/s, accuracy=1, loss=3.05e-5, lr=0.000927]\n"
          ]
        },
        {
          "name": "stdout",
          "output_type": "stream",
          "text": [
            "Epoch 17, Val Loss: 0.10799801976365903, Val Accuracy: 0.9796, Precision: 0.9796031594940425, Recall: 0.9796, F1 Score: 0.9795943280613858\n"
          ]
        },
        {
          "name": "stderr",
          "output_type": "stream",
          "text": [
            "100%|██████████| 938/938 [00:22<00:00, 41.83it/s, accuracy=1, loss=4.25e-5, lr=0.000834]\n"
          ]
        },
        {
          "name": "stdout",
          "output_type": "stream",
          "text": [
            "Epoch 18, Val Loss: 0.11067828570958861, Val Accuracy: 0.9798, Precision: 0.9798016428875055, Recall: 0.9798, F1 Score: 0.9797936133378298\n"
          ]
        },
        {
          "name": "stderr",
          "output_type": "stream",
          "text": [
            "100%|██████████| 938/938 [00:23<00:00, 39.65it/s, accuracy=1, loss=2.71e-5, lr=0.00075]\n"
          ]
        },
        {
          "name": "stdout",
          "output_type": "stream",
          "text": [
            "Epoch 19, Val Loss: 0.11071884184560798, Val Accuracy: 0.9791, Precision: 0.9791003136039917, Recall: 0.9791, F1 Score: 0.9790936788958386\n"
          ]
        },
        {
          "name": "stderr",
          "output_type": "stream",
          "text": [
            "100%|██████████| 938/938 [00:22<00:00, 41.78it/s, accuracy=1, loss=1.31e-5, lr=0.000675]\n"
          ]
        },
        {
          "name": "stdout",
          "output_type": "stream",
          "text": [
            "Epoch 20, Val Loss: 0.11464851254455773, Val Accuracy: 0.9793, Precision: 0.979303041228889, Recall: 0.9793, F1 Score: 0.9792962445754221\n"
          ]
        },
        {
          "name": "stderr",
          "output_type": "stream",
          "text": [
            "100%|██████████| 938/938 [00:24<00:00, 38.85it/s, accuracy=1, loss=0.00013, lr=0.000608]\n"
          ]
        },
        {
          "name": "stdout",
          "output_type": "stream",
          "text": [
            "Epoch 21, Val Loss: 0.11629491291324012, Val Accuracy: 0.9801, Precision: 0.9801039431048117, Recall: 0.9801, F1 Score: 0.9800954180867036\n"
          ]
        },
        {
          "name": "stderr",
          "output_type": "stream",
          "text": [
            "100%|██████████| 938/938 [00:22<00:00, 42.11it/s, accuracy=1, loss=1.52e-5, lr=0.000547]\n"
          ]
        },
        {
          "name": "stdout",
          "output_type": "stream",
          "text": [
            "Epoch 22, Val Loss: 0.1194118983881755, Val Accuracy: 0.9794, Precision: 0.9794039728358473, Recall: 0.9794, F1 Score: 0.9793950740874585\n"
          ]
        },
        {
          "name": "stderr",
          "output_type": "stream",
          "text": [
            "100%|██████████| 938/938 [00:25<00:00, 37.38it/s, accuracy=1, loss=5.08e-5, lr=0.000492]\n"
          ]
        },
        {
          "name": "stdout",
          "output_type": "stream",
          "text": [
            "Epoch 23, Val Loss: 0.1214052047398015, Val Accuracy: 0.9794, Precision: 0.979406386304561, Recall: 0.9794, F1 Score: 0.9793962416210674\n"
          ]
        },
        {
          "name": "stderr",
          "output_type": "stream",
          "text": [
            "100%|██████████| 938/938 [00:22<00:00, 41.49it/s, accuracy=1, loss=2.16e-5, lr=0.000443]\n"
          ]
        },
        {
          "name": "stdout",
          "output_type": "stream",
          "text": [
            "Epoch 24, Val Loss: 0.12463837479093322, Val Accuracy: 0.9798, Precision: 0.9798068470160177, Recall: 0.9798, F1 Score: 0.979796527608074\n"
          ]
        },
        {
          "name": "stderr",
          "output_type": "stream",
          "text": [
            "100%|██████████| 938/938 [00:24<00:00, 38.06it/s, accuracy=1, loss=1.82e-5, lr=0.000399]\n"
          ]
        },
        {
          "name": "stdout",
          "output_type": "stream",
          "text": [
            "Epoch 25, Val Loss: 0.127781385323851, Val Accuracy: 0.9801, Precision: 0.9801202622729291, Recall: 0.9801, F1 Score: 0.9801007962554806\n"
          ]
        },
        {
          "name": "stderr",
          "output_type": "stream",
          "text": [
            "100%|██████████| 938/938 [00:22<00:00, 41.21it/s, accuracy=1, loss=2e-6, lr=0.000359]\n"
          ]
        },
        {
          "name": "stdout",
          "output_type": "stream",
          "text": [
            "Epoch 26, Val Loss: 0.1291600417602194, Val Accuracy: 0.9802, Precision: 0.9802071669414543, Recall: 0.9802, F1 Score: 0.9801972339726581\n"
          ]
        },
        {
          "name": "stderr",
          "output_type": "stream",
          "text": [
            "100%|██████████| 938/938 [00:24<00:00, 38.39it/s, accuracy=1, loss=5.81e-6, lr=0.000323]\n"
          ]
        },
        {
          "name": "stdout",
          "output_type": "stream",
          "text": [
            "Epoch 27, Val Loss: 0.13289070347488943, Val Accuracy: 0.9798, Precision: 0.9798072178788115, Recall: 0.9798, F1 Score: 0.9797962256702997\n"
          ]
        },
        {
          "name": "stderr",
          "output_type": "stream",
          "text": [
            "100%|██████████| 938/938 [00:22<00:00, 41.65it/s, accuracy=1, loss=7.63e-6, lr=0.000291]\n"
          ]
        },
        {
          "name": "stdout",
          "output_type": "stream",
          "text": [
            "Epoch 28, Val Loss: 0.13557509261223746, Val Accuracy: 0.9793, Precision: 0.9793080985711474, Recall: 0.9793, F1 Score: 0.9792984251646765\n"
          ]
        },
        {
          "name": "stderr",
          "output_type": "stream",
          "text": [
            "100%|██████████| 938/938 [00:24<00:00, 39.05it/s, accuracy=1, loss=1.08e-7, lr=0.000262]\n"
          ]
        },
        {
          "name": "stdout",
          "output_type": "stream",
          "text": [
            "Epoch 29, Val Loss: 0.13837038931639264, Val Accuracy: 0.9797, Precision: 0.9797019845688508, Recall: 0.9797, F1 Score: 0.9796975318118757\n"
          ]
        },
        {
          "name": "stderr",
          "output_type": "stream",
          "text": [
            "100%|██████████| 938/938 [00:22<00:00, 41.11it/s, accuracy=1, loss=9.05e-7, lr=0.000236]\n"
          ]
        },
        {
          "name": "stdout",
          "output_type": "stream",
          "text": [
            "Epoch 30, Val Loss: 0.14095142813062822, Val Accuracy: 0.9802, Precision: 0.9802050346089305, Recall: 0.9802, F1 Score: 0.980195688359538\n"
          ]
        },
        {
          "name": "stderr",
          "output_type": "stream",
          "text": [
            "100%|██████████| 938/938 [00:23<00:00, 40.23it/s, accuracy=1, loss=0.0415, lr=0.005]\n"
          ]
        },
        {
          "name": "stdout",
          "output_type": "stream",
          "text": [
            "Epoch 1, Val Loss: 0.14492024464390366, Val Accuracy: 0.9567, Precision: 0.9573816197386301, Recall: 0.9567, F1 Score: 0.9565795016824393\n"
          ]
        },
        {
          "name": "stderr",
          "output_type": "stream",
          "text": [
            "100%|██████████| 938/938 [00:23<00:00, 39.52it/s, accuracy=0.969, loss=0.274, lr=0.0045]\n"
          ]
        },
        {
          "name": "stdout",
          "output_type": "stream",
          "text": [
            "Epoch 2, Val Loss: 0.1195502193243492, Val Accuracy: 0.9639, Precision: 0.9643605235514479, Recall: 0.9639, F1 Score: 0.9638929094036733\n"
          ]
        },
        {
          "name": "stderr",
          "output_type": "stream",
          "text": [
            "100%|██████████| 938/938 [00:23<00:00, 40.68it/s, accuracy=0.969, loss=0.0633, lr=0.00405]\n"
          ]
        },
        {
          "name": "stdout",
          "output_type": "stream",
          "text": [
            "Epoch 3, Val Loss: 0.11617275531189428, Val Accuracy: 0.9688, Precision: 0.9689904261215811, Recall: 0.9688, F1 Score: 0.9688229577672706\n"
          ]
        },
        {
          "name": "stderr",
          "output_type": "stream",
          "text": [
            "100%|██████████| 938/938 [00:23<00:00, 39.28it/s, accuracy=0.969, loss=0.0773, lr=0.00365]\n"
          ]
        },
        {
          "name": "stdout",
          "output_type": "stream",
          "text": [
            "Epoch 4, Val Loss: 0.11199375054809262, Val Accuracy: 0.9695, Precision: 0.9697797934232009, Recall: 0.9695, F1 Score: 0.9694896935401704\n"
          ]
        },
        {
          "name": "stderr",
          "output_type": "stream",
          "text": [
            "100%|██████████| 938/938 [00:22<00:00, 40.87it/s, accuracy=1, loss=0.00831, lr=0.00328]\n"
          ]
        },
        {
          "name": "stdout",
          "output_type": "stream",
          "text": [
            "Epoch 5, Val Loss: 0.10715035152670506, Val Accuracy: 0.9722, Precision: 0.9723893777137699, Recall: 0.9722, F1 Score: 0.9721743478442626\n"
          ]
        },
        {
          "name": "stderr",
          "output_type": "stream",
          "text": [
            "100%|██████████| 938/938 [00:23<00:00, 39.44it/s, accuracy=1, loss=0.00119, lr=0.00295]\n"
          ]
        },
        {
          "name": "stdout",
          "output_type": "stream",
          "text": [
            "Epoch 6, Val Loss: 0.10437655265968208, Val Accuracy: 0.9752, Precision: 0.9752300321905284, Recall: 0.9752, F1 Score: 0.9751809792183529\n"
          ]
        },
        {
          "name": "stderr",
          "output_type": "stream",
          "text": [
            "100%|██████████| 938/938 [00:22<00:00, 40.94it/s, accuracy=0.969, loss=0.0478, lr=0.00266]\n"
          ]
        },
        {
          "name": "stdout",
          "output_type": "stream",
          "text": [
            "Epoch 7, Val Loss: 0.10743589151401477, Val Accuracy: 0.9741, Precision: 0.9743543739859911, Recall: 0.9741, F1 Score: 0.9741081441256741\n"
          ]
        },
        {
          "name": "stderr",
          "output_type": "stream",
          "text": [
            "100%|██████████| 938/938 [00:24<00:00, 38.40it/s, accuracy=0.969, loss=0.0259, lr=0.00239]\n"
          ]
        },
        {
          "name": "stdout",
          "output_type": "stream",
          "text": [
            "Epoch 8, Val Loss: 0.11585918039613108, Val Accuracy: 0.9752, Precision: 0.9755003817157962, Recall: 0.9752, F1 Score: 0.9751956065202596\n"
          ]
        },
        {
          "name": "stderr",
          "output_type": "stream",
          "text": [
            "100%|██████████| 938/938 [00:22<00:00, 41.38it/s, accuracy=1, loss=0.000936, lr=0.00215]\n"
          ]
        },
        {
          "name": "stdout",
          "output_type": "stream",
          "text": [
            "Epoch 9, Val Loss: 0.10364148095486178, Val Accuracy: 0.9774, Precision: 0.9774332501114739, Recall: 0.9774, F1 Score: 0.9773968000431383\n"
          ]
        },
        {
          "name": "stderr",
          "output_type": "stream",
          "text": [
            "100%|██████████| 938/938 [00:24<00:00, 38.52it/s, accuracy=1, loss=8.64e-5, lr=0.00194]\n"
          ]
        },
        {
          "name": "stdout",
          "output_type": "stream",
          "text": [
            "Epoch 10, Val Loss: 0.10574557129779173, Val Accuracy: 0.9781, Precision: 0.9781452602392637, Recall: 0.9781, F1 Score: 0.9781032448602357\n"
          ]
        },
        {
          "name": "stderr",
          "output_type": "stream",
          "text": [
            "100%|██████████| 938/938 [00:23<00:00, 40.50it/s, accuracy=1, loss=0.00185, lr=0.00174]\n"
          ]
        },
        {
          "name": "stdout",
          "output_type": "stream",
          "text": [
            "Epoch 11, Val Loss: 0.09895183547698247, Val Accuracy: 0.9786, Precision: 0.9786709635312362, Recall: 0.9786, F1 Score: 0.978599365240871\n"
          ]
        },
        {
          "name": "stderr",
          "output_type": "stream",
          "text": [
            "100%|██████████| 938/938 [00:23<00:00, 40.36it/s, accuracy=0.969, loss=0.0732, lr=0.00157]\n"
          ]
        },
        {
          "name": "stdout",
          "output_type": "stream",
          "text": [
            "Epoch 12, Val Loss: 0.11054598323553298, Val Accuracy: 0.9769, Precision: 0.977018826343786, Recall: 0.9769, F1 Score: 0.9769066956928667\n"
          ]
        },
        {
          "name": "stderr",
          "output_type": "stream",
          "text": [
            "100%|██████████| 938/938 [00:24<00:00, 38.35it/s, accuracy=1, loss=0.00445, lr=0.00141]\n"
          ]
        },
        {
          "name": "stdout",
          "output_type": "stream",
          "text": [
            "Epoch 13, Val Loss: 0.09736508450548859, Val Accuracy: 0.9802, Precision: 0.9802169430026823, Recall: 0.9802, F1 Score: 0.9801978863723493\n"
          ]
        },
        {
          "name": "stderr",
          "output_type": "stream",
          "text": [
            "100%|██████████| 938/938 [00:23<00:00, 40.64it/s, accuracy=1, loss=7.64e-5, lr=0.00127]\n"
          ]
        },
        {
          "name": "stdout",
          "output_type": "stream",
          "text": [
            "Epoch 14, Val Loss: 0.09463741874661218, Val Accuracy: 0.9816, Precision: 0.9816461411528115, Recall: 0.9816, F1 Score: 0.9816057107630346\n"
          ]
        },
        {
          "name": "stderr",
          "output_type": "stream",
          "text": [
            "100%|██████████| 938/938 [00:24<00:00, 38.30it/s, accuracy=1, loss=0.000168, lr=0.00114]\n"
          ]
        },
        {
          "name": "stdout",
          "output_type": "stream",
          "text": [
            "Epoch 15, Val Loss: 0.09674197914241801, Val Accuracy: 0.9808, Precision: 0.9808198327666081, Recall: 0.9808, F1 Score: 0.9807943718419839\n"
          ]
        },
        {
          "name": "stderr",
          "output_type": "stream",
          "text": [
            "100%|██████████| 938/938 [00:23<00:00, 40.72it/s, accuracy=1, loss=4.61e-6, lr=0.00103]\n"
          ]
        },
        {
          "name": "stdout",
          "output_type": "stream",
          "text": [
            "Epoch 16, Val Loss: 0.09292469530112221, Val Accuracy: 0.9823, Precision: 0.9823013038617319, Recall: 0.9823, F1 Score: 0.9822986337485022\n"
          ]
        },
        {
          "name": "stderr",
          "output_type": "stream",
          "text": [
            "100%|██████████| 938/938 [00:24<00:00, 38.16it/s, accuracy=1, loss=0.000838, lr=0.000927]\n"
          ]
        },
        {
          "name": "stdout",
          "output_type": "stream",
          "text": [
            "Epoch 17, Val Loss: 0.09277242477548885, Val Accuracy: 0.9815, Precision: 0.9814954212713843, Recall: 0.9815, F1 Score: 0.9814951362864558\n"
          ]
        },
        {
          "name": "stderr",
          "output_type": "stream",
          "text": [
            "100%|██████████| 938/938 [00:23<00:00, 40.70it/s, accuracy=1, loss=8.26e-5, lr=0.000834]\n"
          ]
        },
        {
          "name": "stdout",
          "output_type": "stream",
          "text": [
            "Epoch 18, Val Loss: 0.09590785465521942, Val Accuracy: 0.9816, Precision: 0.9815951777738843, Recall: 0.9816, F1 Score: 0.9815913729525814\n"
          ]
        },
        {
          "name": "stderr",
          "output_type": "stream",
          "text": [
            "100%|██████████| 938/938 [00:24<00:00, 38.49it/s, accuracy=1, loss=0.000287, lr=0.00075]\n"
          ]
        },
        {
          "name": "stdout",
          "output_type": "stream",
          "text": [
            "Epoch 19, Val Loss: 0.09513301716785938, Val Accuracy: 0.9817, Precision: 0.9816995508053962, Recall: 0.9817, F1 Score: 0.9816933672273048\n"
          ]
        },
        {
          "name": "stderr",
          "output_type": "stream",
          "text": [
            "100%|██████████| 938/938 [00:22<00:00, 41.40it/s, accuracy=1, loss=0.000122, lr=0.000675]\n"
          ]
        },
        {
          "name": "stdout",
          "output_type": "stream",
          "text": [
            "Epoch 20, Val Loss: 0.09725745833338696, Val Accuracy: 0.9821, Precision: 0.9821119533206493, Recall: 0.9821, F1 Score: 0.9820989360291713\n"
          ]
        },
        {
          "name": "stderr",
          "output_type": "stream",
          "text": [
            "100%|██████████| 938/938 [00:23<00:00, 39.32it/s, accuracy=1, loss=7.64e-7, lr=0.000608]\n"
          ]
        },
        {
          "name": "stdout",
          "output_type": "stream",
          "text": [
            "Epoch 21, Val Loss: 0.0965571603683786, Val Accuracy: 0.9834, Precision: 0.9834057620538439, Recall: 0.9834, F1 Score: 0.9834006566934801\n"
          ]
        },
        {
          "name": "stderr",
          "output_type": "stream",
          "text": [
            "100%|██████████| 938/938 [00:23<00:00, 40.10it/s, accuracy=1, loss=1.01e-5, lr=0.000547]\n"
          ]
        },
        {
          "name": "stdout",
          "output_type": "stream",
          "text": [
            "Epoch 22, Val Loss: 0.099862729927432, Val Accuracy: 0.9826, Precision: 0.9826060104093309, Recall: 0.9826, F1 Score: 0.9825998711866556\n"
          ]
        },
        {
          "name": "stderr",
          "output_type": "stream",
          "text": [
            "100%|██████████| 938/938 [00:23<00:00, 40.53it/s, accuracy=1, loss=3.88e-5, lr=0.000492]\n"
          ]
        },
        {
          "name": "stdout",
          "output_type": "stream",
          "text": [
            "Epoch 23, Val Loss: 0.10247499941778675, Val Accuracy: 0.9819, Precision: 0.9818968923651722, Recall: 0.9819, F1 Score: 0.98189699308642\n"
          ]
        },
        {
          "name": "stderr",
          "output_type": "stream",
          "text": [
            "100%|██████████| 938/938 [00:23<00:00, 39.19it/s, accuracy=1, loss=1.72e-5, lr=0.000443]\n"
          ]
        },
        {
          "name": "stdout",
          "output_type": "stream",
          "text": [
            "Epoch 24, Val Loss: 0.10340217463674355, Val Accuracy: 0.9827, Precision: 0.9827040833068696, Recall: 0.9827, F1 Score: 0.982698801553966\n"
          ]
        },
        {
          "name": "stderr",
          "output_type": "stream",
          "text": [
            "100%|██████████| 938/938 [00:23<00:00, 40.30it/s, accuracy=1, loss=5.4e-7, lr=0.000399]\n"
          ]
        },
        {
          "name": "stdout",
          "output_type": "stream",
          "text": [
            "Epoch 25, Val Loss: 0.10668548438587691, Val Accuracy: 0.9827, Precision: 0.982705447218593, Recall: 0.9827, F1 Score: 0.9827004142840775\n"
          ]
        },
        {
          "name": "stderr",
          "output_type": "stream",
          "text": [
            "100%|██████████| 938/938 [00:24<00:00, 38.96it/s, accuracy=1, loss=9.35e-7, lr=0.000359]\n"
          ]
        },
        {
          "name": "stdout",
          "output_type": "stream",
          "text": [
            "Epoch 26, Val Loss: 0.1075776548502513, Val Accuracy: 0.9828, Precision: 0.982804921466909, Recall: 0.9828, F1 Score: 0.9827993501771932\n"
          ]
        },
        {
          "name": "stderr",
          "output_type": "stream",
          "text": [
            "100%|██████████| 938/938 [00:23<00:00, 40.39it/s, accuracy=1, loss=5.71e-6, lr=0.000323]\n"
          ]
        },
        {
          "name": "stdout",
          "output_type": "stream",
          "text": [
            "Epoch 27, Val Loss: 0.10950988605649167, Val Accuracy: 0.9823, Precision: 0.982307062867939, Recall: 0.9823, F1 Score: 0.9823004436687035\n"
          ]
        },
        {
          "name": "stderr",
          "output_type": "stream",
          "text": [
            "100%|██████████| 938/938 [00:24<00:00, 37.93it/s, accuracy=1, loss=3.49e-6, lr=0.000291]\n"
          ]
        },
        {
          "name": "stdout",
          "output_type": "stream",
          "text": [
            "Epoch 28, Val Loss: 0.11149347328658098, Val Accuracy: 0.9832, Precision: 0.9832073023522531, Recall: 0.9832, F1 Score: 0.983200458580363\n"
          ]
        },
        {
          "name": "stderr",
          "output_type": "stream",
          "text": [
            "100%|██████████| 938/938 [00:23<00:00, 40.35it/s, accuracy=1, loss=5.25e-6, lr=0.000262]\n"
          ]
        },
        {
          "name": "stdout",
          "output_type": "stream",
          "text": [
            "Epoch 29, Val Loss: 0.11389792131546901, Val Accuracy: 0.983, Precision: 0.9830113697623992, Recall: 0.983, F1 Score: 0.9830019512820036\n"
          ]
        },
        {
          "name": "stderr",
          "output_type": "stream",
          "text": [
            "100%|██████████| 938/938 [00:24<00:00, 37.57it/s, accuracy=1, loss=3.36e-6, lr=0.000236]\n"
          ]
        },
        {
          "name": "stdout",
          "output_type": "stream",
          "text": [
            "Epoch 30, Val Loss: 0.11509860513905816, Val Accuracy: 0.9821, Precision: 0.9821041797931619, Recall: 0.9821, F1 Score: 0.9820989939848261\n"
          ]
        },
        {
          "name": "stderr",
          "output_type": "stream",
          "text": [
            "100%|██████████| 938/938 [00:23<00:00, 39.80it/s, accuracy=0.938, loss=0.12, lr=0.005]\n"
          ]
        },
        {
          "name": "stdout",
          "output_type": "stream",
          "text": [
            "Epoch 1, Val Loss: 0.17891298256114505, Val Accuracy: 0.9453, Precision: 0.9479361272978025, Recall: 0.9453, F1 Score: 0.9454723771711031\n"
          ]
        },
        {
          "name": "stderr",
          "output_type": "stream",
          "text": [
            "100%|██████████| 938/938 [00:24<00:00, 37.88it/s, accuracy=0.875, loss=0.427, lr=0.0045]\n"
          ]
        },
        {
          "name": "stdout",
          "output_type": "stream",
          "text": [
            "Epoch 2, Val Loss: 0.13258125605028284, Val Accuracy: 0.9624, Precision: 0.9633376511113203, Recall: 0.9624, F1 Score: 0.9624708257881641\n"
          ]
        },
        {
          "name": "stderr",
          "output_type": "stream",
          "text": [
            "100%|██████████| 938/938 [00:23<00:00, 39.39it/s, accuracy=1, loss=0.00528, lr=0.00405]\n"
          ]
        },
        {
          "name": "stdout",
          "output_type": "stream",
          "text": [
            "Epoch 3, Val Loss: 0.1175981125301069, Val Accuracy: 0.9696, Precision: 0.9698463773924497, Recall: 0.9696, F1 Score: 0.9696021341704131\n"
          ]
        },
        {
          "name": "stderr",
          "output_type": "stream",
          "text": [
            "100%|██████████| 938/938 [00:23<00:00, 39.87it/s, accuracy=1, loss=0.0224, lr=0.00365]\n"
          ]
        },
        {
          "name": "stdout",
          "output_type": "stream",
          "text": [
            "Epoch 4, Val Loss: 0.10834040041334644, Val Accuracy: 0.9679, Precision: 0.9682503589379104, Recall: 0.9679, F1 Score: 0.967919156109285\n"
          ]
        },
        {
          "name": "stderr",
          "output_type": "stream",
          "text": [
            "100%|██████████| 938/938 [00:25<00:00, 37.36it/s, accuracy=0.969, loss=0.0468, lr=0.00328]\n"
          ]
        },
        {
          "name": "stdout",
          "output_type": "stream",
          "text": [
            "Epoch 5, Val Loss: 0.10434178729594501, Val Accuracy: 0.9739, Precision: 0.9740362863996972, Recall: 0.9739, F1 Score: 0.9739329382668614\n"
          ]
        },
        {
          "name": "stderr",
          "output_type": "stream",
          "text": [
            "100%|██████████| 938/938 [00:23<00:00, 39.76it/s, accuracy=1, loss=0.00414, lr=0.00295]\n"
          ]
        },
        {
          "name": "stdout",
          "output_type": "stream",
          "text": [
            "Epoch 6, Val Loss: 0.11651488568726286, Val Accuracy: 0.9718, Precision: 0.9720925127116857, Recall: 0.9718, F1 Score: 0.971801659789449\n"
          ]
        },
        {
          "name": "stderr",
          "output_type": "stream",
          "text": [
            "100%|██████████| 938/938 [00:25<00:00, 37.42it/s, accuracy=1, loss=8.51e-5, lr=0.00266]\n"
          ]
        },
        {
          "name": "stdout",
          "output_type": "stream",
          "text": [
            "Epoch 7, Val Loss: 0.1021625702307913, Val Accuracy: 0.9779, Precision: 0.9779075442675373, Recall: 0.9779, F1 Score: 0.977876362438272\n"
          ]
        },
        {
          "name": "stderr",
          "output_type": "stream",
          "text": [
            "100%|██████████| 938/938 [00:23<00:00, 39.09it/s, accuracy=1, loss=0.00415, lr=0.00239]\n"
          ]
        },
        {
          "name": "stdout",
          "output_type": "stream",
          "text": [
            "Epoch 8, Val Loss: 0.11556443848626345, Val Accuracy: 0.9739, Precision: 0.9740706913383478, Recall: 0.9739, F1 Score: 0.9738995349858167\n"
          ]
        },
        {
          "name": "stderr",
          "output_type": "stream",
          "text": [
            "100%|██████████| 938/938 [00:23<00:00, 39.20it/s, accuracy=1, loss=0.00784, lr=0.00215]\n"
          ]
        },
        {
          "name": "stdout",
          "output_type": "stream",
          "text": [
            "Epoch 9, Val Loss: 0.135808475460061, Val Accuracy: 0.971, Precision: 0.9714744152332798, Recall: 0.971, F1 Score: 0.9709958354549982\n"
          ]
        },
        {
          "name": "stderr",
          "output_type": "stream",
          "text": [
            "100%|██████████| 938/938 [00:25<00:00, 37.51it/s, accuracy=0.969, loss=0.0337, lr=0.00194]\n"
          ]
        },
        {
          "name": "stdout",
          "output_type": "stream",
          "text": [
            "Epoch 10, Val Loss: 0.09770334636997868, Val Accuracy: 0.9781, Precision: 0.9781786206915576, Recall: 0.9781, F1 Score: 0.9780983296280535\n"
          ]
        },
        {
          "name": "stderr",
          "output_type": "stream",
          "text": [
            "100%|██████████| 938/938 [00:23<00:00, 39.35it/s, accuracy=1, loss=0.000506, lr=0.00174]\n"
          ]
        },
        {
          "name": "stdout",
          "output_type": "stream",
          "text": [
            "Epoch 11, Val Loss: 0.10015094427294201, Val Accuracy: 0.9777, Precision: 0.9777344625451425, Recall: 0.9777, F1 Score: 0.9776991501070055\n"
          ]
        },
        {
          "name": "stderr",
          "output_type": "stream",
          "text": [
            "100%|██████████| 938/938 [00:25<00:00, 37.01it/s, accuracy=1, loss=0.000639, lr=0.00157]\n"
          ]
        },
        {
          "name": "stdout",
          "output_type": "stream",
          "text": [
            "Epoch 12, Val Loss: 0.12772320239151175, Val Accuracy: 0.974, Precision: 0.9742477575942959, Recall: 0.974, F1 Score: 0.9739940109597944\n"
          ]
        },
        {
          "name": "stderr",
          "output_type": "stream",
          "text": [
            "100%|██████████| 938/938 [00:23<00:00, 39.64it/s, accuracy=1, loss=0.000156, lr=0.00141]\n"
          ]
        },
        {
          "name": "stdout",
          "output_type": "stream",
          "text": [
            "Epoch 13, Val Loss: 0.10543735129554181, Val Accuracy: 0.9792, Precision: 0.9792156220640854, Recall: 0.9792, F1 Score: 0.9791945333095374\n"
          ]
        },
        {
          "name": "stderr",
          "output_type": "stream",
          "text": [
            "100%|██████████| 938/938 [00:24<00:00, 38.85it/s, accuracy=1, loss=0.000179, lr=0.00127]\n"
          ]
        },
        {
          "name": "stdout",
          "output_type": "stream",
          "text": [
            "Epoch 14, Val Loss: 0.09717283464925604, Val Accuracy: 0.9802, Precision: 0.9802848437442071, Recall: 0.9802, F1 Score: 0.980205416069541\n"
          ]
        },
        {
          "name": "stderr",
          "output_type": "stream",
          "text": [
            "100%|██████████| 938/938 [00:24<00:00, 37.95it/s, accuracy=1, loss=7.78e-5, lr=0.00114]\n"
          ]
        },
        {
          "name": "stdout",
          "output_type": "stream",
          "text": [
            "Epoch 15, Val Loss: 0.09238649156527394, Val Accuracy: 0.9808, Precision: 0.9808140177877375, Recall: 0.9808, F1 Score: 0.9807912386841042\n"
          ]
        },
        {
          "name": "stderr",
          "output_type": "stream",
          "text": [
            "100%|██████████| 938/938 [00:23<00:00, 39.86it/s, accuracy=1, loss=8.22e-6, lr=0.00103]\n"
          ]
        },
        {
          "name": "stdout",
          "output_type": "stream",
          "text": [
            "Epoch 16, Val Loss: 0.09254887811778995, Val Accuracy: 0.9806, Precision: 0.9806270578334133, Recall: 0.9806, F1 Score: 0.9805982322257162\n"
          ]
        },
        {
          "name": "stderr",
          "output_type": "stream",
          "text": [
            "100%|██████████| 938/938 [00:25<00:00, 36.87it/s, accuracy=1, loss=4.74e-6, lr=0.000927]\n"
          ]
        },
        {
          "name": "stdout",
          "output_type": "stream",
          "text": [
            "Epoch 17, Val Loss: 0.09153972984626438, Val Accuracy: 0.9812, Precision: 0.9812005445322939, Recall: 0.9812, F1 Score: 0.9811926619778666\n"
          ]
        },
        {
          "name": "stderr",
          "output_type": "stream",
          "text": [
            "100%|██████████| 938/938 [00:23<00:00, 39.50it/s, accuracy=1, loss=6.57e-5, lr=0.000834]\n"
          ]
        },
        {
          "name": "stdout",
          "output_type": "stream",
          "text": [
            "Epoch 18, Val Loss: 0.09140546284323224, Val Accuracy: 0.9818, Precision: 0.9818021559839688, Recall: 0.9818, F1 Score: 0.9817951268184177\n"
          ]
        },
        {
          "name": "stderr",
          "output_type": "stream",
          "text": [
            "100%|██████████| 938/938 [00:24<00:00, 38.63it/s, accuracy=1, loss=0.000191, lr=0.00075]\n"
          ]
        },
        {
          "name": "stdout",
          "output_type": "stream",
          "text": [
            "Epoch 19, Val Loss: 0.09327292275557113, Val Accuracy: 0.981, Precision: 0.9810201809307618, Recall: 0.981, F1 Score: 0.9809950532966892\n"
          ]
        },
        {
          "name": "stderr",
          "output_type": "stream",
          "text": [
            "100%|██████████| 938/938 [00:24<00:00, 38.22it/s, accuracy=1, loss=1.29e-5, lr=0.000675]\n"
          ]
        },
        {
          "name": "stdout",
          "output_type": "stream",
          "text": [
            "Epoch 20, Val Loss: 0.09458574593871442, Val Accuracy: 0.9809, Precision: 0.9809352052366418, Recall: 0.9809, F1 Score: 0.9808989469401186\n"
          ]
        },
        {
          "name": "stderr",
          "output_type": "stream",
          "text": [
            "100%|██████████| 938/938 [00:23<00:00, 39.73it/s, accuracy=1, loss=4.19e-5, lr=0.000608]\n"
          ]
        },
        {
          "name": "stdout",
          "output_type": "stream",
          "text": [
            "Epoch 21, Val Loss: 0.0949509966425433, Val Accuracy: 0.9814, Precision: 0.9814321082313822, Recall: 0.9814, F1 Score: 0.9813989732439357\n"
          ]
        },
        {
          "name": "stderr",
          "output_type": "stream",
          "text": [
            "100%|██████████| 938/938 [00:25<00:00, 37.14it/s, accuracy=1, loss=7.22e-5, lr=0.000547]\n"
          ]
        },
        {
          "name": "stdout",
          "output_type": "stream",
          "text": [
            "Epoch 22, Val Loss: 0.10624715539041653, Val Accuracy: 0.9797, Precision: 0.9797649900447859, Recall: 0.9797, F1 Score: 0.9796958115623121\n"
          ]
        },
        {
          "name": "stderr",
          "output_type": "stream",
          "text": [
            "100%|██████████| 938/938 [00:23<00:00, 39.59it/s, accuracy=1, loss=4.83e-5, lr=0.000492]\n"
          ]
        },
        {
          "name": "stdout",
          "output_type": "stream",
          "text": [
            "Epoch 23, Val Loss: 0.0992995660640787, Val Accuracy: 0.9813, Precision: 0.9813134402512098, Recall: 0.9813, F1 Score: 0.981292186492841\n"
          ]
        },
        {
          "name": "stderr",
          "output_type": "stream",
          "text": [
            "100%|██████████| 938/938 [00:25<00:00, 37.40it/s, accuracy=1, loss=0.000135, lr=0.000443]\n"
          ]
        },
        {
          "name": "stdout",
          "output_type": "stream",
          "text": [
            "Epoch 24, Val Loss: 0.0981686888250028, Val Accuracy: 0.9816, Precision: 0.9816024929124892, Recall: 0.9816, F1 Score: 0.9815923600088059\n"
          ]
        },
        {
          "name": "stderr",
          "output_type": "stream",
          "text": [
            "100%|██████████| 938/938 [00:24<00:00, 39.07it/s, accuracy=1, loss=4.22e-6, lr=0.000399]\n"
          ]
        },
        {
          "name": "stdout",
          "output_type": "stream",
          "text": [
            "Epoch 25, Val Loss: 0.09720655302429551, Val Accuracy: 0.9822, Precision: 0.9822140994993243, Recall: 0.9822, F1 Score: 0.9821980675373471\n"
          ]
        },
        {
          "name": "stderr",
          "output_type": "stream",
          "text": [
            "100%|██████████| 938/938 [00:23<00:00, 39.52it/s, accuracy=1, loss=2.34e-5, lr=0.000359]\n"
          ]
        },
        {
          "name": "stdout",
          "output_type": "stream",
          "text": [
            "Epoch 26, Val Loss: 0.09716503282896048, Val Accuracy: 0.9817, Precision: 0.9817039424402993, Recall: 0.9817, F1 Score: 0.9816944751378667\n"
          ]
        },
        {
          "name": "stderr",
          "output_type": "stream",
          "text": [
            "100%|██████████| 938/938 [00:23<00:00, 39.41it/s, accuracy=1, loss=1.03e-5, lr=0.000323]\n"
          ]
        },
        {
          "name": "stdout",
          "output_type": "stream",
          "text": [
            "Epoch 27, Val Loss: 0.09753725670542876, Val Accuracy: 0.982, Precision: 0.9820158910481872, Recall: 0.982, F1 Score: 0.9819970444628084\n"
          ]
        },
        {
          "name": "stderr",
          "output_type": "stream",
          "text": [
            "100%|██████████| 938/938 [00:23<00:00, 39.78it/s, accuracy=1, loss=1.24e-5, lr=0.000291]\n"
          ]
        },
        {
          "name": "stdout",
          "output_type": "stream",
          "text": [
            "Epoch 28, Val Loss: 0.09864768001959377, Val Accuracy: 0.9814, Precision: 0.9814150191737067, Recall: 0.9814, F1 Score: 0.9813958225846251\n"
          ]
        },
        {
          "name": "stderr",
          "output_type": "stream",
          "text": [
            "100%|██████████| 938/938 [00:25<00:00, 37.12it/s, accuracy=1, loss=2.49e-6, lr=0.000262]\n"
          ]
        },
        {
          "name": "stdout",
          "output_type": "stream",
          "text": [
            "Epoch 29, Val Loss: 0.09916071078565308, Val Accuracy: 0.9822, Precision: 0.9822062225126204, Recall: 0.9822, F1 Score: 0.9821950557695962\n"
          ]
        },
        {
          "name": "stderr",
          "output_type": "stream",
          "text": [
            "100%|██████████| 938/938 [00:23<00:00, 39.10it/s, accuracy=1, loss=9.69e-8, lr=0.000236]\n"
          ]
        },
        {
          "name": "stdout",
          "output_type": "stream",
          "text": [
            "Epoch 30, Val Loss: 0.10065157175277045, Val Accuracy: 0.9818, Precision: 0.9818135327211661, Recall: 0.9818, F1 Score: 0.9817948766708329\n"
          ]
        }
      ],
      "source": [
        "epochs = 30\n",
        "hdims = [16, 32, 64, 128, 256, 512]\n",
        "hdim_metrics = {\n",
        "    'accuracy': np.empty((6, epochs)),\n",
        "    'precision': np.empty((6, epochs)),\n",
        "    'recall': np.empty((6, epochs)),\n",
        "    'f1_score': np.empty((6, epochs)),\n",
        "}\n",
        "for h, hdim in enumerate(hdims):\n",
        "    torch.manual_seed(42)\n",
        "    # Define model\n",
        "    model = KAN(layers_hidden=[28 * 28, hdim, 10], grid_size=8)\n",
        "    device = torch.device(\"cuda\" if torch.cuda.is_available() else \"cpu\")\n",
        "    model.to(device)\n",
        "    # Define optimizer\n",
        "    optimizer = optim.AdamW(model.parameters(), lr=5e-3, weight_decay=.01)\n",
        "    # Define learning rate scheduler\n",
        "    scheduler = optim.lr_scheduler.ExponentialLR(optimizer, gamma=0.9)\n",
        "\n",
        "    # Define loss\n",
        "    criterion = nn.CrossEntropyLoss()\n",
        "    for epoch in range(epochs):\n",
        "        # Train\n",
        "        model.train()\n",
        "        with tqdm(train_loader) as pbar:\n",
        "            for i, (images, labels) in enumerate(pbar):\n",
        "                images = images.view(-1, 28 * 28).to(device)\n",
        "                optimizer.zero_grad()\n",
        "                output = model(images)\n",
        "                loss = criterion(output, labels.to(device))\n",
        "                loss.backward()\n",
        "                optimizer.step()\n",
        "                accuracy = (output.argmax(dim=1) == labels.to(device)).float().mean()\n",
        "                pbar.set_postfix(loss=loss.item(), accuracy=accuracy.item(), lr=optimizer.param_groups[0]['lr'])\n",
        "\n",
        "        # Validation\n",
        "        model.eval()\n",
        "        all_preds = []\n",
        "        all_labels = []\n",
        "        val_loss = 0\n",
        "        with torch.no_grad():\n",
        "            for images, labels in val_loader:\n",
        "                images = images.view(-1, 28 * 28).to(device)\n",
        "                output = model(images)\n",
        "                val_loss += criterion(output, labels.to(device)).item()\n",
        "                preds = output.argmax(dim=1)\n",
        "                all_preds.extend(preds.cpu().numpy())\n",
        "                all_labels.extend(labels.cpu().numpy())\n",
        "\n",
        "        val_loss /= len(val_loader)\n",
        "        val_accuracy = (np.array(all_preds) == np.array(all_labels)).mean()\n",
        "        val_precision = precision_score(all_labels, all_preds, average='weighted')\n",
        "        val_recall = recall_score(all_labels, all_preds, average='weighted')\n",
        "        val_f1 = f1_score(all_labels, all_preds, average='weighted')\n",
        "\n",
        "        # Store metrics\n",
        "        hdim_metrics['accuracy'][h, epoch] = val_accuracy\n",
        "        hdim_metrics['precision'][h, epoch] = val_precision\n",
        "        hdim_metrics['recall'][h, epoch] = val_recall\n",
        "        hdim_metrics['f1_score'][h, epoch] = val_f1\n",
        "\n",
        "        # Update learning rate\n",
        "        scheduler.step()\n",
        "\n",
        "        print(\n",
        "            f\"Epoch {epoch + 1}, Val Loss: {val_loss}, \"\n",
        "            f\"Val Accuracy: {val_accuracy}, Precision: {val_precision}, \"\n",
        "            f\"Recall: {val_recall}, F1 Score: {val_f1}\"\n",
        "        )"
      ]
    },
    {
      "cell_type": "code",
      "execution_count": null,
      "metadata": {
        "colab": {
          "background_save": true
        },
        "id": "0Q---Bw1XMPx"
      },
      "outputs": [],
      "source": [
        "np.save('./saved_results/bspline_hdim_metrics.npy', hdim_metrics)"
      ]
    },
    {
      "cell_type": "code",
      "execution_count": null,
      "metadata": {
        "colab": {
          "background_save": true
        },
        "id": "9hvytZJwUcri",
        "outputId": "258f951e-f857-42cf-ba70-ca03ef6cac4c"
      },
      "outputs": [
        {
          "name": "stderr",
          "output_type": "stream",
          "text": [
            "100%|██████████| 938/938 [00:22<00:00, 41.16it/s, accuracy=0.938, loss=0.247, lr=0.005]\n"
          ]
        },
        {
          "name": "stdout",
          "output_type": "stream",
          "text": [
            "Epoch 1, Val Loss: 0.16121391121929832, Val Accuracy: 0.9515\n"
          ]
        },
        {
          "name": "stderr",
          "output_type": "stream",
          "text": [
            "100%|██████████| 938/938 [00:21<00:00, 43.39it/s, accuracy=1, loss=0.0498, lr=0.0045]\n"
          ]
        },
        {
          "name": "stdout",
          "output_type": "stream",
          "text": [
            "Epoch 2, Val Loss: 0.15240780582687088, Val Accuracy: 0.9557\n"
          ]
        },
        {
          "name": "stderr",
          "output_type": "stream",
          "text": [
            "100%|██████████| 938/938 [00:23<00:00, 40.69it/s, accuracy=0.969, loss=0.0606, lr=0.00405]\n"
          ]
        },
        {
          "name": "stdout",
          "output_type": "stream",
          "text": [
            "Epoch 3, Val Loss: 0.10760607229162729, Val Accuracy: 0.9691\n"
          ]
        },
        {
          "name": "stderr",
          "output_type": "stream",
          "text": [
            "100%|██████████| 938/938 [00:21<00:00, 42.65it/s, accuracy=1, loss=0.0156, lr=0.00365]\n"
          ]
        },
        {
          "name": "stdout",
          "output_type": "stream",
          "text": [
            "Epoch 4, Val Loss: 0.11026990085404224, Val Accuracy: 0.9696\n"
          ]
        },
        {
          "name": "stderr",
          "output_type": "stream",
          "text": [
            "100%|██████████| 938/938 [00:21<00:00, 42.74it/s, accuracy=0.969, loss=0.0937, lr=0.00328]\n"
          ]
        },
        {
          "name": "stdout",
          "output_type": "stream",
          "text": [
            "Epoch 5, Val Loss: 0.11025505428083625, Val Accuracy: 0.9727\n"
          ]
        },
        {
          "name": "stderr",
          "output_type": "stream",
          "text": [
            "100%|██████████| 938/938 [00:22<00:00, 41.83it/s, accuracy=1, loss=0.00146, lr=0.00295]\n"
          ]
        },
        {
          "name": "stdout",
          "output_type": "stream",
          "text": [
            "Epoch 6, Val Loss: 0.12773910253059848, Val Accuracy: 0.9706\n"
          ]
        },
        {
          "name": "stderr",
          "output_type": "stream",
          "text": [
            "100%|██████████| 938/938 [00:21<00:00, 43.39it/s, accuracy=1, loss=0.00157, lr=0.00266]\n"
          ]
        },
        {
          "name": "stdout",
          "output_type": "stream",
          "text": [
            "Epoch 7, Val Loss: 0.1210601939638897, Val Accuracy: 0.9732\n"
          ]
        },
        {
          "name": "stderr",
          "output_type": "stream",
          "text": [
            "100%|██████████| 938/938 [00:23<00:00, 40.69it/s, accuracy=0.969, loss=0.0737, lr=0.00239]\n"
          ]
        },
        {
          "name": "stdout",
          "output_type": "stream",
          "text": [
            "Epoch 8, Val Loss: 0.11560738976336875, Val Accuracy: 0.9729\n"
          ]
        },
        {
          "name": "stderr",
          "output_type": "stream",
          "text": [
            "100%|██████████| 938/938 [00:22<00:00, 42.41it/s, accuracy=1, loss=0.00161, lr=0.00215]\n"
          ]
        },
        {
          "name": "stdout",
          "output_type": "stream",
          "text": [
            "Epoch 9, Val Loss: 0.10293183892108095, Val Accuracy: 0.9777\n"
          ]
        },
        {
          "name": "stderr",
          "output_type": "stream",
          "text": [
            "100%|██████████| 938/938 [00:23<00:00, 40.64it/s, accuracy=1, loss=0.00121, lr=0.00194]\n"
          ]
        },
        {
          "name": "stdout",
          "output_type": "stream",
          "text": [
            "Epoch 10, Val Loss: 0.12806741701691932, Val Accuracy: 0.9743\n"
          ]
        },
        {
          "name": "stderr",
          "output_type": "stream",
          "text": [
            "100%|██████████| 938/938 [00:21<00:00, 43.35it/s, accuracy=1, loss=0.00412, lr=0.00174]\n"
          ]
        },
        {
          "name": "stdout",
          "output_type": "stream",
          "text": [
            "Epoch 11, Val Loss: 0.1197519475002496, Val Accuracy: 0.9743\n"
          ]
        },
        {
          "name": "stderr",
          "output_type": "stream",
          "text": [
            "100%|██████████| 938/938 [00:23<00:00, 40.25it/s, accuracy=1, loss=0.0045, lr=0.00157]\n"
          ]
        },
        {
          "name": "stdout",
          "output_type": "stream",
          "text": [
            "Epoch 12, Val Loss: 0.15622451186309255, Val Accuracy: 0.9687\n"
          ]
        },
        {
          "name": "stderr",
          "output_type": "stream",
          "text": [
            "100%|██████████| 938/938 [00:21<00:00, 43.82it/s, accuracy=1, loss=0.000576, lr=0.00141]\n"
          ]
        },
        {
          "name": "stdout",
          "output_type": "stream",
          "text": [
            "Epoch 13, Val Loss: 0.11377890422549787, Val Accuracy: 0.9771\n"
          ]
        },
        {
          "name": "stderr",
          "output_type": "stream",
          "text": [
            "100%|██████████| 938/938 [00:23<00:00, 40.65it/s, accuracy=1, loss=0.000582, lr=0.00127]\n"
          ]
        },
        {
          "name": "stdout",
          "output_type": "stream",
          "text": [
            "Epoch 14, Val Loss: 0.1165075954504993, Val Accuracy: 0.9771\n"
          ]
        },
        {
          "name": "stderr",
          "output_type": "stream",
          "text": [
            "100%|██████████| 938/938 [00:21<00:00, 43.85it/s, accuracy=1, loss=1.74e-5, lr=0.00114]\n"
          ]
        },
        {
          "name": "stdout",
          "output_type": "stream",
          "text": [
            "Epoch 15, Val Loss: 0.10864010908848601, Val Accuracy: 0.978\n"
          ]
        },
        {
          "name": "stderr",
          "output_type": "stream",
          "text": [
            "100%|██████████| 938/938 [00:23<00:00, 40.70it/s, accuracy=1, loss=0.000148, lr=0.00103]\n"
          ]
        },
        {
          "name": "stdout",
          "output_type": "stream",
          "text": [
            "Epoch 16, Val Loss: 0.10578310680249592, Val Accuracy: 0.9788\n"
          ]
        },
        {
          "name": "stderr",
          "output_type": "stream",
          "text": [
            "100%|██████████| 938/938 [00:21<00:00, 43.61it/s, accuracy=1, loss=1.93e-5, lr=0.000927]\n"
          ]
        },
        {
          "name": "stdout",
          "output_type": "stream",
          "text": [
            "Epoch 17, Val Loss: 0.10640927022978687, Val Accuracy: 0.9792\n"
          ]
        },
        {
          "name": "stderr",
          "output_type": "stream",
          "text": [
            "100%|██████████| 938/938 [00:23<00:00, 39.77it/s, accuracy=1, loss=2.28e-5, lr=0.000834]\n"
          ]
        },
        {
          "name": "stdout",
          "output_type": "stream",
          "text": [
            "Epoch 18, Val Loss: 0.10562599329069762, Val Accuracy: 0.9792\n"
          ]
        },
        {
          "name": "stderr",
          "output_type": "stream",
          "text": [
            "100%|██████████| 938/938 [00:21<00:00, 43.64it/s, accuracy=1, loss=5.29e-5, lr=0.00075]\n"
          ]
        },
        {
          "name": "stdout",
          "output_type": "stream",
          "text": [
            "Epoch 19, Val Loss: 0.10880076246047575, Val Accuracy: 0.9788\n"
          ]
        },
        {
          "name": "stderr",
          "output_type": "stream",
          "text": [
            "100%|██████████| 938/938 [00:23<00:00, 40.26it/s, accuracy=1, loss=3.9e-6, lr=0.000675]\n"
          ]
        },
        {
          "name": "stdout",
          "output_type": "stream",
          "text": [
            "Epoch 20, Val Loss: 0.1090812446387611, Val Accuracy: 0.9793\n"
          ]
        },
        {
          "name": "stderr",
          "output_type": "stream",
          "text": [
            "100%|██████████| 938/938 [00:21<00:00, 43.17it/s, accuracy=1, loss=0.000116, lr=0.000608]\n"
          ]
        },
        {
          "name": "stdout",
          "output_type": "stream",
          "text": [
            "Epoch 21, Val Loss: 0.11347672641921781, Val Accuracy: 0.979\n"
          ]
        },
        {
          "name": "stderr",
          "output_type": "stream",
          "text": [
            "100%|██████████| 938/938 [00:23<00:00, 39.89it/s, accuracy=1, loss=2.78e-5, lr=0.000547]\n"
          ]
        },
        {
          "name": "stdout",
          "output_type": "stream",
          "text": [
            "Epoch 22, Val Loss: 0.11369380329827615, Val Accuracy: 0.9796\n"
          ]
        },
        {
          "name": "stderr",
          "output_type": "stream",
          "text": [
            "100%|██████████| 938/938 [00:21<00:00, 42.89it/s, accuracy=1, loss=4.21e-5, lr=0.000492]\n"
          ]
        },
        {
          "name": "stdout",
          "output_type": "stream",
          "text": [
            "Epoch 23, Val Loss: 0.11642336652045468, Val Accuracy: 0.9791\n"
          ]
        },
        {
          "name": "stderr",
          "output_type": "stream",
          "text": [
            "100%|██████████| 938/938 [00:23<00:00, 39.79it/s, accuracy=1, loss=6.33e-5, lr=0.000443]\n"
          ]
        },
        {
          "name": "stdout",
          "output_type": "stream",
          "text": [
            "Epoch 24, Val Loss: 0.11968855288483363, Val Accuracy: 0.9789\n"
          ]
        },
        {
          "name": "stderr",
          "output_type": "stream",
          "text": [
            "100%|██████████| 938/938 [00:22<00:00, 42.05it/s, accuracy=1, loss=2.27e-5, lr=0.000399]\n"
          ]
        },
        {
          "name": "stdout",
          "output_type": "stream",
          "text": [
            "Epoch 25, Val Loss: 0.12226070614615948, Val Accuracy: 0.9797\n"
          ]
        },
        {
          "name": "stderr",
          "output_type": "stream",
          "text": [
            "100%|██████████| 938/938 [00:23<00:00, 40.17it/s, accuracy=1, loss=4.27e-6, lr=0.000359]\n"
          ]
        },
        {
          "name": "stdout",
          "output_type": "stream",
          "text": [
            "Epoch 26, Val Loss: 0.1246040755892989, Val Accuracy: 0.979\n"
          ]
        },
        {
          "name": "stderr",
          "output_type": "stream",
          "text": [
            "100%|██████████| 938/938 [00:21<00:00, 43.68it/s, accuracy=1, loss=2.33e-5, lr=0.000323]\n"
          ]
        },
        {
          "name": "stdout",
          "output_type": "stream",
          "text": [
            "Epoch 27, Val Loss: 0.1266034730156854, Val Accuracy: 0.9795\n"
          ]
        },
        {
          "name": "stderr",
          "output_type": "stream",
          "text": [
            "100%|██████████| 938/938 [00:22<00:00, 40.94it/s, accuracy=1, loss=5.51e-7, lr=0.000291]\n"
          ]
        },
        {
          "name": "stdout",
          "output_type": "stream",
          "text": [
            "Epoch 28, Val Loss: 0.13044424198852933, Val Accuracy: 0.9799\n"
          ]
        },
        {
          "name": "stderr",
          "output_type": "stream",
          "text": [
            "100%|██████████| 938/938 [00:21<00:00, 42.90it/s, accuracy=1, loss=7.04e-7, lr=0.000262]\n"
          ]
        },
        {
          "name": "stdout",
          "output_type": "stream",
          "text": [
            "Epoch 29, Val Loss: 0.1325117954456429, Val Accuracy: 0.9791\n"
          ]
        },
        {
          "name": "stderr",
          "output_type": "stream",
          "text": [
            "100%|██████████| 938/938 [00:21<00:00, 42.67it/s, accuracy=1, loss=1.68e-6, lr=0.000236]\n"
          ]
        },
        {
          "name": "stdout",
          "output_type": "stream",
          "text": [
            "Epoch 30, Val Loss: 0.13372443689878927, Val Accuracy: 0.9793\n"
          ]
        },
        {
          "name": "stderr",
          "output_type": "stream",
          "text": [
            "100%|██████████| 938/938 [00:25<00:00, 37.04it/s, accuracy=0.875, loss=0.234, lr=0.005]\n"
          ]
        },
        {
          "name": "stdout",
          "output_type": "stream",
          "text": [
            "Epoch 1, Val Loss: 0.16853499297604296, Val Accuracy: 0.951\n"
          ]
        },
        {
          "name": "stderr",
          "output_type": "stream",
          "text": [
            "100%|██████████| 938/938 [00:23<00:00, 39.40it/s, accuracy=0.938, loss=0.297, lr=0.0045]\n"
          ]
        },
        {
          "name": "stdout",
          "output_type": "stream",
          "text": [
            "Epoch 2, Val Loss: 0.15240767692100066, Val Accuracy: 0.9561\n"
          ]
        },
        {
          "name": "stderr",
          "output_type": "stream",
          "text": [
            "100%|██████████| 938/938 [00:24<00:00, 38.83it/s, accuracy=1, loss=0.012, lr=0.00405]\n"
          ]
        },
        {
          "name": "stdout",
          "output_type": "stream",
          "text": [
            "Epoch 3, Val Loss: 0.1474758401427086, Val Accuracy: 0.9597\n"
          ]
        },
        {
          "name": "stderr",
          "output_type": "stream",
          "text": [
            "100%|██████████| 938/938 [00:25<00:00, 36.75it/s, accuracy=1, loss=0.00609, lr=0.00365]\n"
          ]
        },
        {
          "name": "stdout",
          "output_type": "stream",
          "text": [
            "Epoch 4, Val Loss: 0.13450230084993905, Val Accuracy: 0.9653\n"
          ]
        },
        {
          "name": "stderr",
          "output_type": "stream",
          "text": [
            "100%|██████████| 938/938 [00:24<00:00, 38.20it/s, accuracy=0.906, loss=0.203, lr=0.00328]\n"
          ]
        },
        {
          "name": "stdout",
          "output_type": "stream",
          "text": [
            "Epoch 5, Val Loss: 0.1273937040600367, Val Accuracy: 0.967\n"
          ]
        },
        {
          "name": "stderr",
          "output_type": "stream",
          "text": [
            "100%|██████████| 938/938 [00:23<00:00, 39.74it/s, accuracy=0.969, loss=0.132, lr=0.00295]\n"
          ]
        },
        {
          "name": "stdout",
          "output_type": "stream",
          "text": [
            "Epoch 6, Val Loss: 0.12410746102690678, Val Accuracy: 0.9704\n"
          ]
        },
        {
          "name": "stderr",
          "output_type": "stream",
          "text": [
            "100%|██████████| 938/938 [00:25<00:00, 37.01it/s, accuracy=1, loss=0.0212, lr=0.00266]\n"
          ]
        },
        {
          "name": "stdout",
          "output_type": "stream",
          "text": [
            "Epoch 7, Val Loss: 0.14185180341835016, Val Accuracy: 0.9644\n"
          ]
        },
        {
          "name": "stderr",
          "output_type": "stream",
          "text": [
            "100%|██████████| 938/938 [00:24<00:00, 37.83it/s, accuracy=1, loss=0.00123, lr=0.00239]\n"
          ]
        },
        {
          "name": "stdout",
          "output_type": "stream",
          "text": [
            "Epoch 8, Val Loss: 0.12470687996072599, Val Accuracy: 0.9674\n"
          ]
        },
        {
          "name": "stderr",
          "output_type": "stream",
          "text": [
            "100%|██████████| 938/938 [00:23<00:00, 39.74it/s, accuracy=0.969, loss=0.0469, lr=0.00215]\n"
          ]
        },
        {
          "name": "stdout",
          "output_type": "stream",
          "text": [
            "Epoch 9, Val Loss: 0.12997042580563303, Val Accuracy: 0.9723\n"
          ]
        },
        {
          "name": "stderr",
          "output_type": "stream",
          "text": [
            "100%|██████████| 938/938 [00:24<00:00, 38.03it/s, accuracy=1, loss=0.00551, lr=0.00194]\n"
          ]
        },
        {
          "name": "stdout",
          "output_type": "stream",
          "text": [
            "Epoch 10, Val Loss: 0.1264047576581801, Val Accuracy: 0.9761\n"
          ]
        },
        {
          "name": "stderr",
          "output_type": "stream",
          "text": [
            "100%|██████████| 938/938 [00:25<00:00, 37.23it/s, accuracy=1, loss=0.00392, lr=0.00174]\n"
          ]
        },
        {
          "name": "stdout",
          "output_type": "stream",
          "text": [
            "Epoch 11, Val Loss: 0.13666492470563255, Val Accuracy: 0.9729\n"
          ]
        },
        {
          "name": "stderr",
          "output_type": "stream",
          "text": [
            "100%|██████████| 938/938 [00:23<00:00, 39.10it/s, accuracy=1, loss=8.58e-5, lr=0.00157]\n"
          ]
        },
        {
          "name": "stdout",
          "output_type": "stream",
          "text": [
            "Epoch 12, Val Loss: 0.14112000126561047, Val Accuracy: 0.9738\n"
          ]
        },
        {
          "name": "stderr",
          "output_type": "stream",
          "text": [
            "100%|██████████| 938/938 [00:23<00:00, 39.26it/s, accuracy=1, loss=0.000839, lr=0.00141]\n"
          ]
        },
        {
          "name": "stdout",
          "output_type": "stream",
          "text": [
            "Epoch 13, Val Loss: 0.14320670675898525, Val Accuracy: 0.9747\n"
          ]
        },
        {
          "name": "stderr",
          "output_type": "stream",
          "text": [
            "100%|██████████| 938/938 [00:25<00:00, 36.52it/s, accuracy=1, loss=0.000115, lr=0.00127]\n"
          ]
        },
        {
          "name": "stdout",
          "output_type": "stream",
          "text": [
            "Epoch 14, Val Loss: 0.14019322234199016, Val Accuracy: 0.9756\n"
          ]
        },
        {
          "name": "stderr",
          "output_type": "stream",
          "text": [
            "100%|██████████| 938/938 [00:24<00:00, 37.97it/s, accuracy=1, loss=0.000381, lr=0.00114]\n"
          ]
        },
        {
          "name": "stdout",
          "output_type": "stream",
          "text": [
            "Epoch 15, Val Loss: 0.14890330900819607, Val Accuracy: 0.9763\n"
          ]
        },
        {
          "name": "stderr",
          "output_type": "stream",
          "text": [
            "100%|██████████| 938/938 [00:24<00:00, 39.03it/s, accuracy=1, loss=4.65e-5, lr=0.00103]\n"
          ]
        },
        {
          "name": "stdout",
          "output_type": "stream",
          "text": [
            "Epoch 16, Val Loss: 0.13039174250228044, Val Accuracy: 0.9788\n"
          ]
        },
        {
          "name": "stderr",
          "output_type": "stream",
          "text": [
            "100%|██████████| 938/938 [00:25<00:00, 36.51it/s, accuracy=1, loss=0.000839, lr=0.000927]\n"
          ]
        },
        {
          "name": "stdout",
          "output_type": "stream",
          "text": [
            "Epoch 17, Val Loss: 0.13478920649316795, Val Accuracy: 0.9778\n"
          ]
        },
        {
          "name": "stderr",
          "output_type": "stream",
          "text": [
            "100%|██████████| 938/938 [00:24<00:00, 38.58it/s, accuracy=1, loss=1.58e-5, lr=0.000834]\n"
          ]
        },
        {
          "name": "stdout",
          "output_type": "stream",
          "text": [
            "Epoch 18, Val Loss: 0.13428747613293893, Val Accuracy: 0.9783\n"
          ]
        },
        {
          "name": "stderr",
          "output_type": "stream",
          "text": [
            "100%|██████████| 938/938 [00:23<00:00, 39.17it/s, accuracy=1, loss=3.57e-5, lr=0.00075]\n"
          ]
        },
        {
          "name": "stdout",
          "output_type": "stream",
          "text": [
            "Epoch 19, Val Loss: 0.12921650727647693, Val Accuracy: 0.9797\n"
          ]
        },
        {
          "name": "stderr",
          "output_type": "stream",
          "text": [
            "100%|██████████| 938/938 [00:25<00:00, 36.49it/s, accuracy=1, loss=8.53e-7, lr=0.000675]\n"
          ]
        },
        {
          "name": "stdout",
          "output_type": "stream",
          "text": [
            "Epoch 20, Val Loss: 0.130770515991937, Val Accuracy: 0.9801\n"
          ]
        },
        {
          "name": "stderr",
          "output_type": "stream",
          "text": [
            "100%|██████████| 938/938 [00:24<00:00, 38.98it/s, accuracy=1, loss=4.6e-5, lr=0.000608]\n"
          ]
        },
        {
          "name": "stdout",
          "output_type": "stream",
          "text": [
            "Epoch 21, Val Loss: 0.1327751827523914, Val Accuracy: 0.9798\n"
          ]
        },
        {
          "name": "stderr",
          "output_type": "stream",
          "text": [
            "100%|██████████| 938/938 [00:24<00:00, 39.03it/s, accuracy=1, loss=0.000119, lr=0.000547]\n"
          ]
        },
        {
          "name": "stdout",
          "output_type": "stream",
          "text": [
            "Epoch 22, Val Loss: 0.13530971738236597, Val Accuracy: 0.9799\n"
          ]
        },
        {
          "name": "stderr",
          "output_type": "stream",
          "text": [
            "100%|██████████| 938/938 [00:25<00:00, 36.49it/s, accuracy=1, loss=0.000385, lr=0.000492]\n"
          ]
        },
        {
          "name": "stdout",
          "output_type": "stream",
          "text": [
            "Epoch 23, Val Loss: 0.13670776590439174, Val Accuracy: 0.9796\n"
          ]
        },
        {
          "name": "stderr",
          "output_type": "stream",
          "text": [
            "100%|██████████| 938/938 [00:24<00:00, 38.94it/s, accuracy=1, loss=3.18e-6, lr=0.000443]\n"
          ]
        },
        {
          "name": "stdout",
          "output_type": "stream",
          "text": [
            "Epoch 24, Val Loss: 0.13890346285300878, Val Accuracy: 0.9793\n"
          ]
        },
        {
          "name": "stderr",
          "output_type": "stream",
          "text": [
            "100%|██████████| 938/938 [00:23<00:00, 39.45it/s, accuracy=1, loss=5.83e-6, lr=0.000399]\n"
          ]
        },
        {
          "name": "stdout",
          "output_type": "stream",
          "text": [
            "Epoch 25, Val Loss: 0.14097282116305224, Val Accuracy: 0.9803\n"
          ]
        },
        {
          "name": "stderr",
          "output_type": "stream",
          "text": [
            "100%|██████████| 938/938 [00:25<00:00, 36.81it/s, accuracy=1, loss=3.5e-6, lr=0.000359]\n"
          ]
        },
        {
          "name": "stdout",
          "output_type": "stream",
          "text": [
            "Epoch 26, Val Loss: 0.14519807041767194, Val Accuracy: 0.9802\n"
          ]
        },
        {
          "name": "stderr",
          "output_type": "stream",
          "text": [
            "100%|██████████| 938/938 [00:24<00:00, 38.61it/s, accuracy=1, loss=3.06e-6, lr=0.000323]\n"
          ]
        },
        {
          "name": "stdout",
          "output_type": "stream",
          "text": [
            "Epoch 27, Val Loss: 0.14859045108573601, Val Accuracy: 0.9797\n"
          ]
        },
        {
          "name": "stderr",
          "output_type": "stream",
          "text": [
            "100%|██████████| 938/938 [00:24<00:00, 38.80it/s, accuracy=1, loss=2.01e-5, lr=0.000291]\n"
          ]
        },
        {
          "name": "stdout",
          "output_type": "stream",
          "text": [
            "Epoch 28, Val Loss: 0.15249687281189583, Val Accuracy: 0.9798\n"
          ]
        },
        {
          "name": "stderr",
          "output_type": "stream",
          "text": [
            "100%|██████████| 938/938 [00:25<00:00, 36.22it/s, accuracy=1, loss=1.49e-8, lr=0.000262]\n"
          ]
        },
        {
          "name": "stdout",
          "output_type": "stream",
          "text": [
            "Epoch 29, Val Loss: 0.15669564919526827, Val Accuracy: 0.98\n"
          ]
        },
        {
          "name": "stderr",
          "output_type": "stream",
          "text": [
            "100%|██████████| 938/938 [00:24<00:00, 38.15it/s, accuracy=1, loss=3.71e-6, lr=0.000236]\n"
          ]
        },
        {
          "name": "stdout",
          "output_type": "stream",
          "text": [
            "Epoch 30, Val Loss: 0.15950445766282326, Val Accuracy: 0.9798\n"
          ]
        },
        {
          "name": "stderr",
          "output_type": "stream",
          "text": [
            "100%|██████████| 938/938 [00:26<00:00, 35.73it/s, accuracy=0.969, loss=0.118, lr=0.005]\n"
          ]
        },
        {
          "name": "stdout",
          "output_type": "stream",
          "text": [
            "Epoch 1, Val Loss: 0.1832723921212326, Val Accuracy: 0.945\n"
          ]
        },
        {
          "name": "stderr",
          "output_type": "stream",
          "text": [
            "100%|██████████| 938/938 [00:26<00:00, 35.81it/s, accuracy=0.906, loss=0.297, lr=0.0045]\n"
          ]
        },
        {
          "name": "stdout",
          "output_type": "stream",
          "text": [
            "Epoch 2, Val Loss: 0.15095215553720334, Val Accuracy: 0.9609\n"
          ]
        },
        {
          "name": "stderr",
          "output_type": "stream",
          "text": [
            "100%|██████████| 938/938 [00:26<00:00, 35.83it/s, accuracy=1, loss=0.00616, lr=0.00405]\n"
          ]
        },
        {
          "name": "stdout",
          "output_type": "stream",
          "text": [
            "Epoch 3, Val Loss: 0.14907449012908455, Val Accuracy: 0.9588\n"
          ]
        },
        {
          "name": "stderr",
          "output_type": "stream",
          "text": [
            "100%|██████████| 938/938 [00:26<00:00, 34.97it/s, accuracy=1, loss=0.0113, lr=0.00365]\n"
          ]
        },
        {
          "name": "stdout",
          "output_type": "stream",
          "text": [
            "Epoch 4, Val Loss: 0.13071299650744167, Val Accuracy: 0.965\n"
          ]
        },
        {
          "name": "stderr",
          "output_type": "stream",
          "text": [
            "100%|██████████| 938/938 [00:27<00:00, 34.32it/s, accuracy=1, loss=0.00353, lr=0.00328]\n"
          ]
        },
        {
          "name": "stdout",
          "output_type": "stream",
          "text": [
            "Epoch 5, Val Loss: 0.13562315031622868, Val Accuracy: 0.9665\n"
          ]
        },
        {
          "name": "stderr",
          "output_type": "stream",
          "text": [
            "100%|██████████| 938/938 [00:27<00:00, 33.80it/s, accuracy=1, loss=0.00381, lr=0.00295]\n"
          ]
        },
        {
          "name": "stdout",
          "output_type": "stream",
          "text": [
            "Epoch 6, Val Loss: 0.18796808245880725, Val Accuracy: 0.9543\n"
          ]
        },
        {
          "name": "stderr",
          "output_type": "stream",
          "text": [
            "100%|██████████| 938/938 [00:28<00:00, 33.37it/s, accuracy=1, loss=0.00368, lr=0.00266]\n"
          ]
        },
        {
          "name": "stdout",
          "output_type": "stream",
          "text": [
            "Epoch 7, Val Loss: 0.1125705088438243, Val Accuracy: 0.9702\n"
          ]
        },
        {
          "name": "stderr",
          "output_type": "stream",
          "text": [
            "100%|██████████| 938/938 [00:27<00:00, 34.12it/s, accuracy=0.969, loss=0.0492, lr=0.00239]\n"
          ]
        },
        {
          "name": "stdout",
          "output_type": "stream",
          "text": [
            "Epoch 8, Val Loss: 0.12506037275927886, Val Accuracy: 0.9697\n"
          ]
        },
        {
          "name": "stderr",
          "output_type": "stream",
          "text": [
            "100%|██████████| 938/938 [00:26<00:00, 34.88it/s, accuracy=1, loss=0.00178, lr=0.00215]\n"
          ]
        },
        {
          "name": "stdout",
          "output_type": "stream",
          "text": [
            "Epoch 9, Val Loss: 0.12585921193959232, Val Accuracy: 0.9704\n"
          ]
        },
        {
          "name": "stderr",
          "output_type": "stream",
          "text": [
            "100%|██████████| 938/938 [00:26<00:00, 35.44it/s, accuracy=1, loss=0.00163, lr=0.00194]\n"
          ]
        },
        {
          "name": "stdout",
          "output_type": "stream",
          "text": [
            "Epoch 10, Val Loss: 0.11355910584544944, Val Accuracy: 0.974\n"
          ]
        },
        {
          "name": "stderr",
          "output_type": "stream",
          "text": [
            "100%|██████████| 938/938 [00:26<00:00, 36.06it/s, accuracy=1, loss=0.0101, lr=0.00174]\n"
          ]
        },
        {
          "name": "stdout",
          "output_type": "stream",
          "text": [
            "Epoch 11, Val Loss: 0.13339228679685863, Val Accuracy: 0.9717\n"
          ]
        },
        {
          "name": "stderr",
          "output_type": "stream",
          "text": [
            "100%|██████████| 938/938 [00:26<00:00, 35.49it/s, accuracy=1, loss=0.00464, lr=0.00157]\n"
          ]
        },
        {
          "name": "stdout",
          "output_type": "stream",
          "text": [
            "Epoch 12, Val Loss: 0.10798034536404723, Val Accuracy: 0.9766\n"
          ]
        },
        {
          "name": "stderr",
          "output_type": "stream",
          "text": [
            "100%|██████████| 938/938 [00:26<00:00, 34.80it/s, accuracy=1, loss=0.00192, lr=0.00141]\n"
          ]
        },
        {
          "name": "stdout",
          "output_type": "stream",
          "text": [
            "Epoch 13, Val Loss: 0.12984818612232216, Val Accuracy: 0.9733\n"
          ]
        },
        {
          "name": "stderr",
          "output_type": "stream",
          "text": [
            "100%|██████████| 938/938 [00:27<00:00, 33.63it/s, accuracy=0.969, loss=0.202, lr=0.00127]\n"
          ]
        },
        {
          "name": "stdout",
          "output_type": "stream",
          "text": [
            "Epoch 14, Val Loss: 0.13112934988992486, Val Accuracy: 0.9748\n"
          ]
        },
        {
          "name": "stderr",
          "output_type": "stream",
          "text": [
            "100%|██████████| 938/938 [00:27<00:00, 33.89it/s, accuracy=0.969, loss=0.153, lr=0.00114]\n"
          ]
        },
        {
          "name": "stdout",
          "output_type": "stream",
          "text": [
            "Epoch 15, Val Loss: 0.1504524047020759, Val Accuracy: 0.9716\n"
          ]
        },
        {
          "name": "stderr",
          "output_type": "stream",
          "text": [
            "100%|██████████| 938/938 [00:26<00:00, 34.83it/s, accuracy=1, loss=0.00174, lr=0.00103]\n"
          ]
        },
        {
          "name": "stdout",
          "output_type": "stream",
          "text": [
            "Epoch 16, Val Loss: 0.1325018620648341, Val Accuracy: 0.9753\n"
          ]
        },
        {
          "name": "stderr",
          "output_type": "stream",
          "text": [
            "100%|██████████| 938/938 [00:26<00:00, 35.54it/s, accuracy=1, loss=7.04e-6, lr=0.000927]\n"
          ]
        },
        {
          "name": "stdout",
          "output_type": "stream",
          "text": [
            "Epoch 17, Val Loss: 0.14222282016680005, Val Accuracy: 0.9765\n"
          ]
        },
        {
          "name": "stderr",
          "output_type": "stream",
          "text": [
            "100%|██████████| 938/938 [00:26<00:00, 36.03it/s, accuracy=1, loss=8.02e-5, lr=0.000834]\n"
          ]
        },
        {
          "name": "stdout",
          "output_type": "stream",
          "text": [
            "Epoch 18, Val Loss: 0.1580479896920681, Val Accuracy: 0.9748\n"
          ]
        },
        {
          "name": "stderr",
          "output_type": "stream",
          "text": [
            "100%|██████████| 938/938 [00:27<00:00, 34.59it/s, accuracy=1, loss=0.0106, lr=0.00075]\n"
          ]
        },
        {
          "name": "stdout",
          "output_type": "stream",
          "text": [
            "Epoch 19, Val Loss: 0.15919625184016273, Val Accuracy: 0.9765\n"
          ]
        },
        {
          "name": "stderr",
          "output_type": "stream",
          "text": [
            "100%|██████████| 938/938 [00:27<00:00, 33.81it/s, accuracy=1, loss=2.9e-6, lr=0.000675]\n"
          ]
        },
        {
          "name": "stdout",
          "output_type": "stream",
          "text": [
            "Epoch 20, Val Loss: 0.14533770969342108, Val Accuracy: 0.9777\n"
          ]
        },
        {
          "name": "stderr",
          "output_type": "stream",
          "text": [
            "100%|██████████| 938/938 [00:27<00:00, 33.57it/s, accuracy=1, loss=0.0024, lr=0.000608]\n"
          ]
        },
        {
          "name": "stdout",
          "output_type": "stream",
          "text": [
            "Epoch 21, Val Loss: 0.15209607954311155, Val Accuracy: 0.978\n"
          ]
        },
        {
          "name": "stderr",
          "output_type": "stream",
          "text": [
            "100%|██████████| 938/938 [00:28<00:00, 33.41it/s, accuracy=1, loss=3.35e-8, lr=0.000547]\n"
          ]
        },
        {
          "name": "stdout",
          "output_type": "stream",
          "text": [
            "Epoch 22, Val Loss: 0.151560955551064, Val Accuracy: 0.978\n"
          ]
        },
        {
          "name": "stderr",
          "output_type": "stream",
          "text": [
            "100%|██████████| 938/938 [00:26<00:00, 34.80it/s, accuracy=1, loss=0.000105, lr=0.000492]\n"
          ]
        },
        {
          "name": "stdout",
          "output_type": "stream",
          "text": [
            "Epoch 23, Val Loss: 0.15267491506462227, Val Accuracy: 0.9785\n"
          ]
        },
        {
          "name": "stderr",
          "output_type": "stream",
          "text": [
            "100%|██████████| 938/938 [00:26<00:00, 35.21it/s, accuracy=1, loss=0.000163, lr=0.000443]\n"
          ]
        },
        {
          "name": "stdout",
          "output_type": "stream",
          "text": [
            "Epoch 24, Val Loss: 0.17181053649593778, Val Accuracy: 0.9764\n"
          ]
        },
        {
          "name": "stderr",
          "output_type": "stream",
          "text": [
            "100%|██████████| 938/938 [00:26<00:00, 35.97it/s, accuracy=1, loss=0.00201, lr=0.000399]\n"
          ]
        },
        {
          "name": "stdout",
          "output_type": "stream",
          "text": [
            "Epoch 25, Val Loss: 0.16668628493743617, Val Accuracy: 0.9778\n"
          ]
        },
        {
          "name": "stderr",
          "output_type": "stream",
          "text": [
            "100%|██████████| 938/938 [00:26<00:00, 35.91it/s, accuracy=1, loss=4.22e-6, lr=0.000359]\n"
          ]
        },
        {
          "name": "stdout",
          "output_type": "stream",
          "text": [
            "Epoch 26, Val Loss: 0.16213847112755717, Val Accuracy: 0.9784\n"
          ]
        },
        {
          "name": "stderr",
          "output_type": "stream",
          "text": [
            "100%|██████████| 938/938 [00:26<00:00, 34.76it/s, accuracy=1, loss=2.24e-7, lr=0.000323]\n"
          ]
        },
        {
          "name": "stdout",
          "output_type": "stream",
          "text": [
            "Epoch 27, Val Loss: 0.1607431799435321, Val Accuracy: 0.9784\n"
          ]
        },
        {
          "name": "stderr",
          "output_type": "stream",
          "text": [
            "100%|██████████| 938/938 [00:27<00:00, 33.81it/s, accuracy=1, loss=2.53e-6, lr=0.000291]\n"
          ]
        },
        {
          "name": "stdout",
          "output_type": "stream",
          "text": [
            "Epoch 28, Val Loss: 0.16145533415630914, Val Accuracy: 0.9785\n"
          ]
        },
        {
          "name": "stderr",
          "output_type": "stream",
          "text": [
            "100%|██████████| 938/938 [00:27<00:00, 33.67it/s, accuracy=1, loss=2.93e-6, lr=0.000262]\n"
          ]
        },
        {
          "name": "stdout",
          "output_type": "stream",
          "text": [
            "Epoch 29, Val Loss: 0.16287410343958889, Val Accuracy: 0.9787\n"
          ]
        },
        {
          "name": "stderr",
          "output_type": "stream",
          "text": [
            "100%|██████████| 938/938 [00:28<00:00, 33.22it/s, accuracy=1, loss=1.75e-7, lr=0.000236]\n"
          ]
        },
        {
          "name": "stdout",
          "output_type": "stream",
          "text": [
            "Epoch 30, Val Loss: 0.16371318515235878, Val Accuracy: 0.9792\n"
          ]
        },
        {
          "name": "stderr",
          "output_type": "stream",
          "text": [
            "100%|██████████| 938/938 [00:30<00:00, 30.80it/s, accuracy=1, loss=0.0804, lr=0.005]\n"
          ]
        },
        {
          "name": "stdout",
          "output_type": "stream",
          "text": [
            "Epoch 1, Val Loss: 0.2047088491688868, Val Accuracy: 0.9454\n"
          ]
        },
        {
          "name": "stderr",
          "output_type": "stream",
          "text": [
            "100%|██████████| 938/938 [00:30<00:00, 30.85it/s, accuracy=0.938, loss=0.148, lr=0.0045]\n"
          ]
        },
        {
          "name": "stdout",
          "output_type": "stream",
          "text": [
            "Epoch 2, Val Loss: 0.21382343908623572, Val Accuracy: 0.9454\n"
          ]
        },
        {
          "name": "stderr",
          "output_type": "stream",
          "text": [
            "100%|██████████| 938/938 [00:30<00:00, 31.06it/s, accuracy=0.938, loss=0.226, lr=0.00405]\n"
          ]
        },
        {
          "name": "stdout",
          "output_type": "stream",
          "text": [
            "Epoch 3, Val Loss: 0.17574145207548614, Val Accuracy: 0.9522\n"
          ]
        },
        {
          "name": "stderr",
          "output_type": "stream",
          "text": [
            "100%|██████████| 938/938 [00:29<00:00, 31.34it/s, accuracy=0.969, loss=0.158, lr=0.00365]\n"
          ]
        },
        {
          "name": "stdout",
          "output_type": "stream",
          "text": [
            "Epoch 4, Val Loss: 0.15641719476649074, Val Accuracy: 0.9609\n"
          ]
        },
        {
          "name": "stderr",
          "output_type": "stream",
          "text": [
            "100%|██████████| 938/938 [00:30<00:00, 30.89it/s, accuracy=1, loss=0.0315, lr=0.00328]\n"
          ]
        },
        {
          "name": "stdout",
          "output_type": "stream",
          "text": [
            "Epoch 5, Val Loss: 0.1800561300908945, Val Accuracy: 0.9554\n"
          ]
        },
        {
          "name": "stderr",
          "output_type": "stream",
          "text": [
            "100%|██████████| 938/938 [00:29<00:00, 31.37it/s, accuracy=1, loss=0.0371, lr=0.00295]\n"
          ]
        },
        {
          "name": "stdout",
          "output_type": "stream",
          "text": [
            "Epoch 6, Val Loss: 0.14206712793439824, Val Accuracy: 0.9635\n"
          ]
        },
        {
          "name": "stderr",
          "output_type": "stream",
          "text": [
            "100%|██████████| 938/938 [00:29<00:00, 31.39it/s, accuracy=1, loss=0.0108, lr=0.00266]\n"
          ]
        },
        {
          "name": "stdout",
          "output_type": "stream",
          "text": [
            "Epoch 7, Val Loss: 0.12577592519929062, Val Accuracy: 0.9676\n"
          ]
        },
        {
          "name": "stderr",
          "output_type": "stream",
          "text": [
            "100%|██████████| 938/938 [00:29<00:00, 31.33it/s, accuracy=0.938, loss=0.332, lr=0.00239]\n"
          ]
        },
        {
          "name": "stdout",
          "output_type": "stream",
          "text": [
            "Epoch 8, Val Loss: 0.1390390073732995, Val Accuracy: 0.9632\n"
          ]
        },
        {
          "name": "stderr",
          "output_type": "stream",
          "text": [
            "100%|██████████| 938/938 [00:29<00:00, 31.37it/s, accuracy=1, loss=0.00229, lr=0.00215]\n"
          ]
        },
        {
          "name": "stdout",
          "output_type": "stream",
          "text": [
            "Epoch 9, Val Loss: 0.1421585522924259, Val Accuracy: 0.9653\n"
          ]
        },
        {
          "name": "stderr",
          "output_type": "stream",
          "text": [
            "100%|██████████| 938/938 [00:30<00:00, 30.82it/s, accuracy=1, loss=0.00091, lr=0.00194]\n"
          ]
        },
        {
          "name": "stdout",
          "output_type": "stream",
          "text": [
            "Epoch 10, Val Loss: 0.13278317173997747, Val Accuracy: 0.9672\n"
          ]
        },
        {
          "name": "stderr",
          "output_type": "stream",
          "text": [
            "100%|██████████| 938/938 [00:29<00:00, 31.38it/s, accuracy=0.969, loss=0.133, lr=0.00174]\n"
          ]
        },
        {
          "name": "stdout",
          "output_type": "stream",
          "text": [
            "Epoch 11, Val Loss: 0.1221351503248631, Val Accuracy: 0.9704\n"
          ]
        },
        {
          "name": "stderr",
          "output_type": "stream",
          "text": [
            "100%|██████████| 938/938 [00:29<00:00, 31.35it/s, accuracy=0.969, loss=0.0569, lr=0.00157]\n"
          ]
        },
        {
          "name": "stdout",
          "output_type": "stream",
          "text": [
            "Epoch 12, Val Loss: 0.1381456346013003, Val Accuracy: 0.9684\n"
          ]
        },
        {
          "name": "stderr",
          "output_type": "stream",
          "text": [
            "100%|██████████| 938/938 [00:29<00:00, 31.95it/s, accuracy=1, loss=0.00223, lr=0.00141]\n"
          ]
        },
        {
          "name": "stdout",
          "output_type": "stream",
          "text": [
            "Epoch 13, Val Loss: 0.12006828924233652, Val Accuracy: 0.9729\n"
          ]
        },
        {
          "name": "stderr",
          "output_type": "stream",
          "text": [
            "100%|██████████| 938/938 [00:29<00:00, 31.92it/s, accuracy=1, loss=0.00354, lr=0.00127]\n"
          ]
        },
        {
          "name": "stdout",
          "output_type": "stream",
          "text": [
            "Epoch 14, Val Loss: 0.12386961184343401, Val Accuracy: 0.9711\n"
          ]
        },
        {
          "name": "stderr",
          "output_type": "stream",
          "text": [
            "100%|██████████| 938/938 [00:29<00:00, 31.39it/s, accuracy=1, loss=0.000396, lr=0.00114]\n"
          ]
        },
        {
          "name": "stdout",
          "output_type": "stream",
          "text": [
            "Epoch 15, Val Loss: 0.15229590639784968, Val Accuracy: 0.9678\n"
          ]
        },
        {
          "name": "stderr",
          "output_type": "stream",
          "text": [
            "100%|██████████| 938/938 [00:30<00:00, 31.01it/s, accuracy=0.969, loss=0.0947, lr=0.00103]\n"
          ]
        },
        {
          "name": "stdout",
          "output_type": "stream",
          "text": [
            "Epoch 16, Val Loss: 0.13468908927049528, Val Accuracy: 0.9743\n"
          ]
        },
        {
          "name": "stderr",
          "output_type": "stream",
          "text": [
            "100%|██████████| 938/938 [00:30<00:00, 30.92it/s, accuracy=1, loss=0.00128, lr=0.000927]\n"
          ]
        },
        {
          "name": "stdout",
          "output_type": "stream",
          "text": [
            "Epoch 17, Val Loss: 0.131857673664554, Val Accuracy: 0.974\n"
          ]
        },
        {
          "name": "stderr",
          "output_type": "stream",
          "text": [
            "100%|██████████| 938/938 [00:30<00:00, 30.83it/s, accuracy=1, loss=0.00109, lr=0.000834]\n"
          ]
        },
        {
          "name": "stdout",
          "output_type": "stream",
          "text": [
            "Epoch 18, Val Loss: 0.13613011668242272, Val Accuracy: 0.9753\n"
          ]
        },
        {
          "name": "stderr",
          "output_type": "stream",
          "text": [
            "100%|██████████| 938/938 [00:30<00:00, 30.93it/s, accuracy=1, loss=0.00427, lr=0.00075]\n"
          ]
        },
        {
          "name": "stdout",
          "output_type": "stream",
          "text": [
            "Epoch 19, Val Loss: 0.13560268549724497, Val Accuracy: 0.9752\n"
          ]
        },
        {
          "name": "stderr",
          "output_type": "stream",
          "text": [
            "100%|██████████| 938/938 [00:30<00:00, 30.56it/s, accuracy=1, loss=5.03e-7, lr=0.000675]\n"
          ]
        },
        {
          "name": "stdout",
          "output_type": "stream",
          "text": [
            "Epoch 20, Val Loss: 0.1497928330580529, Val Accuracy: 0.9743\n"
          ]
        },
        {
          "name": "stderr",
          "output_type": "stream",
          "text": [
            "100%|██████████| 938/938 [00:31<00:00, 30.05it/s, accuracy=1, loss=0.0023, lr=0.000608]\n"
          ]
        },
        {
          "name": "stdout",
          "output_type": "stream",
          "text": [
            "Epoch 21, Val Loss: 0.14516552918615994, Val Accuracy: 0.9747\n"
          ]
        },
        {
          "name": "stderr",
          "output_type": "stream",
          "text": [
            "100%|██████████| 938/938 [00:30<00:00, 30.26it/s, accuracy=1, loss=0.00132, lr=0.000547]\n"
          ]
        },
        {
          "name": "stdout",
          "output_type": "stream",
          "text": [
            "Epoch 22, Val Loss: 0.1486645154135952, Val Accuracy: 0.9765\n"
          ]
        },
        {
          "name": "stderr",
          "output_type": "stream",
          "text": [
            "100%|██████████| 938/938 [00:30<00:00, 30.40it/s, accuracy=1, loss=0.00207, lr=0.000492]\n"
          ]
        },
        {
          "name": "stdout",
          "output_type": "stream",
          "text": [
            "Epoch 23, Val Loss: 0.1565607133380494, Val Accuracy: 0.9762\n"
          ]
        },
        {
          "name": "stderr",
          "output_type": "stream",
          "text": [
            "100%|██████████| 938/938 [00:30<00:00, 30.51it/s, accuracy=1, loss=0.000179, lr=0.000443]\n"
          ]
        },
        {
          "name": "stdout",
          "output_type": "stream",
          "text": [
            "Epoch 24, Val Loss: 0.16130438333645558, Val Accuracy: 0.9783\n"
          ]
        },
        {
          "name": "stderr",
          "output_type": "stream",
          "text": [
            "100%|██████████| 938/938 [00:30<00:00, 30.64it/s, accuracy=1, loss=0.000308, lr=0.000399]\n"
          ]
        },
        {
          "name": "stdout",
          "output_type": "stream",
          "text": [
            "Epoch 25, Val Loss: 0.16288321729923777, Val Accuracy: 0.9775\n"
          ]
        },
        {
          "name": "stderr",
          "output_type": "stream",
          "text": [
            "100%|██████████| 938/938 [00:30<00:00, 30.83it/s, accuracy=1, loss=0.00248, lr=0.000359]\n"
          ]
        },
        {
          "name": "stdout",
          "output_type": "stream",
          "text": [
            "Epoch 26, Val Loss: 0.17225635572918524, Val Accuracy: 0.9763\n"
          ]
        },
        {
          "name": "stderr",
          "output_type": "stream",
          "text": [
            "100%|██████████| 938/938 [00:30<00:00, 31.08it/s, accuracy=1, loss=4.44e-5, lr=0.000323]\n"
          ]
        },
        {
          "name": "stdout",
          "output_type": "stream",
          "text": [
            "Epoch 27, Val Loss: 0.17324690305174476, Val Accuracy: 0.9769\n"
          ]
        },
        {
          "name": "stderr",
          "output_type": "stream",
          "text": [
            "100%|██████████| 938/938 [00:30<00:00, 31.20it/s, accuracy=1, loss=9.84e-5, lr=0.000291]\n"
          ]
        },
        {
          "name": "stdout",
          "output_type": "stream",
          "text": [
            "Epoch 28, Val Loss: 0.17969782951720623, Val Accuracy: 0.9779\n"
          ]
        },
        {
          "name": "stderr",
          "output_type": "stream",
          "text": [
            "100%|██████████| 938/938 [00:29<00:00, 31.38it/s, accuracy=1, loss=1.62e-6, lr=0.000262]\n"
          ]
        },
        {
          "name": "stdout",
          "output_type": "stream",
          "text": [
            "Epoch 29, Val Loss: 0.1834418538215369, Val Accuracy: 0.9774\n"
          ]
        },
        {
          "name": "stderr",
          "output_type": "stream",
          "text": [
            "100%|██████████| 938/938 [00:30<00:00, 30.85it/s, accuracy=1, loss=5.66e-7, lr=0.000236]\n"
          ]
        },
        {
          "name": "stdout",
          "output_type": "stream",
          "text": [
            "Epoch 30, Val Loss: 0.19204274022891754, Val Accuracy: 0.9779\n"
          ]
        }
      ],
      "source": [
        "epochs = 30\n",
        "n_layers = [1, 2, 3, 4]\n",
        "nlayer_metrics = {\n",
        "    'accuracy': np.empty((4, epochs)),\n",
        "    'precision': np.empty((4, epochs)),\n",
        "    'recall': np.empty((4, epochs)),\n",
        "    'f1_score': np.empty((4, epochs)),\n",
        "}\n",
        "for h, n_layer in enumerate(n_layers):\n",
        "    torch.manual_seed(42)\n",
        "    # Define model\n",
        "    model = KAN(layers_hidden=[28 * 28] + [128]*n_layer + [10], grid_size=8)\n",
        "    device = torch.device(\"cuda\" if torch.cuda.is_available() else \"cpu\")\n",
        "    model.to(device)\n",
        "    # Define optimizer\n",
        "    optimizer = optim.AdamW(model.parameters(), lr=5e-3, weight_decay=.01)\n",
        "    # Define learning rate scheduler\n",
        "    scheduler = optim.lr_scheduler.ExponentialLR(optimizer, gamma=0.9)\n",
        "\n",
        "    # Define loss\n",
        "    criterion = nn.CrossEntropyLoss()\n",
        "    for epoch in range(epochs):\n",
        "        # Train\n",
        "        model.train()\n",
        "        with tqdm(train_loader) as pbar:\n",
        "            for i, (images, labels) in enumerate(pbar):\n",
        "                images = images.view(-1, 28 * 28).to(device)\n",
        "                optimizer.zero_grad()\n",
        "                output = model(images)\n",
        "                loss = criterion(output, labels.to(device))\n",
        "                loss.backward()\n",
        "                optimizer.step()\n",
        "                accuracy = (output.argmax(dim=1) == labels.to(device)).float().mean()\n",
        "                pbar.set_postfix(loss=loss.item(), accuracy=accuracy.item(), lr=optimizer.param_groups[0]['lr'])\n",
        "\n",
        "        # Validation\n",
        "        model.eval()\n",
        "        all_preds = []\n",
        "        all_labels = []\n",
        "        val_loss = 0\n",
        "        with torch.no_grad():\n",
        "            for images, labels in val_loader:\n",
        "                images = images.view(-1, 28 * 28).to(device)\n",
        "                output = model(images)\n",
        "                val_loss += criterion(output, labels.to(device)).item()\n",
        "                preds = output.argmax(dim=1)\n",
        "                all_preds.extend(preds.cpu().numpy())\n",
        "                all_labels.extend(labels.cpu().numpy())\n",
        "\n",
        "        val_loss /= len(val_loader)\n",
        "        val_accuracy = (np.array(all_preds) == np.array(all_labels)).mean()\n",
        "        val_precision = precision_score(all_labels, all_preds, average='weighted')\n",
        "        val_recall = recall_score(all_labels, all_preds, average='weighted')\n",
        "        val_f1 = f1_score(all_labels, all_preds, average='weighted')\n",
        "\n",
        "        # Store metrics\n",
        "        nlayer_metrics['accuracy'][h, epoch] = val_accuracy\n",
        "        nlayer_metrics['precision'][h, epoch] = val_precision\n",
        "        nlayer_metrics['recall'][h, epoch] = val_recall\n",
        "        nlayer_metrics['f1_score'][h, epoch] = val_f1\n",
        "\n",
        "        # Update learning rate\n",
        "        scheduler.step()\n",
        "\n",
        "        print(\n",
        "            f\"Epoch {epoch + 1}, Val Loss: {val_loss}, Val Accuracy: {val_accuracy}\"\n",
        "        )"
      ]
    },
    {
      "cell_type": "code",
      "execution_count": null,
      "metadata": {
        "colab": {
          "background_save": true
        },
        "id": "I_ROyAd6VBbH"
      },
      "outputs": [],
      "source": [
        "np.save('./saved_results/bspline_layer_metrics.npy', nlayer_metrics)"
      ]
    },
    {
      "cell_type": "code",
      "execution_count": 5,
      "metadata": {
        "id": "lJho8zXO5em-"
      },
      "outputs": [],
      "source": [
        "from torch.profiler import profile, record_function, ProfilerActivity\n",
        "device = torch.device(\"cuda\" if torch.cuda.is_available() else \"cpu\")"
      ]
    },
    {
      "cell_type": "code",
      "execution_count": 6,
      "metadata": {
        "id": "AlCgt3EHOtbB"
      },
      "outputs": [],
      "source": [
        "def profile_model(model, inputs, num_runs=100):\n",
        "    total_times = []\n",
        "    for _ in range(num_runs):\n",
        "        total_time = 0\n",
        "        with profile(activities=[ProfilerActivity.CUDA], record_shapes=True) as prof:\n",
        "            model(inputs)\n",
        "\n",
        "        # Extract total CUDA time spent on 'model_inference'\n",
        "        for event in prof.key_averages():\n",
        "            total_time += event.device_time\n",
        "\n",
        "        total_times.append(total_time)\n",
        "    average_time = np.mean(total_times)\n",
        "    std_time = np.std(total_times)\n",
        "    print(f\"Average inference time: {average_time} microseconds +/- {std_time}\")\n",
        "    return average_time, std_time"
      ]
    },
    {
      "cell_type": "code",
      "execution_count": 7,
      "metadata": {
        "colab": {
          "base_uri": "https://localhost:8080/"
        },
        "id": "RpPdVaMb5h3B",
        "outputId": "9ed0537d-b15f-4ae1-90ec-4927e1341372"
      },
      "outputs": [
        {
          "output_type": "stream",
          "name": "stdout",
          "text": [
            "Hidden Dims: 16\n",
            "Average inference time: 66.47211507738096 microseconds +/- 0.11704291342026212\n",
            "Hidden Dims: 32\n",
            "Average inference time: 72.42283911309525 microseconds +/- 0.12245335748447216\n",
            "Hidden Dims: 64\n",
            "Average inference time: 67.28495214880952 microseconds +/- 0.10939488439911335\n",
            "Hidden Dims: 128\n",
            "Average inference time: 71.33039539880951 microseconds +/- 0.15683145651011335\n",
            "Hidden Dims: 256\n",
            "Average inference time: 83.39252026190475 microseconds +/- 0.32448593816482846\n",
            "Hidden Dims: 512\n",
            "Average inference time: 114.78516217857144 microseconds +/- 0.46170528652459214\n"
          ]
        }
      ],
      "source": [
        "inputs = torch.randn((1, 784)).to(device)\n",
        "hdims = [16, 32, 64, 128, 256, 512]\n",
        "means = []\n",
        "stds = []\n",
        "for h in hdims:\n",
        "    model = KAN(layers_hidden=[28 * 28, h, 10], grid_size=8).to(device)\n",
        "    print('Hidden Dims: %d' % h)\n",
        "    mean, std = profile_model(model, inputs, 1000)\n",
        "    means.append(mean)\n",
        "    stds.append(std)"
      ]
    },
    {
      "cell_type": "code",
      "execution_count": 8,
      "metadata": {
        "id": "argVHilIN58d"
      },
      "outputs": [],
      "source": [
        "np.save('./saved_results/bspline_scaling_mean_hdims.npy', means)\n",
        "np.save('./saved_results/bspline_scaling_std_hdims.npy', stds)"
      ]
    },
    {
      "cell_type": "code",
      "execution_count": 9,
      "metadata": {
        "colab": {
          "base_uri": "https://localhost:8080/"
        },
        "id": "ocQnoJHcSUYh",
        "outputId": "f6f92902-9b51-4ab3-a4f9-99a107d13c9f"
      },
      "outputs": [
        {
          "output_type": "stream",
          "name": "stdout",
          "text": [
            "Input Batch Size: 16\n",
            "Average inference time: 113.06373610714287 microseconds +/- 0.3852416861387589\n",
            "Input Batch Size: 32\n",
            "Average inference time: 128.35111681547616 microseconds +/- 0.1772670825445702\n",
            "Input Batch Size: 64\n",
            "Average inference time: 173.80980667261903 microseconds +/- 0.4350570564654399\n",
            "Input Batch Size: 128\n",
            "Average inference time: 313.99014177380957 microseconds +/- 0.3971190834169694\n",
            "Input Batch Size: 256\n",
            "Average inference time: 547.166382422619 microseconds +/- 1.0342619850670636\n",
            "Input Batch Size: 512\n",
            "Average inference time: 1008.308518077381 microseconds +/- 4.626423570715507\n"
          ]
        }
      ],
      "source": [
        "hdims = [16, 32, 64, 128, 256, 512]\n",
        "means = []\n",
        "stds = []\n",
        "for h in hdims:\n",
        "    model = KAN(layers_hidden=[28 * 28, 64, 10], grid_size=8).to(device)\n",
        "    inputs = torch.randn((h, 784)).to(device)\n",
        "    print('Input Batch Size: %d' % h)\n",
        "    mean, std = profile_model(model, inputs, 1000)\n",
        "    means.append(mean)\n",
        "    stds.append(std)"
      ]
    },
    {
      "cell_type": "code",
      "execution_count": 10,
      "metadata": {
        "id": "y1iukHgENqRN"
      },
      "outputs": [],
      "source": [
        "np.save('./saved_results/bspline_scaling_mean_batch.npy', means)\n",
        "np.save('./saved_results/bspline_scaling_std_batch.npy', stds)"
      ]
    },
    {
      "cell_type": "code",
      "execution_count": 13,
      "metadata": {
        "colab": {
          "base_uri": "https://localhost:8080/"
        },
        "id": "HZ9FGPPpg3ll",
        "outputId": "bf7af251-ddc8-4326-b5e0-e6aab9636541"
      },
      "outputs": [
        {
          "output_type": "stream",
          "name": "stdout",
          "text": [
            "Number of Hidden Layers: 1\n",
            "Average inference time: 67.25756924999999 microseconds +/- 0.10681720475688469\n",
            "Number of Hidden Layers: 2\n",
            "Average inference time: 68.16116807539683 microseconds +/- 0.08407886990816509\n",
            "Number of Hidden Layers: 3\n",
            "Average inference time: 66.09342230357143 microseconds +/- 0.08218290247522583\n",
            "Number of Hidden Layers: 4\n",
            "Average inference time: 65.05110593095239 microseconds +/- 0.06079233458194082\n"
          ]
        }
      ],
      "source": [
        "nlayers = [1, 2, 3, 4]\n",
        "means = []\n",
        "stds = []\n",
        "for n in nlayers:\n",
        "    model = KAN(layers_hidden=[28 * 28] + [64]*n +[10], grid_size=8).to(device)\n",
        "    inputs = torch.randn((1, 784)).to(device)\n",
        "    print('Number of Hidden Layers: %d' % n)\n",
        "    mean, std = profile_model(model, inputs, 1000)\n",
        "    means.append(mean)\n",
        "    stds.append(std)"
      ]
    },
    {
      "cell_type": "code",
      "execution_count": 16,
      "metadata": {
        "id": "YWTG4fX0kZzH"
      },
      "outputs": [],
      "source": [
        "np.save('./saved_results/bspline_scaling_mean_layers.npy', means)\n",
        "np.save('./saved_results/bspline_scaling_std_layers.npy', stds)"
      ]
    },
    {
      "cell_type": "code",
      "source": [],
      "metadata": {
        "id": "ZAbORa361BV5"
      },
      "execution_count": null,
      "outputs": []
    }
  ],
  "metadata": {
    "accelerator": "GPU",
    "colab": {
      "gpuType": "T4",
      "provenance": [],
      "mount_file_id": "1wqeCNYl8207kIw9_j2UwT2KZu97HWNNJ",
      "authorship_tag": "ABX9TyNIAdJu8wulhj7QK0mU59WN",
      "include_colab_link": true
    },
    "kernelspec": {
      "display_name": "Python 3",
      "name": "python3"
    },
    "language_info": {
      "name": "python"
    }
  },
  "nbformat": 4,
  "nbformat_minor": 0
}