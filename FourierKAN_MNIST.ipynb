{
  "cells": [
    {
      "cell_type": "markdown",
      "metadata": {
        "id": "view-in-github",
        "colab_type": "text"
      },
      "source": [
        "<a href=\"https://colab.research.google.com/github/ereinha/SineKAN/blob/main/FourierKAN_MNIST.ipynb\" target=\"_parent\"><img src=\"https://colab.research.google.com/assets/colab-badge.svg\" alt=\"Open In Colab\"/></a>"
      ]
    },
    {
      "cell_type": "code",
      "execution_count": 4,
      "metadata": {
        "id": "pb5N8Ayea-QZ"
      },
      "outputs": [],
      "source": [
        "from fourier_kan import *\n",
        "\n",
        "import numpy as np\n",
        "import torch\n",
        "import torch.nn as nn\n",
        "import torch.optim as optim\n",
        "import torchvision\n",
        "import torchvision.transforms as transforms\n",
        "from torch.utils.data import DataLoader\n",
        "from tqdm import tqdm\n",
        "\n",
        "from sklearn.metrics import precision_score, recall_score, f1_score"
      ]
    },
    {
      "cell_type": "code",
      "execution_count": 5,
      "metadata": {
        "id": "_OYd8RAu5fSf"
      },
      "outputs": [],
      "source": [
        "# Load MNIST\n",
        "transform = transforms.Compose(\n",
        "    [transforms.ToTensor(), transforms.Normalize((0.5,), (0.5,))]\n",
        ")\n",
        "trainset = torchvision.datasets.MNIST(\n",
        "    root=\"./data\", train=True, download=True, transform=transform\n",
        ")\n",
        "valset = torchvision.datasets.MNIST(\n",
        "    root=\"./data\", train=False, download=True, transform=transform\n",
        ")\n",
        "train_loader = DataLoader(trainset, batch_size=64, num_workers=2, shuffle=True)\n",
        "val_loader = DataLoader(valset, batch_size=64, num_workers=2, shuffle=False)"
      ]
    },
    {
      "cell_type": "code",
      "execution_count": null,
      "metadata": {
        "colab": {
          "background_save": true,
          "base_uri": "https://localhost:8080/"
        },
        "id": "7z9Q5gv73Ngn",
        "outputId": "326ca7f6-f92a-42db-81c6-73ab3ce035a2"
      },
      "outputs": [
        {
          "name": "stderr",
          "output_type": "stream",
          "text": [
            "100%|██████████| 938/938 [00:26<00:00, 35.34it/s, accuracy=0.719, loss=1.3, lr=0.0001]\n"
          ]
        },
        {
          "name": "stdout",
          "output_type": "stream",
          "text": [
            "Epoch 1, Val Loss: 1.0968678582246136, Val Accuracy: 0.6793391719745223\n"
          ]
        },
        {
          "name": "stderr",
          "output_type": "stream",
          "text": [
            "100%|██████████| 938/938 [00:20<00:00, 46.09it/s, accuracy=0.75, loss=0.612, lr=8e-5]\n"
          ]
        },
        {
          "name": "stdout",
          "output_type": "stream",
          "text": [
            "Epoch 2, Val Loss: 0.5633355475914706, Val Accuracy: 0.8553941082802548\n"
          ]
        },
        {
          "name": "stderr",
          "output_type": "stream",
          "text": [
            "100%|██████████| 938/938 [00:21<00:00, 44.37it/s, accuracy=0.875, loss=0.448, lr=6.4e-5]\n"
          ]
        },
        {
          "name": "stdout",
          "output_type": "stream",
          "text": [
            "Epoch 3, Val Loss: 0.40116225073861467, Val Accuracy: 0.896297770700637\n"
          ]
        },
        {
          "name": "stderr",
          "output_type": "stream",
          "text": [
            "100%|██████████| 938/938 [00:20<00:00, 45.14it/s, accuracy=0.969, loss=0.159, lr=5.12e-5]\n"
          ]
        },
        {
          "name": "stdout",
          "output_type": "stream",
          "text": [
            "Epoch 4, Val Loss: 0.34030121289620735, Val Accuracy: 0.9083399681528662\n"
          ]
        },
        {
          "name": "stderr",
          "output_type": "stream",
          "text": [
            "100%|██████████| 938/938 [00:21<00:00, 43.87it/s, accuracy=0.875, loss=0.363, lr=4.1e-5]\n"
          ]
        },
        {
          "name": "stdout",
          "output_type": "stream",
          "text": [
            "Epoch 5, Val Loss: 0.29142722734220466, Val Accuracy: 0.9202826433121019\n"
          ]
        },
        {
          "name": "stderr",
          "output_type": "stream",
          "text": [
            "100%|██████████| 938/938 [00:22<00:00, 42.27it/s, accuracy=0.969, loss=0.206, lr=3.28e-5]\n"
          ]
        },
        {
          "name": "stdout",
          "output_type": "stream",
          "text": [
            "Epoch 6, Val Loss: 0.26161473336967694, Val Accuracy: 0.9240644904458599\n"
          ]
        },
        {
          "name": "stderr",
          "output_type": "stream",
          "text": [
            "100%|██████████| 938/938 [00:20<00:00, 45.59it/s, accuracy=0.969, loss=0.115, lr=2.62e-5]\n"
          ]
        },
        {
          "name": "stdout",
          "output_type": "stream",
          "text": [
            "Epoch 7, Val Loss: 0.2436942183738871, Val Accuracy: 0.9296377388535032\n"
          ]
        },
        {
          "name": "stderr",
          "output_type": "stream",
          "text": [
            "100%|██████████| 938/938 [00:21<00:00, 42.99it/s, accuracy=0.875, loss=0.251, lr=2.1e-5]\n"
          ]
        },
        {
          "name": "stdout",
          "output_type": "stream",
          "text": [
            "Epoch 8, Val Loss: 0.23474892024781294, Val Accuracy: 0.9306329617834395\n"
          ]
        },
        {
          "name": "stderr",
          "output_type": "stream",
          "text": [
            "100%|██████████| 938/938 [00:20<00:00, 46.35it/s, accuracy=0.969, loss=0.147, lr=1.68e-5]\n"
          ]
        },
        {
          "name": "stdout",
          "output_type": "stream",
          "text": [
            "Epoch 9, Val Loss: 0.21605403693452194, Val Accuracy: 0.9366042993630573\n"
          ]
        },
        {
          "name": "stderr",
          "output_type": "stream",
          "text": [
            "100%|██████████| 938/938 [00:21<00:00, 42.77it/s, accuracy=0.938, loss=0.254, lr=1.34e-5]\n"
          ]
        },
        {
          "name": "stdout",
          "output_type": "stream",
          "text": [
            "Epoch 10, Val Loss: 0.21024967436411768, Val Accuracy: 0.9350119426751592\n"
          ]
        },
        {
          "name": "stderr",
          "output_type": "stream",
          "text": [
            "100%|██████████| 938/938 [00:21<00:00, 43.01it/s, accuracy=0.969, loss=0.134, lr=1.07e-5]\n"
          ]
        },
        {
          "name": "stdout",
          "output_type": "stream",
          "text": [
            "Epoch 11, Val Loss: 0.20414035951801737, Val Accuracy: 0.9363057324840764\n"
          ]
        },
        {
          "name": "stderr",
          "output_type": "stream",
          "text": [
            "100%|██████████| 938/938 [00:20<00:00, 46.03it/s, accuracy=0.938, loss=0.143, lr=8.59e-6]\n"
          ]
        },
        {
          "name": "stdout",
          "output_type": "stream",
          "text": [
            "Epoch 12, Val Loss: 0.19809595553299328, Val Accuracy: 0.9397890127388535\n"
          ]
        },
        {
          "name": "stderr",
          "output_type": "stream",
          "text": [
            "100%|██████████| 938/938 [00:21<00:00, 42.75it/s, accuracy=0.969, loss=0.0792, lr=6.87e-6]\n"
          ]
        },
        {
          "name": "stdout",
          "output_type": "stream",
          "text": [
            "Epoch 13, Val Loss: 0.19835735274965216, Val Accuracy: 0.9410828025477707\n"
          ]
        },
        {
          "name": "stderr",
          "output_type": "stream",
          "text": [
            "100%|██████████| 938/938 [00:20<00:00, 46.27it/s, accuracy=1, loss=0.0581, lr=5.5e-6]\n"
          ]
        },
        {
          "name": "stdout",
          "output_type": "stream",
          "text": [
            "Epoch 14, Val Loss: 0.19505875704181233, Val Accuracy: 0.9414808917197452\n"
          ]
        },
        {
          "name": "stderr",
          "output_type": "stream",
          "text": [
            "100%|██████████| 938/938 [00:21<00:00, 43.72it/s, accuracy=1, loss=0.0496, lr=4.4e-6]\n"
          ]
        },
        {
          "name": "stdout",
          "output_type": "stream",
          "text": [
            "Epoch 15, Val Loss: 0.19142254869673092, Val Accuracy: 0.9421775477707006\n"
          ]
        },
        {
          "name": "stderr",
          "output_type": "stream",
          "text": [
            "100%|██████████| 938/938 [00:20<00:00, 45.40it/s, accuracy=1, loss=0.033, lr=3.52e-6]\n"
          ]
        },
        {
          "name": "stdout",
          "output_type": "stream",
          "text": [
            "Epoch 16, Val Loss: 0.19342890098263885, Val Accuracy: 0.9392914012738853\n"
          ]
        },
        {
          "name": "stderr",
          "output_type": "stream",
          "text": [
            "100%|██████████| 938/938 [00:20<00:00, 45.74it/s, accuracy=1, loss=0.0651, lr=2.81e-6]\n"
          ]
        },
        {
          "name": "stdout",
          "output_type": "stream",
          "text": [
            "Epoch 17, Val Loss: 0.19130263421803143, Val Accuracy: 0.9403861464968153\n"
          ]
        },
        {
          "name": "stderr",
          "output_type": "stream",
          "text": [
            "100%|██████████| 938/938 [00:22<00:00, 42.41it/s, accuracy=0.969, loss=0.0829, lr=2.25e-6]\n"
          ]
        },
        {
          "name": "stdout",
          "output_type": "stream",
          "text": [
            "Epoch 18, Val Loss: 0.19085191170667198, Val Accuracy: 0.9409832802547771\n"
          ]
        },
        {
          "name": "stderr",
          "output_type": "stream",
          "text": [
            "100%|██████████| 938/938 [00:20<00:00, 46.04it/s, accuracy=0.969, loss=0.0669, lr=1.8e-6]\n"
          ]
        },
        {
          "name": "stdout",
          "output_type": "stream",
          "text": [
            "Epoch 19, Val Loss: 0.19063068582575507, Val Accuracy: 0.9417794585987261\n"
          ]
        },
        {
          "name": "stderr",
          "output_type": "stream",
          "text": [
            "100%|██████████| 938/938 [00:22<00:00, 41.96it/s, accuracy=1, loss=0.0571, lr=1.44e-6]\n"
          ]
        },
        {
          "name": "stdout",
          "output_type": "stream",
          "text": [
            "Epoch 20, Val Loss: 0.18967767747913955, Val Accuracy: 0.9416799363057324\n"
          ]
        },
        {
          "name": "stderr",
          "output_type": "stream",
          "text": [
            "100%|██████████| 938/938 [00:20<00:00, 45.20it/s, accuracy=1, loss=0.0604, lr=1.15e-6]\n"
          ]
        },
        {
          "name": "stdout",
          "output_type": "stream",
          "text": [
            "Epoch 21, Val Loss: 0.18983659113217502, Val Accuracy: 0.9418789808917197\n"
          ]
        },
        {
          "name": "stderr",
          "output_type": "stream",
          "text": [
            "100%|██████████| 938/938 [00:23<00:00, 40.72it/s, accuracy=1, loss=0.0325, lr=9.22e-7]\n"
          ]
        },
        {
          "name": "stdout",
          "output_type": "stream",
          "text": [
            "Epoch 22, Val Loss: 0.18938057833487631, Val Accuracy: 0.9414808917197452\n"
          ]
        },
        {
          "name": "stderr",
          "output_type": "stream",
          "text": [
            "100%|██████████| 938/938 [00:22<00:00, 42.30it/s, accuracy=1, loss=0.0634, lr=7.38e-7]\n"
          ]
        },
        {
          "name": "stdout",
          "output_type": "stream",
          "text": [
            "Epoch 23, Val Loss: 0.18929039403962292, Val Accuracy: 0.9422770700636943\n"
          ]
        },
        {
          "name": "stderr",
          "output_type": "stream",
          "text": [
            "100%|██████████| 938/938 [00:20<00:00, 45.98it/s, accuracy=1, loss=0.0719, lr=5.9e-7]\n"
          ]
        },
        {
          "name": "stdout",
          "output_type": "stream",
          "text": [
            "Epoch 24, Val Loss: 0.1895056080820549, Val Accuracy: 0.9428742038216561\n"
          ]
        },
        {
          "name": "stderr",
          "output_type": "stream",
          "text": [
            "100%|██████████| 938/938 [00:22<00:00, 42.37it/s, accuracy=0.969, loss=0.161, lr=4.72e-7]\n"
          ]
        },
        {
          "name": "stdout",
          "output_type": "stream",
          "text": [
            "Epoch 25, Val Loss: 0.18948507247267254, Val Accuracy: 0.9418789808917197\n"
          ]
        },
        {
          "name": "stderr",
          "output_type": "stream",
          "text": [
            "100%|██████████| 938/938 [00:20<00:00, 45.75it/s, accuracy=1, loss=0.0223, lr=3.78e-7]\n"
          ]
        },
        {
          "name": "stdout",
          "output_type": "stream",
          "text": [
            "Epoch 26, Val Loss: 0.18887930120501645, Val Accuracy: 0.9418789808917197\n"
          ]
        },
        {
          "name": "stderr",
          "output_type": "stream",
          "text": [
            "100%|██████████| 938/938 [00:20<00:00, 45.85it/s, accuracy=1, loss=0.0263, lr=3.02e-7]\n"
          ]
        },
        {
          "name": "stdout",
          "output_type": "stream",
          "text": [
            "Epoch 27, Val Loss: 0.188739823088477, Val Accuracy: 0.9426751592356688\n"
          ]
        },
        {
          "name": "stderr",
          "output_type": "stream",
          "text": [
            "100%|██████████| 938/938 [00:21<00:00, 43.00it/s, accuracy=1, loss=0.03, lr=2.42e-7]\n"
          ]
        },
        {
          "name": "stdout",
          "output_type": "stream",
          "text": [
            "Epoch 28, Val Loss: 0.1891566608990928, Val Accuracy: 0.942078025477707\n"
          ]
        },
        {
          "name": "stderr",
          "output_type": "stream",
          "text": [
            "100%|██████████| 938/938 [00:20<00:00, 45.78it/s, accuracy=1, loss=0.0279, lr=1.93e-7]\n"
          ]
        },
        {
          "name": "stdout",
          "output_type": "stream",
          "text": [
            "Epoch 29, Val Loss: 0.18886482066053684, Val Accuracy: 0.9422770700636943\n"
          ]
        },
        {
          "name": "stderr",
          "output_type": "stream",
          "text": [
            "100%|██████████| 938/938 [00:22<00:00, 42.25it/s, accuracy=0.969, loss=0.134, lr=1.55e-7]\n"
          ]
        },
        {
          "name": "stdout",
          "output_type": "stream",
          "text": [
            "Epoch 30, Val Loss: 0.18931086792367374, Val Accuracy: 0.9422770700636943\n",
            "LR: 0.0001 Gamma: 0.8 Hdim: 64 Best Accuracy: 0.9428742038216561\n"
          ]
        },
        {
          "name": "stderr",
          "output_type": "stream",
          "text": [
            "100%|██████████| 938/938 [00:21<00:00, 42.68it/s, accuracy=0.844, loss=0.651, lr=0.0001]\n"
          ]
        },
        {
          "name": "stdout",
          "output_type": "stream",
          "text": [
            "Epoch 1, Val Loss: 0.7718695740031588, Val Accuracy: 0.7852308917197452\n"
          ]
        },
        {
          "name": "stderr",
          "output_type": "stream",
          "text": [
            "100%|██████████| 938/938 [00:22<00:00, 42.18it/s, accuracy=0.938, loss=0.248, lr=8e-5]\n"
          ]
        },
        {
          "name": "stdout",
          "output_type": "stream",
          "text": [
            "Epoch 2, Val Loss: 0.44123896491375697, Val Accuracy: 0.8790804140127388\n"
          ]
        },
        {
          "name": "stderr",
          "output_type": "stream",
          "text": [
            "100%|██████████| 938/938 [00:23<00:00, 39.96it/s, accuracy=0.875, loss=0.494, lr=6.4e-5]\n"
          ]
        },
        {
          "name": "stdout",
          "output_type": "stream",
          "text": [
            "Epoch 3, Val Loss: 0.3388940016175531, Val Accuracy: 0.90625\n"
          ]
        },
        {
          "name": "stderr",
          "output_type": "stream",
          "text": [
            "100%|██████████| 938/938 [00:22<00:00, 42.63it/s, accuracy=0.875, loss=0.266, lr=5.12e-5]\n"
          ]
        },
        {
          "name": "stdout",
          "output_type": "stream",
          "text": [
            "Epoch 4, Val Loss: 0.28396282632164893, Val Accuracy: 0.918093152866242\n"
          ]
        },
        {
          "name": "stderr",
          "output_type": "stream",
          "text": [
            "100%|██████████| 938/938 [00:23<00:00, 39.63it/s, accuracy=0.906, loss=0.443, lr=4.1e-5]\n"
          ]
        },
        {
          "name": "stdout",
          "output_type": "stream",
          "text": [
            "Epoch 5, Val Loss: 0.24883764626304056, Val Accuracy: 0.929140127388535\n"
          ]
        },
        {
          "name": "stderr",
          "output_type": "stream",
          "text": [
            "100%|██████████| 938/938 [00:23<00:00, 40.25it/s, accuracy=1, loss=0.0871, lr=3.28e-5]\n"
          ]
        },
        {
          "name": "stdout",
          "output_type": "stream",
          "text": [
            "Epoch 6, Val Loss: 0.23113121204434117, Val Accuracy: 0.9323248407643312\n"
          ]
        },
        {
          "name": "stderr",
          "output_type": "stream",
          "text": [
            "100%|██████████| 938/938 [00:21<00:00, 43.44it/s, accuracy=0.969, loss=0.193, lr=2.62e-5]\n"
          ]
        },
        {
          "name": "stdout",
          "output_type": "stream",
          "text": [
            "Epoch 7, Val Loss: 0.21086549222659154, Val Accuracy: 0.9371019108280255\n"
          ]
        },
        {
          "name": "stderr",
          "output_type": "stream",
          "text": [
            "100%|██████████| 938/938 [00:22<00:00, 42.61it/s, accuracy=0.969, loss=0.0639, lr=2.1e-5]\n"
          ]
        },
        {
          "name": "stdout",
          "output_type": "stream",
          "text": [
            "Epoch 8, Val Loss: 0.20010149889406126, Val Accuracy: 0.93859474522293\n"
          ]
        },
        {
          "name": "stderr",
          "output_type": "stream",
          "text": [
            "100%|██████████| 938/938 [00:23<00:00, 40.21it/s, accuracy=0.969, loss=0.203, lr=1.68e-5]\n"
          ]
        },
        {
          "name": "stdout",
          "output_type": "stream",
          "text": [
            "Epoch 9, Val Loss: 0.18696402730479553, Val Accuracy: 0.9464570063694268\n"
          ]
        },
        {
          "name": "stderr",
          "output_type": "stream",
          "text": [
            "100%|██████████| 938/938 [00:22<00:00, 42.48it/s, accuracy=1, loss=0.0627, lr=1.34e-5]\n"
          ]
        },
        {
          "name": "stdout",
          "output_type": "stream",
          "text": [
            "Epoch 10, Val Loss: 0.1845795809985346, Val Accuracy: 0.9452627388535032\n"
          ]
        },
        {
          "name": "stderr",
          "output_type": "stream",
          "text": [
            "100%|██████████| 938/938 [00:21<00:00, 42.94it/s, accuracy=1, loss=0.0588, lr=1.07e-5]\n"
          ]
        },
        {
          "name": "stdout",
          "output_type": "stream",
          "text": [
            "Epoch 11, Val Loss: 0.17532231403621518, Val Accuracy: 0.9471536624203821\n"
          ]
        },
        {
          "name": "stderr",
          "output_type": "stream",
          "text": [
            "100%|██████████| 938/938 [00:23<00:00, 39.81it/s, accuracy=1, loss=0.0139, lr=8.59e-6]\n"
          ]
        },
        {
          "name": "stdout",
          "output_type": "stream",
          "text": [
            "Epoch 12, Val Loss: 0.17120132197264085, Val Accuracy: 0.9470541401273885\n"
          ]
        },
        {
          "name": "stderr",
          "output_type": "stream",
          "text": [
            "100%|██████████| 938/938 [00:22<00:00, 41.42it/s, accuracy=0.938, loss=0.133, lr=6.87e-6]\n"
          ]
        },
        {
          "name": "stdout",
          "output_type": "stream",
          "text": [
            "Epoch 13, Val Loss: 0.16901054446122782, Val Accuracy: 0.9494426751592356\n"
          ]
        },
        {
          "name": "stderr",
          "output_type": "stream",
          "text": [
            "100%|██████████| 938/938 [00:21<00:00, 43.23it/s, accuracy=1, loss=0.0529, lr=5.5e-6]\n"
          ]
        },
        {
          "name": "stdout",
          "output_type": "stream",
          "text": [
            "Epoch 14, Val Loss: 0.16519842941349575, Val Accuracy: 0.9509355095541401\n"
          ]
        },
        {
          "name": "stderr",
          "output_type": "stream",
          "text": [
            "100%|██████████| 938/938 [00:22<00:00, 40.83it/s, accuracy=1, loss=0.0463, lr=4.4e-6]\n"
          ]
        },
        {
          "name": "stdout",
          "output_type": "stream",
          "text": [
            "Epoch 15, Val Loss: 0.16783249527542218, Val Accuracy: 0.9501393312101911\n"
          ]
        },
        {
          "name": "stderr",
          "output_type": "stream",
          "text": [
            "100%|██████████| 938/938 [00:23<00:00, 40.52it/s, accuracy=1, loss=0.0277, lr=3.52e-6]\n"
          ]
        },
        {
          "name": "stdout",
          "output_type": "stream",
          "text": [
            "Epoch 16, Val Loss: 0.16520605770171068, Val Accuracy: 0.9498407643312102\n"
          ]
        },
        {
          "name": "stderr",
          "output_type": "stream",
          "text": [
            "100%|██████████| 938/938 [00:23<00:00, 39.59it/s, accuracy=1, loss=0.031, lr=2.81e-6]\n"
          ]
        },
        {
          "name": "stdout",
          "output_type": "stream",
          "text": [
            "Epoch 17, Val Loss: 0.16470230146679007, Val Accuracy: 0.9490445859872612\n"
          ]
        },
        {
          "name": "stderr",
          "output_type": "stream",
          "text": [
            "100%|██████████| 938/938 [00:21<00:00, 42.70it/s, accuracy=1, loss=0.0484, lr=2.25e-6]\n"
          ]
        },
        {
          "name": "stdout",
          "output_type": "stream",
          "text": [
            "Epoch 18, Val Loss: 0.16405478195779644, Val Accuracy: 0.9494426751592356\n"
          ]
        },
        {
          "name": "stderr",
          "output_type": "stream",
          "text": [
            "100%|██████████| 938/938 [00:23<00:00, 40.39it/s, accuracy=1, loss=0.0389, lr=1.8e-6]\n"
          ]
        },
        {
          "name": "stdout",
          "output_type": "stream",
          "text": [
            "Epoch 19, Val Loss: 0.16436478765355125, Val Accuracy: 0.9477507961783439\n"
          ]
        },
        {
          "name": "stderr",
          "output_type": "stream",
          "text": [
            "100%|██████████| 938/938 [00:22<00:00, 40.85it/s, accuracy=1, loss=0.0178, lr=1.44e-6]\n"
          ]
        },
        {
          "name": "stdout",
          "output_type": "stream",
          "text": [
            "Epoch 20, Val Loss: 0.16341934810766273, Val Accuracy: 0.9500398089171974\n"
          ]
        },
        {
          "name": "stderr",
          "output_type": "stream",
          "text": [
            "100%|██████████| 938/938 [00:21<00:00, 43.18it/s, accuracy=1, loss=0.0292, lr=1.15e-6]\n"
          ]
        },
        {
          "name": "stdout",
          "output_type": "stream",
          "text": [
            "Epoch 21, Val Loss: 0.163404873538181, Val Accuracy: 0.948546974522293\n"
          ]
        },
        {
          "name": "stderr",
          "output_type": "stream",
          "text": [
            "100%|██████████| 938/938 [00:22<00:00, 41.88it/s, accuracy=1, loss=0.0267, lr=9.22e-7]\n"
          ]
        },
        {
          "name": "stdout",
          "output_type": "stream",
          "text": [
            "Epoch 22, Val Loss: 0.16292057223143472, Val Accuracy: 0.9494426751592356\n"
          ]
        },
        {
          "name": "stderr",
          "output_type": "stream",
          "text": [
            "100%|██████████| 938/938 [00:23<00:00, 39.73it/s, accuracy=1, loss=0.0307, lr=7.38e-7]\n"
          ]
        },
        {
          "name": "stdout",
          "output_type": "stream",
          "text": [
            "Epoch 23, Val Loss: 0.1632774620862666, Val Accuracy: 0.9489450636942676\n"
          ]
        },
        {
          "name": "stderr",
          "output_type": "stream",
          "text": [
            "100%|██████████| 938/938 [00:22<00:00, 41.54it/s, accuracy=1, loss=0.0411, lr=5.9e-7]\n"
          ]
        },
        {
          "name": "stdout",
          "output_type": "stream",
          "text": [
            "Epoch 24, Val Loss: 0.16301710908686753, Val Accuracy: 0.9489450636942676\n"
          ]
        },
        {
          "name": "stderr",
          "output_type": "stream",
          "text": [
            "100%|██████████| 938/938 [00:21<00:00, 42.71it/s, accuracy=1, loss=0.0152, lr=4.72e-7]\n"
          ]
        },
        {
          "name": "stdout",
          "output_type": "stream",
          "text": [
            "Epoch 25, Val Loss: 0.1634146039697466, Val Accuracy: 0.9490445859872612\n"
          ]
        },
        {
          "name": "stderr",
          "output_type": "stream",
          "text": [
            "100%|██████████| 938/938 [00:23<00:00, 39.59it/s, accuracy=1, loss=0.0237, lr=3.78e-7]\n"
          ]
        },
        {
          "name": "stdout",
          "output_type": "stream",
          "text": [
            "Epoch 26, Val Loss: 0.16298155632510686, Val Accuracy: 0.9487460191082803\n"
          ]
        },
        {
          "name": "stderr",
          "output_type": "stream",
          "text": [
            "100%|██████████| 938/938 [00:23<00:00, 39.53it/s, accuracy=1, loss=0.0249, lr=3.02e-7]\n"
          ]
        },
        {
          "name": "stdout",
          "output_type": "stream",
          "text": [
            "Epoch 27, Val Loss: 0.16329691420267722, Val Accuracy: 0.9491441082802548\n"
          ]
        },
        {
          "name": "stderr",
          "output_type": "stream",
          "text": [
            "100%|██████████| 938/938 [00:22<00:00, 42.41it/s, accuracy=1, loss=0.012, lr=2.42e-7]\n"
          ]
        },
        {
          "name": "stdout",
          "output_type": "stream",
          "text": [
            "Epoch 28, Val Loss: 0.163012828476205, Val Accuracy: 0.9488455414012739\n"
          ]
        },
        {
          "name": "stderr",
          "output_type": "stream",
          "text": [
            "100%|██████████| 938/938 [00:22<00:00, 41.02it/s, accuracy=1, loss=0.0315, lr=1.93e-7]\n"
          ]
        },
        {
          "name": "stdout",
          "output_type": "stream",
          "text": [
            "Epoch 29, Val Loss: 0.16307492629820658, Val Accuracy: 0.9487460191082803\n"
          ]
        },
        {
          "name": "stderr",
          "output_type": "stream",
          "text": [
            "100%|██████████| 938/938 [00:22<00:00, 40.85it/s, accuracy=1, loss=0.0153, lr=1.55e-7]\n"
          ]
        },
        {
          "name": "stdout",
          "output_type": "stream",
          "text": [
            "Epoch 30, Val Loss: 0.16306276495455746, Val Accuracy: 0.9486464968152867\n",
            "LR: 0.0001 Gamma: 0.8 Hdim: 128 Best Accuracy: 0.9509355095541401\n"
          ]
        },
        {
          "name": "stderr",
          "output_type": "stream",
          "text": [
            "100%|██████████| 938/938 [00:27<00:00, 33.96it/s, accuracy=0.938, loss=0.442, lr=0.0001]\n"
          ]
        },
        {
          "name": "stdout",
          "output_type": "stream",
          "text": [
            "Epoch 1, Val Loss: 0.5742171059368523, Val Accuracy: 0.8384753184713376\n"
          ]
        },
        {
          "name": "stderr",
          "output_type": "stream",
          "text": [
            "100%|██████████| 938/938 [00:27<00:00, 34.27it/s, accuracy=0.906, loss=0.43, lr=8e-5]\n"
          ]
        },
        {
          "name": "stdout",
          "output_type": "stream",
          "text": [
            "Epoch 2, Val Loss: 0.4001826535269713, Val Accuracy: 0.8899283439490446\n"
          ]
        },
        {
          "name": "stderr",
          "output_type": "stream",
          "text": [
            "100%|██████████| 938/938 [00:27<00:00, 33.87it/s, accuracy=0.938, loss=0.227, lr=6.4e-5]\n"
          ]
        },
        {
          "name": "stdout",
          "output_type": "stream",
          "text": [
            "Epoch 3, Val Loss: 0.32062716046526174, Val Accuracy: 0.9093351910828026\n"
          ]
        },
        {
          "name": "stderr",
          "output_type": "stream",
          "text": [
            "100%|██████████| 938/938 [00:27<00:00, 34.21it/s, accuracy=0.875, loss=0.333, lr=5.12e-5]\n"
          ]
        },
        {
          "name": "stdout",
          "output_type": "stream",
          "text": [
            "Epoch 4, Val Loss: 0.2567241604018743, Val Accuracy: 0.9266520700636943\n"
          ]
        },
        {
          "name": "stderr",
          "output_type": "stream",
          "text": [
            "100%|██████████| 938/938 [00:27<00:00, 33.91it/s, accuracy=0.875, loss=0.289, lr=4.1e-5]\n"
          ]
        },
        {
          "name": "stdout",
          "output_type": "stream",
          "text": [
            "Epoch 5, Val Loss: 0.25125274094189426, Val Accuracy: 0.9260549363057324\n"
          ]
        },
        {
          "name": "stderr",
          "output_type": "stream",
          "text": [
            "100%|██████████| 938/938 [00:27<00:00, 33.89it/s, accuracy=0.969, loss=0.0938, lr=3.28e-5]\n"
          ]
        },
        {
          "name": "stdout",
          "output_type": "stream",
          "text": [
            "Epoch 6, Val Loss: 0.204535344390163, Val Accuracy: 0.9379976114649682\n"
          ]
        },
        {
          "name": "stderr",
          "output_type": "stream",
          "text": [
            "100%|██████████| 938/938 [00:27<00:00, 34.19it/s, accuracy=1, loss=0.0515, lr=2.62e-5]\n"
          ]
        },
        {
          "name": "stdout",
          "output_type": "stream",
          "text": [
            "Epoch 7, Val Loss: 0.1871043709314363, Val Accuracy: 0.9428742038216561\n"
          ]
        },
        {
          "name": "stderr",
          "output_type": "stream",
          "text": [
            "100%|██████████| 938/938 [00:27<00:00, 33.66it/s, accuracy=1, loss=0.0167, lr=2.1e-5]\n"
          ]
        },
        {
          "name": "stdout",
          "output_type": "stream",
          "text": [
            "Epoch 8, Val Loss: 0.17036637686382813, Val Accuracy: 0.9506369426751592\n"
          ]
        },
        {
          "name": "stderr",
          "output_type": "stream",
          "text": [
            "100%|██████████| 938/938 [00:27<00:00, 33.66it/s, accuracy=0.969, loss=0.0654, lr=1.68e-5]\n"
          ]
        },
        {
          "name": "stdout",
          "output_type": "stream",
          "text": [
            "Epoch 9, Val Loss: 0.16496915408932147, Val Accuracy: 0.9508359872611465\n"
          ]
        },
        {
          "name": "stderr",
          "output_type": "stream",
          "text": [
            "100%|██████████| 938/938 [00:29<00:00, 32.12it/s, accuracy=1, loss=0.0751, lr=1.34e-5]\n"
          ]
        },
        {
          "name": "stdout",
          "output_type": "stream",
          "text": [
            "Epoch 10, Val Loss: 0.15949630126457923, Val Accuracy: 0.951234076433121\n"
          ]
        },
        {
          "name": "stderr",
          "output_type": "stream",
          "text": [
            "100%|██████████| 938/938 [00:27<00:00, 34.16it/s, accuracy=1, loss=0.0294, lr=1.07e-5]\n"
          ]
        },
        {
          "name": "stdout",
          "output_type": "stream",
          "text": [
            "Epoch 11, Val Loss: 0.15316895580076417, Val Accuracy: 0.9517316878980892\n"
          ]
        },
        {
          "name": "stderr",
          "output_type": "stream",
          "text": [
            "100%|██████████| 938/938 [00:27<00:00, 33.89it/s, accuracy=1, loss=0.00957, lr=8.59e-6]\n"
          ]
        },
        {
          "name": "stdout",
          "output_type": "stream",
          "text": [
            "Epoch 12, Val Loss: 0.15399870259396636, Val Accuracy: 0.9534235668789809\n"
          ]
        },
        {
          "name": "stderr",
          "output_type": "stream",
          "text": [
            "100%|██████████| 938/938 [00:26<00:00, 35.16it/s, accuracy=1, loss=0.0267, lr=6.87e-6]\n"
          ]
        },
        {
          "name": "stdout",
          "output_type": "stream",
          "text": [
            "Epoch 13, Val Loss: 0.14522837358156135, Val Accuracy: 0.9551154458598726\n"
          ]
        },
        {
          "name": "stderr",
          "output_type": "stream",
          "text": [
            "100%|██████████| 938/938 [00:27<00:00, 34.57it/s, accuracy=1, loss=0.0127, lr=5.5e-6]\n"
          ]
        },
        {
          "name": "stdout",
          "output_type": "stream",
          "text": [
            "Epoch 14, Val Loss: 0.14344058092386955, Val Accuracy: 0.9554140127388535\n"
          ]
        },
        {
          "name": "stderr",
          "output_type": "stream",
          "text": [
            "100%|██████████| 938/938 [00:27<00:00, 34.37it/s, accuracy=1, loss=0.0289, lr=4.4e-6]\n"
          ]
        },
        {
          "name": "stdout",
          "output_type": "stream",
          "text": [
            "Epoch 15, Val Loss: 0.141526245038992, Val Accuracy: 0.9556130573248408\n"
          ]
        },
        {
          "name": "stderr",
          "output_type": "stream",
          "text": [
            "100%|██████████| 938/938 [00:27<00:00, 34.28it/s, accuracy=1, loss=0.0322, lr=3.52e-6]\n"
          ]
        },
        {
          "name": "stdout",
          "output_type": "stream",
          "text": [
            "Epoch 16, Val Loss: 0.14187947139040133, Val Accuracy: 0.9561106687898089\n"
          ]
        },
        {
          "name": "stderr",
          "output_type": "stream",
          "text": [
            "100%|██████████| 938/938 [00:27<00:00, 34.29it/s, accuracy=1, loss=0.0412, lr=2.81e-6]\n"
          ]
        },
        {
          "name": "stdout",
          "output_type": "stream",
          "text": [
            "Epoch 17, Val Loss: 0.14151710671354917, Val Accuracy: 0.9563097133757962\n"
          ]
        },
        {
          "name": "stderr",
          "output_type": "stream",
          "text": [
            "100%|██████████| 938/938 [00:27<00:00, 34.35it/s, accuracy=1, loss=0.015, lr=2.25e-6]\n"
          ]
        },
        {
          "name": "stdout",
          "output_type": "stream",
          "text": [
            "Epoch 18, Val Loss: 0.14037205898173297, Val Accuracy: 0.9561106687898089\n"
          ]
        },
        {
          "name": "stderr",
          "output_type": "stream",
          "text": [
            "100%|██████████| 938/938 [00:27<00:00, 34.22it/s, accuracy=1, loss=0.0121, lr=1.8e-6]\n"
          ]
        },
        {
          "name": "stdout",
          "output_type": "stream",
          "text": [
            "Epoch 19, Val Loss: 0.14052345832234403, Val Accuracy: 0.956906847133758\n"
          ]
        },
        {
          "name": "stderr",
          "output_type": "stream",
          "text": [
            "100%|██████████| 938/938 [00:28<00:00, 32.62it/s, accuracy=1, loss=0.0109, lr=1.44e-6]\n"
          ]
        },
        {
          "name": "stdout",
          "output_type": "stream",
          "text": [
            "Epoch 20, Val Loss: 0.14012811550608048, Val Accuracy: 0.9568073248407644\n"
          ]
        },
        {
          "name": "stderr",
          "output_type": "stream",
          "text": [
            "100%|██████████| 938/938 [00:27<00:00, 34.17it/s, accuracy=1, loss=0.00798, lr=1.15e-6]\n"
          ]
        },
        {
          "name": "stdout",
          "output_type": "stream",
          "text": [
            "Epoch 21, Val Loss: 0.14017481670513227, Val Accuracy: 0.9557125796178344\n"
          ]
        },
        {
          "name": "stderr",
          "output_type": "stream",
          "text": [
            "100%|██████████| 938/938 [00:27<00:00, 34.39it/s, accuracy=1, loss=0.00891, lr=9.22e-7]\n"
          ]
        },
        {
          "name": "stdout",
          "output_type": "stream",
          "text": [
            "Epoch 22, Val Loss: 0.14005568511687683, Val Accuracy: 0.9565087579617835\n"
          ]
        },
        {
          "name": "stderr",
          "output_type": "stream",
          "text": [
            "100%|██████████| 938/938 [00:27<00:00, 34.26it/s, accuracy=1, loss=0.0155, lr=7.38e-7]\n"
          ]
        },
        {
          "name": "stdout",
          "output_type": "stream",
          "text": [
            "Epoch 23, Val Loss: 0.14000397117083274, Val Accuracy: 0.9562101910828026\n"
          ]
        },
        {
          "name": "stderr",
          "output_type": "stream",
          "text": [
            "100%|██████████| 938/938 [00:27<00:00, 33.83it/s, accuracy=1, loss=0.00736, lr=5.9e-7]\n"
          ]
        },
        {
          "name": "stdout",
          "output_type": "stream",
          "text": [
            "Epoch 24, Val Loss: 0.13976386578191535, Val Accuracy: 0.9572054140127388\n"
          ]
        },
        {
          "name": "stderr",
          "output_type": "stream",
          "text": [
            "100%|██████████| 938/938 [00:27<00:00, 34.19it/s, accuracy=1, loss=0.00445, lr=4.72e-7]\n"
          ]
        },
        {
          "name": "stdout",
          "output_type": "stream",
          "text": [
            "Epoch 25, Val Loss: 0.14043905525979924, Val Accuracy: 0.9564092356687898\n"
          ]
        },
        {
          "name": "stderr",
          "output_type": "stream",
          "text": [
            "100%|██████████| 938/938 [00:27<00:00, 34.65it/s, accuracy=1, loss=0.00884, lr=3.78e-7]\n"
          ]
        },
        {
          "name": "stdout",
          "output_type": "stream",
          "text": [
            "Epoch 26, Val Loss: 0.14009022100303606, Val Accuracy: 0.9568073248407644\n"
          ]
        },
        {
          "name": "stderr",
          "output_type": "stream",
          "text": [
            "100%|██████████| 938/938 [00:27<00:00, 34.05it/s, accuracy=1, loss=0.00657, lr=3.02e-7]\n"
          ]
        },
        {
          "name": "stdout",
          "output_type": "stream",
          "text": [
            "Epoch 27, Val Loss: 0.1398802199104362, Val Accuracy: 0.9561106687898089\n"
          ]
        },
        {
          "name": "stderr",
          "output_type": "stream",
          "text": [
            "100%|██████████| 938/938 [00:27<00:00, 33.59it/s, accuracy=1, loss=0.00877, lr=2.42e-7]\n"
          ]
        },
        {
          "name": "stdout",
          "output_type": "stream",
          "text": [
            "Epoch 28, Val Loss: 0.13987022726485138, Val Accuracy: 0.9565087579617835\n"
          ]
        },
        {
          "name": "stderr",
          "output_type": "stream",
          "text": [
            "100%|██████████| 938/938 [00:27<00:00, 33.80it/s, accuracy=1, loss=0.00641, lr=1.93e-7]\n"
          ]
        },
        {
          "name": "stdout",
          "output_type": "stream",
          "text": [
            "Epoch 29, Val Loss: 0.13993624966572318, Val Accuracy: 0.9563097133757962\n"
          ]
        },
        {
          "name": "stderr",
          "output_type": "stream",
          "text": [
            "100%|██████████| 938/938 [00:27<00:00, 34.06it/s, accuracy=1, loss=0.0207, lr=1.55e-7]\n"
          ]
        },
        {
          "name": "stdout",
          "output_type": "stream",
          "text": [
            "Epoch 30, Val Loss: 0.1398745301234459, Val Accuracy: 0.9568073248407644\n",
            "LR: 0.0001 Gamma: 0.8 Hdim: 256 Best Accuracy: 0.9572054140127388\n"
          ]
        },
        {
          "name": "stderr",
          "output_type": "stream",
          "text": [
            "100%|██████████| 938/938 [00:22<00:00, 42.11it/s, accuracy=0.719, loss=1.3, lr=0.0001]\n"
          ]
        },
        {
          "name": "stdout",
          "output_type": "stream",
          "text": [
            "Epoch 1, Val Loss: 1.0968678582246136, Val Accuracy: 0.6793391719745223\n"
          ]
        },
        {
          "name": "stderr",
          "output_type": "stream",
          "text": [
            "100%|██████████| 938/938 [00:21<00:00, 43.88it/s, accuracy=0.875, loss=0.598, lr=9e-5]\n"
          ]
        },
        {
          "name": "stdout",
          "output_type": "stream",
          "text": [
            "Epoch 2, Val Loss: 0.5249082095873584, Val Accuracy: 0.8628582802547771\n"
          ]
        },
        {
          "name": "stderr",
          "output_type": "stream",
          "text": [
            "100%|██████████| 938/938 [00:21<00:00, 44.52it/s, accuracy=0.875, loss=0.422, lr=8.1e-5]\n"
          ]
        },
        {
          "name": "stdout",
          "output_type": "stream",
          "text": [
            "Epoch 3, Val Loss: 0.3665117432547223, Val Accuracy: 0.8999800955414012\n"
          ]
        },
        {
          "name": "stderr",
          "output_type": "stream",
          "text": [
            "100%|██████████| 938/938 [00:20<00:00, 45.71it/s, accuracy=0.969, loss=0.234, lr=7.29e-5]\n"
          ]
        },
        {
          "name": "stdout",
          "output_type": "stream",
          "text": [
            "Epoch 4, Val Loss: 0.354349712657321, Val Accuracy: 0.90515525477707\n"
          ]
        },
        {
          "name": "stderr",
          "output_type": "stream",
          "text": [
            "100%|██████████| 938/938 [00:22<00:00, 42.44it/s, accuracy=0.906, loss=0.409, lr=6.56e-5]\n"
          ]
        },
        {
          "name": "stdout",
          "output_type": "stream",
          "text": [
            "Epoch 5, Val Loss: 0.31173813558972563, Val Accuracy: 0.9136146496815286\n"
          ]
        },
        {
          "name": "stderr",
          "output_type": "stream",
          "text": [
            "100%|██████████| 938/938 [00:20<00:00, 45.29it/s, accuracy=0.906, loss=0.261, lr=5.9e-5]\n"
          ]
        },
        {
          "name": "stdout",
          "output_type": "stream",
          "text": [
            "Epoch 6, Val Loss: 0.2877191441121754, Val Accuracy: 0.918093152866242\n"
          ]
        },
        {
          "name": "stderr",
          "output_type": "stream",
          "text": [
            "100%|██████████| 938/938 [00:22<00:00, 42.58it/s, accuracy=0.938, loss=0.199, lr=5.31e-5]\n"
          ]
        },
        {
          "name": "stdout",
          "output_type": "stream",
          "text": [
            "Epoch 7, Val Loss: 0.25919676187691415, Val Accuracy: 0.9250597133757962\n"
          ]
        },
        {
          "name": "stderr",
          "output_type": "stream",
          "text": [
            "100%|██████████| 938/938 [00:20<00:00, 44.72it/s, accuracy=0.875, loss=0.294, lr=4.78e-5]\n"
          ]
        },
        {
          "name": "stdout",
          "output_type": "stream",
          "text": [
            "Epoch 8, Val Loss: 0.24997467563078282, Val Accuracy: 0.927547770700637\n"
          ]
        },
        {
          "name": "stderr",
          "output_type": "stream",
          "text": [
            "100%|██████████| 938/938 [00:20<00:00, 44.93it/s, accuracy=0.969, loss=0.113, lr=4.3e-5]\n"
          ]
        },
        {
          "name": "stdout",
          "output_type": "stream",
          "text": [
            "Epoch 9, Val Loss: 0.22533171380733608, Val Accuracy: 0.9340167197452229\n"
          ]
        },
        {
          "name": "stderr",
          "output_type": "stream",
          "text": [
            "100%|██████████| 938/938 [00:22<00:00, 42.36it/s, accuracy=0.906, loss=0.322, lr=3.87e-5]\n"
          ]
        },
        {
          "name": "stdout",
          "output_type": "stream",
          "text": [
            "Epoch 10, Val Loss: 0.22181782624713933, Val Accuracy: 0.9327229299363057\n"
          ]
        },
        {
          "name": "stderr",
          "output_type": "stream",
          "text": [
            "100%|██████████| 938/938 [00:20<00:00, 45.72it/s, accuracy=0.969, loss=0.12, lr=3.49e-5]\n"
          ]
        },
        {
          "name": "stdout",
          "output_type": "stream",
          "text": [
            "Epoch 11, Val Loss: 0.1941634956391374, Val Accuracy: 0.9405851910828026\n"
          ]
        },
        {
          "name": "stderr",
          "output_type": "stream",
          "text": [
            "100%|██████████| 938/938 [00:21<00:00, 42.66it/s, accuracy=0.969, loss=0.109, lr=3.14e-5]\n"
          ]
        },
        {
          "name": "stdout",
          "output_type": "stream",
          "text": [
            "Epoch 12, Val Loss: 0.19488311684126877, Val Accuracy: 0.9409832802547771\n"
          ]
        },
        {
          "name": "stderr",
          "output_type": "stream",
          "text": [
            "100%|██████████| 938/938 [00:20<00:00, 45.04it/s, accuracy=0.969, loss=0.087, lr=2.82e-5]\n"
          ]
        },
        {
          "name": "stdout",
          "output_type": "stream",
          "text": [
            "Epoch 13, Val Loss: 0.1856889947240425, Val Accuracy: 0.9427746815286624\n"
          ]
        },
        {
          "name": "stderr",
          "output_type": "stream",
          "text": [
            "100%|██████████| 938/938 [00:22<00:00, 42.24it/s, accuracy=0.969, loss=0.0749, lr=2.54e-5]\n"
          ]
        },
        {
          "name": "stdout",
          "output_type": "stream",
          "text": [
            "Epoch 14, Val Loss: 0.18806669379104, Val Accuracy: 0.9444665605095541\n"
          ]
        },
        {
          "name": "stderr",
          "output_type": "stream",
          "text": [
            "100%|██████████| 938/938 [00:22<00:00, 42.19it/s, accuracy=1, loss=0.0335, lr=2.29e-5]\n"
          ]
        },
        {
          "name": "stdout",
          "output_type": "stream",
          "text": [
            "Epoch 15, Val Loss: 0.18555781026934362, Val Accuracy: 0.9396894904458599\n"
          ]
        },
        {
          "name": "stderr",
          "output_type": "stream",
          "text": [
            "100%|██████████| 938/938 [00:20<00:00, 44.79it/s, accuracy=1, loss=0.0156, lr=2.06e-5]\n"
          ]
        },
        {
          "name": "stdout",
          "output_type": "stream",
          "text": [
            "Epoch 16, Val Loss: 0.1785500526137555, Val Accuracy: 0.9438694267515924\n"
          ]
        },
        {
          "name": "stderr",
          "output_type": "stream",
          "text": [
            "100%|██████████| 938/938 [00:21<00:00, 43.20it/s, accuracy=1, loss=0.0305, lr=1.85e-5]\n"
          ]
        },
        {
          "name": "stdout",
          "output_type": "stream",
          "text": [
            "Epoch 17, Val Loss: 0.17592054809247898, Val Accuracy: 0.9445660828025477\n"
          ]
        },
        {
          "name": "stderr",
          "output_type": "stream",
          "text": [
            "100%|██████████| 938/938 [00:21<00:00, 43.86it/s, accuracy=1, loss=0.0538, lr=1.67e-5]\n"
          ]
        },
        {
          "name": "stdout",
          "output_type": "stream",
          "text": [
            "Epoch 18, Val Loss: 0.17645242596252755, Val Accuracy: 0.9436703821656051\n"
          ]
        },
        {
          "name": "stderr",
          "output_type": "stream",
          "text": [
            "100%|██████████| 938/938 [00:20<00:00, 45.26it/s, accuracy=1, loss=0.0199, lr=1.5e-5]\n"
          ]
        },
        {
          "name": "stdout",
          "output_type": "stream",
          "text": [
            "Epoch 19, Val Loss: 0.17112361443537483, Val Accuracy: 0.9469546178343949\n"
          ]
        },
        {
          "name": "stderr",
          "output_type": "stream",
          "text": [
            "100%|██████████| 938/938 [00:22<00:00, 42.17it/s, accuracy=1, loss=0.0172, lr=1.35e-5]\n"
          ]
        },
        {
          "name": "stdout",
          "output_type": "stream",
          "text": [
            "Epoch 20, Val Loss: 0.17381772390347283, Val Accuracy: 0.9478503184713376\n"
          ]
        },
        {
          "name": "stderr",
          "output_type": "stream",
          "text": [
            "100%|██████████| 938/938 [00:20<00:00, 45.99it/s, accuracy=1, loss=0.018, lr=1.22e-5]\n"
          ]
        },
        {
          "name": "stdout",
          "output_type": "stream",
          "text": [
            "Epoch 21, Val Loss: 0.1713233870850093, Val Accuracy: 0.9484474522292994\n"
          ]
        },
        {
          "name": "stderr",
          "output_type": "stream",
          "text": [
            "100%|██████████| 938/938 [00:22<00:00, 42.35it/s, accuracy=1, loss=0.0166, lr=1.09e-5]\n"
          ]
        },
        {
          "name": "stdout",
          "output_type": "stream",
          "text": [
            "Epoch 22, Val Loss: 0.17059161176365226, Val Accuracy: 0.9473527070063694\n"
          ]
        },
        {
          "name": "stderr",
          "output_type": "stream",
          "text": [
            "100%|██████████| 938/938 [00:21<00:00, 44.51it/s, accuracy=1, loss=0.0223, lr=9.85e-6]\n"
          ]
        },
        {
          "name": "stdout",
          "output_type": "stream",
          "text": [
            "Epoch 23, Val Loss: 0.17229666866237522, Val Accuracy: 0.9473527070063694\n"
          ]
        },
        {
          "name": "stderr",
          "output_type": "stream",
          "text": [
            "100%|██████████| 938/938 [00:20<00:00, 45.75it/s, accuracy=1, loss=0.0169, lr=8.86e-6]\n"
          ]
        },
        {
          "name": "stdout",
          "output_type": "stream",
          "text": [
            "Epoch 24, Val Loss: 0.17279741361738735, Val Accuracy: 0.9481488853503185\n"
          ]
        },
        {
          "name": "stderr",
          "output_type": "stream",
          "text": [
            "100%|██████████| 938/938 [00:21<00:00, 43.28it/s, accuracy=1, loss=0.0151, lr=7.98e-6]\n"
          ]
        },
        {
          "name": "stdout",
          "output_type": "stream",
          "text": [
            "Epoch 25, Val Loss: 0.17363934964349398, Val Accuracy: 0.9461584394904459\n"
          ]
        },
        {
          "name": "stderr",
          "output_type": "stream",
          "text": [
            "100%|██████████| 938/938 [00:20<00:00, 45.21it/s, accuracy=1, loss=0.00499, lr=7.18e-6]\n"
          ]
        },
        {
          "name": "stdout",
          "output_type": "stream",
          "text": [
            "Epoch 26, Val Loss: 0.17304274430802496, Val Accuracy: 0.947452229299363\n"
          ]
        },
        {
          "name": "stderr",
          "output_type": "stream",
          "text": [
            "100%|██████████| 938/938 [00:21<00:00, 42.92it/s, accuracy=1, loss=0.00322, lr=6.46e-6]\n"
          ]
        },
        {
          "name": "stdout",
          "output_type": "stream",
          "text": [
            "Epoch 27, Val Loss: 0.17232734517151324, Val Accuracy: 0.9475517515923567\n"
          ]
        },
        {
          "name": "stderr",
          "output_type": "stream",
          "text": [
            "100%|██████████| 938/938 [00:22<00:00, 42.27it/s, accuracy=1, loss=0.00362, lr=5.81e-6]\n"
          ]
        },
        {
          "name": "stdout",
          "output_type": "stream",
          "text": [
            "Epoch 28, Val Loss: 0.1768199814695592, Val Accuracy: 0.947452229299363\n"
          ]
        },
        {
          "name": "stderr",
          "output_type": "stream",
          "text": [
            "100%|██████████| 938/938 [00:21<00:00, 43.44it/s, accuracy=1, loss=0.00348, lr=5.23e-6]\n"
          ]
        },
        {
          "name": "stdout",
          "output_type": "stream",
          "text": [
            "Epoch 29, Val Loss: 0.17309367333970382, Val Accuracy: 0.9472531847133758\n"
          ]
        },
        {
          "name": "stderr",
          "output_type": "stream",
          "text": [
            "100%|██████████| 938/938 [00:20<00:00, 46.03it/s, accuracy=1, loss=0.00903, lr=4.71e-6]\n"
          ]
        },
        {
          "name": "stdout",
          "output_type": "stream",
          "text": [
            "Epoch 30, Val Loss: 0.17271828266923986, Val Accuracy: 0.947452229299363\n",
            "LR: 0.0001 Gamma: 0.9 Hdim: 64 Best Accuracy: 0.9484474522292994\n"
          ]
        },
        {
          "name": "stderr",
          "output_type": "stream",
          "text": [
            "100%|██████████| 938/938 [00:21<00:00, 42.80it/s, accuracy=0.844, loss=0.651, lr=0.0001]\n"
          ]
        },
        {
          "name": "stdout",
          "output_type": "stream",
          "text": [
            "Epoch 1, Val Loss: 0.7718695740031588, Val Accuracy: 0.7852308917197452\n"
          ]
        },
        {
          "name": "stderr",
          "output_type": "stream",
          "text": [
            "100%|██████████| 938/938 [00:23<00:00, 40.48it/s, accuracy=0.906, loss=0.371, lr=9e-5]\n"
          ]
        },
        {
          "name": "stdout",
          "output_type": "stream",
          "text": [
            "Epoch 2, Val Loss: 0.5010709437974699, Val Accuracy: 0.8659434713375797\n"
          ]
        },
        {
          "name": "stderr",
          "output_type": "stream",
          "text": [
            "100%|██████████| 938/938 [00:22<00:00, 41.99it/s, accuracy=0.844, loss=0.542, lr=8.1e-5]\n"
          ]
        },
        {
          "name": "stdout",
          "output_type": "stream",
          "text": [
            "Epoch 3, Val Loss: 0.36299619467774774, Val Accuracy: 0.9002786624203821\n"
          ]
        },
        {
          "name": "stderr",
          "output_type": "stream",
          "text": [
            "100%|██████████| 938/938 [00:21<00:00, 43.07it/s, accuracy=0.875, loss=0.303, lr=7.29e-5]\n"
          ]
        },
        {
          "name": "stdout",
          "output_type": "stream",
          "text": [
            "Epoch 4, Val Loss: 0.3193751076224503, Val Accuracy: 0.9122213375796179\n"
          ]
        },
        {
          "name": "stderr",
          "output_type": "stream",
          "text": [
            "100%|██████████| 938/938 [00:23<00:00, 39.73it/s, accuracy=0.906, loss=0.367, lr=6.56e-5]\n"
          ]
        },
        {
          "name": "stdout",
          "output_type": "stream",
          "text": [
            "Epoch 5, Val Loss: 0.2426448260333128, Val Accuracy: 0.9313296178343949\n"
          ]
        },
        {
          "name": "stderr",
          "output_type": "stream",
          "text": [
            "100%|██████████| 938/938 [00:23<00:00, 39.49it/s, accuracy=0.969, loss=0.139, lr=5.9e-5]\n"
          ]
        },
        {
          "name": "stdout",
          "output_type": "stream",
          "text": [
            "Epoch 6, Val Loss: 0.24863358060265803, Val Accuracy: 0.9286425159235668\n"
          ]
        },
        {
          "name": "stderr",
          "output_type": "stream",
          "text": [
            "100%|██████████| 938/938 [00:21<00:00, 43.14it/s, accuracy=1, loss=0.136, lr=5.31e-5]\n"
          ]
        },
        {
          "name": "stdout",
          "output_type": "stream",
          "text": [
            "Epoch 7, Val Loss: 0.21691703022855102, Val Accuracy: 0.9378980891719745\n"
          ]
        },
        {
          "name": "stderr",
          "output_type": "stream",
          "text": [
            "100%|██████████| 938/938 [00:23<00:00, 39.88it/s, accuracy=0.969, loss=0.071, lr=4.78e-5]\n"
          ]
        },
        {
          "name": "stdout",
          "output_type": "stream",
          "text": [
            "Epoch 8, Val Loss: 0.2020281065599459, Val Accuracy: 0.940187101910828\n"
          ]
        },
        {
          "name": "stderr",
          "output_type": "stream",
          "text": [
            "100%|██████████| 938/938 [00:22<00:00, 41.72it/s, accuracy=0.969, loss=0.181, lr=4.3e-5]\n"
          ]
        },
        {
          "name": "stdout",
          "output_type": "stream",
          "text": [
            "Epoch 9, Val Loss: 0.19111362875551935, Val Accuracy: 0.9418789808917197\n"
          ]
        },
        {
          "name": "stderr",
          "output_type": "stream",
          "text": [
            "100%|██████████| 938/938 [00:21<00:00, 42.70it/s, accuracy=1, loss=0.03, lr=3.87e-5]\n"
          ]
        },
        {
          "name": "stdout",
          "output_type": "stream",
          "text": [
            "Epoch 10, Val Loss: 0.18559547798755538, Val Accuracy: 0.9445660828025477\n"
          ]
        },
        {
          "name": "stderr",
          "output_type": "stream",
          "text": [
            "100%|██████████| 938/938 [00:24<00:00, 37.75it/s, accuracy=0.969, loss=0.0738, lr=3.49e-5]\n"
          ]
        },
        {
          "name": "stdout",
          "output_type": "stream",
          "text": [
            "Epoch 11, Val Loss: 0.19208021609077028, Val Accuracy: 0.9403861464968153\n"
          ]
        },
        {
          "name": "stderr",
          "output_type": "stream",
          "text": [
            "100%|██████████| 938/938 [00:23<00:00, 39.68it/s, accuracy=1, loss=0.0174, lr=3.14e-5]\n"
          ]
        },
        {
          "name": "stdout",
          "output_type": "stream",
          "text": [
            "Epoch 12, Val Loss: 0.17814941330854395, Val Accuracy: 0.9446656050955414\n"
          ]
        },
        {
          "name": "stderr",
          "output_type": "stream",
          "text": [
            "100%|██████████| 938/938 [00:22<00:00, 42.58it/s, accuracy=1, loss=0.0422, lr=2.82e-5]\n"
          ]
        },
        {
          "name": "stdout",
          "output_type": "stream",
          "text": [
            "Epoch 13, Val Loss: 0.16290291282348335, Val Accuracy: 0.9501393312101911\n"
          ]
        },
        {
          "name": "stderr",
          "output_type": "stream",
          "text": [
            "100%|██████████| 938/938 [00:22<00:00, 41.42it/s, accuracy=1, loss=0.0288, lr=2.54e-5]\n"
          ]
        },
        {
          "name": "stdout",
          "output_type": "stream",
          "text": [
            "Epoch 14, Val Loss: 0.1682657849571555, Val Accuracy: 0.9488455414012739\n"
          ]
        },
        {
          "name": "stderr",
          "output_type": "stream",
          "text": [
            "100%|██████████| 938/938 [00:23<00:00, 39.15it/s, accuracy=0.969, loss=0.0492, lr=2.29e-5]\n"
          ]
        },
        {
          "name": "stdout",
          "output_type": "stream",
          "text": [
            "Epoch 15, Val Loss: 0.17911771382724237, Val Accuracy: 0.9467555732484076\n"
          ]
        },
        {
          "name": "stderr",
          "output_type": "stream",
          "text": [
            "100%|██████████| 938/938 [00:22<00:00, 41.94it/s, accuracy=1, loss=0.0173, lr=2.06e-5]\n"
          ]
        },
        {
          "name": "stdout",
          "output_type": "stream",
          "text": [
            "Epoch 16, Val Loss: 0.15594545890025463, Val Accuracy: 0.953125\n"
          ]
        },
        {
          "name": "stderr",
          "output_type": "stream",
          "text": [
            "100%|██████████| 938/938 [00:23<00:00, 40.75it/s, accuracy=1, loss=0.0171, lr=1.85e-5]\n"
          ]
        },
        {
          "name": "stdout",
          "output_type": "stream",
          "text": [
            "Epoch 17, Val Loss: 0.1572941566511965, Val Accuracy: 0.9518312101910829\n"
          ]
        },
        {
          "name": "stderr",
          "output_type": "stream",
          "text": [
            "100%|██████████| 938/938 [00:24<00:00, 38.88it/s, accuracy=1, loss=0.0132, lr=1.67e-5]\n"
          ]
        },
        {
          "name": "stdout",
          "output_type": "stream",
          "text": [
            "Epoch 18, Val Loss: 0.15261757919071006, Val Accuracy: 0.9537221337579618\n"
          ]
        },
        {
          "name": "stderr",
          "output_type": "stream",
          "text": [
            "100%|██████████| 938/938 [00:23<00:00, 39.53it/s, accuracy=1, loss=0.0149, lr=1.5e-5]\n"
          ]
        },
        {
          "name": "stdout",
          "output_type": "stream",
          "text": [
            "Epoch 19, Val Loss: 0.15518589429987392, Val Accuracy: 0.9522292993630573\n"
          ]
        },
        {
          "name": "stderr",
          "output_type": "stream",
          "text": [
            "100%|██████████| 938/938 [00:22<00:00, 41.57it/s, accuracy=1, loss=0.00244, lr=1.35e-5]\n"
          ]
        },
        {
          "name": "stdout",
          "output_type": "stream",
          "text": [
            "Epoch 20, Val Loss: 0.15530993908704527, Val Accuracy: 0.9540207006369427\n"
          ]
        },
        {
          "name": "stderr",
          "output_type": "stream",
          "text": [
            "100%|██████████| 938/938 [00:23<00:00, 40.20it/s, accuracy=1, loss=0.0133, lr=1.22e-5]\n"
          ]
        },
        {
          "name": "stdout",
          "output_type": "stream",
          "text": [
            "Epoch 21, Val Loss: 0.15653256328878806, Val Accuracy: 0.9537221337579618\n"
          ]
        },
        {
          "name": "stderr",
          "output_type": "stream",
          "text": [
            "100%|██████████| 938/938 [00:24<00:00, 39.03it/s, accuracy=1, loss=0.00606, lr=1.09e-5]\n"
          ]
        },
        {
          "name": "stdout",
          "output_type": "stream",
          "text": [
            "Epoch 22, Val Loss: 0.15583731922573874, Val Accuracy: 0.9536226114649682\n"
          ]
        },
        {
          "name": "stderr",
          "output_type": "stream",
          "text": [
            "100%|██████████| 938/938 [00:22<00:00, 41.34it/s, accuracy=1, loss=0.0078, lr=9.85e-6]\n"
          ]
        },
        {
          "name": "stdout",
          "output_type": "stream",
          "text": [
            "Epoch 23, Val Loss: 0.1560791628648435, Val Accuracy: 0.9537221337579618\n"
          ]
        },
        {
          "name": "stderr",
          "output_type": "stream",
          "text": [
            "100%|██████████| 938/938 [00:24<00:00, 38.81it/s, accuracy=1, loss=0.014, lr=8.86e-6]\n"
          ]
        },
        {
          "name": "stdout",
          "output_type": "stream",
          "text": [
            "Epoch 24, Val Loss: 0.1513373879007669, Val Accuracy: 0.9544187898089171\n"
          ]
        },
        {
          "name": "stderr",
          "output_type": "stream",
          "text": [
            "100%|██████████| 938/938 [00:23<00:00, 39.70it/s, accuracy=1, loss=0.00318, lr=7.98e-6]\n"
          ]
        },
        {
          "name": "stdout",
          "output_type": "stream",
          "text": [
            "Epoch 25, Val Loss: 0.15180982518099562, Val Accuracy: 0.9561106687898089\n"
          ]
        },
        {
          "name": "stderr",
          "output_type": "stream",
          "text": [
            "100%|██████████| 938/938 [00:24<00:00, 38.94it/s, accuracy=1, loss=0.00253, lr=7.18e-6]\n"
          ]
        },
        {
          "name": "stdout",
          "output_type": "stream",
          "text": [
            "Epoch 26, Val Loss: 0.15211522765865454, Val Accuracy: 0.9553144904458599\n"
          ]
        },
        {
          "name": "stderr",
          "output_type": "stream",
          "text": [
            "100%|██████████| 938/938 [00:22<00:00, 40.95it/s, accuracy=1, loss=0.0045, lr=6.46e-6]\n"
          ]
        },
        {
          "name": "stdout",
          "output_type": "stream",
          "text": [
            "Epoch 27, Val Loss: 0.15222311949681425, Val Accuracy: 0.9562101910828026\n"
          ]
        },
        {
          "name": "stderr",
          "output_type": "stream",
          "text": [
            "100%|██████████| 938/938 [00:22<00:00, 41.14it/s, accuracy=1, loss=0.00142, lr=5.81e-6]\n"
          ]
        },
        {
          "name": "stdout",
          "output_type": "stream",
          "text": [
            "Epoch 28, Val Loss: 0.15447835728500534, Val Accuracy: 0.9553144904458599\n"
          ]
        },
        {
          "name": "stderr",
          "output_type": "stream",
          "text": [
            "100%|██████████| 938/938 [00:24<00:00, 39.05it/s, accuracy=1, loss=0.00228, lr=5.23e-6]\n"
          ]
        },
        {
          "name": "stdout",
          "output_type": "stream",
          "text": [
            "Epoch 29, Val Loss: 0.15327426642576192, Val Accuracy: 0.9564092356687898\n"
          ]
        },
        {
          "name": "stderr",
          "output_type": "stream",
          "text": [
            "100%|██████████| 938/938 [00:22<00:00, 41.73it/s, accuracy=1, loss=0.00111, lr=4.71e-6]\n"
          ]
        },
        {
          "name": "stdout",
          "output_type": "stream",
          "text": [
            "Epoch 30, Val Loss: 0.15492451415808017, Val Accuracy: 0.9543192675159236\n",
            "LR: 0.0001 Gamma: 0.9 Hdim: 128 Best Accuracy: 0.9564092356687898\n"
          ]
        },
        {
          "name": "stderr",
          "output_type": "stream",
          "text": [
            "100%|██████████| 938/938 [00:26<00:00, 34.90it/s, accuracy=0.938, loss=0.442, lr=0.0001]\n"
          ]
        },
        {
          "name": "stdout",
          "output_type": "stream",
          "text": [
            "Epoch 1, Val Loss: 0.5742171059368523, Val Accuracy: 0.8384753184713376\n"
          ]
        },
        {
          "name": "stderr",
          "output_type": "stream",
          "text": [
            "100%|██████████| 938/938 [00:27<00:00, 34.30it/s, accuracy=0.875, loss=0.353, lr=9e-5]\n"
          ]
        },
        {
          "name": "stdout",
          "output_type": "stream",
          "text": [
            "Epoch 2, Val Loss: 0.4403635756984638, Val Accuracy: 0.8742038216560509\n"
          ]
        },
        {
          "name": "stderr",
          "output_type": "stream",
          "text": [
            "100%|██████████| 938/938 [00:27<00:00, 33.84it/s, accuracy=0.938, loss=0.224, lr=8.1e-5]\n"
          ]
        },
        {
          "name": "stdout",
          "output_type": "stream",
          "text": [
            "Epoch 3, Val Loss: 0.3180453491984469, Val Accuracy: 0.9141122611464968\n"
          ]
        },
        {
          "name": "stderr",
          "output_type": "stream",
          "text": [
            "100%|██████████| 938/938 [00:27<00:00, 33.73it/s, accuracy=0.844, loss=0.399, lr=7.29e-5]\n"
          ]
        },
        {
          "name": "stdout",
          "output_type": "stream",
          "text": [
            "Epoch 4, Val Loss: 0.25503228202604566, Val Accuracy: 0.9257563694267515\n"
          ]
        },
        {
          "name": "stderr",
          "output_type": "stream",
          "text": [
            "100%|██████████| 938/938 [00:27<00:00, 33.83it/s, accuracy=0.906, loss=0.251, lr=6.56e-5]\n"
          ]
        },
        {
          "name": "stdout",
          "output_type": "stream",
          "text": [
            "Epoch 5, Val Loss: 0.2697775841091469, Val Accuracy: 0.9234673566878981\n"
          ]
        },
        {
          "name": "stderr",
          "output_type": "stream",
          "text": [
            "100%|██████████| 938/938 [00:29<00:00, 32.17it/s, accuracy=0.969, loss=0.16, lr=5.9e-5]\n"
          ]
        },
        {
          "name": "stdout",
          "output_type": "stream",
          "text": [
            "Epoch 6, Val Loss: 0.2460472958791218, Val Accuracy: 0.9326234076433121\n"
          ]
        },
        {
          "name": "stderr",
          "output_type": "stream",
          "text": [
            "100%|██████████| 938/938 [00:27<00:00, 33.75it/s, accuracy=0.969, loss=0.119, lr=5.31e-5]\n"
          ]
        },
        {
          "name": "stdout",
          "output_type": "stream",
          "text": [
            "Epoch 7, Val Loss: 0.19834197524365535, Val Accuracy: 0.9404856687898089\n"
          ]
        },
        {
          "name": "stderr",
          "output_type": "stream",
          "text": [
            "100%|██████████| 938/938 [00:27<00:00, 33.70it/s, accuracy=1, loss=0.0275, lr=4.78e-5]\n"
          ]
        },
        {
          "name": "stdout",
          "output_type": "stream",
          "text": [
            "Epoch 8, Val Loss: 0.1795537358855793, Val Accuracy: 0.9479498407643312\n"
          ]
        },
        {
          "name": "stderr",
          "output_type": "stream",
          "text": [
            "100%|██████████| 938/938 [00:28<00:00, 33.28it/s, accuracy=1, loss=0.0526, lr=4.3e-5]\n"
          ]
        },
        {
          "name": "stdout",
          "output_type": "stream",
          "text": [
            "Epoch 9, Val Loss: 0.17007834872135977, Val Accuracy: 0.9499402866242038\n"
          ]
        },
        {
          "name": "stderr",
          "output_type": "stream",
          "text": [
            "100%|██████████| 938/938 [00:28<00:00, 33.42it/s, accuracy=1, loss=0.0728, lr=3.87e-5]\n"
          ]
        },
        {
          "name": "stdout",
          "output_type": "stream",
          "text": [
            "Epoch 10, Val Loss: 0.17893696020529337, Val Accuracy: 0.9465565286624203\n"
          ]
        },
        {
          "name": "stderr",
          "output_type": "stream",
          "text": [
            "100%|██████████| 938/938 [00:27<00:00, 33.75it/s, accuracy=1, loss=0.0608, lr=3.49e-5]\n"
          ]
        },
        {
          "name": "stdout",
          "output_type": "stream",
          "text": [
            "Epoch 11, Val Loss: 0.1576265869395226, Val Accuracy: 0.9515326433121019\n"
          ]
        },
        {
          "name": "stderr",
          "output_type": "stream",
          "text": [
            "100%|██████████| 938/938 [00:27<00:00, 33.58it/s, accuracy=1, loss=0.0431, lr=3.14e-5]\n"
          ]
        },
        {
          "name": "stdout",
          "output_type": "stream",
          "text": [
            "Epoch 12, Val Loss: 0.15467164340387485, Val Accuracy: 0.9516321656050956\n"
          ]
        },
        {
          "name": "stderr",
          "output_type": "stream",
          "text": [
            "100%|██████████| 938/938 [00:27<00:00, 33.77it/s, accuracy=1, loss=0.0157, lr=2.82e-5]\n"
          ]
        },
        {
          "name": "stdout",
          "output_type": "stream",
          "text": [
            "Epoch 13, Val Loss: 0.14611189236870378, Val Accuracy: 0.9557125796178344\n"
          ]
        },
        {
          "name": "stderr",
          "output_type": "stream",
          "text": [
            "100%|██████████| 938/938 [00:27<00:00, 33.71it/s, accuracy=1, loss=0.012, lr=2.54e-5]\n"
          ]
        },
        {
          "name": "stdout",
          "output_type": "stream",
          "text": [
            "Epoch 14, Val Loss: 0.14231541582048057, Val Accuracy: 0.9560111464968153\n"
          ]
        },
        {
          "name": "stderr",
          "output_type": "stream",
          "text": [
            "100%|██████████| 938/938 [00:27<00:00, 33.84it/s, accuracy=1, loss=0.0214, lr=2.29e-5]\n"
          ]
        },
        {
          "name": "stdout",
          "output_type": "stream",
          "text": [
            "Epoch 15, Val Loss: 0.14690229708141986, Val Accuracy: 0.956906847133758\n"
          ]
        },
        {
          "name": "stderr",
          "output_type": "stream",
          "text": [
            "100%|██████████| 938/938 [00:27<00:00, 33.75it/s, accuracy=1, loss=0.0288, lr=2.06e-5]\n"
          ]
        },
        {
          "name": "stdout",
          "output_type": "stream",
          "text": [
            "Epoch 16, Val Loss: 0.13751571644045663, Val Accuracy: 0.9581011146496815\n"
          ]
        },
        {
          "name": "stderr",
          "output_type": "stream",
          "text": [
            "100%|██████████| 938/938 [00:29<00:00, 31.89it/s, accuracy=1, loss=0.0351, lr=1.85e-5]\n"
          ]
        },
        {
          "name": "stdout",
          "output_type": "stream",
          "text": [
            "Epoch 17, Val Loss: 0.1396336490462629, Val Accuracy: 0.9578025477707006\n"
          ]
        },
        {
          "name": "stderr",
          "output_type": "stream",
          "text": [
            "100%|██████████| 938/938 [00:27<00:00, 33.83it/s, accuracy=1, loss=0.00579, lr=1.67e-5]\n"
          ]
        },
        {
          "name": "stdout",
          "output_type": "stream",
          "text": [
            "Epoch 18, Val Loss: 0.1355910621628693, Val Accuracy: 0.960390127388535\n"
          ]
        },
        {
          "name": "stderr",
          "output_type": "stream",
          "text": [
            "100%|██████████| 938/938 [00:27<00:00, 34.35it/s, accuracy=1, loss=0.00728, lr=1.5e-5]\n"
          ]
        },
        {
          "name": "stdout",
          "output_type": "stream",
          "text": [
            "Epoch 19, Val Loss: 0.13214258035436527, Val Accuracy: 0.9608877388535032\n"
          ]
        },
        {
          "name": "stderr",
          "output_type": "stream",
          "text": [
            "100%|██████████| 938/938 [00:27<00:00, 34.45it/s, accuracy=1, loss=0.00414, lr=1.35e-5]\n"
          ]
        },
        {
          "name": "stdout",
          "output_type": "stream",
          "text": [
            "Epoch 20, Val Loss: 0.13170176509711787, Val Accuracy: 0.9615843949044586\n"
          ]
        },
        {
          "name": "stderr",
          "output_type": "stream",
          "text": [
            "100%|██████████| 938/938 [00:27<00:00, 33.90it/s, accuracy=1, loss=0.00205, lr=1.22e-5]\n"
          ]
        },
        {
          "name": "stdout",
          "output_type": "stream",
          "text": [
            "Epoch 21, Val Loss: 0.132408786419917, Val Accuracy: 0.9600915605095541\n"
          ]
        },
        {
          "name": "stderr",
          "output_type": "stream",
          "text": [
            "100%|██████████| 938/938 [00:28<00:00, 32.97it/s, accuracy=1, loss=0.00354, lr=1.09e-5]\n"
          ]
        },
        {
          "name": "stdout",
          "output_type": "stream",
          "text": [
            "Epoch 22, Val Loss: 0.1355928749572352, Val Accuracy: 0.9602906050955414\n"
          ]
        },
        {
          "name": "stderr",
          "output_type": "stream",
          "text": [
            "100%|██████████| 938/938 [00:28<00:00, 33.31it/s, accuracy=1, loss=0.00331, lr=9.85e-6]\n"
          ]
        },
        {
          "name": "stdout",
          "output_type": "stream",
          "text": [
            "Epoch 23, Val Loss: 0.13471055644561364, Val Accuracy: 0.9609872611464968\n"
          ]
        },
        {
          "name": "stderr",
          "output_type": "stream",
          "text": [
            "100%|██████████| 938/938 [00:28<00:00, 33.41it/s, accuracy=1, loss=0.00262, lr=8.86e-6]\n"
          ]
        },
        {
          "name": "stdout",
          "output_type": "stream",
          "text": [
            "Epoch 24, Val Loss: 0.13515101462296006, Val Accuracy: 0.9602906050955414\n"
          ]
        },
        {
          "name": "stderr",
          "output_type": "stream",
          "text": [
            "100%|██████████| 938/938 [00:28<00:00, 33.41it/s, accuracy=1, loss=0.000772, lr=7.98e-6]\n"
          ]
        },
        {
          "name": "stdout",
          "output_type": "stream",
          "text": [
            "Epoch 25, Val Loss: 0.13239080621564323, Val Accuracy: 0.9621815286624203\n"
          ]
        },
        {
          "name": "stderr",
          "output_type": "stream",
          "text": [
            "100%|██████████| 938/938 [00:27<00:00, 33.56it/s, accuracy=1, loss=0.000775, lr=7.18e-6]\n"
          ]
        },
        {
          "name": "stdout",
          "output_type": "stream",
          "text": [
            "Epoch 26, Val Loss: 0.13389559633725664, Val Accuracy: 0.962281050955414\n"
          ]
        },
        {
          "name": "stderr",
          "output_type": "stream",
          "text": [
            "100%|██████████| 938/938 [00:27<00:00, 33.60it/s, accuracy=1, loss=0.00105, lr=6.46e-6]\n"
          ]
        },
        {
          "name": "stdout",
          "output_type": "stream",
          "text": [
            "Epoch 27, Val Loss: 0.13226706086123877, Val Accuracy: 0.9632762738853503\n"
          ]
        },
        {
          "name": "stderr",
          "output_type": "stream",
          "text": [
            "100%|██████████| 938/938 [00:29<00:00, 32.26it/s, accuracy=1, loss=0.00123, lr=5.81e-6]\n"
          ]
        },
        {
          "name": "stdout",
          "output_type": "stream",
          "text": [
            "Epoch 28, Val Loss: 0.13423242735924684, Val Accuracy: 0.9619824840764332\n"
          ]
        },
        {
          "name": "stderr",
          "output_type": "stream",
          "text": [
            "100%|██████████| 938/938 [00:28<00:00, 33.32it/s, accuracy=1, loss=0.000543, lr=5.23e-6]\n"
          ]
        },
        {
          "name": "stdout",
          "output_type": "stream",
          "text": [
            "Epoch 29, Val Loss: 0.1351330739805704, Val Accuracy: 0.9618829617834395\n"
          ]
        },
        {
          "name": "stderr",
          "output_type": "stream",
          "text": [
            "100%|██████████| 938/938 [00:27<00:00, 33.52it/s, accuracy=1, loss=0.00137, lr=4.71e-6]\n"
          ]
        },
        {
          "name": "stdout",
          "output_type": "stream",
          "text": [
            "Epoch 30, Val Loss: 0.135551474345581, Val Accuracy: 0.9624800955414012\n",
            "LR: 0.0001 Gamma: 0.9 Hdim: 256 Best Accuracy: 0.9632762738853503\n"
          ]
        },
        {
          "name": "stderr",
          "output_type": "stream",
          "text": [
            "100%|██████████| 938/938 [00:21<00:00, 43.85it/s, accuracy=0.281, loss=2.03, lr=0.0002]\n"
          ]
        },
        {
          "name": "stdout",
          "output_type": "stream",
          "text": [
            "Epoch 1, Val Loss: 1.779203701930441, Val Accuracy: 0.3903264331210191\n"
          ]
        },
        {
          "name": "stderr",
          "output_type": "stream",
          "text": [
            "100%|██████████| 938/938 [00:21<00:00, 43.34it/s, accuracy=0.812, loss=0.585, lr=0.00016]\n"
          ]
        },
        {
          "name": "stdout",
          "output_type": "stream",
          "text": [
            "Epoch 2, Val Loss: 0.5960523199503589, Val Accuracy: 0.8606687898089171\n"
          ]
        },
        {
          "name": "stderr",
          "output_type": "stream",
          "text": [
            "100%|██████████| 938/938 [00:22<00:00, 40.91it/s, accuracy=0.875, loss=0.558, lr=0.000128]\n"
          ]
        },
        {
          "name": "stdout",
          "output_type": "stream",
          "text": [
            "Epoch 3, Val Loss: 0.4550614043785508, Val Accuracy: 0.8898288216560509\n"
          ]
        },
        {
          "name": "stderr",
          "output_type": "stream",
          "text": [
            "100%|██████████| 938/938 [00:21<00:00, 43.54it/s, accuracy=0.969, loss=0.224, lr=0.000102]\n"
          ]
        },
        {
          "name": "stdout",
          "output_type": "stream",
          "text": [
            "Epoch 4, Val Loss: 0.3664811884236943, Val Accuracy: 0.90515525477707\n"
          ]
        },
        {
          "name": "stderr",
          "output_type": "stream",
          "text": [
            "100%|██████████| 938/938 [00:23<00:00, 40.62it/s, accuracy=0.938, loss=0.302, lr=8.19e-5]\n"
          ]
        },
        {
          "name": "stdout",
          "output_type": "stream",
          "text": [
            "Epoch 5, Val Loss: 0.27935929914378815, Val Accuracy: 0.9285429936305732\n"
          ]
        },
        {
          "name": "stderr",
          "output_type": "stream",
          "text": [
            "100%|██████████| 938/938 [00:21<00:00, 42.86it/s, accuracy=0.875, loss=0.411, lr=6.55e-5]\n"
          ]
        },
        {
          "name": "stdout",
          "output_type": "stream",
          "text": [
            "Epoch 6, Val Loss: 0.2570688733771728, Val Accuracy: 0.9257563694267515\n"
          ]
        },
        {
          "name": "stderr",
          "output_type": "stream",
          "text": [
            "100%|██████████| 938/938 [00:21<00:00, 43.28it/s, accuracy=0.938, loss=0.121, lr=5.24e-5]\n"
          ]
        },
        {
          "name": "stdout",
          "output_type": "stream",
          "text": [
            "Epoch 7, Val Loss: 0.2505426250493071, Val Accuracy: 0.9296377388535032\n"
          ]
        },
        {
          "name": "stderr",
          "output_type": "stream",
          "text": [
            "100%|██████████| 938/938 [00:23<00:00, 39.94it/s, accuracy=0.938, loss=0.205, lr=4.19e-5]\n"
          ]
        },
        {
          "name": "stdout",
          "output_type": "stream",
          "text": [
            "Epoch 8, Val Loss: 0.22031251459744325, Val Accuracy: 0.9362062101910829\n"
          ]
        },
        {
          "name": "stderr",
          "output_type": "stream",
          "text": [
            "100%|██████████| 938/938 [00:21<00:00, 42.98it/s, accuracy=0.969, loss=0.146, lr=3.36e-5]\n"
          ]
        },
        {
          "name": "stdout",
          "output_type": "stream",
          "text": [
            "Epoch 9, Val Loss: 0.20467665466438434, Val Accuracy: 0.9410828025477707\n"
          ]
        },
        {
          "name": "stderr",
          "output_type": "stream",
          "text": [
            "100%|██████████| 938/938 [00:22<00:00, 40.79it/s, accuracy=0.844, loss=0.262, lr=2.68e-5]\n"
          ]
        },
        {
          "name": "stdout",
          "output_type": "stream",
          "text": [
            "Epoch 10, Val Loss: 0.19608288851513225, Val Accuracy: 0.9406847133757962\n"
          ]
        },
        {
          "name": "stderr",
          "output_type": "stream",
          "text": [
            "100%|██████████| 938/938 [00:23<00:00, 39.72it/s, accuracy=0.938, loss=0.156, lr=2.15e-5]\n"
          ]
        },
        {
          "name": "stdout",
          "output_type": "stream",
          "text": [
            "Epoch 11, Val Loss: 0.1960734039734883, Val Accuracy: 0.9417794585987261\n"
          ]
        },
        {
          "name": "stderr",
          "output_type": "stream",
          "text": [
            "100%|██████████| 938/938 [00:21<00:00, 42.96it/s, accuracy=0.969, loss=0.0963, lr=1.72e-5]\n"
          ]
        },
        {
          "name": "stdout",
          "output_type": "stream",
          "text": [
            "Epoch 12, Val Loss: 0.18294738196311103, Val Accuracy: 0.9448646496815286\n"
          ]
        },
        {
          "name": "stderr",
          "output_type": "stream",
          "text": [
            "100%|██████████| 938/938 [00:23<00:00, 39.99it/s, accuracy=0.969, loss=0.0888, lr=1.37e-5]\n"
          ]
        },
        {
          "name": "stdout",
          "output_type": "stream",
          "text": [
            "Epoch 13, Val Loss: 0.18015417485397048, Val Accuracy: 0.9462579617834395\n"
          ]
        },
        {
          "name": "stderr",
          "output_type": "stream",
          "text": [
            "100%|██████████| 938/938 [00:21<00:00, 42.78it/s, accuracy=1, loss=0.0609, lr=1.1e-5]\n"
          ]
        },
        {
          "name": "stdout",
          "output_type": "stream",
          "text": [
            "Epoch 14, Val Loss: 0.17774483776847078, Val Accuracy: 0.9471536624203821\n"
          ]
        },
        {
          "name": "stderr",
          "output_type": "stream",
          "text": [
            "100%|██████████| 938/938 [00:23<00:00, 40.03it/s, accuracy=1, loss=0.0732, lr=8.8e-6]\n"
          ]
        },
        {
          "name": "stdout",
          "output_type": "stream",
          "text": [
            "Epoch 15, Val Loss: 0.1783130734708089, Val Accuracy: 0.9457603503184714\n"
          ]
        },
        {
          "name": "stderr",
          "output_type": "stream",
          "text": [
            "100%|██████████| 938/938 [00:22<00:00, 41.86it/s, accuracy=1, loss=0.0359, lr=7.04e-6]\n"
          ]
        },
        {
          "name": "stdout",
          "output_type": "stream",
          "text": [
            "Epoch 16, Val Loss: 0.17578478342301812, Val Accuracy: 0.9468550955414012\n"
          ]
        },
        {
          "name": "stderr",
          "output_type": "stream",
          "text": [
            "100%|██████████| 938/938 [00:22<00:00, 42.37it/s, accuracy=1, loss=0.0684, lr=5.63e-6]\n"
          ]
        },
        {
          "name": "stdout",
          "output_type": "stream",
          "text": [
            "Epoch 17, Val Loss: 0.17401586514215467, Val Accuracy: 0.9463574840764332\n"
          ]
        },
        {
          "name": "stderr",
          "output_type": "stream",
          "text": [
            "100%|██████████| 938/938 [00:24<00:00, 38.96it/s, accuracy=1, loss=0.0638, lr=4.5e-6]\n"
          ]
        },
        {
          "name": "stdout",
          "output_type": "stream",
          "text": [
            "Epoch 18, Val Loss: 0.1757525978936179, Val Accuracy: 0.945859872611465\n"
          ]
        },
        {
          "name": "stderr",
          "output_type": "stream",
          "text": [
            "100%|██████████| 938/938 [00:22<00:00, 42.24it/s, accuracy=1, loss=0.0529, lr=3.6e-6]\n"
          ]
        },
        {
          "name": "stdout",
          "output_type": "stream",
          "text": [
            "Epoch 19, Val Loss: 0.1741643630199514, Val Accuracy: 0.9470541401273885\n"
          ]
        },
        {
          "name": "stderr",
          "output_type": "stream",
          "text": [
            "100%|██████████| 938/938 [00:22<00:00, 41.95it/s, accuracy=1, loss=0.0399, lr=2.88e-6]\n"
          ]
        },
        {
          "name": "stdout",
          "output_type": "stream",
          "text": [
            "Epoch 20, Val Loss: 0.17326223171037283, Val Accuracy: 0.9467555732484076\n"
          ]
        },
        {
          "name": "stderr",
          "output_type": "stream",
          "text": [
            "100%|██████████| 938/938 [00:22<00:00, 40.93it/s, accuracy=1, loss=0.0508, lr=2.31e-6]\n"
          ]
        },
        {
          "name": "stdout",
          "output_type": "stream",
          "text": [
            "Epoch 21, Val Loss: 0.1731061119212514, Val Accuracy: 0.9467555732484076\n"
          ]
        },
        {
          "name": "stderr",
          "output_type": "stream",
          "text": [
            "100%|██████████| 938/938 [00:22<00:00, 42.60it/s, accuracy=1, loss=0.0261, lr=1.84e-6]\n"
          ]
        },
        {
          "name": "stdout",
          "output_type": "stream",
          "text": [
            "Epoch 22, Val Loss: 0.173804124265577, Val Accuracy: 0.9460589171974523\n"
          ]
        },
        {
          "name": "stderr",
          "output_type": "stream",
          "text": [
            "100%|██████████| 938/938 [00:23<00:00, 39.91it/s, accuracy=1, loss=0.0654, lr=1.48e-6]\n"
          ]
        },
        {
          "name": "stdout",
          "output_type": "stream",
          "text": [
            "Epoch 23, Val Loss: 0.17344301557880204, Val Accuracy: 0.945859872611465\n"
          ]
        },
        {
          "name": "stderr",
          "output_type": "stream",
          "text": [
            "100%|██████████| 938/938 [00:24<00:00, 38.65it/s, accuracy=1, loss=0.0574, lr=1.18e-6]\n"
          ]
        },
        {
          "name": "stdout",
          "output_type": "stream",
          "text": [
            "Epoch 24, Val Loss: 0.17291139757592872, Val Accuracy: 0.9459593949044586\n"
          ]
        },
        {
          "name": "stderr",
          "output_type": "stream",
          "text": [
            "100%|██████████| 938/938 [00:22<00:00, 42.55it/s, accuracy=1, loss=0.0622, lr=9.44e-7]\n"
          ]
        },
        {
          "name": "stdout",
          "output_type": "stream",
          "text": [
            "Epoch 25, Val Loss: 0.17262067214235854, Val Accuracy: 0.9468550955414012\n"
          ]
        },
        {
          "name": "stderr",
          "output_type": "stream",
          "text": [
            "100%|██████████| 938/938 [00:23<00:00, 40.07it/s, accuracy=1, loss=0.018, lr=7.56e-7]\n"
          ]
        },
        {
          "name": "stdout",
          "output_type": "stream",
          "text": [
            "Epoch 26, Val Loss: 0.17315263345030843, Val Accuracy: 0.9463574840764332\n"
          ]
        },
        {
          "name": "stderr",
          "output_type": "stream",
          "text": [
            "100%|██████████| 938/938 [00:22<00:00, 40.85it/s, accuracy=1, loss=0.0161, lr=6.04e-7]\n"
          ]
        },
        {
          "name": "stdout",
          "output_type": "stream",
          "text": [
            "Epoch 27, Val Loss: 0.1725390777051164, Val Accuracy: 0.945859872611465\n"
          ]
        },
        {
          "name": "stderr",
          "output_type": "stream",
          "text": [
            "100%|██████████| 938/938 [00:23<00:00, 39.76it/s, accuracy=1, loss=0.0238, lr=4.84e-7]\n"
          ]
        },
        {
          "name": "stdout",
          "output_type": "stream",
          "text": [
            "Epoch 28, Val Loss: 0.17280460587720486, Val Accuracy: 0.945859872611465\n"
          ]
        },
        {
          "name": "stderr",
          "output_type": "stream",
          "text": [
            "100%|██████████| 938/938 [00:24<00:00, 38.06it/s, accuracy=1, loss=0.0164, lr=3.87e-7]\n"
          ]
        },
        {
          "name": "stdout",
          "output_type": "stream",
          "text": [
            "Epoch 29, Val Loss: 0.17297376908219544, Val Accuracy: 0.946656050955414\n"
          ]
        },
        {
          "name": "stderr",
          "output_type": "stream",
          "text": [
            "100%|██████████| 938/938 [00:22<00:00, 41.39it/s, accuracy=0.969, loss=0.0724, lr=3.09e-7]\n"
          ]
        },
        {
          "name": "stdout",
          "output_type": "stream",
          "text": [
            "Epoch 30, Val Loss: 0.1729942177938428, Val Accuracy: 0.9461584394904459\n",
            "LR: 0.0002 Gamma: 0.8 Hdim: 64 Best Accuracy: 0.9471536624203821\n"
          ]
        },
        {
          "name": "stderr",
          "output_type": "stream",
          "text": [
            "100%|██████████| 938/938 [00:25<00:00, 37.48it/s, accuracy=0.75, loss=0.894, lr=0.0002]\n"
          ]
        },
        {
          "name": "stdout",
          "output_type": "stream",
          "text": [
            "Epoch 1, Val Loss: 0.9648280162720164, Val Accuracy: 0.7159633757961783\n"
          ]
        },
        {
          "name": "stderr",
          "output_type": "stream",
          "text": [
            "100%|██████████| 938/938 [00:25<00:00, 36.79it/s, accuracy=0.875, loss=0.445, lr=0.00016]\n"
          ]
        },
        {
          "name": "stdout",
          "output_type": "stream",
          "text": [
            "Epoch 2, Val Loss: 0.4751894437488477, Val Accuracy: 0.8718152866242038\n"
          ]
        },
        {
          "name": "stderr",
          "output_type": "stream",
          "text": [
            "100%|██████████| 938/938 [00:23<00:00, 39.74it/s, accuracy=0.812, loss=0.516, lr=0.000128]\n"
          ]
        },
        {
          "name": "stdout",
          "output_type": "stream",
          "text": [
            "Epoch 3, Val Loss: 0.3624085344991107, Val Accuracy: 0.9034633757961783\n"
          ]
        },
        {
          "name": "stderr",
          "output_type": "stream",
          "text": [
            "100%|██████████| 938/938 [00:23<00:00, 39.59it/s, accuracy=0.906, loss=0.316, lr=0.000102]\n"
          ]
        },
        {
          "name": "stdout",
          "output_type": "stream",
          "text": [
            "Epoch 4, Val Loss: 0.30014365054904274, Val Accuracy: 0.92078025477707\n"
          ]
        },
        {
          "name": "stderr",
          "output_type": "stream",
          "text": [
            "100%|██████████| 938/938 [00:24<00:00, 38.82it/s, accuracy=0.906, loss=0.333, lr=8.19e-5]\n"
          ]
        },
        {
          "name": "stdout",
          "output_type": "stream",
          "text": [
            "Epoch 5, Val Loss: 0.257202985417691, Val Accuracy: 0.925656847133758\n"
          ]
        },
        {
          "name": "stderr",
          "output_type": "stream",
          "text": [
            "100%|██████████| 938/938 [00:24<00:00, 37.96it/s, accuracy=1, loss=0.109, lr=6.55e-5]\n"
          ]
        },
        {
          "name": "stdout",
          "output_type": "stream",
          "text": [
            "Epoch 6, Val Loss: 0.2362249141475957, Val Accuracy: 0.930234872611465\n"
          ]
        },
        {
          "name": "stderr",
          "output_type": "stream",
          "text": [
            "100%|██████████| 938/938 [00:24<00:00, 37.55it/s, accuracy=1, loss=0.081, lr=5.24e-5]\n"
          ]
        },
        {
          "name": "stdout",
          "output_type": "stream",
          "text": [
            "Epoch 7, Val Loss: 0.1934412012772433, Val Accuracy: 0.9437699044585988\n"
          ]
        },
        {
          "name": "stderr",
          "output_type": "stream",
          "text": [
            "100%|██████████| 938/938 [00:24<00:00, 38.83it/s, accuracy=1, loss=0.0458, lr=4.19e-5]\n"
          ]
        },
        {
          "name": "stdout",
          "output_type": "stream",
          "text": [
            "Epoch 8, Val Loss: 0.17866530916564594, Val Accuracy: 0.9483479299363057\n"
          ]
        },
        {
          "name": "stderr",
          "output_type": "stream",
          "text": [
            "100%|██████████| 938/938 [00:25<00:00, 36.89it/s, accuracy=0.938, loss=0.201, lr=3.36e-5]\n"
          ]
        },
        {
          "name": "stdout",
          "output_type": "stream",
          "text": [
            "Epoch 9, Val Loss: 0.18050176164752263, Val Accuracy: 0.947452229299363\n"
          ]
        },
        {
          "name": "stderr",
          "output_type": "stream",
          "text": [
            "100%|██████████| 938/938 [00:24<00:00, 38.79it/s, accuracy=1, loss=0.0335, lr=2.68e-5]\n"
          ]
        },
        {
          "name": "stdout",
          "output_type": "stream",
          "text": [
            "Epoch 10, Val Loss: 0.1618890043890851, Val Accuracy: 0.9529259554140127\n"
          ]
        },
        {
          "name": "stderr",
          "output_type": "stream",
          "text": [
            "100%|██████████| 938/938 [00:23<00:00, 40.04it/s, accuracy=0.969, loss=0.0918, lr=2.15e-5]\n"
          ]
        },
        {
          "name": "stdout",
          "output_type": "stream",
          "text": [
            "Epoch 11, Val Loss: 0.15811410140258017, Val Accuracy: 0.9540207006369427\n"
          ]
        },
        {
          "name": "stderr",
          "output_type": "stream",
          "text": [
            "100%|██████████| 938/938 [00:25<00:00, 37.38it/s, accuracy=1, loss=0.0203, lr=1.72e-5]\n"
          ]
        },
        {
          "name": "stdout",
          "output_type": "stream",
          "text": [
            "Epoch 12, Val Loss: 0.14935485632485077, Val Accuracy: 0.9552149681528662\n"
          ]
        },
        {
          "name": "stderr",
          "output_type": "stream",
          "text": [
            "100%|██████████| 938/938 [00:26<00:00, 36.06it/s, accuracy=1, loss=0.05, lr=1.37e-5]\n"
          ]
        },
        {
          "name": "stdout",
          "output_type": "stream",
          "text": [
            "Epoch 13, Val Loss: 0.15002314902984412, Val Accuracy: 0.9562101910828026\n"
          ]
        },
        {
          "name": "stderr",
          "output_type": "stream",
          "text": [
            "100%|██████████| 938/938 [00:25<00:00, 37.45it/s, accuracy=1, loss=0.0326, lr=1.1e-5]\n"
          ]
        },
        {
          "name": "stdout",
          "output_type": "stream",
          "text": [
            "Epoch 14, Val Loss: 0.14796460452222615, Val Accuracy: 0.9579020700636943\n"
          ]
        },
        {
          "name": "stderr",
          "output_type": "stream",
          "text": [
            "100%|██████████| 938/938 [00:24<00:00, 38.34it/s, accuracy=1, loss=0.0278, lr=8.8e-6]\n"
          ]
        },
        {
          "name": "stdout",
          "output_type": "stream",
          "text": [
            "Epoch 15, Val Loss: 0.14897975333963348, Val Accuracy: 0.9560111464968153\n"
          ]
        },
        {
          "name": "stderr",
          "output_type": "stream",
          "text": [
            "100%|██████████| 938/938 [00:24<00:00, 38.16it/s, accuracy=1, loss=0.0149, lr=7.04e-6]\n"
          ]
        },
        {
          "name": "stdout",
          "output_type": "stream",
          "text": [
            "Epoch 16, Val Loss: 0.14556654097562785, Val Accuracy: 0.9574044585987261\n"
          ]
        },
        {
          "name": "stderr",
          "output_type": "stream",
          "text": [
            "100%|██████████| 938/938 [00:25<00:00, 36.93it/s, accuracy=1, loss=0.00826, lr=5.63e-6]\n"
          ]
        },
        {
          "name": "stdout",
          "output_type": "stream",
          "text": [
            "Epoch 17, Val Loss: 0.14456537606381473, Val Accuracy: 0.9563097133757962\n"
          ]
        },
        {
          "name": "stderr",
          "output_type": "stream",
          "text": [
            "100%|██████████| 938/938 [00:25<00:00, 36.13it/s, accuracy=1, loss=0.0529, lr=4.5e-6]\n"
          ]
        },
        {
          "name": "stdout",
          "output_type": "stream",
          "text": [
            "Epoch 18, Val Loss: 0.14304419946382238, Val Accuracy: 0.9563097133757962\n"
          ]
        },
        {
          "name": "stderr",
          "output_type": "stream",
          "text": [
            "100%|██████████| 938/938 [00:24<00:00, 37.54it/s, accuracy=1, loss=0.0382, lr=3.6e-6]\n"
          ]
        },
        {
          "name": "stdout",
          "output_type": "stream",
          "text": [
            "Epoch 19, Val Loss: 0.14324214781492142, Val Accuracy: 0.9571058917197452\n"
          ]
        },
        {
          "name": "stderr",
          "output_type": "stream",
          "text": [
            "100%|██████████| 938/938 [00:24<00:00, 37.67it/s, accuracy=1, loss=0.00979, lr=2.88e-6]\n"
          ]
        },
        {
          "name": "stdout",
          "output_type": "stream",
          "text": [
            "Epoch 20, Val Loss: 0.14094666265482142, Val Accuracy: 0.957703025477707\n"
          ]
        },
        {
          "name": "stderr",
          "output_type": "stream",
          "text": [
            "100%|██████████| 938/938 [00:24<00:00, 38.05it/s, accuracy=1, loss=0.0205, lr=2.31e-6]\n"
          ]
        },
        {
          "name": "stdout",
          "output_type": "stream",
          "text": [
            "Epoch 21, Val Loss: 0.14223372728703246, Val Accuracy: 0.9571058917197452\n"
          ]
        },
        {
          "name": "stderr",
          "output_type": "stream",
          "text": [
            "100%|██████████| 938/938 [00:25<00:00, 36.83it/s, accuracy=1, loss=0.0151, lr=1.84e-6]\n"
          ]
        },
        {
          "name": "stdout",
          "output_type": "stream",
          "text": [
            "Epoch 22, Val Loss: 0.14223880363868513, Val Accuracy: 0.9576035031847133\n"
          ]
        },
        {
          "name": "stderr",
          "output_type": "stream",
          "text": [
            "100%|██████████| 938/938 [00:26<00:00, 35.69it/s, accuracy=1, loss=0.0198, lr=1.48e-6]\n"
          ]
        },
        {
          "name": "stdout",
          "output_type": "stream",
          "text": [
            "Epoch 23, Val Loss: 0.14188856028752983, Val Accuracy: 0.9575039808917197\n"
          ]
        },
        {
          "name": "stderr",
          "output_type": "stream",
          "text": [
            "100%|██████████| 938/938 [00:24<00:00, 38.06it/s, accuracy=1, loss=0.0235, lr=1.18e-6]\n"
          ]
        },
        {
          "name": "stdout",
          "output_type": "stream",
          "text": [
            "Epoch 24, Val Loss: 0.1415321081098181, Val Accuracy: 0.9574044585987261\n"
          ]
        },
        {
          "name": "stderr",
          "output_type": "stream",
          "text": [
            "100%|██████████| 938/938 [00:24<00:00, 39.08it/s, accuracy=1, loss=0.0126, lr=9.44e-7]\n"
          ]
        },
        {
          "name": "stdout",
          "output_type": "stream",
          "text": [
            "Epoch 25, Val Loss: 0.14172142448651184, Val Accuracy: 0.9574044585987261\n"
          ]
        },
        {
          "name": "stderr",
          "output_type": "stream",
          "text": [
            "100%|██████████| 938/938 [00:24<00:00, 38.60it/s, accuracy=1, loss=0.0133, lr=7.56e-7]\n"
          ]
        },
        {
          "name": "stdout",
          "output_type": "stream",
          "text": [
            "Epoch 26, Val Loss: 0.1417461354678473, Val Accuracy: 0.9579020700636943\n"
          ]
        },
        {
          "name": "stderr",
          "output_type": "stream",
          "text": [
            "100%|██████████| 938/938 [00:25<00:00, 37.47it/s, accuracy=1, loss=0.0158, lr=6.04e-7]\n"
          ]
        },
        {
          "name": "stdout",
          "output_type": "stream",
          "text": [
            "Epoch 27, Val Loss: 0.14139977394333286, Val Accuracy: 0.9571058917197452\n"
          ]
        },
        {
          "name": "stderr",
          "output_type": "stream",
          "text": [
            "100%|██████████| 938/938 [00:23<00:00, 39.19it/s, accuracy=1, loss=0.0131, lr=4.84e-7]\n"
          ]
        },
        {
          "name": "stdout",
          "output_type": "stream",
          "text": [
            "Epoch 28, Val Loss: 0.14163019964590098, Val Accuracy: 0.9575039808917197\n"
          ]
        },
        {
          "name": "stderr",
          "output_type": "stream",
          "text": [
            "100%|██████████| 938/938 [00:23<00:00, 39.78it/s, accuracy=1, loss=0.0134, lr=3.87e-7]\n"
          ]
        },
        {
          "name": "stdout",
          "output_type": "stream",
          "text": [
            "Epoch 29, Val Loss: 0.14131818258924303, Val Accuracy: 0.9576035031847133\n"
          ]
        },
        {
          "name": "stderr",
          "output_type": "stream",
          "text": [
            "100%|██████████| 938/938 [00:24<00:00, 37.53it/s, accuracy=1, loss=0.00802, lr=3.09e-7]\n"
          ]
        },
        {
          "name": "stdout",
          "output_type": "stream",
          "text": [
            "Epoch 30, Val Loss: 0.1414654887315467, Val Accuracy: 0.9574044585987261\n",
            "LR: 0.0002 Gamma: 0.8 Hdim: 128 Best Accuracy: 0.9579020700636943\n"
          ]
        },
        {
          "name": "stderr",
          "output_type": "stream",
          "text": [
            "100%|██████████| 938/938 [00:29<00:00, 31.91it/s, accuracy=0.844, loss=0.664, lr=0.0002]\n"
          ]
        },
        {
          "name": "stdout",
          "output_type": "stream",
          "text": [
            "Epoch 1, Val Loss: 0.7253311817433424, Val Accuracy: 0.7988654458598726\n"
          ]
        },
        {
          "name": "stderr",
          "output_type": "stream",
          "text": [
            "100%|██████████| 938/938 [00:29<00:00, 32.29it/s, accuracy=0.844, loss=0.517, lr=0.00016]\n"
          ]
        },
        {
          "name": "stdout",
          "output_type": "stream",
          "text": [
            "Epoch 2, Val Loss: 0.42145132292417964, Val Accuracy: 0.8856488853503185\n"
          ]
        },
        {
          "name": "stderr",
          "output_type": "stream",
          "text": [
            "100%|██████████| 938/938 [00:28<00:00, 33.10it/s, accuracy=0.875, loss=0.431, lr=0.000128]\n"
          ]
        },
        {
          "name": "stdout",
          "output_type": "stream",
          "text": [
            "Epoch 3, Val Loss: 0.3232423189766468, Val Accuracy: 0.9099323248407644\n"
          ]
        },
        {
          "name": "stderr",
          "output_type": "stream",
          "text": [
            "100%|██████████| 938/938 [00:28<00:00, 33.27it/s, accuracy=0.844, loss=0.401, lr=0.000102]\n"
          ]
        },
        {
          "name": "stdout",
          "output_type": "stream",
          "text": [
            "Epoch 4, Val Loss: 0.24840673549207531, Val Accuracy: 0.929140127388535\n"
          ]
        },
        {
          "name": "stderr",
          "output_type": "stream",
          "text": [
            "100%|██████████| 938/938 [00:28<00:00, 32.65it/s, accuracy=0.938, loss=0.199, lr=8.19e-5]\n"
          ]
        },
        {
          "name": "stdout",
          "output_type": "stream",
          "text": [
            "Epoch 5, Val Loss: 0.25292103991481907, Val Accuracy: 0.9308320063694268\n"
          ]
        },
        {
          "name": "stderr",
          "output_type": "stream",
          "text": [
            "100%|██████████| 938/938 [00:29<00:00, 32.17it/s, accuracy=0.938, loss=0.167, lr=6.55e-5]\n"
          ]
        },
        {
          "name": "stdout",
          "output_type": "stream",
          "text": [
            "Epoch 6, Val Loss: 0.1999066642538947, Val Accuracy: 0.9436703821656051\n"
          ]
        },
        {
          "name": "stderr",
          "output_type": "stream",
          "text": [
            "100%|██████████| 938/938 [00:28<00:00, 32.45it/s, accuracy=0.969, loss=0.133, lr=5.24e-5]\n"
          ]
        },
        {
          "name": "stdout",
          "output_type": "stream",
          "text": [
            "Epoch 7, Val Loss: 0.18120562149935468, Val Accuracy: 0.9471536624203821\n"
          ]
        },
        {
          "name": "stderr",
          "output_type": "stream",
          "text": [
            "100%|██████████| 938/938 [00:28<00:00, 32.37it/s, accuracy=1, loss=0.0194, lr=4.19e-5]\n"
          ]
        },
        {
          "name": "stdout",
          "output_type": "stream",
          "text": [
            "Epoch 8, Val Loss: 0.17724021575799223, Val Accuracy: 0.9478503184713376\n"
          ]
        },
        {
          "name": "stderr",
          "output_type": "stream",
          "text": [
            "100%|██████████| 938/938 [00:29<00:00, 32.32it/s, accuracy=1, loss=0.0226, lr=3.36e-5]\n"
          ]
        },
        {
          "name": "stdout",
          "output_type": "stream",
          "text": [
            "Epoch 9, Val Loss: 0.1601237105858174, Val Accuracy: 0.9499402866242038\n"
          ]
        },
        {
          "name": "stderr",
          "output_type": "stream",
          "text": [
            "100%|██████████| 938/938 [00:28<00:00, 32.45it/s, accuracy=1, loss=0.0639, lr=2.68e-5]\n"
          ]
        },
        {
          "name": "stdout",
          "output_type": "stream",
          "text": [
            "Epoch 10, Val Loss: 0.14954954672865806, Val Accuracy: 0.9526273885350318\n"
          ]
        },
        {
          "name": "stderr",
          "output_type": "stream",
          "text": [
            "100%|██████████| 938/938 [00:28<00:00, 32.37it/s, accuracy=0.969, loss=0.0558, lr=2.15e-5]\n"
          ]
        },
        {
          "name": "stdout",
          "output_type": "stream",
          "text": [
            "Epoch 11, Val Loss: 0.13794758307278915, Val Accuracy: 0.9575039808917197\n"
          ]
        },
        {
          "name": "stderr",
          "output_type": "stream",
          "text": [
            "100%|██████████| 938/938 [00:29<00:00, 31.27it/s, accuracy=1, loss=0.0135, lr=1.72e-5]\n"
          ]
        },
        {
          "name": "stdout",
          "output_type": "stream",
          "text": [
            "Epoch 12, Val Loss: 0.13825495924302347, Val Accuracy: 0.957703025477707\n"
          ]
        },
        {
          "name": "stderr",
          "output_type": "stream",
          "text": [
            "100%|██████████| 938/938 [00:28<00:00, 32.55it/s, accuracy=1, loss=0.0139, lr=1.37e-5]\n"
          ]
        },
        {
          "name": "stdout",
          "output_type": "stream",
          "text": [
            "Epoch 13, Val Loss: 0.1310051693936964, Val Accuracy: 0.9607882165605095\n"
          ]
        },
        {
          "name": "stderr",
          "output_type": "stream",
          "text": [
            "100%|██████████| 938/938 [00:28<00:00, 32.58it/s, accuracy=1, loss=0.0124, lr=1.1e-5]\n"
          ]
        },
        {
          "name": "stdout",
          "output_type": "stream",
          "text": [
            "Epoch 14, Val Loss: 0.1312598564126677, Val Accuracy: 0.9579020700636943\n"
          ]
        },
        {
          "name": "stderr",
          "output_type": "stream",
          "text": [
            "100%|██████████| 938/938 [00:28<00:00, 32.69it/s, accuracy=1, loss=0.0159, lr=8.8e-6]\n"
          ]
        },
        {
          "name": "stdout",
          "output_type": "stream",
          "text": [
            "Epoch 15, Val Loss: 0.13007665310087643, Val Accuracy: 0.9600915605095541\n"
          ]
        },
        {
          "name": "stderr",
          "output_type": "stream",
          "text": [
            "100%|██████████| 938/938 [00:28<00:00, 33.02it/s, accuracy=1, loss=0.0372, lr=7.04e-6]\n"
          ]
        },
        {
          "name": "stdout",
          "output_type": "stream",
          "text": [
            "Epoch 16, Val Loss: 0.1270891763395956, Val Accuracy: 0.9602906050955414\n"
          ]
        },
        {
          "name": "stderr",
          "output_type": "stream",
          "text": [
            "100%|██████████| 938/938 [00:28<00:00, 32.60it/s, accuracy=1, loss=0.0134, lr=5.63e-6]\n"
          ]
        },
        {
          "name": "stdout",
          "output_type": "stream",
          "text": [
            "Epoch 17, Val Loss: 0.12831257634194104, Val Accuracy: 0.9592953821656051\n"
          ]
        },
        {
          "name": "stderr",
          "output_type": "stream",
          "text": [
            "100%|██████████| 938/938 [00:28<00:00, 32.77it/s, accuracy=1, loss=0.011, lr=4.5e-6]\n"
          ]
        },
        {
          "name": "stdout",
          "output_type": "stream",
          "text": [
            "Epoch 18, Val Loss: 0.1238803660072932, Val Accuracy: 0.9609872611464968\n"
          ]
        },
        {
          "name": "stderr",
          "output_type": "stream",
          "text": [
            "100%|██████████| 938/938 [00:29<00:00, 32.32it/s, accuracy=1, loss=0.0151, lr=3.6e-6]\n"
          ]
        },
        {
          "name": "stdout",
          "output_type": "stream",
          "text": [
            "Epoch 19, Val Loss: 0.12308698837055118, Val Accuracy: 0.9615843949044586\n"
          ]
        },
        {
          "name": "stderr",
          "output_type": "stream",
          "text": [
            "100%|██████████| 938/938 [00:28<00:00, 32.72it/s, accuracy=1, loss=0.00808, lr=2.88e-6]\n"
          ]
        },
        {
          "name": "stdout",
          "output_type": "stream",
          "text": [
            "Epoch 20, Val Loss: 0.1256780146486215, Val Accuracy: 0.9613853503184714\n"
          ]
        },
        {
          "name": "stderr",
          "output_type": "stream",
          "text": [
            "100%|██████████| 938/938 [00:28<00:00, 32.99it/s, accuracy=1, loss=0.0055, lr=2.31e-6]\n"
          ]
        },
        {
          "name": "stdout",
          "output_type": "stream",
          "text": [
            "Epoch 21, Val Loss: 0.12538038512356697, Val Accuracy: 0.9613853503184714\n"
          ]
        },
        {
          "name": "stderr",
          "output_type": "stream",
          "text": [
            "100%|██████████| 938/938 [00:28<00:00, 33.24it/s, accuracy=1, loss=0.0127, lr=1.84e-6]\n"
          ]
        },
        {
          "name": "stdout",
          "output_type": "stream",
          "text": [
            "Epoch 22, Val Loss: 0.12512910941943442, Val Accuracy: 0.9618829617834395\n"
          ]
        },
        {
          "name": "stderr",
          "output_type": "stream",
          "text": [
            "100%|██████████| 938/938 [00:30<00:00, 31.26it/s, accuracy=1, loss=0.00698, lr=1.48e-6]\n"
          ]
        },
        {
          "name": "stdout",
          "output_type": "stream",
          "text": [
            "Epoch 23, Val Loss: 0.12462149429317433, Val Accuracy: 0.9609872611464968\n"
          ]
        },
        {
          "name": "stderr",
          "output_type": "stream",
          "text": [
            "100%|██████████| 938/938 [00:28<00:00, 32.53it/s, accuracy=1, loss=0.00497, lr=1.18e-6]\n"
          ]
        },
        {
          "name": "stdout",
          "output_type": "stream",
          "text": [
            "Epoch 24, Val Loss: 0.124726787731526, Val Accuracy: 0.9616839171974523\n"
          ]
        },
        {
          "name": "stderr",
          "output_type": "stream",
          "text": [
            "100%|██████████| 938/938 [00:28<00:00, 32.44it/s, accuracy=1, loss=0.00432, lr=9.44e-7]\n"
          ]
        },
        {
          "name": "stdout",
          "output_type": "stream",
          "text": [
            "Epoch 25, Val Loss: 0.12492197215079573, Val Accuracy: 0.9620820063694268\n"
          ]
        },
        {
          "name": "stderr",
          "output_type": "stream",
          "text": [
            "100%|██████████| 938/938 [00:29<00:00, 32.34it/s, accuracy=1, loss=0.00472, lr=7.56e-7]\n"
          ]
        },
        {
          "name": "stdout",
          "output_type": "stream",
          "text": [
            "Epoch 26, Val Loss: 0.1247243896834137, Val Accuracy: 0.9616839171974523\n"
          ]
        },
        {
          "name": "stderr",
          "output_type": "stream",
          "text": [
            "100%|██████████| 938/938 [00:28<00:00, 32.58it/s, accuracy=1, loss=0.00729, lr=6.04e-7]\n"
          ]
        },
        {
          "name": "stdout",
          "output_type": "stream",
          "text": [
            "Epoch 27, Val Loss: 0.12489926494557149, Val Accuracy: 0.9621815286624203\n"
          ]
        },
        {
          "name": "stderr",
          "output_type": "stream",
          "text": [
            "100%|██████████| 938/938 [00:28<00:00, 32.81it/s, accuracy=1, loss=0.00812, lr=4.84e-7]\n"
          ]
        },
        {
          "name": "stdout",
          "output_type": "stream",
          "text": [
            "Epoch 28, Val Loss: 0.12481288866037621, Val Accuracy: 0.9617834394904459\n"
          ]
        },
        {
          "name": "stderr",
          "output_type": "stream",
          "text": [
            "100%|██████████| 938/938 [00:28<00:00, 32.66it/s, accuracy=1, loss=0.00333, lr=3.87e-7]\n"
          ]
        },
        {
          "name": "stdout",
          "output_type": "stream",
          "text": [
            "Epoch 29, Val Loss: 0.1252491593807283, Val Accuracy: 0.9617834394904459\n"
          ]
        },
        {
          "name": "stderr",
          "output_type": "stream",
          "text": [
            "100%|██████████| 938/938 [00:28<00:00, 32.64it/s, accuracy=1, loss=0.0118, lr=3.09e-7]\n"
          ]
        },
        {
          "name": "stdout",
          "output_type": "stream",
          "text": [
            "Epoch 30, Val Loss: 0.12499901387732251, Val Accuracy: 0.9619824840764332\n",
            "LR: 0.0002 Gamma: 0.8 Hdim: 256 Best Accuracy: 0.9621815286624203\n"
          ]
        },
        {
          "name": "stderr",
          "output_type": "stream",
          "text": [
            "100%|██████████| 938/938 [00:23<00:00, 39.67it/s, accuracy=0.281, loss=2.03, lr=0.0002]\n"
          ]
        },
        {
          "name": "stdout",
          "output_type": "stream",
          "text": [
            "Epoch 1, Val Loss: 1.779203701930441, Val Accuracy: 0.3903264331210191\n"
          ]
        },
        {
          "name": "stderr",
          "output_type": "stream",
          "text": [
            "100%|██████████| 938/938 [00:22<00:00, 42.11it/s, accuracy=0.812, loss=0.596, lr=0.00018]\n"
          ]
        },
        {
          "name": "stdout",
          "output_type": "stream",
          "text": [
            "Epoch 2, Val Loss: 0.6256931348211446, Val Accuracy: 0.8436504777070064\n"
          ]
        },
        {
          "name": "stderr",
          "output_type": "stream",
          "text": [
            "100%|██████████| 938/938 [00:23<00:00, 39.16it/s, accuracy=0.781, loss=0.58, lr=0.000162]\n"
          ]
        },
        {
          "name": "stdout",
          "output_type": "stream",
          "text": [
            "Epoch 3, Val Loss: 0.4287210190846662, Val Accuracy: 0.890625\n"
          ]
        },
        {
          "name": "stderr",
          "output_type": "stream",
          "text": [
            "100%|██████████| 938/938 [00:24<00:00, 38.93it/s, accuracy=0.969, loss=0.176, lr=0.000146]\n"
          ]
        },
        {
          "name": "stdout",
          "output_type": "stream",
          "text": [
            "Epoch 4, Val Loss: 0.3208811378023427, Val Accuracy: 0.9136146496815286\n"
          ]
        },
        {
          "name": "stderr",
          "output_type": "stream",
          "text": [
            "100%|██████████| 938/938 [00:22<00:00, 41.28it/s, accuracy=0.875, loss=0.349, lr=0.000131]\n"
          ]
        },
        {
          "name": "stdout",
          "output_type": "stream",
          "text": [
            "Epoch 5, Val Loss: 0.3051917654978242, Val Accuracy: 0.9213773885350318\n"
          ]
        },
        {
          "name": "stderr",
          "output_type": "stream",
          "text": [
            "100%|██████████| 938/938 [00:24<00:00, 38.84it/s, accuracy=0.875, loss=0.336, lr=0.000118]\n"
          ]
        },
        {
          "name": "stdout",
          "output_type": "stream",
          "text": [
            "Epoch 6, Val Loss: 0.2888540185655758, Val Accuracy: 0.92078025477707\n"
          ]
        },
        {
          "name": "stderr",
          "output_type": "stream",
          "text": [
            "100%|██████████| 938/938 [00:22<00:00, 41.14it/s, accuracy=0.969, loss=0.136, lr=0.000106]\n"
          ]
        },
        {
          "name": "stdout",
          "output_type": "stream",
          "text": [
            "Epoch 7, Val Loss: 0.2312864797652527, Val Accuracy: 0.9343152866242038\n"
          ]
        },
        {
          "name": "stderr",
          "output_type": "stream",
          "text": [
            "100%|██████████| 938/938 [00:23<00:00, 40.16it/s, accuracy=0.906, loss=0.226, lr=9.57e-5]\n"
          ]
        },
        {
          "name": "stdout",
          "output_type": "stream",
          "text": [
            "Epoch 8, Val Loss: 0.2356252694490609, Val Accuracy: 0.9350119426751592\n"
          ]
        },
        {
          "name": "stderr",
          "output_type": "stream",
          "text": [
            "100%|██████████| 938/938 [00:23<00:00, 39.15it/s, accuracy=0.969, loss=0.123, lr=8.61e-5]\n"
          ]
        },
        {
          "name": "stdout",
          "output_type": "stream",
          "text": [
            "Epoch 9, Val Loss: 0.19869517868942327, Val Accuracy: 0.940187101910828\n"
          ]
        },
        {
          "name": "stderr",
          "output_type": "stream",
          "text": [
            "100%|██████████| 938/938 [00:22<00:00, 41.58it/s, accuracy=0.906, loss=0.258, lr=7.75e-5]\n"
          ]
        },
        {
          "name": "stdout",
          "output_type": "stream",
          "text": [
            "Epoch 10, Val Loss: 0.221418255074009, Val Accuracy: 0.9353105095541401\n"
          ]
        },
        {
          "name": "stderr",
          "output_type": "stream",
          "text": [
            "100%|██████████| 938/938 [00:23<00:00, 39.47it/s, accuracy=0.906, loss=0.215, lr=6.97e-5]\n"
          ]
        },
        {
          "name": "stdout",
          "output_type": "stream",
          "text": [
            "Epoch 11, Val Loss: 0.2117914988060191, Val Accuracy: 0.9374004777070064\n"
          ]
        },
        {
          "name": "stderr",
          "output_type": "stream",
          "text": [
            "100%|██████████| 938/938 [00:23<00:00, 40.63it/s, accuracy=0.969, loss=0.104, lr=6.28e-5]\n"
          ]
        },
        {
          "name": "stdout",
          "output_type": "stream",
          "text": [
            "Epoch 12, Val Loss: 0.19798067792846707, Val Accuracy: 0.9405851910828026\n"
          ]
        },
        {
          "name": "stderr",
          "output_type": "stream",
          "text": [
            "100%|██████████| 938/938 [00:22<00:00, 41.42it/s, accuracy=0.969, loss=0.0672, lr=5.65e-5]\n"
          ]
        },
        {
          "name": "stdout",
          "output_type": "stream",
          "text": [
            "Epoch 13, Val Loss: 0.17398357746980278, Val Accuracy: 0.9479498407643312\n"
          ]
        },
        {
          "name": "stderr",
          "output_type": "stream",
          "text": [
            "100%|██████████| 938/938 [00:24<00:00, 38.74it/s, accuracy=1, loss=0.043, lr=5.08e-5]\n"
          ]
        },
        {
          "name": "stdout",
          "output_type": "stream",
          "text": [
            "Epoch 14, Val Loss: 0.173464537402437, Val Accuracy: 0.9464570063694268\n"
          ]
        },
        {
          "name": "stderr",
          "output_type": "stream",
          "text": [
            "100%|██████████| 938/938 [00:22<00:00, 41.27it/s, accuracy=1, loss=0.0936, lr=4.58e-5]\n"
          ]
        },
        {
          "name": "stdout",
          "output_type": "stream",
          "text": [
            "Epoch 15, Val Loss: 0.1758996755549103, Val Accuracy: 0.9476512738853503\n"
          ]
        },
        {
          "name": "stderr",
          "output_type": "stream",
          "text": [
            "100%|██████████| 938/938 [00:23<00:00, 39.94it/s, accuracy=1, loss=0.025, lr=4.12e-5]\n"
          ]
        },
        {
          "name": "stdout",
          "output_type": "stream",
          "text": [
            "Epoch 16, Val Loss: 0.18688224263601955, Val Accuracy: 0.9449641719745223\n"
          ]
        },
        {
          "name": "stderr",
          "output_type": "stream",
          "text": [
            "100%|██████████| 938/938 [00:23<00:00, 39.80it/s, accuracy=1, loss=0.0353, lr=3.71e-5]\n"
          ]
        },
        {
          "name": "stdout",
          "output_type": "stream",
          "text": [
            "Epoch 17, Val Loss: 0.16985163222523822, Val Accuracy: 0.9478503184713376\n"
          ]
        },
        {
          "name": "stderr",
          "output_type": "stream",
          "text": [
            "100%|██████████| 938/938 [00:24<00:00, 38.85it/s, accuracy=1, loss=0.0183, lr=3.34e-5]\n"
          ]
        },
        {
          "name": "stdout",
          "output_type": "stream",
          "text": [
            "Epoch 18, Val Loss: 0.16165680364945867, Val Accuracy: 0.9516321656050956\n"
          ]
        },
        {
          "name": "stderr",
          "output_type": "stream",
          "text": [
            "100%|██████████| 938/938 [00:23<00:00, 39.52it/s, accuracy=1, loss=0.0148, lr=3e-5]\n"
          ]
        },
        {
          "name": "stdout",
          "output_type": "stream",
          "text": [
            "Epoch 19, Val Loss: 0.16940730416874408, Val Accuracy: 0.949343152866242\n"
          ]
        },
        {
          "name": "stderr",
          "output_type": "stream",
          "text": [
            "100%|██████████| 938/938 [00:22<00:00, 41.52it/s, accuracy=1, loss=0.0113, lr=2.7e-5]\n"
          ]
        },
        {
          "name": "stdout",
          "output_type": "stream",
          "text": [
            "Epoch 20, Val Loss: 0.16935091181420928, Val Accuracy: 0.949343152866242\n"
          ]
        },
        {
          "name": "stderr",
          "output_type": "stream",
          "text": [
            "100%|██████████| 938/938 [00:24<00:00, 38.55it/s, accuracy=1, loss=0.0111, lr=2.43e-5]\n"
          ]
        },
        {
          "name": "stdout",
          "output_type": "stream",
          "text": [
            "Epoch 21, Val Loss: 0.17629156357929063, Val Accuracy: 0.9479498407643312\n"
          ]
        },
        {
          "name": "stderr",
          "output_type": "stream",
          "text": [
            "100%|██████████| 938/938 [00:23<00:00, 40.68it/s, accuracy=1, loss=0.00981, lr=2.19e-5]\n"
          ]
        },
        {
          "name": "stdout",
          "output_type": "stream",
          "text": [
            "Epoch 22, Val Loss: 0.1607904114469791, Val Accuracy: 0.9514331210191083\n"
          ]
        },
        {
          "name": "stderr",
          "output_type": "stream",
          "text": [
            "100%|██████████| 938/938 [00:22<00:00, 41.77it/s, accuracy=1, loss=0.0189, lr=1.97e-5]\n"
          ]
        },
        {
          "name": "stdout",
          "output_type": "stream",
          "text": [
            "Epoch 23, Val Loss: 0.16427102186094233, Val Accuracy: 0.9507364649681529\n"
          ]
        },
        {
          "name": "stderr",
          "output_type": "stream",
          "text": [
            "100%|██████████| 938/938 [00:24<00:00, 38.79it/s, accuracy=1, loss=0.0119, lr=1.77e-5]\n"
          ]
        },
        {
          "name": "stdout",
          "output_type": "stream",
          "text": [
            "Epoch 24, Val Loss: 0.16503046412884026, Val Accuracy: 0.9513335987261147\n"
          ]
        },
        {
          "name": "stderr",
          "output_type": "stream",
          "text": [
            "100%|██████████| 938/938 [00:22<00:00, 40.94it/s, accuracy=1, loss=0.0159, lr=1.6e-5]\n"
          ]
        },
        {
          "name": "stdout",
          "output_type": "stream",
          "text": [
            "Epoch 25, Val Loss: 0.16369221412582666, Val Accuracy: 0.9508359872611465\n"
          ]
        },
        {
          "name": "stderr",
          "output_type": "stream",
          "text": [
            "100%|██████████| 938/938 [00:24<00:00, 39.00it/s, accuracy=1, loss=0.00375, lr=1.44e-5]\n"
          ]
        },
        {
          "name": "stdout",
          "output_type": "stream",
          "text": [
            "Epoch 26, Val Loss: 0.16351796078323655, Val Accuracy: 0.9508359872611465\n"
          ]
        },
        {
          "name": "stderr",
          "output_type": "stream",
          "text": [
            "100%|██████████| 938/938 [00:23<00:00, 39.37it/s, accuracy=1, loss=0.00266, lr=1.29e-5]\n"
          ]
        },
        {
          "name": "stdout",
          "output_type": "stream",
          "text": [
            "Epoch 27, Val Loss: 0.16182540257455438, Val Accuracy: 0.95203025477707\n"
          ]
        },
        {
          "name": "stderr",
          "output_type": "stream",
          "text": [
            "100%|██████████| 938/938 [00:23<00:00, 40.55it/s, accuracy=1, loss=0.00339, lr=1.16e-5]\n"
          ]
        },
        {
          "name": "stdout",
          "output_type": "stream",
          "text": [
            "Epoch 28, Val Loss: 0.1654686820055625, Val Accuracy: 0.9521297770700637\n"
          ]
        },
        {
          "name": "stderr",
          "output_type": "stream",
          "text": [
            "100%|██████████| 938/938 [00:24<00:00, 38.65it/s, accuracy=1, loss=0.00203, lr=1.05e-5]\n"
          ]
        },
        {
          "name": "stdout",
          "output_type": "stream",
          "text": [
            "Epoch 29, Val Loss: 0.1664553185781037, Val Accuracy: 0.9508359872611465\n"
          ]
        },
        {
          "name": "stderr",
          "output_type": "stream",
          "text": [
            "100%|██████████| 938/938 [00:22<00:00, 41.24it/s, accuracy=1, loss=0.00961, lr=9.42e-6]\n"
          ]
        },
        {
          "name": "stdout",
          "output_type": "stream",
          "text": [
            "Epoch 30, Val Loss: 0.16752150608374958, Val Accuracy: 0.9509355095541401\n",
            "LR: 0.0002 Gamma: 0.9 Hdim: 64 Best Accuracy: 0.9521297770700637\n"
          ]
        },
        {
          "name": "stderr",
          "output_type": "stream",
          "text": [
            "100%|██████████| 938/938 [00:26<00:00, 35.95it/s, accuracy=0.75, loss=0.894, lr=0.0002]\n"
          ]
        },
        {
          "name": "stdout",
          "output_type": "stream",
          "text": [
            "Epoch 1, Val Loss: 0.9648280162720164, Val Accuracy: 0.7159633757961783\n"
          ]
        },
        {
          "name": "stderr",
          "output_type": "stream",
          "text": [
            "100%|██████████| 938/938 [00:25<00:00, 37.02it/s, accuracy=0.906, loss=0.349, lr=0.00018]\n"
          ]
        },
        {
          "name": "stdout",
          "output_type": "stream",
          "text": [
            "Epoch 2, Val Loss: 0.43426357821863926, Val Accuracy: 0.8862460191082803\n"
          ]
        },
        {
          "name": "stderr",
          "output_type": "stream",
          "text": [
            "100%|██████████| 938/938 [00:24<00:00, 38.51it/s, accuracy=0.844, loss=0.547, lr=0.000162]\n"
          ]
        },
        {
          "name": "stdout",
          "output_type": "stream",
          "text": [
            "Epoch 3, Val Loss: 0.38274711066750206, Val Accuracy: 0.8969944267515924\n"
          ]
        },
        {
          "name": "stderr",
          "output_type": "stream",
          "text": [
            "100%|██████████| 938/938 [00:23<00:00, 39.47it/s, accuracy=0.875, loss=0.241, lr=0.000146]\n"
          ]
        },
        {
          "name": "stdout",
          "output_type": "stream",
          "text": [
            "Epoch 4, Val Loss: 0.2685043843712207, Val Accuracy: 0.9233678343949044\n"
          ]
        },
        {
          "name": "stderr",
          "output_type": "stream",
          "text": [
            "100%|██████████| 938/938 [00:25<00:00, 37.49it/s, accuracy=0.875, loss=0.381, lr=0.000131]\n"
          ]
        },
        {
          "name": "stdout",
          "output_type": "stream",
          "text": [
            "Epoch 5, Val Loss: 0.330212188825296, Val Accuracy: 0.9126194267515924\n"
          ]
        },
        {
          "name": "stderr",
          "output_type": "stream",
          "text": [
            "100%|██████████| 938/938 [00:25<00:00, 37.23it/s, accuracy=0.969, loss=0.125, lr=0.000118]\n"
          ]
        },
        {
          "name": "stdout",
          "output_type": "stream",
          "text": [
            "Epoch 6, Val Loss: 0.2708879067995556, Val Accuracy: 0.9198845541401274\n"
          ]
        },
        {
          "name": "stderr",
          "output_type": "stream",
          "text": [
            "100%|██████████| 938/938 [00:24<00:00, 38.80it/s, accuracy=0.938, loss=0.202, lr=0.000106]\n"
          ]
        },
        {
          "name": "stdout",
          "output_type": "stream",
          "text": [
            "Epoch 7, Val Loss: 0.22381016736031528, Val Accuracy: 0.932921974522293\n"
          ]
        },
        {
          "name": "stderr",
          "output_type": "stream",
          "text": [
            "100%|██████████| 938/938 [00:23<00:00, 39.42it/s, accuracy=0.969, loss=0.0881, lr=9.57e-5]\n"
          ]
        },
        {
          "name": "stdout",
          "output_type": "stream",
          "text": [
            "Epoch 8, Val Loss: 0.21029926828185844, Val Accuracy: 0.9398885350318471\n"
          ]
        },
        {
          "name": "stderr",
          "output_type": "stream",
          "text": [
            "100%|██████████| 938/938 [00:25<00:00, 36.80it/s, accuracy=0.969, loss=0.123, lr=8.61e-5]\n"
          ]
        },
        {
          "name": "stdout",
          "output_type": "stream",
          "text": [
            "Epoch 9, Val Loss: 0.18536769031030928, Val Accuracy: 0.9452627388535032\n"
          ]
        },
        {
          "name": "stderr",
          "output_type": "stream",
          "text": [
            "100%|██████████| 938/938 [00:25<00:00, 37.45it/s, accuracy=0.969, loss=0.0719, lr=7.75e-5]\n"
          ]
        },
        {
          "name": "stdout",
          "output_type": "stream",
          "text": [
            "Epoch 10, Val Loss: 0.18273760425223476, Val Accuracy: 0.9462579617834395\n"
          ]
        },
        {
          "name": "stderr",
          "output_type": "stream",
          "text": [
            "100%|██████████| 938/938 [00:24<00:00, 38.31it/s, accuracy=0.969, loss=0.0557, lr=6.97e-5]\n"
          ]
        },
        {
          "name": "stdout",
          "output_type": "stream",
          "text": [
            "Epoch 11, Val Loss: 0.18088531526469975, Val Accuracy: 0.9425756369426752\n"
          ]
        },
        {
          "name": "stderr",
          "output_type": "stream",
          "text": [
            "100%|██████████| 938/938 [00:24<00:00, 38.82it/s, accuracy=1, loss=0.0354, lr=6.28e-5]\n"
          ]
        },
        {
          "name": "stdout",
          "output_type": "stream",
          "text": [
            "Epoch 12, Val Loss: 0.18333082837438222, Val Accuracy: 0.9423765923566879\n"
          ]
        },
        {
          "name": "stderr",
          "output_type": "stream",
          "text": [
            "100%|██████████| 938/938 [00:28<00:00, 32.89it/s, accuracy=1, loss=0.0167, lr=5.65e-5]\n"
          ]
        },
        {
          "name": "stdout",
          "output_type": "stream",
          "text": [
            "Epoch 13, Val Loss: 0.17737295293800864, Val Accuracy: 0.9477507961783439\n"
          ]
        },
        {
          "name": "stderr",
          "output_type": "stream",
          "text": [
            "100%|██████████| 938/938 [00:26<00:00, 35.00it/s, accuracy=1, loss=0.012, lr=5.08e-5]\n"
          ]
        },
        {
          "name": "stdout",
          "output_type": "stream",
          "text": [
            "Epoch 14, Val Loss: 0.15806615886509798, Val Accuracy: 0.9529259554140127\n"
          ]
        },
        {
          "name": "stderr",
          "output_type": "stream",
          "text": [
            "100%|██████████| 938/938 [00:25<00:00, 36.83it/s, accuracy=1, loss=0.022, lr=4.58e-5]\n"
          ]
        },
        {
          "name": "stdout",
          "output_type": "stream",
          "text": [
            "Epoch 15, Val Loss: 0.1603190102625585, Val Accuracy: 0.9513335987261147\n"
          ]
        },
        {
          "name": "stderr",
          "output_type": "stream",
          "text": [
            "100%|██████████| 938/938 [00:25<00:00, 36.37it/s, accuracy=1, loss=0.0107, lr=4.12e-5]\n"
          ]
        },
        {
          "name": "stdout",
          "output_type": "stream",
          "text": [
            "Epoch 16, Val Loss: 0.14573373036106135, Val Accuracy: 0.9564092356687898\n"
          ]
        },
        {
          "name": "stderr",
          "output_type": "stream",
          "text": [
            "100%|██████████| 938/938 [00:26<00:00, 35.02it/s, accuracy=1, loss=0.0109, lr=3.71e-5]\n"
          ]
        },
        {
          "name": "stdout",
          "output_type": "stream",
          "text": [
            "Epoch 17, Val Loss: 0.15307912470626045, Val Accuracy: 0.953125\n"
          ]
        },
        {
          "name": "stderr",
          "output_type": "stream",
          "text": [
            "100%|██████████| 938/938 [00:27<00:00, 34.70it/s, accuracy=1, loss=0.0312, lr=3.34e-5]\n"
          ]
        },
        {
          "name": "stdout",
          "output_type": "stream",
          "text": [
            "Epoch 18, Val Loss: 0.14530940038881673, Val Accuracy: 0.9557125796178344\n"
          ]
        },
        {
          "name": "stderr",
          "output_type": "stream",
          "text": [
            "100%|██████████| 938/938 [00:25<00:00, 36.49it/s, accuracy=1, loss=0.014, lr=3e-5]\n"
          ]
        },
        {
          "name": "stdout",
          "output_type": "stream",
          "text": [
            "Epoch 19, Val Loss: 0.15277155195466677, Val Accuracy: 0.9541202229299363\n"
          ]
        },
        {
          "name": "stderr",
          "output_type": "stream",
          "text": [
            "100%|██████████| 938/938 [00:25<00:00, 37.04it/s, accuracy=1, loss=0.00301, lr=2.7e-5]\n"
          ]
        },
        {
          "name": "stdout",
          "output_type": "stream",
          "text": [
            "Epoch 20, Val Loss: 0.14504653111876545, Val Accuracy: 0.9573049363057324\n"
          ]
        },
        {
          "name": "stderr",
          "output_type": "stream",
          "text": [
            "100%|██████████| 938/938 [00:26<00:00, 35.43it/s, accuracy=1, loss=0.00978, lr=2.43e-5]\n"
          ]
        },
        {
          "name": "stdout",
          "output_type": "stream",
          "text": [
            "Epoch 21, Val Loss: 0.14662891881211193, Val Accuracy: 0.9576035031847133\n"
          ]
        },
        {
          "name": "stderr",
          "output_type": "stream",
          "text": [
            "100%|██████████| 938/938 [00:27<00:00, 34.46it/s, accuracy=1, loss=0.00245, lr=2.19e-5]\n"
          ]
        },
        {
          "name": "stdout",
          "output_type": "stream",
          "text": [
            "Epoch 22, Val Loss: 0.14957442554390535, Val Accuracy: 0.9555135350318471\n"
          ]
        },
        {
          "name": "stderr",
          "output_type": "stream",
          "text": [
            "100%|██████████| 938/938 [00:26<00:00, 35.90it/s, accuracy=1, loss=0.016, lr=1.97e-5]\n"
          ]
        },
        {
          "name": "stdout",
          "output_type": "stream",
          "text": [
            "Epoch 23, Val Loss: 0.1499894817634471, Val Accuracy: 0.955812101910828\n"
          ]
        },
        {
          "name": "stderr",
          "output_type": "stream",
          "text": [
            "100%|██████████| 938/938 [00:25<00:00, 36.85it/s, accuracy=1, loss=0.00716, lr=1.77e-5]\n"
          ]
        },
        {
          "name": "stdout",
          "output_type": "stream",
          "text": [
            "Epoch 24, Val Loss: 0.14731894239272023, Val Accuracy: 0.9559116242038217\n"
          ]
        },
        {
          "name": "stderr",
          "output_type": "stream",
          "text": [
            "100%|██████████| 938/938 [00:27<00:00, 34.19it/s, accuracy=1, loss=0.00363, lr=1.6e-5]\n"
          ]
        },
        {
          "name": "stdout",
          "output_type": "stream",
          "text": [
            "Epoch 25, Val Loss: 0.1481188062728964, Val Accuracy: 0.9560111464968153\n"
          ]
        },
        {
          "name": "stderr",
          "output_type": "stream",
          "text": [
            "100%|██████████| 938/938 [00:26<00:00, 35.11it/s, accuracy=1, loss=0.0014, lr=1.44e-5]\n"
          ]
        },
        {
          "name": "stdout",
          "output_type": "stream",
          "text": [
            "Epoch 26, Val Loss: 0.14873012778153466, Val Accuracy: 0.956906847133758\n"
          ]
        },
        {
          "name": "stderr",
          "output_type": "stream",
          "text": [
            "100%|██████████| 938/938 [00:25<00:00, 36.47it/s, accuracy=1, loss=0.00236, lr=1.29e-5]\n"
          ]
        },
        {
          "name": "stdout",
          "output_type": "stream",
          "text": [
            "Epoch 27, Val Loss: 0.14885737764990925, Val Accuracy: 0.956906847133758\n"
          ]
        },
        {
          "name": "stderr",
          "output_type": "stream",
          "text": [
            "100%|██████████| 938/938 [00:25<00:00, 37.15it/s, accuracy=1, loss=0.00127, lr=1.16e-5]\n"
          ]
        },
        {
          "name": "stdout",
          "output_type": "stream",
          "text": [
            "Epoch 28, Val Loss: 0.1496137068356194, Val Accuracy: 0.9582006369426752\n"
          ]
        },
        {
          "name": "stderr",
          "output_type": "stream",
          "text": [
            "100%|██████████| 938/938 [00:25<00:00, 36.84it/s, accuracy=1, loss=0.0015, lr=1.05e-5]\n"
          ]
        },
        {
          "name": "stdout",
          "output_type": "stream",
          "text": [
            "Epoch 29, Val Loss: 0.1529492912977151, Val Accuracy: 0.9561106687898089\n"
          ]
        },
        {
          "name": "stderr",
          "output_type": "stream",
          "text": [
            "100%|██████████| 938/938 [00:26<00:00, 34.99it/s, accuracy=1, loss=0.000811, lr=9.42e-6]\n"
          ]
        },
        {
          "name": "stdout",
          "output_type": "stream",
          "text": [
            "Epoch 30, Val Loss: 0.1517196290786241, Val Accuracy: 0.9567078025477707\n",
            "LR: 0.0002 Gamma: 0.9 Hdim: 128 Best Accuracy: 0.9582006369426752\n"
          ]
        },
        {
          "name": "stderr",
          "output_type": "stream",
          "text": [
            "100%|██████████| 938/938 [00:30<00:00, 30.95it/s, accuracy=0.844, loss=0.664, lr=0.0002]\n"
          ]
        },
        {
          "name": "stdout",
          "output_type": "stream",
          "text": [
            "Epoch 1, Val Loss: 0.7253311817433424, Val Accuracy: 0.7988654458598726\n"
          ]
        },
        {
          "name": "stderr",
          "output_type": "stream",
          "text": [
            "100%|██████████| 938/938 [00:29<00:00, 31.30it/s, accuracy=0.938, loss=0.578, lr=0.00018]\n"
          ]
        },
        {
          "name": "stdout",
          "output_type": "stream",
          "text": [
            "Epoch 2, Val Loss: 0.48772958832181945, Val Accuracy: 0.8672372611464968\n"
          ]
        },
        {
          "name": "stderr",
          "output_type": "stream",
          "text": [
            "100%|██████████| 938/938 [00:30<00:00, 30.74it/s, accuracy=0.938, loss=0.283, lr=0.000162]\n"
          ]
        },
        {
          "name": "stdout",
          "output_type": "stream",
          "text": [
            "Epoch 3, Val Loss: 0.3376186147427103, Val Accuracy: 0.9046576433121019\n"
          ]
        },
        {
          "name": "stderr",
          "output_type": "stream",
          "text": [
            "100%|██████████| 938/938 [00:32<00:00, 28.65it/s, accuracy=0.875, loss=0.334, lr=0.000146]\n"
          ]
        },
        {
          "name": "stdout",
          "output_type": "stream",
          "text": [
            "Epoch 4, Val Loss: 0.27072956638446277, Val Accuracy: 0.9223726114649682\n"
          ]
        },
        {
          "name": "stderr",
          "output_type": "stream",
          "text": [
            "100%|██████████| 938/938 [00:31<00:00, 29.85it/s, accuracy=1, loss=0.13, lr=0.000131]\n"
          ]
        },
        {
          "name": "stdout",
          "output_type": "stream",
          "text": [
            "Epoch 5, Val Loss: 0.26484028996223474, Val Accuracy: 0.9269506369426752\n"
          ]
        },
        {
          "name": "stderr",
          "output_type": "stream",
          "text": [
            "100%|██████████| 938/938 [00:32<00:00, 28.79it/s, accuracy=0.938, loss=0.211, lr=0.000118]\n"
          ]
        },
        {
          "name": "stdout",
          "output_type": "stream",
          "text": [
            "Epoch 6, Val Loss: 0.23216371346193893, Val Accuracy: 0.9335191082802548\n"
          ]
        },
        {
          "name": "stderr",
          "output_type": "stream",
          "text": [
            "100%|██████████| 938/938 [00:30<00:00, 30.37it/s, accuracy=0.969, loss=0.135, lr=0.000106]\n"
          ]
        },
        {
          "name": "stdout",
          "output_type": "stream",
          "text": [
            "Epoch 7, Val Loss: 0.19061171202356839, Val Accuracy: 0.945859872611465\n"
          ]
        },
        {
          "name": "stderr",
          "output_type": "stream",
          "text": [
            "100%|██████████| 938/938 [00:31<00:00, 29.81it/s, accuracy=0.969, loss=0.077, lr=9.57e-5]\n"
          ]
        },
        {
          "name": "stdout",
          "output_type": "stream",
          "text": [
            "Epoch 8, Val Loss: 0.20166712906804812, Val Accuracy: 0.9389928343949044\n"
          ]
        },
        {
          "name": "stderr",
          "output_type": "stream",
          "text": [
            "100%|██████████| 938/938 [00:31<00:00, 29.53it/s, accuracy=1, loss=0.0641, lr=8.61e-5]\n"
          ]
        },
        {
          "name": "stdout",
          "output_type": "stream",
          "text": [
            "Epoch 9, Val Loss: 0.1838619942616695, Val Accuracy: 0.9441679936305732\n"
          ]
        },
        {
          "name": "stderr",
          "output_type": "stream",
          "text": [
            "100%|██████████| 938/938 [00:31<00:00, 29.86it/s, accuracy=1, loss=0.0372, lr=7.75e-5]\n"
          ]
        },
        {
          "name": "stdout",
          "output_type": "stream",
          "text": [
            "Epoch 10, Val Loss: 0.17288253878711896, Val Accuracy: 0.947452229299363\n"
          ]
        },
        {
          "name": "stderr",
          "output_type": "stream",
          "text": [
            "100%|██████████| 938/938 [00:31<00:00, 29.74it/s, accuracy=1, loss=0.0408, lr=6.97e-5]\n"
          ]
        },
        {
          "name": "stdout",
          "output_type": "stream",
          "text": [
            "Epoch 11, Val Loss: 0.1879947112493549, Val Accuracy: 0.9415804140127388\n"
          ]
        },
        {
          "name": "stderr",
          "output_type": "stream",
          "text": [
            "100%|██████████| 938/938 [00:30<00:00, 30.49it/s, accuracy=1, loss=0.0354, lr=6.28e-5]\n"
          ]
        },
        {
          "name": "stdout",
          "output_type": "stream",
          "text": [
            "Epoch 12, Val Loss: 0.17049854090081373, Val Accuracy: 0.9481488853503185\n"
          ]
        },
        {
          "name": "stderr",
          "output_type": "stream",
          "text": [
            "100%|██████████| 938/938 [00:30<00:00, 30.53it/s, accuracy=1, loss=0.0104, lr=5.65e-5]\n"
          ]
        },
        {
          "name": "stdout",
          "output_type": "stream",
          "text": [
            "Epoch 13, Val Loss: 0.15202067566851665, Val Accuracy: 0.9537221337579618\n"
          ]
        },
        {
          "name": "stderr",
          "output_type": "stream",
          "text": [
            "100%|██████████| 938/938 [00:31<00:00, 30.03it/s, accuracy=1, loss=0.0171, lr=5.08e-5]\n"
          ]
        },
        {
          "name": "stdout",
          "output_type": "stream",
          "text": [
            "Epoch 14, Val Loss: 0.15350724702588264, Val Accuracy: 0.9545183121019108\n"
          ]
        },
        {
          "name": "stderr",
          "output_type": "stream",
          "text": [
            "100%|██████████| 938/938 [00:31<00:00, 30.15it/s, accuracy=1, loss=0.0186, lr=4.58e-5]\n"
          ]
        },
        {
          "name": "stdout",
          "output_type": "stream",
          "text": [
            "Epoch 15, Val Loss: 0.13976761773762525, Val Accuracy: 0.955812101910828\n"
          ]
        },
        {
          "name": "stderr",
          "output_type": "stream",
          "text": [
            "100%|██████████| 938/938 [00:31<00:00, 29.46it/s, accuracy=1, loss=0.0227, lr=4.12e-5]\n"
          ]
        },
        {
          "name": "stdout",
          "output_type": "stream",
          "text": [
            "Epoch 16, Val Loss: 0.1364493243504541, Val Accuracy: 0.9564092356687898\n"
          ]
        },
        {
          "name": "stderr",
          "output_type": "stream",
          "text": [
            "100%|██████████| 938/938 [00:31<00:00, 30.12it/s, accuracy=1, loss=0.0203, lr=3.71e-5]\n"
          ]
        },
        {
          "name": "stdout",
          "output_type": "stream",
          "text": [
            "Epoch 17, Val Loss: 0.16021171868422845, Val Accuracy: 0.9507364649681529\n"
          ]
        },
        {
          "name": "stderr",
          "output_type": "stream",
          "text": [
            "100%|██████████| 938/938 [00:30<00:00, 30.42it/s, accuracy=1, loss=0.0161, lr=3.34e-5]\n"
          ]
        },
        {
          "name": "stdout",
          "output_type": "stream",
          "text": [
            "Epoch 18, Val Loss: 0.1379865147119646, Val Accuracy: 0.9567078025477707\n"
          ]
        },
        {
          "name": "stderr",
          "output_type": "stream",
          "text": [
            "100%|██████████| 938/938 [00:30<00:00, 30.44it/s, accuracy=1, loss=0.00499, lr=3e-5]\n"
          ]
        },
        {
          "name": "stdout",
          "output_type": "stream",
          "text": [
            "Epoch 19, Val Loss: 0.1875756710224969, Val Accuracy: 0.9440684713375797\n"
          ]
        },
        {
          "name": "stderr",
          "output_type": "stream",
          "text": [
            "100%|██████████| 938/938 [00:30<00:00, 30.76it/s, accuracy=1, loss=0.00467, lr=2.7e-5]\n"
          ]
        },
        {
          "name": "stdout",
          "output_type": "stream",
          "text": [
            "Epoch 20, Val Loss: 0.13585912906653752, Val Accuracy: 0.9589968152866242\n"
          ]
        },
        {
          "name": "stderr",
          "output_type": "stream",
          "text": [
            "100%|██████████| 938/938 [00:30<00:00, 30.81it/s, accuracy=1, loss=0.00676, lr=2.43e-5]\n"
          ]
        },
        {
          "name": "stdout",
          "output_type": "stream",
          "text": [
            "Epoch 21, Val Loss: 0.14319136567490923, Val Accuracy: 0.9581011146496815\n"
          ]
        },
        {
          "name": "stderr",
          "output_type": "stream",
          "text": [
            "100%|██████████| 938/938 [00:30<00:00, 30.48it/s, accuracy=1, loss=0.00412, lr=2.19e-5]\n"
          ]
        },
        {
          "name": "stdout",
          "output_type": "stream",
          "text": [
            "Epoch 22, Val Loss: 0.13752766899304067, Val Accuracy: 0.9613853503184714\n"
          ]
        },
        {
          "name": "stderr",
          "output_type": "stream",
          "text": [
            "100%|██████████| 938/938 [00:30<00:00, 30.94it/s, accuracy=1, loss=0.00368, lr=1.97e-5]\n"
          ]
        },
        {
          "name": "stdout",
          "output_type": "stream",
          "text": [
            "Epoch 23, Val Loss: 0.13653076046837345, Val Accuracy: 0.9602906050955414\n"
          ]
        },
        {
          "name": "stderr",
          "output_type": "stream",
          "text": [
            "100%|██████████| 938/938 [00:30<00:00, 30.85it/s, accuracy=1, loss=0.000683, lr=1.77e-5]\n"
          ]
        },
        {
          "name": "stdout",
          "output_type": "stream",
          "text": [
            "Epoch 24, Val Loss: 0.1337793421953161, Val Accuracy: 0.961484872611465\n"
          ]
        },
        {
          "name": "stderr",
          "output_type": "stream",
          "text": [
            "100%|██████████| 938/938 [00:30<00:00, 30.98it/s, accuracy=1, loss=0.00213, lr=1.6e-5]\n"
          ]
        },
        {
          "name": "stdout",
          "output_type": "stream",
          "text": [
            "Epoch 25, Val Loss: 0.1340867301071386, Val Accuracy: 0.9628781847133758\n"
          ]
        },
        {
          "name": "stderr",
          "output_type": "stream",
          "text": [
            "100%|██████████| 938/938 [00:31<00:00, 29.43it/s, accuracy=1, loss=0.00147, lr=1.44e-5]\n"
          ]
        },
        {
          "name": "stdout",
          "output_type": "stream",
          "text": [
            "Epoch 26, Val Loss: 0.13482805269742149, Val Accuracy: 0.9631767515923567\n"
          ]
        },
        {
          "name": "stderr",
          "output_type": "stream",
          "text": [
            "100%|██████████| 938/938 [00:31<00:00, 30.10it/s, accuracy=1, loss=0.00252, lr=1.29e-5]\n"
          ]
        },
        {
          "name": "stdout",
          "output_type": "stream",
          "text": [
            "Epoch 27, Val Loss: 0.13457935546160746, Val Accuracy: 0.9617834394904459\n"
          ]
        },
        {
          "name": "stderr",
          "output_type": "stream",
          "text": [
            "100%|██████████| 938/938 [00:31<00:00, 29.95it/s, accuracy=1, loss=0.00285, lr=1.16e-5]\n"
          ]
        },
        {
          "name": "stdout",
          "output_type": "stream",
          "text": [
            "Epoch 28, Val Loss: 0.13707223540432617, Val Accuracy: 0.9620820063694268\n"
          ]
        },
        {
          "name": "stderr",
          "output_type": "stream",
          "text": [
            "100%|██████████| 938/938 [00:31<00:00, 29.46it/s, accuracy=1, loss=0.000589, lr=1.05e-5]\n"
          ]
        },
        {
          "name": "stdout",
          "output_type": "stream",
          "text": [
            "Epoch 29, Val Loss: 0.13550528220505717, Val Accuracy: 0.9625796178343949\n"
          ]
        },
        {
          "name": "stderr",
          "output_type": "stream",
          "text": [
            "100%|██████████| 938/938 [00:31<00:00, 29.99it/s, accuracy=1, loss=0.00193, lr=9.42e-6]\n"
          ]
        },
        {
          "name": "stdout",
          "output_type": "stream",
          "text": [
            "Epoch 30, Val Loss: 0.13636208488587379, Val Accuracy: 0.963077229299363\n",
            "LR: 0.0002 Gamma: 0.9 Hdim: 256 Best Accuracy: 0.9631767515923567\n"
          ]
        },
        {
          "name": "stderr",
          "output_type": "stream",
          "text": [
            "100%|██████████| 938/938 [00:26<00:00, 35.99it/s, accuracy=0.25, loss=2.01, lr=0.0003]\n"
          ]
        },
        {
          "name": "stdout",
          "output_type": "stream",
          "text": [
            "Epoch 1, Val Loss: 1.975625341105613, Val Accuracy: 0.29866640127388533\n"
          ]
        },
        {
          "name": "stderr",
          "output_type": "stream",
          "text": [
            "100%|██████████| 938/938 [00:24<00:00, 37.79it/s, accuracy=0.875, loss=0.675, lr=0.00024]\n"
          ]
        },
        {
          "name": "stdout",
          "output_type": "stream",
          "text": [
            "Epoch 2, Val Loss: 0.7938813062230493, Val Accuracy: 0.807921974522293\n"
          ]
        },
        {
          "name": "stderr",
          "output_type": "stream",
          "text": [
            "100%|██████████| 938/938 [00:25<00:00, 36.87it/s, accuracy=0.719, loss=0.709, lr=0.000192]\n"
          ]
        },
        {
          "name": "stdout",
          "output_type": "stream",
          "text": [
            "Epoch 3, Val Loss: 0.5390703134286176, Val Accuracy: 0.8706210191082803\n"
          ]
        },
        {
          "name": "stderr",
          "output_type": "stream",
          "text": [
            "100%|██████████| 938/938 [00:26<00:00, 35.24it/s, accuracy=0.938, loss=0.292, lr=0.000154]\n"
          ]
        },
        {
          "name": "stdout",
          "output_type": "stream",
          "text": [
            "Epoch 4, Val Loss: 0.44540249228857126, Val Accuracy: 0.8859474522292994\n"
          ]
        },
        {
          "name": "stderr",
          "output_type": "stream",
          "text": [
            "100%|██████████| 938/938 [00:24<00:00, 38.12it/s, accuracy=0.875, loss=0.351, lr=0.000123]\n"
          ]
        },
        {
          "name": "stdout",
          "output_type": "stream",
          "text": [
            "Epoch 5, Val Loss: 0.29955625194747737, Val Accuracy: 0.9217754777070064\n"
          ]
        },
        {
          "name": "stderr",
          "output_type": "stream",
          "text": [
            "100%|██████████| 938/938 [00:26<00:00, 35.36it/s, accuracy=0.906, loss=0.357, lr=9.83e-5]\n"
          ]
        },
        {
          "name": "stdout",
          "output_type": "stream",
          "text": [
            "Epoch 6, Val Loss: 0.2727057428401747, Val Accuracy: 0.9267515923566879\n"
          ]
        },
        {
          "name": "stderr",
          "output_type": "stream",
          "text": [
            "100%|██████████| 938/938 [00:26<00:00, 35.71it/s, accuracy=0.969, loss=0.193, lr=7.86e-5]\n"
          ]
        },
        {
          "name": "stdout",
          "output_type": "stream",
          "text": [
            "Epoch 7, Val Loss: 0.2556585762531135, Val Accuracy: 0.9271496815286624\n"
          ]
        },
        {
          "name": "stderr",
          "output_type": "stream",
          "text": [
            "100%|██████████| 938/938 [00:25<00:00, 37.12it/s, accuracy=0.906, loss=0.222, lr=6.29e-5]\n"
          ]
        },
        {
          "name": "stdout",
          "output_type": "stream",
          "text": [
            "Epoch 8, Val Loss: 0.23373380582186448, Val Accuracy: 0.9336186305732485\n"
          ]
        },
        {
          "name": "stderr",
          "output_type": "stream",
          "text": [
            "100%|██████████| 938/938 [00:25<00:00, 36.12it/s, accuracy=0.969, loss=0.101, lr=5.03e-5]\n"
          ]
        },
        {
          "name": "stdout",
          "output_type": "stream",
          "text": [
            "Epoch 9, Val Loss: 0.21744861469194768, Val Accuracy: 0.9336186305732485\n"
          ]
        },
        {
          "name": "stderr",
          "output_type": "stream",
          "text": [
            "100%|██████████| 938/938 [00:26<00:00, 34.91it/s, accuracy=1, loss=0.0978, lr=4.03e-5]\n"
          ]
        },
        {
          "name": "stdout",
          "output_type": "stream",
          "text": [
            "Epoch 10, Val Loss: 0.20359263280821835, Val Accuracy: 0.9382961783439491\n"
          ]
        },
        {
          "name": "stderr",
          "output_type": "stream",
          "text": [
            "100%|██████████| 938/938 [00:25<00:00, 37.26it/s, accuracy=0.906, loss=0.231, lr=3.22e-5]\n"
          ]
        },
        {
          "name": "stdout",
          "output_type": "stream",
          "text": [
            "Epoch 11, Val Loss: 0.20286654455551675, Val Accuracy: 0.9391918789808917\n"
          ]
        },
        {
          "name": "stderr",
          "output_type": "stream",
          "text": [
            "100%|██████████| 938/938 [00:25<00:00, 36.89it/s, accuracy=0.969, loss=0.119, lr=2.58e-5]\n"
          ]
        },
        {
          "name": "stdout",
          "output_type": "stream",
          "text": [
            "Epoch 12, Val Loss: 0.19778630612596015, Val Accuracy: 0.9386942675159236\n"
          ]
        },
        {
          "name": "stderr",
          "output_type": "stream",
          "text": [
            "100%|██████████| 938/938 [00:26<00:00, 35.03it/s, accuracy=0.969, loss=0.0796, lr=2.06e-5]\n"
          ]
        },
        {
          "name": "stdout",
          "output_type": "stream",
          "text": [
            "Epoch 13, Val Loss: 0.1953984949245432, Val Accuracy: 0.9396894904458599\n"
          ]
        },
        {
          "name": "stderr",
          "output_type": "stream",
          "text": [
            "100%|██████████| 938/938 [00:24<00:00, 37.79it/s, accuracy=1, loss=0.0641, lr=1.65e-5]\n"
          ]
        },
        {
          "name": "stdout",
          "output_type": "stream",
          "text": [
            "Epoch 14, Val Loss: 0.19579630833308978, Val Accuracy: 0.9398885350318471\n"
          ]
        },
        {
          "name": "stderr",
          "output_type": "stream",
          "text": [
            "100%|██████████| 938/938 [00:24<00:00, 37.76it/s, accuracy=1, loss=0.0805, lr=1.32e-5]\n"
          ]
        },
        {
          "name": "stdout",
          "output_type": "stream",
          "text": [
            "Epoch 15, Val Loss: 0.18831833926842187, Val Accuracy: 0.941281847133758\n"
          ]
        },
        {
          "name": "stderr",
          "output_type": "stream",
          "text": [
            "100%|██████████| 938/938 [00:25<00:00, 36.16it/s, accuracy=1, loss=0.0267, lr=1.06e-5]\n"
          ]
        },
        {
          "name": "stdout",
          "output_type": "stream",
          "text": [
            "Epoch 16, Val Loss: 0.18702547139766965, Val Accuracy: 0.941281847133758\n"
          ]
        },
        {
          "name": "stderr",
          "output_type": "stream",
          "text": [
            "100%|██████████| 938/938 [00:24<00:00, 37.88it/s, accuracy=0.969, loss=0.0904, lr=8.44e-6]\n"
          ]
        },
        {
          "name": "stdout",
          "output_type": "stream",
          "text": [
            "Epoch 17, Val Loss: 0.18932462577073342, Val Accuracy: 0.9406847133757962\n"
          ]
        },
        {
          "name": "stderr",
          "output_type": "stream",
          "text": [
            "100%|██████████| 938/938 [00:26<00:00, 34.90it/s, accuracy=1, loss=0.0525, lr=6.76e-6]\n"
          ]
        },
        {
          "name": "stdout",
          "output_type": "stream",
          "text": [
            "Epoch 18, Val Loss: 0.1854964754852662, Val Accuracy: 0.9423765923566879\n"
          ]
        },
        {
          "name": "stderr",
          "output_type": "stream",
          "text": [
            "100%|██████████| 938/938 [00:26<00:00, 35.70it/s, accuracy=1, loss=0.053, lr=5.4e-6]\n"
          ]
        },
        {
          "name": "stdout",
          "output_type": "stream",
          "text": [
            "Epoch 19, Val Loss: 0.18677085865241516, Val Accuracy: 0.941281847133758\n"
          ]
        },
        {
          "name": "stderr",
          "output_type": "stream",
          "text": [
            "100%|██████████| 938/938 [00:24<00:00, 37.67it/s, accuracy=1, loss=0.0423, lr=4.32e-6]\n"
          ]
        },
        {
          "name": "stdout",
          "output_type": "stream",
          "text": [
            "Epoch 20, Val Loss: 0.1852346103442655, Val Accuracy: 0.9415804140127388\n"
          ]
        },
        {
          "name": "stderr",
          "output_type": "stream",
          "text": [
            "100%|██████████| 938/938 [00:25<00:00, 37.45it/s, accuracy=1, loss=0.0495, lr=3.46e-6]\n"
          ]
        },
        {
          "name": "stdout",
          "output_type": "stream",
          "text": [
            "Epoch 21, Val Loss: 0.18593156889116594, Val Accuracy: 0.941281847133758\n"
          ]
        },
        {
          "name": "stderr",
          "output_type": "stream",
          "text": [
            "100%|██████████| 938/938 [00:26<00:00, 35.96it/s, accuracy=1, loss=0.027, lr=2.77e-6]\n"
          ]
        },
        {
          "name": "stdout",
          "output_type": "stream",
          "text": [
            "Epoch 22, Val Loss: 0.18612015399500537, Val Accuracy: 0.9409832802547771\n"
          ]
        },
        {
          "name": "stderr",
          "output_type": "stream",
          "text": [
            "100%|██████████| 938/938 [00:25<00:00, 37.48it/s, accuracy=0.969, loss=0.104, lr=2.21e-6]\n"
          ]
        },
        {
          "name": "stdout",
          "output_type": "stream",
          "text": [
            "Epoch 23, Val Loss: 0.18388948338343555, Val Accuracy: 0.9430732484076433\n"
          ]
        },
        {
          "name": "stderr",
          "output_type": "stream",
          "text": [
            "100%|██████████| 938/938 [00:24<00:00, 37.98it/s, accuracy=0.969, loss=0.0645, lr=1.77e-6]\n"
          ]
        },
        {
          "name": "stdout",
          "output_type": "stream",
          "text": [
            "Epoch 24, Val Loss: 0.18419469377192058, Val Accuracy: 0.9425756369426752\n"
          ]
        },
        {
          "name": "stderr",
          "output_type": "stream",
          "text": [
            "100%|██████████| 938/938 [00:26<00:00, 35.74it/s, accuracy=0.969, loss=0.132, lr=1.42e-6]\n"
          ]
        },
        {
          "name": "stdout",
          "output_type": "stream",
          "text": [
            "Epoch 25, Val Loss: 0.1848339693603005, Val Accuracy: 0.9423765923566879\n"
          ]
        },
        {
          "name": "stderr",
          "output_type": "stream",
          "text": [
            "100%|██████████| 938/938 [00:25<00:00, 37.36it/s, accuracy=1, loss=0.0241, lr=1.13e-6]\n"
          ]
        },
        {
          "name": "stdout",
          "output_type": "stream",
          "text": [
            "Epoch 26, Val Loss: 0.18500668299532716, Val Accuracy: 0.9409832802547771\n"
          ]
        },
        {
          "name": "stderr",
          "output_type": "stream",
          "text": [
            "100%|██████████| 938/938 [00:24<00:00, 38.30it/s, accuracy=1, loss=0.0163, lr=9.07e-7]\n"
          ]
        },
        {
          "name": "stdout",
          "output_type": "stream",
          "text": [
            "Epoch 27, Val Loss: 0.18420227377076343, Val Accuracy: 0.9419785031847133\n"
          ]
        },
        {
          "name": "stderr",
          "output_type": "stream",
          "text": [
            "100%|██████████| 938/938 [00:26<00:00, 35.85it/s, accuracy=1, loss=0.0201, lr=7.25e-7]\n"
          ]
        },
        {
          "name": "stdout",
          "output_type": "stream",
          "text": [
            "Epoch 28, Val Loss: 0.1848468736146286, Val Accuracy: 0.9419785031847133\n"
          ]
        },
        {
          "name": "stderr",
          "output_type": "stream",
          "text": [
            "100%|██████████| 938/938 [00:24<00:00, 38.25it/s, accuracy=1, loss=0.022, lr=5.8e-7]\n"
          ]
        },
        {
          "name": "stdout",
          "output_type": "stream",
          "text": [
            "Epoch 29, Val Loss: 0.18369678232913753, Val Accuracy: 0.943172770700637\n"
          ]
        },
        {
          "name": "stderr",
          "output_type": "stream",
          "text": [
            "100%|██████████| 938/938 [00:26<00:00, 35.88it/s, accuracy=1, loss=0.0651, lr=4.64e-7]\n"
          ]
        },
        {
          "name": "stdout",
          "output_type": "stream",
          "text": [
            "Epoch 30, Val Loss: 0.18411059388712903, Val Accuracy: 0.9429737261146497\n",
            "LR: 0.0003 Gamma: 0.8 Hdim: 64 Best Accuracy: 0.943172770700637\n"
          ]
        },
        {
          "name": "stderr",
          "output_type": "stream",
          "text": [
            "100%|██████████| 938/938 [00:27<00:00, 34.01it/s, accuracy=0.625, loss=1.29, lr=0.0003]\n"
          ]
        },
        {
          "name": "stdout",
          "output_type": "stream",
          "text": [
            "Epoch 1, Val Loss: 1.2841877952502792, Val Accuracy: 0.6056926751592356\n"
          ]
        },
        {
          "name": "stderr",
          "output_type": "stream",
          "text": [
            "100%|██████████| 938/938 [00:26<00:00, 35.28it/s, accuracy=0.938, loss=0.346, lr=0.00024]\n"
          ]
        },
        {
          "name": "stdout",
          "output_type": "stream",
          "text": [
            "Epoch 2, Val Loss: 0.4709698890994309, Val Accuracy: 0.87609474522293\n"
          ]
        },
        {
          "name": "stderr",
          "output_type": "stream",
          "text": [
            "100%|██████████| 938/938 [00:25<00:00, 36.44it/s, accuracy=0.812, loss=0.476, lr=0.000192]\n"
          ]
        },
        {
          "name": "stdout",
          "output_type": "stream",
          "text": [
            "Epoch 3, Val Loss: 0.33122666849262394, Val Accuracy: 0.9110270700636943\n"
          ]
        },
        {
          "name": "stderr",
          "output_type": "stream",
          "text": [
            "100%|██████████| 938/938 [00:25<00:00, 36.32it/s, accuracy=0.938, loss=0.254, lr=0.000154]\n"
          ]
        },
        {
          "name": "stdout",
          "output_type": "stream",
          "text": [
            "Epoch 4, Val Loss: 0.29727547485262723, Val Accuracy: 0.9185907643312102\n"
          ]
        },
        {
          "name": "stderr",
          "output_type": "stream",
          "text": [
            "100%|██████████| 938/938 [00:26<00:00, 35.51it/s, accuracy=0.906, loss=0.526, lr=0.000123]\n"
          ]
        },
        {
          "name": "stdout",
          "output_type": "stream",
          "text": [
            "Epoch 5, Val Loss: 0.26133838949641985, Val Accuracy: 0.9240644904458599\n"
          ]
        },
        {
          "name": "stderr",
          "output_type": "stream",
          "text": [
            "100%|██████████| 938/938 [00:27<00:00, 34.63it/s, accuracy=0.969, loss=0.2, lr=9.83e-5]\n"
          ]
        },
        {
          "name": "stdout",
          "output_type": "stream",
          "text": [
            "Epoch 6, Val Loss: 0.24740378543212535, Val Accuracy: 0.9281449044585988\n"
          ]
        },
        {
          "name": "stderr",
          "output_type": "stream",
          "text": [
            "100%|██████████| 938/938 [00:25<00:00, 36.35it/s, accuracy=0.938, loss=0.187, lr=7.86e-5]\n"
          ]
        },
        {
          "name": "stdout",
          "output_type": "stream",
          "text": [
            "Epoch 7, Val Loss: 0.19043604606632025, Val Accuracy: 0.9434713375796179\n"
          ]
        },
        {
          "name": "stderr",
          "output_type": "stream",
          "text": [
            "100%|██████████| 938/938 [00:25<00:00, 36.78it/s, accuracy=1, loss=0.0644, lr=6.29e-5]\n"
          ]
        },
        {
          "name": "stdout",
          "output_type": "stream",
          "text": [
            "Epoch 8, Val Loss: 0.20168446887070965, Val Accuracy: 0.9389928343949044\n"
          ]
        },
        {
          "name": "stderr",
          "output_type": "stream",
          "text": [
            "100%|██████████| 938/938 [00:26<00:00, 34.89it/s, accuracy=0.969, loss=0.126, lr=5.03e-5]\n"
          ]
        },
        {
          "name": "stdout",
          "output_type": "stream",
          "text": [
            "Epoch 9, Val Loss: 0.17787639328403174, Val Accuracy: 0.9479498407643312\n"
          ]
        },
        {
          "name": "stderr",
          "output_type": "stream",
          "text": [
            "100%|██████████| 938/938 [00:26<00:00, 34.75it/s, accuracy=1, loss=0.0476, lr=4.03e-5]\n"
          ]
        },
        {
          "name": "stdout",
          "output_type": "stream",
          "text": [
            "Epoch 10, Val Loss: 0.17134357458810992, Val Accuracy: 0.9473527070063694\n"
          ]
        },
        {
          "name": "stderr",
          "output_type": "stream",
          "text": [
            "100%|██████████| 938/938 [00:25<00:00, 36.61it/s, accuracy=1, loss=0.0428, lr=3.22e-5]\n"
          ]
        },
        {
          "name": "stdout",
          "output_type": "stream",
          "text": [
            "Epoch 11, Val Loss: 0.16835785710851953, Val Accuracy: 0.9492436305732485\n"
          ]
        },
        {
          "name": "stderr",
          "output_type": "stream",
          "text": [
            "100%|██████████| 938/938 [00:26<00:00, 35.11it/s, accuracy=1, loss=0.0135, lr=2.58e-5]\n"
          ]
        },
        {
          "name": "stdout",
          "output_type": "stream",
          "text": [
            "Epoch 12, Val Loss: 0.15619495568595304, Val Accuracy: 0.9514331210191083\n"
          ]
        },
        {
          "name": "stderr",
          "output_type": "stream",
          "text": [
            "100%|██████████| 938/938 [00:26<00:00, 35.87it/s, accuracy=1, loss=0.0237, lr=2.06e-5]\n"
          ]
        },
        {
          "name": "stdout",
          "output_type": "stream",
          "text": [
            "Epoch 13, Val Loss: 0.1564941684712484, Val Accuracy: 0.9516321656050956\n"
          ]
        },
        {
          "name": "stderr",
          "output_type": "stream",
          "text": [
            "100%|██████████| 938/938 [00:26<00:00, 34.80it/s, accuracy=1, loss=0.027, lr=1.65e-5]\n"
          ]
        },
        {
          "name": "stdout",
          "output_type": "stream",
          "text": [
            "Epoch 14, Val Loss: 0.15189684141771334, Val Accuracy: 0.9543192675159236\n"
          ]
        },
        {
          "name": "stderr",
          "output_type": "stream",
          "text": [
            "100%|██████████| 938/938 [00:25<00:00, 36.35it/s, accuracy=1, loss=0.0365, lr=1.32e-5]\n"
          ]
        },
        {
          "name": "stdout",
          "output_type": "stream",
          "text": [
            "Epoch 15, Val Loss: 0.1494170005157424, Val Accuracy: 0.95421974522293\n"
          ]
        },
        {
          "name": "stderr",
          "output_type": "stream",
          "text": [
            "100%|██████████| 938/938 [00:25<00:00, 37.12it/s, accuracy=1, loss=0.028, lr=1.06e-5]\n"
          ]
        },
        {
          "name": "stdout",
          "output_type": "stream",
          "text": [
            "Epoch 16, Val Loss: 0.1487832280820544, Val Accuracy: 0.9534235668789809\n"
          ]
        },
        {
          "name": "stderr",
          "output_type": "stream",
          "text": [
            "100%|██████████| 938/938 [00:26<00:00, 35.65it/s, accuracy=1, loss=0.0088, lr=8.44e-6]\n"
          ]
        },
        {
          "name": "stdout",
          "output_type": "stream",
          "text": [
            "Epoch 17, Val Loss: 0.14871708944641576, Val Accuracy: 0.9539211783439491\n"
          ]
        },
        {
          "name": "stderr",
          "output_type": "stream",
          "text": [
            "100%|██████████| 938/938 [00:26<00:00, 35.67it/s, accuracy=1, loss=0.0269, lr=6.76e-6]\n"
          ]
        },
        {
          "name": "stdout",
          "output_type": "stream",
          "text": [
            "Epoch 18, Val Loss: 0.1466931896736537, Val Accuracy: 0.9535230891719745\n"
          ]
        },
        {
          "name": "stderr",
          "output_type": "stream",
          "text": [
            "100%|██████████| 938/938 [00:25<00:00, 36.97it/s, accuracy=1, loss=0.0279, lr=5.4e-6]\n"
          ]
        },
        {
          "name": "stdout",
          "output_type": "stream",
          "text": [
            "Epoch 19, Val Loss: 0.14847396758969303, Val Accuracy: 0.95421974522293\n"
          ]
        },
        {
          "name": "stderr",
          "output_type": "stream",
          "text": [
            "100%|██████████| 938/938 [00:25<00:00, 37.14it/s, accuracy=1, loss=0.00553, lr=4.32e-6]\n"
          ]
        },
        {
          "name": "stdout",
          "output_type": "stream",
          "text": [
            "Epoch 20, Val Loss: 0.1461166322696954, Val Accuracy: 0.9533240445859873\n"
          ]
        },
        {
          "name": "stderr",
          "output_type": "stream",
          "text": [
            "100%|██████████| 938/938 [00:26<00:00, 35.29it/s, accuracy=1, loss=0.0221, lr=3.46e-6]\n"
          ]
        },
        {
          "name": "stdout",
          "output_type": "stream",
          "text": [
            "Epoch 21, Val Loss: 0.14604427766909076, Val Accuracy: 0.9548168789808917\n"
          ]
        },
        {
          "name": "stderr",
          "output_type": "stream",
          "text": [
            "100%|██████████| 938/938 [00:26<00:00, 35.41it/s, accuracy=1, loss=0.0113, lr=2.77e-6]\n"
          ]
        },
        {
          "name": "stdout",
          "output_type": "stream",
          "text": [
            "Epoch 22, Val Loss: 0.14616517678784077, Val Accuracy: 0.95421974522293\n"
          ]
        },
        {
          "name": "stderr",
          "output_type": "stream",
          "text": [
            "100%|██████████| 938/938 [00:26<00:00, 35.81it/s, accuracy=1, loss=0.0141, lr=2.21e-6]\n"
          ]
        },
        {
          "name": "stdout",
          "output_type": "stream",
          "text": [
            "Epoch 23, Val Loss: 0.14642293856458466, Val Accuracy: 0.9540207006369427\n"
          ]
        },
        {
          "name": "stderr",
          "output_type": "stream",
          "text": [
            "100%|██████████| 938/938 [00:26<00:00, 35.90it/s, accuracy=1, loss=0.019, lr=1.77e-6]\n"
          ]
        },
        {
          "name": "stdout",
          "output_type": "stream",
          "text": [
            "Epoch 24, Val Loss: 0.14550489456923738, Val Accuracy: 0.9543192675159236\n"
          ]
        },
        {
          "name": "stderr",
          "output_type": "stream",
          "text": [
            "100%|██████████| 938/938 [00:27<00:00, 34.62it/s, accuracy=1, loss=0.00666, lr=1.42e-6]\n"
          ]
        },
        {
          "name": "stdout",
          "output_type": "stream",
          "text": [
            "Epoch 25, Val Loss: 0.14546680423448893, Val Accuracy: 0.9540207006369427\n"
          ]
        },
        {
          "name": "stderr",
          "output_type": "stream",
          "text": [
            "100%|██████████| 938/938 [00:26<00:00, 35.15it/s, accuracy=1, loss=0.00677, lr=1.13e-6]\n"
          ]
        },
        {
          "name": "stdout",
          "output_type": "stream",
          "text": [
            "Epoch 26, Val Loss: 0.14561376164320286, Val Accuracy: 0.9539211783439491\n"
          ]
        },
        {
          "name": "stderr",
          "output_type": "stream",
          "text": [
            "100%|██████████| 938/938 [00:26<00:00, 35.27it/s, accuracy=1, loss=0.0156, lr=9.07e-7]\n"
          ]
        },
        {
          "name": "stdout",
          "output_type": "stream",
          "text": [
            "Epoch 27, Val Loss: 0.1459799655705726, Val Accuracy: 0.9536226114649682\n"
          ]
        },
        {
          "name": "stderr",
          "output_type": "stream",
          "text": [
            "100%|██████████| 938/938 [00:26<00:00, 34.75it/s, accuracy=1, loss=0.00639, lr=7.25e-7]\n"
          ]
        },
        {
          "name": "stdout",
          "output_type": "stream",
          "text": [
            "Epoch 28, Val Loss: 0.145927850135519, Val Accuracy: 0.9541202229299363\n"
          ]
        },
        {
          "name": "stderr",
          "output_type": "stream",
          "text": [
            "100%|██████████| 938/938 [00:27<00:00, 34.28it/s, accuracy=1, loss=0.00984, lr=5.8e-7]\n"
          ]
        },
        {
          "name": "stdout",
          "output_type": "stream",
          "text": [
            "Epoch 29, Val Loss: 0.14601636904434176, Val Accuracy: 0.9538216560509554\n"
          ]
        },
        {
          "name": "stderr",
          "output_type": "stream",
          "text": [
            "100%|██████████| 938/938 [00:27<00:00, 34.44it/s, accuracy=1, loss=0.00823, lr=4.64e-7]\n"
          ]
        },
        {
          "name": "stdout",
          "output_type": "stream",
          "text": [
            "Epoch 30, Val Loss: 0.1460289601666651, Val Accuracy: 0.9540207006369427\n",
            "LR: 0.0003 Gamma: 0.8 Hdim: 128 Best Accuracy: 0.9548168789808917\n"
          ]
        },
        {
          "name": "stderr",
          "output_type": "stream",
          "text": [
            "100%|██████████| 938/938 [00:31<00:00, 30.20it/s, accuracy=0.875, loss=0.772, lr=0.0003]\n"
          ]
        },
        {
          "name": "stdout",
          "output_type": "stream",
          "text": [
            "Epoch 1, Val Loss: 0.9596581732391551, Val Accuracy: 0.731687898089172\n"
          ]
        },
        {
          "name": "stderr",
          "output_type": "stream",
          "text": [
            "100%|██████████| 938/938 [00:31<00:00, 29.69it/s, accuracy=0.75, loss=0.658, lr=0.00024]\n"
          ]
        },
        {
          "name": "stdout",
          "output_type": "stream",
          "text": [
            "Epoch 2, Val Loss: 0.4594303423621852, Val Accuracy: 0.8744028662420382\n"
          ]
        },
        {
          "name": "stderr",
          "output_type": "stream",
          "text": [
            "100%|██████████| 938/938 [00:32<00:00, 29.19it/s, accuracy=0.906, loss=0.282, lr=0.000192]\n"
          ]
        },
        {
          "name": "stdout",
          "output_type": "stream",
          "text": [
            "Epoch 3, Val Loss: 0.31774240490167766, Val Accuracy: 0.9077428343949044\n"
          ]
        },
        {
          "name": "stderr",
          "output_type": "stream",
          "text": [
            "100%|██████████| 938/938 [00:32<00:00, 28.66it/s, accuracy=0.812, loss=0.361, lr=0.000154]\n"
          ]
        },
        {
          "name": "stdout",
          "output_type": "stream",
          "text": [
            "Epoch 4, Val Loss: 0.2720087672684603, Val Accuracy: 0.9230692675159236\n"
          ]
        },
        {
          "name": "stderr",
          "output_type": "stream",
          "text": [
            "100%|██████████| 938/938 [00:31<00:00, 29.75it/s, accuracy=0.938, loss=0.219, lr=0.000123]\n"
          ]
        },
        {
          "name": "stdout",
          "output_type": "stream",
          "text": [
            "Epoch 5, Val Loss: 0.24441502620555033, Val Accuracy: 0.9268511146496815\n"
          ]
        },
        {
          "name": "stderr",
          "output_type": "stream",
          "text": [
            "100%|██████████| 938/938 [00:31<00:00, 30.13it/s, accuracy=1, loss=0.118, lr=9.83e-5]\n"
          ]
        },
        {
          "name": "stdout",
          "output_type": "stream",
          "text": [
            "Epoch 6, Val Loss: 0.20556974542107742, Val Accuracy: 0.9394904458598726\n"
          ]
        },
        {
          "name": "stderr",
          "output_type": "stream",
          "text": [
            "100%|██████████| 938/938 [00:31<00:00, 29.94it/s, accuracy=1, loss=0.0344, lr=7.86e-5]\n"
          ]
        },
        {
          "name": "stdout",
          "output_type": "stream",
          "text": [
            "Epoch 7, Val Loss: 0.1890498715405394, Val Accuracy: 0.942078025477707\n"
          ]
        },
        {
          "name": "stderr",
          "output_type": "stream",
          "text": [
            "100%|██████████| 938/938 [00:31<00:00, 30.18it/s, accuracy=1, loss=0.051, lr=6.29e-5]\n"
          ]
        },
        {
          "name": "stdout",
          "output_type": "stream",
          "text": [
            "Epoch 8, Val Loss: 0.18857445970035283, Val Accuracy: 0.9427746815286624\n"
          ]
        },
        {
          "name": "stderr",
          "output_type": "stream",
          "text": [
            "100%|██████████| 938/938 [00:31<00:00, 30.07it/s, accuracy=1, loss=0.0235, lr=5.03e-5]\n"
          ]
        },
        {
          "name": "stdout",
          "output_type": "stream",
          "text": [
            "Epoch 9, Val Loss: 0.17595846954863636, Val Accuracy: 0.9450636942675159\n"
          ]
        },
        {
          "name": "stderr",
          "output_type": "stream",
          "text": [
            "100%|██████████| 938/938 [00:31<00:00, 30.16it/s, accuracy=1, loss=0.0411, lr=4.03e-5]\n"
          ]
        },
        {
          "name": "stdout",
          "output_type": "stream",
          "text": [
            "Epoch 10, Val Loss: 0.16526593522103444, Val Accuracy: 0.9496417197452229\n"
          ]
        },
        {
          "name": "stderr",
          "output_type": "stream",
          "text": [
            "100%|██████████| 938/938 [00:30<00:00, 30.49it/s, accuracy=0.969, loss=0.0596, lr=3.22e-5]\n"
          ]
        },
        {
          "name": "stdout",
          "output_type": "stream",
          "text": [
            "Epoch 11, Val Loss: 0.1504281593329469, Val Accuracy: 0.9532245222929936\n"
          ]
        },
        {
          "name": "stderr",
          "output_type": "stream",
          "text": [
            "100%|██████████| 938/938 [00:30<00:00, 30.31it/s, accuracy=1, loss=0.0153, lr=2.58e-5]\n"
          ]
        },
        {
          "name": "stdout",
          "output_type": "stream",
          "text": [
            "Epoch 12, Val Loss: 0.15327630226891845, Val Accuracy: 0.9539211783439491\n"
          ]
        },
        {
          "name": "stderr",
          "output_type": "stream",
          "text": [
            "100%|██████████| 938/938 [00:31<00:00, 29.91it/s, accuracy=1, loss=0.017, lr=2.06e-5]\n"
          ]
        },
        {
          "name": "stdout",
          "output_type": "stream",
          "text": [
            "Epoch 13, Val Loss: 0.1451095869456222, Val Accuracy: 0.955015923566879\n"
          ]
        },
        {
          "name": "stderr",
          "output_type": "stream",
          "text": [
            "100%|██████████| 938/938 [00:31<00:00, 29.90it/s, accuracy=1, loss=0.0101, lr=1.65e-5]\n"
          ]
        },
        {
          "name": "stdout",
          "output_type": "stream",
          "text": [
            "Epoch 14, Val Loss: 0.146238845606204, Val Accuracy: 0.9552149681528662\n"
          ]
        },
        {
          "name": "stderr",
          "output_type": "stream",
          "text": [
            "100%|██████████| 938/938 [00:31<00:00, 30.06it/s, accuracy=1, loss=0.022, lr=1.32e-5]\n"
          ]
        },
        {
          "name": "stdout",
          "output_type": "stream",
          "text": [
            "Epoch 15, Val Loss: 0.14206727071825392, Val Accuracy: 0.9549164012738853\n"
          ]
        },
        {
          "name": "stderr",
          "output_type": "stream",
          "text": [
            "100%|██████████| 938/938 [00:30<00:00, 30.39it/s, accuracy=1, loss=0.0499, lr=1.06e-5]\n"
          ]
        },
        {
          "name": "stdout",
          "output_type": "stream",
          "text": [
            "Epoch 16, Val Loss: 0.1385486440171019, Val Accuracy: 0.955812101910828\n"
          ]
        },
        {
          "name": "stderr",
          "output_type": "stream",
          "text": [
            "100%|██████████| 938/938 [00:30<00:00, 30.44it/s, accuracy=1, loss=0.0292, lr=8.44e-6]\n"
          ]
        },
        {
          "name": "stdout",
          "output_type": "stream",
          "text": [
            "Epoch 17, Val Loss: 0.13974923863829036, Val Accuracy: 0.9559116242038217\n"
          ]
        },
        {
          "name": "stderr",
          "output_type": "stream",
          "text": [
            "100%|██████████| 938/938 [00:30<00:00, 30.56it/s, accuracy=1, loss=0.0099, lr=6.76e-6]\n"
          ]
        },
        {
          "name": "stdout",
          "output_type": "stream",
          "text": [
            "Epoch 18, Val Loss: 0.1383938331210357, Val Accuracy: 0.9556130573248408\n"
          ]
        },
        {
          "name": "stderr",
          "output_type": "stream",
          "text": [
            "100%|██████████| 938/938 [00:30<00:00, 30.86it/s, accuracy=1, loss=0.0106, lr=5.4e-6]\n"
          ]
        },
        {
          "name": "stdout",
          "output_type": "stream",
          "text": [
            "Epoch 19, Val Loss: 0.13909363545548575, Val Accuracy: 0.9574044585987261\n"
          ]
        },
        {
          "name": "stderr",
          "output_type": "stream",
          "text": [
            "100%|██████████| 938/938 [00:31<00:00, 30.07it/s, accuracy=1, loss=0.00793, lr=4.32e-6]\n"
          ]
        },
        {
          "name": "stdout",
          "output_type": "stream",
          "text": [
            "Epoch 20, Val Loss: 0.1386318200402804, Val Accuracy: 0.9564092356687898\n"
          ]
        },
        {
          "name": "stderr",
          "output_type": "stream",
          "text": [
            "100%|██████████| 938/938 [00:30<00:00, 30.47it/s, accuracy=1, loss=0.00559, lr=3.46e-6]\n"
          ]
        },
        {
          "name": "stdout",
          "output_type": "stream",
          "text": [
            "Epoch 21, Val Loss: 0.13931372034204767, Val Accuracy: 0.9556130573248408\n"
          ]
        },
        {
          "name": "stderr",
          "output_type": "stream",
          "text": [
            "100%|██████████| 938/938 [00:31<00:00, 29.81it/s, accuracy=1, loss=0.0147, lr=2.77e-6]\n"
          ]
        },
        {
          "name": "stdout",
          "output_type": "stream",
          "text": [
            "Epoch 22, Val Loss: 0.13893219801985843, Val Accuracy: 0.9562101910828026\n"
          ]
        },
        {
          "name": "stderr",
          "output_type": "stream",
          "text": [
            "100%|██████████| 938/938 [00:31<00:00, 30.03it/s, accuracy=1, loss=0.00868, lr=2.21e-6]\n"
          ]
        },
        {
          "name": "stdout",
          "output_type": "stream",
          "text": [
            "Epoch 23, Val Loss: 0.13869707693737357, Val Accuracy: 0.956906847133758\n"
          ]
        },
        {
          "name": "stderr",
          "output_type": "stream",
          "text": [
            "100%|██████████| 938/938 [00:31<00:00, 29.89it/s, accuracy=1, loss=0.0046, lr=1.77e-6]\n"
          ]
        },
        {
          "name": "stdout",
          "output_type": "stream",
          "text": [
            "Epoch 24, Val Loss: 0.13967334307807314, Val Accuracy: 0.9567078025477707\n"
          ]
        },
        {
          "name": "stderr",
          "output_type": "stream",
          "text": [
            "100%|██████████| 938/938 [00:32<00:00, 29.29it/s, accuracy=1, loss=0.00412, lr=1.42e-6]\n"
          ]
        },
        {
          "name": "stdout",
          "output_type": "stream",
          "text": [
            "Epoch 25, Val Loss: 0.13921641782637995, Val Accuracy: 0.9572054140127388\n"
          ]
        },
        {
          "name": "stderr",
          "output_type": "stream",
          "text": [
            "100%|██████████| 938/938 [00:31<00:00, 29.70it/s, accuracy=1, loss=0.00617, lr=1.13e-6]\n"
          ]
        },
        {
          "name": "stdout",
          "output_type": "stream",
          "text": [
            "Epoch 26, Val Loss: 0.13866338396710373, Val Accuracy: 0.9578025477707006\n"
          ]
        },
        {
          "name": "stderr",
          "output_type": "stream",
          "text": [
            "100%|██████████| 938/938 [00:30<00:00, 30.28it/s, accuracy=1, loss=0.00657, lr=9.07e-7]\n"
          ]
        },
        {
          "name": "stdout",
          "output_type": "stream",
          "text": [
            "Epoch 27, Val Loss: 0.1391262920435435, Val Accuracy: 0.9574044585987261\n"
          ]
        },
        {
          "name": "stderr",
          "output_type": "stream",
          "text": [
            "100%|██████████| 938/938 [00:31<00:00, 29.97it/s, accuracy=1, loss=0.00481, lr=7.25e-7]\n"
          ]
        },
        {
          "name": "stdout",
          "output_type": "stream",
          "text": [
            "Epoch 28, Val Loss: 0.13973818066015328, Val Accuracy: 0.9563097133757962\n"
          ]
        },
        {
          "name": "stderr",
          "output_type": "stream",
          "text": [
            "100%|██████████| 938/938 [00:30<00:00, 30.34it/s, accuracy=1, loss=0.00377, lr=5.8e-7]\n"
          ]
        },
        {
          "name": "stdout",
          "output_type": "stream",
          "text": [
            "Epoch 29, Val Loss: 0.1392827483456119, Val Accuracy: 0.9566082802547771\n"
          ]
        },
        {
          "name": "stderr",
          "output_type": "stream",
          "text": [
            "100%|██████████| 938/938 [00:30<00:00, 30.38it/s, accuracy=1, loss=0.0156, lr=4.64e-7]\n"
          ]
        },
        {
          "name": "stdout",
          "output_type": "stream",
          "text": [
            "Epoch 30, Val Loss: 0.13939081416813848, Val Accuracy: 0.9566082802547771\n",
            "LR: 0.0003 Gamma: 0.8 Hdim: 256 Best Accuracy: 0.9578025477707006\n"
          ]
        },
        {
          "name": "stderr",
          "output_type": "stream",
          "text": [
            "100%|██████████| 938/938 [00:25<00:00, 36.33it/s, accuracy=0.25, loss=2.01, lr=0.0003]\n"
          ]
        },
        {
          "name": "stdout",
          "output_type": "stream",
          "text": [
            "Epoch 1, Val Loss: 1.975625341105613, Val Accuracy: 0.29866640127388533\n"
          ]
        },
        {
          "name": "stderr",
          "output_type": "stream",
          "text": [
            "100%|██████████| 938/938 [00:25<00:00, 36.34it/s, accuracy=0.875, loss=0.768, lr=0.00027]\n"
          ]
        },
        {
          "name": "stdout",
          "output_type": "stream",
          "text": [
            "Epoch 2, Val Loss: 0.8652141572563512, Val Accuracy: 0.7847332802547771\n"
          ]
        },
        {
          "name": "stderr",
          "output_type": "stream",
          "text": [
            "100%|██████████| 938/938 [00:26<00:00, 35.32it/s, accuracy=0.812, loss=0.667, lr=0.000243]\n"
          ]
        },
        {
          "name": "stdout",
          "output_type": "stream",
          "text": [
            "Epoch 3, Val Loss: 0.48824567950455244, Val Accuracy: 0.8757961783439491\n"
          ]
        },
        {
          "name": "stderr",
          "output_type": "stream",
          "text": [
            "100%|██████████| 938/938 [00:25<00:00, 36.75it/s, accuracy=0.906, loss=0.21, lr=0.000219]\n"
          ]
        },
        {
          "name": "stdout",
          "output_type": "stream",
          "text": [
            "Epoch 4, Val Loss: 0.40856504800972665, Val Accuracy: 0.8892316878980892\n"
          ]
        },
        {
          "name": "stderr",
          "output_type": "stream",
          "text": [
            "100%|██████████| 938/938 [00:25<00:00, 37.03it/s, accuracy=0.781, loss=0.435, lr=0.000197]\n"
          ]
        },
        {
          "name": "stdout",
          "output_type": "stream",
          "text": [
            "Epoch 5, Val Loss: 0.38086982963571125, Val Accuracy: 0.9022691082802548\n"
          ]
        },
        {
          "name": "stderr",
          "output_type": "stream",
          "text": [
            "100%|██████████| 938/938 [00:27<00:00, 34.25it/s, accuracy=0.844, loss=0.442, lr=0.000177]\n"
          ]
        },
        {
          "name": "stdout",
          "output_type": "stream",
          "text": [
            "Epoch 6, Val Loss: 0.3069487035179594, Val Accuracy: 0.9130175159235668\n"
          ]
        },
        {
          "name": "stderr",
          "output_type": "stream",
          "text": [
            "100%|██████████| 938/938 [00:25<00:00, 36.43it/s, accuracy=0.969, loss=0.18, lr=0.000159]\n"
          ]
        },
        {
          "name": "stdout",
          "output_type": "stream",
          "text": [
            "Epoch 7, Val Loss: 0.26407951656373063, Val Accuracy: 0.9211783439490446\n"
          ]
        },
        {
          "name": "stderr",
          "output_type": "stream",
          "text": [
            "100%|██████████| 938/938 [00:24<00:00, 37.67it/s, accuracy=0.938, loss=0.213, lr=0.000143]\n"
          ]
        },
        {
          "name": "stdout",
          "output_type": "stream",
          "text": [
            "Epoch 8, Val Loss: 0.2506973281929827, Val Accuracy: 0.925656847133758\n"
          ]
        },
        {
          "name": "stderr",
          "output_type": "stream",
          "text": [
            "100%|██████████| 938/938 [00:26<00:00, 35.72it/s, accuracy=0.969, loss=0.186, lr=0.000129]\n"
          ]
        },
        {
          "name": "stdout",
          "output_type": "stream",
          "text": [
            "Epoch 9, Val Loss: 0.2350471153689228, Val Accuracy: 0.9314291401273885\n"
          ]
        },
        {
          "name": "stderr",
          "output_type": "stream",
          "text": [
            "100%|██████████| 938/938 [00:25<00:00, 36.12it/s, accuracy=1, loss=0.107, lr=0.000116]\n"
          ]
        },
        {
          "name": "stdout",
          "output_type": "stream",
          "text": [
            "Epoch 10, Val Loss: 0.23732188837840015, Val Accuracy: 0.9288415605095541\n"
          ]
        },
        {
          "name": "stderr",
          "output_type": "stream",
          "text": [
            "100%|██████████| 938/938 [00:25<00:00, 37.50it/s, accuracy=0.906, loss=0.229, lr=0.000105]\n"
          ]
        },
        {
          "name": "stdout",
          "output_type": "stream",
          "text": [
            "Epoch 11, Val Loss: 0.22713180397085514, Val Accuracy: 0.932921974522293\n"
          ]
        },
        {
          "name": "stderr",
          "output_type": "stream",
          "text": [
            "100%|██████████| 938/938 [00:26<00:00, 36.06it/s, accuracy=0.969, loss=0.116, lr=9.41e-5]\n"
          ]
        },
        {
          "name": "stdout",
          "output_type": "stream",
          "text": [
            "Epoch 12, Val Loss: 0.22208661216186584, Val Accuracy: 0.9325238853503185\n"
          ]
        },
        {
          "name": "stderr",
          "output_type": "stream",
          "text": [
            "100%|██████████| 938/938 [00:25<00:00, 36.68it/s, accuracy=0.938, loss=0.149, lr=8.47e-5]\n"
          ]
        },
        {
          "name": "stdout",
          "output_type": "stream",
          "text": [
            "Epoch 13, Val Loss: 0.20762561533339086, Val Accuracy: 0.9379976114649682\n"
          ]
        },
        {
          "name": "stderr",
          "output_type": "stream",
          "text": [
            "100%|██████████| 938/938 [00:25<00:00, 37.26it/s, accuracy=1, loss=0.0704, lr=7.63e-5]\n"
          ]
        },
        {
          "name": "stdout",
          "output_type": "stream",
          "text": [
            "Epoch 14, Val Loss: 0.22056999845299752, Val Accuracy: 0.9366042993630573\n"
          ]
        },
        {
          "name": "stderr",
          "output_type": "stream",
          "text": [
            "100%|██████████| 938/938 [00:26<00:00, 35.32it/s, accuracy=0.969, loss=0.0862, lr=6.86e-5]\n"
          ]
        },
        {
          "name": "stdout",
          "output_type": "stream",
          "text": [
            "Epoch 15, Val Loss: 0.2248058873614308, Val Accuracy: 0.9324243630573248\n"
          ]
        },
        {
          "name": "stderr",
          "output_type": "stream",
          "text": [
            "100%|██████████| 938/938 [00:24<00:00, 37.58it/s, accuracy=1, loss=0.0451, lr=6.18e-5]\n"
          ]
        },
        {
          "name": "stdout",
          "output_type": "stream",
          "text": [
            "Epoch 16, Val Loss: 0.2156820584067802, Val Accuracy: 0.9350119426751592\n"
          ]
        },
        {
          "name": "stderr",
          "output_type": "stream",
          "text": [
            "100%|██████████| 938/938 [00:24<00:00, 37.74it/s, accuracy=0.969, loss=0.0548, lr=5.56e-5]\n"
          ]
        },
        {
          "name": "stdout",
          "output_type": "stream",
          "text": [
            "Epoch 17, Val Loss: 0.2107692517452891, Val Accuracy: 0.9366042993630573\n"
          ]
        },
        {
          "name": "stderr",
          "output_type": "stream",
          "text": [
            "100%|██████████| 938/938 [00:26<00:00, 35.39it/s, accuracy=1, loss=0.0272, lr=5e-5]\n"
          ]
        },
        {
          "name": "stdout",
          "output_type": "stream",
          "text": [
            "Epoch 18, Val Loss: 0.21727180961003398, Val Accuracy: 0.9353105095541401\n"
          ]
        },
        {
          "name": "stderr",
          "output_type": "stream",
          "text": [
            "100%|██████████| 938/938 [00:26<00:00, 35.55it/s, accuracy=1, loss=0.0335, lr=4.5e-5]\n"
          ]
        },
        {
          "name": "stdout",
          "output_type": "stream",
          "text": [
            "Epoch 19, Val Loss: 0.21873469126060796, Val Accuracy: 0.9367038216560509\n"
          ]
        },
        {
          "name": "stderr",
          "output_type": "stream",
          "text": [
            "100%|██████████| 938/938 [00:25<00:00, 36.87it/s, accuracy=1, loss=0.0252, lr=4.05e-5]\n"
          ]
        },
        {
          "name": "stdout",
          "output_type": "stream",
          "text": [
            "Epoch 20, Val Loss: 0.21286921804788622, Val Accuracy: 0.9373009554140127\n"
          ]
        },
        {
          "name": "stderr",
          "output_type": "stream",
          "text": [
            "100%|██████████| 938/938 [00:26<00:00, 36.06it/s, accuracy=1, loss=0.0302, lr=3.65e-5]\n"
          ]
        },
        {
          "name": "stdout",
          "output_type": "stream",
          "text": [
            "Epoch 21, Val Loss: 0.21541778967348016, Val Accuracy: 0.9347133757961783\n"
          ]
        },
        {
          "name": "stderr",
          "output_type": "stream",
          "text": [
            "100%|██████████| 938/938 [00:24<00:00, 37.86it/s, accuracy=1, loss=0.0151, lr=3.28e-5]\n"
          ]
        },
        {
          "name": "stdout",
          "output_type": "stream",
          "text": [
            "Epoch 22, Val Loss: 0.2170983618481239, Val Accuracy: 0.9360071656050956\n"
          ]
        },
        {
          "name": "stderr",
          "output_type": "stream",
          "text": [
            "100%|██████████| 938/938 [00:25<00:00, 36.60it/s, accuracy=1, loss=0.0253, lr=2.95e-5]\n"
          ]
        },
        {
          "name": "stdout",
          "output_type": "stream",
          "text": [
            "Epoch 23, Val Loss: 0.2161394591223757, Val Accuracy: 0.9358081210191083\n"
          ]
        },
        {
          "name": "stderr",
          "output_type": "stream",
          "text": [
            "100%|██████████| 938/938 [00:25<00:00, 36.57it/s, accuracy=1, loss=0.0297, lr=2.66e-5]\n"
          ]
        },
        {
          "name": "stdout",
          "output_type": "stream",
          "text": [
            "Epoch 24, Val Loss: 0.21079811597818354, Val Accuracy: 0.9388933121019108\n"
          ]
        },
        {
          "name": "stderr",
          "output_type": "stream",
          "text": [
            "100%|██████████| 938/938 [00:25<00:00, 37.21it/s, accuracy=1, loss=0.0238, lr=2.39e-5]\n"
          ]
        },
        {
          "name": "stdout",
          "output_type": "stream",
          "text": [
            "Epoch 25, Val Loss: 0.21669288157043493, Val Accuracy: 0.9355095541401274\n"
          ]
        },
        {
          "name": "stderr",
          "output_type": "stream",
          "text": [
            "100%|██████████| 938/938 [00:25<00:00, 36.50it/s, accuracy=1, loss=0.00613, lr=2.15e-5]\n"
          ]
        },
        {
          "name": "stdout",
          "output_type": "stream",
          "text": [
            "Epoch 26, Val Loss: 0.21703250736374835, Val Accuracy: 0.9367038216560509\n"
          ]
        },
        {
          "name": "stderr",
          "output_type": "stream",
          "text": [
            "100%|██████████| 938/938 [00:25<00:00, 36.24it/s, accuracy=1, loss=0.00416, lr=1.94e-5]\n"
          ]
        },
        {
          "name": "stdout",
          "output_type": "stream",
          "text": [
            "Epoch 27, Val Loss: 0.21589333426346705, Val Accuracy: 0.9373009554140127\n"
          ]
        },
        {
          "name": "stderr",
          "output_type": "stream",
          "text": [
            "100%|██████████| 938/938 [00:24<00:00, 37.54it/s, accuracy=1, loss=0.00803, lr=1.74e-5]\n"
          ]
        },
        {
          "name": "stdout",
          "output_type": "stream",
          "text": [
            "Epoch 28, Val Loss: 0.21805743968846858, Val Accuracy: 0.9374004777070064\n"
          ]
        },
        {
          "name": "stderr",
          "output_type": "stream",
          "text": [
            "100%|██████████| 938/938 [00:26<00:00, 35.43it/s, accuracy=1, loss=0.0056, lr=1.57e-5]\n"
          ]
        },
        {
          "name": "stdout",
          "output_type": "stream",
          "text": [
            "Epoch 29, Val Loss: 0.21752906933050176, Val Accuracy: 0.9375995222929936\n"
          ]
        },
        {
          "name": "stderr",
          "output_type": "stream",
          "text": [
            "100%|██████████| 938/938 [00:25<00:00, 36.55it/s, accuracy=1, loss=0.0143, lr=1.41e-5]\n"
          ]
        },
        {
          "name": "stdout",
          "output_type": "stream",
          "text": [
            "Epoch 30, Val Loss: 0.21657482803885225, Val Accuracy: 0.9372014331210191\n",
            "LR: 0.0003 Gamma: 0.9 Hdim: 64 Best Accuracy: 0.9388933121019108\n"
          ]
        },
        {
          "name": "stderr",
          "output_type": "stream",
          "text": [
            "100%|██████████| 938/938 [00:27<00:00, 34.02it/s, accuracy=0.625, loss=1.29, lr=0.0003]\n"
          ]
        },
        {
          "name": "stdout",
          "output_type": "stream",
          "text": [
            "Epoch 1, Val Loss: 1.2841877952502792, Val Accuracy: 0.6056926751592356\n"
          ]
        },
        {
          "name": "stderr",
          "output_type": "stream",
          "text": [
            "100%|██████████| 938/938 [00:26<00:00, 35.97it/s, accuracy=0.906, loss=0.419, lr=0.00027]\n"
          ]
        },
        {
          "name": "stdout",
          "output_type": "stream",
          "text": [
            "Epoch 2, Val Loss: 0.5070404722622246, Val Accuracy: 0.8706210191082803\n"
          ]
        },
        {
          "name": "stderr",
          "output_type": "stream",
          "text": [
            "100%|██████████| 938/938 [00:27<00:00, 34.38it/s, accuracy=0.812, loss=0.52, lr=0.000243]\n"
          ]
        },
        {
          "name": "stdout",
          "output_type": "stream",
          "text": [
            "Epoch 3, Val Loss: 0.32709034090968453, Val Accuracy: 0.9102308917197452\n"
          ]
        },
        {
          "name": "stderr",
          "output_type": "stream",
          "text": [
            "100%|██████████| 938/938 [00:26<00:00, 34.81it/s, accuracy=0.938, loss=0.269, lr=0.000219]\n"
          ]
        },
        {
          "name": "stdout",
          "output_type": "stream",
          "text": [
            "Epoch 4, Val Loss: 0.2979550830497863, Val Accuracy: 0.9182921974522293\n"
          ]
        },
        {
          "name": "stderr",
          "output_type": "stream",
          "text": [
            "100%|██████████| 938/938 [00:26<00:00, 35.98it/s, accuracy=0.906, loss=0.533, lr=0.000197]\n"
          ]
        },
        {
          "name": "stdout",
          "output_type": "stream",
          "text": [
            "Epoch 5, Val Loss: 0.3520173486440804, Val Accuracy: 0.8974920382165605\n"
          ]
        },
        {
          "name": "stderr",
          "output_type": "stream",
          "text": [
            "100%|██████████| 938/938 [00:26<00:00, 35.95it/s, accuracy=0.906, loss=0.287, lr=0.000177]\n"
          ]
        },
        {
          "name": "stdout",
          "output_type": "stream",
          "text": [
            "Epoch 6, Val Loss: 0.33045475547955294, Val Accuracy: 0.8984872611464968\n"
          ]
        },
        {
          "name": "stderr",
          "output_type": "stream",
          "text": [
            "100%|██████████| 938/938 [00:26<00:00, 35.09it/s, accuracy=0.969, loss=0.153, lr=0.000159]\n"
          ]
        },
        {
          "name": "stdout",
          "output_type": "stream",
          "text": [
            "Epoch 7, Val Loss: 0.26680771218743293, Val Accuracy: 0.9217754777070064\n"
          ]
        },
        {
          "name": "stderr",
          "output_type": "stream",
          "text": [
            "100%|██████████| 938/938 [00:27<00:00, 33.74it/s, accuracy=1, loss=0.0719, lr=0.000143]\n"
          ]
        },
        {
          "name": "stdout",
          "output_type": "stream",
          "text": [
            "Epoch 8, Val Loss: 0.20643547749158683, Val Accuracy: 0.9371019108280255\n"
          ]
        },
        {
          "name": "stderr",
          "output_type": "stream",
          "text": [
            "100%|██████████| 938/938 [00:26<00:00, 34.81it/s, accuracy=0.938, loss=0.123, lr=0.000129]\n"
          ]
        },
        {
          "name": "stdout",
          "output_type": "stream",
          "text": [
            "Epoch 9, Val Loss: 0.22946239036217236, Val Accuracy: 0.9319267515923567\n"
          ]
        },
        {
          "name": "stderr",
          "output_type": "stream",
          "text": [
            "100%|██████████| 938/938 [00:26<00:00, 35.83it/s, accuracy=0.969, loss=0.0622, lr=0.000116]\n"
          ]
        },
        {
          "name": "stdout",
          "output_type": "stream",
          "text": [
            "Epoch 10, Val Loss: 0.1888940619352232, Val Accuracy: 0.9427746815286624\n"
          ]
        },
        {
          "name": "stderr",
          "output_type": "stream",
          "text": [
            "100%|██████████| 938/938 [00:26<00:00, 35.62it/s, accuracy=0.969, loss=0.0777, lr=0.000105]\n"
          ]
        },
        {
          "name": "stdout",
          "output_type": "stream",
          "text": [
            "Epoch 11, Val Loss: 0.18109160194256504, Val Accuracy: 0.9460589171974523\n"
          ]
        },
        {
          "name": "stderr",
          "output_type": "stream",
          "text": [
            "100%|██████████| 938/938 [00:27<00:00, 34.36it/s, accuracy=1, loss=0.0139, lr=9.41e-5]\n"
          ]
        },
        {
          "name": "stdout",
          "output_type": "stream",
          "text": [
            "Epoch 12, Val Loss: 0.17984678240338708, Val Accuracy: 0.9472531847133758\n"
          ]
        },
        {
          "name": "stderr",
          "output_type": "stream",
          "text": [
            "100%|██████████| 938/938 [00:28<00:00, 33.09it/s, accuracy=1, loss=0.0426, lr=8.47e-5]\n"
          ]
        },
        {
          "name": "stdout",
          "output_type": "stream",
          "text": [
            "Epoch 13, Val Loss: 0.1958819310667266, Val Accuracy: 0.9394904458598726\n"
          ]
        },
        {
          "name": "stderr",
          "output_type": "stream",
          "text": [
            "100%|██████████| 938/938 [00:26<00:00, 35.83it/s, accuracy=1, loss=0.0149, lr=7.63e-5]\n"
          ]
        },
        {
          "name": "stdout",
          "output_type": "stream",
          "text": [
            "Epoch 14, Val Loss: 0.17272236059378288, Val Accuracy: 0.948546974522293\n"
          ]
        },
        {
          "name": "stderr",
          "output_type": "stream",
          "text": [
            "100%|██████████| 938/938 [00:26<00:00, 36.00it/s, accuracy=1, loss=0.0293, lr=6.86e-5]\n"
          ]
        },
        {
          "name": "stdout",
          "output_type": "stream",
          "text": [
            "Epoch 15, Val Loss: 0.19422802497976857, Val Accuracy: 0.9413813694267515\n"
          ]
        },
        {
          "name": "stderr",
          "output_type": "stream",
          "text": [
            "100%|██████████| 938/938 [00:27<00:00, 34.06it/s, accuracy=1, loss=0.012, lr=6.18e-5]\n"
          ]
        },
        {
          "name": "stdout",
          "output_type": "stream",
          "text": [
            "Epoch 16, Val Loss: 0.17904869643200166, Val Accuracy: 0.9452627388535032\n"
          ]
        },
        {
          "name": "stderr",
          "output_type": "stream",
          "text": [
            "100%|██████████| 938/938 [00:26<00:00, 34.83it/s, accuracy=1, loss=0.0131, lr=5.56e-5]\n"
          ]
        },
        {
          "name": "stdout",
          "output_type": "stream",
          "text": [
            "Epoch 17, Val Loss: 0.19252712563997146, Val Accuracy: 0.9419785031847133\n"
          ]
        },
        {
          "name": "stderr",
          "output_type": "stream",
          "text": [
            "100%|██████████| 938/938 [00:26<00:00, 36.05it/s, accuracy=1, loss=0.0332, lr=5e-5]\n"
          ]
        },
        {
          "name": "stdout",
          "output_type": "stream",
          "text": [
            "Epoch 18, Val Loss: 0.16330368390082897, Val Accuracy: 0.9495421974522293\n"
          ]
        },
        {
          "name": "stderr",
          "output_type": "stream",
          "text": [
            "100%|██████████| 938/938 [00:26<00:00, 35.20it/s, accuracy=1, loss=0.0307, lr=4.5e-5]\n"
          ]
        },
        {
          "name": "stdout",
          "output_type": "stream",
          "text": [
            "Epoch 19, Val Loss: 0.17725288127860422, Val Accuracy: 0.9470541401273885\n"
          ]
        },
        {
          "name": "stderr",
          "output_type": "stream",
          "text": [
            "100%|██████████| 938/938 [00:27<00:00, 34.05it/s, accuracy=1, loss=0.00358, lr=4.05e-5]\n"
          ]
        },
        {
          "name": "stdout",
          "output_type": "stream",
          "text": [
            "Epoch 20, Val Loss: 0.16438850478282507, Val Accuracy: 0.9519307324840764\n"
          ]
        },
        {
          "name": "stderr",
          "output_type": "stream",
          "text": [
            "100%|██████████| 938/938 [00:28<00:00, 33.30it/s, accuracy=1, loss=0.0103, lr=3.65e-5]\n"
          ]
        },
        {
          "name": "stdout",
          "output_type": "stream",
          "text": [
            "Epoch 21, Val Loss: 0.1646341794922319, Val Accuracy: 0.9490445859872612\n"
          ]
        },
        {
          "name": "stderr",
          "output_type": "stream",
          "text": [
            "100%|██████████| 938/938 [00:26<00:00, 34.98it/s, accuracy=1, loss=0.00415, lr=3.28e-5]\n"
          ]
        },
        {
          "name": "stdout",
          "output_type": "stream",
          "text": [
            "Epoch 22, Val Loss: 0.16119914730175866, Val Accuracy: 0.9521297770700637\n"
          ]
        },
        {
          "name": "stderr",
          "output_type": "stream",
          "text": [
            "100%|██████████| 938/938 [00:26<00:00, 35.02it/s, accuracy=1, loss=0.00366, lr=2.95e-5]\n"
          ]
        },
        {
          "name": "stdout",
          "output_type": "stream",
          "text": [
            "Epoch 23, Val Loss: 0.16070806225101839, Val Accuracy: 0.9525278662420382\n"
          ]
        },
        {
          "name": "stderr",
          "output_type": "stream",
          "text": [
            "100%|██████████| 938/938 [00:26<00:00, 35.47it/s, accuracy=1, loss=0.00458, lr=2.66e-5]\n"
          ]
        },
        {
          "name": "stdout",
          "output_type": "stream",
          "text": [
            "Epoch 24, Val Loss: 0.16197947176191124, Val Accuracy: 0.9527269108280255\n"
          ]
        },
        {
          "name": "stderr",
          "output_type": "stream",
          "text": [
            "100%|██████████| 938/938 [00:29<00:00, 32.01it/s, accuracy=1, loss=0.00279, lr=2.39e-5]\n"
          ]
        },
        {
          "name": "stdout",
          "output_type": "stream",
          "text": [
            "Epoch 25, Val Loss: 0.16344670842291942, Val Accuracy: 0.9523288216560509\n"
          ]
        },
        {
          "name": "stderr",
          "output_type": "stream",
          "text": [
            "100%|██████████| 938/938 [00:27<00:00, 33.72it/s, accuracy=1, loss=0.00213, lr=2.15e-5]\n"
          ]
        },
        {
          "name": "stdout",
          "output_type": "stream",
          "text": [
            "Epoch 26, Val Loss: 0.1608029940164838, Val Accuracy: 0.953125\n"
          ]
        },
        {
          "name": "stderr",
          "output_type": "stream",
          "text": [
            "100%|██████████| 938/938 [00:28<00:00, 33.32it/s, accuracy=1, loss=0.00295, lr=1.94e-5]\n"
          ]
        },
        {
          "name": "stdout",
          "output_type": "stream",
          "text": [
            "Epoch 27, Val Loss: 0.16337401964564535, Val Accuracy: 0.9535230891719745\n"
          ]
        },
        {
          "name": "stderr",
          "output_type": "stream",
          "text": [
            "100%|██████████| 938/938 [00:26<00:00, 34.88it/s, accuracy=1, loss=0.00149, lr=1.74e-5]\n"
          ]
        },
        {
          "name": "stdout",
          "output_type": "stream",
          "text": [
            "Epoch 28, Val Loss: 0.1677274803746311, Val Accuracy: 0.9513335987261147\n"
          ]
        },
        {
          "name": "stderr",
          "output_type": "stream",
          "text": [
            "100%|██████████| 938/938 [00:25<00:00, 36.52it/s, accuracy=1, loss=0.00171, lr=1.57e-5]\n"
          ]
        },
        {
          "name": "stdout",
          "output_type": "stream",
          "text": [
            "Epoch 29, Val Loss: 0.16869634412011061, Val Accuracy: 0.9515326433121019\n"
          ]
        },
        {
          "name": "stderr",
          "output_type": "stream",
          "text": [
            "100%|██████████| 938/938 [00:27<00:00, 34.16it/s, accuracy=1, loss=0.000846, lr=1.41e-5]\n"
          ]
        },
        {
          "name": "stdout",
          "output_type": "stream",
          "text": [
            "Epoch 30, Val Loss: 0.1663292225885537, Val Accuracy: 0.9523288216560509\n",
            "LR: 0.0003 Gamma: 0.9 Hdim: 128 Best Accuracy: 0.9535230891719745\n"
          ]
        },
        {
          "name": "stderr",
          "output_type": "stream",
          "text": [
            "100%|██████████| 938/938 [00:30<00:00, 30.64it/s, accuracy=0.875, loss=0.772, lr=0.0003]\n"
          ]
        },
        {
          "name": "stdout",
          "output_type": "stream",
          "text": [
            "Epoch 1, Val Loss: 0.9596581732391551, Val Accuracy: 0.731687898089172\n"
          ]
        },
        {
          "name": "stderr",
          "output_type": "stream",
          "text": [
            "100%|██████████| 938/938 [00:29<00:00, 32.03it/s, accuracy=0.969, loss=0.38, lr=0.00027]\n"
          ]
        },
        {
          "name": "stdout",
          "output_type": "stream",
          "text": [
            "Epoch 2, Val Loss: 0.45681201842180486, Val Accuracy: 0.8763933121019108\n"
          ]
        },
        {
          "name": "stderr",
          "output_type": "stream",
          "text": [
            "100%|██████████| 938/938 [00:29<00:00, 32.03it/s, accuracy=0.969, loss=0.256, lr=0.000243]\n"
          ]
        },
        {
          "name": "stdout",
          "output_type": "stream",
          "text": [
            "Epoch 3, Val Loss: 0.349914511582654, Val Accuracy: 0.9026671974522293\n"
          ]
        },
        {
          "name": "stderr",
          "output_type": "stream",
          "text": [
            "100%|██████████| 938/938 [00:29<00:00, 32.29it/s, accuracy=0.906, loss=0.323, lr=0.000219]\n"
          ]
        },
        {
          "name": "stdout",
          "output_type": "stream",
          "text": [
            "Epoch 4, Val Loss: 0.3199188951521542, Val Accuracy: 0.9066480891719745\n"
          ]
        },
        {
          "name": "stderr",
          "output_type": "stream",
          "text": [
            "100%|██████████| 938/938 [00:29<00:00, 32.19it/s, accuracy=0.875, loss=0.323, lr=0.000197]\n"
          ]
        },
        {
          "name": "stdout",
          "output_type": "stream",
          "text": [
            "Epoch 5, Val Loss: 0.3176231851955508, Val Accuracy: 0.90734474522293\n"
          ]
        },
        {
          "name": "stderr",
          "output_type": "stream",
          "text": [
            "100%|██████████| 938/938 [00:29<00:00, 32.01it/s, accuracy=0.938, loss=0.266, lr=0.000177]\n"
          ]
        },
        {
          "name": "stdout",
          "output_type": "stream",
          "text": [
            "Epoch 6, Val Loss: 0.239821075384689, Val Accuracy: 0.9292396496815286\n"
          ]
        },
        {
          "name": "stderr",
          "output_type": "stream",
          "text": [
            "100%|██████████| 938/938 [00:31<00:00, 29.84it/s, accuracy=1, loss=0.0958, lr=0.000159]\n"
          ]
        },
        {
          "name": "stdout",
          "output_type": "stream",
          "text": [
            "Epoch 7, Val Loss: 0.2979084633195856, Val Accuracy: 0.9094347133757962\n"
          ]
        },
        {
          "name": "stderr",
          "output_type": "stream",
          "text": [
            "100%|██████████| 938/938 [00:30<00:00, 31.25it/s, accuracy=1, loss=0.0361, lr=0.000143]\n"
          ]
        },
        {
          "name": "stdout",
          "output_type": "stream",
          "text": [
            "Epoch 8, Val Loss: 0.21593632670653284, Val Accuracy: 0.9333200636942676\n"
          ]
        },
        {
          "name": "stderr",
          "output_type": "stream",
          "text": [
            "100%|██████████| 938/938 [00:30<00:00, 31.20it/s, accuracy=0.969, loss=0.0834, lr=0.000129]\n"
          ]
        },
        {
          "name": "stdout",
          "output_type": "stream",
          "text": [
            "Epoch 9, Val Loss: 0.2178553038863999, Val Accuracy: 0.9339171974522293\n"
          ]
        },
        {
          "name": "stderr",
          "output_type": "stream",
          "text": [
            "100%|██████████| 938/938 [00:30<00:00, 31.22it/s, accuracy=0.969, loss=0.0571, lr=0.000116]\n"
          ]
        },
        {
          "name": "stdout",
          "output_type": "stream",
          "text": [
            "Epoch 10, Val Loss: 0.19781280548021102, Val Accuracy: 0.9398885350318471\n"
          ]
        },
        {
          "name": "stderr",
          "output_type": "stream",
          "text": [
            "100%|██████████| 938/938 [00:30<00:00, 31.10it/s, accuracy=0.938, loss=0.227, lr=0.000105]\n"
          ]
        },
        {
          "name": "stdout",
          "output_type": "stream",
          "text": [
            "Epoch 11, Val Loss: 0.194514810343445, Val Accuracy: 0.9402866242038217\n"
          ]
        },
        {
          "name": "stderr",
          "output_type": "stream",
          "text": [
            "100%|██████████| 938/938 [00:30<00:00, 30.90it/s, accuracy=1, loss=0.0492, lr=9.41e-5]\n"
          ]
        },
        {
          "name": "stdout",
          "output_type": "stream",
          "text": [
            "Epoch 12, Val Loss: 0.1722928244312098, Val Accuracy: 0.9472531847133758\n"
          ]
        },
        {
          "name": "stderr",
          "output_type": "stream",
          "text": [
            "100%|██████████| 938/938 [00:30<00:00, 31.04it/s, accuracy=1, loss=0.018, lr=8.47e-5]\n"
          ]
        },
        {
          "name": "stdout",
          "output_type": "stream",
          "text": [
            "Epoch 13, Val Loss: 0.1707371601250592, Val Accuracy: 0.9467555732484076\n"
          ]
        },
        {
          "name": "stderr",
          "output_type": "stream",
          "text": [
            "100%|██████████| 938/938 [00:29<00:00, 31.46it/s, accuracy=1, loss=0.00732, lr=7.63e-5]\n"
          ]
        },
        {
          "name": "stdout",
          "output_type": "stream",
          "text": [
            "Epoch 14, Val Loss: 0.1654270944025391, Val Accuracy: 0.9501393312101911\n"
          ]
        },
        {
          "name": "stderr",
          "output_type": "stream",
          "text": [
            "100%|██████████| 938/938 [00:29<00:00, 31.68it/s, accuracy=1, loss=0.0233, lr=6.86e-5]\n"
          ]
        },
        {
          "name": "stdout",
          "output_type": "stream",
          "text": [
            "Epoch 15, Val Loss: 0.2025544647880753, Val Accuracy: 0.9389928343949044\n"
          ]
        },
        {
          "name": "stderr",
          "output_type": "stream",
          "text": [
            "100%|██████████| 938/938 [00:29<00:00, 31.68it/s, accuracy=1, loss=0.0209, lr=6.18e-5]\n"
          ]
        },
        {
          "name": "stdout",
          "output_type": "stream",
          "text": [
            "Epoch 16, Val Loss: 0.17126050065449516, Val Accuracy: 0.9475517515923567\n"
          ]
        },
        {
          "name": "stderr",
          "output_type": "stream",
          "text": [
            "100%|██████████| 938/938 [00:30<00:00, 31.25it/s, accuracy=1, loss=0.016, lr=5.56e-5]\n"
          ]
        },
        {
          "name": "stdout",
          "output_type": "stream",
          "text": [
            "Epoch 17, Val Loss: 0.1672179872677276, Val Accuracy: 0.9495421974522293\n"
          ]
        },
        {
          "name": "stderr",
          "output_type": "stream",
          "text": [
            "100%|██████████| 938/938 [00:31<00:00, 29.91it/s, accuracy=1, loss=0.00371, lr=5e-5]\n"
          ]
        },
        {
          "name": "stdout",
          "output_type": "stream",
          "text": [
            "Epoch 18, Val Loss: 0.16036445425065518, Val Accuracy: 0.9510350318471338\n"
          ]
        },
        {
          "name": "stderr",
          "output_type": "stream",
          "text": [
            "100%|██████████| 938/938 [00:29<00:00, 31.42it/s, accuracy=1, loss=0.00598, lr=4.5e-5]\n"
          ]
        },
        {
          "name": "stdout",
          "output_type": "stream",
          "text": [
            "Epoch 19, Val Loss: 0.16195410485512868, Val Accuracy: 0.9521297770700637\n"
          ]
        },
        {
          "name": "stderr",
          "output_type": "stream",
          "text": [
            "100%|██████████| 938/938 [00:29<00:00, 31.73it/s, accuracy=1, loss=0.0047, lr=4.05e-5]\n"
          ]
        },
        {
          "name": "stdout",
          "output_type": "stream",
          "text": [
            "Epoch 20, Val Loss: 0.1917084973753329, Val Accuracy: 0.9427746815286624\n"
          ]
        },
        {
          "name": "stderr",
          "output_type": "stream",
          "text": [
            "100%|██████████| 938/938 [00:29<00:00, 31.44it/s, accuracy=1, loss=0.00472, lr=3.65e-5]\n"
          ]
        },
        {
          "name": "stdout",
          "output_type": "stream",
          "text": [
            "Epoch 21, Val Loss: 0.1600426229615666, Val Accuracy: 0.9516321656050956\n"
          ]
        },
        {
          "name": "stderr",
          "output_type": "stream",
          "text": [
            "100%|██████████| 938/938 [00:29<00:00, 31.94it/s, accuracy=1, loss=0.00963, lr=3.28e-5]\n"
          ]
        },
        {
          "name": "stdout",
          "output_type": "stream",
          "text": [
            "Epoch 22, Val Loss: 0.15782298920505566, Val Accuracy: 0.9524283439490446\n"
          ]
        },
        {
          "name": "stderr",
          "output_type": "stream",
          "text": [
            "100%|██████████| 938/938 [00:28<00:00, 32.80it/s, accuracy=1, loss=0.0181, lr=2.95e-5]\n"
          ]
        },
        {
          "name": "stdout",
          "output_type": "stream",
          "text": [
            "Epoch 23, Val Loss: 0.16552173088165298, Val Accuracy: 0.9506369426751592\n"
          ]
        },
        {
          "name": "stderr",
          "output_type": "stream",
          "text": [
            "100%|██████████| 938/938 [00:28<00:00, 33.17it/s, accuracy=1, loss=0.00204, lr=2.66e-5]\n"
          ]
        },
        {
          "name": "stdout",
          "output_type": "stream",
          "text": [
            "Epoch 24, Val Loss: 0.15836213002460386, Val Accuracy: 0.9532245222929936\n"
          ]
        },
        {
          "name": "stderr",
          "output_type": "stream",
          "text": [
            "100%|██████████| 938/938 [00:28<00:00, 32.60it/s, accuracy=1, loss=0.000884, lr=2.39e-5]\n"
          ]
        },
        {
          "name": "stdout",
          "output_type": "stream",
          "text": [
            "Epoch 25, Val Loss: 0.15754280884799868, Val Accuracy: 0.9536226114649682\n"
          ]
        },
        {
          "name": "stderr",
          "output_type": "stream",
          "text": [
            "100%|██████████| 938/938 [00:28<00:00, 32.69it/s, accuracy=1, loss=0.00155, lr=2.15e-5]\n"
          ]
        },
        {
          "name": "stdout",
          "output_type": "stream",
          "text": [
            "Epoch 26, Val Loss: 0.1586756172278899, Val Accuracy: 0.9544187898089171\n"
          ]
        },
        {
          "name": "stderr",
          "output_type": "stream",
          "text": [
            "100%|██████████| 938/938 [00:29<00:00, 32.12it/s, accuracy=1, loss=0.00169, lr=1.94e-5]\n"
          ]
        },
        {
          "name": "stdout",
          "output_type": "stream",
          "text": [
            "Epoch 27, Val Loss: 0.16077047033153125, Val Accuracy: 0.9536226114649682\n"
          ]
        },
        {
          "name": "stderr",
          "output_type": "stream",
          "text": [
            "100%|██████████| 938/938 [00:29<00:00, 32.14it/s, accuracy=1, loss=0.00213, lr=1.74e-5]\n"
          ]
        },
        {
          "name": "stdout",
          "output_type": "stream",
          "text": [
            "Epoch 28, Val Loss: 0.16144642319918054, Val Accuracy: 0.9543192675159236\n"
          ]
        },
        {
          "name": "stderr",
          "output_type": "stream",
          "text": [
            "100%|██████████| 938/938 [00:30<00:00, 30.54it/s, accuracy=1, loss=0.000406, lr=1.57e-5]\n"
          ]
        },
        {
          "name": "stdout",
          "output_type": "stream",
          "text": [
            "Epoch 29, Val Loss: 0.1606314708404599, Val Accuracy: 0.9541202229299363\n"
          ]
        },
        {
          "name": "stderr",
          "output_type": "stream",
          "text": [
            "100%|██████████| 938/938 [00:29<00:00, 32.10it/s, accuracy=1, loss=0.00289, lr=1.41e-5]\n"
          ]
        },
        {
          "name": "stdout",
          "output_type": "stream",
          "text": [
            "Epoch 30, Val Loss: 0.1603144183387879, Val Accuracy: 0.9552149681528662\n",
            "LR: 0.0003 Gamma: 0.9 Hdim: 256 Best Accuracy: 0.9552149681528662\n"
          ]
        }
      ],
      "source": [
        "epochs = 30\n",
        "lrs = [1e-4, 2e-4, 3e-4, ]\n",
        "gammas = [0.8, 0.9]\n",
        "hdims = [64, 128, 256]\n",
        "best_accs = []\n",
        "for lr in lrs:\n",
        "    for gamma in gammas:\n",
        "        for hdim in hdims:\n",
        "            torch.manual_seed(42)\n",
        "            best_acc = 0\n",
        "            # Define model\n",
        "            model = FourierKAN(layers_hidden=[28 * 28, hdim, 10], grid_size=8)\n",
        "            device = torch.device(\"cuda\" if torch.cuda.is_available() else \"cpu\")\n",
        "            model.to(device)\n",
        "            # Define optimizer\n",
        "            optimizer = optim.AdamW(model.parameters(), lr=lr)\n",
        "            # Define learning rate scheduler\n",
        "            scheduler = optim.lr_scheduler.ExponentialLR(optimizer, gamma=gamma)\n",
        "\n",
        "            # Define loss\n",
        "            criterion = nn.CrossEntropyLoss()\n",
        "            for epoch in range(epochs):\n",
        "                # Train\n",
        "                model.train()\n",
        "                with tqdm(train_loader) as pbar:\n",
        "                    for i, (images, labels) in enumerate(pbar):\n",
        "                        images = images.view(-1, 28 * 28).to(device)\n",
        "                        optimizer.zero_grad()\n",
        "                        output = model(images)\n",
        "                        loss = criterion(output, labels.to(device))\n",
        "                        loss.backward()\n",
        "                        optimizer.step()\n",
        "                        accuracy = (output.argmax(dim=1) == labels.to(device)).float().mean()\n",
        "                        pbar.set_postfix(loss=loss.item(), accuracy=accuracy.item(), lr=optimizer.param_groups[0]['lr'])\n",
        "\n",
        "                # Validation\n",
        "                model.eval()\n",
        "                val_loss = 0\n",
        "                val_accuracy = 0\n",
        "                with torch.no_grad():\n",
        "                    for images, labels in val_loader:\n",
        "                        images = images.view(-1, 28 * 28).to(device)\n",
        "                        output = model(images)\n",
        "                        val_loss += criterion(output, labels.to(device)).item()\n",
        "                        val_accuracy += (\n",
        "                            (output.argmax(dim=1) == labels.to(device)).float().mean().item()\n",
        "                        )\n",
        "                val_loss /= len(val_loader)\n",
        "                val_accuracy /= len(val_loader)\n",
        "                if val_accuracy > best_acc:\n",
        "                    best_acc = val_accuracy\n",
        "\n",
        "                # Update learning rate\n",
        "                scheduler.step()\n",
        "\n",
        "                print(\n",
        "                    f\"Epoch {epoch + 1}, Val Loss: {val_loss}, Val Accuracy: {val_accuracy}\"\n",
        "                )\n",
        "            best_accs.append(best_acc)\n",
        "            print(f\"LR: {lr} Gamma: {gamma} Hdim: {hdim} Best Accuracy: {best_acc}\")"
      ]
    },
    {
      "cell_type": "code",
      "execution_count": null,
      "metadata": {
        "colab": {
          "background_save": true,
          "base_uri": "https://localhost:8080/"
        },
        "id": "HxaS2pjy0LnB",
        "outputId": "9c6949e8-b4c8-415e-93b9-3c5c403e3df4"
      },
      "outputs": [
        {
          "name": "stderr",
          "output_type": "stream",
          "text": [
            "100%|██████████| 938/938 [00:23<00:00, 40.48it/s, accuracy=0.719, loss=1.3, lr=0.0001]\n"
          ]
        },
        {
          "name": "stdout",
          "output_type": "stream",
          "text": [
            "Epoch 1, Val Loss: 1.0968678582246136, Val Accuracy: 0.6793391719745223\n"
          ]
        },
        {
          "name": "stderr",
          "output_type": "stream",
          "text": [
            "100%|██████████| 938/938 [00:20<00:00, 46.74it/s, accuracy=0.875, loss=0.598, lr=9e-5]\n"
          ]
        },
        {
          "name": "stdout",
          "output_type": "stream",
          "text": [
            "Epoch 2, Val Loss: 0.5249082095873584, Val Accuracy: 0.8628582802547771\n"
          ]
        },
        {
          "name": "stderr",
          "output_type": "stream",
          "text": [
            "100%|██████████| 938/938 [00:20<00:00, 44.92it/s, accuracy=0.875, loss=0.422, lr=8.1e-5]\n"
          ]
        },
        {
          "name": "stdout",
          "output_type": "stream",
          "text": [
            "Epoch 3, Val Loss: 0.3665117432547223, Val Accuracy: 0.8999800955414012\n"
          ]
        },
        {
          "name": "stderr",
          "output_type": "stream",
          "text": [
            "100%|██████████| 938/938 [00:21<00:00, 44.23it/s, accuracy=0.969, loss=0.234, lr=7.29e-5]\n"
          ]
        },
        {
          "name": "stdout",
          "output_type": "stream",
          "text": [
            "Epoch 4, Val Loss: 0.354349712657321, Val Accuracy: 0.90515525477707\n"
          ]
        },
        {
          "name": "stderr",
          "output_type": "stream",
          "text": [
            "100%|██████████| 938/938 [00:19<00:00, 47.43it/s, accuracy=0.906, loss=0.409, lr=6.56e-5]\n"
          ]
        },
        {
          "name": "stdout",
          "output_type": "stream",
          "text": [
            "Epoch 5, Val Loss: 0.31173813558972563, Val Accuracy: 0.9136146496815286\n"
          ]
        },
        {
          "name": "stderr",
          "output_type": "stream",
          "text": [
            "100%|██████████| 938/938 [00:21<00:00, 43.69it/s, accuracy=0.906, loss=0.261, lr=5.9e-5]\n"
          ]
        },
        {
          "name": "stdout",
          "output_type": "stream",
          "text": [
            "Epoch 6, Val Loss: 0.2877191441121754, Val Accuracy: 0.918093152866242\n"
          ]
        },
        {
          "name": "stderr",
          "output_type": "stream",
          "text": [
            "100%|██████████| 938/938 [00:20<00:00, 46.41it/s, accuracy=0.938, loss=0.199, lr=5.31e-5]\n"
          ]
        },
        {
          "name": "stdout",
          "output_type": "stream",
          "text": [
            "Epoch 7, Val Loss: 0.25919676187691415, Val Accuracy: 0.9250597133757962\n"
          ]
        },
        {
          "name": "stderr",
          "output_type": "stream",
          "text": [
            "100%|██████████| 938/938 [00:20<00:00, 44.80it/s, accuracy=0.875, loss=0.294, lr=4.78e-5]\n"
          ]
        },
        {
          "name": "stdout",
          "output_type": "stream",
          "text": [
            "Epoch 8, Val Loss: 0.24997467563078282, Val Accuracy: 0.927547770700637\n"
          ]
        },
        {
          "name": "stderr",
          "output_type": "stream",
          "text": [
            "100%|██████████| 938/938 [00:20<00:00, 45.49it/s, accuracy=0.969, loss=0.113, lr=4.3e-5]\n"
          ]
        },
        {
          "name": "stdout",
          "output_type": "stream",
          "text": [
            "Epoch 9, Val Loss: 0.22533171380733608, Val Accuracy: 0.9340167197452229\n"
          ]
        },
        {
          "name": "stderr",
          "output_type": "stream",
          "text": [
            "100%|██████████| 938/938 [00:20<00:00, 46.05it/s, accuracy=0.906, loss=0.322, lr=3.87e-5]\n"
          ]
        },
        {
          "name": "stdout",
          "output_type": "stream",
          "text": [
            "Epoch 10, Val Loss: 0.22181782624713933, Val Accuracy: 0.9327229299363057\n"
          ]
        },
        {
          "name": "stderr",
          "output_type": "stream",
          "text": [
            "100%|██████████| 938/938 [00:21<00:00, 43.12it/s, accuracy=0.969, loss=0.12, lr=3.49e-5]\n"
          ]
        },
        {
          "name": "stdout",
          "output_type": "stream",
          "text": [
            "Epoch 11, Val Loss: 0.1941634956391374, Val Accuracy: 0.9405851910828026\n"
          ]
        },
        {
          "name": "stderr",
          "output_type": "stream",
          "text": [
            "100%|██████████| 938/938 [00:19<00:00, 47.53it/s, accuracy=0.969, loss=0.109, lr=3.14e-5]\n"
          ]
        },
        {
          "name": "stdout",
          "output_type": "stream",
          "text": [
            "Epoch 12, Val Loss: 0.19488311684126877, Val Accuracy: 0.9409832802547771\n"
          ]
        },
        {
          "name": "stderr",
          "output_type": "stream",
          "text": [
            "100%|██████████| 938/938 [00:21<00:00, 44.38it/s, accuracy=0.969, loss=0.087, lr=2.82e-5]\n"
          ]
        },
        {
          "name": "stdout",
          "output_type": "stream",
          "text": [
            "Epoch 13, Val Loss: 0.1856889947240425, Val Accuracy: 0.9427746815286624\n"
          ]
        },
        {
          "name": "stderr",
          "output_type": "stream",
          "text": [
            "100%|██████████| 938/938 [00:19<00:00, 48.13it/s, accuracy=0.969, loss=0.0749, lr=2.54e-5]\n"
          ]
        },
        {
          "name": "stdout",
          "output_type": "stream",
          "text": [
            "Epoch 14, Val Loss: 0.18806669379104, Val Accuracy: 0.9444665605095541\n"
          ]
        },
        {
          "name": "stderr",
          "output_type": "stream",
          "text": [
            "100%|██████████| 938/938 [00:19<00:00, 47.11it/s, accuracy=1, loss=0.0335, lr=2.29e-5]\n"
          ]
        },
        {
          "name": "stdout",
          "output_type": "stream",
          "text": [
            "Epoch 15, Val Loss: 0.18555781026934362, Val Accuracy: 0.9396894904458599\n"
          ]
        },
        {
          "name": "stderr",
          "output_type": "stream",
          "text": [
            "100%|██████████| 938/938 [00:20<00:00, 44.98it/s, accuracy=1, loss=0.0156, lr=2.06e-5]\n"
          ]
        },
        {
          "name": "stdout",
          "output_type": "stream",
          "text": [
            "Epoch 16, Val Loss: 0.1785500526137555, Val Accuracy: 0.9438694267515924\n"
          ]
        },
        {
          "name": "stderr",
          "output_type": "stream",
          "text": [
            "100%|██████████| 938/938 [00:19<00:00, 47.10it/s, accuracy=1, loss=0.0305, lr=1.85e-5]\n"
          ]
        },
        {
          "name": "stdout",
          "output_type": "stream",
          "text": [
            "Epoch 17, Val Loss: 0.17592054809247898, Val Accuracy: 0.9445660828025477\n"
          ]
        },
        {
          "name": "stderr",
          "output_type": "stream",
          "text": [
            "100%|██████████| 938/938 [00:21<00:00, 44.32it/s, accuracy=1, loss=0.0538, lr=1.67e-5]\n"
          ]
        },
        {
          "name": "stdout",
          "output_type": "stream",
          "text": [
            "Epoch 18, Val Loss: 0.17645242596252755, Val Accuracy: 0.9436703821656051\n"
          ]
        },
        {
          "name": "stderr",
          "output_type": "stream",
          "text": [
            "100%|██████████| 938/938 [00:20<00:00, 46.45it/s, accuracy=1, loss=0.0199, lr=1.5e-5]\n"
          ]
        },
        {
          "name": "stdout",
          "output_type": "stream",
          "text": [
            "Epoch 19, Val Loss: 0.17112361443537483, Val Accuracy: 0.9469546178343949\n"
          ]
        },
        {
          "name": "stderr",
          "output_type": "stream",
          "text": [
            "100%|██████████| 938/938 [00:20<00:00, 46.82it/s, accuracy=1, loss=0.0172, lr=1.35e-5]\n"
          ]
        },
        {
          "name": "stdout",
          "output_type": "stream",
          "text": [
            "Epoch 20, Val Loss: 0.17381772390347283, Val Accuracy: 0.9478503184713376\n"
          ]
        },
        {
          "name": "stderr",
          "output_type": "stream",
          "text": [
            "100%|██████████| 938/938 [00:21<00:00, 43.58it/s, accuracy=1, loss=0.018, lr=1.22e-5]\n"
          ]
        },
        {
          "name": "stdout",
          "output_type": "stream",
          "text": [
            "Epoch 21, Val Loss: 0.1713233870850093, Val Accuracy: 0.9484474522292994\n"
          ]
        },
        {
          "name": "stderr",
          "output_type": "stream",
          "text": [
            "100%|██████████| 938/938 [00:20<00:00, 46.66it/s, accuracy=1, loss=0.0166, lr=1.09e-5]\n"
          ]
        },
        {
          "name": "stdout",
          "output_type": "stream",
          "text": [
            "Epoch 22, Val Loss: 0.17059161176365226, Val Accuracy: 0.9473527070063694\n"
          ]
        },
        {
          "name": "stderr",
          "output_type": "stream",
          "text": [
            "100%|██████████| 938/938 [00:21<00:00, 42.94it/s, accuracy=1, loss=0.0223, lr=9.85e-6]\n"
          ]
        },
        {
          "name": "stdout",
          "output_type": "stream",
          "text": [
            "Epoch 23, Val Loss: 0.17229666866237522, Val Accuracy: 0.9473527070063694\n"
          ]
        },
        {
          "name": "stderr",
          "output_type": "stream",
          "text": [
            "100%|██████████| 938/938 [00:20<00:00, 45.94it/s, accuracy=1, loss=0.0169, lr=8.86e-6]\n"
          ]
        },
        {
          "name": "stdout",
          "output_type": "stream",
          "text": [
            "Epoch 24, Val Loss: 0.17279741361738735, Val Accuracy: 0.9481488853503185\n"
          ]
        },
        {
          "name": "stderr",
          "output_type": "stream",
          "text": [
            "100%|██████████| 938/938 [00:20<00:00, 45.39it/s, accuracy=1, loss=0.0151, lr=7.98e-6]\n"
          ]
        },
        {
          "name": "stdout",
          "output_type": "stream",
          "text": [
            "Epoch 25, Val Loss: 0.17363934964349398, Val Accuracy: 0.9461584394904459\n"
          ]
        },
        {
          "name": "stderr",
          "output_type": "stream",
          "text": [
            "100%|██████████| 938/938 [00:20<00:00, 44.93it/s, accuracy=1, loss=0.00499, lr=7.18e-6]\n"
          ]
        },
        {
          "name": "stdout",
          "output_type": "stream",
          "text": [
            "Epoch 26, Val Loss: 0.17304274430802496, Val Accuracy: 0.947452229299363\n"
          ]
        },
        {
          "name": "stderr",
          "output_type": "stream",
          "text": [
            "100%|██████████| 938/938 [00:19<00:00, 47.01it/s, accuracy=1, loss=0.00322, lr=6.46e-6]\n"
          ]
        },
        {
          "name": "stdout",
          "output_type": "stream",
          "text": [
            "Epoch 27, Val Loss: 0.17232734517151324, Val Accuracy: 0.9475517515923567\n"
          ]
        },
        {
          "name": "stderr",
          "output_type": "stream",
          "text": [
            "100%|██████████| 938/938 [00:21<00:00, 43.18it/s, accuracy=1, loss=0.00362, lr=5.81e-6]\n"
          ]
        },
        {
          "name": "stdout",
          "output_type": "stream",
          "text": [
            "Epoch 28, Val Loss: 0.1768199814695592, Val Accuracy: 0.947452229299363\n"
          ]
        },
        {
          "name": "stderr",
          "output_type": "stream",
          "text": [
            "100%|██████████| 938/938 [00:19<00:00, 47.28it/s, accuracy=1, loss=0.00348, lr=5.23e-6]\n"
          ]
        },
        {
          "name": "stdout",
          "output_type": "stream",
          "text": [
            "Epoch 29, Val Loss: 0.17309367333970382, Val Accuracy: 0.9472531847133758\n"
          ]
        },
        {
          "name": "stderr",
          "output_type": "stream",
          "text": [
            "100%|██████████| 938/938 [00:21<00:00, 44.33it/s, accuracy=1, loss=0.00903, lr=4.71e-6]\n"
          ]
        },
        {
          "name": "stdout",
          "output_type": "stream",
          "text": [
            "Epoch 30, Val Loss: 0.17271828266923986, Val Accuracy: 0.947452229299363\n"
          ]
        },
        {
          "name": "stderr",
          "output_type": "stream",
          "text": [
            "100%|██████████| 938/938 [00:20<00:00, 46.80it/s, accuracy=0.594, loss=1.3, lr=0.0001]\n"
          ]
        },
        {
          "name": "stdout",
          "output_type": "stream",
          "text": [
            "Epoch 1, Val Loss: 1.1324166628965147, Val Accuracy: 0.6655055732484076\n"
          ]
        },
        {
          "name": "stderr",
          "output_type": "stream",
          "text": [
            "100%|██████████| 938/938 [00:19<00:00, 47.29it/s, accuracy=0.844, loss=0.518, lr=9e-5]\n"
          ]
        },
        {
          "name": "stdout",
          "output_type": "stream",
          "text": [
            "Epoch 2, Val Loss: 0.5343709731367743, Val Accuracy: 0.8581807324840764\n"
          ]
        },
        {
          "name": "stderr",
          "output_type": "stream",
          "text": [
            "100%|██████████| 938/938 [00:21<00:00, 44.28it/s, accuracy=0.812, loss=0.512, lr=8.1e-5]\n"
          ]
        },
        {
          "name": "stdout",
          "output_type": "stream",
          "text": [
            "Epoch 3, Val Loss: 0.41832030033040196, Val Accuracy: 0.8914211783439491\n"
          ]
        },
        {
          "name": "stderr",
          "output_type": "stream",
          "text": [
            "100%|██████████| 938/938 [00:20<00:00, 46.86it/s, accuracy=0.969, loss=0.21, lr=7.29e-5]\n"
          ]
        },
        {
          "name": "stdout",
          "output_type": "stream",
          "text": [
            "Epoch 4, Val Loss: 0.3825221086383625, Val Accuracy: 0.8968949044585988\n"
          ]
        },
        {
          "name": "stderr",
          "output_type": "stream",
          "text": [
            "100%|██████████| 938/938 [00:21<00:00, 43.48it/s, accuracy=0.875, loss=0.461, lr=6.56e-5]\n"
          ]
        },
        {
          "name": "stdout",
          "output_type": "stream",
          "text": [
            "Epoch 5, Val Loss: 0.30524253679119095, Val Accuracy: 0.9174960191082803\n"
          ]
        },
        {
          "name": "stderr",
          "output_type": "stream",
          "text": [
            "100%|██████████| 938/938 [00:21<00:00, 43.68it/s, accuracy=0.906, loss=0.276, lr=5.9e-5]\n"
          ]
        },
        {
          "name": "stdout",
          "output_type": "stream",
          "text": [
            "Epoch 6, Val Loss: 0.2573064161452708, Val Accuracy: 0.926453025477707\n"
          ]
        },
        {
          "name": "stderr",
          "output_type": "stream",
          "text": [
            "100%|██████████| 938/938 [00:20<00:00, 46.58it/s, accuracy=0.969, loss=0.187, lr=5.31e-5]\n"
          ]
        },
        {
          "name": "stdout",
          "output_type": "stream",
          "text": [
            "Epoch 7, Val Loss: 0.24011521775773756, Val Accuracy: 0.9288415605095541\n"
          ]
        },
        {
          "name": "stderr",
          "output_type": "stream",
          "text": [
            "100%|██████████| 938/938 [00:20<00:00, 44.83it/s, accuracy=0.812, loss=0.361, lr=4.78e-5]\n"
          ]
        },
        {
          "name": "stdout",
          "output_type": "stream",
          "text": [
            "Epoch 8, Val Loss: 0.23451906996690164, Val Accuracy: 0.9317277070063694\n"
          ]
        },
        {
          "name": "stderr",
          "output_type": "stream",
          "text": [
            "100%|██████████| 938/938 [00:19<00:00, 46.95it/s, accuracy=0.969, loss=0.118, lr=4.3e-5]\n"
          ]
        },
        {
          "name": "stdout",
          "output_type": "stream",
          "text": [
            "Epoch 9, Val Loss: 0.21591280743622096, Val Accuracy: 0.9366042993630573\n"
          ]
        },
        {
          "name": "stderr",
          "output_type": "stream",
          "text": [
            "100%|██████████| 938/938 [00:21<00:00, 44.18it/s, accuracy=0.938, loss=0.208, lr=3.87e-5]\n"
          ]
        },
        {
          "name": "stdout",
          "output_type": "stream",
          "text": [
            "Epoch 10, Val Loss: 0.2084089966289177, Val Accuracy: 0.9384952229299363\n"
          ]
        },
        {
          "name": "stderr",
          "output_type": "stream",
          "text": [
            "100%|██████████| 938/938 [00:20<00:00, 46.67it/s, accuracy=0.906, loss=0.323, lr=3.49e-5]\n"
          ]
        },
        {
          "name": "stdout",
          "output_type": "stream",
          "text": [
            "Epoch 11, Val Loss: 0.20686324661194233, Val Accuracy: 0.9384952229299363\n"
          ]
        },
        {
          "name": "stderr",
          "output_type": "stream",
          "text": [
            "100%|██████████| 938/938 [00:21<00:00, 43.80it/s, accuracy=0.969, loss=0.144, lr=3.14e-5]\n"
          ]
        },
        {
          "name": "stdout",
          "output_type": "stream",
          "text": [
            "Epoch 12, Val Loss: 0.1979788682411668, Val Accuracy: 0.9402866242038217\n"
          ]
        },
        {
          "name": "stderr",
          "output_type": "stream",
          "text": [
            "100%|██████████| 938/938 [00:19<00:00, 46.99it/s, accuracy=1, loss=0.0542, lr=2.82e-5]\n"
          ]
        },
        {
          "name": "stdout",
          "output_type": "stream",
          "text": [
            "Epoch 13, Val Loss: 0.18161429321856065, Val Accuracy: 0.9453622611464968\n"
          ]
        },
        {
          "name": "stderr",
          "output_type": "stream",
          "text": [
            "100%|██████████| 938/938 [00:20<00:00, 46.19it/s, accuracy=1, loss=0.0667, lr=2.54e-5]\n"
          ]
        },
        {
          "name": "stdout",
          "output_type": "stream",
          "text": [
            "Epoch 14, Val Loss: 0.18505794531220843, Val Accuracy: 0.945859872611465\n"
          ]
        },
        {
          "name": "stderr",
          "output_type": "stream",
          "text": [
            "100%|██████████| 938/938 [00:20<00:00, 45.14it/s, accuracy=1, loss=0.0776, lr=2.29e-5]\n"
          ]
        },
        {
          "name": "stdout",
          "output_type": "stream",
          "text": [
            "Epoch 15, Val Loss: 0.18305863496687286, Val Accuracy: 0.943172770700637\n"
          ]
        },
        {
          "name": "stderr",
          "output_type": "stream",
          "text": [
            "100%|██████████| 938/938 [00:20<00:00, 46.53it/s, accuracy=1, loss=0.0158, lr=2.06e-5]\n"
          ]
        },
        {
          "name": "stdout",
          "output_type": "stream",
          "text": [
            "Epoch 16, Val Loss: 0.18263966204586682, Val Accuracy: 0.9424761146496815\n"
          ]
        },
        {
          "name": "stderr",
          "output_type": "stream",
          "text": [
            "100%|██████████| 938/938 [00:21<00:00, 43.29it/s, accuracy=1, loss=0.0389, lr=1.85e-5]\n"
          ]
        },
        {
          "name": "stdout",
          "output_type": "stream",
          "text": [
            "Epoch 17, Val Loss: 0.1761807568406888, Val Accuracy: 0.9445660828025477\n"
          ]
        },
        {
          "name": "stderr",
          "output_type": "stream",
          "text": [
            "100%|██████████| 938/938 [00:20<00:00, 45.83it/s, accuracy=1, loss=0.0299, lr=1.67e-5]\n"
          ]
        },
        {
          "name": "stdout",
          "output_type": "stream",
          "text": [
            "Epoch 18, Val Loss: 0.17845597330356242, Val Accuracy: 0.9470541401273885\n"
          ]
        },
        {
          "name": "stderr",
          "output_type": "stream",
          "text": [
            "100%|██████████| 938/938 [00:21<00:00, 43.96it/s, accuracy=1, loss=0.0326, lr=1.5e-5]\n"
          ]
        },
        {
          "name": "stdout",
          "output_type": "stream",
          "text": [
            "Epoch 19, Val Loss: 0.17406425816985738, Val Accuracy: 0.9471536624203821\n"
          ]
        },
        {
          "name": "stderr",
          "output_type": "stream",
          "text": [
            "100%|██████████| 938/938 [00:20<00:00, 45.44it/s, accuracy=1, loss=0.029, lr=1.35e-5]\n"
          ]
        },
        {
          "name": "stdout",
          "output_type": "stream",
          "text": [
            "Epoch 20, Val Loss: 0.17257091506669048, Val Accuracy: 0.946656050955414\n"
          ]
        },
        {
          "name": "stderr",
          "output_type": "stream",
          "text": [
            "100%|██████████| 938/938 [00:20<00:00, 46.12it/s, accuracy=1, loss=0.023, lr=1.22e-5]\n"
          ]
        },
        {
          "name": "stdout",
          "output_type": "stream",
          "text": [
            "Epoch 21, Val Loss: 0.17306369808606306, Val Accuracy: 0.9479498407643312\n"
          ]
        },
        {
          "name": "stderr",
          "output_type": "stream",
          "text": [
            "100%|██████████| 938/938 [00:21<00:00, 42.95it/s, accuracy=1, loss=0.0143, lr=1.09e-5]\n"
          ]
        },
        {
          "name": "stdout",
          "output_type": "stream",
          "text": [
            "Epoch 22, Val Loss: 0.17687084485189455, Val Accuracy: 0.9451632165605095\n"
          ]
        },
        {
          "name": "stderr",
          "output_type": "stream",
          "text": [
            "100%|██████████| 938/938 [00:20<00:00, 46.44it/s, accuracy=1, loss=0.0246, lr=9.85e-6]\n"
          ]
        },
        {
          "name": "stdout",
          "output_type": "stream",
          "text": [
            "Epoch 23, Val Loss: 0.17331472838113596, Val Accuracy: 0.9477507961783439\n"
          ]
        },
        {
          "name": "stderr",
          "output_type": "stream",
          "text": [
            "100%|██████████| 938/938 [00:22<00:00, 41.56it/s, accuracy=1, loss=0.00771, lr=8.86e-6]\n"
          ]
        },
        {
          "name": "stdout",
          "output_type": "stream",
          "text": [
            "Epoch 24, Val Loss: 0.17093164990819207, Val Accuracy: 0.9471536624203821\n"
          ]
        },
        {
          "name": "stderr",
          "output_type": "stream",
          "text": [
            "100%|██████████| 938/938 [00:20<00:00, 46.70it/s, accuracy=1, loss=0.0237, lr=7.98e-6]\n"
          ]
        },
        {
          "name": "stdout",
          "output_type": "stream",
          "text": [
            "Epoch 25, Val Loss: 0.17048001834295193, Val Accuracy: 0.9492436305732485\n"
          ]
        },
        {
          "name": "stderr",
          "output_type": "stream",
          "text": [
            "100%|██████████| 938/938 [00:21<00:00, 44.00it/s, accuracy=1, loss=0.0062, lr=7.18e-6]\n"
          ]
        },
        {
          "name": "stdout",
          "output_type": "stream",
          "text": [
            "Epoch 26, Val Loss: 0.17195326887192738, Val Accuracy: 0.9494426751592356\n"
          ]
        },
        {
          "name": "stderr",
          "output_type": "stream",
          "text": [
            "100%|██████████| 938/938 [00:20<00:00, 46.86it/s, accuracy=1, loss=0.00335, lr=6.46e-6]\n"
          ]
        },
        {
          "name": "stdout",
          "output_type": "stream",
          "text": [
            "Epoch 27, Val Loss: 0.17021855858308826, Val Accuracy: 0.9473527070063694\n"
          ]
        },
        {
          "name": "stderr",
          "output_type": "stream",
          "text": [
            "100%|██████████| 938/938 [00:19<00:00, 47.46it/s, accuracy=1, loss=0.00379, lr=5.81e-6]\n"
          ]
        },
        {
          "name": "stdout",
          "output_type": "stream",
          "text": [
            "Epoch 28, Val Loss: 0.17092884877758918, Val Accuracy: 0.9478503184713376\n"
          ]
        },
        {
          "name": "stderr",
          "output_type": "stream",
          "text": [
            "100%|██████████| 938/938 [00:20<00:00, 45.19it/s, accuracy=1, loss=0.00348, lr=5.23e-6]\n"
          ]
        },
        {
          "name": "stdout",
          "output_type": "stream",
          "text": [
            "Epoch 29, Val Loss: 0.17090456387484862, Val Accuracy: 0.9487460191082803\n"
          ]
        },
        {
          "name": "stderr",
          "output_type": "stream",
          "text": [
            "100%|██████████| 938/938 [00:19<00:00, 47.16it/s, accuracy=1, loss=0.0119, lr=4.71e-6]\n"
          ]
        },
        {
          "name": "stdout",
          "output_type": "stream",
          "text": [
            "Epoch 30, Val Loss: 0.1717071341484886, Val Accuracy: 0.9490445859872612\n"
          ]
        },
        {
          "name": "stderr",
          "output_type": "stream",
          "text": [
            "100%|██████████| 938/938 [00:21<00:00, 43.76it/s, accuracy=0.656, loss=1.18, lr=0.0001]\n"
          ]
        },
        {
          "name": "stdout",
          "output_type": "stream",
          "text": [
            "Epoch 1, Val Loss: 1.0374603795397812, Val Accuracy: 0.7088972929936306\n"
          ]
        },
        {
          "name": "stderr",
          "output_type": "stream",
          "text": [
            "100%|██████████| 938/938 [00:19<00:00, 47.12it/s, accuracy=0.906, loss=0.473, lr=9e-5]\n"
          ]
        },
        {
          "name": "stdout",
          "output_type": "stream",
          "text": [
            "Epoch 2, Val Loss: 0.5212332664211844, Val Accuracy: 0.8661425159235668\n"
          ]
        },
        {
          "name": "stderr",
          "output_type": "stream",
          "text": [
            "100%|██████████| 938/938 [00:21<00:00, 43.59it/s, accuracy=0.844, loss=0.474, lr=8.1e-5]\n"
          ]
        },
        {
          "name": "stdout",
          "output_type": "stream",
          "text": [
            "Epoch 3, Val Loss: 0.3943412094169362, Val Accuracy: 0.8973925159235668\n"
          ]
        },
        {
          "name": "stderr",
          "output_type": "stream",
          "text": [
            "100%|██████████| 938/938 [00:20<00:00, 46.43it/s, accuracy=1, loss=0.155, lr=7.29e-5]\n"
          ]
        },
        {
          "name": "stdout",
          "output_type": "stream",
          "text": [
            "Epoch 4, Val Loss: 0.33991574624161813, Val Accuracy: 0.9111265923566879\n"
          ]
        },
        {
          "name": "stderr",
          "output_type": "stream",
          "text": [
            "100%|██████████| 938/938 [00:20<00:00, 46.05it/s, accuracy=0.906, loss=0.306, lr=6.56e-5]\n"
          ]
        },
        {
          "name": "stdout",
          "output_type": "stream",
          "text": [
            "Epoch 5, Val Loss: 0.28804452036311673, Val Accuracy: 0.9195859872611465\n"
          ]
        },
        {
          "name": "stderr",
          "output_type": "stream",
          "text": [
            "100%|██████████| 938/938 [00:21<00:00, 43.42it/s, accuracy=0.938, loss=0.311, lr=5.9e-5]\n"
          ]
        },
        {
          "name": "stdout",
          "output_type": "stream",
          "text": [
            "Epoch 6, Val Loss: 0.2480740194938555, Val Accuracy: 0.9285429936305732\n"
          ]
        },
        {
          "name": "stderr",
          "output_type": "stream",
          "text": [
            "100%|██████████| 938/938 [00:20<00:00, 46.42it/s, accuracy=0.969, loss=0.201, lr=5.31e-5]\n"
          ]
        },
        {
          "name": "stdout",
          "output_type": "stream",
          "text": [
            "Epoch 7, Val Loss: 0.23883860418276423, Val Accuracy: 0.9311305732484076\n"
          ]
        },
        {
          "name": "stderr",
          "output_type": "stream",
          "text": [
            "100%|██████████| 938/938 [00:21<00:00, 43.46it/s, accuracy=0.906, loss=0.213, lr=4.78e-5]\n"
          ]
        },
        {
          "name": "stdout",
          "output_type": "stream",
          "text": [
            "Epoch 8, Val Loss: 0.22343009724548668, Val Accuracy: 0.935609076433121\n"
          ]
        },
        {
          "name": "stderr",
          "output_type": "stream",
          "text": [
            "100%|██████████| 938/938 [00:19<00:00, 47.03it/s, accuracy=1, loss=0.125, lr=4.3e-5]\n"
          ]
        },
        {
          "name": "stdout",
          "output_type": "stream",
          "text": [
            "Epoch 9, Val Loss: 0.19356147520196665, Val Accuracy: 0.9417794585987261\n"
          ]
        },
        {
          "name": "stderr",
          "output_type": "stream",
          "text": [
            "100%|██████████| 938/938 [00:20<00:00, 44.67it/s, accuracy=0.938, loss=0.166, lr=3.87e-5]\n"
          ]
        },
        {
          "name": "stdout",
          "output_type": "stream",
          "text": [
            "Epoch 10, Val Loss: 0.19342353982127206, Val Accuracy: 0.9414808917197452\n"
          ]
        },
        {
          "name": "stderr",
          "output_type": "stream",
          "text": [
            "100%|██████████| 938/938 [00:19<00:00, 47.22it/s, accuracy=0.906, loss=0.114, lr=3.49e-5]\n"
          ]
        },
        {
          "name": "stdout",
          "output_type": "stream",
          "text": [
            "Epoch 11, Val Loss: 0.1982125068338481, Val Accuracy: 0.9408837579617835\n"
          ]
        },
        {
          "name": "stderr",
          "output_type": "stream",
          "text": [
            "100%|██████████| 938/938 [00:21<00:00, 43.30it/s, accuracy=1, loss=0.0641, lr=3.14e-5]\n"
          ]
        },
        {
          "name": "stdout",
          "output_type": "stream",
          "text": [
            "Epoch 12, Val Loss: 0.17946515319228268, Val Accuracy: 0.9463574840764332\n"
          ]
        },
        {
          "name": "stderr",
          "output_type": "stream",
          "text": [
            "100%|██████████| 938/938 [00:21<00:00, 43.95it/s, accuracy=0.969, loss=0.0502, lr=2.82e-5]\n"
          ]
        },
        {
          "name": "stdout",
          "output_type": "stream",
          "text": [
            "Epoch 13, Val Loss: 0.17094941391271484, Val Accuracy: 0.9499402866242038\n"
          ]
        },
        {
          "name": "stderr",
          "output_type": "stream",
          "text": [
            "100%|██████████| 938/938 [00:19<00:00, 47.22it/s, accuracy=1, loss=0.049, lr=2.54e-5]\n"
          ]
        },
        {
          "name": "stdout",
          "output_type": "stream",
          "text": [
            "Epoch 14, Val Loss: 0.16965838924649462, Val Accuracy: 0.9498407643312102\n"
          ]
        },
        {
          "name": "stderr",
          "output_type": "stream",
          "text": [
            "100%|██████████| 938/938 [00:21<00:00, 43.91it/s, accuracy=1, loss=0.0386, lr=2.29e-5]\n"
          ]
        },
        {
          "name": "stdout",
          "output_type": "stream",
          "text": [
            "Epoch 15, Val Loss: 0.16560242434883501, Val Accuracy: 0.9494426751592356\n"
          ]
        },
        {
          "name": "stderr",
          "output_type": "stream",
          "text": [
            "100%|██████████| 938/938 [00:19<00:00, 46.99it/s, accuracy=1, loss=0.0179, lr=2.06e-5]\n"
          ]
        },
        {
          "name": "stdout",
          "output_type": "stream",
          "text": [
            "Epoch 16, Val Loss: 0.1632785887092613, Val Accuracy: 0.9503383757961783\n"
          ]
        },
        {
          "name": "stderr",
          "output_type": "stream",
          "text": [
            "100%|██████████| 938/938 [00:21<00:00, 44.16it/s, accuracy=1, loss=0.0466, lr=1.85e-5]\n"
          ]
        },
        {
          "name": "stdout",
          "output_type": "stream",
          "text": [
            "Epoch 17, Val Loss: 0.16232484841799352, Val Accuracy: 0.9510350318471338\n"
          ]
        },
        {
          "name": "stderr",
          "output_type": "stream",
          "text": [
            "100%|██████████| 938/938 [00:19<00:00, 47.05it/s, accuracy=1, loss=0.0365, lr=1.67e-5]\n"
          ]
        },
        {
          "name": "stdout",
          "output_type": "stream",
          "text": [
            "Epoch 18, Val Loss: 0.16336934318599902, Val Accuracy: 0.9491441082802548\n"
          ]
        },
        {
          "name": "stderr",
          "output_type": "stream",
          "text": [
            "100%|██████████| 938/938 [00:20<00:00, 46.32it/s, accuracy=1, loss=0.0215, lr=1.5e-5]\n"
          ]
        },
        {
          "name": "stdout",
          "output_type": "stream",
          "text": [
            "Epoch 19, Val Loss: 0.16261787091123805, Val Accuracy: 0.950437898089172\n"
          ]
        },
        {
          "name": "stderr",
          "output_type": "stream",
          "text": [
            "100%|██████████| 938/938 [00:20<00:00, 45.20it/s, accuracy=1, loss=0.019, lr=1.35e-5]\n"
          ]
        },
        {
          "name": "stdout",
          "output_type": "stream",
          "text": [
            "Epoch 20, Val Loss: 0.16038586252819817, Val Accuracy: 0.9506369426751592\n"
          ]
        },
        {
          "name": "stderr",
          "output_type": "stream",
          "text": [
            "100%|██████████| 938/938 [00:19<00:00, 47.34it/s, accuracy=1, loss=0.0211, lr=1.22e-5]\n"
          ]
        },
        {
          "name": "stdout",
          "output_type": "stream",
          "text": [
            "Epoch 21, Val Loss: 0.1598640674618399, Val Accuracy: 0.9518312101910829\n"
          ]
        },
        {
          "name": "stderr",
          "output_type": "stream",
          "text": [
            "100%|██████████| 938/938 [00:21<00:00, 44.21it/s, accuracy=1, loss=0.0166, lr=1.09e-5]\n"
          ]
        },
        {
          "name": "stdout",
          "output_type": "stream",
          "text": [
            "Epoch 22, Val Loss: 0.15966382514534128, Val Accuracy: 0.9523288216560509\n"
          ]
        },
        {
          "name": "stderr",
          "output_type": "stream",
          "text": [
            "100%|██████████| 938/938 [00:20<00:00, 46.71it/s, accuracy=1, loss=0.0126, lr=9.85e-6]\n"
          ]
        },
        {
          "name": "stdout",
          "output_type": "stream",
          "text": [
            "Epoch 23, Val Loss: 0.15887714600877148, Val Accuracy: 0.9529259554140127\n"
          ]
        },
        {
          "name": "stderr",
          "output_type": "stream",
          "text": [
            "100%|██████████| 938/938 [00:21<00:00, 44.00it/s, accuracy=1, loss=0.0102, lr=8.86e-6]\n"
          ]
        },
        {
          "name": "stdout",
          "output_type": "stream",
          "text": [
            "Epoch 24, Val Loss: 0.15861286484350148, Val Accuracy: 0.95203025477707\n"
          ]
        },
        {
          "name": "stderr",
          "output_type": "stream",
          "text": [
            "100%|██████████| 938/938 [00:20<00:00, 46.65it/s, accuracy=1, loss=0.0125, lr=7.98e-6]\n"
          ]
        },
        {
          "name": "stdout",
          "output_type": "stream",
          "text": [
            "Epoch 25, Val Loss: 0.1588521490031468, Val Accuracy: 0.9518312101910829\n"
          ]
        },
        {
          "name": "stderr",
          "output_type": "stream",
          "text": [
            "100%|██████████| 938/938 [00:20<00:00, 44.93it/s, accuracy=1, loss=0.00411, lr=7.18e-6]\n"
          ]
        },
        {
          "name": "stdout",
          "output_type": "stream",
          "text": [
            "Epoch 26, Val Loss: 0.16179062735480643, Val Accuracy: 0.9510350318471338\n"
          ]
        },
        {
          "name": "stderr",
          "output_type": "stream",
          "text": [
            "100%|██████████| 938/938 [00:19<00:00, 47.15it/s, accuracy=1, loss=0.00335, lr=6.46e-6]\n"
          ]
        },
        {
          "name": "stdout",
          "output_type": "stream",
          "text": [
            "Epoch 27, Val Loss: 0.15989063766630734, Val Accuracy: 0.951234076433121\n"
          ]
        },
        {
          "name": "stderr",
          "output_type": "stream",
          "text": [
            "100%|██████████| 938/938 [00:20<00:00, 46.40it/s, accuracy=1, loss=0.00553, lr=5.81e-6]\n"
          ]
        },
        {
          "name": "stdout",
          "output_type": "stream",
          "text": [
            "Epoch 28, Val Loss: 0.16427197456000237, Val Accuracy: 0.9507364649681529\n"
          ]
        },
        {
          "name": "stderr",
          "output_type": "stream",
          "text": [
            "100%|██████████| 938/938 [00:20<00:00, 44.82it/s, accuracy=1, loss=0.00228, lr=5.23e-6]\n"
          ]
        },
        {
          "name": "stdout",
          "output_type": "stream",
          "text": [
            "Epoch 29, Val Loss: 0.16041002892718537, Val Accuracy: 0.95203025477707\n"
          ]
        },
        {
          "name": "stderr",
          "output_type": "stream",
          "text": [
            "100%|██████████| 938/938 [00:20<00:00, 46.07it/s, accuracy=1, loss=0.00893, lr=4.71e-6]\n"
          ]
        },
        {
          "name": "stdout",
          "output_type": "stream",
          "text": [
            "Epoch 30, Val Loss: 0.16171174212844575, Val Accuracy: 0.9514331210191083\n"
          ]
        },
        {
          "name": "stderr",
          "output_type": "stream",
          "text": [
            "100%|██████████| 938/938 [00:23<00:00, 40.67it/s, accuracy=0.656, loss=1.25, lr=0.0001]\n"
          ]
        },
        {
          "name": "stdout",
          "output_type": "stream",
          "text": [
            "Epoch 1, Val Loss: 0.9238575355262514, Val Accuracy: 0.7450238853503185\n"
          ]
        },
        {
          "name": "stderr",
          "output_type": "stream",
          "text": [
            "100%|██████████| 938/938 [00:20<00:00, 46.47it/s, accuracy=0.844, loss=0.504, lr=9e-5]\n"
          ]
        },
        {
          "name": "stdout",
          "output_type": "stream",
          "text": [
            "Epoch 2, Val Loss: 0.4674957142134381, Val Accuracy: 0.8805732484076433\n"
          ]
        },
        {
          "name": "stderr",
          "output_type": "stream",
          "text": [
            "100%|██████████| 938/938 [00:21<00:00, 43.54it/s, accuracy=0.844, loss=0.401, lr=8.1e-5]\n"
          ]
        },
        {
          "name": "stdout",
          "output_type": "stream",
          "text": [
            "Epoch 3, Val Loss: 0.34918762722117885, Val Accuracy: 0.9064490445859873\n"
          ]
        },
        {
          "name": "stderr",
          "output_type": "stream",
          "text": [
            "100%|██████████| 938/938 [00:20<00:00, 46.26it/s, accuracy=0.938, loss=0.253, lr=7.29e-5]\n"
          ]
        },
        {
          "name": "stdout",
          "output_type": "stream",
          "text": [
            "Epoch 4, Val Loss: 0.3110523005816967, Val Accuracy: 0.9158041401273885\n"
          ]
        },
        {
          "name": "stderr",
          "output_type": "stream",
          "text": [
            "100%|██████████| 938/938 [00:20<00:00, 44.69it/s, accuracy=0.906, loss=0.319, lr=6.56e-5]\n"
          ]
        },
        {
          "name": "stdout",
          "output_type": "stream",
          "text": [
            "Epoch 5, Val Loss: 0.26261004147113887, Val Accuracy: 0.926453025477707\n"
          ]
        },
        {
          "name": "stderr",
          "output_type": "stream",
          "text": [
            "100%|██████████| 938/938 [00:20<00:00, 45.65it/s, accuracy=0.969, loss=0.206, lr=5.9e-5]\n"
          ]
        },
        {
          "name": "stdout",
          "output_type": "stream",
          "text": [
            "Epoch 6, Val Loss: 0.2508942245440498, Val Accuracy: 0.9297372611464968\n"
          ]
        },
        {
          "name": "stderr",
          "output_type": "stream",
          "text": [
            "100%|██████████| 938/938 [00:20<00:00, 46.71it/s, accuracy=0.969, loss=0.11, lr=5.31e-5]\n"
          ]
        },
        {
          "name": "stdout",
          "output_type": "stream",
          "text": [
            "Epoch 7, Val Loss: 0.217710738835536, Val Accuracy: 0.9384952229299363\n"
          ]
        },
        {
          "name": "stderr",
          "output_type": "stream",
          "text": [
            "100%|██████████| 938/938 [00:21<00:00, 43.91it/s, accuracy=0.844, loss=0.291, lr=4.78e-5]\n"
          ]
        },
        {
          "name": "stdout",
          "output_type": "stream",
          "text": [
            "Epoch 8, Val Loss: 0.20323475498919655, Val Accuracy: 0.9426751592356688\n"
          ]
        },
        {
          "name": "stderr",
          "output_type": "stream",
          "text": [
            "100%|██████████| 938/938 [00:20<00:00, 46.80it/s, accuracy=0.969, loss=0.127, lr=4.3e-5]\n"
          ]
        },
        {
          "name": "stdout",
          "output_type": "stream",
          "text": [
            "Epoch 9, Val Loss: 0.20806819560587597, Val Accuracy: 0.9392914012738853\n"
          ]
        },
        {
          "name": "stderr",
          "output_type": "stream",
          "text": [
            "100%|██████████| 938/938 [00:21<00:00, 43.31it/s, accuracy=0.969, loss=0.118, lr=3.87e-5]\n"
          ]
        },
        {
          "name": "stdout",
          "output_type": "stream",
          "text": [
            "Epoch 10, Val Loss: 0.17575852491056462, Val Accuracy: 0.9483479299363057\n"
          ]
        },
        {
          "name": "stderr",
          "output_type": "stream",
          "text": [
            "100%|██████████| 938/938 [00:19<00:00, 46.99it/s, accuracy=0.938, loss=0.178, lr=3.49e-5]\n"
          ]
        },
        {
          "name": "stdout",
          "output_type": "stream",
          "text": [
            "Epoch 11, Val Loss: 0.1850889358835615, Val Accuracy: 0.9442675159235668\n"
          ]
        },
        {
          "name": "stderr",
          "output_type": "stream",
          "text": [
            "100%|██████████| 938/938 [00:21<00:00, 43.08it/s, accuracy=0.969, loss=0.169, lr=3.14e-5]\n"
          ]
        },
        {
          "name": "stdout",
          "output_type": "stream",
          "text": [
            "Epoch 12, Val Loss: 0.18512427306194215, Val Accuracy: 0.946656050955414\n"
          ]
        },
        {
          "name": "stderr",
          "output_type": "stream",
          "text": [
            "100%|██████████| 938/938 [00:20<00:00, 46.60it/s, accuracy=0.969, loss=0.0859, lr=2.82e-5]\n"
          ]
        },
        {
          "name": "stdout",
          "output_type": "stream",
          "text": [
            "Epoch 13, Val Loss: 0.16298424279922322, Val Accuracy: 0.9530254777070064\n"
          ]
        },
        {
          "name": "stderr",
          "output_type": "stream",
          "text": [
            "100%|██████████| 938/938 [00:21<00:00, 44.14it/s, accuracy=1, loss=0.0696, lr=2.54e-5]\n"
          ]
        },
        {
          "name": "stdout",
          "output_type": "stream",
          "text": [
            "Epoch 14, Val Loss: 0.1665467546146458, Val Accuracy: 0.9518312101910829\n"
          ]
        },
        {
          "name": "stderr",
          "output_type": "stream",
          "text": [
            "100%|██████████| 938/938 [00:20<00:00, 45.27it/s, accuracy=1, loss=0.022, lr=2.29e-5]\n"
          ]
        },
        {
          "name": "stdout",
          "output_type": "stream",
          "text": [
            "Epoch 15, Val Loss: 0.16735414591926345, Val Accuracy: 0.9523288216560509\n"
          ]
        },
        {
          "name": "stderr",
          "output_type": "stream",
          "text": [
            "100%|██████████| 938/938 [00:20<00:00, 46.26it/s, accuracy=1, loss=0.0182, lr=2.06e-5]\n"
          ]
        },
        {
          "name": "stdout",
          "output_type": "stream",
          "text": [
            "Epoch 16, Val Loss: 0.16543338501642038, Val Accuracy: 0.9498407643312102\n"
          ]
        },
        {
          "name": "stderr",
          "output_type": "stream",
          "text": [
            "100%|██████████| 938/938 [00:21<00:00, 43.31it/s, accuracy=1, loss=0.0207, lr=1.85e-5]\n"
          ]
        },
        {
          "name": "stdout",
          "output_type": "stream",
          "text": [
            "Epoch 17, Val Loss: 0.15329786860028127, Val Accuracy: 0.9545183121019108\n"
          ]
        },
        {
          "name": "stderr",
          "output_type": "stream",
          "text": [
            "100%|██████████| 938/938 [00:21<00:00, 44.04it/s, accuracy=1, loss=0.0204, lr=1.67e-5]\n"
          ]
        },
        {
          "name": "stdout",
          "output_type": "stream",
          "text": [
            "Epoch 18, Val Loss: 0.16077793706327106, Val Accuracy: 0.9532245222929936\n"
          ]
        },
        {
          "name": "stderr",
          "output_type": "stream",
          "text": [
            "100%|██████████| 938/938 [00:21<00:00, 44.03it/s, accuracy=1, loss=0.0151, lr=1.5e-5]\n"
          ]
        },
        {
          "name": "stdout",
          "output_type": "stream",
          "text": [
            "Epoch 19, Val Loss: 0.15487438890486838, Val Accuracy: 0.9544187898089171\n"
          ]
        },
        {
          "name": "stderr",
          "output_type": "stream",
          "text": [
            "100%|██████████| 938/938 [00:20<00:00, 46.35it/s, accuracy=1, loss=0.0105, lr=1.35e-5]\n"
          ]
        },
        {
          "name": "stdout",
          "output_type": "stream",
          "text": [
            "Epoch 20, Val Loss: 0.15643630283261845, Val Accuracy: 0.9543192675159236\n"
          ]
        },
        {
          "name": "stderr",
          "output_type": "stream",
          "text": [
            "100%|██████████| 938/938 [00:20<00:00, 46.65it/s, accuracy=1, loss=0.015, lr=1.22e-5]\n"
          ]
        },
        {
          "name": "stdout",
          "output_type": "stream",
          "text": [
            "Epoch 21, Val Loss: 0.15297225174778822, Val Accuracy: 0.9548168789808917\n"
          ]
        },
        {
          "name": "stderr",
          "output_type": "stream",
          "text": [
            "100%|██████████| 938/938 [00:21<00:00, 43.87it/s, accuracy=1, loss=0.00633, lr=1.09e-5]\n"
          ]
        },
        {
          "name": "stdout",
          "output_type": "stream",
          "text": [
            "Epoch 22, Val Loss: 0.15379734874323342, Val Accuracy: 0.9543192675159236\n"
          ]
        },
        {
          "name": "stderr",
          "output_type": "stream",
          "text": [
            "100%|██████████| 938/938 [00:20<00:00, 46.17it/s, accuracy=1, loss=0.0201, lr=9.85e-6]\n"
          ]
        },
        {
          "name": "stdout",
          "output_type": "stream",
          "text": [
            "Epoch 23, Val Loss: 0.15477153783142092, Val Accuracy: 0.9551154458598726\n"
          ]
        },
        {
          "name": "stderr",
          "output_type": "stream",
          "text": [
            "100%|██████████| 938/938 [00:21<00:00, 43.26it/s, accuracy=1, loss=0.0106, lr=8.86e-6]\n"
          ]
        },
        {
          "name": "stdout",
          "output_type": "stream",
          "text": [
            "Epoch 24, Val Loss: 0.15203837947964455, Val Accuracy: 0.9547173566878981\n"
          ]
        },
        {
          "name": "stderr",
          "output_type": "stream",
          "text": [
            "100%|██████████| 938/938 [00:20<00:00, 46.00it/s, accuracy=1, loss=0.0185, lr=7.98e-6]\n"
          ]
        },
        {
          "name": "stdout",
          "output_type": "stream",
          "text": [
            "Epoch 25, Val Loss: 0.1514434656028185, Val Accuracy: 0.9552149681528662\n"
          ]
        },
        {
          "name": "stderr",
          "output_type": "stream",
          "text": [
            "100%|██████████| 938/938 [00:21<00:00, 42.70it/s, accuracy=1, loss=0.00443, lr=7.18e-6]\n"
          ]
        },
        {
          "name": "stdout",
          "output_type": "stream",
          "text": [
            "Epoch 26, Val Loss: 0.15483369238142244, Val Accuracy: 0.9543192675159236\n"
          ]
        },
        {
          "name": "stderr",
          "output_type": "stream",
          "text": [
            "100%|██████████| 938/938 [00:20<00:00, 45.86it/s, accuracy=1, loss=0.00239, lr=6.46e-6]\n"
          ]
        },
        {
          "name": "stdout",
          "output_type": "stream",
          "text": [
            "Epoch 27, Val Loss: 0.15365796325510298, Val Accuracy: 0.9537221337579618\n"
          ]
        },
        {
          "name": "stderr",
          "output_type": "stream",
          "text": [
            "100%|██████████| 938/938 [00:21<00:00, 44.49it/s, accuracy=1, loss=0.00511, lr=5.81e-6]\n"
          ]
        },
        {
          "name": "stdout",
          "output_type": "stream",
          "text": [
            "Epoch 28, Val Loss: 0.1554096921081625, Val Accuracy: 0.9546178343949044\n"
          ]
        },
        {
          "name": "stderr",
          "output_type": "stream",
          "text": [
            "100%|██████████| 938/938 [00:20<00:00, 45.66it/s, accuracy=1, loss=0.00248, lr=5.23e-6]\n"
          ]
        },
        {
          "name": "stdout",
          "output_type": "stream",
          "text": [
            "Epoch 29, Val Loss: 0.15204803118850016, Val Accuracy: 0.9553144904458599\n"
          ]
        },
        {
          "name": "stderr",
          "output_type": "stream",
          "text": [
            "100%|██████████| 938/938 [00:20<00:00, 45.88it/s, accuracy=1, loss=0.00792, lr=4.71e-6]\n"
          ]
        },
        {
          "name": "stdout",
          "output_type": "stream",
          "text": [
            "Epoch 30, Val Loss: 0.15419980331552421, Val Accuracy: 0.9546178343949044\n"
          ]
        },
        {
          "name": "stderr",
          "output_type": "stream",
          "text": [
            "100%|██████████| 938/938 [00:21<00:00, 43.34it/s, accuracy=0.688, loss=1.11, lr=0.0001]\n"
          ]
        },
        {
          "name": "stdout",
          "output_type": "stream",
          "text": [
            "Epoch 1, Val Loss: 0.8903709853151042, Val Accuracy: 0.7555732484076433\n"
          ]
        },
        {
          "name": "stderr",
          "output_type": "stream",
          "text": [
            "100%|██████████| 938/938 [00:20<00:00, 45.85it/s, accuracy=0.875, loss=0.43, lr=9e-5]\n"
          ]
        },
        {
          "name": "stdout",
          "output_type": "stream",
          "text": [
            "Epoch 2, Val Loss: 0.48110328434379235, Val Accuracy: 0.8782842356687898\n"
          ]
        },
        {
          "name": "stderr",
          "output_type": "stream",
          "text": [
            "100%|██████████| 938/938 [00:22<00:00, 42.56it/s, accuracy=0.875, loss=0.38, lr=8.1e-5]\n"
          ]
        },
        {
          "name": "stdout",
          "output_type": "stream",
          "text": [
            "Epoch 3, Val Loss: 0.35635968525508405, Val Accuracy: 0.9086385350318471\n"
          ]
        },
        {
          "name": "stderr",
          "output_type": "stream",
          "text": [
            "100%|██████████| 938/938 [00:20<00:00, 45.33it/s, accuracy=0.938, loss=0.159, lr=7.29e-5]\n"
          ]
        },
        {
          "name": "stdout",
          "output_type": "stream",
          "text": [
            "Epoch 4, Val Loss: 0.31277797591819123, Val Accuracy: 0.9137141719745223\n"
          ]
        },
        {
          "name": "stderr",
          "output_type": "stream",
          "text": [
            "100%|██████████| 938/938 [00:21<00:00, 43.30it/s, accuracy=0.875, loss=0.327, lr=6.56e-5]\n"
          ]
        },
        {
          "name": "stdout",
          "output_type": "stream",
          "text": [
            "Epoch 5, Val Loss: 0.2619217034476768, Val Accuracy: 0.926453025477707\n"
          ]
        },
        {
          "name": "stderr",
          "output_type": "stream",
          "text": [
            "100%|██████████| 938/938 [00:22<00:00, 41.68it/s, accuracy=0.938, loss=0.211, lr=5.9e-5]\n"
          ]
        },
        {
          "name": "stdout",
          "output_type": "stream",
          "text": [
            "Epoch 6, Val Loss: 0.2398709915103806, Val Accuracy: 0.9366042993630573\n"
          ]
        },
        {
          "name": "stderr",
          "output_type": "stream",
          "text": [
            "100%|██████████| 938/938 [00:20<00:00, 45.70it/s, accuracy=0.969, loss=0.141, lr=5.31e-5]\n"
          ]
        },
        {
          "name": "stdout",
          "output_type": "stream",
          "text": [
            "Epoch 7, Val Loss: 0.21532065168640036, Val Accuracy: 0.9398885350318471\n"
          ]
        },
        {
          "name": "stderr",
          "output_type": "stream",
          "text": [
            "100%|██████████| 938/938 [00:22<00:00, 41.17it/s, accuracy=0.969, loss=0.194, lr=4.78e-5]\n"
          ]
        },
        {
          "name": "stdout",
          "output_type": "stream",
          "text": [
            "Epoch 8, Val Loss: 0.2141527754319891, Val Accuracy: 0.9425756369426752\n"
          ]
        },
        {
          "name": "stderr",
          "output_type": "stream",
          "text": [
            "100%|██████████| 938/938 [00:21<00:00, 44.45it/s, accuracy=0.969, loss=0.137, lr=4.3e-5]\n"
          ]
        },
        {
          "name": "stdout",
          "output_type": "stream",
          "text": [
            "Epoch 9, Val Loss: 0.1904266998349766, Val Accuracy: 0.9461584394904459\n"
          ]
        },
        {
          "name": "stderr",
          "output_type": "stream",
          "text": [
            "100%|██████████| 938/938 [00:22<00:00, 41.53it/s, accuracy=0.969, loss=0.148, lr=3.87e-5]\n"
          ]
        },
        {
          "name": "stdout",
          "output_type": "stream",
          "text": [
            "Epoch 10, Val Loss: 0.18958971856434823, Val Accuracy: 0.9444665605095541\n"
          ]
        },
        {
          "name": "stderr",
          "output_type": "stream",
          "text": [
            "100%|██████████| 938/938 [00:21<00:00, 42.80it/s, accuracy=0.969, loss=0.127, lr=3.49e-5]\n"
          ]
        },
        {
          "name": "stdout",
          "output_type": "stream",
          "text": [
            "Epoch 11, Val Loss: 0.17339160691673874, Val Accuracy: 0.9479498407643312\n"
          ]
        },
        {
          "name": "stderr",
          "output_type": "stream",
          "text": [
            "100%|██████████| 938/938 [00:21<00:00, 44.46it/s, accuracy=1, loss=0.07, lr=3.14e-5]\n"
          ]
        },
        {
          "name": "stdout",
          "output_type": "stream",
          "text": [
            "Epoch 12, Val Loss: 0.16653044487996277, Val Accuracy: 0.9518312101910829\n"
          ]
        },
        {
          "name": "stderr",
          "output_type": "stream",
          "text": [
            "100%|██████████| 938/938 [00:22<00:00, 41.16it/s, accuracy=0.969, loss=0.0981, lr=2.82e-5]\n"
          ]
        },
        {
          "name": "stdout",
          "output_type": "stream",
          "text": [
            "Epoch 13, Val Loss: 0.16211371956642268, Val Accuracy: 0.951234076433121\n"
          ]
        },
        {
          "name": "stderr",
          "output_type": "stream",
          "text": [
            "100%|██████████| 938/938 [00:21<00:00, 43.99it/s, accuracy=1, loss=0.0478, lr=2.54e-5]\n"
          ]
        },
        {
          "name": "stdout",
          "output_type": "stream",
          "text": [
            "Epoch 14, Val Loss: 0.16911376195894495, Val Accuracy: 0.9505374203821656\n"
          ]
        },
        {
          "name": "stderr",
          "output_type": "stream",
          "text": [
            "100%|██████████| 938/938 [00:22<00:00, 42.33it/s, accuracy=1, loss=0.0461, lr=2.29e-5]\n"
          ]
        },
        {
          "name": "stdout",
          "output_type": "stream",
          "text": [
            "Epoch 15, Val Loss: 0.16027642840928855, Val Accuracy: 0.9513335987261147\n"
          ]
        },
        {
          "name": "stderr",
          "output_type": "stream",
          "text": [
            "100%|██████████| 938/938 [00:21<00:00, 43.80it/s, accuracy=1, loss=0.0221, lr=2.06e-5]\n"
          ]
        },
        {
          "name": "stdout",
          "output_type": "stream",
          "text": [
            "Epoch 16, Val Loss: 0.15914308046922088, Val Accuracy: 0.9510350318471338\n"
          ]
        },
        {
          "name": "stderr",
          "output_type": "stream",
          "text": [
            "100%|██████████| 938/938 [00:21<00:00, 44.37it/s, accuracy=1, loss=0.0302, lr=1.85e-5]\n"
          ]
        },
        {
          "name": "stdout",
          "output_type": "stream",
          "text": [
            "Epoch 17, Val Loss: 0.1514528595833523, Val Accuracy: 0.9540207006369427\n"
          ]
        },
        {
          "name": "stderr",
          "output_type": "stream",
          "text": [
            "100%|██████████| 938/938 [00:22<00:00, 40.92it/s, accuracy=1, loss=0.0349, lr=1.67e-5]\n"
          ]
        },
        {
          "name": "stdout",
          "output_type": "stream",
          "text": [
            "Epoch 18, Val Loss: 0.15668683086082957, Val Accuracy: 0.9523288216560509\n"
          ]
        },
        {
          "name": "stderr",
          "output_type": "stream",
          "text": [
            "100%|██████████| 938/938 [00:21<00:00, 43.54it/s, accuracy=1, loss=0.0166, lr=1.5e-5]\n"
          ]
        },
        {
          "name": "stdout",
          "output_type": "stream",
          "text": [
            "Epoch 19, Val Loss: 0.14746537556275607, Val Accuracy: 0.9548168789808917\n"
          ]
        },
        {
          "name": "stderr",
          "output_type": "stream",
          "text": [
            "100%|██████████| 938/938 [00:22<00:00, 42.44it/s, accuracy=1, loss=0.0169, lr=1.35e-5]\n"
          ]
        },
        {
          "name": "stdout",
          "output_type": "stream",
          "text": [
            "Epoch 20, Val Loss: 0.14786675572247024, Val Accuracy: 0.9556130573248408\n"
          ]
        },
        {
          "name": "stderr",
          "output_type": "stream",
          "text": [
            "100%|██████████| 938/938 [00:22<00:00, 42.07it/s, accuracy=1, loss=0.0215, lr=1.22e-5]\n"
          ]
        },
        {
          "name": "stdout",
          "output_type": "stream",
          "text": [
            "Epoch 21, Val Loss: 0.14690249210081188, Val Accuracy: 0.9561106687898089\n"
          ]
        },
        {
          "name": "stderr",
          "output_type": "stream",
          "text": [
            "100%|██████████| 938/938 [00:21<00:00, 44.16it/s, accuracy=1, loss=0.011, lr=1.09e-5]\n"
          ]
        },
        {
          "name": "stdout",
          "output_type": "stream",
          "text": [
            "Epoch 22, Val Loss: 0.1458992143725134, Val Accuracy: 0.9554140127388535\n"
          ]
        },
        {
          "name": "stderr",
          "output_type": "stream",
          "text": [
            "100%|██████████| 938/938 [00:25<00:00, 36.92it/s, accuracy=1, loss=0.0198, lr=9.85e-6]\n"
          ]
        },
        {
          "name": "stdout",
          "output_type": "stream",
          "text": [
            "Epoch 23, Val Loss: 0.14756692492678927, Val Accuracy: 0.9557125796178344\n"
          ]
        },
        {
          "name": "stderr",
          "output_type": "stream",
          "text": [
            "100%|██████████| 938/938 [00:22<00:00, 41.95it/s, accuracy=1, loss=0.011, lr=8.86e-6]\n"
          ]
        },
        {
          "name": "stdout",
          "output_type": "stream",
          "text": [
            "Epoch 24, Val Loss: 0.1441519883198806, Val Accuracy: 0.9556130573248408\n"
          ]
        },
        {
          "name": "stderr",
          "output_type": "stream",
          "text": [
            "100%|██████████| 938/938 [00:22<00:00, 41.13it/s, accuracy=1, loss=0.0192, lr=7.98e-6]\n"
          ]
        },
        {
          "name": "stdout",
          "output_type": "stream",
          "text": [
            "Epoch 25, Val Loss: 0.14534127168508637, Val Accuracy: 0.9554140127388535\n"
          ]
        },
        {
          "name": "stderr",
          "output_type": "stream",
          "text": [
            "100%|██████████| 938/938 [00:22<00:00, 42.11it/s, accuracy=1, loss=0.00686, lr=7.18e-6]\n"
          ]
        },
        {
          "name": "stdout",
          "output_type": "stream",
          "text": [
            "Epoch 26, Val Loss: 0.1485467322743913, Val Accuracy: 0.9555135350318471\n"
          ]
        },
        {
          "name": "stderr",
          "output_type": "stream",
          "text": [
            "100%|██████████| 938/938 [00:20<00:00, 46.33it/s, accuracy=1, loss=0.00184, lr=6.46e-6]\n"
          ]
        },
        {
          "name": "stdout",
          "output_type": "stream",
          "text": [
            "Epoch 27, Val Loss: 0.14701847275229657, Val Accuracy: 0.955015923566879\n"
          ]
        },
        {
          "name": "stderr",
          "output_type": "stream",
          "text": [
            "100%|██████████| 938/938 [00:21<00:00, 43.39it/s, accuracy=1, loss=0.00412, lr=5.81e-6]\n"
          ]
        },
        {
          "name": "stdout",
          "output_type": "stream",
          "text": [
            "Epoch 28, Val Loss: 0.1481439717526245, Val Accuracy: 0.9572054140127388\n"
          ]
        },
        {
          "name": "stderr",
          "output_type": "stream",
          "text": [
            "100%|██████████| 938/938 [00:19<00:00, 46.94it/s, accuracy=1, loss=0.00231, lr=5.23e-6]\n"
          ]
        },
        {
          "name": "stdout",
          "output_type": "stream",
          "text": [
            "Epoch 29, Val Loss: 0.14658282421585647, Val Accuracy: 0.9565087579617835\n"
          ]
        },
        {
          "name": "stderr",
          "output_type": "stream",
          "text": [
            "100%|██████████| 938/938 [00:20<00:00, 44.84it/s, accuracy=1, loss=0.00687, lr=4.71e-6]\n"
          ]
        },
        {
          "name": "stdout",
          "output_type": "stream",
          "text": [
            "Epoch 30, Val Loss: 0.14787054792228957, Val Accuracy: 0.955015923566879\n"
          ]
        },
        {
          "name": "stderr",
          "output_type": "stream",
          "text": [
            "100%|██████████| 938/938 [00:20<00:00, 46.12it/s, accuracy=0.688, loss=1.12, lr=0.0001]\n"
          ]
        },
        {
          "name": "stdout",
          "output_type": "stream",
          "text": [
            "Epoch 1, Val Loss: 0.9091266522741621, Val Accuracy: 0.7586584394904459\n"
          ]
        },
        {
          "name": "stderr",
          "output_type": "stream",
          "text": [
            "100%|██████████| 938/938 [00:19<00:00, 47.33it/s, accuracy=0.875, loss=0.514, lr=9e-5]\n"
          ]
        },
        {
          "name": "stdout",
          "output_type": "stream",
          "text": [
            "Epoch 2, Val Loss: 0.457572414142311, Val Accuracy: 0.8882364649681529\n"
          ]
        },
        {
          "name": "stderr",
          "output_type": "stream",
          "text": [
            "100%|██████████| 938/938 [00:21<00:00, 44.36it/s, accuracy=0.906, loss=0.401, lr=8.1e-5]\n"
          ]
        },
        {
          "name": "stdout",
          "output_type": "stream",
          "text": [
            "Epoch 3, Val Loss: 0.35953643073321906, Val Accuracy: 0.9111265923566879\n"
          ]
        },
        {
          "name": "stderr",
          "output_type": "stream",
          "text": [
            "100%|██████████| 938/938 [00:19<00:00, 46.94it/s, accuracy=0.969, loss=0.201, lr=7.29e-5]\n"
          ]
        },
        {
          "name": "stdout",
          "output_type": "stream",
          "text": [
            "Epoch 4, Val Loss: 0.30167492692637593, Val Accuracy: 0.9201831210191083\n"
          ]
        },
        {
          "name": "stderr",
          "output_type": "stream",
          "text": [
            "100%|██████████| 938/938 [00:21<00:00, 44.42it/s, accuracy=0.875, loss=0.364, lr=6.56e-5]\n"
          ]
        },
        {
          "name": "stdout",
          "output_type": "stream",
          "text": [
            "Epoch 5, Val Loss: 0.2520130262680494, Val Accuracy: 0.9325238853503185\n"
          ]
        },
        {
          "name": "stderr",
          "output_type": "stream",
          "text": [
            "100%|██████████| 938/938 [00:19<00:00, 47.01it/s, accuracy=0.938, loss=0.265, lr=5.9e-5]\n"
          ]
        },
        {
          "name": "stdout",
          "output_type": "stream",
          "text": [
            "Epoch 6, Val Loss: 0.23677905116253978, Val Accuracy: 0.9354100318471338\n"
          ]
        },
        {
          "name": "stderr",
          "output_type": "stream",
          "text": [
            "100%|██████████| 938/938 [00:21<00:00, 44.26it/s, accuracy=0.938, loss=0.182, lr=5.31e-5]\n"
          ]
        },
        {
          "name": "stdout",
          "output_type": "stream",
          "text": [
            "Epoch 7, Val Loss: 0.22711588890784107, Val Accuracy: 0.9360071656050956\n"
          ]
        },
        {
          "name": "stderr",
          "output_type": "stream",
          "text": [
            "100%|██████████| 938/938 [00:19<00:00, 47.15it/s, accuracy=0.969, loss=0.184, lr=4.78e-5]\n"
          ]
        },
        {
          "name": "stdout",
          "output_type": "stream",
          "text": [
            "Epoch 8, Val Loss: 0.1976689236108095, Val Accuracy: 0.9446656050955414\n"
          ]
        },
        {
          "name": "stderr",
          "output_type": "stream",
          "text": [
            "100%|██████████| 938/938 [00:20<00:00, 45.54it/s, accuracy=1, loss=0.11, lr=4.3e-5]\n"
          ]
        },
        {
          "name": "stdout",
          "output_type": "stream",
          "text": [
            "Epoch 9, Val Loss: 0.18044376714380495, Val Accuracy: 0.9467555732484076\n"
          ]
        },
        {
          "name": "stderr",
          "output_type": "stream",
          "text": [
            "100%|██████████| 938/938 [00:22<00:00, 40.90it/s, accuracy=0.938, loss=0.175, lr=3.87e-5]\n"
          ]
        },
        {
          "name": "stdout",
          "output_type": "stream",
          "text": [
            "Epoch 10, Val Loss: 0.1721358374384036, Val Accuracy: 0.9499402866242038\n"
          ]
        },
        {
          "name": "stderr",
          "output_type": "stream",
          "text": [
            "100%|██████████| 938/938 [00:19<00:00, 47.40it/s, accuracy=0.938, loss=0.16, lr=3.49e-5]\n"
          ]
        },
        {
          "name": "stdout",
          "output_type": "stream",
          "text": [
            "Epoch 11, Val Loss: 0.16372097012806375, Val Accuracy: 0.9519307324840764\n"
          ]
        },
        {
          "name": "stderr",
          "output_type": "stream",
          "text": [
            "100%|██████████| 938/938 [00:21<00:00, 43.80it/s, accuracy=1, loss=0.0502, lr=3.14e-5]\n"
          ]
        },
        {
          "name": "stdout",
          "output_type": "stream",
          "text": [
            "Epoch 12, Val Loss: 0.15782940299635764, Val Accuracy: 0.9514331210191083\n"
          ]
        },
        {
          "name": "stderr",
          "output_type": "stream",
          "text": [
            "100%|██████████| 938/938 [00:19<00:00, 47.12it/s, accuracy=1, loss=0.0496, lr=2.82e-5]\n"
          ]
        },
        {
          "name": "stdout",
          "output_type": "stream",
          "text": [
            "Epoch 13, Val Loss: 0.1395763215508051, Val Accuracy: 0.9581011146496815\n"
          ]
        },
        {
          "name": "stderr",
          "output_type": "stream",
          "text": [
            "100%|██████████| 938/938 [00:21<00:00, 43.26it/s, accuracy=1, loss=0.0484, lr=2.54e-5]\n"
          ]
        },
        {
          "name": "stdout",
          "output_type": "stream",
          "text": [
            "Epoch 14, Val Loss: 0.14881785175982554, Val Accuracy: 0.955015923566879\n"
          ]
        },
        {
          "name": "stderr",
          "output_type": "stream",
          "text": [
            "100%|██████████| 938/938 [00:20<00:00, 45.03it/s, accuracy=1, loss=0.0345, lr=2.29e-5]\n"
          ]
        },
        {
          "name": "stdout",
          "output_type": "stream",
          "text": [
            "Epoch 15, Val Loss: 0.14114883399396472, Val Accuracy: 0.9568073248407644\n"
          ]
        },
        {
          "name": "stderr",
          "output_type": "stream",
          "text": [
            "100%|██████████| 938/938 [00:20<00:00, 44.80it/s, accuracy=1, loss=0.026, lr=2.06e-5]\n"
          ]
        },
        {
          "name": "stdout",
          "output_type": "stream",
          "text": [
            "Epoch 16, Val Loss: 0.1405751542395847, Val Accuracy: 0.9570063694267515\n"
          ]
        },
        {
          "name": "stderr",
          "output_type": "stream",
          "text": [
            "100%|██████████| 938/938 [00:21<00:00, 42.78it/s, accuracy=1, loss=0.0372, lr=1.85e-5]\n"
          ]
        },
        {
          "name": "stdout",
          "output_type": "stream",
          "text": [
            "Epoch 17, Val Loss: 0.13909366981431864, Val Accuracy: 0.9561106687898089\n"
          ]
        },
        {
          "name": "stderr",
          "output_type": "stream",
          "text": [
            "100%|██████████| 938/938 [00:20<00:00, 45.82it/s, accuracy=1, loss=0.0174, lr=1.67e-5]\n"
          ]
        },
        {
          "name": "stdout",
          "output_type": "stream",
          "text": [
            "Epoch 18, Val Loss: 0.13724082572590324, Val Accuracy: 0.9581011146496815\n"
          ]
        },
        {
          "name": "stderr",
          "output_type": "stream",
          "text": [
            "100%|██████████| 938/938 [00:20<00:00, 44.91it/s, accuracy=1, loss=0.024, lr=1.5e-5]\n"
          ]
        },
        {
          "name": "stdout",
          "output_type": "stream",
          "text": [
            "Epoch 19, Val Loss: 0.1357863392320515, Val Accuracy: 0.9576035031847133\n"
          ]
        },
        {
          "name": "stderr",
          "output_type": "stream",
          "text": [
            "100%|██████████| 938/938 [00:20<00:00, 44.71it/s, accuracy=1, loss=0.0159, lr=1.35e-5]\n"
          ]
        },
        {
          "name": "stdout",
          "output_type": "stream",
          "text": [
            "Epoch 20, Val Loss: 0.1353699494847304, Val Accuracy: 0.9578025477707006\n"
          ]
        },
        {
          "name": "stderr",
          "output_type": "stream",
          "text": [
            "100%|██████████| 938/938 [00:20<00:00, 46.38it/s, accuracy=1, loss=0.0076, lr=1.22e-5]\n"
          ]
        },
        {
          "name": "stdout",
          "output_type": "stream",
          "text": [
            "Epoch 21, Val Loss: 0.13203052204965382, Val Accuracy: 0.9580015923566879\n"
          ]
        },
        {
          "name": "stderr",
          "output_type": "stream",
          "text": [
            "100%|██████████| 938/938 [00:21<00:00, 42.83it/s, accuracy=1, loss=0.00603, lr=1.09e-5]\n"
          ]
        },
        {
          "name": "stdout",
          "output_type": "stream",
          "text": [
            "Epoch 22, Val Loss: 0.13466065492225918, Val Accuracy: 0.9593949044585988\n"
          ]
        },
        {
          "name": "stderr",
          "output_type": "stream",
          "text": [
            "100%|██████████| 938/938 [00:20<00:00, 46.23it/s, accuracy=1, loss=0.0123, lr=9.85e-6]\n"
          ]
        },
        {
          "name": "stdout",
          "output_type": "stream",
          "text": [
            "Epoch 23, Val Loss: 0.13360172094351605, Val Accuracy: 0.9591958598726115\n"
          ]
        },
        {
          "name": "stderr",
          "output_type": "stream",
          "text": [
            "100%|██████████| 938/938 [00:21<00:00, 43.26it/s, accuracy=1, loss=0.00782, lr=8.86e-6]\n"
          ]
        },
        {
          "name": "stdout",
          "output_type": "stream",
          "text": [
            "Epoch 24, Val Loss: 0.13101995621057477, Val Accuracy: 0.9589968152866242\n"
          ]
        },
        {
          "name": "stderr",
          "output_type": "stream",
          "text": [
            "100%|██████████| 938/938 [00:20<00:00, 45.51it/s, accuracy=1, loss=0.00854, lr=7.98e-6]\n"
          ]
        },
        {
          "name": "stdout",
          "output_type": "stream",
          "text": [
            "Epoch 25, Val Loss: 0.13007720508783238, Val Accuracy: 0.9597929936305732\n"
          ]
        },
        {
          "name": "stderr",
          "output_type": "stream",
          "text": [
            "100%|██████████| 938/938 [00:20<00:00, 46.39it/s, accuracy=1, loss=0.00344, lr=7.18e-6]\n"
          ]
        },
        {
          "name": "stdout",
          "output_type": "stream",
          "text": [
            "Epoch 26, Val Loss: 0.131658442637284, Val Accuracy: 0.9597929936305732\n"
          ]
        },
        {
          "name": "stderr",
          "output_type": "stream",
          "text": [
            "100%|██████████| 938/938 [00:21<00:00, 43.25it/s, accuracy=1, loss=0.00205, lr=6.46e-6]\n"
          ]
        },
        {
          "name": "stdout",
          "output_type": "stream",
          "text": [
            "Epoch 27, Val Loss: 0.13123117810375484, Val Accuracy: 0.9591958598726115\n"
          ]
        },
        {
          "name": "stderr",
          "output_type": "stream",
          "text": [
            "100%|██████████| 938/938 [00:20<00:00, 46.06it/s, accuracy=1, loss=0.00321, lr=5.81e-6]\n"
          ]
        },
        {
          "name": "stdout",
          "output_type": "stream",
          "text": [
            "Epoch 28, Val Loss: 0.13293363324479218, Val Accuracy: 0.9598925159235668\n"
          ]
        },
        {
          "name": "stderr",
          "output_type": "stream",
          "text": [
            "100%|██████████| 938/938 [00:21<00:00, 44.50it/s, accuracy=1, loss=0.00175, lr=5.23e-6]\n"
          ]
        },
        {
          "name": "stdout",
          "output_type": "stream",
          "text": [
            "Epoch 29, Val Loss: 0.13126693130359587, Val Accuracy: 0.9591958598726115\n"
          ]
        },
        {
          "name": "stderr",
          "output_type": "stream",
          "text": [
            "100%|██████████| 938/938 [00:20<00:00, 45.13it/s, accuracy=1, loss=0.00502, lr=4.71e-6]\n"
          ]
        },
        {
          "name": "stdout",
          "output_type": "stream",
          "text": [
            "Epoch 30, Val Loss: 0.1315764596335038, Val Accuracy: 0.9596934713375797\n"
          ]
        }
      ],
      "source": [
        "epochs = 30\n",
        "wds = [0.01, 0.1, 0.25, 0.5, 0.75, 1.]\n",
        "wd_accs = np.empty((6, epochs))\n",
        "for h, wd in enumerate(wds):\n",
        "    torch.manual_seed(42)\n",
        "    best_acc = 0\n",
        "    # Define model\n",
        "    model = FourierKAN(layers_hidden=[28 * 28, 64, 10], grid_size=8)\n",
        "    device = torch.device(\"cuda\" if torch.cuda.is_available() else \"cpu\")\n",
        "    model.to(device)\n",
        "    # Define optimizer\n",
        "    optimizer = optim.AdamW(model.parameters(), lr=1e-4, weight_decay=wd)\n",
        "    # Define learning rate scheduler\n",
        "    scheduler = optim.lr_scheduler.ExponentialLR(optimizer, gamma=0.9)\n",
        "\n",
        "    # Define loss\n",
        "    criterion = nn.CrossEntropyLoss()\n",
        "    for epoch in range(epochs):\n",
        "        # Train\n",
        "        model.train()\n",
        "        with tqdm(train_loader) as pbar:\n",
        "            for i, (images, labels) in enumerate(pbar):\n",
        "                images = images.view(-1, 28 * 28).to(device)\n",
        "                optimizer.zero_grad()\n",
        "                output = model(images)\n",
        "                loss = criterion(output, labels.to(device))\n",
        "                loss.backward()\n",
        "                optimizer.step()\n",
        "                accuracy = (output.argmax(dim=1) == labels.to(device)).float().mean()\n",
        "                pbar.set_postfix(loss=loss.item(), accuracy=accuracy.item(), lr=optimizer.param_groups[0]['lr'])\n",
        "\n",
        "        # Validation\n",
        "        model.eval()\n",
        "        val_loss = 0\n",
        "        val_accuracy = 0\n",
        "        with torch.no_grad():\n",
        "            for images, labels in val_loader:\n",
        "                images = images.view(-1, 28 * 28).to(device)\n",
        "                output = model(images)\n",
        "                val_loss += criterion(output, labels.to(device)).item()\n",
        "                val_accuracy += (\n",
        "                    (output.argmax(dim=1) == labels.to(device)).float().mean().item()\n",
        "                )\n",
        "\n",
        "        val_loss /= len(val_loader)\n",
        "        val_accuracy /= len(val_loader)\n",
        "        wd_accs[h, epoch] = val_accuracy\n",
        "\n",
        "        # Update learning rate\n",
        "        scheduler.step()\n",
        "\n",
        "        print(\n",
        "            f\"Epoch {epoch + 1}, Val Loss: {val_loss}, Val Accuracy: {val_accuracy}\"\n",
        "        )"
      ]
    },
    {
      "cell_type": "code",
      "execution_count": null,
      "metadata": {
        "colab": {
          "background_save": true,
          "base_uri": "https://localhost:8080/"
        },
        "id": "UvJ4YGFGdyui",
        "outputId": "cd954787-bfd4-4ad0-eabc-2ad0cd02433f"
      },
      "outputs": [
        {
          "name": "stderr",
          "output_type": "stream",
          "text": [
            "100%|██████████| 938/938 [00:27<00:00, 33.86it/s, accuracy=0.406, loss=1.6, lr=0.0001]\n"
          ]
        },
        {
          "name": "stdout",
          "output_type": "stream",
          "text": [
            "Epoch 1, Val Loss: 1.5846304597368666, Val Accuracy: 0.4925, Precision: 0.4947126704344288, Recall: 0.4925, F1 Score: 0.4750808815087283\n"
          ]
        },
        {
          "name": "stderr",
          "output_type": "stream",
          "text": [
            "100%|██████████| 938/938 [00:34<00:00, 27.45it/s, accuracy=0.75, loss=0.948, lr=9e-5]\n"
          ]
        },
        {
          "name": "stdout",
          "output_type": "stream",
          "text": [
            "Epoch 2, Val Loss: 0.8578524407307813, Val Accuracy: 0.8133, Precision: 0.8135013271503468, Recall: 0.8133, F1 Score: 0.8124719084741753\n"
          ]
        },
        {
          "name": "stderr",
          "output_type": "stream",
          "text": [
            "100%|██████████| 938/938 [00:24<00:00, 38.88it/s, accuracy=0.875, loss=0.438, lr=8.1e-5]\n"
          ]
        },
        {
          "name": "stdout",
          "output_type": "stream",
          "text": [
            "Epoch 3, Val Loss: 0.5395550812315789, Val Accuracy: 0.8838, Precision: 0.8837638542487237, Recall: 0.8838, F1 Score: 0.8832311078659559\n"
          ]
        },
        {
          "name": "stderr",
          "output_type": "stream",
          "text": [
            "100%|██████████| 938/938 [00:23<00:00, 39.55it/s, accuracy=0.875, loss=0.454, lr=7.29e-5]\n"
          ]
        },
        {
          "name": "stdout",
          "output_type": "stream",
          "text": [
            "Epoch 4, Val Loss: 0.4276176455673898, Val Accuracy: 0.9031, Precision: 0.9034700998491461, Recall: 0.9031, F1 Score: 0.9028314036077605\n"
          ]
        },
        {
          "name": "stderr",
          "output_type": "stream",
          "text": [
            "100%|██████████| 938/938 [00:23<00:00, 40.64it/s, accuracy=0.906, loss=0.307, lr=6.56e-5]\n"
          ]
        },
        {
          "name": "stdout",
          "output_type": "stream",
          "text": [
            "Epoch 5, Val Loss: 0.38912180184748524, Val Accuracy: 0.9019, Precision: 0.904470450095219, Recall: 0.9019, F1 Score: 0.9018036876560175\n"
          ]
        },
        {
          "name": "stderr",
          "output_type": "stream",
          "text": [
            "100%|██████████| 938/938 [00:23<00:00, 39.95it/s, accuracy=0.812, loss=0.473, lr=5.9e-5]\n"
          ]
        },
        {
          "name": "stdout",
          "output_type": "stream",
          "text": [
            "Epoch 6, Val Loss: 0.3659732685109992, Val Accuracy: 0.9059, Precision: 0.9085685732311526, Recall: 0.9059, F1 Score: 0.905831912690199\n"
          ]
        },
        {
          "name": "stderr",
          "output_type": "stream",
          "text": [
            "100%|██████████| 938/938 [00:21<00:00, 44.18it/s, accuracy=0.906, loss=0.271, lr=5.31e-5]\n"
          ]
        },
        {
          "name": "stdout",
          "output_type": "stream",
          "text": [
            "Epoch 7, Val Loss: 0.32437879895898186, Val Accuracy: 0.9156, Precision: 0.9171619811214361, Recall: 0.9156, F1 Score: 0.9157477273112344\n"
          ]
        },
        {
          "name": "stderr",
          "output_type": "stream",
          "text": [
            "100%|██████████| 938/938 [00:22<00:00, 40.93it/s, accuracy=0.969, loss=0.159, lr=4.78e-5]\n"
          ]
        },
        {
          "name": "stdout",
          "output_type": "stream",
          "text": [
            "Epoch 8, Val Loss: 0.3185460438868802, Val Accuracy: 0.9159, Precision: 0.9167433577075117, Recall: 0.9159, F1 Score: 0.9159870507898348\n"
          ]
        },
        {
          "name": "stderr",
          "output_type": "stream",
          "text": [
            "100%|██████████| 938/938 [00:21<00:00, 43.45it/s, accuracy=1, loss=0.0925, lr=4.3e-5]\n"
          ]
        },
        {
          "name": "stdout",
          "output_type": "stream",
          "text": [
            "Epoch 9, Val Loss: 0.28252257781613405, Val Accuracy: 0.9233, Precision: 0.9240192856271173, Recall: 0.9233, F1 Score: 0.9233046950051826\n"
          ]
        },
        {
          "name": "stderr",
          "output_type": "stream",
          "text": [
            "100%|██████████| 938/938 [00:20<00:00, 45.68it/s, accuracy=0.969, loss=0.121, lr=3.87e-5]\n"
          ]
        },
        {
          "name": "stdout",
          "output_type": "stream",
          "text": [
            "Epoch 10, Val Loss: 0.274710669164445, Val Accuracy: 0.9258, Precision: 0.9261070421271701, Recall: 0.9258, F1 Score: 0.9254808199448873\n"
          ]
        },
        {
          "name": "stderr",
          "output_type": "stream",
          "text": [
            "100%|██████████| 938/938 [00:20<00:00, 46.56it/s, accuracy=0.938, loss=0.161, lr=3.49e-5]\n"
          ]
        },
        {
          "name": "stdout",
          "output_type": "stream",
          "text": [
            "Epoch 11, Val Loss: 0.2699153582998522, Val Accuracy: 0.9247, Precision: 0.9249654192269223, Recall: 0.9247, F1 Score: 0.9246281333746734\n"
          ]
        },
        {
          "name": "stderr",
          "output_type": "stream",
          "text": [
            "100%|██████████| 938/938 [00:21<00:00, 43.98it/s, accuracy=0.969, loss=0.15, lr=3.14e-5]\n"
          ]
        },
        {
          "name": "stdout",
          "output_type": "stream",
          "text": [
            "Epoch 12, Val Loss: 0.2566447764231711, Val Accuracy: 0.9312, Precision: 0.9312553337426974, Recall: 0.9312, F1 Score: 0.9310936246939453\n"
          ]
        },
        {
          "name": "stderr",
          "output_type": "stream",
          "text": [
            "100%|██████████| 938/938 [00:20<00:00, 45.80it/s, accuracy=0.969, loss=0.138, lr=2.82e-5]\n"
          ]
        },
        {
          "name": "stdout",
          "output_type": "stream",
          "text": [
            "Epoch 13, Val Loss: 0.2560947557946869, Val Accuracy: 0.9295, Precision: 0.9297884391923901, Recall: 0.9295, F1 Score: 0.9293695541726229\n"
          ]
        },
        {
          "name": "stderr",
          "output_type": "stream",
          "text": [
            "100%|██████████| 938/938 [00:22<00:00, 41.48it/s, accuracy=1, loss=0.0947, lr=2.54e-5]\n"
          ]
        },
        {
          "name": "stdout",
          "output_type": "stream",
          "text": [
            "Epoch 14, Val Loss: 0.25262126079790154, Val Accuracy: 0.9305, Precision: 0.9310433013396303, Recall: 0.9305, F1 Score: 0.9304762824482458\n"
          ]
        },
        {
          "name": "stderr",
          "output_type": "stream",
          "text": [
            "100%|██████████| 938/938 [00:20<00:00, 44.68it/s, accuracy=1, loss=0.072, lr=2.29e-5]\n"
          ]
        },
        {
          "name": "stdout",
          "output_type": "stream",
          "text": [
            "Epoch 15, Val Loss: 0.24743065551208082, Val Accuracy: 0.9301, Precision: 0.9304584305932997, Recall: 0.9301, F1 Score: 0.930020937237599\n"
          ]
        },
        {
          "name": "stderr",
          "output_type": "stream",
          "text": [
            "100%|██████████| 938/938 [00:21<00:00, 42.90it/s, accuracy=0.969, loss=0.102, lr=2.06e-5]\n"
          ]
        },
        {
          "name": "stdout",
          "output_type": "stream",
          "text": [
            "Epoch 16, Val Loss: 0.24956847092575707, Val Accuracy: 0.9295, Precision: 0.9300350925122677, Recall: 0.9295, F1 Score: 0.9294327897205833\n"
          ]
        },
        {
          "name": "stderr",
          "output_type": "stream",
          "text": [
            "100%|██████████| 938/938 [00:21<00:00, 44.04it/s, accuracy=1, loss=0.0865, lr=1.85e-5]\n"
          ]
        },
        {
          "name": "stdout",
          "output_type": "stream",
          "text": [
            "Epoch 17, Val Loss: 0.24569310589580778, Val Accuracy: 0.9299, Precision: 0.9304614723164061, Recall: 0.9299, F1 Score: 0.9299751653324587\n"
          ]
        },
        {
          "name": "stderr",
          "output_type": "stream",
          "text": [
            "100%|██████████| 938/938 [00:21<00:00, 43.59it/s, accuracy=0.938, loss=0.263, lr=1.67e-5]\n"
          ]
        },
        {
          "name": "stdout",
          "output_type": "stream",
          "text": [
            "Epoch 18, Val Loss: 0.24512310253729105, Val Accuracy: 0.9286, Precision: 0.928774396427674, Recall: 0.9286, F1 Score: 0.9285360807884954\n"
          ]
        },
        {
          "name": "stderr",
          "output_type": "stream",
          "text": [
            "100%|██████████| 938/938 [00:21<00:00, 43.59it/s, accuracy=1, loss=0.0773, lr=1.5e-5]\n"
          ]
        },
        {
          "name": "stdout",
          "output_type": "stream",
          "text": [
            "Epoch 19, Val Loss: 0.23707925288042256, Val Accuracy: 0.9313, Precision: 0.9316186519369752, Recall: 0.9313, F1 Score: 0.9312527158673823\n"
          ]
        },
        {
          "name": "stderr",
          "output_type": "stream",
          "text": [
            "100%|██████████| 938/938 [00:22<00:00, 42.36it/s, accuracy=0.938, loss=0.178, lr=1.35e-5]\n"
          ]
        },
        {
          "name": "stdout",
          "output_type": "stream",
          "text": [
            "Epoch 20, Val Loss: 0.23848516221164137, Val Accuracy: 0.9312, Precision: 0.9315804335614526, Recall: 0.9312, F1 Score: 0.9311741695918389\n"
          ]
        },
        {
          "name": "stderr",
          "output_type": "stream",
          "text": [
            "100%|██████████| 938/938 [00:21<00:00, 43.81it/s, accuracy=1, loss=0.0979, lr=1.22e-5]\n"
          ]
        },
        {
          "name": "stdout",
          "output_type": "stream",
          "text": [
            "Epoch 21, Val Loss: 0.23477858131763282, Val Accuracy: 0.933, Precision: 0.933165508601658, Recall: 0.933, F1 Score: 0.9329046139841853\n"
          ]
        },
        {
          "name": "stderr",
          "output_type": "stream",
          "text": [
            "100%|██████████| 938/938 [00:23<00:00, 39.51it/s, accuracy=0.938, loss=0.149, lr=1.09e-5]\n"
          ]
        },
        {
          "name": "stdout",
          "output_type": "stream",
          "text": [
            "Epoch 22, Val Loss: 0.23095826969547256, Val Accuracy: 0.9329, Precision: 0.932906648363696, Recall: 0.9329, F1 Score: 0.9328292204924926\n"
          ]
        },
        {
          "name": "stderr",
          "output_type": "stream",
          "text": [
            "100%|██████████| 938/938 [00:21<00:00, 44.27it/s, accuracy=1, loss=0.0719, lr=9.85e-6]\n"
          ]
        },
        {
          "name": "stdout",
          "output_type": "stream",
          "text": [
            "Epoch 23, Val Loss: 0.23808992604849635, Val Accuracy: 0.9314, Precision: 0.9315908277868395, Recall: 0.9314, F1 Score: 0.9313037777769123\n"
          ]
        },
        {
          "name": "stderr",
          "output_type": "stream",
          "text": [
            "100%|██████████| 938/938 [00:21<00:00, 43.36it/s, accuracy=1, loss=0.0366, lr=8.86e-6]\n"
          ]
        },
        {
          "name": "stdout",
          "output_type": "stream",
          "text": [
            "Epoch 24, Val Loss: 0.23093273816926843, Val Accuracy: 0.9337, Precision: 0.9337015569111936, Recall: 0.9337, F1 Score: 0.9335824441569616\n"
          ]
        },
        {
          "name": "stderr",
          "output_type": "stream",
          "text": [
            "100%|██████████| 938/938 [00:20<00:00, 45.01it/s, accuracy=1, loss=0.0564, lr=7.98e-6]\n"
          ]
        },
        {
          "name": "stdout",
          "output_type": "stream",
          "text": [
            "Epoch 25, Val Loss: 0.23107256219502847, Val Accuracy: 0.9332, Precision: 0.9334009144476028, Recall: 0.9332, F1 Score: 0.9331719924639063\n"
          ]
        },
        {
          "name": "stderr",
          "output_type": "stream",
          "text": [
            "100%|██████████| 938/938 [00:20<00:00, 45.05it/s, accuracy=1, loss=0.0503, lr=7.18e-6]\n"
          ]
        },
        {
          "name": "stdout",
          "output_type": "stream",
          "text": [
            "Epoch 26, Val Loss: 0.23419335065112942, Val Accuracy: 0.9323, Precision: 0.9322289066154099, Recall: 0.9323, F1 Score: 0.9321363055767046\n"
          ]
        },
        {
          "name": "stderr",
          "output_type": "stream",
          "text": [
            "100%|██████████| 938/938 [00:21<00:00, 43.15it/s, accuracy=0.938, loss=0.188, lr=6.46e-6]\n"
          ]
        },
        {
          "name": "stdout",
          "output_type": "stream",
          "text": [
            "Epoch 27, Val Loss: 0.23502816678659552, Val Accuracy: 0.9319, Precision: 0.9318103420481643, Recall: 0.9319, F1 Score: 0.9317644923190875\n"
          ]
        },
        {
          "name": "stderr",
          "output_type": "stream",
          "text": [
            "100%|██████████| 938/938 [00:20<00:00, 45.55it/s, accuracy=1, loss=0.0568, lr=5.81e-6]\n"
          ]
        },
        {
          "name": "stdout",
          "output_type": "stream",
          "text": [
            "Epoch 28, Val Loss: 0.2373813499583845, Val Accuracy: 0.9298, Precision: 0.9301709679096877, Recall: 0.9298, F1 Score: 0.9296499161278089\n"
          ]
        },
        {
          "name": "stderr",
          "output_type": "stream",
          "text": [
            "100%|██████████| 938/938 [00:22<00:00, 41.80it/s, accuracy=1, loss=0.0829, lr=5.23e-6]\n"
          ]
        },
        {
          "name": "stdout",
          "output_type": "stream",
          "text": [
            "Epoch 29, Val Loss: 0.22964689983826153, Val Accuracy: 0.9321, Precision: 0.9321456821876265, Recall: 0.9321, F1 Score: 0.9320054626962073\n"
          ]
        },
        {
          "name": "stderr",
          "output_type": "stream",
          "text": [
            "100%|██████████| 938/938 [00:20<00:00, 44.99it/s, accuracy=0.969, loss=0.152, lr=4.71e-6]\n"
          ]
        },
        {
          "name": "stdout",
          "output_type": "stream",
          "text": [
            "Epoch 30, Val Loss: 0.2299581310670277, Val Accuracy: 0.9321, Precision: 0.9321752512890791, Recall: 0.9321, F1 Score: 0.9320417180698892\n"
          ]
        },
        {
          "name": "stderr",
          "output_type": "stream",
          "text": [
            "100%|██████████| 938/938 [00:22<00:00, 42.54it/s, accuracy=0.625, loss=1.25, lr=0.0001]\n"
          ]
        },
        {
          "name": "stdout",
          "output_type": "stream",
          "text": [
            "Epoch 1, Val Loss: 1.2561930854609058, Val Accuracy: 0.6345, Precision: 0.6360661418240255, Recall: 0.6345, F1 Score: 0.6279959875052911\n"
          ]
        },
        {
          "name": "stderr",
          "output_type": "stream",
          "text": [
            "100%|██████████| 938/938 [00:20<00:00, 45.35it/s, accuracy=0.906, loss=0.566, lr=9e-5]\n"
          ]
        },
        {
          "name": "stdout",
          "output_type": "stream",
          "text": [
            "Epoch 2, Val Loss: 0.6005798738663364, Val Accuracy: 0.8534, Precision: 0.8536158695716742, Recall: 0.8534, F1 Score: 0.8525721044170894\n"
          ]
        },
        {
          "name": "stderr",
          "output_type": "stream",
          "text": [
            "100%|██████████| 938/938 [00:21<00:00, 43.65it/s, accuracy=0.875, loss=0.456, lr=8.1e-5]\n"
          ]
        },
        {
          "name": "stdout",
          "output_type": "stream",
          "text": [
            "Epoch 3, Val Loss: 0.4364177568987676, Val Accuracy: 0.8901, Precision: 0.8919129229739665, Recall: 0.8901, F1 Score: 0.8899831831255135\n"
          ]
        },
        {
          "name": "stderr",
          "output_type": "stream",
          "text": [
            "100%|██████████| 938/938 [00:21<00:00, 44.30it/s, accuracy=0.938, loss=0.178, lr=7.29e-5]\n"
          ]
        },
        {
          "name": "stdout",
          "output_type": "stream",
          "text": [
            "Epoch 4, Val Loss: 0.33621115436789334, Val Accuracy: 0.9106, Precision: 0.9117111263857715, Recall: 0.9106, F1 Score: 0.9104952310407947\n"
          ]
        },
        {
          "name": "stderr",
          "output_type": "stream",
          "text": [
            "100%|██████████| 938/938 [00:20<00:00, 44.87it/s, accuracy=0.844, loss=0.415, lr=6.56e-5]\n"
          ]
        },
        {
          "name": "stdout",
          "output_type": "stream",
          "text": [
            "Epoch 5, Val Loss: 0.2845244068106648, Val Accuracy: 0.9244, Precision: 0.9244180469271781, Recall: 0.9244, F1 Score: 0.924135048130134\n"
          ]
        },
        {
          "name": "stderr",
          "output_type": "stream",
          "text": [
            "100%|██████████| 938/938 [00:21<00:00, 43.02it/s, accuracy=0.938, loss=0.307, lr=5.9e-5]\n"
          ]
        },
        {
          "name": "stdout",
          "output_type": "stream",
          "text": [
            "Epoch 6, Val Loss: 0.2746745471836655, Val Accuracy: 0.9281, Precision: 0.9286970256488192, Recall: 0.9281, F1 Score: 0.9279056971225064\n"
          ]
        },
        {
          "name": "stderr",
          "output_type": "stream",
          "text": [
            "100%|██████████| 938/938 [00:21<00:00, 42.92it/s, accuracy=0.875, loss=0.375, lr=5.31e-5]\n"
          ]
        },
        {
          "name": "stdout",
          "output_type": "stream",
          "text": [
            "Epoch 7, Val Loss: 0.23890929079501871, Val Accuracy: 0.9337, Precision: 0.9341079395331455, Recall: 0.9337, F1 Score: 0.9334377027757848\n"
          ]
        },
        {
          "name": "stderr",
          "output_type": "stream",
          "text": [
            "100%|██████████| 938/938 [00:24<00:00, 37.68it/s, accuracy=1, loss=0.1, lr=4.78e-5]\n"
          ]
        },
        {
          "name": "stdout",
          "output_type": "stream",
          "text": [
            "Epoch 8, Val Loss: 0.21578296001075178, Val Accuracy: 0.9383, Precision: 0.9388086765316539, Recall: 0.9383, F1 Score: 0.9382397568642231\n"
          ]
        },
        {
          "name": "stderr",
          "output_type": "stream",
          "text": [
            "100%|██████████| 938/938 [00:21<00:00, 42.95it/s, accuracy=1, loss=0.105, lr=4.3e-5]\n"
          ]
        },
        {
          "name": "stdout",
          "output_type": "stream",
          "text": [
            "Epoch 9, Val Loss: 0.22545119786670634, Val Accuracy: 0.9342, Precision: 0.9350447001094433, Recall: 0.9342, F1 Score: 0.9340983137811135\n"
          ]
        },
        {
          "name": "stderr",
          "output_type": "stream",
          "text": [
            "100%|██████████| 938/938 [00:22<00:00, 42.61it/s, accuracy=1, loss=0.119, lr=3.87e-5]\n"
          ]
        },
        {
          "name": "stdout",
          "output_type": "stream",
          "text": [
            "Epoch 10, Val Loss: 0.19838869629226102, Val Accuracy: 0.9419, Precision: 0.9424664344240107, Recall: 0.9419, F1 Score: 0.941902456102989\n"
          ]
        },
        {
          "name": "stderr",
          "output_type": "stream",
          "text": [
            "100%|██████████| 938/938 [00:21<00:00, 43.52it/s, accuracy=1, loss=0.0422, lr=3.49e-5]\n"
          ]
        },
        {
          "name": "stdout",
          "output_type": "stream",
          "text": [
            "Epoch 11, Val Loss: 0.19332057767351912, Val Accuracy: 0.9425, Precision: 0.9425753009747233, Recall: 0.9425, F1 Score: 0.9423890438677074\n"
          ]
        },
        {
          "name": "stderr",
          "output_type": "stream",
          "text": [
            "100%|██████████| 938/938 [00:23<00:00, 40.08it/s, accuracy=1, loss=0.106, lr=3.14e-5]\n"
          ]
        },
        {
          "name": "stdout",
          "output_type": "stream",
          "text": [
            "Epoch 12, Val Loss: 0.18521358657058826, Val Accuracy: 0.9441, Precision: 0.9442919721802098, Recall: 0.9441, F1 Score: 0.9440388613794612\n"
          ]
        },
        {
          "name": "stderr",
          "output_type": "stream",
          "text": [
            "100%|██████████| 938/938 [00:21<00:00, 42.68it/s, accuracy=0.969, loss=0.121, lr=2.82e-5]\n"
          ]
        },
        {
          "name": "stdout",
          "output_type": "stream",
          "text": [
            "Epoch 13, Val Loss: 0.18583810546548124, Val Accuracy: 0.9455, Precision: 0.9457494604673344, Recall: 0.9455, F1 Score: 0.9454531108873929\n"
          ]
        },
        {
          "name": "stderr",
          "output_type": "stream",
          "text": [
            "100%|██████████| 938/938 [00:22<00:00, 41.32it/s, accuracy=1, loss=0.102, lr=2.54e-5]\n"
          ]
        },
        {
          "name": "stdout",
          "output_type": "stream",
          "text": [
            "Epoch 14, Val Loss: 0.17599679449288425, Val Accuracy: 0.9461, Precision: 0.9463464728297558, Recall: 0.9461, F1 Score: 0.9460764508236401\n"
          ]
        },
        {
          "name": "stderr",
          "output_type": "stream",
          "text": [
            "100%|██████████| 938/938 [00:21<00:00, 43.61it/s, accuracy=0.969, loss=0.109, lr=2.29e-5]\n"
          ]
        },
        {
          "name": "stdout",
          "output_type": "stream",
          "text": [
            "Epoch 15, Val Loss: 0.17532022943969366, Val Accuracy: 0.949, Precision: 0.9489948224398791, Recall: 0.949, F1 Score: 0.948855956942702\n"
          ]
        },
        {
          "name": "stderr",
          "output_type": "stream",
          "text": [
            "100%|██████████| 938/938 [00:23<00:00, 40.75it/s, accuracy=1, loss=0.0891, lr=2.06e-5]\n"
          ]
        },
        {
          "name": "stdout",
          "output_type": "stream",
          "text": [
            "Epoch 16, Val Loss: 0.17340847358973638, Val Accuracy: 0.9477, Precision: 0.9478751069842678, Recall: 0.9477, F1 Score: 0.9476421489735527\n"
          ]
        },
        {
          "name": "stderr",
          "output_type": "stream",
          "text": [
            "100%|██████████| 938/938 [00:21<00:00, 44.27it/s, accuracy=1, loss=0.0466, lr=1.85e-5]\n"
          ]
        },
        {
          "name": "stdout",
          "output_type": "stream",
          "text": [
            "Epoch 17, Val Loss: 0.16993113008630314, Val Accuracy: 0.9488, Precision: 0.9488758053487618, Recall: 0.9488, F1 Score: 0.9486717013778151\n"
          ]
        },
        {
          "name": "stderr",
          "output_type": "stream",
          "text": [
            "100%|██████████| 938/938 [00:22<00:00, 41.38it/s, accuracy=0.969, loss=0.152, lr=1.67e-5]\n"
          ]
        },
        {
          "name": "stdout",
          "output_type": "stream",
          "text": [
            "Epoch 18, Val Loss: 0.16762830764292533, Val Accuracy: 0.9468, Precision: 0.9467483737506642, Recall: 0.9468, F1 Score: 0.9466453995589811\n"
          ]
        },
        {
          "name": "stderr",
          "output_type": "stream",
          "text": [
            "100%|██████████| 938/938 [00:20<00:00, 44.78it/s, accuracy=1, loss=0.0462, lr=1.5e-5]\n"
          ]
        },
        {
          "name": "stdout",
          "output_type": "stream",
          "text": [
            "Epoch 19, Val Loss: 0.16644834920728377, Val Accuracy: 0.9479, Precision: 0.948008747265962, Recall: 0.9479, F1 Score: 0.947842690886054\n"
          ]
        },
        {
          "name": "stderr",
          "output_type": "stream",
          "text": [
            "100%|██████████| 938/938 [00:21<00:00, 43.23it/s, accuracy=1, loss=0.0157, lr=1.35e-5]\n"
          ]
        },
        {
          "name": "stdout",
          "output_type": "stream",
          "text": [
            "Epoch 20, Val Loss: 0.16482943145315027, Val Accuracy: 0.9494, Precision: 0.9494920279091399, Recall: 0.9494, F1 Score: 0.9493423967819257\n"
          ]
        },
        {
          "name": "stderr",
          "output_type": "stream",
          "text": [
            "100%|██████████| 938/938 [00:21<00:00, 44.50it/s, accuracy=1, loss=0.0583, lr=1.22e-5]\n"
          ]
        },
        {
          "name": "stdout",
          "output_type": "stream",
          "text": [
            "Epoch 21, Val Loss: 0.16709389288577542, Val Accuracy: 0.9499, Precision: 0.9499894441593677, Recall: 0.9499, F1 Score: 0.9498591082375913\n"
          ]
        },
        {
          "name": "stderr",
          "output_type": "stream",
          "text": [
            "100%|██████████| 938/938 [00:21<00:00, 43.56it/s, accuracy=1, loss=0.0575, lr=1.09e-5]\n"
          ]
        },
        {
          "name": "stdout",
          "output_type": "stream",
          "text": [
            "Epoch 22, Val Loss: 0.16676471647094626, Val Accuracy: 0.949, Precision: 0.9489853581379051, Recall: 0.949, F1 Score: 0.9489165596966365\n"
          ]
        },
        {
          "name": "stderr",
          "output_type": "stream",
          "text": [
            "100%|██████████| 938/938 [00:21<00:00, 44.50it/s, accuracy=1, loss=0.0762, lr=9.85e-6]\n"
          ]
        },
        {
          "name": "stdout",
          "output_type": "stream",
          "text": [
            "Epoch 23, Val Loss: 0.165526003007344, Val Accuracy: 0.9475, Precision: 0.9475969914180877, Recall: 0.9475, F1 Score: 0.9474387604542474\n"
          ]
        },
        {
          "name": "stderr",
          "output_type": "stream",
          "text": [
            "100%|██████████| 938/938 [00:21<00:00, 43.38it/s, accuracy=1, loss=0.0238, lr=8.86e-6]\n"
          ]
        },
        {
          "name": "stdout",
          "output_type": "stream",
          "text": [
            "Epoch 24, Val Loss: 0.1621403924818299, Val Accuracy: 0.9493, Precision: 0.949305737540487, Recall: 0.9493, F1 Score: 0.9492196478431554\n"
          ]
        },
        {
          "name": "stderr",
          "output_type": "stream",
          "text": [
            "100%|██████████| 938/938 [00:22<00:00, 42.58it/s, accuracy=1, loss=0.0227, lr=7.98e-6]\n"
          ]
        },
        {
          "name": "stdout",
          "output_type": "stream",
          "text": [
            "Epoch 25, Val Loss: 0.1604948513755563, Val Accuracy: 0.9498, Precision: 0.9497356028527927, Recall: 0.9498, F1 Score: 0.9497045002462832\n"
          ]
        },
        {
          "name": "stderr",
          "output_type": "stream",
          "text": [
            "100%|██████████| 938/938 [00:21<00:00, 43.64it/s, accuracy=0.969, loss=0.0562, lr=7.18e-6]\n"
          ]
        },
        {
          "name": "stdout",
          "output_type": "stream",
          "text": [
            "Epoch 26, Val Loss: 0.16387072363334476, Val Accuracy: 0.9492, Precision: 0.949304336008957, Recall: 0.9492, F1 Score: 0.9491694003199358\n"
          ]
        },
        {
          "name": "stderr",
          "output_type": "stream",
          "text": [
            "100%|██████████| 938/938 [00:21<00:00, 43.92it/s, accuracy=1, loss=0.0133, lr=6.46e-6]\n"
          ]
        },
        {
          "name": "stdout",
          "output_type": "stream",
          "text": [
            "Epoch 27, Val Loss: 0.16101334473284282, Val Accuracy: 0.9484, Precision: 0.9484020046653033, Recall: 0.9484, F1 Score: 0.9483041123425276\n"
          ]
        },
        {
          "name": "stderr",
          "output_type": "stream",
          "text": [
            "100%|██████████| 938/938 [00:20<00:00, 44.80it/s, accuracy=1, loss=0.0109, lr=5.81e-6]\n"
          ]
        },
        {
          "name": "stdout",
          "output_type": "stream",
          "text": [
            "Epoch 28, Val Loss: 0.16163918034879454, Val Accuracy: 0.9486, Precision: 0.9486229856567457, Recall: 0.9486, F1 Score: 0.9485301619432676\n"
          ]
        },
        {
          "name": "stderr",
          "output_type": "stream",
          "text": [
            "100%|██████████| 938/938 [00:21<00:00, 42.71it/s, accuracy=1, loss=0.0292, lr=5.23e-6]\n"
          ]
        },
        {
          "name": "stdout",
          "output_type": "stream",
          "text": [
            "Epoch 29, Val Loss: 0.16311776330012379, Val Accuracy: 0.9478, Precision: 0.9477596686041657, Recall: 0.9478, F1 Score: 0.9477128389633959\n"
          ]
        },
        {
          "name": "stderr",
          "output_type": "stream",
          "text": [
            "100%|██████████| 938/938 [00:20<00:00, 44.96it/s, accuracy=1, loss=0.0139, lr=4.71e-6]\n"
          ]
        },
        {
          "name": "stdout",
          "output_type": "stream",
          "text": [
            "Epoch 30, Val Loss: 0.1617972946475159, Val Accuracy: 0.9491, Precision: 0.9490671722565134, Recall: 0.9491, F1 Score: 0.9490048951358262\n"
          ]
        },
        {
          "name": "stderr",
          "output_type": "stream",
          "text": [
            "100%|██████████| 938/938 [00:22<00:00, 40.87it/s, accuracy=0.688, loss=1.12, lr=0.0001]\n"
          ]
        },
        {
          "name": "stdout",
          "output_type": "stream",
          "text": [
            "Epoch 1, Val Loss: 0.9091266522741621, Val Accuracy: 0.7581, Precision: 0.7645372656419936, Recall: 0.7581, F1 Score: 0.7591176844502268\n"
          ]
        },
        {
          "name": "stderr",
          "output_type": "stream",
          "text": [
            "100%|██████████| 938/938 [00:23<00:00, 39.22it/s, accuracy=0.875, loss=0.514, lr=9e-5]\n"
          ]
        },
        {
          "name": "stdout",
          "output_type": "stream",
          "text": [
            "Epoch 2, Val Loss: 0.457572414142311, Val Accuracy: 0.8883, Precision: 0.8879845520041183, Recall: 0.8883, F1 Score: 0.8878814891137053\n"
          ]
        },
        {
          "name": "stderr",
          "output_type": "stream",
          "text": [
            "100%|██████████| 938/938 [00:21<00:00, 42.81it/s, accuracy=0.906, loss=0.401, lr=8.1e-5]\n"
          ]
        },
        {
          "name": "stdout",
          "output_type": "stream",
          "text": [
            "Epoch 3, Val Loss: 0.35953643073321906, Val Accuracy: 0.911, Precision: 0.9116192390341986, Recall: 0.911, F1 Score: 0.9108969120129415\n"
          ]
        },
        {
          "name": "stderr",
          "output_type": "stream",
          "text": [
            "100%|██████████| 938/938 [00:22<00:00, 40.93it/s, accuracy=0.969, loss=0.201, lr=7.29e-5]\n"
          ]
        },
        {
          "name": "stdout",
          "output_type": "stream",
          "text": [
            "Epoch 4, Val Loss: 0.30167492692637593, Val Accuracy: 0.9201, Precision: 0.920793950416853, Recall: 0.9201, F1 Score: 0.9198897803033007\n"
          ]
        },
        {
          "name": "stderr",
          "output_type": "stream",
          "text": [
            "100%|██████████| 938/938 [00:21<00:00, 43.16it/s, accuracy=0.875, loss=0.364, lr=6.56e-5]\n"
          ]
        },
        {
          "name": "stdout",
          "output_type": "stream",
          "text": [
            "Epoch 5, Val Loss: 0.2520130262680494, Val Accuracy: 0.9325, Precision: 0.9333476863351864, Recall: 0.9325, F1 Score: 0.9325638956568261\n"
          ]
        },
        {
          "name": "stderr",
          "output_type": "stream",
          "text": [
            "100%|██████████| 938/938 [00:22<00:00, 41.23it/s, accuracy=0.938, loss=0.265, lr=5.9e-5]\n"
          ]
        },
        {
          "name": "stdout",
          "output_type": "stream",
          "text": [
            "Epoch 6, Val Loss: 0.23677905116253978, Val Accuracy: 0.9354, Precision: 0.9361445843773337, Recall: 0.9354, F1 Score: 0.935250101592912\n"
          ]
        },
        {
          "name": "stderr",
          "output_type": "stream",
          "text": [
            "100%|██████████| 938/938 [00:21<00:00, 44.23it/s, accuracy=0.938, loss=0.182, lr=5.31e-5]\n"
          ]
        },
        {
          "name": "stdout",
          "output_type": "stream",
          "text": [
            "Epoch 7, Val Loss: 0.22711588890784107, Val Accuracy: 0.936, Precision: 0.9368346851869517, Recall: 0.936, F1 Score: 0.9358491274663422\n"
          ]
        },
        {
          "name": "stderr",
          "output_type": "stream",
          "text": [
            "100%|██████████| 938/938 [00:22<00:00, 41.75it/s, accuracy=0.969, loss=0.184, lr=4.78e-5]\n"
          ]
        },
        {
          "name": "stdout",
          "output_type": "stream",
          "text": [
            "Epoch 8, Val Loss: 0.1976689236108095, Val Accuracy: 0.9444, Precision: 0.9450406917124421, Recall: 0.9444, F1 Score: 0.9441282733040991\n"
          ]
        },
        {
          "name": "stderr",
          "output_type": "stream",
          "text": [
            "100%|██████████| 938/938 [00:22<00:00, 42.41it/s, accuracy=1, loss=0.11, lr=4.3e-5]\n"
          ]
        },
        {
          "name": "stdout",
          "output_type": "stream",
          "text": [
            "Epoch 9, Val Loss: 0.18044376714380495, Val Accuracy: 0.9468, Precision: 0.9473072917468777, Recall: 0.9468, F1 Score: 0.9467803861762623\n"
          ]
        },
        {
          "name": "stderr",
          "output_type": "stream",
          "text": [
            "100%|██████████| 938/938 [00:23<00:00, 40.05it/s, accuracy=0.938, loss=0.175, lr=3.87e-5]\n"
          ]
        },
        {
          "name": "stdout",
          "output_type": "stream",
          "text": [
            "Epoch 10, Val Loss: 0.1721358374384036, Val Accuracy: 0.95, Precision: 0.9502539295859626, Recall: 0.95, F1 Score: 0.9500087325792803\n"
          ]
        },
        {
          "name": "stderr",
          "output_type": "stream",
          "text": [
            "100%|██████████| 938/938 [00:21<00:00, 43.48it/s, accuracy=0.938, loss=0.16, lr=3.49e-5]\n"
          ]
        },
        {
          "name": "stdout",
          "output_type": "stream",
          "text": [
            "Epoch 11, Val Loss: 0.16372097012806375, Val Accuracy: 0.9517, Precision: 0.9520418232623581, Recall: 0.9517, F1 Score: 0.9516156147882523\n"
          ]
        },
        {
          "name": "stderr",
          "output_type": "stream",
          "text": [
            "100%|██████████| 938/938 [00:23<00:00, 40.47it/s, accuracy=1, loss=0.0502, lr=3.14e-5]\n"
          ]
        },
        {
          "name": "stdout",
          "output_type": "stream",
          "text": [
            "Epoch 12, Val Loss: 0.15782940299635764, Val Accuracy: 0.9515, Precision: 0.951760120009234, Recall: 0.9515, F1 Score: 0.9514163347798867\n"
          ]
        },
        {
          "name": "stderr",
          "output_type": "stream",
          "text": [
            "100%|██████████| 938/938 [00:21<00:00, 43.86it/s, accuracy=1, loss=0.0496, lr=2.82e-5]\n"
          ]
        },
        {
          "name": "stdout",
          "output_type": "stream",
          "text": [
            "Epoch 13, Val Loss: 0.1395763215508051, Val Accuracy: 0.9579, Precision: 0.9579056450810857, Recall: 0.9579, F1 Score: 0.9578581751804509\n"
          ]
        },
        {
          "name": "stderr",
          "output_type": "stream",
          "text": [
            "100%|██████████| 938/938 [00:23<00:00, 39.80it/s, accuracy=1, loss=0.0484, lr=2.54e-5]\n"
          ]
        },
        {
          "name": "stdout",
          "output_type": "stream",
          "text": [
            "Epoch 14, Val Loss: 0.14881785175982554, Val Accuracy: 0.9551, Precision: 0.955315139695222, Recall: 0.9551, F1 Score: 0.9549778143401041\n"
          ]
        },
        {
          "name": "stderr",
          "output_type": "stream",
          "text": [
            "100%|██████████| 938/938 [00:21<00:00, 43.96it/s, accuracy=1, loss=0.0345, lr=2.29e-5]\n"
          ]
        },
        {
          "name": "stdout",
          "output_type": "stream",
          "text": [
            "Epoch 15, Val Loss: 0.14114883399396472, Val Accuracy: 0.9569, Precision: 0.9569528362830384, Recall: 0.9569, F1 Score: 0.9568029145785553\n"
          ]
        },
        {
          "name": "stderr",
          "output_type": "stream",
          "text": [
            "100%|██████████| 938/938 [00:23<00:00, 40.06it/s, accuracy=1, loss=0.026, lr=2.06e-5]\n"
          ]
        },
        {
          "name": "stdout",
          "output_type": "stream",
          "text": [
            "Epoch 16, Val Loss: 0.1405751542395847, Val Accuracy: 0.9568, Precision: 0.9569162546039784, Recall: 0.9568, F1 Score: 0.9566656022400827\n"
          ]
        },
        {
          "name": "stderr",
          "output_type": "stream",
          "text": [
            "100%|██████████| 938/938 [00:21<00:00, 43.43it/s, accuracy=1, loss=0.0372, lr=1.85e-5]\n"
          ]
        },
        {
          "name": "stdout",
          "output_type": "stream",
          "text": [
            "Epoch 17, Val Loss: 0.13909366981431864, Val Accuracy: 0.9559, Precision: 0.9561960477496488, Recall: 0.9559, F1 Score: 0.9558722559958808\n"
          ]
        },
        {
          "name": "stderr",
          "output_type": "stream",
          "text": [
            "100%|██████████| 938/938 [00:25<00:00, 37.45it/s, accuracy=1, loss=0.0174, lr=1.67e-5]\n"
          ]
        },
        {
          "name": "stdout",
          "output_type": "stream",
          "text": [
            "Epoch 18, Val Loss: 0.13724082572590324, Val Accuracy: 0.9579, Precision: 0.9580728251674443, Recall: 0.9579, F1 Score: 0.9578593480038881\n"
          ]
        },
        {
          "name": "stderr",
          "output_type": "stream",
          "text": [
            "100%|██████████| 938/938 [00:22<00:00, 42.03it/s, accuracy=1, loss=0.024, lr=1.5e-5]\n"
          ]
        },
        {
          "name": "stdout",
          "output_type": "stream",
          "text": [
            "Epoch 19, Val Loss: 0.1357863392320515, Val Accuracy: 0.9574, Precision: 0.9576263052127215, Recall: 0.9574, F1 Score: 0.9573906729358963\n"
          ]
        },
        {
          "name": "stderr",
          "output_type": "stream",
          "text": [
            "100%|██████████| 938/938 [00:24<00:00, 38.99it/s, accuracy=1, loss=0.0159, lr=1.35e-5]\n"
          ]
        },
        {
          "name": "stdout",
          "output_type": "stream",
          "text": [
            "Epoch 20, Val Loss: 0.1353699494847304, Val Accuracy: 0.9576, Precision: 0.9576756373584209, Recall: 0.9576, F1 Score: 0.9575679354720654\n"
          ]
        },
        {
          "name": "stderr",
          "output_type": "stream",
          "text": [
            "100%|██████████| 938/938 [00:22<00:00, 41.70it/s, accuracy=1, loss=0.0076, lr=1.22e-5]\n"
          ]
        },
        {
          "name": "stdout",
          "output_type": "stream",
          "text": [
            "Epoch 21, Val Loss: 0.13203052204965382, Val Accuracy: 0.9578, Precision: 0.9579261402849237, Recall: 0.9578, F1 Score: 0.9577481302712989\n"
          ]
        },
        {
          "name": "stderr",
          "output_type": "stream",
          "text": [
            "100%|██████████| 938/938 [00:23<00:00, 40.61it/s, accuracy=1, loss=0.00603, lr=1.09e-5]\n"
          ]
        },
        {
          "name": "stdout",
          "output_type": "stream",
          "text": [
            "Epoch 22, Val Loss: 0.13466065492225918, Val Accuracy: 0.9592, Precision: 0.9592599130283598, Recall: 0.9592, F1 Score: 0.9591157939360202\n"
          ]
        },
        {
          "name": "stderr",
          "output_type": "stream",
          "text": [
            "100%|██████████| 938/938 [00:22<00:00, 40.91it/s, accuracy=1, loss=0.0123, lr=9.85e-6]\n"
          ]
        },
        {
          "name": "stdout",
          "output_type": "stream",
          "text": [
            "Epoch 23, Val Loss: 0.13360172094351605, Val Accuracy: 0.959, Precision: 0.9590838949005598, Recall: 0.959, F1 Score: 0.9589587455918835\n"
          ]
        },
        {
          "name": "stderr",
          "output_type": "stream",
          "text": [
            "100%|██████████| 938/938 [00:22<00:00, 41.79it/s, accuracy=1, loss=0.00782, lr=8.86e-6]\n"
          ]
        },
        {
          "name": "stdout",
          "output_type": "stream",
          "text": [
            "Epoch 24, Val Loss: 0.13101995621057477, Val Accuracy: 0.9588, Precision: 0.9588271475940097, Recall: 0.9588, F1 Score: 0.9587240246670333\n"
          ]
        },
        {
          "name": "stderr",
          "output_type": "stream",
          "text": [
            "100%|██████████| 938/938 [00:22<00:00, 41.07it/s, accuracy=1, loss=0.00854, lr=7.98e-6]\n"
          ]
        },
        {
          "name": "stdout",
          "output_type": "stream",
          "text": [
            "Epoch 25, Val Loss: 0.13007720508783238, Val Accuracy: 0.9596, Precision: 0.959632769097165, Recall: 0.9596, F1 Score: 0.9595471416449125\n"
          ]
        },
        {
          "name": "stderr",
          "output_type": "stream",
          "text": [
            "100%|██████████| 938/938 [00:22<00:00, 42.57it/s, accuracy=1, loss=0.00344, lr=7.18e-6]\n"
          ]
        },
        {
          "name": "stdout",
          "output_type": "stream",
          "text": [
            "Epoch 26, Val Loss: 0.131658442637284, Val Accuracy: 0.9596, Precision: 0.9596298400992704, Recall: 0.9596, F1 Score: 0.9595572543407443\n"
          ]
        },
        {
          "name": "stderr",
          "output_type": "stream",
          "text": [
            "100%|██████████| 938/938 [00:22<00:00, 41.49it/s, accuracy=1, loss=0.00205, lr=6.46e-6]\n"
          ]
        },
        {
          "name": "stdout",
          "output_type": "stream",
          "text": [
            "Epoch 27, Val Loss: 0.13123117810375484, Val Accuracy: 0.959, Precision: 0.9590165364613251, Recall: 0.959, F1 Score: 0.9589459899022348\n"
          ]
        },
        {
          "name": "stderr",
          "output_type": "stream",
          "text": [
            "100%|██████████| 938/938 [00:21<00:00, 42.97it/s, accuracy=1, loss=0.00321, lr=5.81e-6]\n"
          ]
        },
        {
          "name": "stdout",
          "output_type": "stream",
          "text": [
            "Epoch 28, Val Loss: 0.13293363324479218, Val Accuracy: 0.9597, Precision: 0.9597027257276671, Recall: 0.9597, F1 Score: 0.959638327305864\n"
          ]
        },
        {
          "name": "stderr",
          "output_type": "stream",
          "text": [
            "100%|██████████| 938/938 [00:22<00:00, 41.11it/s, accuracy=1, loss=0.00175, lr=5.23e-6]\n"
          ]
        },
        {
          "name": "stdout",
          "output_type": "stream",
          "text": [
            "Epoch 29, Val Loss: 0.13126693130359587, Val Accuracy: 0.959, Precision: 0.9589545940565689, Recall: 0.959, F1 Score: 0.9589313054460399\n"
          ]
        },
        {
          "name": "stderr",
          "output_type": "stream",
          "text": [
            "100%|██████████| 938/938 [00:21<00:00, 42.98it/s, accuracy=1, loss=0.00502, lr=4.71e-6]\n"
          ]
        },
        {
          "name": "stdout",
          "output_type": "stream",
          "text": [
            "Epoch 30, Val Loss: 0.1315764596335038, Val Accuracy: 0.9595, Precision: 0.9595546301904304, Recall: 0.9595, F1 Score: 0.9594367084988524\n"
          ]
        },
        {
          "name": "stderr",
          "output_type": "stream",
          "text": [
            "100%|██████████| 938/938 [00:24<00:00, 38.71it/s, accuracy=0.844, loss=0.668, lr=0.0001]\n"
          ]
        },
        {
          "name": "stdout",
          "output_type": "stream",
          "text": [
            "Epoch 1, Val Loss: 0.7063552182950791, Val Accuracy: 0.8087, Precision: 0.8136646986866142, Recall: 0.8087, F1 Score: 0.808029632767101\n"
          ]
        },
        {
          "name": "stderr",
          "output_type": "stream",
          "text": [
            "100%|██████████| 938/938 [00:23<00:00, 40.73it/s, accuracy=0.938, loss=0.322, lr=9e-5]\n"
          ]
        },
        {
          "name": "stdout",
          "output_type": "stream",
          "text": [
            "Epoch 2, Val Loss: 0.4250892712052461, Val Accuracy: 0.884, Precision: 0.8881374237354636, Recall: 0.884, F1 Score: 0.8839907733278979\n"
          ]
        },
        {
          "name": "stderr",
          "output_type": "stream",
          "text": [
            "100%|██████████| 938/938 [00:26<00:00, 35.78it/s, accuracy=0.844, loss=0.447, lr=8.1e-5]\n"
          ]
        },
        {
          "name": "stdout",
          "output_type": "stream",
          "text": [
            "Epoch 3, Val Loss: 0.29065340683813307, Val Accuracy: 0.924, Precision: 0.9238780005306022, Recall: 0.924, F1 Score: 0.9238550662228012\n"
          ]
        },
        {
          "name": "stderr",
          "output_type": "stream",
          "text": [
            "100%|██████████| 938/938 [00:25<00:00, 37.33it/s, accuracy=0.938, loss=0.216, lr=7.29e-5]\n"
          ]
        },
        {
          "name": "stdout",
          "output_type": "stream",
          "text": [
            "Epoch 4, Val Loss: 0.2389875963140445, Val Accuracy: 0.9317, Precision: 0.9320009739310612, Recall: 0.9317, F1 Score: 0.9316180558354563\n"
          ]
        },
        {
          "name": "stderr",
          "output_type": "stream",
          "text": [
            "100%|██████████| 938/938 [00:23<00:00, 40.18it/s, accuracy=0.906, loss=0.405, lr=6.56e-5]\n"
          ]
        },
        {
          "name": "stdout",
          "output_type": "stream",
          "text": [
            "Epoch 5, Val Loss: 0.22626981446460173, Val Accuracy: 0.9384, Precision: 0.9385476993416371, Recall: 0.9384, F1 Score: 0.9381324282898887\n"
          ]
        },
        {
          "name": "stderr",
          "output_type": "stream",
          "text": [
            "100%|██████████| 938/938 [00:24<00:00, 38.91it/s, accuracy=0.969, loss=0.16, lr=5.9e-5]\n"
          ]
        },
        {
          "name": "stdout",
          "output_type": "stream",
          "text": [
            "Epoch 6, Val Loss: 0.21087590047413377, Val Accuracy: 0.9425, Precision: 0.9427281561280152, Recall: 0.9425, F1 Score: 0.9422485617795503\n"
          ]
        },
        {
          "name": "stderr",
          "output_type": "stream",
          "text": [
            "100%|██████████| 938/938 [00:25<00:00, 36.48it/s, accuracy=0.969, loss=0.129, lr=5.31e-5]\n"
          ]
        },
        {
          "name": "stdout",
          "output_type": "stream",
          "text": [
            "Epoch 7, Val Loss: 0.20912407755044995, Val Accuracy: 0.9414, Precision: 0.9430647329681541, Recall: 0.9414, F1 Score: 0.941574655511524\n"
          ]
        },
        {
          "name": "stderr",
          "output_type": "stream",
          "text": [
            "100%|██████████| 938/938 [00:23<00:00, 40.14it/s, accuracy=1, loss=0.0815, lr=4.78e-5]\n"
          ]
        },
        {
          "name": "stdout",
          "output_type": "stream",
          "text": [
            "Epoch 8, Val Loss: 0.1699204501654407, Val Accuracy: 0.9512, Precision: 0.9517133962539142, Recall: 0.9512, F1 Score: 0.9512444953474173\n"
          ]
        },
        {
          "name": "stderr",
          "output_type": "stream",
          "text": [
            "100%|██████████| 938/938 [00:24<00:00, 38.01it/s, accuracy=0.938, loss=0.17, lr=4.3e-5]\n"
          ]
        },
        {
          "name": "stdout",
          "output_type": "stream",
          "text": [
            "Epoch 9, Val Loss: 0.14684399445452223, Val Accuracy: 0.9552, Precision: 0.9552652108743547, Recall: 0.9552, F1 Score: 0.9551441210773275\n"
          ]
        },
        {
          "name": "stderr",
          "output_type": "stream",
          "text": [
            "100%|██████████| 938/938 [00:23<00:00, 39.54it/s, accuracy=1, loss=0.0299, lr=3.87e-5]\n"
          ]
        },
        {
          "name": "stdout",
          "output_type": "stream",
          "text": [
            "Epoch 10, Val Loss: 0.14977113390044802, Val Accuracy: 0.957, Precision: 0.9573571320080031, Recall: 0.957, F1 Score: 0.9569169729153562\n"
          ]
        },
        {
          "name": "stderr",
          "output_type": "stream",
          "text": [
            "100%|██████████| 938/938 [00:23<00:00, 40.69it/s, accuracy=0.969, loss=0.0578, lr=3.49e-5]\n"
          ]
        },
        {
          "name": "stdout",
          "output_type": "stream",
          "text": [
            "Epoch 11, Val Loss: 0.13345290037690644, Val Accuracy: 0.9586, Precision: 0.95872807448761, Recall: 0.9586, F1 Score: 0.9585173575465591\n"
          ]
        },
        {
          "name": "stderr",
          "output_type": "stream",
          "text": [
            "100%|██████████| 938/938 [00:24<00:00, 37.61it/s, accuracy=1, loss=0.0243, lr=3.14e-5]\n"
          ]
        },
        {
          "name": "stdout",
          "output_type": "stream",
          "text": [
            "Epoch 12, Val Loss: 0.13238333685288003, Val Accuracy: 0.9583, Precision: 0.9584105371688622, Recall: 0.9583, F1 Score: 0.9582387257524435\n"
          ]
        },
        {
          "name": "stderr",
          "output_type": "stream",
          "text": [
            "100%|██████████| 938/938 [00:23<00:00, 40.28it/s, accuracy=0.969, loss=0.0613, lr=2.82e-5]\n"
          ]
        },
        {
          "name": "stdout",
          "output_type": "stream",
          "text": [
            "Epoch 13, Val Loss: 0.12445387986539062, Val Accuracy: 0.9603, Precision: 0.9603256724604642, Recall: 0.9603, F1 Score: 0.9602667892505866\n"
          ]
        },
        {
          "name": "stderr",
          "output_type": "stream",
          "text": [
            "100%|██████████| 938/938 [00:24<00:00, 38.37it/s, accuracy=1, loss=0.012, lr=2.54e-5]\n"
          ]
        },
        {
          "name": "stdout",
          "output_type": "stream",
          "text": [
            "Epoch 14, Val Loss: 0.12804980881313444, Val Accuracy: 0.9598, Precision: 0.9599323957010527, Recall: 0.9598, F1 Score: 0.9597628272624515\n"
          ]
        },
        {
          "name": "stderr",
          "output_type": "stream",
          "text": [
            "100%|██████████| 938/938 [00:24<00:00, 38.42it/s, accuracy=1, loss=0.0127, lr=2.29e-5]\n"
          ]
        },
        {
          "name": "stdout",
          "output_type": "stream",
          "text": [
            "Epoch 15, Val Loss: 0.11814866611136385, Val Accuracy: 0.9628, Precision: 0.962822010230825, Recall: 0.9628, F1 Score: 0.9627673843378659\n"
          ]
        },
        {
          "name": "stderr",
          "output_type": "stream",
          "text": [
            "100%|██████████| 938/938 [00:23<00:00, 39.48it/s, accuracy=1, loss=0.0153, lr=2.06e-5]\n"
          ]
        },
        {
          "name": "stdout",
          "output_type": "stream",
          "text": [
            "Epoch 16, Val Loss: 0.11576036207198467, Val Accuracy: 0.9628, Precision: 0.9628328848697846, Recall: 0.9628, F1 Score: 0.9627438067142795\n"
          ]
        },
        {
          "name": "stderr",
          "output_type": "stream",
          "text": [
            "100%|██████████| 938/938 [00:26<00:00, 35.15it/s, accuracy=1, loss=0.00697, lr=1.85e-5]\n"
          ]
        },
        {
          "name": "stdout",
          "output_type": "stream",
          "text": [
            "Epoch 17, Val Loss: 0.11571747938150267, Val Accuracy: 0.9644, Precision: 0.9645529088788155, Recall: 0.9644, F1 Score: 0.9643870104291865\n"
          ]
        },
        {
          "name": "stderr",
          "output_type": "stream",
          "text": [
            "100%|██████████| 938/938 [00:23<00:00, 40.42it/s, accuracy=1, loss=0.0129, lr=1.67e-5]\n"
          ]
        },
        {
          "name": "stdout",
          "output_type": "stream",
          "text": [
            "Epoch 18, Val Loss: 0.11348347739015474, Val Accuracy: 0.9636, Precision: 0.9636106314977618, Recall: 0.9636, F1 Score: 0.9635711701779616\n"
          ]
        },
        {
          "name": "stderr",
          "output_type": "stream",
          "text": [
            "100%|██████████| 938/938 [00:24<00:00, 37.93it/s, accuracy=1, loss=0.0257, lr=1.5e-5]\n"
          ]
        },
        {
          "name": "stdout",
          "output_type": "stream",
          "text": [
            "Epoch 19, Val Loss: 0.12349218635517321, Val Accuracy: 0.9615, Precision: 0.9617162048530227, Recall: 0.9615, F1 Score: 0.9615200798266329\n"
          ]
        },
        {
          "name": "stderr",
          "output_type": "stream",
          "text": [
            "100%|██████████| 938/938 [00:23<00:00, 40.10it/s, accuracy=1, loss=0.00146, lr=1.35e-5]\n"
          ]
        },
        {
          "name": "stdout",
          "output_type": "stream",
          "text": [
            "Epoch 20, Val Loss: 0.11156881065923531, Val Accuracy: 0.9643, Precision: 0.9642865737684854, Recall: 0.9643, F1 Score: 0.9642606946813894\n"
          ]
        },
        {
          "name": "stderr",
          "output_type": "stream",
          "text": [
            "100%|██████████| 938/938 [00:24<00:00, 38.94it/s, accuracy=1, loss=0.00456, lr=1.22e-5]\n"
          ]
        },
        {
          "name": "stdout",
          "output_type": "stream",
          "text": [
            "Epoch 21, Val Loss: 0.1111473392084935, Val Accuracy: 0.9647, Precision: 0.9647143398237349, Recall: 0.9647, F1 Score: 0.9646793909900986\n"
          ]
        },
        {
          "name": "stderr",
          "output_type": "stream",
          "text": [
            "100%|██████████| 938/938 [00:25<00:00, 36.43it/s, accuracy=1, loss=0.00286, lr=1.09e-5]\n"
          ]
        },
        {
          "name": "stdout",
          "output_type": "stream",
          "text": [
            "Epoch 22, Val Loss: 0.11178527654287299, Val Accuracy: 0.9647, Precision: 0.9647186726570542, Recall: 0.9647, F1 Score: 0.9646640425897168\n"
          ]
        },
        {
          "name": "stderr",
          "output_type": "stream",
          "text": [
            "100%|██████████| 938/938 [00:24<00:00, 38.36it/s, accuracy=1, loss=0.00443, lr=9.85e-6]\n"
          ]
        },
        {
          "name": "stdout",
          "output_type": "stream",
          "text": [
            "Epoch 23, Val Loss: 0.11098729792458101, Val Accuracy: 0.9649, Precision: 0.9649552093789043, Recall: 0.9649, F1 Score: 0.9648812258978993\n"
          ]
        },
        {
          "name": "stderr",
          "output_type": "stream",
          "text": [
            "100%|██████████| 938/938 [00:21<00:00, 42.95it/s, accuracy=1, loss=0.00256, lr=8.86e-6]\n"
          ]
        },
        {
          "name": "stdout",
          "output_type": "stream",
          "text": [
            "Epoch 24, Val Loss: 0.1118720086070095, Val Accuracy: 0.9643, Precision: 0.9643197807356664, Recall: 0.9643, F1 Score: 0.9642704125077038\n"
          ]
        },
        {
          "name": "stderr",
          "output_type": "stream",
          "text": [
            "100%|██████████| 938/938 [00:24<00:00, 39.03it/s, accuracy=1, loss=0.00215, lr=7.98e-6]\n"
          ]
        },
        {
          "name": "stdout",
          "output_type": "stream",
          "text": [
            "Epoch 25, Val Loss: 0.11294987098271973, Val Accuracy: 0.9636, Precision: 0.9635781550631195, Recall: 0.9636, F1 Score: 0.9635657757365818\n"
          ]
        },
        {
          "name": "stderr",
          "output_type": "stream",
          "text": [
            "100%|██████████| 938/938 [00:22<00:00, 42.04it/s, accuracy=1, loss=0.00118, lr=7.18e-6]\n"
          ]
        },
        {
          "name": "stdout",
          "output_type": "stream",
          "text": [
            "Epoch 26, Val Loss: 0.11344236867300458, Val Accuracy: 0.965, Precision: 0.9650088628418063, Recall: 0.965, F1 Score: 0.9649632573947637\n"
          ]
        },
        {
          "name": "stderr",
          "output_type": "stream",
          "text": [
            "100%|██████████| 938/938 [00:23<00:00, 39.85it/s, accuracy=1, loss=0.00163, lr=6.46e-6]\n"
          ]
        },
        {
          "name": "stdout",
          "output_type": "stream",
          "text": [
            "Epoch 27, Val Loss: 0.11321494285892962, Val Accuracy: 0.9649, Precision: 0.9649053099201177, Recall: 0.9649, F1 Score: 0.9648633562660712\n"
          ]
        },
        {
          "name": "stderr",
          "output_type": "stream",
          "text": [
            "100%|██████████| 938/938 [00:21<00:00, 42.74it/s, accuracy=1, loss=0.00101, lr=5.81e-6]\n"
          ]
        },
        {
          "name": "stdout",
          "output_type": "stream",
          "text": [
            "Epoch 28, Val Loss: 0.11431852285852166, Val Accuracy: 0.9651, Precision: 0.965111746440172, Recall: 0.9651, F1 Score: 0.9650724120515716\n"
          ]
        },
        {
          "name": "stderr",
          "output_type": "stream",
          "text": [
            "100%|██████████| 938/938 [00:21<00:00, 43.39it/s, accuracy=1, loss=0.00162, lr=5.23e-6]\n"
          ]
        },
        {
          "name": "stdout",
          "output_type": "stream",
          "text": [
            "Epoch 29, Val Loss: 0.11364420646751354, Val Accuracy: 0.9656, Precision: 0.9655865533146405, Recall: 0.9656, F1 Score: 0.9655626660819613\n"
          ]
        },
        {
          "name": "stderr",
          "output_type": "stream",
          "text": [
            "100%|██████████| 938/938 [00:23<00:00, 40.25it/s, accuracy=1, loss=0.000513, lr=4.71e-6]\n"
          ]
        },
        {
          "name": "stdout",
          "output_type": "stream",
          "text": [
            "Epoch 30, Val Loss: 0.11516616382493576, Val Accuracy: 0.9655, Precision: 0.9654981529464499, Recall: 0.9655, F1 Score: 0.9654743854712782\n"
          ]
        },
        {
          "name": "stderr",
          "output_type": "stream",
          "text": [
            "100%|██████████| 938/938 [00:27<00:00, 34.50it/s, accuracy=0.969, loss=0.278, lr=0.0001]\n"
          ]
        },
        {
          "name": "stdout",
          "output_type": "stream",
          "text": [
            "Epoch 1, Val Loss: 0.5517726980956497, Val Accuracy: 0.8514, Precision: 0.853040718338596, Recall: 0.8514, F1 Score: 0.8510480665377809\n"
          ]
        },
        {
          "name": "stderr",
          "output_type": "stream",
          "text": [
            "100%|██████████| 938/938 [00:27<00:00, 33.89it/s, accuracy=0.906, loss=0.331, lr=9e-5]\n"
          ]
        },
        {
          "name": "stdout",
          "output_type": "stream",
          "text": [
            "Epoch 2, Val Loss: 0.35507812920459514, Val Accuracy: 0.9044, Precision: 0.9057299320887261, Recall: 0.9044, F1 Score: 0.9042596050817914\n"
          ]
        },
        {
          "name": "stderr",
          "output_type": "stream",
          "text": [
            "100%|██████████| 938/938 [00:26<00:00, 34.92it/s, accuracy=0.938, loss=0.247, lr=8.1e-5]\n"
          ]
        },
        {
          "name": "stdout",
          "output_type": "stream",
          "text": [
            "Epoch 3, Val Loss: 0.27958431059292926, Val Accuracy: 0.9231, Precision: 0.9254956519561618, Recall: 0.9231, F1 Score: 0.9230346115753341\n"
          ]
        },
        {
          "name": "stderr",
          "output_type": "stream",
          "text": [
            "100%|██████████| 938/938 [00:26<00:00, 35.66it/s, accuracy=0.875, loss=0.363, lr=7.29e-5]\n"
          ]
        },
        {
          "name": "stdout",
          "output_type": "stream",
          "text": [
            "Epoch 4, Val Loss: 0.2428451028124542, Val Accuracy: 0.9348, Precision: 0.9349026376338503, Recall: 0.9348, F1 Score: 0.9346488151293177\n"
          ]
        },
        {
          "name": "stderr",
          "output_type": "stream",
          "text": [
            "100%|██████████| 938/938 [00:26<00:00, 35.93it/s, accuracy=0.906, loss=0.225, lr=6.56e-5]\n"
          ]
        },
        {
          "name": "stdout",
          "output_type": "stream",
          "text": [
            "Epoch 5, Val Loss: 0.2177618409916284, Val Accuracy: 0.942, Precision: 0.942696823049305, Recall: 0.942, F1 Score: 0.9419222801416148\n"
          ]
        },
        {
          "name": "stderr",
          "output_type": "stream",
          "text": [
            "100%|██████████| 938/938 [00:26<00:00, 35.72it/s, accuracy=0.969, loss=0.113, lr=5.9e-5]\n"
          ]
        },
        {
          "name": "stdout",
          "output_type": "stream",
          "text": [
            "Epoch 6, Val Loss: 0.19354163154152929, Val Accuracy: 0.9481, Precision: 0.9484363529671312, Recall: 0.9481, F1 Score: 0.9480430504518883\n"
          ]
        },
        {
          "name": "stderr",
          "output_type": "stream",
          "text": [
            "100%|██████████| 938/938 [00:26<00:00, 35.78it/s, accuracy=1, loss=0.0647, lr=5.31e-5]\n"
          ]
        },
        {
          "name": "stdout",
          "output_type": "stream",
          "text": [
            "Epoch 7, Val Loss: 0.15867495232196466, Val Accuracy: 0.956, Precision: 0.9562526244725071, Recall: 0.956, F1 Score: 0.955997034759471\n"
          ]
        },
        {
          "name": "stderr",
          "output_type": "stream",
          "text": [
            "100%|██████████| 938/938 [00:26<00:00, 35.55it/s, accuracy=1, loss=0.0356, lr=4.78e-5]\n"
          ]
        },
        {
          "name": "stdout",
          "output_type": "stream",
          "text": [
            "Epoch 8, Val Loss: 0.16116712089319518, Val Accuracy: 0.9525, Precision: 0.9526593781829091, Recall: 0.9525, F1 Score: 0.9523989394605569\n"
          ]
        },
        {
          "name": "stderr",
          "output_type": "stream",
          "text": [
            "100%|██████████| 938/938 [00:26<00:00, 35.88it/s, accuracy=1, loss=0.0421, lr=4.3e-5]\n"
          ]
        },
        {
          "name": "stdout",
          "output_type": "stream",
          "text": [
            "Epoch 9, Val Loss: 0.14437445305038693, Val Accuracy: 0.9589, Precision: 0.9590136478896933, Recall: 0.9589, F1 Score: 0.9588550829846375\n"
          ]
        },
        {
          "name": "stderr",
          "output_type": "stream",
          "text": [
            "100%|██████████| 938/938 [00:26<00:00, 35.16it/s, accuracy=1, loss=0.0718, lr=3.87e-5]\n"
          ]
        },
        {
          "name": "stdout",
          "output_type": "stream",
          "text": [
            "Epoch 10, Val Loss: 0.14039666460423617, Val Accuracy: 0.958, Precision: 0.9580462220080647, Recall: 0.958, F1 Score: 0.9579332994054947\n"
          ]
        },
        {
          "name": "stderr",
          "output_type": "stream",
          "text": [
            "100%|██████████| 938/938 [00:26<00:00, 35.91it/s, accuracy=1, loss=0.0483, lr=3.49e-5]\n"
          ]
        },
        {
          "name": "stdout",
          "output_type": "stream",
          "text": [
            "Epoch 11, Val Loss: 0.1355831997860579, Val Accuracy: 0.9605, Precision: 0.9607643203976224, Recall: 0.9605, F1 Score: 0.9604525508737825\n"
          ]
        },
        {
          "name": "stderr",
          "output_type": "stream",
          "text": [
            "100%|██████████| 938/938 [00:26<00:00, 35.47it/s, accuracy=1, loss=0.0351, lr=3.14e-5]\n"
          ]
        },
        {
          "name": "stdout",
          "output_type": "stream",
          "text": [
            "Epoch 12, Val Loss: 0.11809956761830409, Val Accuracy: 0.965, Precision: 0.9652023441733502, Recall: 0.965, F1 Score: 0.9650006190107601\n"
          ]
        },
        {
          "name": "stderr",
          "output_type": "stream",
          "text": [
            "100%|██████████| 938/938 [00:27<00:00, 34.64it/s, accuracy=1, loss=0.0253, lr=2.82e-5]\n"
          ]
        },
        {
          "name": "stdout",
          "output_type": "stream",
          "text": [
            "Epoch 13, Val Loss: 0.11470387109768855, Val Accuracy: 0.9641, Precision: 0.9644500700700812, Recall: 0.9641, F1 Score: 0.9641353500609435\n"
          ]
        },
        {
          "name": "stderr",
          "output_type": "stream",
          "text": [
            "100%|██████████| 938/938 [00:27<00:00, 33.95it/s, accuracy=1, loss=0.0168, lr=2.54e-5]\n"
          ]
        },
        {
          "name": "stdout",
          "output_type": "stream",
          "text": [
            "Epoch 14, Val Loss: 0.11871013646444104, Val Accuracy: 0.9637, Precision: 0.9639563324978915, Recall: 0.9637, F1 Score: 0.963734138345543\n"
          ]
        },
        {
          "name": "stderr",
          "output_type": "stream",
          "text": [
            "100%|██████████| 938/938 [00:26<00:00, 35.78it/s, accuracy=1, loss=0.0121, lr=2.29e-5]\n"
          ]
        },
        {
          "name": "stdout",
          "output_type": "stream",
          "text": [
            "Epoch 15, Val Loss: 0.11182120481541583, Val Accuracy: 0.9642, Precision: 0.9644973201296976, Recall: 0.9642, F1 Score: 0.9641842939420767\n"
          ]
        },
        {
          "name": "stderr",
          "output_type": "stream",
          "text": [
            "100%|██████████| 938/938 [00:26<00:00, 35.45it/s, accuracy=1, loss=0.0222, lr=2.06e-5]\n"
          ]
        },
        {
          "name": "stdout",
          "output_type": "stream",
          "text": [
            "Epoch 16, Val Loss: 0.1058221067951482, Val Accuracy: 0.9673, Precision: 0.967291140946113, Recall: 0.9673, F1 Score: 0.9672423438123638\n"
          ]
        },
        {
          "name": "stderr",
          "output_type": "stream",
          "text": [
            "100%|██████████| 938/938 [00:26<00:00, 34.83it/s, accuracy=1, loss=0.00698, lr=1.85e-5]\n"
          ]
        },
        {
          "name": "stdout",
          "output_type": "stream",
          "text": [
            "Epoch 17, Val Loss: 0.10319208941618159, Val Accuracy: 0.9671, Precision: 0.9671456258399832, Recall: 0.9671, F1 Score: 0.9670811244840556\n"
          ]
        },
        {
          "name": "stderr",
          "output_type": "stream",
          "text": [
            "100%|██████████| 938/938 [00:26<00:00, 35.22it/s, accuracy=1, loss=0.00332, lr=1.67e-5]\n"
          ]
        },
        {
          "name": "stdout",
          "output_type": "stream",
          "text": [
            "Epoch 18, Val Loss: 0.09935915806634013, Val Accuracy: 0.9684, Precision: 0.9684939572414358, Recall: 0.9684, F1 Score: 0.9683881622884827\n"
          ]
        },
        {
          "name": "stderr",
          "output_type": "stream",
          "text": [
            "100%|██████████| 938/938 [00:26<00:00, 35.33it/s, accuracy=1, loss=0.00334, lr=1.5e-5]\n"
          ]
        },
        {
          "name": "stdout",
          "output_type": "stream",
          "text": [
            "Epoch 19, Val Loss: 0.09727534738724834, Val Accuracy: 0.9684, Precision: 0.9684663830989207, Recall: 0.9684, F1 Score: 0.9683900978264841\n"
          ]
        },
        {
          "name": "stderr",
          "output_type": "stream",
          "text": [
            "100%|██████████| 938/938 [00:26<00:00, 35.84it/s, accuracy=1, loss=0.00197, lr=1.35e-5]\n"
          ]
        },
        {
          "name": "stdout",
          "output_type": "stream",
          "text": [
            "Epoch 20, Val Loss: 0.09804151668383852, Val Accuracy: 0.9707, Precision: 0.9707146743164414, Recall: 0.9707, F1 Score: 0.9706770011680095\n"
          ]
        },
        {
          "name": "stderr",
          "output_type": "stream",
          "text": [
            "100%|██████████| 938/938 [00:26<00:00, 35.66it/s, accuracy=1, loss=0.0173, lr=1.22e-5]\n"
          ]
        },
        {
          "name": "stdout",
          "output_type": "stream",
          "text": [
            "Epoch 21, Val Loss: 0.12118105999947448, Val Accuracy: 0.9618, Precision: 0.9619612142522105, Recall: 0.9618, F1 Score: 0.9617841452354311\n"
          ]
        },
        {
          "name": "stderr",
          "output_type": "stream",
          "text": [
            "100%|██████████| 938/938 [00:26<00:00, 35.81it/s, accuracy=1, loss=0.00561, lr=1.09e-5]\n"
          ]
        },
        {
          "name": "stdout",
          "output_type": "stream",
          "text": [
            "Epoch 22, Val Loss: 0.09876774564577462, Val Accuracy: 0.9697, Precision: 0.9697486651200826, Recall: 0.9697, F1 Score: 0.9696990130692286\n"
          ]
        },
        {
          "name": "stderr",
          "output_type": "stream",
          "text": [
            "100%|██████████| 938/938 [00:26<00:00, 35.60it/s, accuracy=1, loss=0.00376, lr=9.85e-6]\n"
          ]
        },
        {
          "name": "stdout",
          "output_type": "stream",
          "text": [
            "Epoch 23, Val Loss: 0.09815256689665142, Val Accuracy: 0.9695, Precision: 0.9695539345412822, Recall: 0.9695, F1 Score: 0.9694803554948358\n"
          ]
        },
        {
          "name": "stderr",
          "output_type": "stream",
          "text": [
            "100%|██████████| 938/938 [00:26<00:00, 35.67it/s, accuracy=1, loss=0.00131, lr=8.86e-6]\n"
          ]
        },
        {
          "name": "stdout",
          "output_type": "stream",
          "text": [
            "Epoch 24, Val Loss: 0.09762173369534279, Val Accuracy: 0.97, Precision: 0.9700267479553493, Recall: 0.97, F1 Score: 0.9699781431745707\n"
          ]
        },
        {
          "name": "stderr",
          "output_type": "stream",
          "text": [
            "100%|██████████| 938/938 [00:26<00:00, 35.21it/s, accuracy=1, loss=0.0014, lr=7.98e-6]\n"
          ]
        },
        {
          "name": "stdout",
          "output_type": "stream",
          "text": [
            "Epoch 25, Val Loss: 0.09693956701265712, Val Accuracy: 0.9704, Precision: 0.9704383137811073, Recall: 0.9704, F1 Score: 0.9703892520744106\n"
          ]
        },
        {
          "name": "stderr",
          "output_type": "stream",
          "text": [
            "100%|██████████| 938/938 [00:27<00:00, 33.58it/s, accuracy=1, loss=0.00117, lr=7.18e-6]\n"
          ]
        },
        {
          "name": "stdout",
          "output_type": "stream",
          "text": [
            "Epoch 26, Val Loss: 0.09935060171828461, Val Accuracy: 0.9698, Precision: 0.9698447296492488, Recall: 0.9698, F1 Score: 0.969790943297298\n"
          ]
        },
        {
          "name": "stderr",
          "output_type": "stream",
          "text": [
            "100%|██████████| 938/938 [00:31<00:00, 30.01it/s, accuracy=1, loss=0.0012, lr=6.46e-6]\n"
          ]
        },
        {
          "name": "stdout",
          "output_type": "stream",
          "text": [
            "Epoch 27, Val Loss: 0.09809878995983341, Val Accuracy: 0.9709, Precision: 0.9709329606540538, Recall: 0.9709, F1 Score: 0.9708843028557472\n"
          ]
        },
        {
          "name": "stderr",
          "output_type": "stream",
          "text": [
            "100%|██████████| 938/938 [00:29<00:00, 31.27it/s, accuracy=1, loss=0.00128, lr=5.81e-6]\n"
          ]
        },
        {
          "name": "stdout",
          "output_type": "stream",
          "text": [
            "Epoch 28, Val Loss: 0.0987274503108458, Val Accuracy: 0.9705, Precision: 0.9705245405606425, Recall: 0.9705, F1 Score: 0.9704771106654272\n"
          ]
        },
        {
          "name": "stderr",
          "output_type": "stream",
          "text": [
            "100%|██████████| 938/938 [00:30<00:00, 30.38it/s, accuracy=1, loss=0.000357, lr=5.23e-6]\n"
          ]
        },
        {
          "name": "stdout",
          "output_type": "stream",
          "text": [
            "Epoch 29, Val Loss: 0.09966347192268216, Val Accuracy: 0.9698, Precision: 0.9699034532067324, Recall: 0.9698, F1 Score: 0.9697813045799865\n"
          ]
        },
        {
          "name": "stderr",
          "output_type": "stream",
          "text": [
            "100%|██████████| 938/938 [00:29<00:00, 31.45it/s, accuracy=1, loss=0.00126, lr=4.71e-6]\n"
          ]
        },
        {
          "name": "stdout",
          "output_type": "stream",
          "text": [
            "Epoch 30, Val Loss: 0.09979430099896501, Val Accuracy: 0.9709, Precision: 0.9709238332560867, Recall: 0.9709, F1 Score: 0.9708841357114865\n"
          ]
        },
        {
          "name": "stderr",
          "output_type": "stream",
          "text": [
            "100%|██████████| 938/938 [00:44<00:00, 20.86it/s, accuracy=0.844, loss=0.528, lr=0.0001]\n"
          ]
        },
        {
          "name": "stdout",
          "output_type": "stream",
          "text": [
            "Epoch 1, Val Loss: 0.5080914402463633, Val Accuracy: 0.8623, Precision: 0.8670609602435506, Recall: 0.8623, F1 Score: 0.8626039714740716\n"
          ]
        },
        {
          "name": "stderr",
          "output_type": "stream",
          "text": [
            "100%|██████████| 938/938 [00:44<00:00, 20.91it/s, accuracy=0.906, loss=0.36, lr=9e-5]\n"
          ]
        },
        {
          "name": "stdout",
          "output_type": "stream",
          "text": [
            "Epoch 2, Val Loss: 0.3343092041552826, Val Accuracy: 0.9094, Precision: 0.9099961205830422, Recall: 0.9094, F1 Score: 0.9089326754178343\n"
          ]
        },
        {
          "name": "stderr",
          "output_type": "stream",
          "text": [
            "100%|██████████| 938/938 [00:45<00:00, 20.83it/s, accuracy=1, loss=0.198, lr=8.1e-5]\n"
          ]
        },
        {
          "name": "stdout",
          "output_type": "stream",
          "text": [
            "Epoch 3, Val Loss: 0.2687458017971485, Val Accuracy: 0.9252, Precision: 0.9261803801297441, Recall: 0.9252, F1 Score: 0.9247715032400289\n"
          ]
        },
        {
          "name": "stderr",
          "output_type": "stream",
          "text": [
            "100%|██████████| 938/938 [00:45<00:00, 20.70it/s, accuracy=0.938, loss=0.203, lr=7.29e-5]\n"
          ]
        },
        {
          "name": "stdout",
          "output_type": "stream",
          "text": [
            "Epoch 4, Val Loss: 0.22393909017229155, Val Accuracy: 0.9387, Precision: 0.9392575323084275, Recall: 0.9387, F1 Score: 0.9386074584429934\n"
          ]
        },
        {
          "name": "stderr",
          "output_type": "stream",
          "text": [
            "100%|██████████| 938/938 [00:45<00:00, 20.71it/s, accuracy=0.969, loss=0.175, lr=6.56e-5]\n"
          ]
        },
        {
          "name": "stdout",
          "output_type": "stream",
          "text": [
            "Epoch 5, Val Loss: 0.20151730307680407, Val Accuracy: 0.9455, Precision: 0.9458734811424436, Recall: 0.9455, F1 Score: 0.9454367373516085\n"
          ]
        },
        {
          "name": "stderr",
          "output_type": "stream",
          "text": [
            "100%|██████████| 938/938 [00:45<00:00, 20.64it/s, accuracy=0.969, loss=0.138, lr=5.9e-5]\n"
          ]
        },
        {
          "name": "stdout",
          "output_type": "stream",
          "text": [
            "Epoch 6, Val Loss: 0.18984646008462663, Val Accuracy: 0.9483, Precision: 0.948984162082492, Recall: 0.9483, F1 Score: 0.9483750544573327\n"
          ]
        },
        {
          "name": "stderr",
          "output_type": "stream",
          "text": [
            "100%|██████████| 938/938 [00:44<00:00, 21.07it/s, accuracy=0.875, loss=0.331, lr=5.31e-5]\n"
          ]
        },
        {
          "name": "stdout",
          "output_type": "stream",
          "text": [
            "Epoch 7, Val Loss: 0.17187478625850314, Val Accuracy: 0.9543, Precision: 0.9546943282706405, Recall: 0.9543, F1 Score: 0.9543368682120814\n"
          ]
        },
        {
          "name": "stderr",
          "output_type": "stream",
          "text": [
            "100%|██████████| 938/938 [00:44<00:00, 20.96it/s, accuracy=0.938, loss=0.0938, lr=4.78e-5]\n"
          ]
        },
        {
          "name": "stdout",
          "output_type": "stream",
          "text": [
            "Epoch 8, Val Loss: 0.14197896725563391, Val Accuracy: 0.9602, Precision: 0.960281635472729, Recall: 0.9602, F1 Score: 0.960136049568977\n"
          ]
        },
        {
          "name": "stderr",
          "output_type": "stream",
          "text": [
            "100%|██████████| 938/938 [00:44<00:00, 20.90it/s, accuracy=0.969, loss=0.0919, lr=4.3e-5]\n"
          ]
        },
        {
          "name": "stdout",
          "output_type": "stream",
          "text": [
            "Epoch 9, Val Loss: 0.13725744352741226, Val Accuracy: 0.9593, Precision: 0.9597166694782764, Recall: 0.9593, F1 Score: 0.9592039746210094\n"
          ]
        },
        {
          "name": "stderr",
          "output_type": "stream",
          "text": [
            "100%|██████████| 938/938 [00:44<00:00, 21.08it/s, accuracy=1, loss=0.0507, lr=3.87e-5]\n"
          ]
        },
        {
          "name": "stdout",
          "output_type": "stream",
          "text": [
            "Epoch 10, Val Loss: 0.11793886277391605, Val Accuracy: 0.9652, Precision: 0.9652981272555767, Recall: 0.9652, F1 Score: 0.9651536496225946\n"
          ]
        },
        {
          "name": "stderr",
          "output_type": "stream",
          "text": [
            "100%|██████████| 938/938 [00:44<00:00, 21.11it/s, accuracy=1, loss=0.0317, lr=3.49e-5]\n"
          ]
        },
        {
          "name": "stdout",
          "output_type": "stream",
          "text": [
            "Epoch 11, Val Loss: 0.12003571991986672, Val Accuracy: 0.9632, Precision: 0.9633283201425656, Recall: 0.9632, F1 Score: 0.9631388282690343\n"
          ]
        },
        {
          "name": "stderr",
          "output_type": "stream",
          "text": [
            "100%|██████████| 938/938 [00:45<00:00, 20.80it/s, accuracy=1, loss=0.0177, lr=3.14e-5]\n"
          ]
        },
        {
          "name": "stdout",
          "output_type": "stream",
          "text": [
            "Epoch 12, Val Loss: 0.10676887755024182, Val Accuracy: 0.9672, Precision: 0.9673614233979082, Recall: 0.9672, F1 Score: 0.96717401321939\n"
          ]
        },
        {
          "name": "stderr",
          "output_type": "stream",
          "text": [
            "100%|██████████| 938/938 [00:46<00:00, 20.39it/s, accuracy=0.938, loss=0.0838, lr=2.82e-5]\n"
          ]
        },
        {
          "name": "stdout",
          "output_type": "stream",
          "text": [
            "Epoch 13, Val Loss: 0.11534855386930382, Val Accuracy: 0.9664, Precision: 0.9664148891501428, Recall: 0.9664, F1 Score: 0.9663567995974043\n"
          ]
        },
        {
          "name": "stderr",
          "output_type": "stream",
          "text": [
            "100%|██████████| 938/938 [00:45<00:00, 20.67it/s, accuracy=1, loss=0.0102, lr=2.54e-5]\n"
          ]
        },
        {
          "name": "stdout",
          "output_type": "stream",
          "text": [
            "Epoch 14, Val Loss: 0.1013950265322628, Val Accuracy: 0.9687, Precision: 0.9687879197375449, Recall: 0.9687, F1 Score: 0.968694712046046\n"
          ]
        },
        {
          "name": "stderr",
          "output_type": "stream",
          "text": [
            "100%|██████████| 938/938 [00:45<00:00, 20.75it/s, accuracy=1, loss=0.00767, lr=2.29e-5]\n"
          ]
        },
        {
          "name": "stdout",
          "output_type": "stream",
          "text": [
            "Epoch 15, Val Loss: 0.09653115774386942, Val Accuracy: 0.9691, Precision: 0.9692351033308622, Recall: 0.9691, F1 Score: 0.969094625832653\n"
          ]
        },
        {
          "name": "stderr",
          "output_type": "stream",
          "text": [
            "100%|██████████| 938/938 [00:44<00:00, 20.90it/s, accuracy=1, loss=0.013, lr=2.06e-5]\n"
          ]
        },
        {
          "name": "stdout",
          "output_type": "stream",
          "text": [
            "Epoch 16, Val Loss: 0.09921149135631016, Val Accuracy: 0.9694, Precision: 0.96948750277785, Recall: 0.9694, F1 Score: 0.9693946894476693\n"
          ]
        },
        {
          "name": "stderr",
          "output_type": "stream",
          "text": [
            "100%|██████████| 938/938 [00:45<00:00, 20.83it/s, accuracy=1, loss=0.0164, lr=1.85e-5]\n"
          ]
        },
        {
          "name": "stdout",
          "output_type": "stream",
          "text": [
            "Epoch 17, Val Loss: 0.10221115059432852, Val Accuracy: 0.9681, Precision: 0.9682681846520805, Recall: 0.9681, F1 Score: 0.968097413289502\n"
          ]
        },
        {
          "name": "stderr",
          "output_type": "stream",
          "text": [
            "100%|██████████| 938/938 [00:43<00:00, 21.32it/s, accuracy=1, loss=0.00284, lr=1.67e-5]\n"
          ]
        },
        {
          "name": "stdout",
          "output_type": "stream",
          "text": [
            "Epoch 18, Val Loss: 0.09292371761564322, Val Accuracy: 0.9705, Precision: 0.9705458258374038, Recall: 0.9705, F1 Score: 0.9704916958726537\n"
          ]
        },
        {
          "name": "stderr",
          "output_type": "stream",
          "text": [
            "100%|██████████| 938/938 [00:44<00:00, 20.90it/s, accuracy=1, loss=0.00155, lr=1.5e-5]\n"
          ]
        },
        {
          "name": "stdout",
          "output_type": "stream",
          "text": [
            "Epoch 19, Val Loss: 0.09344388641858033, Val Accuracy: 0.9717, Precision: 0.9717186282257911, Recall: 0.9717, F1 Score: 0.9716828771175618\n"
          ]
        },
        {
          "name": "stderr",
          "output_type": "stream",
          "text": [
            "100%|██████████| 938/938 [00:45<00:00, 20.78it/s, accuracy=1, loss=0.00571, lr=1.35e-5]\n"
          ]
        },
        {
          "name": "stdout",
          "output_type": "stream",
          "text": [
            "Epoch 20, Val Loss: 0.100754238650552, Val Accuracy: 0.9692, Precision: 0.9693346174285326, Recall: 0.9692, F1 Score: 0.9691664899755033\n"
          ]
        },
        {
          "name": "stderr",
          "output_type": "stream",
          "text": [
            "100%|██████████| 938/938 [00:45<00:00, 20.48it/s, accuracy=1, loss=0.000802, lr=1.22e-5]\n"
          ]
        },
        {
          "name": "stdout",
          "output_type": "stream",
          "text": [
            "Epoch 21, Val Loss: 0.09411465852764386, Val Accuracy: 0.9712, Precision: 0.9712541211719014, Recall: 0.9712, F1 Score: 0.9711860961446306\n"
          ]
        },
        {
          "name": "stderr",
          "output_type": "stream",
          "text": [
            "100%|██████████| 938/938 [00:45<00:00, 20.81it/s, accuracy=1, loss=0.00121, lr=1.09e-5]\n"
          ]
        },
        {
          "name": "stdout",
          "output_type": "stream",
          "text": [
            "Epoch 22, Val Loss: 0.09508463098868879, Val Accuracy: 0.9717, Precision: 0.9717057869321643, Recall: 0.9717, F1 Score: 0.9716787450146354\n"
          ]
        },
        {
          "name": "stderr",
          "output_type": "stream",
          "text": [
            "100%|██████████| 938/938 [00:44<00:00, 20.89it/s, accuracy=1, loss=0.000854, lr=9.85e-6]\n"
          ]
        },
        {
          "name": "stdout",
          "output_type": "stream",
          "text": [
            "Epoch 23, Val Loss: 0.09506663425801577, Val Accuracy: 0.9716, Precision: 0.9716079849857597, Recall: 0.9716, F1 Score: 0.97158120353252\n"
          ]
        },
        {
          "name": "stderr",
          "output_type": "stream",
          "text": [
            "100%|██████████| 938/938 [00:44<00:00, 21.13it/s, accuracy=1, loss=0.000985, lr=8.86e-6]\n"
          ]
        },
        {
          "name": "stdout",
          "output_type": "stream",
          "text": [
            "Epoch 24, Val Loss: 0.09709527617431689, Val Accuracy: 0.9716, Precision: 0.9716588564540752, Recall: 0.9716, F1 Score: 0.9715937861552361\n"
          ]
        },
        {
          "name": "stderr",
          "output_type": "stream",
          "text": [
            "100%|██████████| 938/938 [00:44<00:00, 21.05it/s, accuracy=1, loss=0.000717, lr=7.98e-6]\n"
          ]
        },
        {
          "name": "stdout",
          "output_type": "stream",
          "text": [
            "Epoch 25, Val Loss: 0.09539320191228179, Val Accuracy: 0.9721, Precision: 0.972117973856905, Recall: 0.9721, F1 Score: 0.9720819804951\n"
          ]
        },
        {
          "name": "stderr",
          "output_type": "stream",
          "text": [
            "100%|██████████| 938/938 [00:44<00:00, 21.08it/s, accuracy=1, loss=8.79e-5, lr=7.18e-6]\n"
          ]
        },
        {
          "name": "stdout",
          "output_type": "stream",
          "text": [
            "Epoch 26, Val Loss: 0.09771879455673313, Val Accuracy: 0.9721, Precision: 0.9721308173502416, Recall: 0.9721, F1 Score: 0.972083732314257\n"
          ]
        },
        {
          "name": "stderr",
          "output_type": "stream",
          "text": [
            "100%|██████████| 938/938 [00:44<00:00, 20.93it/s, accuracy=1, loss=0.000444, lr=6.46e-6]\n"
          ]
        },
        {
          "name": "stdout",
          "output_type": "stream",
          "text": [
            "Epoch 27, Val Loss: 0.09831222482885994, Val Accuracy: 0.9718, Precision: 0.9718167288094295, Recall: 0.9718, F1 Score: 0.9717851768088119\n"
          ]
        },
        {
          "name": "stderr",
          "output_type": "stream",
          "text": [
            "100%|██████████| 938/938 [00:44<00:00, 21.26it/s, accuracy=1, loss=0.000251, lr=5.81e-6]\n"
          ]
        },
        {
          "name": "stdout",
          "output_type": "stream",
          "text": [
            "Epoch 28, Val Loss: 0.09936974312125704, Val Accuracy: 0.9714, Precision: 0.9713901777154038, Recall: 0.9714, F1 Score: 0.9713722488945806\n"
          ]
        },
        {
          "name": "stderr",
          "output_type": "stream",
          "text": [
            "100%|██████████| 938/938 [00:45<00:00, 20.84it/s, accuracy=1, loss=0.000213, lr=5.23e-6]\n"
          ]
        },
        {
          "name": "stdout",
          "output_type": "stream",
          "text": [
            "Epoch 29, Val Loss: 0.10011130917964228, Val Accuracy: 0.9719, Precision: 0.9719106325296081, Recall: 0.9719, F1 Score: 0.9718829772247319\n"
          ]
        },
        {
          "name": "stderr",
          "output_type": "stream",
          "text": [
            "100%|██████████| 938/938 [00:44<00:00, 20.84it/s, accuracy=1, loss=0.000128, lr=4.71e-6]\n"
          ]
        },
        {
          "name": "stdout",
          "output_type": "stream",
          "text": [
            "Epoch 30, Val Loss: 0.10226487026967293, Val Accuracy: 0.9716, Precision: 0.9716259786081478, Recall: 0.9716, F1 Score: 0.9715823446823495\n"
          ]
        }
      ],
      "source": [
        "epochs = 30\n",
        "hdims = [16, 32, 64, 128, 256, 512]\n",
        "hdim_metrics = {\n",
        "    'accuracy': np.empty((6, epochs)),\n",
        "    'precision': np.empty((6, epochs)),\n",
        "    'recall': np.empty((6, epochs)),\n",
        "    'f1_score': np.empty((6, epochs)),\n",
        "}\n",
        "for h, hdim in enumerate(hdims):\n",
        "    torch.manual_seed(42)\n",
        "    # Define model\n",
        "    model = FourierKAN(layers_hidden=[28 * 28, hdim, 10], grid_size=8)\n",
        "    device = torch.device(\"cuda\" if torch.cuda.is_available() else \"cpu\")\n",
        "    model.to(device)\n",
        "    # Define optimizer\n",
        "    optimizer = optim.AdamW(model.parameters(), lr=1e-4, weight_decay=1.)\n",
        "    # Define learning rate scheduler\n",
        "    scheduler = optim.lr_scheduler.ExponentialLR(optimizer, gamma=0.9)\n",
        "\n",
        "    # Define loss\n",
        "    criterion = nn.CrossEntropyLoss()\n",
        "    for epoch in range(epochs):\n",
        "        # Train\n",
        "        model.train()\n",
        "        with tqdm(train_loader) as pbar:\n",
        "            for i, (images, labels) in enumerate(pbar):\n",
        "                images = images.view(-1, 28 * 28).to(device)\n",
        "                optimizer.zero_grad()\n",
        "                output = model(images)\n",
        "                loss = criterion(output, labels.to(device))\n",
        "                loss.backward()\n",
        "                optimizer.step()\n",
        "                accuracy = (output.argmax(dim=1) == labels.to(device)).float().mean()\n",
        "                pbar.set_postfix(loss=loss.item(), accuracy=accuracy.item(), lr=optimizer.param_groups[0]['lr'])\n",
        "\n",
        "        # Validation\n",
        "        model.eval()\n",
        "        all_preds = []\n",
        "        all_labels = []\n",
        "        val_loss = 0\n",
        "        with torch.no_grad():\n",
        "            for images, labels in val_loader:\n",
        "                images = images.view(-1, 28 * 28).to(device)\n",
        "                output = model(images)\n",
        "                val_loss += criterion(output, labels.to(device)).item()\n",
        "                preds = output.argmax(dim=1)\n",
        "                all_preds.extend(preds.cpu().numpy())\n",
        "                all_labels.extend(labels.cpu().numpy())\n",
        "\n",
        "        val_loss /= len(val_loader)\n",
        "        val_accuracy = (np.array(all_preds) == np.array(all_labels)).mean()\n",
        "        val_precision = precision_score(all_labels, all_preds, average='weighted')\n",
        "        val_recall = recall_score(all_labels, all_preds, average='weighted')\n",
        "        val_f1 = f1_score(all_labels, all_preds, average='weighted')\n",
        "\n",
        "        # Store metrics\n",
        "        hdim_metrics['accuracy'][h, epoch] = val_accuracy\n",
        "        hdim_metrics['precision'][h, epoch] = val_precision\n",
        "        hdim_metrics['recall'][h, epoch] = val_recall\n",
        "        hdim_metrics['f1_score'][h, epoch] = val_f1\n",
        "\n",
        "        # Update learning rate\n",
        "        scheduler.step()\n",
        "\n",
        "        print(\n",
        "            f\"Epoch {epoch + 1}, Val Loss: {val_loss}, \"\n",
        "            f\"Val Accuracy: {val_accuracy}, Precision: {val_precision}, \"\n",
        "            f\"Recall: {val_recall}, F1 Score: {val_f1}\"\n",
        "        )"
      ]
    },
    {
      "cell_type": "code",
      "execution_count": null,
      "metadata": {
        "colab": {
          "background_save": true
        },
        "id": "Gunpydp167BQ"
      },
      "outputs": [],
      "source": [
        "np.save('./saved_results/fourier_hdim_metrics.npy', hdim_metrics)"
      ]
    },
    {
      "cell_type": "code",
      "execution_count": null,
      "metadata": {
        "colab": {
          "background_save": true,
          "base_uri": "https://localhost:8080/"
        },
        "id": "9hvytZJwUcri",
        "outputId": "73bb8e60-b4d8-4506-f877-bbfe3f845e1c"
      },
      "outputs": [
        {
          "name": "stderr",
          "output_type": "stream",
          "text": [
            "100%|██████████| 938/938 [00:28<00:00, 32.99it/s, accuracy=0.844, loss=0.668, lr=0.0001]\n"
          ]
        },
        {
          "name": "stdout",
          "output_type": "stream",
          "text": [
            "Epoch 1, Val Loss: 0.7063552182950791, Val Accuracy: 0.8087\n"
          ]
        },
        {
          "name": "stderr",
          "output_type": "stream",
          "text": [
            "100%|██████████| 938/938 [00:22<00:00, 42.25it/s, accuracy=0.938, loss=0.322, lr=9e-5]\n"
          ]
        },
        {
          "name": "stdout",
          "output_type": "stream",
          "text": [
            "Epoch 2, Val Loss: 0.4250892712052461, Val Accuracy: 0.884\n"
          ]
        },
        {
          "name": "stderr",
          "output_type": "stream",
          "text": [
            "100%|██████████| 938/938 [00:23<00:00, 40.66it/s, accuracy=0.844, loss=0.447, lr=8.1e-5]\n"
          ]
        },
        {
          "name": "stdout",
          "output_type": "stream",
          "text": [
            "Epoch 3, Val Loss: 0.29065340683813307, Val Accuracy: 0.924\n"
          ]
        },
        {
          "name": "stderr",
          "output_type": "stream",
          "text": [
            "100%|██████████| 938/938 [00:22<00:00, 42.20it/s, accuracy=0.938, loss=0.216, lr=7.29e-5]\n"
          ]
        },
        {
          "name": "stdout",
          "output_type": "stream",
          "text": [
            "Epoch 4, Val Loss: 0.2389875963140445, Val Accuracy: 0.9317\n"
          ]
        },
        {
          "name": "stderr",
          "output_type": "stream",
          "text": [
            "100%|██████████| 938/938 [00:23<00:00, 39.31it/s, accuracy=0.906, loss=0.405, lr=6.56e-5]\n"
          ]
        },
        {
          "name": "stdout",
          "output_type": "stream",
          "text": [
            "Epoch 5, Val Loss: 0.22626981446460173, Val Accuracy: 0.9384\n"
          ]
        },
        {
          "name": "stderr",
          "output_type": "stream",
          "text": [
            "100%|██████████| 938/938 [00:22<00:00, 41.40it/s, accuracy=0.969, loss=0.16, lr=5.9e-5]\n"
          ]
        },
        {
          "name": "stdout",
          "output_type": "stream",
          "text": [
            "Epoch 6, Val Loss: 0.21087590047413377, Val Accuracy: 0.9425\n"
          ]
        },
        {
          "name": "stderr",
          "output_type": "stream",
          "text": [
            "100%|██████████| 938/938 [00:23<00:00, 40.02it/s, accuracy=0.969, loss=0.129, lr=5.31e-5]\n"
          ]
        },
        {
          "name": "stdout",
          "output_type": "stream",
          "text": [
            "Epoch 7, Val Loss: 0.20912407755044995, Val Accuracy: 0.9414\n"
          ]
        },
        {
          "name": "stderr",
          "output_type": "stream",
          "text": [
            "100%|██████████| 938/938 [00:21<00:00, 43.01it/s, accuracy=1, loss=0.0815, lr=4.78e-5]\n"
          ]
        },
        {
          "name": "stdout",
          "output_type": "stream",
          "text": [
            "Epoch 8, Val Loss: 0.1699204501654407, Val Accuracy: 0.9512\n"
          ]
        },
        {
          "name": "stderr",
          "output_type": "stream",
          "text": [
            "100%|██████████| 938/938 [00:22<00:00, 41.91it/s, accuracy=0.938, loss=0.17, lr=4.3e-5]\n"
          ]
        },
        {
          "name": "stdout",
          "output_type": "stream",
          "text": [
            "Epoch 9, Val Loss: 0.14684399445452223, Val Accuracy: 0.9552\n"
          ]
        },
        {
          "name": "stderr",
          "output_type": "stream",
          "text": [
            "100%|██████████| 938/938 [00:22<00:00, 41.67it/s, accuracy=1, loss=0.0299, lr=3.87e-5]\n"
          ]
        },
        {
          "name": "stdout",
          "output_type": "stream",
          "text": [
            "Epoch 10, Val Loss: 0.14977113390044802, Val Accuracy: 0.957\n"
          ]
        },
        {
          "name": "stderr",
          "output_type": "stream",
          "text": [
            "100%|██████████| 938/938 [00:21<00:00, 43.08it/s, accuracy=0.969, loss=0.0578, lr=3.49e-5]\n"
          ]
        },
        {
          "name": "stdout",
          "output_type": "stream",
          "text": [
            "Epoch 11, Val Loss: 0.13345290037690644, Val Accuracy: 0.9586\n"
          ]
        },
        {
          "name": "stderr",
          "output_type": "stream",
          "text": [
            "100%|██████████| 938/938 [00:23<00:00, 40.10it/s, accuracy=1, loss=0.0243, lr=3.14e-5]\n"
          ]
        },
        {
          "name": "stdout",
          "output_type": "stream",
          "text": [
            "Epoch 12, Val Loss: 0.13238333685288003, Val Accuracy: 0.9583\n"
          ]
        },
        {
          "name": "stderr",
          "output_type": "stream",
          "text": [
            "100%|██████████| 938/938 [00:21<00:00, 42.73it/s, accuracy=0.969, loss=0.0613, lr=2.82e-5]\n"
          ]
        },
        {
          "name": "stdout",
          "output_type": "stream",
          "text": [
            "Epoch 13, Val Loss: 0.12445387986539062, Val Accuracy: 0.9603\n"
          ]
        },
        {
          "name": "stderr",
          "output_type": "stream",
          "text": [
            "100%|██████████| 938/938 [00:23<00:00, 39.26it/s, accuracy=1, loss=0.012, lr=2.54e-5]\n"
          ]
        },
        {
          "name": "stdout",
          "output_type": "stream",
          "text": [
            "Epoch 14, Val Loss: 0.12804980881313444, Val Accuracy: 0.9598\n"
          ]
        },
        {
          "name": "stderr",
          "output_type": "stream",
          "text": [
            "100%|██████████| 938/938 [00:21<00:00, 43.12it/s, accuracy=1, loss=0.0127, lr=2.29e-5]\n"
          ]
        },
        {
          "name": "stdout",
          "output_type": "stream",
          "text": [
            "Epoch 15, Val Loss: 0.11814866611136385, Val Accuracy: 0.9628\n"
          ]
        },
        {
          "name": "stderr",
          "output_type": "stream",
          "text": [
            "100%|██████████| 938/938 [00:23<00:00, 40.59it/s, accuracy=1, loss=0.0153, lr=2.06e-5]\n"
          ]
        },
        {
          "name": "stdout",
          "output_type": "stream",
          "text": [
            "Epoch 16, Val Loss: 0.11576036207198467, Val Accuracy: 0.9628\n"
          ]
        },
        {
          "name": "stderr",
          "output_type": "stream",
          "text": [
            "100%|██████████| 938/938 [00:22<00:00, 41.98it/s, accuracy=1, loss=0.00697, lr=1.85e-5]\n"
          ]
        },
        {
          "name": "stdout",
          "output_type": "stream",
          "text": [
            "Epoch 17, Val Loss: 0.11571747938150267, Val Accuracy: 0.9644\n"
          ]
        },
        {
          "name": "stderr",
          "output_type": "stream",
          "text": [
            "100%|██████████| 938/938 [00:22<00:00, 42.00it/s, accuracy=1, loss=0.0129, lr=1.67e-5]\n"
          ]
        },
        {
          "name": "stdout",
          "output_type": "stream",
          "text": [
            "Epoch 18, Val Loss: 0.11348347739015474, Val Accuracy: 0.9636\n"
          ]
        },
        {
          "name": "stderr",
          "output_type": "stream",
          "text": [
            "100%|██████████| 938/938 [00:23<00:00, 39.80it/s, accuracy=1, loss=0.0257, lr=1.5e-5]\n"
          ]
        },
        {
          "name": "stdout",
          "output_type": "stream",
          "text": [
            "Epoch 19, Val Loss: 0.12349218635517321, Val Accuracy: 0.9615\n"
          ]
        },
        {
          "name": "stderr",
          "output_type": "stream",
          "text": [
            "100%|██████████| 938/938 [00:22<00:00, 42.10it/s, accuracy=1, loss=0.00146, lr=1.35e-5]\n"
          ]
        },
        {
          "name": "stdout",
          "output_type": "stream",
          "text": [
            "Epoch 20, Val Loss: 0.11156881065923531, Val Accuracy: 0.9643\n"
          ]
        },
        {
          "name": "stderr",
          "output_type": "stream",
          "text": [
            "100%|██████████| 938/938 [00:24<00:00, 38.98it/s, accuracy=1, loss=0.00456, lr=1.22e-5]\n"
          ]
        },
        {
          "name": "stdout",
          "output_type": "stream",
          "text": [
            "Epoch 21, Val Loss: 0.1111473392084935, Val Accuracy: 0.9647\n"
          ]
        },
        {
          "name": "stderr",
          "output_type": "stream",
          "text": [
            "100%|██████████| 938/938 [00:21<00:00, 42.92it/s, accuracy=1, loss=0.00286, lr=1.09e-5]\n"
          ]
        },
        {
          "name": "stdout",
          "output_type": "stream",
          "text": [
            "Epoch 22, Val Loss: 0.11178527654287299, Val Accuracy: 0.9647\n"
          ]
        },
        {
          "name": "stderr",
          "output_type": "stream",
          "text": [
            "100%|██████████| 938/938 [00:23<00:00, 40.60it/s, accuracy=1, loss=0.00443, lr=9.85e-6]\n"
          ]
        },
        {
          "name": "stdout",
          "output_type": "stream",
          "text": [
            "Epoch 23, Val Loss: 0.11098729792458101, Val Accuracy: 0.9649\n"
          ]
        },
        {
          "name": "stderr",
          "output_type": "stream",
          "text": [
            "100%|██████████| 938/938 [00:23<00:00, 40.70it/s, accuracy=1, loss=0.00256, lr=8.86e-6]\n"
          ]
        },
        {
          "name": "stdout",
          "output_type": "stream",
          "text": [
            "Epoch 24, Val Loss: 0.1118720086070095, Val Accuracy: 0.9643\n"
          ]
        },
        {
          "name": "stderr",
          "output_type": "stream",
          "text": [
            "100%|██████████| 938/938 [00:22<00:00, 41.87it/s, accuracy=1, loss=0.00215, lr=7.98e-6]\n"
          ]
        },
        {
          "name": "stdout",
          "output_type": "stream",
          "text": [
            "Epoch 25, Val Loss: 0.11294987098271973, Val Accuracy: 0.9636\n"
          ]
        },
        {
          "name": "stderr",
          "output_type": "stream",
          "text": [
            "100%|██████████| 938/938 [00:23<00:00, 40.71it/s, accuracy=1, loss=0.00118, lr=7.18e-6]\n"
          ]
        },
        {
          "name": "stdout",
          "output_type": "stream",
          "text": [
            "Epoch 26, Val Loss: 0.11344236867300458, Val Accuracy: 0.965\n"
          ]
        },
        {
          "name": "stderr",
          "output_type": "stream",
          "text": [
            "100%|██████████| 938/938 [00:21<00:00, 42.88it/s, accuracy=1, loss=0.00163, lr=6.46e-6]\n"
          ]
        },
        {
          "name": "stdout",
          "output_type": "stream",
          "text": [
            "Epoch 27, Val Loss: 0.11321494285892962, Val Accuracy: 0.9649\n"
          ]
        },
        {
          "name": "stderr",
          "output_type": "stream",
          "text": [
            "100%|██████████| 938/938 [00:23<00:00, 39.59it/s, accuracy=1, loss=0.00101, lr=5.81e-6]\n"
          ]
        },
        {
          "name": "stdout",
          "output_type": "stream",
          "text": [
            "Epoch 28, Val Loss: 0.11431852285852166, Val Accuracy: 0.9651\n"
          ]
        },
        {
          "name": "stderr",
          "output_type": "stream",
          "text": [
            "100%|██████████| 938/938 [00:21<00:00, 43.06it/s, accuracy=1, loss=0.00162, lr=5.23e-6]\n"
          ]
        },
        {
          "name": "stdout",
          "output_type": "stream",
          "text": [
            "Epoch 29, Val Loss: 0.11364420646751354, Val Accuracy: 0.9656\n"
          ]
        },
        {
          "name": "stderr",
          "output_type": "stream",
          "text": [
            "100%|██████████| 938/938 [00:23<00:00, 39.99it/s, accuracy=1, loss=0.000513, lr=4.71e-6]\n"
          ]
        },
        {
          "name": "stdout",
          "output_type": "stream",
          "text": [
            "Epoch 30, Val Loss: 0.11516616382493576, Val Accuracy: 0.9655\n"
          ]
        },
        {
          "name": "stderr",
          "output_type": "stream",
          "text": [
            "100%|██████████| 938/938 [00:23<00:00, 40.19it/s, accuracy=0.0938, loss=2.44, lr=0.0001]\n"
          ]
        },
        {
          "name": "stdout",
          "output_type": "stream",
          "text": [
            "Epoch 1, Val Loss: 2.491051151494312, Val Accuracy: 0.1036\n"
          ]
        },
        {
          "name": "stderr",
          "output_type": "stream",
          "text": [
            "100%|██████████| 938/938 [00:22<00:00, 41.64it/s, accuracy=0.188, loss=2.35, lr=9e-5]\n"
          ]
        },
        {
          "name": "stdout",
          "output_type": "stream",
          "text": [
            "Epoch 2, Val Loss: 2.3815529103491717, Val Accuracy: 0.1064\n"
          ]
        },
        {
          "name": "stderr",
          "output_type": "stream",
          "text": [
            "100%|██████████| 938/938 [00:24<00:00, 38.39it/s, accuracy=0.125, loss=2.21, lr=8.1e-5]\n"
          ]
        },
        {
          "name": "stdout",
          "output_type": "stream",
          "text": [
            "Epoch 3, Val Loss: 2.285881809368255, Val Accuracy: 0.1561\n"
          ]
        },
        {
          "name": "stderr",
          "output_type": "stream",
          "text": [
            "100%|██████████| 938/938 [00:22<00:00, 41.22it/s, accuracy=0.344, loss=1.9, lr=7.29e-5]\n"
          ]
        },
        {
          "name": "stdout",
          "output_type": "stream",
          "text": [
            "Epoch 4, Val Loss: 1.960791831563233, Val Accuracy: 0.3146\n"
          ]
        },
        {
          "name": "stderr",
          "output_type": "stream",
          "text": [
            "100%|██████████| 938/938 [00:22<00:00, 40.79it/s, accuracy=0.625, loss=1.31, lr=6.56e-5]\n"
          ]
        },
        {
          "name": "stdout",
          "output_type": "stream",
          "text": [
            "Epoch 5, Val Loss: 1.3381715678864983, Val Accuracy: 0.5615\n"
          ]
        },
        {
          "name": "stderr",
          "output_type": "stream",
          "text": [
            "100%|██████████| 938/938 [00:24<00:00, 37.80it/s, accuracy=0.812, loss=0.874, lr=5.9e-5]\n"
          ]
        },
        {
          "name": "stdout",
          "output_type": "stream",
          "text": [
            "Epoch 6, Val Loss: 0.7584591591434114, Val Accuracy: 0.7874\n"
          ]
        },
        {
          "name": "stderr",
          "output_type": "stream",
          "text": [
            "100%|██████████| 938/938 [00:22<00:00, 40.95it/s, accuracy=0.875, loss=0.482, lr=5.31e-5]\n"
          ]
        },
        {
          "name": "stdout",
          "output_type": "stream",
          "text": [
            "Epoch 7, Val Loss: 0.4590505671444213, Val Accuracy: 0.8725\n"
          ]
        },
        {
          "name": "stderr",
          "output_type": "stream",
          "text": [
            "100%|██████████| 938/938 [00:24<00:00, 38.97it/s, accuracy=0.844, loss=0.556, lr=4.78e-5]\n"
          ]
        },
        {
          "name": "stdout",
          "output_type": "stream",
          "text": [
            "Epoch 8, Val Loss: 0.3821165219518789, Val Accuracy: 0.8891\n"
          ]
        },
        {
          "name": "stderr",
          "output_type": "stream",
          "text": [
            "100%|██████████| 938/938 [00:23<00:00, 39.42it/s, accuracy=0.906, loss=0.262, lr=4.3e-5]\n"
          ]
        },
        {
          "name": "stdout",
          "output_type": "stream",
          "text": [
            "Epoch 9, Val Loss: 0.2624477843997205, Val Accuracy: 0.9248\n"
          ]
        },
        {
          "name": "stderr",
          "output_type": "stream",
          "text": [
            "100%|██████████| 938/938 [00:22<00:00, 41.03it/s, accuracy=0.969, loss=0.131, lr=3.87e-5]\n"
          ]
        },
        {
          "name": "stdout",
          "output_type": "stream",
          "text": [
            "Epoch 10, Val Loss: 0.23733874879018135, Val Accuracy: 0.9287\n"
          ]
        },
        {
          "name": "stderr",
          "output_type": "stream",
          "text": [
            "100%|██████████| 938/938 [00:24<00:00, 37.92it/s, accuracy=0.812, loss=0.321, lr=3.49e-5]\n"
          ]
        },
        {
          "name": "stdout",
          "output_type": "stream",
          "text": [
            "Epoch 11, Val Loss: 0.2084364611477514, Val Accuracy: 0.9382\n"
          ]
        },
        {
          "name": "stderr",
          "output_type": "stream",
          "text": [
            "100%|██████████| 938/938 [00:22<00:00, 41.26it/s, accuracy=0.969, loss=0.116, lr=3.14e-5]\n"
          ]
        },
        {
          "name": "stdout",
          "output_type": "stream",
          "text": [
            "Epoch 12, Val Loss: 0.19802040320221975, Val Accuracy: 0.9403\n"
          ]
        },
        {
          "name": "stderr",
          "output_type": "stream",
          "text": [
            "100%|██████████| 938/938 [00:22<00:00, 41.06it/s, accuracy=0.969, loss=0.135, lr=2.82e-5]\n"
          ]
        },
        {
          "name": "stdout",
          "output_type": "stream",
          "text": [
            "Epoch 13, Val Loss: 0.1762367317387775, Val Accuracy: 0.9484\n"
          ]
        },
        {
          "name": "stderr",
          "output_type": "stream",
          "text": [
            "100%|██████████| 938/938 [00:24<00:00, 37.70it/s, accuracy=0.938, loss=0.196, lr=2.54e-5]\n"
          ]
        },
        {
          "name": "stdout",
          "output_type": "stream",
          "text": [
            "Epoch 14, Val Loss: 0.1667345724139766, Val Accuracy: 0.9503\n"
          ]
        },
        {
          "name": "stderr",
          "output_type": "stream",
          "text": [
            "100%|██████████| 938/938 [00:22<00:00, 41.16it/s, accuracy=0.969, loss=0.188, lr=2.29e-5]\n"
          ]
        },
        {
          "name": "stdout",
          "output_type": "stream",
          "text": [
            "Epoch 15, Val Loss: 0.16054694483554952, Val Accuracy: 0.9506\n"
          ]
        },
        {
          "name": "stderr",
          "output_type": "stream",
          "text": [
            "100%|██████████| 938/938 [00:23<00:00, 39.10it/s, accuracy=1, loss=0.0359, lr=2.06e-5]\n"
          ]
        },
        {
          "name": "stdout",
          "output_type": "stream",
          "text": [
            "Epoch 16, Val Loss: 0.15162190724502372, Val Accuracy: 0.9544\n"
          ]
        },
        {
          "name": "stderr",
          "output_type": "stream",
          "text": [
            "100%|██████████| 938/938 [00:23<00:00, 39.32it/s, accuracy=1, loss=0.0134, lr=1.85e-5]\n"
          ]
        },
        {
          "name": "stdout",
          "output_type": "stream",
          "text": [
            "Epoch 17, Val Loss: 0.1481936476549288, Val Accuracy: 0.9571\n"
          ]
        },
        {
          "name": "stderr",
          "output_type": "stream",
          "text": [
            "100%|██████████| 938/938 [00:22<00:00, 41.67it/s, accuracy=1, loss=0.0214, lr=1.67e-5]\n"
          ]
        },
        {
          "name": "stdout",
          "output_type": "stream",
          "text": [
            "Epoch 18, Val Loss: 0.15298284165365444, Val Accuracy: 0.9549\n"
          ]
        },
        {
          "name": "stderr",
          "output_type": "stream",
          "text": [
            "100%|██████████| 938/938 [00:25<00:00, 37.47it/s, accuracy=1, loss=0.0333, lr=1.5e-5]\n"
          ]
        },
        {
          "name": "stdout",
          "output_type": "stream",
          "text": [
            "Epoch 19, Val Loss: 0.14921771757939392, Val Accuracy: 0.9558\n"
          ]
        },
        {
          "name": "stderr",
          "output_type": "stream",
          "text": [
            "100%|██████████| 938/938 [00:23<00:00, 39.09it/s, accuracy=0.969, loss=0.0712, lr=1.35e-5]\n"
          ]
        },
        {
          "name": "stdout",
          "output_type": "stream",
          "text": [
            "Epoch 20, Val Loss: 0.1421164526599667, Val Accuracy: 0.959\n"
          ]
        },
        {
          "name": "stderr",
          "output_type": "stream",
          "text": [
            "100%|██████████| 938/938 [00:24<00:00, 38.52it/s, accuracy=1, loss=0.0262, lr=1.22e-5]\n"
          ]
        },
        {
          "name": "stdout",
          "output_type": "stream",
          "text": [
            "Epoch 21, Val Loss: 0.15080734563303316, Val Accuracy: 0.9574\n"
          ]
        },
        {
          "name": "stderr",
          "output_type": "stream",
          "text": [
            "100%|██████████| 938/938 [00:25<00:00, 36.80it/s, accuracy=1, loss=0.016, lr=1.09e-5]\n"
          ]
        },
        {
          "name": "stdout",
          "output_type": "stream",
          "text": [
            "Epoch 22, Val Loss: 0.15146862363159527, Val Accuracy: 0.956\n"
          ]
        },
        {
          "name": "stderr",
          "output_type": "stream",
          "text": [
            "100%|██████████| 938/938 [00:23<00:00, 39.71it/s, accuracy=1, loss=0.0247, lr=9.85e-6]\n"
          ]
        },
        {
          "name": "stdout",
          "output_type": "stream",
          "text": [
            "Epoch 23, Val Loss: 0.14275701412638933, Val Accuracy: 0.9575\n"
          ]
        },
        {
          "name": "stderr",
          "output_type": "stream",
          "text": [
            "100%|██████████| 938/938 [00:23<00:00, 40.69it/s, accuracy=1, loss=0.00418, lr=8.86e-6]\n"
          ]
        },
        {
          "name": "stdout",
          "output_type": "stream",
          "text": [
            "Epoch 24, Val Loss: 0.14647305367631647, Val Accuracy: 0.9577\n"
          ]
        },
        {
          "name": "stderr",
          "output_type": "stream",
          "text": [
            "100%|██████████| 938/938 [00:26<00:00, 35.84it/s, accuracy=1, loss=0.0227, lr=7.98e-6]\n"
          ]
        },
        {
          "name": "stdout",
          "output_type": "stream",
          "text": [
            "Epoch 25, Val Loss: 0.14357132672730413, Val Accuracy: 0.9588\n"
          ]
        },
        {
          "name": "stderr",
          "output_type": "stream",
          "text": [
            "100%|██████████| 938/938 [00:24<00:00, 39.00it/s, accuracy=1, loss=0.00894, lr=7.18e-6]\n"
          ]
        },
        {
          "name": "stdout",
          "output_type": "stream",
          "text": [
            "Epoch 26, Val Loss: 0.154798868812241, Val Accuracy: 0.9581\n"
          ]
        },
        {
          "name": "stderr",
          "output_type": "stream",
          "text": [
            "100%|██████████| 938/938 [00:23<00:00, 39.74it/s, accuracy=1, loss=0.00218, lr=6.46e-6]\n"
          ]
        },
        {
          "name": "stdout",
          "output_type": "stream",
          "text": [
            "Epoch 27, Val Loss: 0.14550771715510993, Val Accuracy: 0.9597\n"
          ]
        },
        {
          "name": "stderr",
          "output_type": "stream",
          "text": [
            "100%|██████████| 938/938 [00:25<00:00, 36.80it/s, accuracy=1, loss=0.00804, lr=5.81e-6]\n"
          ]
        },
        {
          "name": "stdout",
          "output_type": "stream",
          "text": [
            "Epoch 28, Val Loss: 0.14757713334604128, Val Accuracy: 0.9593\n"
          ]
        },
        {
          "name": "stderr",
          "output_type": "stream",
          "text": [
            "100%|██████████| 938/938 [00:23<00:00, 40.40it/s, accuracy=1, loss=0.00513, lr=5.23e-6]\n"
          ]
        },
        {
          "name": "stdout",
          "output_type": "stream",
          "text": [
            "Epoch 29, Val Loss: 0.14870677356683104, Val Accuracy: 0.961\n"
          ]
        },
        {
          "name": "stderr",
          "output_type": "stream",
          "text": [
            "100%|██████████| 938/938 [00:24<00:00, 39.06it/s, accuracy=1, loss=0.00193, lr=4.71e-6]\n"
          ]
        },
        {
          "name": "stdout",
          "output_type": "stream",
          "text": [
            "Epoch 30, Val Loss: 0.14875896817839193, Val Accuracy: 0.9596\n"
          ]
        },
        {
          "name": "stderr",
          "output_type": "stream",
          "text": [
            "100%|██████████| 938/938 [00:25<00:00, 36.11it/s, accuracy=0.0625, loss=2.61, lr=0.0001]\n"
          ]
        },
        {
          "name": "stdout",
          "output_type": "stream",
          "text": [
            "Epoch 1, Val Loss: 2.494732486214607, Val Accuracy: 0.102\n"
          ]
        },
        {
          "name": "stderr",
          "output_type": "stream",
          "text": [
            "100%|██████████| 938/938 [00:23<00:00, 39.33it/s, accuracy=0.156, loss=2.32, lr=9e-5]\n"
          ]
        },
        {
          "name": "stdout",
          "output_type": "stream",
          "text": [
            "Epoch 2, Val Loss: 2.405469675732266, Val Accuracy: 0.1047\n"
          ]
        },
        {
          "name": "stderr",
          "output_type": "stream",
          "text": [
            "100%|██████████| 938/938 [00:24<00:00, 38.20it/s, accuracy=0.0938, loss=2.4, lr=8.1e-5]\n"
          ]
        },
        {
          "name": "stdout",
          "output_type": "stream",
          "text": [
            "Epoch 3, Val Loss: 2.3552995016620417, Val Accuracy: 0.104\n"
          ]
        },
        {
          "name": "stderr",
          "output_type": "stream",
          "text": [
            "100%|██████████| 938/938 [00:26<00:00, 35.52it/s, accuracy=0.0625, loss=2.28, lr=7.29e-5]\n"
          ]
        },
        {
          "name": "stdout",
          "output_type": "stream",
          "text": [
            "Epoch 4, Val Loss: 2.336204906937423, Val Accuracy: 0.1054\n"
          ]
        },
        {
          "name": "stderr",
          "output_type": "stream",
          "text": [
            "100%|██████████| 938/938 [00:24<00:00, 38.04it/s, accuracy=0.0625, loss=2.31, lr=6.56e-5]\n"
          ]
        },
        {
          "name": "stdout",
          "output_type": "stream",
          "text": [
            "Epoch 5, Val Loss: 2.315980325079268, Val Accuracy: 0.1105\n"
          ]
        },
        {
          "name": "stderr",
          "output_type": "stream",
          "text": [
            "100%|██████████| 938/938 [00:23<00:00, 39.21it/s, accuracy=0.0938, loss=2.28, lr=5.9e-5]\n"
          ]
        },
        {
          "name": "stdout",
          "output_type": "stream",
          "text": [
            "Epoch 6, Val Loss: 2.3156675867214322, Val Accuracy: 0.1031\n"
          ]
        },
        {
          "name": "stderr",
          "output_type": "stream",
          "text": [
            "100%|██████████| 938/938 [00:26<00:00, 36.02it/s, accuracy=0.0938, loss=2.34, lr=5.31e-5]\n"
          ]
        },
        {
          "name": "stdout",
          "output_type": "stream",
          "text": [
            "Epoch 7, Val Loss: 2.3040886836446774, Val Accuracy: 0.1171\n"
          ]
        },
        {
          "name": "stderr",
          "output_type": "stream",
          "text": [
            "100%|██████████| 938/938 [00:25<00:00, 36.18it/s, accuracy=0.125, loss=2.28, lr=4.78e-5]\n"
          ]
        },
        {
          "name": "stdout",
          "output_type": "stream",
          "text": [
            "Epoch 8, Val Loss: 2.3104439662520293, Val Accuracy: 0.1109\n"
          ]
        },
        {
          "name": "stderr",
          "output_type": "stream",
          "text": [
            "100%|██████████| 938/938 [00:24<00:00, 38.57it/s, accuracy=0.188, loss=2.29, lr=4.3e-5]\n"
          ]
        },
        {
          "name": "stdout",
          "output_type": "stream",
          "text": [
            "Epoch 9, Val Loss: 2.2568891989956996, Val Accuracy: 0.1637\n"
          ]
        },
        {
          "name": "stderr",
          "output_type": "stream",
          "text": [
            "100%|██████████| 938/938 [00:25<00:00, 37.06it/s, accuracy=0.312, loss=2.01, lr=3.87e-5]\n"
          ]
        },
        {
          "name": "stdout",
          "output_type": "stream",
          "text": [
            "Epoch 10, Val Loss: 1.9000870870177153, Val Accuracy: 0.2944\n"
          ]
        },
        {
          "name": "stderr",
          "output_type": "stream",
          "text": [
            "100%|██████████| 938/938 [00:25<00:00, 36.30it/s, accuracy=0.406, loss=1.58, lr=3.49e-5]\n"
          ]
        },
        {
          "name": "stdout",
          "output_type": "stream",
          "text": [
            "Epoch 11, Val Loss: 1.6383556613496915, Val Accuracy: 0.3463\n"
          ]
        },
        {
          "name": "stderr",
          "output_type": "stream",
          "text": [
            "100%|██████████| 938/938 [00:24<00:00, 38.66it/s, accuracy=0.5, loss=1.26, lr=3.14e-5]\n"
          ]
        },
        {
          "name": "stdout",
          "output_type": "stream",
          "text": [
            "Epoch 12, Val Loss: 1.3101330388123822, Val Accuracy: 0.4816\n"
          ]
        },
        {
          "name": "stderr",
          "output_type": "stream",
          "text": [
            "100%|██████████| 938/938 [00:24<00:00, 38.12it/s, accuracy=0.688, loss=0.864, lr=2.82e-5]\n"
          ]
        },
        {
          "name": "stdout",
          "output_type": "stream",
          "text": [
            "Epoch 13, Val Loss: 0.9595878750655302, Val Accuracy: 0.6557\n"
          ]
        },
        {
          "name": "stderr",
          "output_type": "stream",
          "text": [
            "100%|██████████| 938/938 [00:25<00:00, 36.28it/s, accuracy=0.719, loss=0.996, lr=2.54e-5]\n"
          ]
        },
        {
          "name": "stdout",
          "output_type": "stream",
          "text": [
            "Epoch 14, Val Loss: 0.714952656607719, Val Accuracy: 0.7777\n"
          ]
        },
        {
          "name": "stderr",
          "output_type": "stream",
          "text": [
            "100%|██████████| 938/938 [00:25<00:00, 36.66it/s, accuracy=0.812, loss=0.602, lr=2.29e-5]\n"
          ]
        },
        {
          "name": "stdout",
          "output_type": "stream",
          "text": [
            "Epoch 15, Val Loss: 0.5576253583666625, Val Accuracy: 0.8388\n"
          ]
        },
        {
          "name": "stderr",
          "output_type": "stream",
          "text": [
            "100%|██████████| 938/938 [00:24<00:00, 38.49it/s, accuracy=0.781, loss=0.448, lr=2.06e-5]\n"
          ]
        },
        {
          "name": "stdout",
          "output_type": "stream",
          "text": [
            "Epoch 16, Val Loss: 0.41815933869902494, Val Accuracy: 0.8807\n"
          ]
        },
        {
          "name": "stderr",
          "output_type": "stream",
          "text": [
            "100%|██████████| 938/938 [00:24<00:00, 38.48it/s, accuracy=0.844, loss=0.314, lr=1.85e-5]\n"
          ]
        },
        {
          "name": "stdout",
          "output_type": "stream",
          "text": [
            "Epoch 17, Val Loss: 0.4018714701768699, Val Accuracy: 0.8866\n"
          ]
        },
        {
          "name": "stderr",
          "output_type": "stream",
          "text": [
            "100%|██████████| 938/938 [00:26<00:00, 35.70it/s, accuracy=0.906, loss=0.19, lr=1.67e-5]\n"
          ]
        },
        {
          "name": "stdout",
          "output_type": "stream",
          "text": [
            "Epoch 18, Val Loss: 0.33678728935255364, Val Accuracy: 0.9044\n"
          ]
        },
        {
          "name": "stderr",
          "output_type": "stream",
          "text": [
            "100%|██████████| 938/938 [00:25<00:00, 36.14it/s, accuracy=0.906, loss=0.362, lr=1.5e-5]\n"
          ]
        },
        {
          "name": "stdout",
          "output_type": "stream",
          "text": [
            "Epoch 19, Val Loss: 0.2968395042001821, Val Accuracy: 0.9171\n"
          ]
        },
        {
          "name": "stderr",
          "output_type": "stream",
          "text": [
            "100%|██████████| 938/938 [00:24<00:00, 38.10it/s, accuracy=0.906, loss=0.52, lr=1.35e-5]\n"
          ]
        },
        {
          "name": "stdout",
          "output_type": "stream",
          "text": [
            "Epoch 20, Val Loss: 0.2903265057096056, Val Accuracy: 0.9183\n"
          ]
        },
        {
          "name": "stderr",
          "output_type": "stream",
          "text": [
            "100%|██████████| 938/938 [00:24<00:00, 38.24it/s, accuracy=0.938, loss=0.45, lr=1.22e-5]\n"
          ]
        },
        {
          "name": "stdout",
          "output_type": "stream",
          "text": [
            "Epoch 21, Val Loss: 0.27425529304773183, Val Accuracy: 0.9216\n"
          ]
        },
        {
          "name": "stderr",
          "output_type": "stream",
          "text": [
            "100%|██████████| 938/938 [00:26<00:00, 35.83it/s, accuracy=0.969, loss=0.137, lr=1.09e-5]\n"
          ]
        },
        {
          "name": "stdout",
          "output_type": "stream",
          "text": [
            "Epoch 22, Val Loss: 0.23928200932824686, Val Accuracy: 0.9326\n"
          ]
        },
        {
          "name": "stderr",
          "output_type": "stream",
          "text": [
            "100%|██████████| 938/938 [00:26<00:00, 35.73it/s, accuracy=1, loss=0.0454, lr=9.85e-6]\n"
          ]
        },
        {
          "name": "stdout",
          "output_type": "stream",
          "text": [
            "Epoch 23, Val Loss: 0.24314298105847304, Val Accuracy: 0.9291\n"
          ]
        },
        {
          "name": "stderr",
          "output_type": "stream",
          "text": [
            "100%|██████████| 938/938 [00:24<00:00, 38.46it/s, accuracy=1, loss=0.0678, lr=8.86e-6]\n"
          ]
        },
        {
          "name": "stdout",
          "output_type": "stream",
          "text": [
            "Epoch 24, Val Loss: 0.21736342814650125, Val Accuracy: 0.9378\n"
          ]
        },
        {
          "name": "stderr",
          "output_type": "stream",
          "text": [
            "100%|██████████| 938/938 [00:24<00:00, 38.81it/s, accuracy=1, loss=0.0422, lr=7.98e-6]\n"
          ]
        },
        {
          "name": "stdout",
          "output_type": "stream",
          "text": [
            "Epoch 25, Val Loss: 0.21047413724053438, Val Accuracy: 0.9394\n"
          ]
        },
        {
          "name": "stderr",
          "output_type": "stream",
          "text": [
            "100%|██████████| 938/938 [00:25<00:00, 36.18it/s, accuracy=1, loss=0.0351, lr=7.18e-6]\n"
          ]
        },
        {
          "name": "stdout",
          "output_type": "stream",
          "text": [
            "Epoch 26, Val Loss: 0.2039720398925577, Val Accuracy: 0.9419\n"
          ]
        },
        {
          "name": "stderr",
          "output_type": "stream",
          "text": [
            "100%|██████████| 938/938 [00:25<00:00, 36.95it/s, accuracy=1, loss=0.0458, lr=6.46e-6]\n"
          ]
        },
        {
          "name": "stdout",
          "output_type": "stream",
          "text": [
            "Epoch 27, Val Loss: 0.20757792461188926, Val Accuracy: 0.9401\n"
          ]
        },
        {
          "name": "stderr",
          "output_type": "stream",
          "text": [
            "100%|██████████| 938/938 [00:23<00:00, 39.40it/s, accuracy=0.938, loss=0.128, lr=5.81e-6]\n"
          ]
        },
        {
          "name": "stdout",
          "output_type": "stream",
          "text": [
            "Epoch 28, Val Loss: 0.19997971888429894, Val Accuracy: 0.9442\n"
          ]
        },
        {
          "name": "stderr",
          "output_type": "stream",
          "text": [
            "100%|██████████| 938/938 [00:23<00:00, 39.75it/s, accuracy=0.969, loss=0.0524, lr=5.23e-6]\n"
          ]
        },
        {
          "name": "stdout",
          "output_type": "stream",
          "text": [
            "Epoch 29, Val Loss: 0.19345441770852562, Val Accuracy: 0.9454\n"
          ]
        },
        {
          "name": "stderr",
          "output_type": "stream",
          "text": [
            "100%|██████████| 938/938 [00:24<00:00, 37.67it/s, accuracy=0.938, loss=0.0984, lr=4.71e-6]\n"
          ]
        },
        {
          "name": "stdout",
          "output_type": "stream",
          "text": [
            "Epoch 30, Val Loss: 0.19027732742748632, Val Accuracy: 0.9475\n"
          ]
        },
        {
          "name": "stderr",
          "output_type": "stream",
          "text": [
            "100%|██████████| 938/938 [00:25<00:00, 36.44it/s, accuracy=0.125, loss=2.53, lr=0.0001]\n"
          ]
        },
        {
          "name": "stdout",
          "output_type": "stream",
          "text": [
            "Epoch 1, Val Loss: 2.5049099603276344, Val Accuracy: 0.1027\n"
          ]
        },
        {
          "name": "stderr",
          "output_type": "stream",
          "text": [
            "100%|██████████| 938/938 [00:24<00:00, 38.33it/s, accuracy=0.0938, loss=2.39, lr=9e-5]\n"
          ]
        },
        {
          "name": "stdout",
          "output_type": "stream",
          "text": [
            "Epoch 2, Val Loss: 2.409347737670704, Val Accuracy: 0.1044\n"
          ]
        },
        {
          "name": "stderr",
          "output_type": "stream",
          "text": [
            "100%|██████████| 938/938 [00:25<00:00, 36.73it/s, accuracy=0.0312, loss=2.38, lr=8.1e-5]\n"
          ]
        },
        {
          "name": "stdout",
          "output_type": "stream",
          "text": [
            "Epoch 3, Val Loss: 2.362197057456727, Val Accuracy: 0.0964\n"
          ]
        },
        {
          "name": "stderr",
          "output_type": "stream",
          "text": [
            "100%|██████████| 938/938 [00:27<00:00, 34.22it/s, accuracy=0.0938, loss=2.24, lr=7.29e-5]\n"
          ]
        },
        {
          "name": "stdout",
          "output_type": "stream",
          "text": [
            "Epoch 4, Val Loss: 2.338941464758223, Val Accuracy: 0.1008\n"
          ]
        },
        {
          "name": "stderr",
          "output_type": "stream",
          "text": [
            "100%|██████████| 938/938 [00:27<00:00, 33.75it/s, accuracy=0.0938, loss=2.35, lr=6.56e-5]\n"
          ]
        },
        {
          "name": "stdout",
          "output_type": "stream",
          "text": [
            "Epoch 5, Val Loss: 2.3285198803919895, Val Accuracy: 0.1031\n"
          ]
        },
        {
          "name": "stderr",
          "output_type": "stream",
          "text": [
            "100%|██████████| 938/938 [00:26<00:00, 35.44it/s, accuracy=0.0625, loss=2.33, lr=5.9e-5]\n"
          ]
        },
        {
          "name": "stdout",
          "output_type": "stream",
          "text": [
            "Epoch 6, Val Loss: 2.3197249196896887, Val Accuracy: 0.0996\n"
          ]
        },
        {
          "name": "stderr",
          "output_type": "stream",
          "text": [
            "100%|██████████| 938/938 [00:24<00:00, 38.19it/s, accuracy=0.125, loss=2.28, lr=5.31e-5]\n"
          ]
        },
        {
          "name": "stdout",
          "output_type": "stream",
          "text": [
            "Epoch 7, Val Loss: 2.316375797721231, Val Accuracy: 0.1025\n"
          ]
        },
        {
          "name": "stderr",
          "output_type": "stream",
          "text": [
            "100%|██████████| 938/938 [00:24<00:00, 38.65it/s, accuracy=0.0625, loss=2.33, lr=4.78e-5]\n"
          ]
        },
        {
          "name": "stdout",
          "output_type": "stream",
          "text": [
            "Epoch 8, Val Loss: 2.311999337688373, Val Accuracy: 0.1037\n"
          ]
        },
        {
          "name": "stderr",
          "output_type": "stream",
          "text": [
            "100%|██████████| 938/938 [00:25<00:00, 36.73it/s, accuracy=0.0938, loss=2.32, lr=4.3e-5]\n"
          ]
        },
        {
          "name": "stdout",
          "output_type": "stream",
          "text": [
            "Epoch 9, Val Loss: 2.3095267654224565, Val Accuracy: 0.1035\n"
          ]
        },
        {
          "name": "stderr",
          "output_type": "stream",
          "text": [
            "100%|██████████| 938/938 [00:25<00:00, 36.32it/s, accuracy=0.125, loss=2.32, lr=3.87e-5]\n"
          ]
        },
        {
          "name": "stdout",
          "output_type": "stream",
          "text": [
            "Epoch 10, Val Loss: 2.3099901736921566, Val Accuracy: 0.1043\n"
          ]
        },
        {
          "name": "stderr",
          "output_type": "stream",
          "text": [
            "100%|██████████| 938/938 [00:24<00:00, 37.87it/s, accuracy=0.125, loss=2.27, lr=3.49e-5]\n"
          ]
        },
        {
          "name": "stdout",
          "output_type": "stream",
          "text": [
            "Epoch 11, Val Loss: 2.3087557941485364, Val Accuracy: 0.1024\n"
          ]
        },
        {
          "name": "stderr",
          "output_type": "stream",
          "text": [
            "100%|██████████| 938/938 [00:24<00:00, 39.04it/s, accuracy=0.0312, loss=2.34, lr=3.14e-5]\n"
          ]
        },
        {
          "name": "stdout",
          "output_type": "stream",
          "text": [
            "Epoch 12, Val Loss: 2.30502888503348, Val Accuracy: 0.1062\n"
          ]
        },
        {
          "name": "stderr",
          "output_type": "stream",
          "text": [
            "100%|██████████| 938/938 [00:25<00:00, 36.99it/s, accuracy=0.125, loss=2.29, lr=2.82e-5]\n"
          ]
        },
        {
          "name": "stdout",
          "output_type": "stream",
          "text": [
            "Epoch 13, Val Loss: 2.308088736928952, Val Accuracy: 0.1004\n"
          ]
        },
        {
          "name": "stderr",
          "output_type": "stream",
          "text": [
            "100%|██████████| 938/938 [00:26<00:00, 36.05it/s, accuracy=0.0625, loss=2.31, lr=2.54e-5]\n"
          ]
        },
        {
          "name": "stdout",
          "output_type": "stream",
          "text": [
            "Epoch 14, Val Loss: 2.3033951725929405, Val Accuracy: 0.113\n"
          ]
        },
        {
          "name": "stderr",
          "output_type": "stream",
          "text": [
            "100%|██████████| 938/938 [00:24<00:00, 37.56it/s, accuracy=0.156, loss=2.27, lr=2.29e-5]\n"
          ]
        },
        {
          "name": "stdout",
          "output_type": "stream",
          "text": [
            "Epoch 15, Val Loss: 2.2997437221988752, Val Accuracy: 0.1196\n"
          ]
        },
        {
          "name": "stderr",
          "output_type": "stream",
          "text": [
            "100%|██████████| 938/938 [00:24<00:00, 39.02it/s, accuracy=0.188, loss=2.28, lr=2.06e-5]\n"
          ]
        },
        {
          "name": "stdout",
          "output_type": "stream",
          "text": [
            "Epoch 16, Val Loss: 2.3002185487443474, Val Accuracy: 0.1199\n"
          ]
        },
        {
          "name": "stderr",
          "output_type": "stream",
          "text": [
            "100%|██████████| 938/938 [00:25<00:00, 36.81it/s, accuracy=0.125, loss=2.28, lr=1.85e-5]\n"
          ]
        },
        {
          "name": "stdout",
          "output_type": "stream",
          "text": [
            "Epoch 17, Val Loss: 2.285019289915729, Val Accuracy: 0.1452\n"
          ]
        },
        {
          "name": "stderr",
          "output_type": "stream",
          "text": [
            "100%|██████████| 938/938 [00:25<00:00, 36.37it/s, accuracy=0.281, loss=2.03, lr=1.67e-5]\n"
          ]
        },
        {
          "name": "stdout",
          "output_type": "stream",
          "text": [
            "Epoch 18, Val Loss: 2.084080106133868, Val Accuracy: 0.2223\n"
          ]
        },
        {
          "name": "stderr",
          "output_type": "stream",
          "text": [
            "100%|██████████| 938/938 [00:24<00:00, 37.79it/s, accuracy=0.281, loss=1.8, lr=1.5e-5]\n"
          ]
        },
        {
          "name": "stdout",
          "output_type": "stream",
          "text": [
            "Epoch 19, Val Loss: 1.8828519939616988, Val Accuracy: 0.2671\n"
          ]
        },
        {
          "name": "stderr",
          "output_type": "stream",
          "text": [
            "100%|██████████| 938/938 [00:23<00:00, 39.33it/s, accuracy=0.406, loss=1.71, lr=1.35e-5]\n"
          ]
        },
        {
          "name": "stdout",
          "output_type": "stream",
          "text": [
            "Epoch 20, Val Loss: 1.6719529522452385, Val Accuracy: 0.3207\n"
          ]
        },
        {
          "name": "stderr",
          "output_type": "stream",
          "text": [
            "100%|██████████| 938/938 [00:24<00:00, 37.53it/s, accuracy=0.375, loss=1.96, lr=1.22e-5]\n"
          ]
        },
        {
          "name": "stdout",
          "output_type": "stream",
          "text": [
            "Epoch 21, Val Loss: 1.5452706054517418, Val Accuracy: 0.3825\n"
          ]
        },
        {
          "name": "stderr",
          "output_type": "stream",
          "text": [
            "100%|██████████| 938/938 [00:26<00:00, 35.94it/s, accuracy=0.406, loss=1.47, lr=1.09e-5]\n"
          ]
        },
        {
          "name": "stdout",
          "output_type": "stream",
          "text": [
            "Epoch 22, Val Loss: 1.4312683822243077, Val Accuracy: 0.4289\n"
          ]
        },
        {
          "name": "stderr",
          "output_type": "stream",
          "text": [
            "100%|██████████| 938/938 [00:25<00:00, 36.99it/s, accuracy=0.469, loss=1.34, lr=9.85e-6]\n"
          ]
        },
        {
          "name": "stdout",
          "output_type": "stream",
          "text": [
            "Epoch 23, Val Loss: 1.3523784260840932, Val Accuracy: 0.472\n"
          ]
        },
        {
          "name": "stderr",
          "output_type": "stream",
          "text": [
            "100%|██████████| 938/938 [00:23<00:00, 39.36it/s, accuracy=0.344, loss=1.39, lr=8.86e-6]\n"
          ]
        },
        {
          "name": "stdout",
          "output_type": "stream",
          "text": [
            "Epoch 24, Val Loss: 1.2305375622336272, Val Accuracy: 0.5262\n"
          ]
        },
        {
          "name": "stderr",
          "output_type": "stream",
          "text": [
            "100%|██████████| 938/938 [00:24<00:00, 38.96it/s, accuracy=0.5, loss=1.27, lr=7.98e-6]\n"
          ]
        },
        {
          "name": "stdout",
          "output_type": "stream",
          "text": [
            "Epoch 25, Val Loss: 1.1562171703690935, Val Accuracy: 0.5601\n"
          ]
        },
        {
          "name": "stderr",
          "output_type": "stream",
          "text": [
            "100%|██████████| 938/938 [00:25<00:00, 36.56it/s, accuracy=0.75, loss=1.01, lr=7.18e-6]\n"
          ]
        },
        {
          "name": "stdout",
          "output_type": "stream",
          "text": [
            "Epoch 26, Val Loss: 1.0744577372909352, Val Accuracy: 0.6069\n"
          ]
        },
        {
          "name": "stderr",
          "output_type": "stream",
          "text": [
            "100%|██████████| 938/938 [00:26<00:00, 35.88it/s, accuracy=0.5, loss=1.05, lr=6.46e-6]\n"
          ]
        },
        {
          "name": "stdout",
          "output_type": "stream",
          "text": [
            "Epoch 27, Val Loss: 1.0131881924191857, Val Accuracy: 0.639\n"
          ]
        },
        {
          "name": "stderr",
          "output_type": "stream",
          "text": [
            "100%|██████████| 938/938 [00:23<00:00, 39.31it/s, accuracy=0.75, loss=0.913, lr=5.81e-6]\n"
          ]
        },
        {
          "name": "stdout",
          "output_type": "stream",
          "text": [
            "Epoch 28, Val Loss: 0.949599187085583, Val Accuracy: 0.662\n"
          ]
        },
        {
          "name": "stderr",
          "output_type": "stream",
          "text": [
            "100%|██████████| 938/938 [00:23<00:00, 39.10it/s, accuracy=0.656, loss=1.06, lr=5.23e-6]\n"
          ]
        },
        {
          "name": "stdout",
          "output_type": "stream",
          "text": [
            "Epoch 29, Val Loss: 0.9043705379886992, Val Accuracy: 0.6903\n"
          ]
        },
        {
          "name": "stderr",
          "output_type": "stream",
          "text": [
            "100%|██████████| 938/938 [00:25<00:00, 36.95it/s, accuracy=0.719, loss=0.668, lr=4.71e-6]\n"
          ]
        },
        {
          "name": "stdout",
          "output_type": "stream",
          "text": [
            "Epoch 30, Val Loss: 0.8524398758153248, Val Accuracy: 0.718\n"
          ]
        }
      ],
      "source": [
        "epochs = 30\n",
        "n_layers = [1, 2, 3, 4]\n",
        "nlayer_metrics = {\n",
        "    'accuracy': np.empty((4, epochs)),\n",
        "    'precision': np.empty((4, epochs)),\n",
        "    'recall': np.empty((4, epochs)),\n",
        "    'f1_score': np.empty((4, epochs)),\n",
        "}\n",
        "for h, n_layer in enumerate(n_layers):\n",
        "    torch.manual_seed(42)\n",
        "    # Define model\n",
        "    model = FourierKAN(layers_hidden=[28 * 28] + [128]*n_layer + [10], grid_size=8)\n",
        "    device = torch.device(\"cuda\" if torch.cuda.is_available() else \"cpu\")\n",
        "    model.to(device)\n",
        "    # Define optimizer\n",
        "    optimizer = optim.AdamW(model.parameters(), lr=1e-4, weight_decay=1.)\n",
        "    # Define learning rate scheduler\n",
        "    scheduler = optim.lr_scheduler.ExponentialLR(optimizer, gamma=0.9)\n",
        "\n",
        "    # Define loss\n",
        "    criterion = nn.CrossEntropyLoss()\n",
        "    for epoch in range(epochs):\n",
        "        # Train\n",
        "        model.train()\n",
        "        with tqdm(train_loader) as pbar:\n",
        "            for i, (images, labels) in enumerate(pbar):\n",
        "                images = images.view(-1, 28 * 28).to(device)\n",
        "                optimizer.zero_grad()\n",
        "                output = model(images)\n",
        "                loss = criterion(output, labels.to(device))\n",
        "                loss.backward()\n",
        "                optimizer.step()\n",
        "                accuracy = (output.argmax(dim=1) == labels.to(device)).float().mean()\n",
        "                pbar.set_postfix(loss=loss.item(), accuracy=accuracy.item(), lr=optimizer.param_groups[0]['lr'])\n",
        "\n",
        "        # Validation\n",
        "        model.eval()\n",
        "        all_preds = []\n",
        "        all_labels = []\n",
        "        val_loss = 0\n",
        "        with torch.no_grad():\n",
        "            for images, labels in val_loader:\n",
        "                images = images.view(-1, 28 * 28).to(device)\n",
        "                output = model(images)\n",
        "                val_loss += criterion(output, labels.to(device)).item()\n",
        "                preds = output.argmax(dim=1)\n",
        "                all_preds.extend(preds.cpu().numpy())\n",
        "                all_labels.extend(labels.cpu().numpy())\n",
        "\n",
        "        val_loss /= len(val_loader)\n",
        "        val_accuracy = (np.array(all_preds) == np.array(all_labels)).mean()\n",
        "        val_precision = precision_score(all_labels, all_preds, average='weighted')\n",
        "        val_recall = recall_score(all_labels, all_preds, average='weighted')\n",
        "        val_f1 = f1_score(all_labels, all_preds, average='weighted')\n",
        "\n",
        "        # Store metrics\n",
        "        nlayer_metrics['accuracy'][h, epoch] = val_accuracy\n",
        "        nlayer_metrics['precision'][h, epoch] = val_precision\n",
        "        nlayer_metrics['recall'][h, epoch] = val_recall\n",
        "        nlayer_metrics['f1_score'][h, epoch] = val_f1\n",
        "\n",
        "        # Update learning rate\n",
        "        scheduler.step()\n",
        "\n",
        "        print(\n",
        "            f\"Epoch {epoch + 1}, Val Loss: {val_loss}, Val Accuracy: {val_accuracy}\"\n",
        "        )"
      ]
    },
    {
      "cell_type": "code",
      "execution_count": null,
      "metadata": {
        "colab": {
          "background_save": true
        },
        "id": "ywyoiVCb691t"
      },
      "outputs": [],
      "source": [
        "np.save('./saved_results/fourier_layer_metrics.npy', nlayer_metrics)"
      ]
    },
    {
      "cell_type": "code",
      "execution_count": 6,
      "metadata": {
        "id": "lJho8zXO5em-"
      },
      "outputs": [],
      "source": [
        "from torch.profiler import profile, record_function, ProfilerActivity\n",
        "device = torch.device(\"cuda\" if torch.cuda.is_available() else \"cpu\")"
      ]
    },
    {
      "cell_type": "code",
      "execution_count": 7,
      "metadata": {
        "id": "AlCgt3EHOtbB"
      },
      "outputs": [],
      "source": [
        "def profile_model(model, inputs, num_runs=100):\n",
        "    total_times = []\n",
        "    for _ in range(num_runs):\n",
        "        total_time = 0\n",
        "        with profile(activities=[ProfilerActivity.CUDA], record_shapes=True) as prof:\n",
        "            model(inputs)\n",
        "\n",
        "        # Extract total CUDA time spent on 'model_inference'\n",
        "        for event in prof.key_averages():\n",
        "            total_time += event.cuda_time\n",
        "\n",
        "        total_times.append(total_time)\n",
        "    average_time = np.mean(total_times)\n",
        "    std_time = np.std(total_times)\n",
        "    print(f\"Average inference time: {average_time} microseconds +/- {std_time}\")\n",
        "    return average_time, std_time"
      ]
    },
    {
      "cell_type": "code",
      "execution_count": 8,
      "metadata": {
        "colab": {
          "base_uri": "https://localhost:8080/"
        },
        "id": "RpPdVaMb5h3B",
        "outputId": "0b92b636-87fa-41a6-a6f4-e948f95768a1"
      },
      "outputs": [
        {
          "output_type": "stream",
          "name": "stdout",
          "text": [
            "Hidden Dims: 16\n"
          ]
        },
        {
          "output_type": "stream",
          "name": "stderr",
          "text": [
            "<ipython-input-7-d37aa78eb809>:10: FutureWarning: `cuda_time` is deprecated, please use `device_time` instead.\n",
            "  total_time += event.cuda_time\n"
          ]
        },
        {
          "output_type": "stream",
          "name": "stdout",
          "text": [
            "Average inference time: 47.790049749999994 microseconds +/- 0.1392367909800007\n",
            "Hidden Dims: 32\n",
            "Average inference time: 50.335594249999986 microseconds +/- 0.11134498385395292\n",
            "Hidden Dims: 64\n",
            "Average inference time: 56.19825599999999 microseconds +/- 0.11354726918336075\n",
            "Hidden Dims: 128\n",
            "Average inference time: 69.25129575000003 microseconds +/- 0.1910046975062024\n",
            "Hidden Dims: 256\n",
            "Average inference time: 88.30248124999999 microseconds +/- 0.24689817554194018\n",
            "Hidden Dims: 512\n",
            "Average inference time: 126.77820150000001 microseconds +/- 0.1522947771519121\n"
          ]
        }
      ],
      "source": [
        "inputs = torch.randn((1, 784)).to(device)\n",
        "hdims = [16, 32, 64, 128, 256, 512]\n",
        "means = []\n",
        "stds = []\n",
        "for h in hdims:\n",
        "    model = FourierKAN(layers_hidden=[28 * 28, h, 10], grid_size=8).to(device)\n",
        "    print('Hidden Dims: %d' % h)\n",
        "    avg, std = profile_model(model, inputs, 1000)\n",
        "    means.append(avg)\n",
        "    stds.append(std)"
      ]
    },
    {
      "cell_type": "code",
      "execution_count": 9,
      "metadata": {
        "id": "argVHilIN58d"
      },
      "outputs": [],
      "source": [
        "np.save('./saved_results/fourier_scaling_mean_hdims.npy', means)\n",
        "np.save('./saved_results/fourier_scaling_std_hdims.npy', stds)"
      ]
    },
    {
      "cell_type": "code",
      "execution_count": 10,
      "metadata": {
        "colab": {
          "base_uri": "https://localhost:8080/"
        },
        "id": "ocQnoJHcSUYh",
        "outputId": "1f42febd-260b-4bac-d6b7-da5b63a4836d"
      },
      "outputs": [
        {
          "output_type": "stream",
          "name": "stdout",
          "text": [
            "Input Batch Size: 16\n"
          ]
        },
        {
          "output_type": "stream",
          "name": "stderr",
          "text": [
            "<ipython-input-7-d37aa78eb809>:10: FutureWarning: `cuda_time` is deprecated, please use `device_time` instead.\n",
            "  total_time += event.cuda_time\n"
          ]
        },
        {
          "output_type": "stream",
          "name": "stdout",
          "text": [
            "Average inference time: 190.92044850000002 microseconds +/- 0.14409671048552772\n",
            "Input Batch Size: 32\n",
            "Average inference time: 342.97200300000003 microseconds +/- 0.22171968731035682\n",
            "Input Batch Size: 64\n",
            "Average inference time: 628.6962120000001 microseconds +/- 11.176362440959107\n",
            "Input Batch Size: 128\n",
            "Average inference time: 1164.56823575 microseconds +/- 35.10362208072135\n",
            "Input Batch Size: 256\n",
            "Average inference time: 2352.4976312500003 microseconds +/- 2.9762258931759447\n",
            "Input Batch Size: 512\n",
            "Average inference time: 4717.754778750001 microseconds +/- 4.4123682091634375\n"
          ]
        }
      ],
      "source": [
        "hdims = [16, 32, 64, 128, 256, 512]\n",
        "means = []\n",
        "stds = []\n",
        "for h in hdims:\n",
        "    model = FourierKAN(layers_hidden=[28 * 28, 64, 10], grid_size=8).to(device)\n",
        "    inputs = torch.randn((h, 784)).to(device)\n",
        "    print('Input Batch Size: %d' % h)\n",
        "    avg, std = profile_model(model, inputs, 1000)\n",
        "    means.append(avg)\n",
        "    stds.append(std)"
      ]
    },
    {
      "cell_type": "code",
      "execution_count": 11,
      "metadata": {
        "id": "y1iukHgENqRN"
      },
      "outputs": [],
      "source": [
        "np.save('./saved_results/fourier_scaling_mean_batch.npy', means)\n",
        "np.save('./saved_results/fourier_scaling_std_batch.npy', stds)"
      ]
    },
    {
      "cell_type": "code",
      "execution_count": 12,
      "metadata": {
        "colab": {
          "base_uri": "https://localhost:8080/"
        },
        "id": "HZ9FGPPpg3ll",
        "outputId": "f2bd88ee-8634-4495-b5cf-76a42cd5075a"
      },
      "outputs": [
        {
          "output_type": "stream",
          "name": "stdout",
          "text": [
            "Number of Hidden Layers: 1\n"
          ]
        },
        {
          "output_type": "stream",
          "name": "stderr",
          "text": [
            "<ipython-input-7-d37aa78eb809>:10: FutureWarning: `cuda_time` is deprecated, please use `device_time` instead.\n",
            "  total_time += event.cuda_time\n"
          ]
        },
        {
          "output_type": "stream",
          "name": "stdout",
          "text": [
            "Average inference time: 50.2811605 microseconds +/- 11.008528536479783\n",
            "Number of Hidden Layers: 2\n",
            "Average inference time: 49.61591166666667 microseconds +/- 0.07979245527895706\n",
            "Number of Hidden Layers: 3\n",
            "Average inference time: 46.85499637499999 microseconds +/- 0.0530537375213529\n",
            "Number of Hidden Layers: 4\n",
            "Average inference time: 45.1002498 microseconds +/- 0.05149992873742776\n"
          ]
        }
      ],
      "source": [
        "nlayers = [1, 2, 3, 4]\n",
        "means = []\n",
        "stds = []\n",
        "for n in nlayers:\n",
        "    model = FourierKAN(layers_hidden=[28 * 28] + [64]*n +[10], grid_size=8).to(device)\n",
        "    inputs = torch.randn((1, 784)).to(device)\n",
        "    print('Number of Hidden Layers: %d' % n)\n",
        "    avg, std = profile_model(model, inputs, 1000)\n",
        "    means.append(avg)\n",
        "    stds.append(std)"
      ]
    },
    {
      "cell_type": "code",
      "execution_count": 13,
      "metadata": {
        "id": "ExHCYJ0CYnAm"
      },
      "outputs": [],
      "source": [
        "np.save('./saved_results/fourier_scaling_mean_layers.npy', means)\n",
        "np.save('./saved_results/fourier_scaling_std_layers.npy', stds)"
      ]
    },
    {
      "cell_type": "code",
      "execution_count": null,
      "metadata": {
        "id": "PWElWKT4LjHa"
      },
      "outputs": [],
      "source": []
    }
  ],
  "metadata": {
    "accelerator": "GPU",
    "colab": {
      "gpuType": "T4",
      "provenance": [],
      "mount_file_id": "1UV1ubRlmEoNQowGQw0vr6VhSSSWROkyx",
      "authorship_tag": "ABX9TyOCXCBUxooV3iHxW4XxOdqb",
      "include_colab_link": true
    },
    "kernelspec": {
      "display_name": "Python 3",
      "name": "python3"
    },
    "language_info": {
      "name": "python"
    }
  },
  "nbformat": 4,
  "nbformat_minor": 0
}